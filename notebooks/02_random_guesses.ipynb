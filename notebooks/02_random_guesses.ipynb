{
 "cells": [
  {
   "cell_type": "code",
   "execution_count": 3,
   "metadata": {},
   "outputs": [
    {
     "data": {
      "text/plain": [
       "55.18791669000562"
      ]
     },
     "execution_count": 3,
     "metadata": {},
     "output_type": "execute_result"
    }
   ],
   "source": [
    "import numpy as np\n",
    "import seaborn as sns\n",
    "import matplotlib.pyplot as plt\n",
    "from sklearn.metrics import mean_squared_error\n",
    "import warnings\n",
    "\n",
    "\n",
    "warnings.filterwarnings('ignore')\n",
    "\n",
    "rng = np.random.default_rng(seed=42)\n",
    "\n",
    "# Hidden data (you would not see this in the real challenge)\n",
    "y_test = rng.uniform(15, 150, 10000)\n",
    "y_pred = rng.uniform(15, 150, 10000)\n",
    "rmse = np.sqrt(mean_squared_error(y_test, y_pred))\n",
    "rmse"
   ]
  },
  {
   "cell_type": "code",
   "execution_count": 4,
   "metadata": {},
   "outputs": [
    {
     "data": {
      "text/plain": [
       "<Axes: ylabel='Count'>"
      ]
     },
     "execution_count": 4,
     "metadata": {},
     "output_type": "execute_result"
    },
    {
     "data": {
      "image/png": "[encoded data removed]",
      "text/plain": [
       "<Figure size 640x480 with 1 Axes>"
      ]
     },
     "metadata": {},
     "output_type": "display_data"
    }
   ],
   "source": [
    "sns.histplot(y_test)"
   ]
  },
  {
   "cell_type": "code",
   "execution_count": 5,
   "metadata": {},
   "outputs": [
    {
     "name": "stdout",
     "output_type": "stream",
     "text": [
      "Guess 1 (all 15): RMSE = 77.57425565362847\n",
      "Guess 2 (all 150): RMSE = 78.24757445961043\n",
      "Estimated mean m: 82.11141567186012\n",
      "Estimated variance sigma^2: 1513.8230267333165\n",
      "Estimated minimal RMSE (i.e. sqrt(sigma^2)): 38.907878723123886\n",
      "Guess 3 (all m_est): RMSE = 38.90787872312391\n",
      "Guess 4 (all m_est): RMSE = 38.90787872312391\n",
      "Guess 5 (all m_est): RMSE = 38.90787872312391\n"
     ]
    }
   ],
   "source": [
    "def rmse(y_true, y_pred):\n",
    "    return np.sqrt(mean_squared_error(y_true, y_pred))\n",
    "\n",
    "# ---- Guess 1: constant value of 15 ----\n",
    "guess1 = np.full(10000, 15.0)\n",
    "rmse1 = rmse(y_test, guess1)\n",
    "print(\"Guess 1 (all 15): RMSE =\", rmse1)\n",
    "\n",
    "# ---- Guess 2: constant value of 150 ----\n",
    "guess2 = np.full(10000, 150.0)\n",
    "rmse2 = rmse(y_test, guess2)\n",
    "print(\"Guess 2 (all 150): RMSE =\", rmse2)\n",
    "\n",
    "# ---- Use the two RMSE values to estimate the mean ----\n",
    "# We have: RMSE_1^2 = sigma^2 + (m - 15)^2, and RMSE_2^2 = sigma^2 + (m - 150)^2.\n",
    "# Subtracting yields:\n",
    "# RMSE_2^2 - RMSE_1^2 = (m - 150)^2 - (m - 15)^2 = -270*m + 22275\n",
    "m_est = (22275 - (rmse2**2 - rmse1**2)) / 270\n",
    "print(\"Estimated mean m:\", m_est)\n",
    "\n",
    "# ---- (Optional) Estimate sigma^2 ----\n",
    "sigma2_est = rmse1**2 - (m_est - 15)**2\n",
    "print(\"Estimated variance sigma^2:\", sigma2_est)\n",
    "print(\"Estimated minimal RMSE (i.e. sqrt(sigma^2)):\", np.sqrt(sigma2_est))\n",
    "\n",
    "# ---- Guess 3: use the estimated mean for all predictions ----\n",
    "guess3 = np.full(10000, m_est)\n",
    "rmse3 = rmse(y_test, guess3)\n",
    "print(\"Guess 3 (all m_est): RMSE =\", rmse3)\n",
    "\n",
    "# For guesses 4 and 5, you could simply resubmit guess3.\n",
    "guess4 = guess3.copy()\n",
    "rmse4 = rmse(y_test, guess4)\n",
    "print(\"Guess 4 (all m_est): RMSE =\", rmse4)\n",
    "\n",
    "guess5 = guess3.copy()\n",
    "rmse5 = rmse(y_test, guess5)\n",
    "print(\"Guess 5 (all m_est): RMSE =\", rmse5)"
   ]
  },
  {
   "cell_type": "code",
   "execution_count": 21,
   "metadata": {},
   "outputs": [
    {
     "data": {
      "text/plain": [
       "38.9083905863771"
      ]
     },
     "execution_count": 21,
     "metadata": {},
     "output_type": "execute_result"
    }
   ],
   "source": [
    "guess4 = np.array([m_est] * 9999 + [100])\n",
    "rmse(y_test, guess4)"
   ]
  },
  {
   "cell_type": "code",
   "execution_count": 23,
   "metadata": {},
   "outputs": [
    {
     "data": {
      "text/plain": [
       "38.907999091682726"
      ]
     },
     "execution_count": 23,
     "metadata": {},
     "output_type": "execute_result"
    }
   ],
   "source": [
    "guess5 = np.array([m_est] * 9999 + [70])\n",
    "rmse5 = rmse(y_test, guess5)\n",
    "rmse5"
   ]
  },
  {
   "cell_type": "code",
   "execution_count": 24,
   "metadata": {},
   "outputs": [],
   "source": [
    "import pandas as pd \n",
    "\n",
    "test_df = pd.read_csv(r'..//data//test.csv')\n",
    "train_df = pd.read_csv(r'..//data//train.csv')"
   ]
  },
  {
   "cell_type": "code",
   "execution_count": 27,
   "metadata": {},
   "outputs": [
    {
     "data": {
      "text/html": [
       "<div>\n",
       "<style scoped>\n",
       "    .dataframe tbody tr th:only-of-type {\n",
       "        vertical-align: middle;\n",
       "    }\n",
       "\n",
       "    .dataframe tbody tr th {\n",
       "        vertical-align: top;\n",
       "    }\n",
       "\n",
       "    .dataframe thead th {\n",
       "        text-align: right;\n",
       "    }\n",
       "</style>\n",
       "<table border=\"1\" class=\"dataframe\">\n",
       "  <thead>\n",
       "    <tr style=\"text-align: right;\">\n",
       "      <th></th>\n",
       "      <th>test</th>\n",
       "      <th>statistic</th>\n",
       "      <th>p_value</th>\n",
       "    </tr>\n",
       "  </thead>\n",
       "  <tbody>\n",
       "    <tr>\n",
       "      <th>id</th>\n",
       "      <td>Kolmogorov-Smirnov</td>\n",
       "      <td>1.000000</td>\n",
       "      <td>0.000000</td>\n",
       "    </tr>\n",
       "    <tr>\n",
       "      <th>Weight Capacity (kg)</th>\n",
       "      <td>Kolmogorov-Smirnov</td>\n",
       "      <td>0.002784</td>\n",
       "      <td>0.309828</td>\n",
       "    </tr>\n",
       "    <tr>\n",
       "      <th>Compartments</th>\n",
       "      <td>Kolmogorov-Smirnov</td>\n",
       "      <td>0.001257</td>\n",
       "      <td>0.991316</td>\n",
       "    </tr>\n",
       "    <tr>\n",
       "      <th>Brand</th>\n",
       "      <td>Chi-Square</td>\n",
       "      <td>0.438971</td>\n",
       "      <td>0.979164</td>\n",
       "    </tr>\n",
       "    <tr>\n",
       "      <th>Style</th>\n",
       "      <td>Chi-Square</td>\n",
       "      <td>1.926670</td>\n",
       "      <td>0.381618</td>\n",
       "    </tr>\n",
       "    <tr>\n",
       "      <th>Size</th>\n",
       "      <td>Chi-Square</td>\n",
       "      <td>0.921878</td>\n",
       "      <td>0.630691</td>\n",
       "    </tr>\n",
       "    <tr>\n",
       "      <th>Laptop Compartment</th>\n",
       "      <td>Chi-Square</td>\n",
       "      <td>0.680668</td>\n",
       "      <td>0.409357</td>\n",
       "    </tr>\n",
       "    <tr>\n",
       "      <th>Waterproof</th>\n",
       "      <td>Chi-Square</td>\n",
       "      <td>0.055313</td>\n",
       "      <td>0.814063</td>\n",
       "    </tr>\n",
       "    <tr>\n",
       "      <th>Color</th>\n",
       "      <td>Chi-Square</td>\n",
       "      <td>3.481533</td>\n",
       "      <td>0.626184</td>\n",
       "    </tr>\n",
       "    <tr>\n",
       "      <th>Material</th>\n",
       "      <td>Chi-Square</td>\n",
       "      <td>5.132527</td>\n",
       "      <td>0.162346</td>\n",
       "    </tr>\n",
       "  </tbody>\n",
       "</table>\n",
       "</div>"
      ],
      "text/plain": [
       "                                    test  statistic   p_value\n",
       "id                    Kolmogorov-Smirnov   1.000000  0.000000\n",
       "Weight Capacity (kg)  Kolmogorov-Smirnov   0.002784  0.309828\n",
       "Compartments          Kolmogorov-Smirnov   0.001257  0.991316\n",
       "Brand                         Chi-Square   0.438971  0.979164\n",
       "Style                         Chi-Square   1.926670  0.381618\n",
       "Size                          Chi-Square   0.921878  0.630691\n",
       "Laptop Compartment            Chi-Square   0.680668  0.409357\n",
       "Waterproof                    Chi-Square   0.055313  0.814063\n",
       "Color                         Chi-Square   3.481533  0.626184\n",
       "Material                      Chi-Square   5.132527  0.162346"
      ]
     },
     "execution_count": 27,
     "metadata": {},
     "output_type": "execute_result"
    }
   ],
   "source": [
    "import numpy as np\n",
    "from scipy.stats import ks_2samp, chi2_contingency\n",
    "\n",
    "# Get common features\n",
    "common_features = list(set(train_df.columns) & set(test_df.columns))\n",
    "\n",
    "# Separate numerical and categorical features\n",
    "numerical_features = [col for col in common_features if train_df[col].dtype != 'O']\n",
    "categorical_features = [col for col in common_features if train_df[col].dtype == 'O']\n",
    "\n",
    "# Run hypothesis tests\n",
    "results = {}\n",
    "\n",
    "# Kolmogorov-Smirnov Test for numerical features\n",
    "for col in numerical_features:\n",
    "    stat, p_value = ks_2samp(train_df[col].dropna(), test_df[col].dropna())\n",
    "    results[col] = {\"test\": \"Kolmogorov-Smirnov\", \"statistic\": stat, \"p_value\": p_value}\n",
    "\n",
    "# Chi-Square Test for categorical features\n",
    "for col in categorical_features:\n",
    "    train_counts = train_df[col].value_counts()\n",
    "    test_counts = test_df[col].value_counts()\n",
    "    common_categories = list(set(train_counts.index) & set(test_counts.index))\n",
    "\n",
    "    if common_categories:\n",
    "        train_freqs = train_counts.loc[common_categories].values\n",
    "        test_freqs = test_counts.loc[common_categories].values\n",
    "\n",
    "        # Ensure both arrays have the same shape\n",
    "        contingency_table = np.array([train_freqs, test_freqs])\n",
    "        stat, p_value, _, _ = chi2_contingency(contingency_table)\n",
    "        results[col] = {\"test\": \"Chi-Square\", \"statistic\": stat, \"p_value\": p_value}\n",
    "\n",
    "results_df = pd.DataFrame.from_dict(results, orient=\"index\")\n",
    "results_df"
   ]
  }
 ],
 "metadata": {
  "kernelspec": {
   "display_name": "py311",
   "language": "python",
   "name": "python3"
  },
  "language_info": {
   "codemirror_mode": {
    "name": "ipython",
    "version": 3
   },
   "file_extension": ".py",
   "mimetype": "text/x-python",
   "name": "python",
   "nbconvert_exporter": "python",
   "pygments_lexer": "ipython3",
   "version": "3.11.10"
  }
 },
 "nbformat": 4,
 "nbformat_minor": 2
}
