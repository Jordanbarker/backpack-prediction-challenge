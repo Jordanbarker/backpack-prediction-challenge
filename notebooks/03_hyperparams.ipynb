{
 "cells": [
  {
   "cell_type": "code",
   "execution_count": 31,
   "metadata": {},
   "outputs": [],
   "source": [
    "from datetime import datetime\n",
    "import logging\n",
    "import sys\n",
    "import os\n",
    "import pandas as pd \n",
    "import numpy as np\n",
    "import seaborn as sns\n",
    "import matplotlib.pyplot as plt\n",
    "from sklearn.metrics import mean_squared_error\n",
    "from sklearn.model_selection import KFold\n",
    "from sklearn.model_selection import train_test_split, cross_val_score\n",
    "import lightgbm as lgb\n",
    "import optuna\n",
    "from optuna.integration import LightGBMPruningCallback\n",
    "\n",
    "import warnings\n",
    "warnings.filterwarnings('ignore')\n",
    "\n",
    "optuna_dir = \"..//optuna\"\n",
    "\n",
    "test_df = pd.read_csv(r'..//data//test.csv')\n",
    "train_df = pd.read_csv(r'..//data//train.csv')\n",
    "train_extra_df = pd.read_csv(r'..//data//training_extra.csv')\n",
    "\n",
    "train_df = pd.concat([train_df, train_extra_df], ignore_index=True)\n",
    "\n",
    "train_df.columns = [\n",
    "    'id', 'brand', 'material', 'size', 'compartments', \n",
    "    'laptop_compartment', 'is_waterproof', 'style', 'color', \n",
    "    'weight_capacity', 'price'\n",
    "]\n",
    "test_df.columns = [\n",
    "    'id', 'brand', 'material', 'size', 'compartments', \n",
    "    'laptop_compartment', 'is_waterproof', 'style', 'color', \n",
    "    'weight_capacity',\n",
    "]\n",
    "\n",
    "cat_cols = train_df.select_dtypes(include=['object', 'category']).columns.tolist()\n",
    "\n",
    "# Convert all to be the same type\n",
    "train_df[cat_cols] = train_df[cat_cols].astype('category')\n",
    "test_df[cat_cols] = test_df[cat_cols].astype('category')\n",
    "\n",
    "target = \"price\"\n",
    "X = train_df.drop(columns=[target])\n",
    "y = train_df[target]\n",
    "\n",
    "# Only keeping important columns\n",
    "model_features = [\n",
    "    'weight_capacity', 'color', 'compartments', 'brand', 'material', 'is_waterproof'\n",
    "]\n",
    "X = X[model_features]\n",
    "\n",
    "X_train, X_valid, y_train, y_valid = train_test_split(X, y, test_size=0.2, random_state=42)\n"
   ]
  },
  {
   "cell_type": "code",
   "execution_count": 32,
   "metadata": {},
   "outputs": [
    {
     "name": "stderr",
     "output_type": "stream",
     "text": [
      "[I 2025-02-04 09:30:59,998] A new study created in RDB with name: 2025-02-04 09:30:59.314496\n"
     ]
    },
    {
     "name": "stdout",
     "output_type": "stream",
     "text": [
      "A new study created in RDB with name: 2025-02-04 09:30:59.314496\n"
     ]
    },
    {
     "name": "stderr",
     "output_type": "stream",
     "text": [
      "[I 2025-02-04 09:37:42,444] Trial 0 finished with value: 38.86869948781562 and parameters: {'num_leaves': 968, 'max_depth': 9, 'learning_rate': 0.0011665566671760525, 'n_estimators': 3672, 'min_child_samples': 196, 'subsample': 0.9530717440156706, 'colsample_bytree': 0.928390274422981, 'max_bin': 912, 'reg_alpha': 0.3518613622222736, 'reg_lambda': 5.970345448194738e-08, 'min_split_gain': 0.8549228988333699}. Best is trial 0 with value: 38.86869948781562.\n"
     ]
    },
    {
     "name": "stdout",
     "output_type": "stream",
     "text": [
      "Trial 0 finished with value: 38.86869948781562 and parameters: {'num_leaves': 968, 'max_depth': 9, 'learning_rate': 0.0011665566671760525, 'n_estimators': 3672, 'min_child_samples': 196, 'subsample': 0.9530717440156706, 'colsample_bytree': 0.928390274422981, 'max_bin': 912, 'reg_alpha': 0.3518613622222736, 'reg_lambda': 5.970345448194738e-08, 'min_split_gain': 0.8549228988333699}. Best is trial 0 with value: 38.86869948781562.\n"
     ]
    },
    {
     "name": "stderr",
     "output_type": "stream",
     "text": [
      "[I 2025-02-04 09:47:33,659] Trial 1 finished with value: 38.88870868328197 and parameters: {'num_leaves': 720, 'max_depth': 13, 'learning_rate': 0.00017031612944122965, 'n_estimators': 3949, 'min_child_samples': 131, 'subsample': 0.901330756793552, 'colsample_bytree': 0.8062240804290614, 'max_bin': 231, 'reg_alpha': 0.00722384973705176, 'reg_lambda': 1.201762108541826e-06, 'min_split_gain': 0.7907543047563852}. Best is trial 0 with value: 38.86869948781562.\n"
     ]
    },
    {
     "name": "stdout",
     "output_type": "stream",
     "text": [
      "Trial 1 finished with value: 38.88870868328197 and parameters: {'num_leaves': 720, 'max_depth': 13, 'learning_rate': 0.00017031612944122965, 'n_estimators': 3949, 'min_child_samples': 131, 'subsample': 0.901330756793552, 'colsample_bytree': 0.8062240804290614, 'max_bin': 231, 'reg_alpha': 0.00722384973705176, 'reg_lambda': 1.201762108541826e-06, 'min_split_gain': 0.7907543047563852}. Best is trial 0 with value: 38.86869948781562.\n"
     ]
    },
    {
     "name": "stderr",
     "output_type": "stream",
     "text": [
      "[I 2025-02-04 09:54:15,152] Trial 2 finished with value: 38.87841640964799 and parameters: {'num_leaves': 238, 'max_depth': 19, 'learning_rate': 0.00037958507817941796, 'n_estimators': 3725, 'min_child_samples': 80, 'subsample': 0.38282778604404033, 'colsample_bytree': 0.968995659376333, 'max_bin': 496, 'reg_alpha': 0.030961975627485205, 'reg_lambda': 4.630439481224753e-06, 'min_split_gain': 0.22499438015522552}. Best is trial 0 with value: 38.86869948781562.\n"
     ]
    },
    {
     "name": "stdout",
     "output_type": "stream",
     "text": [
      "Trial 2 finished with value: 38.87841640964799 and parameters: {'num_leaves': 238, 'max_depth': 19, 'learning_rate': 0.00037958507817941796, 'n_estimators': 3725, 'min_child_samples': 80, 'subsample': 0.38282778604404033, 'colsample_bytree': 0.968995659376333, 'max_bin': 496, 'reg_alpha': 0.030961975627485205, 'reg_lambda': 4.630439481224753e-06, 'min_split_gain': 0.22499438015522552}. Best is trial 0 with value: 38.86869948781562.\n"
     ]
    },
    {
     "name": "stderr",
     "output_type": "stream",
     "text": [
      "[I 2025-02-04 09:59:41,955] Trial 3 finished with value: 38.87987074244621 and parameters: {'num_leaves': 790, 'max_depth': 18, 'learning_rate': 0.0005403833177991146, 'n_estimators': 1933, 'min_child_samples': 151, 'subsample': 0.9361234830817586, 'colsample_bytree': 0.7728343709581095, 'max_bin': 658, 'reg_alpha': 5.1703084375178505e-05, 'reg_lambda': 0.1824974682982385, 'min_split_gain': 0.4423371318912702}. Best is trial 0 with value: 38.86869948781562.\n"
     ]
    },
    {
     "name": "stdout",
     "output_type": "stream",
     "text": [
      "Trial 3 finished with value: 38.87987074244621 and parameters: {'num_leaves': 790, 'max_depth': 18, 'learning_rate': 0.0005403833177991146, 'n_estimators': 1933, 'min_child_samples': 151, 'subsample': 0.9361234830817586, 'colsample_bytree': 0.7728343709581095, 'max_bin': 658, 'reg_alpha': 5.1703084375178505e-05, 'reg_lambda': 0.1824974682982385, 'min_split_gain': 0.4423371318912702}. Best is trial 0 with value: 38.86869948781562.\n"
     ]
    },
    {
     "name": "stderr",
     "output_type": "stream",
     "text": [
      "[I 2025-02-04 10:07:57,211] Trial 4 finished with value: 38.86827465223268 and parameters: {'num_leaves': 823, 'max_depth': 16, 'learning_rate': 0.0007393908217226909, 'n_estimators': 3805, 'min_child_samples': 169, 'subsample': 0.42745497728597714, 'colsample_bytree': 0.5693092342297854, 'max_bin': 502, 'reg_alpha': 8.403061086657146e-07, 'reg_lambda': 0.010362818207130664, 'min_split_gain': 0.440934789301832}. Best is trial 4 with value: 38.86827465223268.\n"
     ]
    },
    {
     "name": "stdout",
     "output_type": "stream",
     "text": [
      "Trial 4 finished with value: 38.86827465223268 and parameters: {'num_leaves': 823, 'max_depth': 16, 'learning_rate': 0.0007393908217226909, 'n_estimators': 3805, 'min_child_samples': 169, 'subsample': 0.42745497728597714, 'colsample_bytree': 0.5693092342297854, 'max_bin': 502, 'reg_alpha': 8.403061086657146e-07, 'reg_lambda': 0.010362818207130664, 'min_split_gain': 0.440934789301832}. Best is trial 4 with value: 38.86827465223268.\n"
     ]
    },
    {
     "name": "stderr",
     "output_type": "stream",
     "text": [
      "[I 2025-02-04 10:08:36,038] Trial 5 finished with value: 38.88522798275516 and parameters: {'num_leaves': 497, 'max_depth': 15, 'learning_rate': 0.0025512455358401077, 'n_estimators': 377, 'min_child_samples': 71, 'subsample': 0.8835288493410854, 'colsample_bytree': 0.5023981973336644, 'max_bin': 785, 'reg_alpha': 7.366533503065355e-05, 'reg_lambda': 0.0009254969734787524, 'min_split_gain': 0.20665819096997315}. Best is trial 4 with value: 38.86827465223268.\n"
     ]
    },
    {
     "name": "stdout",
     "output_type": "stream",
     "text": [
      "Trial 5 finished with value: 38.88522798275516 and parameters: {'num_leaves': 497, 'max_depth': 15, 'learning_rate': 0.0025512455358401077, 'n_estimators': 377, 'min_child_samples': 71, 'subsample': 0.8835288493410854, 'colsample_bytree': 0.5023981973336644, 'max_bin': 785, 'reg_alpha': 7.366533503065355e-05, 'reg_lambda': 0.0009254969734787524, 'min_split_gain': 0.20665819096997315}. Best is trial 4 with value: 38.86827465223268.\n"
     ]
    },
    {
     "name": "stderr",
     "output_type": "stream",
     "text": [
      "[I 2025-02-04 10:19:56,208] Trial 6 finished with value: 38.89468485343598 and parameters: {'num_leaves': 549, 'max_depth': 14, 'learning_rate': 0.00010884912383706079, 'n_estimators': 4333, 'min_child_samples': 84, 'subsample': 0.4827893682668343, 'colsample_bytree': 0.7153555793188535, 'max_bin': 615, 'reg_alpha': 2.0489260373602314e-05, 'reg_lambda': 8.136046445957518e-06, 'min_split_gain': 0.9347301157738986}. Best is trial 4 with value: 38.86827465223268.\n"
     ]
    },
    {
     "name": "stdout",
     "output_type": "stream",
     "text": [
      "Trial 6 finished with value: 38.89468485343598 and parameters: {'num_leaves': 549, 'max_depth': 14, 'learning_rate': 0.00010884912383706079, 'n_estimators': 4333, 'min_child_samples': 84, 'subsample': 0.4827893682668343, 'colsample_bytree': 0.7153555793188535, 'max_bin': 615, 'reg_alpha': 2.0489260373602314e-05, 'reg_lambda': 8.136046445957518e-06, 'min_split_gain': 0.9347301157738986}. Best is trial 4 with value: 38.86827465223268.\n"
     ]
    },
    {
     "name": "stderr",
     "output_type": "stream",
     "text": [
      "[I 2025-02-04 10:24:03,593] Trial 7 finished with value: 38.87029584487989 and parameters: {'num_leaves': 281, 'max_depth': 17, 'learning_rate': 0.0017186063870576283, 'n_estimators': 2589, 'min_child_samples': 135, 'subsample': 0.6158832944042205, 'colsample_bytree': 0.9183766320122018, 'max_bin': 381, 'reg_alpha': 0.0030179396586136604, 'reg_lambda': 0.01356789378211484, 'min_split_gain': 0.35094548634489425}. Best is trial 4 with value: 38.86827465223268.\n"
     ]
    },
    {
     "name": "stdout",
     "output_type": "stream",
     "text": [
      "Trial 7 finished with value: 38.87029584487989 and parameters: {'num_leaves': 281, 'max_depth': 17, 'learning_rate': 0.0017186063870576283, 'n_estimators': 2589, 'min_child_samples': 135, 'subsample': 0.6158832944042205, 'colsample_bytree': 0.9183766320122018, 'max_bin': 381, 'reg_alpha': 0.0030179396586136604, 'reg_lambda': 0.01356789378211484, 'min_split_gain': 0.35094548634489425}. Best is trial 4 with value: 38.86827465223268.\n"
     ]
    },
    {
     "name": "stderr",
     "output_type": "stream",
     "text": [
      "[I 2025-02-04 10:25:01,611] Trial 8 finished with value: 38.90867367041673 and parameters: {'num_leaves': 513, 'max_depth': 2, 'learning_rate': 0.00012710671626451825, 'n_estimators': 3459, 'min_child_samples': 196, 'subsample': 0.9620053723800723, 'colsample_bytree': 0.2717429128672789, 'max_bin': 518, 'reg_alpha': 1.4565693803099613, 'reg_lambda': 1.03688507307381, 'min_split_gain': 0.6754608375681604}. Best is trial 4 with value: 38.86827465223268.\n"
     ]
    },
    {
     "name": "stdout",
     "output_type": "stream",
     "text": [
      "Trial 8 finished with value: 38.90867367041673 and parameters: {'num_leaves': 513, 'max_depth': 2, 'learning_rate': 0.00012710671626451825, 'n_estimators': 3459, 'min_child_samples': 196, 'subsample': 0.9620053723800723, 'colsample_bytree': 0.2717429128672789, 'max_bin': 518, 'reg_alpha': 1.4565693803099613, 'reg_lambda': 1.03688507307381, 'min_split_gain': 0.6754608375681604}. Best is trial 4 with value: 38.86827465223268.\n"
     ]
    },
    {
     "name": "stderr",
     "output_type": "stream",
     "text": [
      "[I 2025-02-04 10:25:34,493] Trial 9 finished with value: 38.866459146727045 and parameters: {'num_leaves': 230, 'max_depth': 8, 'learning_rate': 0.01949857263974345, 'n_estimators': 2371, 'min_child_samples': 189, 'subsample': 0.8055009961960603, 'colsample_bytree': 0.7729854929203288, 'max_bin': 628, 'reg_alpha': 1.9574412807991765e-05, 'reg_lambda': 0.03867022188763582, 'min_split_gain': 0.22138665414635544}. Best is trial 9 with value: 38.866459146727045.\n"
     ]
    },
    {
     "name": "stdout",
     "output_type": "stream",
     "text": [
      "Trial 9 finished with value: 38.866459146727045 and parameters: {'num_leaves': 230, 'max_depth': 8, 'learning_rate': 0.01949857263974345, 'n_estimators': 2371, 'min_child_samples': 189, 'subsample': 0.8055009961960603, 'colsample_bytree': 0.7729854929203288, 'max_bin': 628, 'reg_alpha': 1.9574412807991765e-05, 'reg_lambda': 0.03867022188763582, 'min_split_gain': 0.22138665414635544}. Best is trial 9 with value: 38.866459146727045.\n"
     ]
    },
    {
     "name": "stderr",
     "output_type": "stream",
     "text": [
      "[I 2025-02-04 10:25:44,789] Trial 10 finished with value: 38.87693916900289 and parameters: {'num_leaves': 370, 'max_depth': 8, 'learning_rate': 0.05687365195355938, 'n_estimators': 1202, 'min_child_samples': 33, 'subsample': 0.7376315864097907, 'colsample_bytree': 0.4204648211160643, 'max_bin': 65, 'reg_alpha': 4.17279183996e-08, 'reg_lambda': 8.966903445277756, 'min_split_gain': 0.12705786371306632}. Best is trial 9 with value: 38.866459146727045.\n"
     ]
    },
    {
     "name": "stdout",
     "output_type": "stream",
     "text": [
      "Trial 10 finished with value: 38.87693916900289 and parameters: {'num_leaves': 370, 'max_depth': 8, 'learning_rate': 0.05687365195355938, 'n_estimators': 1202, 'min_child_samples': 33, 'subsample': 0.7376315864097907, 'colsample_bytree': 0.4204648211160643, 'max_bin': 65, 'reg_alpha': 4.17279183996e-08, 'reg_lambda': 8.966903445277756, 'min_split_gain': 0.12705786371306632}. Best is trial 9 with value: 38.866459146727045.\n"
     ]
    },
    {
     "name": "stderr",
     "output_type": "stream",
     "text": [
      "[I 2025-02-04 10:26:55,253] Trial 11 finished with value: 38.86097084718014 and parameters: {'num_leaves': 995, 'max_depth': 5, 'learning_rate': 0.025941768551320923, 'n_estimators': 4861, 'min_child_samples': 169, 'subsample': 0.28583150042350586, 'colsample_bytree': 0.6013954608515646, 'max_bin': 766, 'reg_alpha': 1.3723745579707794e-07, 'reg_lambda': 0.003101391106332382, 'min_split_gain': 0.5342699807342579}. Best is trial 11 with value: 38.86097084718014.\n"
     ]
    },
    {
     "name": "stdout",
     "output_type": "stream",
     "text": [
      "Trial 11 finished with value: 38.86097084718014 and parameters: {'num_leaves': 995, 'max_depth': 5, 'learning_rate': 0.025941768551320923, 'n_estimators': 4861, 'min_child_samples': 169, 'subsample': 0.28583150042350586, 'colsample_bytree': 0.6013954608515646, 'max_bin': 766, 'reg_alpha': 1.3723745579707794e-07, 'reg_lambda': 0.003101391106332382, 'min_split_gain': 0.5342699807342579}. Best is trial 11 with value: 38.86097084718014.\n"
     ]
    },
    {
     "name": "stderr",
     "output_type": "stream",
     "text": [
      "[I 2025-02-04 10:27:50,745] Trial 12 finished with value: 38.859476692893786 and parameters: {'num_leaves': 976, 'max_depth': 5, 'learning_rate': 0.03174323188288573, 'n_estimators': 2604, 'min_child_samples': 171, 'subsample': 0.28051070254264093, 'colsample_bytree': 0.669784059123594, 'max_bin': 944, 'reg_alpha': 1.104318697846806e-08, 'reg_lambda': 0.0008610193011496445, 'min_split_gain': 0.6336105643166351}. Best is trial 12 with value: 38.859476692893786.\n"
     ]
    },
    {
     "name": "stdout",
     "output_type": "stream",
     "text": [
      "Trial 12 finished with value: 38.859476692893786 and parameters: {'num_leaves': 976, 'max_depth': 5, 'learning_rate': 0.03174323188288573, 'n_estimators': 2604, 'min_child_samples': 171, 'subsample': 0.28051070254264093, 'colsample_bytree': 0.669784059123594, 'max_bin': 944, 'reg_alpha': 1.104318697846806e-08, 'reg_lambda': 0.0008610193011496445, 'min_split_gain': 0.6336105643166351}. Best is trial 12 with value: 38.859476692893786.\n"
     ]
    },
    {
     "name": "stderr",
     "output_type": "stream",
     "text": [
      "[I 2025-02-04 10:28:00,582] Trial 13 finished with value: 38.85913990339178 and parameters: {'num_leaves': 998, 'max_depth': 3, 'learning_rate': 0.31107356275636966, 'n_estimators': 2978, 'min_child_samples': 113, 'subsample': 0.25096405267849853, 'colsample_bytree': 0.6363640902980059, 'max_bin': 992, 'reg_alpha': 1.0261262494265816e-08, 'reg_lambda': 0.00019382679632106765, 'min_split_gain': 0.6191422592870404}. Best is trial 13 with value: 38.85913990339178.\n"
     ]
    },
    {
     "name": "stdout",
     "output_type": "stream",
     "text": [
      "Trial 13 finished with value: 38.85913990339178 and parameters: {'num_leaves': 998, 'max_depth': 3, 'learning_rate': 0.31107356275636966, 'n_estimators': 2978, 'min_child_samples': 113, 'subsample': 0.25096405267849853, 'colsample_bytree': 0.6363640902980059, 'max_bin': 992, 'reg_alpha': 1.0261262494265816e-08, 'reg_lambda': 0.00019382679632106765, 'min_split_gain': 0.6191422592870404}. Best is trial 13 with value: 38.85913990339178.\n"
     ]
    },
    {
     "name": "stderr",
     "output_type": "stream",
     "text": [
      "[I 2025-02-04 10:28:33,118] Trial 14 finished with value: 38.875645297707976 and parameters: {'num_leaves': 889, 'max_depth': 1, 'learning_rate': 0.47196592302938206, 'n_estimators': 3012, 'min_child_samples': 111, 'subsample': 0.26285984907336857, 'colsample_bytree': 0.656100388929439, 'max_bin': 990, 'reg_alpha': 1.1453141079821522e-08, 'reg_lambda': 6.540838324882324e-05, 'min_split_gain': 0.66872843056039}. Best is trial 13 with value: 38.85913990339178.\n"
     ]
    },
    {
     "name": "stdout",
     "output_type": "stream",
     "text": [
      "Trial 14 finished with value: 38.875645297707976 and parameters: {'num_leaves': 889, 'max_depth': 1, 'learning_rate': 0.47196592302938206, 'n_estimators': 3012, 'min_child_samples': 111, 'subsample': 0.26285984907336857, 'colsample_bytree': 0.656100388929439, 'max_bin': 990, 'reg_alpha': 1.1453141079821522e-08, 'reg_lambda': 6.540838324882324e-05, 'min_split_gain': 0.66872843056039}. Best is trial 13 with value: 38.85913990339178.\n"
     ]
    },
    {
     "name": "stderr",
     "output_type": "stream",
     "text": [
      "[I 2025-02-04 10:28:43,677] Trial 15 finished with value: 38.860636441853366 and parameters: {'num_leaves': 734, 'max_depth': 4, 'learning_rate': 0.32367949189957473, 'n_estimators': 1600, 'min_child_samples': 11, 'subsample': 0.562713103279447, 'colsample_bytree': 0.4190705020203339, 'max_bin': 877, 'reg_alpha': 1.50241410812445e-06, 'reg_lambda': 0.00010879158211679615, 'min_split_gain': 0.6584725418942206}. Best is trial 13 with value: 38.85913990339178.\n"
     ]
    },
    {
     "name": "stdout",
     "output_type": "stream",
     "text": [
      "Trial 15 finished with value: 38.860636441853366 and parameters: {'num_leaves': 734, 'max_depth': 4, 'learning_rate': 0.32367949189957473, 'n_estimators': 1600, 'min_child_samples': 11, 'subsample': 0.562713103279447, 'colsample_bytree': 0.4190705020203339, 'max_bin': 877, 'reg_alpha': 1.50241410812445e-06, 'reg_lambda': 0.00010879158211679615, 'min_split_gain': 0.6584725418942206}. Best is trial 13 with value: 38.85913990339178.\n"
     ]
    },
    {
     "name": "stderr",
     "output_type": "stream",
     "text": [
      "[I 2025-02-04 10:29:12,457] Trial 16 finished with value: 38.857979926689474 and parameters: {'num_leaves': 658, 'max_depth': 5, 'learning_rate': 0.11697533838653972, 'n_estimators': 2911, 'min_child_samples': 118, 'subsample': 0.31278666217602635, 'colsample_bytree': 0.49995486661021293, 'max_bin': 998, 'reg_alpha': 7.831317508438779e-07, 'reg_lambda': 0.00026003727552676586, 'min_split_gain': 0.5668598254443511}. Best is trial 16 with value: 38.857979926689474.\n"
     ]
    },
    {
     "name": "stdout",
     "output_type": "stream",
     "text": [
      "Trial 16 finished with value: 38.857979926689474 and parameters: {'num_leaves': 658, 'max_depth': 5, 'learning_rate': 0.11697533838653972, 'n_estimators': 2911, 'min_child_samples': 118, 'subsample': 0.31278666217602635, 'colsample_bytree': 0.49995486661021293, 'max_bin': 998, 'reg_alpha': 7.831317508438779e-07, 'reg_lambda': 0.00026003727552676586, 'min_split_gain': 0.5668598254443511}. Best is trial 16 with value: 38.857979926689474.\n"
     ]
    },
    {
     "name": "stderr",
     "output_type": "stream",
     "text": [
      "[I 2025-02-04 10:29:39,932] Trial 17 finished with value: 38.8590491064023 and parameters: {'num_leaves': 610, 'max_depth': 3, 'learning_rate': 0.16611490319021494, 'n_estimators': 2980, 'min_child_samples': 115, 'subsample': 0.3729259552734068, 'colsample_bytree': 0.4823795869986635, 'max_bin': 790, 'reg_alpha': 7.86469711788963e-07, 'reg_lambda': 6.13697390021314e-08, 'min_split_gain': 0.5517339476724074}. Best is trial 16 with value: 38.857979926689474.\n"
     ]
    },
    {
     "name": "stdout",
     "output_type": "stream",
     "text": [
      "Trial 17 finished with value: 38.8590491064023 and parameters: {'num_leaves': 610, 'max_depth': 3, 'learning_rate': 0.16611490319021494, 'n_estimators': 2980, 'min_child_samples': 115, 'subsample': 0.3729259552734068, 'colsample_bytree': 0.4823795869986635, 'max_bin': 790, 'reg_alpha': 7.86469711788963e-07, 'reg_lambda': 6.13697390021314e-08, 'min_split_gain': 0.5517339476724074}. Best is trial 16 with value: 38.857979926689474.\n"
     ]
    },
    {
     "name": "stderr",
     "output_type": "stream",
     "text": [
      "[I 2025-02-04 10:30:04,249] Trial 18 finished with value: 38.858667004676654 and parameters: {'num_leaves': 695, 'max_depth': 6, 'learning_rate': 0.10326963828227381, 'n_estimators': 627, 'min_child_samples': 59, 'subsample': 0.3889779233461973, 'colsample_bytree': 0.28715889038191966, 'max_bin': 805, 'reg_alpha': 2.7200395097416378e-06, 'reg_lambda': 1.645344722167603e-08, 'min_split_gain': 0.5050611469988678}. Best is trial 16 with value: 38.857979926689474.\n"
     ]
    },
    {
     "name": "stdout",
     "output_type": "stream",
     "text": [
      "Trial 18 finished with value: 38.858667004676654 and parameters: {'num_leaves': 695, 'max_depth': 6, 'learning_rate': 0.10326963828227381, 'n_estimators': 627, 'min_child_samples': 59, 'subsample': 0.3889779233461973, 'colsample_bytree': 0.28715889038191966, 'max_bin': 805, 'reg_alpha': 2.7200395097416378e-06, 'reg_lambda': 1.645344722167603e-08, 'min_split_gain': 0.5050611469988678}. Best is trial 16 with value: 38.857979926689474.\n"
     ]
    },
    {
     "name": "stderr",
     "output_type": "stream",
     "text": [
      "[I 2025-02-04 10:30:18,039] Trial 19 finished with value: 38.892855182165306 and parameters: {'num_leaves': 641, 'max_depth': 12, 'learning_rate': 0.005058022467005117, 'n_estimators': 161, 'min_child_samples': 49, 'subsample': 0.4901145880569001, 'colsample_bytree': 0.2543547321613658, 'max_bin': 725, 'reg_alpha': 3.7743844307305954e-06, 'reg_lambda': 1.6022342812972336e-08, 'min_split_gain': 0.3887663120191422}. Best is trial 16 with value: 38.857979926689474.\n"
     ]
    },
    {
     "name": "stdout",
     "output_type": "stream",
     "text": [
      "Trial 19 finished with value: 38.892855182165306 and parameters: {'num_leaves': 641, 'max_depth': 12, 'learning_rate': 0.005058022467005117, 'n_estimators': 161, 'min_child_samples': 49, 'subsample': 0.4901145880569001, 'colsample_bytree': 0.2543547321613658, 'max_bin': 725, 'reg_alpha': 3.7743844307305954e-06, 'reg_lambda': 1.6022342812972336e-08, 'min_split_gain': 0.3887663120191422}. Best is trial 16 with value: 38.857979926689474.\n"
     ]
    },
    {
     "name": "stderr",
     "output_type": "stream",
     "text": [
      "[I 2025-02-04 10:30:47,332] Trial 20 finished with value: 38.85813211418297 and parameters: {'num_leaves': 415, 'max_depth': 6, 'learning_rate': 0.08547920189581062, 'n_estimators': 827, 'min_child_samples': 58, 'subsample': 0.6963961233524205, 'colsample_bytree': 0.3676294239679139, 'max_bin': 856, 'reg_alpha': 0.00043497524051652324, 'reg_lambda': 5.072060057726839e-07, 'min_split_gain': 0.7409971024366071}. Best is trial 16 with value: 38.857979926689474.\n"
     ]
    },
    {
     "name": "stdout",
     "output_type": "stream",
     "text": [
      "Trial 20 finished with value: 38.85813211418297 and parameters: {'num_leaves': 415, 'max_depth': 6, 'learning_rate': 0.08547920189581062, 'n_estimators': 827, 'min_child_samples': 58, 'subsample': 0.6963961233524205, 'colsample_bytree': 0.3676294239679139, 'max_bin': 856, 'reg_alpha': 0.00043497524051652324, 'reg_lambda': 5.072060057726839e-07, 'min_split_gain': 0.7409971024366071}. Best is trial 16 with value: 38.857979926689474.\n"
     ]
    },
    {
     "name": "stderr",
     "output_type": "stream",
     "text": [
      "[I 2025-02-04 10:31:18,517] Trial 21 finished with value: 38.85768534386159 and parameters: {'num_leaves': 395, 'max_depth': 6, 'learning_rate': 0.08209138553175745, 'n_estimators': 1011, 'min_child_samples': 57, 'subsample': 0.7075222989701552, 'colsample_bytree': 0.3451939964518749, 'max_bin': 856, 'reg_alpha': 0.0005223631882194794, 'reg_lambda': 3.2211897895515186e-07, 'min_split_gain': 0.8260453384518631}. Best is trial 21 with value: 38.85768534386159.\n"
     ]
    },
    {
     "name": "stdout",
     "output_type": "stream",
     "text": [
      "Trial 21 finished with value: 38.85768534386159 and parameters: {'num_leaves': 395, 'max_depth': 6, 'learning_rate': 0.08209138553175745, 'n_estimators': 1011, 'min_child_samples': 57, 'subsample': 0.7075222989701552, 'colsample_bytree': 0.3451939964518749, 'max_bin': 856, 'reg_alpha': 0.0005223631882194794, 'reg_lambda': 3.2211897895515186e-07, 'min_split_gain': 0.8260453384518631}. Best is trial 21 with value: 38.85768534386159.\n"
     ]
    },
    {
     "name": "stderr",
     "output_type": "stream",
     "text": [
      "[I 2025-02-04 10:32:02,296] Trial 22 finished with value: 38.86527382536612 and parameters: {'num_leaves': 415, 'max_depth': 7, 'learning_rate': 0.011909012646325264, 'n_estimators': 876, 'min_child_samples': 30, 'subsample': 0.7124579148354311, 'colsample_bytree': 0.3569965950605527, 'max_bin': 869, 'reg_alpha': 0.0005707819522507245, 'reg_lambda': 4.7330163461882325e-07, 'min_split_gain': 0.750472330934738}. Best is trial 21 with value: 38.85768534386159.\n"
     ]
    },
    {
     "name": "stdout",
     "output_type": "stream",
     "text": [
      "Trial 22 finished with value: 38.86527382536612 and parameters: {'num_leaves': 415, 'max_depth': 7, 'learning_rate': 0.011909012646325264, 'n_estimators': 876, 'min_child_samples': 30, 'subsample': 0.7124579148354311, 'colsample_bytree': 0.3569965950605527, 'max_bin': 869, 'reg_alpha': 0.0005707819522507245, 'reg_lambda': 4.7330163461882325e-07, 'min_split_gain': 0.750472330934738}. Best is trial 21 with value: 38.85768534386159.\n"
     ]
    },
    {
     "name": "stderr",
     "output_type": "stream",
     "text": [
      "[I 2025-02-04 10:32:13,524] Trial 23 finished with value: 38.86306087759551 and parameters: {'num_leaves': 404, 'max_depth': 10, 'learning_rate': 0.11371244983473541, 'n_estimators': 1463, 'min_child_samples': 97, 'subsample': 0.6726112468848546, 'colsample_bytree': 0.416816578879018, 'max_bin': 865, 'reg_alpha': 0.0005009988330789179, 'reg_lambda': 1.8900010054424424e-05, 'min_split_gain': 0.912788166592088}. Best is trial 21 with value: 38.85768534386159.\n"
     ]
    },
    {
     "name": "stdout",
     "output_type": "stream",
     "text": [
      "Trial 23 finished with value: 38.86306087759551 and parameters: {'num_leaves': 404, 'max_depth': 10, 'learning_rate': 0.11371244983473541, 'n_estimators': 1463, 'min_child_samples': 97, 'subsample': 0.6726112468848546, 'colsample_bytree': 0.416816578879018, 'max_bin': 865, 'reg_alpha': 0.0005009988330789179, 'reg_lambda': 1.8900010054424424e-05, 'min_split_gain': 0.912788166592088}. Best is trial 21 with value: 38.85768534386159.\n"
     ]
    },
    {
     "name": "stderr",
     "output_type": "stream",
     "text": [
      "[I 2025-02-04 10:32:35,592] Trial 24 finished with value: 38.86046197905075 and parameters: {'num_leaves': 323, 'max_depth': 11, 'learning_rate': 0.05637936341419657, 'n_estimators': 2039, 'min_child_samples': 48, 'subsample': 0.8348261446982949, 'colsample_bytree': 0.35418082837211773, 'max_bin': 695, 'reg_alpha': 0.049116884148453416, 'reg_lambda': 9.462066841221928e-07, 'min_split_gain': 0.7672874585697357}. Best is trial 21 with value: 38.85768534386159.\n"
     ]
    },
    {
     "name": "stdout",
     "output_type": "stream",
     "text": [
      "Trial 24 finished with value: 38.86046197905075 and parameters: {'num_leaves': 323, 'max_depth': 11, 'learning_rate': 0.05637936341419657, 'n_estimators': 2039, 'min_child_samples': 48, 'subsample': 0.8348261446982949, 'colsample_bytree': 0.35418082837211773, 'max_bin': 695, 'reg_alpha': 0.049116884148453416, 'reg_lambda': 9.462066841221928e-07, 'min_split_gain': 0.7672874585697357}. Best is trial 21 with value: 38.85768534386159.\n"
     ]
    },
    {
     "name": "stderr",
     "output_type": "stream",
     "text": [
      "[I 2025-02-04 10:33:09,354] Trial 25 finished with value: 38.85772393252087 and parameters: {'num_leaves': 483, 'max_depth': 6, 'learning_rate': 0.056780017231308, 'n_estimators': 927, 'min_child_samples': 7, 'subsample': 0.6059580013883061, 'colsample_bytree': 0.5140607062631077, 'max_bin': 996, 'reg_alpha': 0.00214492711124562, 'reg_lambda': 2.693766847481869e-07, 'min_split_gain': 0.9801725539165068}. Best is trial 21 with value: 38.85768534386159.\n"
     ]
    },
    {
     "name": "stdout",
     "output_type": "stream",
     "text": [
      "Trial 25 finished with value: 38.85772393252087 and parameters: {'num_leaves': 483, 'max_depth': 6, 'learning_rate': 0.056780017231308, 'n_estimators': 927, 'min_child_samples': 7, 'subsample': 0.6059580013883061, 'colsample_bytree': 0.5140607062631077, 'max_bin': 996, 'reg_alpha': 0.00214492711124562, 'reg_lambda': 2.693766847481869e-07, 'min_split_gain': 0.9801725539165068}. Best is trial 21 with value: 38.85768534386159.\n"
     ]
    },
    {
     "name": "stderr",
     "output_type": "stream",
     "text": [
      "[I 2025-02-04 10:33:26,574] Trial 26 finished with value: 38.888416999600594 and parameters: {'num_leaves': 478, 'max_depth': 1, 'learning_rate': 0.009276850165898173, 'n_estimators': 1351, 'min_child_samples': 27, 'subsample': 0.584598292474035, 'colsample_bytree': 0.49506488465501425, 'max_bin': 999, 'reg_alpha': 0.002932085137768435, 'reg_lambda': 1.0223710961204826e-07, 'min_split_gain': 0.9818195732856819}. Best is trial 21 with value: 38.85768534386159.\n"
     ]
    },
    {
     "name": "stdout",
     "output_type": "stream",
     "text": [
      "Trial 26 finished with value: 38.888416999600594 and parameters: {'num_leaves': 478, 'max_depth': 1, 'learning_rate': 0.009276850165898173, 'n_estimators': 1351, 'min_child_samples': 27, 'subsample': 0.584598292474035, 'colsample_bytree': 0.49506488465501425, 'max_bin': 999, 'reg_alpha': 0.002932085137768435, 'reg_lambda': 1.0223710961204826e-07, 'min_split_gain': 0.9818195732856819}. Best is trial 21 with value: 38.85768534386159.\n"
     ]
    },
    {
     "name": "stderr",
     "output_type": "stream",
     "text": [
      "[I 2025-02-04 10:33:38,100] Trial 27 finished with value: 38.8599852467343 and parameters: {'num_leaves': 564, 'max_depth': 7, 'learning_rate': 0.19148183383027736, 'n_estimators': 1892, 'min_child_samples': 17, 'subsample': 0.7779270519753149, 'colsample_bytree': 0.5382981779033105, 'max_bin': 948, 'reg_alpha': 0.0637413432463429, 'reg_lambda': 2.5661693900946834e-05, 'min_split_gain': 0.8445888270637869}. Best is trial 21 with value: 38.85768534386159.\n"
     ]
    },
    {
     "name": "stdout",
     "output_type": "stream",
     "text": [
      "Trial 27 finished with value: 38.8599852467343 and parameters: {'num_leaves': 564, 'max_depth': 7, 'learning_rate': 0.19148183383027736, 'n_estimators': 1892, 'min_child_samples': 17, 'subsample': 0.7779270519753149, 'colsample_bytree': 0.5382981779033105, 'max_bin': 948, 'reg_alpha': 0.0637413432463429, 'reg_lambda': 2.5661693900946834e-05, 'min_split_gain': 0.8445888270637869}. Best is trial 21 with value: 38.85768534386159.\n"
     ]
    },
    {
     "name": "stderr",
     "output_type": "stream",
     "text": [
      "[I 2025-02-04 10:34:08,161] Trial 28 finished with value: 38.86684450294538 and parameters: {'num_leaves': 638, 'max_depth': 4, 'learning_rate': 0.03994858484174952, 'n_estimators': 998, 'min_child_samples': 10, 'subsample': 0.5145740019520035, 'colsample_bytree': 0.45521291101137606, 'max_bin': 392, 'reg_alpha': 0.00011073347848787406, 'reg_lambda': 3.639109856464257e-06, 'min_split_gain': 0.8799173031689149}. Best is trial 21 with value: 38.85768534386159.\n"
     ]
    },
    {
     "name": "stdout",
     "output_type": "stream",
     "text": [
      "Trial 28 finished with value: 38.86684450294538 and parameters: {'num_leaves': 638, 'max_depth': 4, 'learning_rate': 0.03994858484174952, 'n_estimators': 998, 'min_child_samples': 10, 'subsample': 0.5145740019520035, 'colsample_bytree': 0.45521291101137606, 'max_bin': 392, 'reg_alpha': 0.00011073347848787406, 'reg_lambda': 3.639109856464257e-06, 'min_split_gain': 0.8799173031689149}. Best is trial 21 with value: 38.85768534386159.\n"
     ]
    },
    {
     "name": "stderr",
     "output_type": "stream",
     "text": [
      "[I 2025-02-04 10:34:44,954] Trial 29 finished with value: 38.86430495279605 and parameters: {'num_leaves': 463, 'max_depth': 8, 'learning_rate': 0.01467789971034932, 'n_estimators': 528, 'min_child_samples': 90, 'subsample': 0.6561727000288513, 'colsample_bytree': 0.5489110084900223, 'max_bin': 918, 'reg_alpha': 0.002294515309864485, 'reg_lambda': 8.808505707752814e-08, 'min_split_gain': 0.9775275017341211}. Best is trial 21 with value: 38.85768534386159.\n"
     ]
    },
    {
     "name": "stdout",
     "output_type": "stream",
     "text": [
      "Trial 29 finished with value: 38.86430495279605 and parameters: {'num_leaves': 463, 'max_depth': 8, 'learning_rate': 0.01467789971034932, 'n_estimators': 528, 'min_child_samples': 90, 'subsample': 0.6561727000288513, 'colsample_bytree': 0.5489110084900223, 'max_bin': 918, 'reg_alpha': 0.002294515309864485, 'reg_lambda': 8.808505707752814e-08, 'min_split_gain': 0.9775275017341211}. Best is trial 21 with value: 38.85768534386159.\n"
     ]
    },
    {
     "name": "stderr",
     "output_type": "stream",
     "text": [
      "[I 2025-02-04 10:37:25,549] Trial 30 finished with value: 38.85919248145605 and parameters: {'num_leaves': 341, 'max_depth': 10, 'learning_rate': 0.00551297647209365, 'n_estimators': 2260, 'min_child_samples': 71, 'subsample': 0.3268672936243352, 'colsample_bytree': 0.3611258153111604, 'max_bin': 908, 'reg_alpha': 1.220758309088981, 'reg_lambda': 2.8288923375211045e-07, 'min_split_gain': 0.8598648437924572}. Best is trial 21 with value: 38.85768534386159.\n"
     ]
    },
    {
     "name": "stdout",
     "output_type": "stream",
     "text": [
      "Trial 30 finished with value: 38.85919248145605 and parameters: {'num_leaves': 341, 'max_depth': 10, 'learning_rate': 0.00551297647209365, 'n_estimators': 2260, 'min_child_samples': 71, 'subsample': 0.3268672936243352, 'colsample_bytree': 0.3611258153111604, 'max_bin': 908, 'reg_alpha': 1.220758309088981, 'reg_lambda': 2.8288923375211045e-07, 'min_split_gain': 0.8598648437924572}. Best is trial 21 with value: 38.85768534386159.\n"
     ]
    },
    {
     "name": "stderr",
     "output_type": "stream",
     "text": [
      "[I 2025-02-04 10:37:50,346] Trial 31 finished with value: 38.860070079971486 and parameters: {'num_leaves': 431, 'max_depth': 5, 'learning_rate': 0.07833743431034032, 'n_estimators': 808, 'min_child_samples': 51, 'subsample': 0.7265688702515749, 'colsample_bytree': 0.30663026499721824, 'max_bin': 838, 'reg_alpha': 0.0003795289712195022, 'reg_lambda': 2.4167146405305453e-07, 'min_split_gain': 0.7260104371361902}. Best is trial 21 with value: 38.85768534386159.\n"
     ]
    },
    {
     "name": "stdout",
     "output_type": "stream",
     "text": [
      "Trial 31 finished with value: 38.860070079971486 and parameters: {'num_leaves': 431, 'max_depth': 5, 'learning_rate': 0.07833743431034032, 'n_estimators': 808, 'min_child_samples': 51, 'subsample': 0.7265688702515749, 'colsample_bytree': 0.30663026499721824, 'max_bin': 838, 'reg_alpha': 0.0003795289712195022, 'reg_lambda': 2.4167146405305453e-07, 'min_split_gain': 0.7260104371361902}. Best is trial 21 with value: 38.85768534386159.\n"
     ]
    },
    {
     "name": "stderr",
     "output_type": "stream",
     "text": [
      "[I 2025-02-04 10:37:58,954] Trial 32 finished with value: 38.85987811182586 and parameters: {'num_leaves': 546, 'max_depth': 6, 'learning_rate': 0.16880187721325288, 'n_estimators': 211, 'min_child_samples': 68, 'subsample': 0.6835508099353618, 'colsample_bytree': 0.3923495513454174, 'max_bin': 939, 'reg_alpha': 8.016142416013032, 'reg_lambda': 2.124847147316248e-06, 'min_split_gain': 0.8129869681576679}. Best is trial 21 with value: 38.85768534386159.\n"
     ]
    },
    {
     "name": "stdout",
     "output_type": "stream",
     "text": [
      "Trial 32 finished with value: 38.85987811182586 and parameters: {'num_leaves': 546, 'max_depth': 6, 'learning_rate': 0.16880187721325288, 'n_estimators': 211, 'min_child_samples': 68, 'subsample': 0.6835508099353618, 'colsample_bytree': 0.3923495513454174, 'max_bin': 939, 'reg_alpha': 8.016142416013032, 'reg_lambda': 2.124847147316248e-06, 'min_split_gain': 0.8129869681576679}. Best is trial 21 with value: 38.85768534386159.\n"
     ]
    },
    {
     "name": "stderr",
     "output_type": "stream",
     "text": [
      "[I 2025-02-04 10:38:24,131] Trial 33 finished with value: 38.859539039820284 and parameters: {'num_leaves': 300, 'max_depth': 9, 'learning_rate': 0.05500451466584579, 'n_estimators': 1137, 'min_child_samples': 128, 'subsample': 0.6255178570579826, 'colsample_bytree': 0.338503525918179, 'max_bin': 829, 'reg_alpha': 0.021115952716371723, 'reg_lambda': 1.3253686269084409e-06, 'min_split_gain': 0.9246635965891634}. Best is trial 21 with value: 38.85768534386159.\n"
     ]
    },
    {
     "name": "stdout",
     "output_type": "stream",
     "text": [
      "Trial 33 finished with value: 38.859539039820284 and parameters: {'num_leaves': 300, 'max_depth': 9, 'learning_rate': 0.05500451466584579, 'n_estimators': 1137, 'min_child_samples': 128, 'subsample': 0.6255178570579826, 'colsample_bytree': 0.338503525918179, 'max_bin': 829, 'reg_alpha': 0.021115952716371723, 'reg_lambda': 1.3253686269084409e-06, 'min_split_gain': 0.9246635965891634}. Best is trial 21 with value: 38.85768534386159.\n"
     ]
    },
    {
     "name": "stderr",
     "output_type": "stream",
     "text": [
      "[I 2025-02-04 10:38:58,648] Trial 34 finished with value: 38.859244474026674 and parameters: {'num_leaves': 391, 'max_depth': 6, 'learning_rate': 0.08631985407956316, 'n_estimators': 1701, 'min_child_samples': 40, 'subsample': 0.5522038513692394, 'colsample_bytree': 0.4575574121758278, 'max_bin': 741, 'reg_alpha': 0.001135965007112208, 'reg_lambda': 1.3615314063997001e-08, 'min_split_gain': 0.712131954431217}. Best is trial 21 with value: 38.85768534386159.\n"
     ]
    },
    {
     "name": "stdout",
     "output_type": "stream",
     "text": [
      "Trial 34 finished with value: 38.859244474026674 and parameters: {'num_leaves': 391, 'max_depth': 6, 'learning_rate': 0.08631985407956316, 'n_estimators': 1701, 'min_child_samples': 40, 'subsample': 0.5522038513692394, 'colsample_bytree': 0.4575574121758278, 'max_bin': 741, 'reg_alpha': 0.001135965007112208, 'reg_lambda': 1.3615314063997001e-08, 'min_split_gain': 0.712131954431217}. Best is trial 21 with value: 38.85768534386159.\n"
     ]
    },
    {
     "name": "stderr",
     "output_type": "stream",
     "text": [
      "[I 2025-02-04 10:39:10,524] Trial 35 finished with value: 38.86090808065591 and parameters: {'num_leaves': 588, 'max_depth': 3, 'learning_rate': 0.22833056549946892, 'n_estimators': 3386, 'min_child_samples': 101, 'subsample': 0.765111867648663, 'colsample_bytree': 0.5791988427137986, 'max_bin': 901, 'reg_alpha': 0.008325334954185295, 'reg_lambda': 1.1623490579317767e-05, 'min_split_gain': 0.8135507249699822}. Best is trial 21 with value: 38.85768534386159.\n"
     ]
    },
    {
     "name": "stdout",
     "output_type": "stream",
     "text": [
      "Trial 35 finished with value: 38.86090808065591 and parameters: {'num_leaves': 588, 'max_depth': 3, 'learning_rate': 0.22833056549946892, 'n_estimators': 3386, 'min_child_samples': 101, 'subsample': 0.765111867648663, 'colsample_bytree': 0.5791988427137986, 'max_bin': 901, 'reg_alpha': 0.008325334954185295, 'reg_lambda': 1.1623490579317767e-05, 'min_split_gain': 0.8135507249699822}. Best is trial 21 with value: 38.85768534386159.\n"
     ]
    },
    {
     "name": "stderr",
     "output_type": "stream",
     "text": [
      "[I 2025-02-04 10:39:44,128] Trial 36 finished with value: 38.86476536110272 and parameters: {'num_leaves': 447, 'max_depth': 7, 'learning_rate': 0.034801861075266886, 'n_estimators': 685, 'min_child_samples': 137, 'subsample': 0.8607928879246609, 'colsample_bytree': 0.5190754964431337, 'max_bin': 425, 'reg_alpha': 0.0001377462275080863, 'reg_lambda': 5.946627112304281e-07, 'min_split_gain': 0.5851283130683073}. Best is trial 21 with value: 38.85768534386159.\n"
     ]
    },
    {
     "name": "stdout",
     "output_type": "stream",
     "text": [
      "Trial 36 finished with value: 38.86476536110272 and parameters: {'num_leaves': 447, 'max_depth': 7, 'learning_rate': 0.034801861075266886, 'n_estimators': 685, 'min_child_samples': 137, 'subsample': 0.8607928879246609, 'colsample_bytree': 0.5190754964431337, 'max_bin': 425, 'reg_alpha': 0.0001377462275080863, 'reg_lambda': 5.946627112304281e-07, 'min_split_gain': 0.5851283130683073}. Best is trial 21 with value: 38.85768534386159.\n"
     ]
    },
    {
     "name": "stderr",
     "output_type": "stream",
     "text": [
      "[I 2025-02-04 10:39:55,021] Trial 37 finished with value: 38.861781164281204 and parameters: {'num_leaves': 201, 'max_depth': 9, 'learning_rate': 0.13708087145597292, 'n_estimators': 4174, 'min_child_samples': 61, 'subsample': 0.4403313680169689, 'colsample_bytree': 0.4476181143939863, 'max_bin': 700, 'reg_alpha': 1.1587614435151619e-05, 'reg_lambda': 1.903402302644335e-07, 'min_split_gain': 0.4748315514723308}. Best is trial 21 with value: 38.85768534386159.\n"
     ]
    },
    {
     "name": "stdout",
     "output_type": "stream",
     "text": [
      "Trial 37 finished with value: 38.861781164281204 and parameters: {'num_leaves': 201, 'max_depth': 9, 'learning_rate': 0.13708087145597292, 'n_estimators': 4174, 'min_child_samples': 61, 'subsample': 0.4403313680169689, 'colsample_bytree': 0.4476181143939863, 'max_bin': 700, 'reg_alpha': 1.1587614435151619e-05, 'reg_lambda': 1.903402302644335e-07, 'min_split_gain': 0.4748315514723308}. Best is trial 21 with value: 38.85768534386159.\n"
     ]
    },
    {
     "name": "stderr",
     "output_type": "stream",
     "text": [
      "[I 2025-02-04 10:39:59,179] Trial 38 finished with value: 38.86145623033966 and parameters: {'num_leaves': 688, 'max_depth': 20, 'learning_rate': 0.4942782834099543, 'n_estimators': 366, 'min_child_samples': 81, 'subsample': 0.993417065874143, 'colsample_bytree': 0.3897963711907466, 'max_bin': 962, 'reg_alpha': 0.0001679530559062245, 'reg_lambda': 0.0006054947401965457, 'min_split_gain': 0.9985556642228565}. Best is trial 21 with value: 38.85768534386159.\n"
     ]
    },
    {
     "name": "stdout",
     "output_type": "stream",
     "text": [
      "Trial 38 finished with value: 38.86145623033966 and parameters: {'num_leaves': 688, 'max_depth': 20, 'learning_rate': 0.4942782834099543, 'n_estimators': 366, 'min_child_samples': 81, 'subsample': 0.993417065874143, 'colsample_bytree': 0.3897963711907466, 'max_bin': 962, 'reg_alpha': 0.0001679530559062245, 'reg_lambda': 0.0006054947401965457, 'min_split_gain': 0.9985556642228565}. Best is trial 21 with value: 38.85768534386159.\n"
     ]
    },
    {
     "name": "stderr",
     "output_type": "stream",
     "text": [
      "[I 2025-02-04 10:40:40,799] Trial 39 finished with value: 38.86838018590158 and parameters: {'num_leaves': 523, 'max_depth': 4, 'learning_rate': 0.02213010269889002, 'n_estimators': 1276, 'min_child_samples': 5, 'subsample': 0.9104538894847166, 'colsample_bytree': 0.31060105916960024, 'max_bin': 567, 'reg_alpha': 4.2545410658000796e-05, 'reg_lambda': 3.775934980586065e-06, 'min_split_gain': 0.8882089092993916}. Best is trial 21 with value: 38.85768534386159.\n"
     ]
    },
    {
     "name": "stdout",
     "output_type": "stream",
     "text": [
      "Trial 39 finished with value: 38.86838018590158 and parameters: {'num_leaves': 523, 'max_depth': 4, 'learning_rate': 0.02213010269889002, 'n_estimators': 1276, 'min_child_samples': 5, 'subsample': 0.9104538894847166, 'colsample_bytree': 0.31060105916960024, 'max_bin': 567, 'reg_alpha': 4.2545410658000796e-05, 'reg_lambda': 3.775934980586065e-06, 'min_split_gain': 0.8882089092993916}. Best is trial 21 with value: 38.85768534386159.\n"
     ]
    },
    {
     "name": "stderr",
     "output_type": "stream",
     "text": [
      "[I 2025-02-04 10:40:57,923] Trial 40 finished with value: 38.873040322713926 and parameters: {'num_leaves': 826, 'max_depth': 2, 'learning_rate': 0.26898005163957905, 'n_estimators': 1826, 'min_child_samples': 122, 'subsample': 0.5299053740646456, 'colsample_bytree': 0.4807218961331141, 'max_bin': 217, 'reg_alpha': 0.20952823955158703, 'reg_lambda': 3.426457518434951e-08, 'min_split_gain': 0.318661183690333}. Best is trial 21 with value: 38.85768534386159.\n"
     ]
    },
    {
     "name": "stdout",
     "output_type": "stream",
     "text": [
      "Trial 40 finished with value: 38.873040322713926 and parameters: {'num_leaves': 826, 'max_depth': 2, 'learning_rate': 0.26898005163957905, 'n_estimators': 1826, 'min_child_samples': 122, 'subsample': 0.5299053740646456, 'colsample_bytree': 0.4807218961331141, 'max_bin': 217, 'reg_alpha': 0.20952823955158703, 'reg_lambda': 3.426457518434951e-08, 'min_split_gain': 0.318661183690333}. Best is trial 21 with value: 38.85768534386159.\n"
     ]
    },
    {
     "name": "stderr",
     "output_type": "stream",
     "text": [
      "[I 2025-02-04 10:41:24,372] Trial 41 finished with value: 38.857672345279454 and parameters: {'num_leaves': 719, 'max_depth': 6, 'learning_rate': 0.09409624916126028, 'n_estimators': 614, 'min_child_samples': 59, 'subsample': 0.3654793168742932, 'colsample_bytree': 0.2906410883004974, 'max_bin': 806, 'reg_alpha': 4.1967286914904665e-07, 'reg_lambda': 1.0116316385153158e-08, 'min_split_gain': 0.4847596143788683}. Best is trial 41 with value: 38.857672345279454.\n"
     ]
    },
    {
     "name": "stdout",
     "output_type": "stream",
     "text": [
      "Trial 41 finished with value: 38.857672345279454 and parameters: {'num_leaves': 719, 'max_depth': 6, 'learning_rate': 0.09409624916126028, 'n_estimators': 614, 'min_child_samples': 59, 'subsample': 0.3654793168742932, 'colsample_bytree': 0.2906410883004974, 'max_bin': 806, 'reg_alpha': 4.1967286914904665e-07, 'reg_lambda': 1.0116316385153158e-08, 'min_split_gain': 0.4847596143788683}. Best is trial 41 with value: 38.857672345279454.\n"
     ]
    },
    {
     "name": "stderr",
     "output_type": "stream",
     "text": [
      "[I 2025-02-04 10:42:11,393] Trial 42 finished with value: 38.8585604941117 and parameters: {'num_leaves': 745, 'max_depth': 6, 'learning_rate': 0.07047293024617386, 'n_estimators': 982, 'min_child_samples': 19, 'subsample': 0.32672003883024775, 'colsample_bytree': 0.32513167499417406, 'max_bin': 838, 'reg_alpha': 2.814183598439097e-07, 'reg_lambda': 3.470647455940751e-08, 'min_split_gain': 0.4177982313848039}. Best is trial 41 with value: 38.857672345279454.\n"
     ]
    },
    {
     "name": "stdout",
     "output_type": "stream",
     "text": [
      "Trial 42 finished with value: 38.8585604941117 and parameters: {'num_leaves': 745, 'max_depth': 6, 'learning_rate': 0.07047293024617386, 'n_estimators': 982, 'min_child_samples': 19, 'subsample': 0.32672003883024775, 'colsample_bytree': 0.32513167499417406, 'max_bin': 838, 'reg_alpha': 2.814183598439097e-07, 'reg_lambda': 3.470647455940751e-08, 'min_split_gain': 0.4177982313848039}. Best is trial 41 with value: 38.857672345279454.\n"
     ]
    },
    {
     "name": "stderr",
     "output_type": "stream",
     "text": [
      "[I 2025-02-04 10:42:33,646] Trial 43 finished with value: 38.909710290914354 and parameters: {'num_leaves': 356, 'max_depth': 5, 'learning_rate': 0.0003409672164816281, 'n_estimators': 390, 'min_child_samples': 144, 'subsample': 0.6071133079887524, 'colsample_bytree': 0.8920508568632626, 'max_bin': 649, 'reg_alpha': 6.9631791343018635e-06, 'reg_lambda': 1.2369431410223732e-07, 'min_split_gain': 0.5939491995990679}. Best is trial 41 with value: 38.857672345279454.\n"
     ]
    },
    {
     "name": "stdout",
     "output_type": "stream",
     "text": [
      "Trial 43 finished with value: 38.909710290914354 and parameters: {'num_leaves': 356, 'max_depth': 5, 'learning_rate': 0.0003409672164816281, 'n_estimators': 390, 'min_child_samples': 144, 'subsample': 0.6071133079887524, 'colsample_bytree': 0.8920508568632626, 'max_bin': 649, 'reg_alpha': 6.9631791343018635e-06, 'reg_lambda': 1.2369431410223732e-07, 'min_split_gain': 0.5939491995990679}. Best is trial 41 with value: 38.857672345279454.\n"
     ]
    },
    {
     "name": "stderr",
     "output_type": "stream",
     "text": [
      "[I 2025-02-04 10:43:10,998] Trial 44 finished with value: 38.85833960879142 and parameters: {'num_leaves': 663, 'max_depth': 8, 'learning_rate': 0.05103285698569459, 'n_estimators': 612, 'min_child_samples': 90, 'subsample': 0.4346850424525287, 'colsample_bytree': 0.2541311995716904, 'max_bin': 889, 'reg_alpha': 0.009229134463947245, 'reg_lambda': 3.845757857457311e-05, 'min_split_gain': 0.32820772657964686}. Best is trial 41 with value: 38.857672345279454.\n"
     ]
    },
    {
     "name": "stdout",
     "output_type": "stream",
     "text": [
      "Trial 44 finished with value: 38.85833960879142 and parameters: {'num_leaves': 663, 'max_depth': 8, 'learning_rate': 0.05103285698569459, 'n_estimators': 612, 'min_child_samples': 90, 'subsample': 0.4346850424525287, 'colsample_bytree': 0.2541311995716904, 'max_bin': 889, 'reg_alpha': 0.009229134463947245, 'reg_lambda': 3.845757857457311e-05, 'min_split_gain': 0.32820772657964686}. Best is trial 41 with value: 38.857672345279454.\n"
     ]
    },
    {
     "name": "stderr",
     "output_type": "stream",
     "text": [
      "[I 2025-02-04 10:43:31,014] Trial 45 finished with value: 38.86142548948405 and parameters: {'num_leaves': 876, 'max_depth': 7, 'learning_rate': 0.11737707066119164, 'n_estimators': 2768, 'min_child_samples': 39, 'subsample': 0.324252050209902, 'colsample_bytree': 0.3821121455800173, 'max_bin': 592, 'reg_alpha': 8.705743553345164e-08, 'reg_lambda': 0.1723248727211939, 'min_split_gain': 0.7105876671597566}. Best is trial 41 with value: 38.857672345279454.\n"
     ]
    },
    {
     "name": "stdout",
     "output_type": "stream",
     "text": [
      "Trial 45 finished with value: 38.86142548948405 and parameters: {'num_leaves': 876, 'max_depth': 7, 'learning_rate': 0.11737707066119164, 'n_estimators': 2768, 'min_child_samples': 39, 'subsample': 0.324252050209902, 'colsample_bytree': 0.3821121455800173, 'max_bin': 592, 'reg_alpha': 8.705743553345164e-08, 'reg_lambda': 0.1723248727211939, 'min_split_gain': 0.7105876671597566}. Best is trial 41 with value: 38.857672345279454.\n"
     ]
    },
    {
     "name": "stderr",
     "output_type": "stream",
     "text": [
      "[I 2025-02-04 10:44:49,970] Trial 46 finished with value: 38.87718041325831 and parameters: {'num_leaves': 796, 'max_depth': 4, 'learning_rate': 0.0029090657903377325, 'n_estimators': 2133, 'min_child_samples': 71, 'subsample': 0.37305032154922974, 'colsample_bytree': 0.2954746971224887, 'max_bin': 766, 'reg_alpha': 0.0011540130073830208, 'reg_lambda': 1.0344704788157511e-08, 'min_split_gain': 0.4716562120480431}. Best is trial 41 with value: 38.857672345279454.\n"
     ]
    },
    {
     "name": "stdout",
     "output_type": "stream",
     "text": [
      "Trial 46 finished with value: 38.87718041325831 and parameters: {'num_leaves': 796, 'max_depth': 4, 'learning_rate': 0.0029090657903377325, 'n_estimators': 2133, 'min_child_samples': 71, 'subsample': 0.37305032154922974, 'colsample_bytree': 0.2954746971224887, 'max_bin': 766, 'reg_alpha': 0.0011540130073830208, 'reg_lambda': 1.0344704788157511e-08, 'min_split_gain': 0.4716562120480431}. Best is trial 41 with value: 38.857672345279454.\n"
     ]
    },
    {
     "name": "stderr",
     "output_type": "stream",
     "text": [
      "[I 2025-02-04 10:45:12,658] Trial 47 finished with value: 38.86455202169553 and parameters: {'num_leaves': 496, 'max_depth': 9, 'learning_rate': 0.04251171535019597, 'n_estimators': 3394, 'min_child_samples': 59, 'subsample': 0.8015094183898367, 'colsample_bytree': 0.5926349145131994, 'max_bin': 969, 'reg_alpha': 4.598243179420216e-07, 'reg_lambda': 3.54995461121177e-08, 'min_split_gain': 0.7830393153577972}. Best is trial 41 with value: 38.857672345279454.\n"
     ]
    },
    {
     "name": "stdout",
     "output_type": "stream",
     "text": [
      "Trial 47 finished with value: 38.86455202169553 and parameters: {'num_leaves': 496, 'max_depth': 9, 'learning_rate': 0.04251171535019597, 'n_estimators': 3394, 'min_child_samples': 59, 'subsample': 0.8015094183898367, 'colsample_bytree': 0.5926349145131994, 'max_bin': 969, 'reg_alpha': 4.598243179420216e-07, 'reg_lambda': 3.54995461121177e-08, 'min_split_gain': 0.7830393153577972}. Best is trial 41 with value: 38.857672345279454.\n"
     ]
    },
    {
     "name": "stderr",
     "output_type": "stream",
     "text": [
      "[I 2025-02-04 10:46:30,440] Trial 48 finished with value: 38.86120197164623 and parameters: {'num_leaves': 272, 'max_depth': 14, 'learning_rate': 0.015446522088722742, 'n_estimators': 1066, 'min_child_samples': 154, 'subsample': 0.6366979872694686, 'colsample_bytree': 0.4355363977545026, 'max_bin': 821, 'reg_alpha': 3.982410162032221e-08, 'reg_lambda': 5.785994442100268e-06, 'min_split_gain': 0.2741427375890501}. Best is trial 41 with value: 38.857672345279454.\n"
     ]
    },
    {
     "name": "stdout",
     "output_type": "stream",
     "text": [
      "Trial 48 finished with value: 38.86120197164623 and parameters: {'num_leaves': 272, 'max_depth': 14, 'learning_rate': 0.015446522088722742, 'n_estimators': 1066, 'min_child_samples': 154, 'subsample': 0.6366979872694686, 'colsample_bytree': 0.4355363977545026, 'max_bin': 821, 'reg_alpha': 3.982410162032221e-08, 'reg_lambda': 5.785994442100268e-06, 'min_split_gain': 0.2741427375890501}. Best is trial 41 with value: 38.857672345279454.\n"
     ]
    },
    {
     "name": "stderr",
     "output_type": "stream",
     "text": [
      "[I 2025-02-04 10:46:56,392] Trial 49 finished with value: 38.87229402940316 and parameters: {'num_leaves': 603, 'max_depth': 2, 'learning_rate': 0.07871312547533925, 'n_estimators': 1557, 'min_child_samples': 22, 'subsample': 0.7029237052960431, 'colsample_bytree': 0.7271150690634003, 'max_bin': 238, 'reg_alpha': 4.248460178426486e-05, 'reg_lambda': 0.00921873986408761, 'min_split_gain': 0.9471621882068442}. Best is trial 41 with value: 38.857672345279454.\n"
     ]
    },
    {
     "name": "stdout",
     "output_type": "stream",
     "text": [
      "Trial 49 finished with value: 38.87229402940316 and parameters: {'num_leaves': 603, 'max_depth': 2, 'learning_rate': 0.07871312547533925, 'n_estimators': 1557, 'min_child_samples': 22, 'subsample': 0.7029237052960431, 'colsample_bytree': 0.7271150690634003, 'max_bin': 238, 'reg_alpha': 4.248460178426486e-05, 'reg_lambda': 0.00921873986408761, 'min_split_gain': 0.9471621882068442}. Best is trial 41 with value: 38.857672345279454.\n"
     ]
    },
    {
     "name": "stderr",
     "output_type": "stream",
     "text": [
      "[I 2025-02-04 10:47:38,244] Trial 50 finished with value: 38.860812951070926 and parameters: {'num_leaves': 772, 'max_depth': 6, 'learning_rate': 0.031183559782363705, 'n_estimators': 774, 'min_child_samples': 39, 'subsample': 0.4725795884409899, 'colsample_bytree': 0.5157428637378216, 'max_bin': 940, 'reg_alpha': 2.217080595112862e-05, 'reg_lambda': 8.800367784401965, 'min_split_gain': 0.535999761452798}. Best is trial 41 with value: 38.857672345279454.\n"
     ]
    },
    {
     "name": "stdout",
     "output_type": "stream",
     "text": [
      "Trial 50 finished with value: 38.860812951070926 and parameters: {'num_leaves': 772, 'max_depth': 6, 'learning_rate': 0.031183559782363705, 'n_estimators': 774, 'min_child_samples': 39, 'subsample': 0.4725795884409899, 'colsample_bytree': 0.5157428637378216, 'max_bin': 940, 'reg_alpha': 2.217080595112862e-05, 'reg_lambda': 8.800367784401965, 'min_split_gain': 0.535999761452798}. Best is trial 41 with value: 38.857672345279454.\n"
     ]
    },
    {
     "name": "stderr",
     "output_type": "stream",
     "text": [
      "[I 2025-02-04 10:48:12,388] Trial 51 finished with value: 38.858657824912996 and parameters: {'num_leaves': 655, 'max_depth': 8, 'learning_rate': 0.048856918356287395, 'n_estimators': 514, 'min_child_samples': 90, 'subsample': 0.42656940934615356, 'colsample_bytree': 0.2599574568226233, 'max_bin': 894, 'reg_alpha': 0.008680525388941153, 'reg_lambda': 0.0022352653855469383, 'min_split_gain': 0.2836724120617257}. Best is trial 41 with value: 38.857672345279454.\n"
     ]
    },
    {
     "name": "stdout",
     "output_type": "stream",
     "text": [
      "Trial 51 finished with value: 38.858657824912996 and parameters: {'num_leaves': 655, 'max_depth': 8, 'learning_rate': 0.048856918356287395, 'n_estimators': 514, 'min_child_samples': 90, 'subsample': 0.42656940934615356, 'colsample_bytree': 0.2599574568226233, 'max_bin': 894, 'reg_alpha': 0.008680525388941153, 'reg_lambda': 0.0022352653855469383, 'min_split_gain': 0.2836724120617257}. Best is trial 41 with value: 38.857672345279454.\n"
     ]
    },
    {
     "name": "stderr",
     "output_type": "stream",
     "text": [
      "[I 2025-02-04 10:48:17,726] Trial 52 finished with value: 38.868209246905536 and parameters: {'num_leaves': 697, 'max_depth': 5, 'learning_rate': 0.13005417347628162, 'n_estimators': 115, 'min_child_samples': 110, 'subsample': 0.408402724821287, 'colsample_bytree': 0.25121687032605095, 'max_bin': 872, 'reg_alpha': 0.004517062293020696, 'reg_lambda': 5.3495658005091266e-05, 'min_split_gain': 0.13284922747022432}. Best is trial 41 with value: 38.857672345279454.\n"
     ]
    },
    {
     "name": "stdout",
     "output_type": "stream",
     "text": [
      "Trial 52 finished with value: 38.868209246905536 and parameters: {'num_leaves': 697, 'max_depth': 5, 'learning_rate': 0.13005417347628162, 'n_estimators': 115, 'min_child_samples': 110, 'subsample': 0.408402724821287, 'colsample_bytree': 0.25121687032605095, 'max_bin': 872, 'reg_alpha': 0.004517062293020696, 'reg_lambda': 5.3495658005091266e-05, 'min_split_gain': 0.13284922747022432}. Best is trial 41 with value: 38.857672345279454.\n"
     ]
    },
    {
     "name": "stderr",
     "output_type": "stream",
     "text": [
      "[I 2025-02-04 10:48:29,872] Trial 53 finished with value: 38.85970602930141 and parameters: {'num_leaves': 665, 'max_depth': 7, 'learning_rate': 0.3218954122027024, 'n_estimators': 378, 'min_child_samples': 78, 'subsample': 0.34824874727304134, 'colsample_bytree': 0.2790702384931366, 'max_bin': 781, 'reg_alpha': 0.0010253995452079764, 'reg_lambda': 0.00016181748734688756, 'min_split_gain': 0.4099401528331541}. Best is trial 41 with value: 38.857672345279454.\n"
     ]
    },
    {
     "name": "stdout",
     "output_type": "stream",
     "text": [
      "Trial 53 finished with value: 38.85970602930141 and parameters: {'num_leaves': 665, 'max_depth': 7, 'learning_rate': 0.3218954122027024, 'n_estimators': 378, 'min_child_samples': 78, 'subsample': 0.34824874727304134, 'colsample_bytree': 0.2790702384931366, 'max_bin': 781, 'reg_alpha': 0.0010253995452079764, 'reg_lambda': 0.00016181748734688756, 'min_split_gain': 0.4099401528331541}. Best is trial 41 with value: 38.857672345279454.\n"
     ]
    },
    {
     "name": "stderr",
     "output_type": "stream",
     "text": [
      "[I 2025-02-04 10:49:52,492] Trial 54 finished with value: 38.85528038637746 and parameters: {'num_leaves': 716, 'max_depth': 8, 'learning_rate': 0.026600305790036135, 'n_estimators': 1311, 'min_child_samples': 92, 'subsample': 0.2860954620455601, 'colsample_bytree': 0.3307114800766788, 'max_bin': 1000, 'reg_alpha': 0.017324668742953995, 'reg_lambda': 0.00034707410201845966, 'min_split_gain': 0.36342947391894276}. Best is trial 54 with value: 38.85528038637746.\n"
     ]
    },
    {
     "name": "stdout",
     "output_type": "stream",
     "text": [
      "Trial 54 finished with value: 38.85528038637746 and parameters: {'num_leaves': 716, 'max_depth': 8, 'learning_rate': 0.026600305790036135, 'n_estimators': 1311, 'min_child_samples': 92, 'subsample': 0.2860954620455601, 'colsample_bytree': 0.3307114800766788, 'max_bin': 1000, 'reg_alpha': 0.017324668742953995, 'reg_lambda': 0.00034707410201845966, 'min_split_gain': 0.36342947391894276}. Best is trial 54 with value: 38.85528038637746.\n"
     ]
    },
    {
     "name": "stderr",
     "output_type": "stream",
     "text": [
      "[I 2025-02-04 10:50:35,997] Trial 55 finished with value: 38.866596029046384 and parameters: {'num_leaves': 378, 'max_depth': 4, 'learning_rate': 0.020025111382833458, 'n_estimators': 1357, 'min_child_samples': 105, 'subsample': 0.31036830325500514, 'colsample_bytree': 0.33889197536816096, 'max_bin': 995, 'reg_alpha': 0.14614550975987822, 'reg_lambda': 0.00047970893662233863, 'min_split_gain': 0.381672326099603}. Best is trial 54 with value: 38.85528038637746.\n"
     ]
    },
    {
     "name": "stdout",
     "output_type": "stream",
     "text": [
      "Trial 55 finished with value: 38.866596029046384 and parameters: {'num_leaves': 378, 'max_depth': 4, 'learning_rate': 0.020025111382833458, 'n_estimators': 1357, 'min_child_samples': 105, 'subsample': 0.31036830325500514, 'colsample_bytree': 0.33889197536816096, 'max_bin': 995, 'reg_alpha': 0.14614550975987822, 'reg_lambda': 0.00047970893662233863, 'min_split_gain': 0.381672326099603}. Best is trial 54 with value: 38.85528038637746.\n"
     ]
    },
    {
     "name": "stderr",
     "output_type": "stream",
     "text": [
      "[I 2025-02-04 10:51:13,022] Trial 56 finished with value: 38.85676820337565 and parameters: {'num_leaves': 725, 'max_depth': 6, 'learning_rate': 0.09345767078199148, 'n_estimators': 3133, 'min_child_samples': 120, 'subsample': 0.7456322274340464, 'colsample_bytree': 0.39698697053586834, 'max_bin': 934, 'reg_alpha': 0.018902269722381522, 'reg_lambda': 0.04409520732003433, 'min_split_gain': 0.44934127207071595}. Best is trial 54 with value: 38.85528038637746.\n"
     ]
    },
    {
     "name": "stdout",
     "output_type": "stream",
     "text": [
      "Trial 56 finished with value: 38.85676820337565 and parameters: {'num_leaves': 725, 'max_depth': 6, 'learning_rate': 0.09345767078199148, 'n_estimators': 3133, 'min_child_samples': 120, 'subsample': 0.7456322274340464, 'colsample_bytree': 0.39698697053586834, 'max_bin': 934, 'reg_alpha': 0.018902269722381522, 'reg_lambda': 0.04409520732003433, 'min_split_gain': 0.44934127207071595}. Best is trial 54 with value: 38.85528038637746.\n"
     ]
    },
    {
     "name": "stderr",
     "output_type": "stream",
     "text": [
      "[I 2025-02-04 10:52:44,444] Trial 57 finished with value: 38.85729391233131 and parameters: {'num_leaves': 725, 'max_depth': 5, 'learning_rate': 0.02946866702910379, 'n_estimators': 3553, 'min_child_samples': 121, 'subsample': 0.2890546642774789, 'colsample_bytree': 0.4068141204845337, 'max_bin': 967, 'reg_alpha': 0.01339387611542438, 'reg_lambda': 0.06917182126627501, 'min_split_gain': 0.4622898074686606}. Best is trial 54 with value: 38.85528038637746.\n"
     ]
    },
    {
     "name": "stdout",
     "output_type": "stream",
     "text": [
      "Trial 57 finished with value: 38.85729391233131 and parameters: {'num_leaves': 725, 'max_depth': 5, 'learning_rate': 0.02946866702910379, 'n_estimators': 3553, 'min_child_samples': 121, 'subsample': 0.2890546642774789, 'colsample_bytree': 0.4068141204845337, 'max_bin': 967, 'reg_alpha': 0.01339387611542438, 'reg_lambda': 0.06917182126627501, 'min_split_gain': 0.4622898074686606}. Best is trial 54 with value: 38.85528038637746.\n"
     ]
    },
    {
     "name": "stderr",
     "output_type": "stream",
     "text": [
      "[I 2025-02-04 10:53:45,280] Trial 58 finished with value: 38.85787150542415 and parameters: {'num_leaves': 845, 'max_depth': 8, 'learning_rate': 0.030221764068569395, 'n_estimators': 3189, 'min_child_samples': 122, 'subsample': 0.2641486450078736, 'colsample_bytree': 0.40588987622239653, 'max_bin': 921, 'reg_alpha': 0.022027917671342406, 'reg_lambda': 0.06530918749321932, 'min_split_gain': 0.5040122048822545}. Best is trial 54 with value: 38.85528038637746.\n"
     ]
    },
    {
     "name": "stdout",
     "output_type": "stream",
     "text": [
      "Trial 58 finished with value: 38.85787150542415 and parameters: {'num_leaves': 845, 'max_depth': 8, 'learning_rate': 0.030221764068569395, 'n_estimators': 3189, 'min_child_samples': 122, 'subsample': 0.2641486450078736, 'colsample_bytree': 0.40588987622239653, 'max_bin': 921, 'reg_alpha': 0.022027917671342406, 'reg_lambda': 0.06530918749321932, 'min_split_gain': 0.5040122048822545}. Best is trial 54 with value: 38.85528038637746.\n"
     ]
    },
    {
     "name": "stderr",
     "output_type": "stream",
     "text": [
      "[I 2025-02-04 10:56:26,859] Trial 59 finished with value: 38.85756822772389 and parameters: {'num_leaves': 742, 'max_depth': 11, 'learning_rate': 0.008348913835858006, 'n_estimators': 4705, 'min_child_samples': 158, 'subsample': 0.2895711455196728, 'colsample_bytree': 0.32476090975313987, 'max_bin': 965, 'reg_alpha': 0.5380734165878419, 'reg_lambda': 0.6356460164976898, 'min_split_gain': 0.4352167928958428}. Best is trial 54 with value: 38.85528038637746.\n"
     ]
    },
    {
     "name": "stdout",
     "output_type": "stream",
     "text": [
      "Trial 59 finished with value: 38.85756822772389 and parameters: {'num_leaves': 742, 'max_depth': 11, 'learning_rate': 0.008348913835858006, 'n_estimators': 4705, 'min_child_samples': 158, 'subsample': 0.2895711455196728, 'colsample_bytree': 0.32476090975313987, 'max_bin': 965, 'reg_alpha': 0.5380734165878419, 'reg_lambda': 0.6356460164976898, 'min_split_gain': 0.4352167928958428}. Best is trial 54 with value: 38.85528038637746.\n"
     ]
    },
    {
     "name": "stderr",
     "output_type": "stream",
     "text": [
      "[I 2025-02-04 10:58:32,831] Trial 60 finished with value: 38.85813526947649 and parameters: {'num_leaves': 765, 'max_depth': 12, 'learning_rate': 0.008465545084723976, 'n_estimators': 4880, 'min_child_samples': 159, 'subsample': 0.2904679614203007, 'colsample_bytree': 0.3094260333490747, 'max_bin': 958, 'reg_alpha': 1.3433386362362172, 'reg_lambda': 0.7105980312516947, 'min_split_gain': 0.4577200791600205}. Best is trial 54 with value: 38.85528038637746.\n"
     ]
    },
    {
     "name": "stdout",
     "output_type": "stream",
     "text": [
      "Trial 60 finished with value: 38.85813526947649 and parameters: {'num_leaves': 765, 'max_depth': 12, 'learning_rate': 0.008465545084723976, 'n_estimators': 4880, 'min_child_samples': 159, 'subsample': 0.2904679614203007, 'colsample_bytree': 0.3094260333490747, 'max_bin': 958, 'reg_alpha': 1.3433386362362172, 'reg_lambda': 0.7105980312516947, 'min_split_gain': 0.4577200791600205}. Best is trial 54 with value: 38.85528038637746.\n"
     ]
    },
    {
     "name": "stderr",
     "output_type": "stream",
     "text": [
      "[I 2025-02-04 11:06:15,149] Trial 61 finished with value: 38.86259648205777 and parameters: {'num_leaves': 717, 'max_depth': 11, 'learning_rate': 0.001198107083818537, 'n_estimators': 4552, 'min_child_samples': 183, 'subsample': 0.3502347751790738, 'colsample_bytree': 0.338348633790814, 'max_bin': 970, 'reg_alpha': 0.5612497698341251, 'reg_lambda': 0.8427180839845871, 'min_split_gain': 0.3524588313951707}. Best is trial 54 with value: 38.85528038637746.\n"
     ]
    },
    {
     "name": "stdout",
     "output_type": "stream",
     "text": [
      "Trial 61 finished with value: 38.86259648205777 and parameters: {'num_leaves': 717, 'max_depth': 11, 'learning_rate': 0.001198107083818537, 'n_estimators': 4552, 'min_child_samples': 183, 'subsample': 0.3502347751790738, 'colsample_bytree': 0.338348633790814, 'max_bin': 970, 'reg_alpha': 0.5612497698341251, 'reg_lambda': 0.8427180839845871, 'min_split_gain': 0.3524588313951707}. Best is trial 54 with value: 38.85528038637746.\n"
     ]
    },
    {
     "name": "stderr",
     "output_type": "stream",
     "text": [
      "[I 2025-02-04 11:06:56,078] Trial 62 finished with value: 38.85953964706974 and parameters: {'num_leaves': 796, 'max_depth': 13, 'learning_rate': 0.02426314471206055, 'n_estimators': 3896, 'min_child_samples': 139, 'subsample': 0.2894552458344838, 'colsample_bytree': 0.37329097076457224, 'max_bin': 933, 'reg_alpha': 0.05374482922431051, 'reg_lambda': 2.396528646551424, 'min_split_gain': 0.5061999440320262}. Best is trial 54 with value: 38.85528038637746.\n"
     ]
    },
    {
     "name": "stdout",
     "output_type": "stream",
     "text": [
      "Trial 62 finished with value: 38.85953964706974 and parameters: {'num_leaves': 796, 'max_depth': 13, 'learning_rate': 0.02426314471206055, 'n_estimators': 3896, 'min_child_samples': 139, 'subsample': 0.2894552458344838, 'colsample_bytree': 0.37329097076457224, 'max_bin': 933, 'reg_alpha': 0.05374482922431051, 'reg_lambda': 2.396528646551424, 'min_split_gain': 0.5061999440320262}. Best is trial 54 with value: 38.85528038637746.\n"
     ]
    },
    {
     "name": "stderr",
     "output_type": "stream",
     "text": [
      "[I 2025-02-04 11:13:13,565] Trial 63 finished with value: 38.86175181823404 and parameters: {'num_leaves': 725, 'max_depth': 10, 'learning_rate': 0.003086385580927684, 'n_estimators': 3587, 'min_child_samples': 128, 'subsample': 0.744717355440189, 'colsample_bytree': 0.4199264775758879, 'max_bin': 973, 'reg_alpha': 0.1038347951457155, 'reg_lambda': 0.026651951190861646, 'min_split_gain': 0.4412636087397887}. Best is trial 54 with value: 38.85528038637746.\n"
     ]
    },
    {
     "name": "stdout",
     "output_type": "stream",
     "text": [
      "Trial 63 finished with value: 38.86175181823404 and parameters: {'num_leaves': 725, 'max_depth': 10, 'learning_rate': 0.003086385580927684, 'n_estimators': 3587, 'min_child_samples': 128, 'subsample': 0.744717355440189, 'colsample_bytree': 0.4199264775758879, 'max_bin': 973, 'reg_alpha': 0.1038347951457155, 'reg_lambda': 0.026651951190861646, 'min_split_gain': 0.4412636087397887}. Best is trial 54 with value: 38.85528038637746.\n"
     ]
    },
    {
     "name": "stderr",
     "output_type": "stream",
     "text": [
      "[I 2025-02-04 11:16:14,292] Trial 64 finished with value: 38.857228740015216 and parameters: {'num_leaves': 759, 'max_depth': 7, 'learning_rate': 0.01122180929363184, 'n_estimators': 4134, 'min_child_samples': 143, 'subsample': 0.2775649174904611, 'colsample_bytree': 0.28979460481093455, 'max_bin': 913, 'reg_alpha': 8.408399509974908, 'reg_lambda': 0.1688481857911472, 'min_split_gain': 0.4250678114424975}. Best is trial 54 with value: 38.85528038637746.\n"
     ]
    },
    {
     "name": "stdout",
     "output_type": "stream",
     "text": [
      "Trial 64 finished with value: 38.857228740015216 and parameters: {'num_leaves': 759, 'max_depth': 7, 'learning_rate': 0.01122180929363184, 'n_estimators': 4134, 'min_child_samples': 143, 'subsample': 0.2775649174904611, 'colsample_bytree': 0.28979460481093455, 'max_bin': 913, 'reg_alpha': 8.408399509974908, 'reg_lambda': 0.1688481857911472, 'min_split_gain': 0.4250678114424975}. Best is trial 54 with value: 38.85528038637746.\n"
     ]
    },
    {
     "name": "stderr",
     "output_type": "stream",
     "text": [
      "[I 2025-02-04 11:20:34,031] Trial 65 finished with value: 38.85990215320845 and parameters: {'num_leaves': 908, 'max_depth': 7, 'learning_rate': 0.005780347369421588, 'n_estimators': 4622, 'min_child_samples': 162, 'subsample': 0.2500625508545453, 'colsample_bytree': 0.2881510057687507, 'max_bin': 800, 'reg_alpha': 7.76373812984112, 'reg_lambda': 0.28000591868772723, 'min_split_gain': 0.3697718820965018}. Best is trial 54 with value: 38.85528038637746.\n"
     ]
    },
    {
     "name": "stdout",
     "output_type": "stream",
     "text": [
      "Trial 65 finished with value: 38.85990215320845 and parameters: {'num_leaves': 908, 'max_depth': 7, 'learning_rate': 0.005780347369421588, 'n_estimators': 4622, 'min_child_samples': 162, 'subsample': 0.2500625508545453, 'colsample_bytree': 0.2881510057687507, 'max_bin': 800, 'reg_alpha': 7.76373812984112, 'reg_lambda': 0.28000591868772723, 'min_split_gain': 0.3697718820965018}. Best is trial 54 with value: 38.85528038637746.\n"
     ]
    },
    {
     "name": "stderr",
     "output_type": "stream",
     "text": [
      "[I 2025-02-04 11:23:23,484] Trial 66 finished with value: 38.861417153521636 and parameters: {'num_leaves': 747, 'max_depth': 16, 'learning_rate': 0.003920488385106313, 'n_estimators': 4192, 'min_child_samples': 175, 'subsample': 0.35168842399027056, 'colsample_bytree': 0.32554931449129043, 'max_bin': 916, 'reg_alpha': 2.9097013025968836, 'reg_lambda': 0.09648625655344484, 'min_split_gain': 0.4129320032018807}. Best is trial 54 with value: 38.85528038637746.\n"
     ]
    },
    {
     "name": "stdout",
     "output_type": "stream",
     "text": [
      "Trial 66 finished with value: 38.861417153521636 and parameters: {'num_leaves': 747, 'max_depth': 16, 'learning_rate': 0.003920488385106313, 'n_estimators': 4192, 'min_child_samples': 175, 'subsample': 0.35168842399027056, 'colsample_bytree': 0.32554931449129043, 'max_bin': 916, 'reg_alpha': 2.9097013025968836, 'reg_lambda': 0.09648625655344484, 'min_split_gain': 0.4129320032018807}. Best is trial 54 with value: 38.85528038637746.\n"
     ]
    },
    {
     "name": "stderr",
     "output_type": "stream",
     "text": [
      "[I 2025-02-04 11:24:51,313] Trial 67 finished with value: 38.85859351053652 and parameters: {'num_leaves': 817, 'max_depth': 9, 'learning_rate': 0.012322934615991479, 'n_estimators': 4073, 'min_child_samples': 145, 'subsample': 0.3034674070867108, 'colsample_bytree': 0.28676615592223137, 'max_bin': 872, 'reg_alpha': 0.4628816116829208, 'reg_lambda': 0.012436779282716734, 'min_split_gain': 0.5006320286652739}. Best is trial 54 with value: 38.85528038637746.\n"
     ]
    },
    {
     "name": "stdout",
     "output_type": "stream",
     "text": [
      "Trial 67 finished with value: 38.85859351053652 and parameters: {'num_leaves': 817, 'max_depth': 9, 'learning_rate': 0.012322934615991479, 'n_estimators': 4073, 'min_child_samples': 145, 'subsample': 0.3034674070867108, 'colsample_bytree': 0.28676615592223137, 'max_bin': 872, 'reg_alpha': 0.4628816116829208, 'reg_lambda': 0.012436779282716734, 'min_split_gain': 0.5006320286652739}. Best is trial 54 with value: 38.85528038637746.\n"
     ]
    },
    {
     "name": "stderr",
     "output_type": "stream",
     "text": [
      "[I 2025-02-04 11:27:23,649] Trial 68 finished with value: 38.86053144849748 and parameters: {'num_leaves': 697, 'max_depth': 5, 'learning_rate': 0.009907124336241151, 'n_estimators': 4434, 'min_child_samples': 152, 'subsample': 0.2660243735654291, 'colsample_bytree': 0.3613174133795907, 'max_bin': 847, 'reg_alpha': 4.933251247801604, 'reg_lambda': 2.137750946393723, 'min_split_gain': 0.2953926129558593}. Best is trial 54 with value: 38.85528038637746.\n"
     ]
    },
    {
     "name": "stdout",
     "output_type": "stream",
     "text": [
      "Trial 68 finished with value: 38.86053144849748 and parameters: {'num_leaves': 697, 'max_depth': 5, 'learning_rate': 0.009907124336241151, 'n_estimators': 4434, 'min_child_samples': 152, 'subsample': 0.2660243735654291, 'colsample_bytree': 0.3613174133795907, 'max_bin': 847, 'reg_alpha': 4.933251247801604, 'reg_lambda': 2.137750946393723, 'min_split_gain': 0.2953926129558593}. Best is trial 54 with value: 38.85528038637746.\n"
     ]
    },
    {
     "name": "stderr",
     "output_type": "stream",
     "text": [
      "[I 2025-02-04 11:28:40,847] Trial 69 finished with value: 38.87069801144156 and parameters: {'num_leaves': 618, 'max_depth': 3, 'learning_rate': 0.008509452576445349, 'n_estimators': 3817, 'min_child_samples': 131, 'subsample': 0.27921933225539985, 'colsample_bytree': 0.3960012202231183, 'max_bin': 893, 'reg_alpha': 0.24601393458966064, 'reg_lambda': 0.5034875198982706, 'min_split_gain': 0.4314176053881297}. Best is trial 54 with value: 38.85528038637746.\n"
     ]
    },
    {
     "name": "stdout",
     "output_type": "stream",
     "text": [
      "Trial 69 finished with value: 38.87069801144156 and parameters: {'num_leaves': 618, 'max_depth': 3, 'learning_rate': 0.008509452576445349, 'n_estimators': 3817, 'min_child_samples': 131, 'subsample': 0.27921933225539985, 'colsample_bytree': 0.3960012202231183, 'max_bin': 893, 'reg_alpha': 0.24601393458966064, 'reg_lambda': 0.5034875198982706, 'min_split_gain': 0.4314176053881297}. Best is trial 54 with value: 38.85528038637746.\n"
     ]
    },
    {
     "name": "stderr",
     "output_type": "stream",
     "text": [
      "[I 2025-02-04 11:29:53,704] Trial 70 finished with value: 38.85835523177511 and parameters: {'num_leaves': 763, 'max_depth': 12, 'learning_rate': 0.012851560867854462, 'n_estimators': 4767, 'min_child_samples': 120, 'subsample': 0.4016711889500193, 'colsample_bytree': 0.3224797303392707, 'max_bin': 946, 'reg_alpha': 0.015612454090042475, 'reg_lambda': 0.004921723847327635, 'min_split_gain': 0.3945658516130343}. Best is trial 54 with value: 38.85528038637746.\n"
     ]
    },
    {
     "name": "stdout",
     "output_type": "stream",
     "text": [
      "Trial 70 finished with value: 38.85835523177511 and parameters: {'num_leaves': 763, 'max_depth': 12, 'learning_rate': 0.012851560867854462, 'n_estimators': 4767, 'min_child_samples': 120, 'subsample': 0.4016711889500193, 'colsample_bytree': 0.3224797303392707, 'max_bin': 946, 'reg_alpha': 0.015612454090042475, 'reg_lambda': 0.004921723847327635, 'min_split_gain': 0.3945658516130343}. Best is trial 54 with value: 38.85528038637746.\n"
     ]
    },
    {
     "name": "stderr",
     "output_type": "stream",
     "text": [
      "[I 2025-02-04 11:32:12,995] Trial 71 finished with value: 38.85584377266802 and parameters: {'num_leaves': 722, 'max_depth': 6, 'learning_rate': 0.017812601760648868, 'n_estimators': 3629, 'min_child_samples': 108, 'subsample': 0.3545667219624736, 'colsample_bytree': 0.35000192334738456, 'max_bin': 995, 'reg_alpha': 0.0020124936529614243, 'reg_lambda': 0.05406395423641431, 'min_split_gain': 0.471231932170004}. Best is trial 54 with value: 38.85528038637746.\n"
     ]
    },
    {
     "name": "stdout",
     "output_type": "stream",
     "text": [
      "Trial 71 finished with value: 38.85584377266802 and parameters: {'num_leaves': 722, 'max_depth': 6, 'learning_rate': 0.017812601760648868, 'n_estimators': 3629, 'min_child_samples': 108, 'subsample': 0.3545667219624736, 'colsample_bytree': 0.35000192334738456, 'max_bin': 995, 'reg_alpha': 0.0020124936529614243, 'reg_lambda': 0.05406395423641431, 'min_split_gain': 0.471231932170004}. Best is trial 54 with value: 38.85528038637746.\n"
     ]
    },
    {
     "name": "stderr",
     "output_type": "stream",
     "text": [
      "[I 2025-02-04 11:34:34,354] Trial 72 finished with value: 38.857803815946525 and parameters: {'num_leaves': 726, 'max_depth': 6, 'learning_rate': 0.017327509541321968, 'n_estimators': 3640, 'min_child_samples': 110, 'subsample': 0.3447094282115352, 'colsample_bytree': 0.3482788712612089, 'max_bin': 920, 'reg_alpha': 0.0037876849097505283, 'reg_lambda': 0.02829079744386347, 'min_split_gain': 0.465347016009113}. Best is trial 54 with value: 38.85528038637746.\n"
     ]
    },
    {
     "name": "stdout",
     "output_type": "stream",
     "text": [
      "Trial 72 finished with value: 38.857803815946525 and parameters: {'num_leaves': 726, 'max_depth': 6, 'learning_rate': 0.017327509541321968, 'n_estimators': 3640, 'min_child_samples': 110, 'subsample': 0.3447094282115352, 'colsample_bytree': 0.3482788712612089, 'max_bin': 920, 'reg_alpha': 0.0037876849097505283, 'reg_lambda': 0.02829079744386347, 'min_split_gain': 0.465347016009113}. Best is trial 54 with value: 38.85528038637746.\n"
     ]
    },
    {
     "name": "stderr",
     "output_type": "stream",
     "text": [
      "[I 2025-02-04 11:37:16,112] Trial 73 finished with value: 38.85999360969282 and parameters: {'num_leaves': 779, 'max_depth': 7, 'learning_rate': 0.007024580804121587, 'n_estimators': 3195, 'min_child_samples': 96, 'subsample': 0.30485580561276304, 'colsample_bytree': 0.2753423668606392, 'max_bin': 972, 'reg_alpha': 0.03760837885112004, 'reg_lambda': 0.17712782861966173, 'min_split_gain': 0.5578683444549144}. Best is trial 54 with value: 38.85528038637746.\n"
     ]
    },
    {
     "name": "stdout",
     "output_type": "stream",
     "text": [
      "Trial 73 finished with value: 38.85999360969282 and parameters: {'num_leaves': 779, 'max_depth': 7, 'learning_rate': 0.007024580804121587, 'n_estimators': 3195, 'min_child_samples': 96, 'subsample': 0.30485580561276304, 'colsample_bytree': 0.2753423668606392, 'max_bin': 972, 'reg_alpha': 0.03760837885112004, 'reg_lambda': 0.17712782861966173, 'min_split_gain': 0.5578683444549144}. Best is trial 54 with value: 38.85528038637746.\n"
     ]
    },
    {
     "name": "stderr",
     "output_type": "stream",
     "text": [
      "[I 2025-02-04 11:38:36,424] Trial 74 finished with value: 38.85734045697639 and parameters: {'num_leaves': 682, 'max_depth': 5, 'learning_rate': 0.027638140686042787, 'n_estimators': 2492, 'min_child_samples': 143, 'subsample': 0.38921727071497375, 'colsample_bytree': 0.37183880940494995, 'max_bin': 993, 'reg_alpha': 0.8777631666989475, 'reg_lambda': 0.05484230386837644, 'min_split_gain': 0.49217844162115065}. Best is trial 54 with value: 38.85528038637746.\n"
     ]
    },
    {
     "name": "stdout",
     "output_type": "stream",
     "text": [
      "Trial 74 finished with value: 38.85734045697639 and parameters: {'num_leaves': 682, 'max_depth': 5, 'learning_rate': 0.027638140686042787, 'n_estimators': 2492, 'min_child_samples': 143, 'subsample': 0.38921727071497375, 'colsample_bytree': 0.37183880940494995, 'max_bin': 993, 'reg_alpha': 0.8777631666989475, 'reg_lambda': 0.05484230386837644, 'min_split_gain': 0.49217844162115065}. Best is trial 54 with value: 38.85528038637746.\n"
     ]
    },
    {
     "name": "stderr",
     "output_type": "stream",
     "text": [
      "[I 2025-02-04 11:40:06,505] Trial 75 finished with value: 38.85897342584643 and parameters: {'num_leaves': 678, 'max_depth': 4, 'learning_rate': 0.024148922230607207, 'n_estimators': 3202, 'min_child_samples': 141, 'subsample': 0.38027822641082426, 'colsample_bytree': 0.3761699532252215, 'max_bin': 1000, 'reg_alpha': 0.9439981962571382, 'reg_lambda': 0.05668806615655382, 'min_split_gain': 0.5225892200570313}. Best is trial 54 with value: 38.85528038637746.\n"
     ]
    },
    {
     "name": "stdout",
     "output_type": "stream",
     "text": [
      "Trial 75 finished with value: 38.85897342584643 and parameters: {'num_leaves': 678, 'max_depth': 4, 'learning_rate': 0.024148922230607207, 'n_estimators': 3202, 'min_child_samples': 141, 'subsample': 0.38027822641082426, 'colsample_bytree': 0.3761699532252215, 'max_bin': 1000, 'reg_alpha': 0.9439981962571382, 'reg_lambda': 0.05668806615655382, 'min_split_gain': 0.5225892200570313}. Best is trial 54 with value: 38.85528038637746.\n"
     ]
    },
    {
     "name": "stderr",
     "output_type": "stream",
     "text": [
      "[I 2025-02-04 11:42:18,029] Trial 76 finished with value: 38.858236891435816 and parameters: {'num_leaves': 712, 'max_depth': 5, 'learning_rate': 0.018622112612984187, 'n_estimators': 3530, 'min_child_samples': 133, 'subsample': 0.3647307273266152, 'colsample_bytree': 0.43253719169489985, 'max_bin': 945, 'reg_alpha': 2.6610378818324194, 'reg_lambda': 0.10427747514761034, 'min_split_gain': 0.48796258415932714}. Best is trial 54 with value: 38.85528038637746.\n"
     ]
    },
    {
     "name": "stdout",
     "output_type": "stream",
     "text": [
      "Trial 76 finished with value: 38.858236891435816 and parameters: {'num_leaves': 712, 'max_depth': 5, 'learning_rate': 0.018622112612984187, 'n_estimators': 3530, 'min_child_samples': 133, 'subsample': 0.3647307273266152, 'colsample_bytree': 0.43253719169489985, 'max_bin': 945, 'reg_alpha': 2.6610378818324194, 'reg_lambda': 0.10427747514761034, 'min_split_gain': 0.48796258415932714}. Best is trial 54 with value: 38.85528038637746.\n"
     ]
    },
    {
     "name": "stderr",
     "output_type": "stream",
     "text": [
      "[I 2025-02-04 11:43:03,933] Trial 77 finished with value: 38.85657633722464 and parameters: {'num_leaves': 626, 'max_depth': 8, 'learning_rate': 0.03768287113976187, 'n_estimators': 2457, 'min_child_samples': 148, 'subsample': 0.45510827465402676, 'colsample_bytree': 0.3092427379353968, 'max_bin': 975, 'reg_alpha': 0.08564602871402933, 'reg_lambda': 0.0018579640574705937, 'min_split_gain': 0.44522688870450605}. Best is trial 54 with value: 38.85528038637746.\n"
     ]
    },
    {
     "name": "stdout",
     "output_type": "stream",
     "text": [
      "Trial 77 finished with value: 38.85657633722464 and parameters: {'num_leaves': 626, 'max_depth': 8, 'learning_rate': 0.03768287113976187, 'n_estimators': 2457, 'min_child_samples': 148, 'subsample': 0.45510827465402676, 'colsample_bytree': 0.3092427379353968, 'max_bin': 975, 'reg_alpha': 0.08564602871402933, 'reg_lambda': 0.0018579640574705937, 'min_split_gain': 0.44522688870450605}. Best is trial 54 with value: 38.85528038637746.\n"
     ]
    },
    {
     "name": "stderr",
     "output_type": "stream",
     "text": [
      "[I 2025-02-04 11:43:56,868] Trial 78 finished with value: 38.85777333619909 and parameters: {'num_leaves': 754, 'max_depth': 10, 'learning_rate': 0.028549458172669972, 'n_estimators': 2422, 'min_child_samples': 147, 'subsample': 0.4604988247483186, 'colsample_bytree': 0.4030058577373511, 'max_bin': 974, 'reg_alpha': 0.12467313920817946, 'reg_lambda': 0.0019318828952568738, 'min_split_gain': 0.4422314601814733}. Best is trial 54 with value: 38.85528038637746.\n"
     ]
    },
    {
     "name": "stdout",
     "output_type": "stream",
     "text": [
      "Trial 78 finished with value: 38.85777333619909 and parameters: {'num_leaves': 754, 'max_depth': 10, 'learning_rate': 0.028549458172669972, 'n_estimators': 2422, 'min_child_samples': 147, 'subsample': 0.4604988247483186, 'colsample_bytree': 0.4030058577373511, 'max_bin': 974, 'reg_alpha': 0.12467313920817946, 'reg_lambda': 0.0019318828952568738, 'min_split_gain': 0.4422314601814733}. Best is trial 54 with value: 38.85528038637746.\n"
     ]
    },
    {
     "name": "stderr",
     "output_type": "stream",
     "text": [
      "[I 2025-02-04 11:44:39,602] Trial 79 finished with value: 38.85855355499694 and parameters: {'num_leaves': 580, 'max_depth': 8, 'learning_rate': 0.03877565190672103, 'n_estimators': 2770, 'min_child_samples': 163, 'subsample': 0.3321552747511037, 'colsample_bytree': 0.4723572606025724, 'max_bin': 1000, 'reg_alpha': 0.7820088804812119, 'reg_lambda': 0.35263129360440487, 'min_split_gain': 0.35104585969020774}. Best is trial 54 with value: 38.85528038637746.\n"
     ]
    },
    {
     "name": "stdout",
     "output_type": "stream",
     "text": [
      "Trial 79 finished with value: 38.85855355499694 and parameters: {'num_leaves': 580, 'max_depth': 8, 'learning_rate': 0.03877565190672103, 'n_estimators': 2770, 'min_child_samples': 163, 'subsample': 0.3321552747511037, 'colsample_bytree': 0.4723572606025724, 'max_bin': 1000, 'reg_alpha': 0.7820088804812119, 'reg_lambda': 0.35263129360440487, 'min_split_gain': 0.35104585969020774}. Best is trial 54 with value: 38.85528038637746.\n"
     ]
    },
    {
     "name": "stderr",
     "output_type": "stream",
     "text": [
      "[I 2025-02-04 11:46:04,790] Trial 80 finished with value: 38.85951091003615 and parameters: {'num_leaves': 627, 'max_depth': 11, 'learning_rate': 0.010967168135421423, 'n_estimators': 3991, 'min_child_samples': 126, 'subsample': 0.2777896003018816, 'colsample_bytree': 0.3120782930141929, 'max_bin': 906, 'reg_alpha': 2.4214867118942927, 'reg_lambda': 0.0054991638373351834, 'min_split_gain': 0.6211257060653923}. Best is trial 54 with value: 38.85528038637746.\n"
     ]
    },
    {
     "name": "stdout",
     "output_type": "stream",
     "text": [
      "Trial 80 finished with value: 38.85951091003615 and parameters: {'num_leaves': 627, 'max_depth': 11, 'learning_rate': 0.010967168135421423, 'n_estimators': 3991, 'min_child_samples': 126, 'subsample': 0.2777896003018816, 'colsample_bytree': 0.3120782930141929, 'max_bin': 906, 'reg_alpha': 2.4214867118942927, 'reg_lambda': 0.0054991638373351834, 'min_split_gain': 0.6211257060653923}. Best is trial 54 with value: 38.85528038637746.\n"
     ]
    },
    {
     "name": "stderr",
     "output_type": "stream",
     "text": [
      "[I 2025-02-04 11:46:44,420] Trial 81 finished with value: 38.85614002554744 and parameters: {'num_leaves': 703, 'max_depth': 7, 'learning_rate': 0.06515917383286933, 'n_estimators': 3766, 'min_child_samples': 157, 'subsample': 0.4062917260888479, 'colsample_bytree': 0.30296411705725607, 'max_bin': 935, 'reg_alpha': 0.08259032171389295, 'reg_lambda': 0.0010451316985115291, 'min_split_gain': 0.5301965964955971}. Best is trial 54 with value: 38.85528038637746.\n"
     ]
    },
    {
     "name": "stdout",
     "output_type": "stream",
     "text": [
      "Trial 81 finished with value: 38.85614002554744 and parameters: {'num_leaves': 703, 'max_depth': 7, 'learning_rate': 0.06515917383286933, 'n_estimators': 3766, 'min_child_samples': 157, 'subsample': 0.4062917260888479, 'colsample_bytree': 0.30296411705725607, 'max_bin': 935, 'reg_alpha': 0.08259032171389295, 'reg_lambda': 0.0010451316985115291, 'min_split_gain': 0.5301965964955971}. Best is trial 54 with value: 38.85528038637746.\n"
     ]
    },
    {
     "name": "stderr",
     "output_type": "stream",
     "text": [
      "[I 2025-02-04 11:47:27,544] Trial 82 finished with value: 38.855346565184604 and parameters: {'num_leaves': 639, 'max_depth': 7, 'learning_rate': 0.06677898291576229, 'n_estimators': 3735, 'min_child_samples': 155, 'subsample': 0.3938729501722274, 'colsample_bytree': 0.3296176620595496, 'max_bin': 948, 'reg_alpha': 0.06956331455554944, 'reg_lambda': 0.0012412948081661085, 'min_split_gain': 0.534063729832366}. Best is trial 54 with value: 38.85528038637746.\n"
     ]
    },
    {
     "name": "stdout",
     "output_type": "stream",
     "text": [
      "Trial 82 finished with value: 38.855346565184604 and parameters: {'num_leaves': 639, 'max_depth': 7, 'learning_rate': 0.06677898291576229, 'n_estimators': 3735, 'min_child_samples': 155, 'subsample': 0.3938729501722274, 'colsample_bytree': 0.3296176620595496, 'max_bin': 948, 'reg_alpha': 0.06956331455554944, 'reg_lambda': 0.0012412948081661085, 'min_split_gain': 0.534063729832366}. Best is trial 54 with value: 38.85528038637746.\n"
     ]
    },
    {
     "name": "stderr",
     "output_type": "stream",
     "text": [
      "[I 2025-02-04 11:48:04,291] Trial 83 finished with value: 38.85621524538058 and parameters: {'num_leaves': 639, 'max_depth': 8, 'learning_rate': 0.07087569898503779, 'n_estimators': 3849, 'min_child_samples': 169, 'subsample': 0.39191654295738404, 'colsample_bytree': 0.36038676863102553, 'max_bin': 933, 'reg_alpha': 0.07644523921935055, 'reg_lambda': 0.0012005794076077705, 'min_split_gain': 0.588403300120679}. Best is trial 54 with value: 38.85528038637746.\n"
     ]
    },
    {
     "name": "stdout",
     "output_type": "stream",
     "text": [
      "Trial 83 finished with value: 38.85621524538058 and parameters: {'num_leaves': 639, 'max_depth': 8, 'learning_rate': 0.07087569898503779, 'n_estimators': 3849, 'min_child_samples': 169, 'subsample': 0.39191654295738404, 'colsample_bytree': 0.36038676863102553, 'max_bin': 933, 'reg_alpha': 0.07644523921935055, 'reg_lambda': 0.0012005794076077705, 'min_split_gain': 0.588403300120679}. Best is trial 54 with value: 38.85528038637746.\n"
     ]
    },
    {
     "name": "stderr",
     "output_type": "stream",
     "text": [
      "[I 2025-02-04 11:48:15,630] Trial 84 finished with value: 38.86456447883974 and parameters: {'num_leaves': 640, 'max_depth': 8, 'learning_rate': 0.06093556091249445, 'n_estimators': 3768, 'min_child_samples': 175, 'subsample': 0.4229773005908267, 'colsample_bytree': 0.9802586354097568, 'max_bin': 934, 'reg_alpha': 0.015245411126244378, 'reg_lambda': 0.00118781968342275, 'min_split_gain': 0.5876192761229813}. Best is trial 54 with value: 38.85528038637746.\n"
     ]
    },
    {
     "name": "stdout",
     "output_type": "stream",
     "text": [
      "Trial 84 finished with value: 38.86456447883974 and parameters: {'num_leaves': 640, 'max_depth': 8, 'learning_rate': 0.06093556091249445, 'n_estimators': 3768, 'min_child_samples': 175, 'subsample': 0.4229773005908267, 'colsample_bytree': 0.9802586354097568, 'max_bin': 934, 'reg_alpha': 0.015245411126244378, 'reg_lambda': 0.00118781968342275, 'min_split_gain': 0.5876192761229813}. Best is trial 54 with value: 38.85528038637746.\n"
     ]
    },
    {
     "name": "stderr",
     "output_type": "stream",
     "text": [
      "[I 2025-02-04 11:48:58,784] Trial 85 finished with value: 38.857633118948776 and parameters: {'num_leaves': 555, 'max_depth': 7, 'learning_rate': 0.064758233162113, 'n_estimators': 3693, 'min_child_samples': 167, 'subsample': 0.45252388692458145, 'colsample_bytree': 0.35140998090914455, 'max_bin': 901, 'reg_alpha': 0.07835625180320417, 'reg_lambda': 0.0002853507459080019, 'min_split_gain': 0.5434929977794926}. Best is trial 54 with value: 38.85528038637746.\n"
     ]
    },
    {
     "name": "stdout",
     "output_type": "stream",
     "text": [
      "Trial 85 finished with value: 38.857633118948776 and parameters: {'num_leaves': 555, 'max_depth': 7, 'learning_rate': 0.064758233162113, 'n_estimators': 3693, 'min_child_samples': 167, 'subsample': 0.45252388692458145, 'colsample_bytree': 0.35140998090914455, 'max_bin': 901, 'reg_alpha': 0.07835625180320417, 'reg_lambda': 0.0002853507459080019, 'min_split_gain': 0.5434929977794926}. Best is trial 54 with value: 38.85528038637746.\n"
     ]
    },
    {
     "name": "stderr",
     "output_type": "stream",
     "text": [
      "[I 2025-02-04 11:49:16,029] Trial 86 finished with value: 38.867555999786795 and parameters: {'num_leaves': 657, 'max_depth': 9, 'learning_rate': 0.043261858406996485, 'n_estimators': 4252, 'min_child_samples': 188, 'subsample': 0.5030536802000611, 'colsample_bytree': 0.830237308558281, 'max_bin': 878, 'reg_alpha': 0.02788020249682169, 'reg_lambda': 0.0009496336551714189, 'min_split_gain': 0.522490920255361}. Best is trial 54 with value: 38.85528038637746.\n"
     ]
    },
    {
     "name": "stdout",
     "output_type": "stream",
     "text": [
      "Trial 86 finished with value: 38.867555999786795 and parameters: {'num_leaves': 657, 'max_depth': 9, 'learning_rate': 0.043261858406996485, 'n_estimators': 4252, 'min_child_samples': 188, 'subsample': 0.5030536802000611, 'colsample_bytree': 0.830237308558281, 'max_bin': 878, 'reg_alpha': 0.02788020249682169, 'reg_lambda': 0.0009496336551714189, 'min_split_gain': 0.522490920255361}. Best is trial 54 with value: 38.85528038637746.\n"
     ]
    },
    {
     "name": "stderr",
     "output_type": "stream",
     "text": [
      "[I 2025-02-04 11:50:06,656] Trial 87 finished with value: 38.8571219097808 and parameters: {'num_leaves': 584, 'max_depth': 7, 'learning_rate': 0.037123363766918986, 'n_estimators': 4016, 'min_child_samples': 148, 'subsample': 0.3990765466755004, 'colsample_bytree': 0.3019193413566038, 'max_bin': 950, 'reg_alpha': 0.006268785068808794, 'reg_lambda': 0.0001000485592503759, 'min_split_gain': 0.5733068095006082}. Best is trial 54 with value: 38.85528038637746.\n"
     ]
    },
    {
     "name": "stdout",
     "output_type": "stream",
     "text": [
      "Trial 87 finished with value: 38.8571219097808 and parameters: {'num_leaves': 584, 'max_depth': 7, 'learning_rate': 0.037123363766918986, 'n_estimators': 4016, 'min_child_samples': 148, 'subsample': 0.3990765466755004, 'colsample_bytree': 0.3019193413566038, 'max_bin': 950, 'reg_alpha': 0.006268785068808794, 'reg_lambda': 0.0001000485592503759, 'min_split_gain': 0.5733068095006082}. Best is trial 54 with value: 38.85528038637746.\n"
     ]
    },
    {
     "name": "stderr",
     "output_type": "stream",
     "text": [
      "[I 2025-02-04 11:50:29,124] Trial 88 finished with value: 38.85767888625707 and parameters: {'num_leaves': 604, 'max_depth': 8, 'learning_rate': 0.09365991592267267, 'n_estimators': 4068, 'min_child_samples': 148, 'subsample': 0.41406441154545603, 'colsample_bytree': 0.2661474868660024, 'max_bin': 938, 'reg_alpha': 0.004410990086869746, 'reg_lambda': 0.00011496088290182562, 'min_split_gain': 0.6489294703089129}. Best is trial 54 with value: 38.85528038637746.\n"
     ]
    },
    {
     "name": "stdout",
     "output_type": "stream",
     "text": [
      "Trial 88 finished with value: 38.85767888625707 and parameters: {'num_leaves': 604, 'max_depth': 8, 'learning_rate': 0.09365991592267267, 'n_estimators': 4068, 'min_child_samples': 148, 'subsample': 0.41406441154545603, 'colsample_bytree': 0.2661474868660024, 'max_bin': 938, 'reg_alpha': 0.004410990086869746, 'reg_lambda': 0.00011496088290182562, 'min_split_gain': 0.6489294703089129}. Best is trial 54 with value: 38.85528038637746.\n"
     ]
    },
    {
     "name": "stderr",
     "output_type": "stream",
     "text": [
      "[I 2025-02-04 11:51:38,172] Trial 89 finished with value: 38.85671394505854 and parameters: {'num_leaves': 576, 'max_depth': 7, 'learning_rate': 0.03570756309315772, 'n_estimators': 4372, 'min_child_samples': 155, 'subsample': 0.4004121526140001, 'colsample_bytree': 0.3025984396685115, 'max_bin': 861, 'reg_alpha': 0.23343115606370599, 'reg_lambda': 0.0006281526222036099, 'min_split_gain': 0.5650065226744763}. Best is trial 54 with value: 38.85528038637746.\n"
     ]
    },
    {
     "name": "stdout",
     "output_type": "stream",
     "text": [
      "Trial 89 finished with value: 38.85671394505854 and parameters: {'num_leaves': 576, 'max_depth': 7, 'learning_rate': 0.03570756309315772, 'n_estimators': 4372, 'min_child_samples': 155, 'subsample': 0.4004121526140001, 'colsample_bytree': 0.3025984396685115, 'max_bin': 861, 'reg_alpha': 0.23343115606370599, 'reg_lambda': 0.0006281526222036099, 'min_split_gain': 0.5650065226744763}. Best is trial 54 with value: 38.85528038637746.\n"
     ]
    },
    {
     "name": "stderr",
     "output_type": "stream",
     "text": [
      "[I 2025-02-04 11:52:18,587] Trial 90 finished with value: 38.8591966223281 and parameters: {'num_leaves': 576, 'max_depth': 9, 'learning_rate': 0.047871612971070676, 'n_estimators': 4399, 'min_child_samples': 155, 'subsample': 0.39416737354454306, 'colsample_bytree': 0.29929511182364904, 'max_bin': 824, 'reg_alpha': 0.03589739202502652, 'reg_lambda': 0.0006234131600036409, 'min_split_gain': 0.6053328484954816}. Best is trial 54 with value: 38.85528038637746.\n"
     ]
    },
    {
     "name": "stdout",
     "output_type": "stream",
     "text": [
      "Trial 90 finished with value: 38.8591966223281 and parameters: {'num_leaves': 576, 'max_depth': 9, 'learning_rate': 0.047871612971070676, 'n_estimators': 4399, 'min_child_samples': 155, 'subsample': 0.39416737354454306, 'colsample_bytree': 0.29929511182364904, 'max_bin': 824, 'reg_alpha': 0.03589739202502652, 'reg_lambda': 0.0006234131600036409, 'min_split_gain': 0.6053328484954816}. Best is trial 54 with value: 38.85528038637746.\n"
     ]
    },
    {
     "name": "stderr",
     "output_type": "stream",
     "text": [
      "[I 2025-02-04 11:53:12,252] Trial 91 finished with value: 38.85703926053243 and parameters: {'num_leaves': 533, 'max_depth': 7, 'learning_rate': 0.036202320504320304, 'n_estimators': 3899, 'min_child_samples': 167, 'subsample': 0.44777220411160074, 'colsample_bytree': 0.27424833147665434, 'max_bin': 861, 'reg_alpha': 0.23674231648749536, 'reg_lambda': 0.0012731235243277862, 'min_split_gain': 0.5734966112767081}. Best is trial 54 with value: 38.85528038637746.\n"
     ]
    },
    {
     "name": "stdout",
     "output_type": "stream",
     "text": [
      "Trial 91 finished with value: 38.85703926053243 and parameters: {'num_leaves': 533, 'max_depth': 7, 'learning_rate': 0.036202320504320304, 'n_estimators': 3899, 'min_child_samples': 167, 'subsample': 0.44777220411160074, 'colsample_bytree': 0.27424833147665434, 'max_bin': 861, 'reg_alpha': 0.23674231648749536, 'reg_lambda': 0.0012731235243277862, 'min_split_gain': 0.5734966112767081}. Best is trial 54 with value: 38.85528038637746.\n"
     ]
    },
    {
     "name": "stderr",
     "output_type": "stream",
     "text": [
      "[I 2025-02-04 11:54:08,028] Trial 92 finished with value: 38.857580113958505 and parameters: {'num_leaves': 536, 'max_depth': 7, 'learning_rate': 0.03445674792917278, 'n_estimators': 3912, 'min_child_samples': 174, 'subsample': 0.4786501762800761, 'colsample_bytree': 0.33325793706428863, 'max_bin': 886, 'reg_alpha': 0.30211561307647167, 'reg_lambda': 0.0015607113602102763, 'min_split_gain': 0.5702686333484399}. Best is trial 54 with value: 38.85528038637746.\n"
     ]
    },
    {
     "name": "stdout",
     "output_type": "stream",
     "text": [
      "Trial 92 finished with value: 38.857580113958505 and parameters: {'num_leaves': 536, 'max_depth': 7, 'learning_rate': 0.03445674792917278, 'n_estimators': 3912, 'min_child_samples': 174, 'subsample': 0.4786501762800761, 'colsample_bytree': 0.33325793706428863, 'max_bin': 886, 'reg_alpha': 0.30211561307647167, 'reg_lambda': 0.0015607113602102763, 'min_split_gain': 0.5702686333484399}. Best is trial 54 with value: 38.85528038637746.\n"
     ]
    },
    {
     "name": "stderr",
     "output_type": "stream",
     "text": [
      "[I 2025-02-04 11:54:31,797] Trial 93 finished with value: 38.85606420245671 and parameters: {'num_leaves': 511, 'max_depth': 6, 'learning_rate': 0.15581106445156298, 'n_estimators': 3358, 'min_child_samples': 167, 'subsample': 0.4634132443160027, 'colsample_bytree': 0.3134005310364198, 'max_bin': 864, 'reg_alpha': 0.07680331121001409, 'reg_lambda': 0.0003938877729536092, 'min_split_gain': 0.635761287724241}. Best is trial 54 with value: 38.85528038637746.\n"
     ]
    },
    {
     "name": "stdout",
     "output_type": "stream",
     "text": [
      "Trial 93 finished with value: 38.85606420245671 and parameters: {'num_leaves': 511, 'max_depth': 6, 'learning_rate': 0.15581106445156298, 'n_estimators': 3358, 'min_child_samples': 167, 'subsample': 0.4634132443160027, 'colsample_bytree': 0.3134005310364198, 'max_bin': 864, 'reg_alpha': 0.07680331121001409, 'reg_lambda': 0.0003938877729536092, 'min_split_gain': 0.635761287724241}. Best is trial 54 with value: 38.85528038637746.\n"
     ]
    },
    {
     "name": "stderr",
     "output_type": "stream",
     "text": [
      "[I 2025-02-04 11:54:50,976] Trial 94 finished with value: 38.858547056827796 and parameters: {'num_leaves': 513, 'max_depth': 6, 'learning_rate': 0.1575198825559992, 'n_estimators': 3313, 'min_child_samples': 181, 'subsample': 0.5255825782478236, 'colsample_bytree': 0.27276905529805934, 'max_bin': 846, 'reg_alpha': 0.20861674873032368, 'reg_lambda': 0.00339762350032282, 'min_split_gain': 0.6690505790491679}. Best is trial 54 with value: 38.85528038637746.\n"
     ]
    },
    {
     "name": "stdout",
     "output_type": "stream",
     "text": [
      "Trial 94 finished with value: 38.858547056827796 and parameters: {'num_leaves': 513, 'max_depth': 6, 'learning_rate': 0.1575198825559992, 'n_estimators': 3313, 'min_child_samples': 181, 'subsample': 0.5255825782478236, 'colsample_bytree': 0.27276905529805934, 'max_bin': 846, 'reg_alpha': 0.20861674873032368, 'reg_lambda': 0.00339762350032282, 'min_split_gain': 0.6690505790491679}. Best is trial 54 with value: 38.85528038637746.\n"
     ]
    },
    {
     "name": "stderr",
     "output_type": "stream",
     "text": [
      "[I 2025-02-04 11:55:15,640] Trial 95 finished with value: 38.85919013891864 and parameters: {'num_leaves': 523, 'max_depth': 8, 'learning_rate': 0.07308885342943337, 'n_estimators': 3077, 'min_child_samples': 170, 'subsample': 0.46891626423986327, 'colsample_bytree': 0.3158387049290046, 'max_bin': 735, 'reg_alpha': 0.08058536080060547, 'reg_lambda': 0.0006073464398669941, 'min_split_gain': 0.6897803188393057}. Best is trial 54 with value: 38.85528038637746.\n"
     ]
    },
    {
     "name": "stdout",
     "output_type": "stream",
     "text": [
      "Trial 95 finished with value: 38.85919013891864 and parameters: {'num_leaves': 523, 'max_depth': 8, 'learning_rate': 0.07308885342943337, 'n_estimators': 3077, 'min_child_samples': 170, 'subsample': 0.46891626423986327, 'colsample_bytree': 0.3158387049290046, 'max_bin': 735, 'reg_alpha': 0.08058536080060547, 'reg_lambda': 0.0006073464398669941, 'min_split_gain': 0.6897803188393057}. Best is trial 54 with value: 38.85528038637746.\n"
     ]
    },
    {
     "name": "stderr",
     "output_type": "stream",
     "text": [
      "[I 2025-02-04 11:55:26,669] Trial 96 finished with value: 38.86409094069055 and parameters: {'num_leaves': 629, 'max_depth': 6, 'learning_rate': 0.22599610869802836, 'n_estimators': 5000, 'min_child_samples': 197, 'subsample': 0.44088925784500427, 'colsample_bytree': 0.3526721068178843, 'max_bin': 480, 'reg_alpha': 0.15361733483409468, 'reg_lambda': 0.00031230660338833885, 'min_split_gain': 0.6364554173611757}. Best is trial 54 with value: 38.85528038637746.\n"
     ]
    },
    {
     "name": "stdout",
     "output_type": "stream",
     "text": [
      "Trial 96 finished with value: 38.86409094069055 and parameters: {'num_leaves': 629, 'max_depth': 6, 'learning_rate': 0.22599610869802836, 'n_estimators': 5000, 'min_child_samples': 197, 'subsample': 0.44088925784500427, 'colsample_bytree': 0.3526721068178843, 'max_bin': 480, 'reg_alpha': 0.15361733483409468, 'reg_lambda': 0.00031230660338833885, 'min_split_gain': 0.6364554173611757}. Best is trial 54 with value: 38.85528038637746.\n"
     ]
    },
    {
     "name": "stderr",
     "output_type": "stream",
     "text": [
      "[I 2025-02-04 11:55:46,952] Trial 97 finished with value: 38.85823873737133 and parameters: {'num_leaves': 462, 'max_depth': 8, 'learning_rate': 0.11744142155269753, 'n_estimators': 3839, 'min_child_samples': 167, 'subsample': 0.49269203503349257, 'colsample_bytree': 0.2738844638978022, 'max_bin': 925, 'reg_alpha': 0.04648028831629588, 'reg_lambda': 0.007423121018162321, 'min_split_gain': 0.5457907574384706}. Best is trial 54 with value: 38.85528038637746.\n"
     ]
    },
    {
     "name": "stdout",
     "output_type": "stream",
     "text": [
      "Trial 97 finished with value: 38.85823873737133 and parameters: {'num_leaves': 462, 'max_depth': 8, 'learning_rate': 0.11744142155269753, 'n_estimators': 3839, 'min_child_samples': 167, 'subsample': 0.49269203503349257, 'colsample_bytree': 0.2738844638978022, 'max_bin': 925, 'reg_alpha': 0.04648028831629588, 'reg_lambda': 0.007423121018162321, 'min_split_gain': 0.5457907574384706}. Best is trial 54 with value: 38.85528038637746.\n"
     ]
    },
    {
     "name": "stderr",
     "output_type": "stream",
     "text": [
      "[I 2025-02-04 11:56:09,005] Trial 98 finished with value: 38.86005060620758 and parameters: {'num_leaves': 566, 'max_depth': 9, 'learning_rate': 0.059718583242816474, 'n_estimators': 3370, 'min_child_samples': 162, 'subsample': 0.44905401187390825, 'colsample_bytree': 0.25065659523152056, 'max_bin': 865, 'reg_alpha': 0.06773136791879975, 'reg_lambda': 0.002632361660319725, 'min_split_gain': 0.6105285462190055}. Best is trial 54 with value: 38.85528038637746.\n"
     ]
    },
    {
     "name": "stdout",
     "output_type": "stream",
     "text": [
      "Trial 98 finished with value: 38.86005060620758 and parameters: {'num_leaves': 566, 'max_depth': 9, 'learning_rate': 0.059718583242816474, 'n_estimators': 3370, 'min_child_samples': 162, 'subsample': 0.44905401187390825, 'colsample_bytree': 0.25065659523152056, 'max_bin': 865, 'reg_alpha': 0.06773136791879975, 'reg_lambda': 0.002632361660319725, 'min_split_gain': 0.6105285462190055}. Best is trial 54 with value: 38.85528038637746.\n"
     ]
    },
    {
     "name": "stderr",
     "output_type": "stream",
     "text": [
      "[I 2025-02-04 11:56:23,191] Trial 99 finished with value: 38.866753973653566 and parameters: {'num_leaves': 597, 'max_depth': 7, 'learning_rate': 0.09502731142012397, 'n_estimators': 3737, 'min_child_samples': 156, 'subsample': 0.5761245100511851, 'colsample_bytree': 0.3880804467286263, 'max_bin': 325, 'reg_alpha': 0.02360927180195827, 'reg_lambda': 0.00036950940641546667, 'min_split_gain': 0.5148135361744149}. Best is trial 54 with value: 38.85528038637746.\n"
     ]
    },
    {
     "name": "stdout",
     "output_type": "stream",
     "text": [
      "Trial 99 finished with value: 38.866753973653566 and parameters: {'num_leaves': 597, 'max_depth': 7, 'learning_rate': 0.09502731142012397, 'n_estimators': 3737, 'min_child_samples': 156, 'subsample': 0.5761245100511851, 'colsample_bytree': 0.3880804467286263, 'max_bin': 325, 'reg_alpha': 0.02360927180195827, 'reg_lambda': 0.00036950940641546667, 'min_split_gain': 0.5148135361744149}. Best is trial 54 with value: 38.85528038637746.\n"
     ]
    }
   ],
   "source": [
    "def objective(trial):    \n",
    "    # Define the hyperparameter search space\n",
    "    param = {\n",
    "        'objective': 'regression',\n",
    "        'metric': 'rmse',\n",
    "        # 'boosting_type': boosting_type,\n",
    "        'num_leaves': trial.suggest_int('num_leaves', 200, 1000),\n",
    "        'max_depth': trial.suggest_int('max_depth', 1, 20),\n",
    "        'learning_rate': trial.suggest_loguniform('learning_rate', 1e-4, 0.5),\n",
    "        'n_estimators': trial.suggest_int('n_estimators', 50, 5000),\n",
    "        'min_child_samples': trial.suggest_int('min_child_samples', 5, 200),\n",
    "        'subsample': trial.suggest_float('subsample', 0.25, 1.0),\n",
    "        'colsample_bytree': trial.suggest_float('colsample_bytree', 0.25, 1.0),\n",
    "        'max_bin': trial.suggest_int('max_bin', 50, 1000),\n",
    "        'reg_alpha': trial.suggest_loguniform('reg_alpha', 1e-8, 10.0),\n",
    "        'reg_lambda': trial.suggest_loguniform('reg_lambda', 1e-8, 10.0),\n",
    "        'min_split_gain': trial.suggest_float('min_split_gain', 0.1, 1.0),\n",
    "        'random_state': 42,\n",
    "        'early_stopping_rounds': 50,\n",
    "        'verbosity': -1,\n",
    "    }\n",
    "    \n",
    "    # For the DART boosting type, include dart‑specific parameters.\n",
    "\n",
    "    train_data = lgb.Dataset(X_train, label=y_train)\n",
    "    valid_data = lgb.Dataset(X_valid, label=y_valid, reference=train_data)\n",
    "    \n",
    "    # Initialize the model with these parameters\n",
    "    model = lgb.train(param, train_data, num_boost_round=100, valid_sets=[valid_data])\n",
    "    y_pred = model.predict(X_valid, num_iteration=model.best_iteration)\n",
    "    rmse = np.sqrt(mean_squared_error(y_valid, y_pred))    \n",
    "    return rmse\n",
    "\n",
    "\n",
    "optuna.logging.get_logger(\"optuna\").addHandler(logging.StreamHandler(sys.stdout))\n",
    "study_name = datetime.now().strftime(\"%Y-%m-%d_%H-%M-%S\")\n",
    "storage_name = f\"sqlite:///{os.path.join(optuna_dir, study_name)}.db\"\n",
    "study = optuna.create_study(study_name=study_name, storage=storage_name, direction='minimize')\n",
    "study.optimize(objective, n_trials=100)"
   ]
  },
  {
   "cell_type": "code",
   "execution_count": 38,
   "metadata": {},
   "outputs": [
    {
     "data": {
      "text/plain": [
       "'..//optuna/optuna_2025-02-04_12-18-00.log'"
      ]
     },
     "execution_count": 38,
     "metadata": {},
     "output_type": "execute_result"
    }
   ],
   "source": [
    "import os\n"
   ]
  },
  {
   "cell_type": "code",
   "execution_count": 39,
   "metadata": {},
   "outputs": [],
   "source": [
    "def objective(trial):    \n",
    "    # Define the hyperparameter search space\n",
    "    param = {\n",
    "        'objective': 'regression',\n",
    "        'metric': 'rmse',\n",
    "        'num_leaves': trial.suggest_int('num_leaves', 500, 1500),\n",
    "        'max_depth': trial.suggest_int('max_depth', 6, 40),\n",
    "        'learning_rate': trial.suggest_loguniform('learning_rate', 1e-3, 0.5),\n",
    "        'n_estimators': trial.suggest_int('n_estimators', 50, 10000),\n",
    "        'min_child_samples': trial.suggest_int('min_child_samples', 5, 300),\n",
    "        'subsample': trial.suggest_float('subsample', 0.05, .5),\n",
    "        'colsample_bytree': trial.suggest_float('colsample_bytree', 0.15, .5),\n",
    "        'max_bin': trial.suggest_int('max_bin', 500, 10000),\n",
    "        'reg_alpha': trial.suggest_loguniform('reg_alpha', 1e-8, 1.0),\n",
    "        'reg_lambda': trial.suggest_loguniform('reg_lambda', 1e-8, 1.0),\n",
    "        'min_split_gain': trial.suggest_float('min_split_gain', 0.4, 0.6),\n",
    "        'random_state': 42,\n",
    "        'early_stopping_rounds': 50,\n",
    "        'verbosity': -1,\n",
    "    }\n",
    "    \n",
    "    train_data = lgb.Dataset(X_train, label=y_train)\n",
    "    valid_data = lgb.Dataset(X_valid, label=y_valid, reference=train_data)\n",
    "    \n",
    "    # Initialize the model with these parameters\n",
    "    model = lgb.train(param, train_data, num_boost_round=200, valid_sets=[valid_data])\n",
    "    y_pred = model.predict(X_valid, num_iteration=model.best_iteration)\n",
    "    rmse = np.sqrt(mean_squared_error(y_valid, y_pred))    \n",
    "    return rmse\n",
    "\n",
    "optuna.logging.get_logger(\"optuna\").addHandler(logging.StreamHandler(sys.stdout))\n",
    "study_name = datetime.now().strftime(\"%Y-%m-%d_%H-%M-%S\")\n",
    "storage_name = f\"sqlite:///{os.path.join(optuna_dir, study_name)}.db\"\n",
    "study = optuna.create_study(study_name=study_name, storage=storage_name, direction='minimize')\n",
    "study.optimize(objective, n_trials=100)"
   ]
  },
  {
   "cell_type": "code",
   "execution_count": 41,
   "metadata": {},
   "outputs": [
    {
     "name": "stderr",
     "output_type": "stream",
     "text": [
      "[I 2025-02-04 12:22:09,967] A new study created in RDB with name: 2025-02-04_12-22-09\n"
     ]
    },
    {
     "name": "stdout",
     "output_type": "stream",
     "text": [
      "A new study created in RDB with name: 2025-02-04_12-22-09\n",
      "A new study created in RDB with name: 2025-02-04_12-22-09\n"
     ]
    },
    {
     "name": "stderr",
     "output_type": "stream",
     "text": [
      "[I 2025-02-04 12:22:35,814] Trial 0 finished with value: 38.83214048005187 and parameters: {'num_leaves': 1074, 'max_depth': 32, 'learning_rate': 0.1032184708260355, 'n_estimators': 9315, 'min_child_samples': 79, 'subsample': 0.2986549507351246, 'colsample_bytree': 0.37199977575137655, 'max_bin': 6605, 'reg_alpha': 5.280324603816464e-05, 'reg_lambda': 0.0006099973636033234, 'min_split_gain': 0.4179023899042439}. Best is trial 0 with value: 38.83214048005187.\n"
     ]
    },
    {
     "name": "stdout",
     "output_type": "stream",
     "text": [
      "Trial 0 finished with value: 38.83214048005187 and parameters: {'num_leaves': 1074, 'max_depth': 32, 'learning_rate': 0.1032184708260355, 'n_estimators': 9315, 'min_child_samples': 79, 'subsample': 0.2986549507351246, 'colsample_bytree': 0.37199977575137655, 'max_bin': 6605, 'reg_alpha': 5.280324603816464e-05, 'reg_lambda': 0.0006099973636033234, 'min_split_gain': 0.4179023899042439}. Best is trial 0 with value: 38.83214048005187.\n",
      "Trial 0 finished with value: 38.83214048005187 and parameters: {'num_leaves': 1074, 'max_depth': 32, 'learning_rate': 0.1032184708260355, 'n_estimators': 9315, 'min_child_samples': 79, 'subsample': 0.2986549507351246, 'colsample_bytree': 0.37199977575137655, 'max_bin': 6605, 'reg_alpha': 5.280324603816464e-05, 'reg_lambda': 0.0006099973636033234, 'min_split_gain': 0.4179023899042439}. Best is trial 0 with value: 38.83214048005187.\n"
     ]
    },
    {
     "name": "stderr",
     "output_type": "stream",
     "text": [
      "[I 2025-02-04 12:23:52,519] Trial 1 finished with value: 38.84311497189168 and parameters: {'num_leaves': 1321, 'max_depth': 17, 'learning_rate': 0.014633949727060527, 'n_estimators': 6950, 'min_child_samples': 229, 'subsample': 0.08001932333696223, 'colsample_bytree': 0.36727582350679094, 'max_bin': 3813, 'reg_alpha': 0.3578773702293137, 'reg_lambda': 1.2083661735249292e-07, 'min_split_gain': 0.595273733777373}. Best is trial 0 with value: 38.83214048005187.\n"
     ]
    },
    {
     "name": "stdout",
     "output_type": "stream",
     "text": [
      "Trial 1 finished with value: 38.84311497189168 and parameters: {'num_leaves': 1321, 'max_depth': 17, 'learning_rate': 0.014633949727060527, 'n_estimators': 6950, 'min_child_samples': 229, 'subsample': 0.08001932333696223, 'colsample_bytree': 0.36727582350679094, 'max_bin': 3813, 'reg_alpha': 0.3578773702293137, 'reg_lambda': 1.2083661735249292e-07, 'min_split_gain': 0.595273733777373}. Best is trial 0 with value: 38.83214048005187.\n",
      "Trial 1 finished with value: 38.84311497189168 and parameters: {'num_leaves': 1321, 'max_depth': 17, 'learning_rate': 0.014633949727060527, 'n_estimators': 6950, 'min_child_samples': 229, 'subsample': 0.08001932333696223, 'colsample_bytree': 0.36727582350679094, 'max_bin': 3813, 'reg_alpha': 0.3578773702293137, 'reg_lambda': 1.2083661735249292e-07, 'min_split_gain': 0.595273733777373}. Best is trial 0 with value: 38.83214048005187.\n"
     ]
    },
    {
     "name": "stderr",
     "output_type": "stream",
     "text": [
      "[I 2025-02-04 12:26:59,126] Trial 2 finished with value: 38.86587008315565 and parameters: {'num_leaves': 1166, 'max_depth': 30, 'learning_rate': 0.00129514707822666, 'n_estimators': 1090, 'min_child_samples': 293, 'subsample': 0.3017092408492118, 'colsample_bytree': 0.42484676683465644, 'max_bin': 6381, 'reg_alpha': 0.005263918547442489, 'reg_lambda': 0.0009457078307102236, 'min_split_gain': 0.5500182837198667}. Best is trial 0 with value: 38.83214048005187.\n"
     ]
    },
    {
     "name": "stdout",
     "output_type": "stream",
     "text": [
      "Trial 2 finished with value: 38.86587008315565 and parameters: {'num_leaves': 1166, 'max_depth': 30, 'learning_rate': 0.00129514707822666, 'n_estimators': 1090, 'min_child_samples': 293, 'subsample': 0.3017092408492118, 'colsample_bytree': 0.42484676683465644, 'max_bin': 6381, 'reg_alpha': 0.005263918547442489, 'reg_lambda': 0.0009457078307102236, 'min_split_gain': 0.5500182837198667}. Best is trial 0 with value: 38.83214048005187.\n",
      "Trial 2 finished with value: 38.86587008315565 and parameters: {'num_leaves': 1166, 'max_depth': 30, 'learning_rate': 0.00129514707822666, 'n_estimators': 1090, 'min_child_samples': 293, 'subsample': 0.3017092408492118, 'colsample_bytree': 0.42484676683465644, 'max_bin': 6381, 'reg_alpha': 0.005263918547442489, 'reg_lambda': 0.0009457078307102236, 'min_split_gain': 0.5500182837198667}. Best is trial 0 with value: 38.83214048005187.\n"
     ]
    },
    {
     "name": "stderr",
     "output_type": "stream",
     "text": [
      "[I 2025-02-04 12:29:12,432] Trial 3 finished with value: 38.82780645317168 and parameters: {'num_leaves': 1055, 'max_depth': 38, 'learning_rate': 0.0054797512033828545, 'n_estimators': 2356, 'min_child_samples': 233, 'subsample': 0.33467082236468454, 'colsample_bytree': 0.15696741756656077, 'max_bin': 7657, 'reg_alpha': 0.0006040550191818604, 'reg_lambda': 6.210040263299452e-08, 'min_split_gain': 0.40457709845150785}. Best is trial 3 with value: 38.82780645317168.\n"
     ]
    },
    {
     "name": "stdout",
     "output_type": "stream",
     "text": [
      "Trial 3 finished with value: 38.82780645317168 and parameters: {'num_leaves': 1055, 'max_depth': 38, 'learning_rate': 0.0054797512033828545, 'n_estimators': 2356, 'min_child_samples': 233, 'subsample': 0.33467082236468454, 'colsample_bytree': 0.15696741756656077, 'max_bin': 7657, 'reg_alpha': 0.0006040550191818604, 'reg_lambda': 6.210040263299452e-08, 'min_split_gain': 0.40457709845150785}. Best is trial 3 with value: 38.82780645317168.\n",
      "Trial 3 finished with value: 38.82780645317168 and parameters: {'num_leaves': 1055, 'max_depth': 38, 'learning_rate': 0.0054797512033828545, 'n_estimators': 2356, 'min_child_samples': 233, 'subsample': 0.33467082236468454, 'colsample_bytree': 0.15696741756656077, 'max_bin': 7657, 'reg_alpha': 0.0006040550191818604, 'reg_lambda': 6.210040263299452e-08, 'min_split_gain': 0.40457709845150785}. Best is trial 3 with value: 38.82780645317168.\n"
     ]
    },
    {
     "name": "stderr",
     "output_type": "stream",
     "text": [
      "[I 2025-02-04 12:32:46,971] Trial 4 finished with value: 38.86350916680426 and parameters: {'num_leaves': 1054, 'max_depth': 12, 'learning_rate': 0.0015627208550773358, 'n_estimators': 5316, 'min_child_samples': 157, 'subsample': 0.468108986146077, 'colsample_bytree': 0.15550535774448004, 'max_bin': 2471, 'reg_alpha': 1.1605116573079969e-07, 'reg_lambda': 4.334642559001425e-06, 'min_split_gain': 0.45482392296889773}. Best is trial 3 with value: 38.82780645317168.\n"
     ]
    },
    {
     "name": "stdout",
     "output_type": "stream",
     "text": [
      "Trial 4 finished with value: 38.86350916680426 and parameters: {'num_leaves': 1054, 'max_depth': 12, 'learning_rate': 0.0015627208550773358, 'n_estimators': 5316, 'min_child_samples': 157, 'subsample': 0.468108986146077, 'colsample_bytree': 0.15550535774448004, 'max_bin': 2471, 'reg_alpha': 1.1605116573079969e-07, 'reg_lambda': 4.334642559001425e-06, 'min_split_gain': 0.45482392296889773}. Best is trial 3 with value: 38.82780645317168.\n",
      "Trial 4 finished with value: 38.86350916680426 and parameters: {'num_leaves': 1054, 'max_depth': 12, 'learning_rate': 0.0015627208550773358, 'n_estimators': 5316, 'min_child_samples': 157, 'subsample': 0.468108986146077, 'colsample_bytree': 0.15550535774448004, 'max_bin': 2471, 'reg_alpha': 1.1605116573079969e-07, 'reg_lambda': 4.334642559001425e-06, 'min_split_gain': 0.45482392296889773}. Best is trial 3 with value: 38.82780645317168.\n"
     ]
    },
    {
     "name": "stderr",
     "output_type": "stream",
     "text": [
      "[I 2025-02-04 12:33:51,005] Trial 5 finished with value: 38.8531852057491 and parameters: {'num_leaves': 1244, 'max_depth': 38, 'learning_rate': 0.013297694004906234, 'n_estimators': 7584, 'min_child_samples': 134, 'subsample': 0.09945107651377079, 'colsample_bytree': 0.44612783615351076, 'max_bin': 2083, 'reg_alpha': 9.537632388712822e-07, 'reg_lambda': 1.2901001307921539e-06, 'min_split_gain': 0.49914893457801957}. Best is trial 3 with value: 38.82780645317168.\n"
     ]
    },
    {
     "name": "stdout",
     "output_type": "stream",
     "text": [
      "Trial 5 finished with value: 38.8531852057491 and parameters: {'num_leaves': 1244, 'max_depth': 38, 'learning_rate': 0.013297694004906234, 'n_estimators': 7584, 'min_child_samples': 134, 'subsample': 0.09945107651377079, 'colsample_bytree': 0.44612783615351076, 'max_bin': 2083, 'reg_alpha': 9.537632388712822e-07, 'reg_lambda': 1.2901001307921539e-06, 'min_split_gain': 0.49914893457801957}. Best is trial 3 with value: 38.82780645317168.\n",
      "Trial 5 finished with value: 38.8531852057491 and parameters: {'num_leaves': 1244, 'max_depth': 38, 'learning_rate': 0.013297694004906234, 'n_estimators': 7584, 'min_child_samples': 134, 'subsample': 0.09945107651377079, 'colsample_bytree': 0.44612783615351076, 'max_bin': 2083, 'reg_alpha': 9.537632388712822e-07, 'reg_lambda': 1.2901001307921539e-06, 'min_split_gain': 0.49914893457801957}. Best is trial 3 with value: 38.82780645317168.\n"
     ]
    },
    {
     "name": "stderr",
     "output_type": "stream",
     "text": [
      "[I 2025-02-04 12:43:05,725] Trial 6 finished with value: 38.827065354810586 and parameters: {'num_leaves': 928, 'max_depth': 10, 'learning_rate': 0.0063215366323083125, 'n_estimators': 9234, 'min_child_samples': 262, 'subsample': 0.15592107265986693, 'colsample_bytree': 0.36814861955699363, 'max_bin': 9116, 'reg_alpha': 9.143547903946156e-05, 'reg_lambda': 1.936825393081825e-07, 'min_split_gain': 0.42113365087382476}. Best is trial 6 with value: 38.827065354810586.\n"
     ]
    },
    {
     "name": "stdout",
     "output_type": "stream",
     "text": [
      "Trial 6 finished with value: 38.827065354810586 and parameters: {'num_leaves': 928, 'max_depth': 10, 'learning_rate': 0.0063215366323083125, 'n_estimators': 9234, 'min_child_samples': 262, 'subsample': 0.15592107265986693, 'colsample_bytree': 0.36814861955699363, 'max_bin': 9116, 'reg_alpha': 9.143547903946156e-05, 'reg_lambda': 1.936825393081825e-07, 'min_split_gain': 0.42113365087382476}. Best is trial 6 with value: 38.827065354810586.\n",
      "Trial 6 finished with value: 38.827065354810586 and parameters: {'num_leaves': 928, 'max_depth': 10, 'learning_rate': 0.0063215366323083125, 'n_estimators': 9234, 'min_child_samples': 262, 'subsample': 0.15592107265986693, 'colsample_bytree': 0.36814861955699363, 'max_bin': 9116, 'reg_alpha': 9.143547903946156e-05, 'reg_lambda': 1.936825393081825e-07, 'min_split_gain': 0.42113365087382476}. Best is trial 6 with value: 38.827065354810586.\n"
     ]
    },
    {
     "name": "stderr",
     "output_type": "stream",
     "text": [
      "[I 2025-02-04 12:50:00,702] Trial 7 finished with value: 38.837859328252264 and parameters: {'num_leaves': 843, 'max_depth': 21, 'learning_rate': 0.0039921928676154034, 'n_estimators': 6470, 'min_child_samples': 126, 'subsample': 0.20384229068236615, 'colsample_bytree': 0.4289835968845238, 'max_bin': 6565, 'reg_alpha': 7.965326020706652e-07, 'reg_lambda': 0.7230257372372815, 'min_split_gain': 0.4552186902157453}. Best is trial 6 with value: 38.827065354810586.\n"
     ]
    },
    {
     "name": "stdout",
     "output_type": "stream",
     "text": [
      "Trial 7 finished with value: 38.837859328252264 and parameters: {'num_leaves': 843, 'max_depth': 21, 'learning_rate': 0.0039921928676154034, 'n_estimators': 6470, 'min_child_samples': 126, 'subsample': 0.20384229068236615, 'colsample_bytree': 0.4289835968845238, 'max_bin': 6565, 'reg_alpha': 7.965326020706652e-07, 'reg_lambda': 0.7230257372372815, 'min_split_gain': 0.4552186902157453}. Best is trial 6 with value: 38.827065354810586.\n",
      "Trial 7 finished with value: 38.837859328252264 and parameters: {'num_leaves': 843, 'max_depth': 21, 'learning_rate': 0.0039921928676154034, 'n_estimators': 6470, 'min_child_samples': 126, 'subsample': 0.20384229068236615, 'colsample_bytree': 0.4289835968845238, 'max_bin': 6565, 'reg_alpha': 7.965326020706652e-07, 'reg_lambda': 0.7230257372372815, 'min_split_gain': 0.4552186902157453}. Best is trial 6 with value: 38.827065354810586.\n"
     ]
    },
    {
     "name": "stderr",
     "output_type": "stream",
     "text": [
      "[I 2025-02-04 12:55:14,174] Trial 8 finished with value: 38.83969037632169 and parameters: {'num_leaves': 1149, 'max_depth': 24, 'learning_rate': 0.0032911643425060353, 'n_estimators': 9399, 'min_child_samples': 221, 'subsample': 0.09530164689435909, 'colsample_bytree': 0.4147289405422422, 'max_bin': 4429, 'reg_alpha': 1.3074806869184542e-08, 'reg_lambda': 0.0018095941009776222, 'min_split_gain': 0.4176800168038699}. Best is trial 6 with value: 38.827065354810586.\n"
     ]
    },
    {
     "name": "stdout",
     "output_type": "stream",
     "text": [
      "Trial 8 finished with value: 38.83969037632169 and parameters: {'num_leaves': 1149, 'max_depth': 24, 'learning_rate': 0.0032911643425060353, 'n_estimators': 9399, 'min_child_samples': 221, 'subsample': 0.09530164689435909, 'colsample_bytree': 0.4147289405422422, 'max_bin': 4429, 'reg_alpha': 1.3074806869184542e-08, 'reg_lambda': 0.0018095941009776222, 'min_split_gain': 0.4176800168038699}. Best is trial 6 with value: 38.827065354810586.\n",
      "Trial 8 finished with value: 38.83969037632169 and parameters: {'num_leaves': 1149, 'max_depth': 24, 'learning_rate': 0.0032911643425060353, 'n_estimators': 9399, 'min_child_samples': 221, 'subsample': 0.09530164689435909, 'colsample_bytree': 0.4147289405422422, 'max_bin': 4429, 'reg_alpha': 1.3074806869184542e-08, 'reg_lambda': 0.0018095941009776222, 'min_split_gain': 0.4176800168038699}. Best is trial 6 with value: 38.827065354810586.\n"
     ]
    },
    {
     "name": "stderr",
     "output_type": "stream",
     "text": [
      "[I 2025-02-04 12:57:09,138] Trial 9 finished with value: 38.84118336529294 and parameters: {'num_leaves': 1359, 'max_depth': 19, 'learning_rate': 0.005593716920780791, 'n_estimators': 2017, 'min_child_samples': 188, 'subsample': 0.470715187003396, 'colsample_bytree': 0.19752918294124386, 'max_bin': 4236, 'reg_alpha': 5.143705899975283e-05, 'reg_lambda': 0.02184244588078684, 'min_split_gain': 0.5839433927337799}. Best is trial 6 with value: 38.827065354810586.\n"
     ]
    },
    {
     "name": "stdout",
     "output_type": "stream",
     "text": [
      "Trial 9 finished with value: 38.84118336529294 and parameters: {'num_leaves': 1359, 'max_depth': 19, 'learning_rate': 0.005593716920780791, 'n_estimators': 2017, 'min_child_samples': 188, 'subsample': 0.470715187003396, 'colsample_bytree': 0.19752918294124386, 'max_bin': 4236, 'reg_alpha': 5.143705899975283e-05, 'reg_lambda': 0.02184244588078684, 'min_split_gain': 0.5839433927337799}. Best is trial 6 with value: 38.827065354810586.\n",
      "Trial 9 finished with value: 38.84118336529294 and parameters: {'num_leaves': 1359, 'max_depth': 19, 'learning_rate': 0.005593716920780791, 'n_estimators': 2017, 'min_child_samples': 188, 'subsample': 0.470715187003396, 'colsample_bytree': 0.19752918294124386, 'max_bin': 4236, 'reg_alpha': 5.143705899975283e-05, 'reg_lambda': 0.02184244588078684, 'min_split_gain': 0.5839433927337799}. Best is trial 6 with value: 38.827065354810586.\n"
     ]
    },
    {
     "name": "stderr",
     "output_type": "stream",
     "text": [
      "[I 2025-02-04 12:58:43,230] Trial 10 finished with value: 38.820313415129704 and parameters: {'num_leaves': 651, 'max_depth': 6, 'learning_rate': 0.08499786912563975, 'n_estimators': 3941, 'min_child_samples': 296, 'subsample': 0.21509557868896928, 'colsample_bytree': 0.27102992147310156, 'max_bin': 9785, 'reg_alpha': 0.1101943974482543, 'reg_lambda': 1.4141629309702999e-05, 'min_split_gain': 0.5059519625698977}. Best is trial 10 with value: 38.820313415129704.\n"
     ]
    },
    {
     "name": "stdout",
     "output_type": "stream",
     "text": [
      "Trial 10 finished with value: 38.820313415129704 and parameters: {'num_leaves': 651, 'max_depth': 6, 'learning_rate': 0.08499786912563975, 'n_estimators': 3941, 'min_child_samples': 296, 'subsample': 0.21509557868896928, 'colsample_bytree': 0.27102992147310156, 'max_bin': 9785, 'reg_alpha': 0.1101943974482543, 'reg_lambda': 1.4141629309702999e-05, 'min_split_gain': 0.5059519625698977}. Best is trial 10 with value: 38.820313415129704.\n",
      "Trial 10 finished with value: 38.820313415129704 and parameters: {'num_leaves': 651, 'max_depth': 6, 'learning_rate': 0.08499786912563975, 'n_estimators': 3941, 'min_child_samples': 296, 'subsample': 0.21509557868896928, 'colsample_bytree': 0.27102992147310156, 'max_bin': 9785, 'reg_alpha': 0.1101943974482543, 'reg_lambda': 1.4141629309702999e-05, 'min_split_gain': 0.5059519625698977}. Best is trial 10 with value: 38.820313415129704.\n"
     ]
    },
    {
     "name": "stderr",
     "output_type": "stream",
     "text": [
      "[I 2025-02-04 12:59:41,297] Trial 11 finished with value: 38.82286351856431 and parameters: {'num_leaves': 529, 'max_depth': 6, 'learning_rate': 0.10658548893716693, 'n_estimators': 3645, 'min_child_samples': 293, 'subsample': 0.19717182441535563, 'colsample_bytree': 0.2679456057449048, 'max_bin': 9862, 'reg_alpha': 0.42810435572474104, 'reg_lambda': 1.2104343951224893e-05, 'min_split_gain': 0.5138112168625194}. Best is trial 10 with value: 38.820313415129704.\n"
     ]
    },
    {
     "name": "stdout",
     "output_type": "stream",
     "text": [
      "Trial 11 finished with value: 38.82286351856431 and parameters: {'num_leaves': 529, 'max_depth': 6, 'learning_rate': 0.10658548893716693, 'n_estimators': 3645, 'min_child_samples': 293, 'subsample': 0.19717182441535563, 'colsample_bytree': 0.2679456057449048, 'max_bin': 9862, 'reg_alpha': 0.42810435572474104, 'reg_lambda': 1.2104343951224893e-05, 'min_split_gain': 0.5138112168625194}. Best is trial 10 with value: 38.820313415129704.\n",
      "Trial 11 finished with value: 38.82286351856431 and parameters: {'num_leaves': 529, 'max_depth': 6, 'learning_rate': 0.10658548893716693, 'n_estimators': 3645, 'min_child_samples': 293, 'subsample': 0.19717182441535563, 'colsample_bytree': 0.2679456057449048, 'max_bin': 9862, 'reg_alpha': 0.42810435572474104, 'reg_lambda': 1.2104343951224893e-05, 'min_split_gain': 0.5138112168625194}. Best is trial 10 with value: 38.820313415129704.\n"
     ]
    },
    {
     "name": "stderr",
     "output_type": "stream",
     "text": [
      "[I 2025-02-04 13:00:20,975] Trial 12 finished with value: 38.82317574526527 and parameters: {'num_leaves': 515, 'max_depth': 7, 'learning_rate': 0.14204541364669426, 'n_estimators': 3725, 'min_child_samples': 295, 'subsample': 0.21114205972082914, 'colsample_bytree': 0.25059140436724325, 'max_bin': 9819, 'reg_alpha': 0.7687328504649573, 'reg_lambda': 1.5269675038172585e-05, 'min_split_gain': 0.5181350737029258}. Best is trial 10 with value: 38.820313415129704.\n"
     ]
    },
    {
     "name": "stdout",
     "output_type": "stream",
     "text": [
      "Trial 12 finished with value: 38.82317574526527 and parameters: {'num_leaves': 515, 'max_depth': 7, 'learning_rate': 0.14204541364669426, 'n_estimators': 3725, 'min_child_samples': 295, 'subsample': 0.21114205972082914, 'colsample_bytree': 0.25059140436724325, 'max_bin': 9819, 'reg_alpha': 0.7687328504649573, 'reg_lambda': 1.5269675038172585e-05, 'min_split_gain': 0.5181350737029258}. Best is trial 10 with value: 38.820313415129704.\n",
      "Trial 12 finished with value: 38.82317574526527 and parameters: {'num_leaves': 515, 'max_depth': 7, 'learning_rate': 0.14204541364669426, 'n_estimators': 3725, 'min_child_samples': 295, 'subsample': 0.21114205972082914, 'colsample_bytree': 0.25059140436724325, 'max_bin': 9819, 'reg_alpha': 0.7687328504649573, 'reg_lambda': 1.5269675038172585e-05, 'min_split_gain': 0.5181350737029258}. Best is trial 10 with value: 38.820313415129704.\n"
     ]
    },
    {
     "name": "stderr",
     "output_type": "stream",
     "text": [
      "[I 2025-02-04 13:00:31,956] Trial 13 finished with value: 38.83295241723248 and parameters: {'num_leaves': 552, 'max_depth': 6, 'learning_rate': 0.4271384581089794, 'n_estimators': 4263, 'min_child_samples': 28, 'subsample': 0.22685264593779111, 'colsample_bytree': 0.2877645327651583, 'max_bin': 8514, 'reg_alpha': 0.03585966966744056, 'reg_lambda': 4.9868398729451845e-05, 'min_split_gain': 0.5056535374298237}. Best is trial 10 with value: 38.820313415129704.\n"
     ]
    },
    {
     "name": "stdout",
     "output_type": "stream",
     "text": [
      "Trial 13 finished with value: 38.83295241723248 and parameters: {'num_leaves': 552, 'max_depth': 6, 'learning_rate': 0.4271384581089794, 'n_estimators': 4263, 'min_child_samples': 28, 'subsample': 0.22685264593779111, 'colsample_bytree': 0.2877645327651583, 'max_bin': 8514, 'reg_alpha': 0.03585966966744056, 'reg_lambda': 4.9868398729451845e-05, 'min_split_gain': 0.5056535374298237}. Best is trial 10 with value: 38.820313415129704.\n",
      "Trial 13 finished with value: 38.83295241723248 and parameters: {'num_leaves': 552, 'max_depth': 6, 'learning_rate': 0.4271384581089794, 'n_estimators': 4263, 'min_child_samples': 28, 'subsample': 0.22685264593779111, 'colsample_bytree': 0.2877645327651583, 'max_bin': 8514, 'reg_alpha': 0.03585966966744056, 'reg_lambda': 4.9868398729451845e-05, 'min_split_gain': 0.5056535374298237}. Best is trial 10 with value: 38.820313415129704.\n"
     ]
    },
    {
     "name": "stderr",
     "output_type": "stream",
     "text": [
      "[I 2025-02-04 13:01:41,792] Trial 14 finished with value: 38.82546967019217 and parameters: {'num_leaves': 704, 'max_depth': 14, 'learning_rate': 0.05221334367962454, 'n_estimators': 3388, 'min_child_samples': 266, 'subsample': 0.37857513609179594, 'colsample_bytree': 0.2574797969818269, 'max_bin': 8177, 'reg_alpha': 0.0443278269864338, 'reg_lambda': 1.7774129862588653e-06, 'min_split_gain': 0.5378362868868363}. Best is trial 10 with value: 38.820313415129704.\n"
     ]
    },
    {
     "name": "stdout",
     "output_type": "stream",
     "text": [
      "Trial 14 finished with value: 38.82546967019217 and parameters: {'num_leaves': 704, 'max_depth': 14, 'learning_rate': 0.05221334367962454, 'n_estimators': 3388, 'min_child_samples': 266, 'subsample': 0.37857513609179594, 'colsample_bytree': 0.2574797969818269, 'max_bin': 8177, 'reg_alpha': 0.0443278269864338, 'reg_lambda': 1.7774129862588653e-06, 'min_split_gain': 0.5378362868868363}. Best is trial 10 with value: 38.820313415129704.\n",
      "Trial 14 finished with value: 38.82546967019217 and parameters: {'num_leaves': 704, 'max_depth': 14, 'learning_rate': 0.05221334367962454, 'n_estimators': 3388, 'min_child_samples': 266, 'subsample': 0.37857513609179594, 'colsample_bytree': 0.2574797969818269, 'max_bin': 8177, 'reg_alpha': 0.0443278269864338, 'reg_lambda': 1.7774129862588653e-06, 'min_split_gain': 0.5378362868868363}. Best is trial 10 with value: 38.820313415129704.\n"
     ]
    },
    {
     "name": "stderr",
     "output_type": "stream",
     "text": [
      "[I 2025-02-04 13:01:46,235] Trial 15 finished with value: 38.87482971372697 and parameters: {'num_leaves': 715, 'max_depth': 6, 'learning_rate': 0.04745620652194085, 'n_estimators': 87, 'min_child_samples': 188, 'subsample': 0.15411642472031778, 'colsample_bytree': 0.30134818215282616, 'max_bin': 9687, 'reg_alpha': 0.007264741469675856, 'reg_lambda': 1.4079910496850451e-08, 'min_split_gain': 0.4764609389923388}. Best is trial 10 with value: 38.820313415129704.\n"
     ]
    },
    {
     "name": "stdout",
     "output_type": "stream",
     "text": [
      "Trial 15 finished with value: 38.87482971372697 and parameters: {'num_leaves': 715, 'max_depth': 6, 'learning_rate': 0.04745620652194085, 'n_estimators': 87, 'min_child_samples': 188, 'subsample': 0.15411642472031778, 'colsample_bytree': 0.30134818215282616, 'max_bin': 9687, 'reg_alpha': 0.007264741469675856, 'reg_lambda': 1.4079910496850451e-08, 'min_split_gain': 0.4764609389923388}. Best is trial 10 with value: 38.820313415129704.\n",
      "Trial 15 finished with value: 38.87482971372697 and parameters: {'num_leaves': 715, 'max_depth': 6, 'learning_rate': 0.04745620652194085, 'n_estimators': 87, 'min_child_samples': 188, 'subsample': 0.15411642472031778, 'colsample_bytree': 0.30134818215282616, 'max_bin': 9687, 'reg_alpha': 0.007264741469675856, 'reg_lambda': 1.4079910496850451e-08, 'min_split_gain': 0.4764609389923388}. Best is trial 10 with value: 38.820313415129704.\n"
     ]
    },
    {
     "name": "stderr",
     "output_type": "stream",
     "text": [
      "[I 2025-02-04 13:01:53,805] Trial 16 finished with value: 38.83071282033174 and parameters: {'num_leaves': 664, 'max_depth': 15, 'learning_rate': 0.39391759225503215, 'n_estimators': 5355, 'min_child_samples': 299, 'subsample': 0.2524849462577718, 'colsample_bytree': 0.21852870737396976, 'max_bin': 7469, 'reg_alpha': 0.10237525743748846, 'reg_lambda': 0.00014797147879885204, 'min_split_gain': 0.5525694209380098}. Best is trial 10 with value: 38.820313415129704.\n"
     ]
    },
    {
     "name": "stdout",
     "output_type": "stream",
     "text": [
      "Trial 16 finished with value: 38.83071282033174 and parameters: {'num_leaves': 664, 'max_depth': 15, 'learning_rate': 0.39391759225503215, 'n_estimators': 5355, 'min_child_samples': 299, 'subsample': 0.2524849462577718, 'colsample_bytree': 0.21852870737396976, 'max_bin': 7469, 'reg_alpha': 0.10237525743748846, 'reg_lambda': 0.00014797147879885204, 'min_split_gain': 0.5525694209380098}. Best is trial 10 with value: 38.820313415129704.\n",
      "Trial 16 finished with value: 38.83071282033174 and parameters: {'num_leaves': 664, 'max_depth': 15, 'learning_rate': 0.39391759225503215, 'n_estimators': 5355, 'min_child_samples': 299, 'subsample': 0.2524849462577718, 'colsample_bytree': 0.21852870737396976, 'max_bin': 7469, 'reg_alpha': 0.10237525743748846, 'reg_lambda': 0.00014797147879885204, 'min_split_gain': 0.5525694209380098}. Best is trial 10 with value: 38.820313415129704.\n"
     ]
    },
    {
     "name": "stderr",
     "output_type": "stream",
     "text": [
      "[I 2025-02-04 13:02:06,934] Trial 17 finished with value: 38.83615322458915 and parameters: {'num_leaves': 821, 'max_depth': 25, 'learning_rate': 0.1572120670958296, 'n_estimators': 2372, 'min_child_samples': 250, 'subsample': 0.15550322808957676, 'colsample_bytree': 0.3220854408810442, 'max_bin': 5534, 'reg_alpha': 0.004650019958263087, 'reg_lambda': 0.01583347273924507, 'min_split_gain': 0.4696865327053774}. Best is trial 10 with value: 38.820313415129704.\n"
     ]
    },
    {
     "name": "stdout",
     "output_type": "stream",
     "text": [
      "Trial 17 finished with value: 38.83615322458915 and parameters: {'num_leaves': 821, 'max_depth': 25, 'learning_rate': 0.1572120670958296, 'n_estimators': 2372, 'min_child_samples': 250, 'subsample': 0.15550322808957676, 'colsample_bytree': 0.3220854408810442, 'max_bin': 5534, 'reg_alpha': 0.004650019958263087, 'reg_lambda': 0.01583347273924507, 'min_split_gain': 0.4696865327053774}. Best is trial 10 with value: 38.820313415129704.\n",
      "Trial 17 finished with value: 38.83615322458915 and parameters: {'num_leaves': 821, 'max_depth': 25, 'learning_rate': 0.1572120670958296, 'n_estimators': 2372, 'min_child_samples': 250, 'subsample': 0.15550322808957676, 'colsample_bytree': 0.3220854408810442, 'max_bin': 5534, 'reg_alpha': 0.004650019958263087, 'reg_lambda': 0.01583347273924507, 'min_split_gain': 0.4696865327053774}. Best is trial 10 with value: 38.820313415129704.\n"
     ]
    },
    {
     "name": "stderr",
     "output_type": "stream",
     "text": [
      "[I 2025-02-04 13:02:29,683] Trial 18 finished with value: 38.86272645686355 and parameters: {'num_leaves': 621, 'max_depth': 11, 'learning_rate': 0.04296823733892652, 'n_estimators': 4311, 'min_child_samples': 194, 'subsample': 0.3992955911792999, 'colsample_bytree': 0.48538710506202676, 'max_bin': 728, 'reg_alpha': 0.0004095523435403177, 'reg_lambda': 1.201113127367651e-05, 'min_split_gain': 0.5247927473926083}. Best is trial 10 with value: 38.820313415129704.\n"
     ]
    },
    {
     "name": "stdout",
     "output_type": "stream",
     "text": [
      "Trial 18 finished with value: 38.86272645686355 and parameters: {'num_leaves': 621, 'max_depth': 11, 'learning_rate': 0.04296823733892652, 'n_estimators': 4311, 'min_child_samples': 194, 'subsample': 0.3992955911792999, 'colsample_bytree': 0.48538710506202676, 'max_bin': 728, 'reg_alpha': 0.0004095523435403177, 'reg_lambda': 1.201113127367651e-05, 'min_split_gain': 0.5247927473926083}. Best is trial 10 with value: 38.820313415129704.\n",
      "Trial 18 finished with value: 38.86272645686355 and parameters: {'num_leaves': 621, 'max_depth': 11, 'learning_rate': 0.04296823733892652, 'n_estimators': 4311, 'min_child_samples': 194, 'subsample': 0.3992955911792999, 'colsample_bytree': 0.48538710506202676, 'max_bin': 728, 'reg_alpha': 0.0004095523435403177, 'reg_lambda': 1.201113127367651e-05, 'min_split_gain': 0.5247927473926083}. Best is trial 10 with value: 38.820313415129704.\n"
     ]
    },
    {
     "name": "stderr",
     "output_type": "stream",
     "text": [
      "[I 2025-02-04 13:02:57,696] Trial 19 finished with value: 38.821930169215705 and parameters: {'num_leaves': 1486, 'max_depth': 8, 'learning_rate': 0.21534125301698376, 'n_estimators': 6022, 'min_child_samples': 80, 'subsample': 0.17891005690264974, 'colsample_bytree': 0.2668097428837848, 'max_bin': 9980, 'reg_alpha': 0.8539718019329201, 'reg_lambda': 7.992816693736307e-05, 'min_split_gain': 0.570608714541899}. Best is trial 10 with value: 38.820313415129704.\n"
     ]
    },
    {
     "name": "stdout",
     "output_type": "stream",
     "text": [
      "Trial 19 finished with value: 38.821930169215705 and parameters: {'num_leaves': 1486, 'max_depth': 8, 'learning_rate': 0.21534125301698376, 'n_estimators': 6022, 'min_child_samples': 80, 'subsample': 0.17891005690264974, 'colsample_bytree': 0.2668097428837848, 'max_bin': 9980, 'reg_alpha': 0.8539718019329201, 'reg_lambda': 7.992816693736307e-05, 'min_split_gain': 0.570608714541899}. Best is trial 10 with value: 38.820313415129704.\n",
      "Trial 19 finished with value: 38.821930169215705 and parameters: {'num_leaves': 1486, 'max_depth': 8, 'learning_rate': 0.21534125301698376, 'n_estimators': 6022, 'min_child_samples': 80, 'subsample': 0.17891005690264974, 'colsample_bytree': 0.2668097428837848, 'max_bin': 9980, 'reg_alpha': 0.8539718019329201, 'reg_lambda': 7.992816693736307e-05, 'min_split_gain': 0.570608714541899}. Best is trial 10 with value: 38.820313415129704.\n"
     ]
    },
    {
     "name": "stderr",
     "output_type": "stream",
     "text": [
      "[I 2025-02-04 13:03:13,162] Trial 20 finished with value: 38.82920907206361 and parameters: {'num_leaves': 1394, 'max_depth': 9, 'learning_rate': 0.2447216168346651, 'n_estimators': 6378, 'min_child_samples': 69, 'subsample': 0.2580605914794928, 'colsample_bytree': 0.20925944340075325, 'max_bin': 9031, 'reg_alpha': 4.492931374255777e-06, 'reg_lambda': 0.00012428947651444707, 'min_split_gain': 0.5795370178038942}. Best is trial 10 with value: 38.820313415129704.\n"
     ]
    },
    {
     "name": "stdout",
     "output_type": "stream",
     "text": [
      "Trial 20 finished with value: 38.82920907206361 and parameters: {'num_leaves': 1394, 'max_depth': 9, 'learning_rate': 0.2447216168346651, 'n_estimators': 6378, 'min_child_samples': 69, 'subsample': 0.2580605914794928, 'colsample_bytree': 0.20925944340075325, 'max_bin': 9031, 'reg_alpha': 4.492931374255777e-06, 'reg_lambda': 0.00012428947651444707, 'min_split_gain': 0.5795370178038942}. Best is trial 10 with value: 38.820313415129704.\n",
      "Trial 20 finished with value: 38.82920907206361 and parameters: {'num_leaves': 1394, 'max_depth': 9, 'learning_rate': 0.2447216168346651, 'n_estimators': 6378, 'min_child_samples': 69, 'subsample': 0.2580605914794928, 'colsample_bytree': 0.20925944340075325, 'max_bin': 9031, 'reg_alpha': 4.492931374255777e-06, 'reg_lambda': 0.00012428947651444707, 'min_split_gain': 0.5795370178038942}. Best is trial 10 with value: 38.820313415129704.\n"
     ]
    },
    {
     "name": "stderr",
     "output_type": "stream",
     "text": [
      "[I 2025-02-04 13:03:54,077] Trial 21 finished with value: 38.82487335891074 and parameters: {'num_leaves': 1474, 'max_depth': 9, 'learning_rate': 0.0846000236831372, 'n_estimators': 5357, 'min_child_samples': 11, 'subsample': 0.18095580380935994, 'colsample_bytree': 0.2456408730133455, 'max_bin': 9952, 'reg_alpha': 0.9172903476009258, 'reg_lambda': 5.851962374041015e-07, 'min_split_gain': 0.5652557030167851}. Best is trial 10 with value: 38.820313415129704.\n"
     ]
    },
    {
     "name": "stdout",
     "output_type": "stream",
     "text": [
      "Trial 21 finished with value: 38.82487335891074 and parameters: {'num_leaves': 1474, 'max_depth': 9, 'learning_rate': 0.0846000236831372, 'n_estimators': 5357, 'min_child_samples': 11, 'subsample': 0.18095580380935994, 'colsample_bytree': 0.2456408730133455, 'max_bin': 9952, 'reg_alpha': 0.9172903476009258, 'reg_lambda': 5.851962374041015e-07, 'min_split_gain': 0.5652557030167851}. Best is trial 10 with value: 38.820313415129704.\n",
      "Trial 21 finished with value: 38.82487335891074 and parameters: {'num_leaves': 1474, 'max_depth': 9, 'learning_rate': 0.0846000236831372, 'n_estimators': 5357, 'min_child_samples': 11, 'subsample': 0.18095580380935994, 'colsample_bytree': 0.2456408730133455, 'max_bin': 9952, 'reg_alpha': 0.9172903476009258, 'reg_lambda': 5.851962374041015e-07, 'min_split_gain': 0.5652557030167851}. Best is trial 10 with value: 38.820313415129704.\n"
     ]
    },
    {
     "name": "stderr",
     "output_type": "stream",
     "text": [
      "[I 2025-02-04 13:04:10,363] Trial 22 finished with value: 38.83113990186426 and parameters: {'num_leaves': 775, 'max_depth': 12, 'learning_rate': 0.22212112793430397, 'n_estimators': 3246, 'min_child_samples': 95, 'subsample': 0.1280680974762466, 'colsample_bytree': 0.29160501545164086, 'max_bin': 8805, 'reg_alpha': 0.17239382795615057, 'reg_lambda': 3.589927893005174e-05, 'min_split_gain': 0.4916390582026494}. Best is trial 10 with value: 38.820313415129704.\n"
     ]
    },
    {
     "name": "stdout",
     "output_type": "stream",
     "text": [
      "Trial 22 finished with value: 38.83113990186426 and parameters: {'num_leaves': 775, 'max_depth': 12, 'learning_rate': 0.22212112793430397, 'n_estimators': 3246, 'min_child_samples': 95, 'subsample': 0.1280680974762466, 'colsample_bytree': 0.29160501545164086, 'max_bin': 8805, 'reg_alpha': 0.17239382795615057, 'reg_lambda': 3.589927893005174e-05, 'min_split_gain': 0.4916390582026494}. Best is trial 10 with value: 38.820313415129704.\n",
      "Trial 22 finished with value: 38.83113990186426 and parameters: {'num_leaves': 775, 'max_depth': 12, 'learning_rate': 0.22212112793430397, 'n_estimators': 3246, 'min_child_samples': 95, 'subsample': 0.1280680974762466, 'colsample_bytree': 0.29160501545164086, 'max_bin': 8805, 'reg_alpha': 0.17239382795615057, 'reg_lambda': 3.589927893005174e-05, 'min_split_gain': 0.4916390582026494}. Best is trial 10 with value: 38.820313415129704.\n"
     ]
    },
    {
     "name": "stderr",
     "output_type": "stream",
     "text": [
      "[I 2025-02-04 13:05:40,566] Trial 23 finished with value: 38.82731994428463 and parameters: {'num_leaves': 929, 'max_depth': 16, 'learning_rate': 0.026300109706952346, 'n_estimators': 7797, 'min_child_samples': 57, 'subsample': 0.2423259432963044, 'colsample_bytree': 0.3250266173711625, 'max_bin': 7663, 'reg_alpha': 0.018990486307641594, 'reg_lambda': 3.795521274188594e-06, 'min_split_gain': 0.538224623773988}. Best is trial 10 with value: 38.820313415129704.\n"
     ]
    },
    {
     "name": "stdout",
     "output_type": "stream",
     "text": [
      "Trial 23 finished with value: 38.82731994428463 and parameters: {'num_leaves': 929, 'max_depth': 16, 'learning_rate': 0.026300109706952346, 'n_estimators': 7797, 'min_child_samples': 57, 'subsample': 0.2423259432963044, 'colsample_bytree': 0.3250266173711625, 'max_bin': 7663, 'reg_alpha': 0.018990486307641594, 'reg_lambda': 3.795521274188594e-06, 'min_split_gain': 0.538224623773988}. Best is trial 10 with value: 38.820313415129704.\n",
      "Trial 23 finished with value: 38.82731994428463 and parameters: {'num_leaves': 929, 'max_depth': 16, 'learning_rate': 0.026300109706952346, 'n_estimators': 7797, 'min_child_samples': 57, 'subsample': 0.2423259432963044, 'colsample_bytree': 0.3250266173711625, 'max_bin': 7663, 'reg_alpha': 0.018990486307641594, 'reg_lambda': 3.795521274188594e-06, 'min_split_gain': 0.538224623773988}. Best is trial 10 with value: 38.820313415129704.\n"
     ]
    },
    {
     "name": "stderr",
     "output_type": "stream",
     "text": [
      "[I 2025-02-04 13:07:18,954] Trial 24 finished with value: 38.8182533820295 and parameters: {'num_leaves': 563, 'max_depth': 6, 'learning_rate': 0.08267078479205357, 'n_estimators': 4627, 'min_child_samples': 273, 'subsample': 0.1950013125374263, 'colsample_bytree': 0.2706998364999406, 'max_bin': 9952, 'reg_alpha': 0.17636965529507442, 'reg_lambda': 0.0002163717344001686, 'min_split_gain': 0.5162845606781749}. Best is trial 24 with value: 38.8182533820295.\n"
     ]
    },
    {
     "name": "stdout",
     "output_type": "stream",
     "text": [
      "Trial 24 finished with value: 38.8182533820295 and parameters: {'num_leaves': 563, 'max_depth': 6, 'learning_rate': 0.08267078479205357, 'n_estimators': 4627, 'min_child_samples': 273, 'subsample': 0.1950013125374263, 'colsample_bytree': 0.2706998364999406, 'max_bin': 9952, 'reg_alpha': 0.17636965529507442, 'reg_lambda': 0.0002163717344001686, 'min_split_gain': 0.5162845606781749}. Best is trial 24 with value: 38.8182533820295.\n",
      "Trial 24 finished with value: 38.8182533820295 and parameters: {'num_leaves': 563, 'max_depth': 6, 'learning_rate': 0.08267078479205357, 'n_estimators': 4627, 'min_child_samples': 273, 'subsample': 0.1950013125374263, 'colsample_bytree': 0.2706998364999406, 'max_bin': 9952, 'reg_alpha': 0.17636965529507442, 'reg_lambda': 0.0002163717344001686, 'min_split_gain': 0.5162845606781749}. Best is trial 24 with value: 38.8182533820295.\n"
     ]
    },
    {
     "name": "stderr",
     "output_type": "stream",
     "text": [
      "[I 2025-02-04 13:08:23,233] Trial 25 finished with value: 38.82559706779596 and parameters: {'num_leaves': 598, 'max_depth': 9, 'learning_rate': 0.06305121345780207, 'n_estimators': 4532, 'min_child_samples': 108, 'subsample': 0.2831711117064726, 'colsample_bytree': 0.3436527255770653, 'max_bin': 9029, 'reg_alpha': 0.001086899269023013, 'reg_lambda': 0.006826897561675017, 'min_split_gain': 0.4842766071397206}. Best is trial 24 with value: 38.8182533820295.\n"
     ]
    },
    {
     "name": "stdout",
     "output_type": "stream",
     "text": [
      "Trial 25 finished with value: 38.82559706779596 and parameters: {'num_leaves': 598, 'max_depth': 9, 'learning_rate': 0.06305121345780207, 'n_estimators': 4532, 'min_child_samples': 108, 'subsample': 0.2831711117064726, 'colsample_bytree': 0.3436527255770653, 'max_bin': 9029, 'reg_alpha': 0.001086899269023013, 'reg_lambda': 0.006826897561675017, 'min_split_gain': 0.4842766071397206}. Best is trial 24 with value: 38.8182533820295.\n",
      "Trial 25 finished with value: 38.82559706779596 and parameters: {'num_leaves': 598, 'max_depth': 9, 'learning_rate': 0.06305121345780207, 'n_estimators': 4532, 'min_child_samples': 108, 'subsample': 0.2831711117064726, 'colsample_bytree': 0.3436527255770653, 'max_bin': 9029, 'reg_alpha': 0.001086899269023013, 'reg_lambda': 0.006826897561675017, 'min_split_gain': 0.4842766071397206}. Best is trial 24 with value: 38.8182533820295.\n"
     ]
    },
    {
     "name": "stderr",
     "output_type": "stream",
     "text": [
      "[I 2025-02-04 13:09:40,619] Trial 26 finished with value: 38.827251474472185 and parameters: {'num_leaves': 944, 'max_depth': 13, 'learning_rate': 0.03073939920739942, 'n_estimators': 5921, 'min_child_samples': 164, 'subsample': 0.05663245947507839, 'colsample_bytree': 0.23067735190262362, 'max_bin': 7987, 'reg_alpha': 0.09960094550496774, 'reg_lambda': 0.0003732668645830008, 'min_split_gain': 0.5290813024798038}. Best is trial 24 with value: 38.8182533820295.\n"
     ]
    },
    {
     "name": "stdout",
     "output_type": "stream",
     "text": [
      "Trial 26 finished with value: 38.827251474472185 and parameters: {'num_leaves': 944, 'max_depth': 13, 'learning_rate': 0.03073939920739942, 'n_estimators': 5921, 'min_child_samples': 164, 'subsample': 0.05663245947507839, 'colsample_bytree': 0.23067735190262362, 'max_bin': 7987, 'reg_alpha': 0.09960094550496774, 'reg_lambda': 0.0003732668645830008, 'min_split_gain': 0.5290813024798038}. Best is trial 24 with value: 38.8182533820295.\n",
      "Trial 26 finished with value: 38.827251474472185 and parameters: {'num_leaves': 944, 'max_depth': 13, 'learning_rate': 0.03073939920739942, 'n_estimators': 5921, 'min_child_samples': 164, 'subsample': 0.05663245947507839, 'colsample_bytree': 0.23067735190262362, 'max_bin': 7987, 'reg_alpha': 0.09960094550496774, 'reg_lambda': 0.0003732668645830008, 'min_split_gain': 0.5290813024798038}. Best is trial 24 with value: 38.8182533820295.\n"
     ]
    },
    {
     "name": "stderr",
     "output_type": "stream",
     "text": [
      "[I 2025-02-04 13:09:54,841] Trial 27 finished with value: 38.83248378898493 and parameters: {'num_leaves': 769, 'max_depth': 8, 'learning_rate': 0.2833467998515914, 'n_estimators': 8359, 'min_child_samples': 43, 'subsample': 0.1280030681872248, 'colsample_bytree': 0.18758573659750927, 'max_bin': 7247, 'reg_alpha': 0.012952802952523393, 'reg_lambda': 0.00327957551303737, 'min_split_gain': 0.5655961959089119}. Best is trial 24 with value: 38.8182533820295.\n"
     ]
    },
    {
     "name": "stdout",
     "output_type": "stream",
     "text": [
      "Trial 27 finished with value: 38.83248378898493 and parameters: {'num_leaves': 769, 'max_depth': 8, 'learning_rate': 0.2833467998515914, 'n_estimators': 8359, 'min_child_samples': 43, 'subsample': 0.1280030681872248, 'colsample_bytree': 0.18758573659750927, 'max_bin': 7247, 'reg_alpha': 0.012952802952523393, 'reg_lambda': 0.00327957551303737, 'min_split_gain': 0.5655961959089119}. Best is trial 24 with value: 38.8182533820295.\n",
      "Trial 27 finished with value: 38.83248378898493 and parameters: {'num_leaves': 769, 'max_depth': 8, 'learning_rate': 0.2833467998515914, 'n_estimators': 8359, 'min_child_samples': 43, 'subsample': 0.1280030681872248, 'colsample_bytree': 0.18758573659750927, 'max_bin': 7247, 'reg_alpha': 0.012952802952523393, 'reg_lambda': 0.00327957551303737, 'min_split_gain': 0.5655961959089119}. Best is trial 24 with value: 38.8182533820295.\n"
     ]
    },
    {
     "name": "stderr",
     "output_type": "stream",
     "text": [
      "[I 2025-02-04 13:10:19,536] Trial 28 finished with value: 38.82871629280196 and parameters: {'num_leaves': 623, 'max_depth': 17, 'learning_rate': 0.15808252004541148, 'n_estimators': 4740, 'min_child_samples': 268, 'subsample': 0.17486918106400018, 'colsample_bytree': 0.2767064862163874, 'max_bin': 9230, 'reg_alpha': 0.0014778147512192364, 'reg_lambda': 0.08534953367760086, 'min_split_gain': 0.45190278033860426}. Best is trial 24 with value: 38.8182533820295.\n"
     ]
    },
    {
     "name": "stdout",
     "output_type": "stream",
     "text": [
      "Trial 28 finished with value: 38.82871629280196 and parameters: {'num_leaves': 623, 'max_depth': 17, 'learning_rate': 0.15808252004541148, 'n_estimators': 4740, 'min_child_samples': 268, 'subsample': 0.17486918106400018, 'colsample_bytree': 0.2767064862163874, 'max_bin': 9230, 'reg_alpha': 0.0014778147512192364, 'reg_lambda': 0.08534953367760086, 'min_split_gain': 0.45190278033860426}. Best is trial 24 with value: 38.8182533820295.\n",
      "Trial 28 finished with value: 38.82871629280196 and parameters: {'num_leaves': 623, 'max_depth': 17, 'learning_rate': 0.15808252004541148, 'n_estimators': 4740, 'min_child_samples': 268, 'subsample': 0.17486918106400018, 'colsample_bytree': 0.2767064862163874, 'max_bin': 9230, 'reg_alpha': 0.0014778147512192364, 'reg_lambda': 0.08534953367760086, 'min_split_gain': 0.45190278033860426}. Best is trial 24 with value: 38.8182533820295.\n"
     ]
    },
    {
     "name": "stderr",
     "output_type": "stream",
     "text": [
      "[I 2025-02-04 13:10:41,764] Trial 29 finished with value: 38.82902238647902 and parameters: {'num_leaves': 1461, 'max_depth': 27, 'learning_rate': 0.08192060125059371, 'n_estimators': 5976, 'min_child_samples': 208, 'subsample': 0.30185141623321365, 'colsample_bytree': 0.3257321399537803, 'max_bin': 8424, 'reg_alpha': 0.15792627703965892, 'reg_lambda': 0.0004868538348512759, 'min_split_gain': 0.5549176112050613}. Best is trial 24 with value: 38.8182533820295.\n"
     ]
    },
    {
     "name": "stdout",
     "output_type": "stream",
     "text": [
      "Trial 29 finished with value: 38.82902238647902 and parameters: {'num_leaves': 1461, 'max_depth': 27, 'learning_rate': 0.08192060125059371, 'n_estimators': 5976, 'min_child_samples': 208, 'subsample': 0.30185141623321365, 'colsample_bytree': 0.3257321399537803, 'max_bin': 8424, 'reg_alpha': 0.15792627703965892, 'reg_lambda': 0.0004868538348512759, 'min_split_gain': 0.5549176112050613}. Best is trial 24 with value: 38.8182533820295.\n",
      "Trial 29 finished with value: 38.82902238647902 and parameters: {'num_leaves': 1461, 'max_depth': 27, 'learning_rate': 0.08192060125059371, 'n_estimators': 5976, 'min_child_samples': 208, 'subsample': 0.30185141623321365, 'colsample_bytree': 0.3257321399537803, 'max_bin': 8424, 'reg_alpha': 0.15792627703965892, 'reg_lambda': 0.0004868538348512759, 'min_split_gain': 0.5549176112050613}. Best is trial 24 with value: 38.8182533820295.\n"
     ]
    },
    {
     "name": "stderr",
     "output_type": "stream",
     "text": [
      "[I 2025-02-04 13:10:56,464] Trial 30 finished with value: 38.832121081073915 and parameters: {'num_leaves': 846, 'max_depth': 33, 'learning_rate': 0.11051845075924735, 'n_estimators': 2897, 'min_child_samples': 88, 'subsample': 0.3280838314165766, 'colsample_bytree': 0.23540104142536428, 'max_bin': 5988, 'reg_alpha': 1.8834953390832925e-05, 'reg_lambda': 0.00025456294179974014, 'min_split_gain': 0.5061261318757805}. Best is trial 24 with value: 38.8182533820295.\n"
     ]
    },
    {
     "name": "stdout",
     "output_type": "stream",
     "text": [
      "Trial 30 finished with value: 38.832121081073915 and parameters: {'num_leaves': 846, 'max_depth': 33, 'learning_rate': 0.11051845075924735, 'n_estimators': 2897, 'min_child_samples': 88, 'subsample': 0.3280838314165766, 'colsample_bytree': 0.23540104142536428, 'max_bin': 5988, 'reg_alpha': 1.8834953390832925e-05, 'reg_lambda': 0.00025456294179974014, 'min_split_gain': 0.5061261318757805}. Best is trial 24 with value: 38.8182533820295.\n",
      "Trial 30 finished with value: 38.832121081073915 and parameters: {'num_leaves': 846, 'max_depth': 33, 'learning_rate': 0.11051845075924735, 'n_estimators': 2897, 'min_child_samples': 88, 'subsample': 0.3280838314165766, 'colsample_bytree': 0.23540104142536428, 'max_bin': 5988, 'reg_alpha': 1.8834953390832925e-05, 'reg_lambda': 0.00025456294179974014, 'min_split_gain': 0.5061261318757805}. Best is trial 24 with value: 38.8182533820295.\n"
     ]
    },
    {
     "name": "stderr",
     "output_type": "stream",
     "text": [
      "[I 2025-02-04 13:12:00,300] Trial 31 finished with value: 38.82000251711624 and parameters: {'num_leaves': 524, 'max_depth': 7, 'learning_rate': 0.1006187300530073, 'n_estimators': 3977, 'min_child_samples': 273, 'subsample': 0.18960868583990445, 'colsample_bytree': 0.26547125190536036, 'max_bin': 9972, 'reg_alpha': 0.9433430699569768, 'reg_lambda': 2.1961968644286416e-05, 'min_split_gain': 0.510258819392317}. Best is trial 24 with value: 38.8182533820295.\n"
     ]
    },
    {
     "name": "stdout",
     "output_type": "stream",
     "text": [
      "Trial 31 finished with value: 38.82000251711624 and parameters: {'num_leaves': 524, 'max_depth': 7, 'learning_rate': 0.1006187300530073, 'n_estimators': 3977, 'min_child_samples': 273, 'subsample': 0.18960868583990445, 'colsample_bytree': 0.26547125190536036, 'max_bin': 9972, 'reg_alpha': 0.9433430699569768, 'reg_lambda': 2.1961968644286416e-05, 'min_split_gain': 0.510258819392317}. Best is trial 24 with value: 38.8182533820295.\n",
      "Trial 31 finished with value: 38.82000251711624 and parameters: {'num_leaves': 524, 'max_depth': 7, 'learning_rate': 0.1006187300530073, 'n_estimators': 3977, 'min_child_samples': 273, 'subsample': 0.18960868583990445, 'colsample_bytree': 0.26547125190536036, 'max_bin': 9972, 'reg_alpha': 0.9433430699569768, 'reg_lambda': 2.1961968644286416e-05, 'min_split_gain': 0.510258819392317}. Best is trial 24 with value: 38.8182533820295.\n"
     ]
    },
    {
     "name": "stderr",
     "output_type": "stream",
     "text": [
      "[I 2025-02-04 13:15:56,227] Trial 32 finished with value: 38.82350765498568 and parameters: {'num_leaves': 500, 'max_depth': 11, 'learning_rate': 0.01762575672457511, 'n_estimators': 4052, 'min_child_samples': 247, 'subsample': 0.13344638535015396, 'colsample_bytree': 0.29834880352261234, 'max_bin': 9419, 'reg_alpha': 0.3115119672965434, 'reg_lambda': 3.34223910296187e-05, 'min_split_gain': 0.5372566721014682}. Best is trial 24 with value: 38.8182533820295.\n"
     ]
    },
    {
     "name": "stdout",
     "output_type": "stream",
     "text": [
      "Trial 32 finished with value: 38.82350765498568 and parameters: {'num_leaves': 500, 'max_depth': 11, 'learning_rate': 0.01762575672457511, 'n_estimators': 4052, 'min_child_samples': 247, 'subsample': 0.13344638535015396, 'colsample_bytree': 0.29834880352261234, 'max_bin': 9419, 'reg_alpha': 0.3115119672965434, 'reg_lambda': 3.34223910296187e-05, 'min_split_gain': 0.5372566721014682}. Best is trial 24 with value: 38.8182533820295.\n",
      "Trial 32 finished with value: 38.82350765498568 and parameters: {'num_leaves': 500, 'max_depth': 11, 'learning_rate': 0.01762575672457511, 'n_estimators': 4052, 'min_child_samples': 247, 'subsample': 0.13344638535015396, 'colsample_bytree': 0.29834880352261234, 'max_bin': 9419, 'reg_alpha': 0.3115119672965434, 'reg_lambda': 3.34223910296187e-05, 'min_split_gain': 0.5372566721014682}. Best is trial 24 with value: 38.8182533820295.\n"
     ]
    },
    {
     "name": "stderr",
     "output_type": "stream",
     "text": [
      "[I 2025-02-04 13:17:08,453] Trial 33 finished with value: 38.820992402964144 and parameters: {'num_leaves': 564, 'max_depth': 8, 'learning_rate': 0.07215505850640964, 'n_estimators': 5052, 'min_child_samples': 280, 'subsample': 0.22536772688825285, 'colsample_bytree': 0.26809116693661306, 'max_bin': 9999, 'reg_alpha': 0.05131657704027677, 'reg_lambda': 4.830582714646341e-05, 'min_split_gain': 0.5944663588125304}. Best is trial 24 with value: 38.8182533820295.\n"
     ]
    },
    {
     "name": "stdout",
     "output_type": "stream",
     "text": [
      "Trial 33 finished with value: 38.820992402964144 and parameters: {'num_leaves': 564, 'max_depth': 8, 'learning_rate': 0.07215505850640964, 'n_estimators': 5052, 'min_child_samples': 280, 'subsample': 0.22536772688825285, 'colsample_bytree': 0.26809116693661306, 'max_bin': 9999, 'reg_alpha': 0.05131657704027677, 'reg_lambda': 4.830582714646341e-05, 'min_split_gain': 0.5944663588125304}. Best is trial 24 with value: 38.8182533820295.\n",
      "Trial 33 finished with value: 38.820992402964144 and parameters: {'num_leaves': 564, 'max_depth': 8, 'learning_rate': 0.07215505850640964, 'n_estimators': 5052, 'min_child_samples': 280, 'subsample': 0.22536772688825285, 'colsample_bytree': 0.26809116693661306, 'max_bin': 9999, 'reg_alpha': 0.05131657704027677, 'reg_lambda': 4.830582714646341e-05, 'min_split_gain': 0.5944663588125304}. Best is trial 24 with value: 38.8182533820295.\n"
     ]
    },
    {
     "name": "stderr",
     "output_type": "stream",
     "text": [
      "[I 2025-02-04 13:18:14,499] Trial 34 finished with value: 38.8413485664027 and parameters: {'num_leaves': 581, 'max_depth': 6, 'learning_rate': 0.03455132850502705, 'n_estimators': 1682, 'min_child_samples': 277, 'subsample': 0.22292227708752693, 'colsample_bytree': 0.3432606714318161, 'max_bin': 7123, 'reg_alpha': 0.04595762883478456, 'reg_lambda': 0.0009996876762633665, 'min_split_gain': 0.4920739193548721}. Best is trial 24 with value: 38.8182533820295.\n"
     ]
    },
    {
     "name": "stdout",
     "output_type": "stream",
     "text": [
      "Trial 34 finished with value: 38.8413485664027 and parameters: {'num_leaves': 581, 'max_depth': 6, 'learning_rate': 0.03455132850502705, 'n_estimators': 1682, 'min_child_samples': 277, 'subsample': 0.22292227708752693, 'colsample_bytree': 0.3432606714318161, 'max_bin': 7123, 'reg_alpha': 0.04595762883478456, 'reg_lambda': 0.0009996876762633665, 'min_split_gain': 0.4920739193548721}. Best is trial 24 with value: 38.8182533820295.\n",
      "Trial 34 finished with value: 38.8413485664027 and parameters: {'num_leaves': 581, 'max_depth': 6, 'learning_rate': 0.03455132850502705, 'n_estimators': 1682, 'min_child_samples': 277, 'subsample': 0.22292227708752693, 'colsample_bytree': 0.3432606714318161, 'max_bin': 7123, 'reg_alpha': 0.04595762883478456, 'reg_lambda': 0.0009996876762633665, 'min_split_gain': 0.4920739193548721}. Best is trial 24 with value: 38.8182533820295.\n"
     ]
    },
    {
     "name": "stderr",
     "output_type": "stream",
     "text": [
      "[I 2025-02-04 13:18:54,741] Trial 35 finished with value: 38.82486628442662 and parameters: {'num_leaves': 665, 'max_depth': 14, 'learning_rate': 0.06252011018407873, 'n_estimators': 4938, 'min_child_samples': 239, 'subsample': 0.2649177916084815, 'colsample_bytree': 0.17902230443534017, 'max_bin': 8679, 'reg_alpha': 0.003678609106793674, 'reg_lambda': 8.462316369131714e-06, 'min_split_gain': 0.5924541502512312}. Best is trial 24 with value: 38.8182533820295.\n"
     ]
    },
    {
     "name": "stdout",
     "output_type": "stream",
     "text": [
      "Trial 35 finished with value: 38.82486628442662 and parameters: {'num_leaves': 665, 'max_depth': 14, 'learning_rate': 0.06252011018407873, 'n_estimators': 4938, 'min_child_samples': 239, 'subsample': 0.2649177916084815, 'colsample_bytree': 0.17902230443534017, 'max_bin': 8679, 'reg_alpha': 0.003678609106793674, 'reg_lambda': 8.462316369131714e-06, 'min_split_gain': 0.5924541502512312}. Best is trial 24 with value: 38.8182533820295.\n",
      "Trial 35 finished with value: 38.82486628442662 and parameters: {'num_leaves': 665, 'max_depth': 14, 'learning_rate': 0.06252011018407873, 'n_estimators': 4938, 'min_child_samples': 239, 'subsample': 0.2649177916084815, 'colsample_bytree': 0.17902230443534017, 'max_bin': 8679, 'reg_alpha': 0.003678609106793674, 'reg_lambda': 8.462316369131714e-06, 'min_split_gain': 0.5924541502512312}. Best is trial 24 with value: 38.8182533820295.\n"
     ]
    },
    {
     "name": "stderr",
     "output_type": "stream",
     "text": [
      "[I 2025-02-04 13:21:32,818] Trial 36 finished with value: 38.82660825687043 and parameters: {'num_leaves': 566, 'max_depth': 19, 'learning_rate': 0.01899800760004017, 'n_estimators': 2609, 'min_child_samples': 280, 'subsample': 0.23245878160351596, 'colsample_bytree': 0.3100785855919092, 'max_bin': 9334, 'reg_alpha': 0.05981060240947999, 'reg_lambda': 5.712741873155474e-07, 'min_split_gain': 0.4393704229538144}. Best is trial 24 with value: 38.8182533820295.\n"
     ]
    },
    {
     "name": "stdout",
     "output_type": "stream",
     "text": [
      "Trial 36 finished with value: 38.82660825687043 and parameters: {'num_leaves': 566, 'max_depth': 19, 'learning_rate': 0.01899800760004017, 'n_estimators': 2609, 'min_child_samples': 280, 'subsample': 0.23245878160351596, 'colsample_bytree': 0.3100785855919092, 'max_bin': 9334, 'reg_alpha': 0.05981060240947999, 'reg_lambda': 5.712741873155474e-07, 'min_split_gain': 0.4393704229538144}. Best is trial 24 with value: 38.8182533820295.\n",
      "Trial 36 finished with value: 38.82660825687043 and parameters: {'num_leaves': 566, 'max_depth': 19, 'learning_rate': 0.01899800760004017, 'n_estimators': 2609, 'min_child_samples': 280, 'subsample': 0.23245878160351596, 'colsample_bytree': 0.3100785855919092, 'max_bin': 9334, 'reg_alpha': 0.05981060240947999, 'reg_lambda': 5.712741873155474e-07, 'min_split_gain': 0.4393704229538144}. Best is trial 24 with value: 38.8182533820295.\n"
     ]
    },
    {
     "name": "stderr",
     "output_type": "stream",
     "text": [
      "[I 2025-02-04 13:21:57,108] Trial 37 finished with value: 38.83530639191991 and parameters: {'num_leaves': 675, 'max_depth': 10, 'learning_rate': 0.07633425660122008, 'n_estimators': 1222, 'min_child_samples': 222, 'subsample': 0.29168264867656896, 'colsample_bytree': 0.22408377561948814, 'max_bin': 8173, 'reg_alpha': 0.021930189728993188, 'reg_lambda': 3.860467461285925e-06, 'min_split_gain': 0.48033163770670645}. Best is trial 24 with value: 38.8182533820295.\n"
     ]
    },
    {
     "name": "stdout",
     "output_type": "stream",
     "text": [
      "Trial 37 finished with value: 38.83530639191991 and parameters: {'num_leaves': 675, 'max_depth': 10, 'learning_rate': 0.07633425660122008, 'n_estimators': 1222, 'min_child_samples': 222, 'subsample': 0.29168264867656896, 'colsample_bytree': 0.22408377561948814, 'max_bin': 8173, 'reg_alpha': 0.021930189728993188, 'reg_lambda': 3.860467461285925e-06, 'min_split_gain': 0.48033163770670645}. Best is trial 24 with value: 38.8182533820295.\n",
      "Trial 37 finished with value: 38.83530639191991 and parameters: {'num_leaves': 675, 'max_depth': 10, 'learning_rate': 0.07633425660122008, 'n_estimators': 1222, 'min_child_samples': 222, 'subsample': 0.29168264867656896, 'colsample_bytree': 0.22408377561948814, 'max_bin': 8173, 'reg_alpha': 0.021930189728993188, 'reg_lambda': 3.860467461285925e-06, 'min_split_gain': 0.48033163770670645}. Best is trial 24 with value: 38.8182533820295.\n"
     ]
    },
    {
     "name": "stderr",
     "output_type": "stream",
     "text": [
      "[I 2025-02-04 13:27:13,977] Trial 38 finished with value: 38.842326684147096 and parameters: {'num_leaves': 752, 'max_depth': 8, 'learning_rate': 0.011154221511919518, 'n_estimators': 6854, 'min_child_samples': 254, 'subsample': 0.32030400746217064, 'colsample_bytree': 0.3459426656791023, 'max_bin': 2929, 'reg_alpha': 0.1953485378285416, 'reg_lambda': 3.7941154147834594e-05, 'min_split_gain': 0.5163573617485855}. Best is trial 24 with value: 38.8182533820295.\n"
     ]
    },
    {
     "name": "stdout",
     "output_type": "stream",
     "text": [
      "Trial 38 finished with value: 38.842326684147096 and parameters: {'num_leaves': 752, 'max_depth': 8, 'learning_rate': 0.011154221511919518, 'n_estimators': 6854, 'min_child_samples': 254, 'subsample': 0.32030400746217064, 'colsample_bytree': 0.3459426656791023, 'max_bin': 2929, 'reg_alpha': 0.1953485378285416, 'reg_lambda': 3.7941154147834594e-05, 'min_split_gain': 0.5163573617485855}. Best is trial 24 with value: 38.8182533820295.\n",
      "Trial 38 finished with value: 38.842326684147096 and parameters: {'num_leaves': 752, 'max_depth': 8, 'learning_rate': 0.011154221511919518, 'n_estimators': 6854, 'min_child_samples': 254, 'subsample': 0.32030400746217064, 'colsample_bytree': 0.3459426656791023, 'max_bin': 2929, 'reg_alpha': 0.1953485378285416, 'reg_lambda': 3.7941154147834594e-05, 'min_split_gain': 0.5163573617485855}. Best is trial 24 with value: 38.8182533820295.\n"
     ]
    },
    {
     "name": "stderr",
     "output_type": "stream",
     "text": [
      "[I 2025-02-04 13:27:33,089] Trial 39 finished with value: 38.82725160185054 and parameters: {'num_leaves': 631, 'max_depth': 34, 'learning_rate': 0.12286278213802641, 'n_estimators': 5425, 'min_child_samples': 277, 'subsample': 0.19573683211717172, 'colsample_bytree': 0.2690925322056287, 'max_bin': 9455, 'reg_alpha': 0.0002770318403562112, 'reg_lambda': 0.00024179060128023602, 'min_split_gain': 0.46767615839684606}. Best is trial 24 with value: 38.8182533820295.\n"
     ]
    },
    {
     "name": "stdout",
     "output_type": "stream",
     "text": [
      "Trial 39 finished with value: 38.82725160185054 and parameters: {'num_leaves': 631, 'max_depth': 34, 'learning_rate': 0.12286278213802641, 'n_estimators': 5425, 'min_child_samples': 277, 'subsample': 0.19573683211717172, 'colsample_bytree': 0.2690925322056287, 'max_bin': 9455, 'reg_alpha': 0.0002770318403562112, 'reg_lambda': 0.00024179060128023602, 'min_split_gain': 0.46767615839684606}. Best is trial 24 with value: 38.8182533820295.\n",
      "Trial 39 finished with value: 38.82725160185054 and parameters: {'num_leaves': 631, 'max_depth': 34, 'learning_rate': 0.12286278213802641, 'n_estimators': 5425, 'min_child_samples': 277, 'subsample': 0.19573683211717172, 'colsample_bytree': 0.2690925322056287, 'max_bin': 9455, 'reg_alpha': 0.0002770318403562112, 'reg_lambda': 0.00024179060128023602, 'min_split_gain': 0.46767615839684606}. Best is trial 24 with value: 38.8182533820295.\n"
     ]
    },
    {
     "name": "stderr",
     "output_type": "stream",
     "text": [
      "[I 2025-02-04 13:28:49,022] Trial 40 finished with value: 38.830458616905915 and parameters: {'num_leaves': 1120, 'max_depth': 12, 'learning_rate': 0.04249872985975245, 'n_estimators': 3995, 'min_child_samples': 236, 'subsample': 0.11887788590799833, 'colsample_bytree': 0.3772885398179441, 'max_bin': 6941, 'reg_alpha': 0.4322838013124088, 'reg_lambda': 1.639413682926448e-07, 'min_split_gain': 0.4932742312396173}. Best is trial 24 with value: 38.8182533820295.\n"
     ]
    },
    {
     "name": "stdout",
     "output_type": "stream",
     "text": [
      "Trial 40 finished with value: 38.830458616905915 and parameters: {'num_leaves': 1120, 'max_depth': 12, 'learning_rate': 0.04249872985975245, 'n_estimators': 3995, 'min_child_samples': 236, 'subsample': 0.11887788590799833, 'colsample_bytree': 0.3772885398179441, 'max_bin': 6941, 'reg_alpha': 0.4322838013124088, 'reg_lambda': 1.639413682926448e-07, 'min_split_gain': 0.4932742312396173}. Best is trial 24 with value: 38.8182533820295.\n",
      "Trial 40 finished with value: 38.830458616905915 and parameters: {'num_leaves': 1120, 'max_depth': 12, 'learning_rate': 0.04249872985975245, 'n_estimators': 3995, 'min_child_samples': 236, 'subsample': 0.11887788590799833, 'colsample_bytree': 0.3772885398179441, 'max_bin': 6941, 'reg_alpha': 0.4322838013124088, 'reg_lambda': 1.639413682926448e-07, 'min_split_gain': 0.4932742312396173}. Best is trial 24 with value: 38.8182533820295.\n"
     ]
    },
    {
     "name": "stderr",
     "output_type": "stream",
     "text": [
      "[I 2025-02-04 13:29:27,822] Trial 41 finished with value: 38.82167749485151 and parameters: {'num_leaves': 1239, 'max_depth': 8, 'learning_rate': 0.1684880166500882, 'n_estimators': 5743, 'min_child_samples': 286, 'subsample': 0.17683286724563452, 'colsample_bytree': 0.2788647527090356, 'max_bin': 9921, 'reg_alpha': 0.5977248152780169, 'reg_lambda': 0.00012166523352656777, 'min_split_gain': 0.5963157576439486}. Best is trial 24 with value: 38.8182533820295.\n"
     ]
    },
    {
     "name": "stdout",
     "output_type": "stream",
     "text": [
      "Trial 41 finished with value: 38.82167749485151 and parameters: {'num_leaves': 1239, 'max_depth': 8, 'learning_rate': 0.1684880166500882, 'n_estimators': 5743, 'min_child_samples': 286, 'subsample': 0.17683286724563452, 'colsample_bytree': 0.2788647527090356, 'max_bin': 9921, 'reg_alpha': 0.5977248152780169, 'reg_lambda': 0.00012166523352656777, 'min_split_gain': 0.5963157576439486}. Best is trial 24 with value: 38.8182533820295.\n",
      "Trial 41 finished with value: 38.82167749485151 and parameters: {'num_leaves': 1239, 'max_depth': 8, 'learning_rate': 0.1684880166500882, 'n_estimators': 5743, 'min_child_samples': 286, 'subsample': 0.17683286724563452, 'colsample_bytree': 0.2788647527090356, 'max_bin': 9921, 'reg_alpha': 0.5977248152780169, 'reg_lambda': 0.00012166523352656777, 'min_split_gain': 0.5963157576439486}. Best is trial 24 with value: 38.8182533820295.\n"
     ]
    },
    {
     "name": "stderr",
     "output_type": "stream",
     "text": [
      "[I 2025-02-04 13:29:53,128] Trial 42 finished with value: 38.82760811071207 and parameters: {'num_leaves': 1033, 'max_depth': 10, 'learning_rate': 0.18724949985680944, 'n_estimators': 4954, 'min_child_samples': 285, 'subsample': 0.16617754321923361, 'colsample_bytree': 0.2826817599952236, 'max_bin': 8760, 'reg_alpha': 0.3742682427112652, 'reg_lambda': 0.001333946774795828, 'min_split_gain': 0.5998503739590029}. Best is trial 24 with value: 38.8182533820295.\n"
     ]
    },
    {
     "name": "stdout",
     "output_type": "stream",
     "text": [
      "Trial 42 finished with value: 38.82760811071207 and parameters: {'num_leaves': 1033, 'max_depth': 10, 'learning_rate': 0.18724949985680944, 'n_estimators': 4954, 'min_child_samples': 285, 'subsample': 0.16617754321923361, 'colsample_bytree': 0.2826817599952236, 'max_bin': 8760, 'reg_alpha': 0.3742682427112652, 'reg_lambda': 0.001333946774795828, 'min_split_gain': 0.5998503739590029}. Best is trial 24 with value: 38.8182533820295.\n",
      "Trial 42 finished with value: 38.82760811071207 and parameters: {'num_leaves': 1033, 'max_depth': 10, 'learning_rate': 0.18724949985680944, 'n_estimators': 4954, 'min_child_samples': 285, 'subsample': 0.16617754321923361, 'colsample_bytree': 0.2826817599952236, 'max_bin': 8760, 'reg_alpha': 0.3742682427112652, 'reg_lambda': 0.001333946774795828, 'min_split_gain': 0.5998503739590029}. Best is trial 24 with value: 38.8182533820295.\n"
     ]
    },
    {
     "name": "stderr",
     "output_type": "stream",
     "text": [
      "[I 2025-02-04 13:30:01,843] Trial 43 finished with value: 38.83405292272195 and parameters: {'num_leaves': 1261, 'max_depth': 40, 'learning_rate': 0.3125988756440249, 'n_estimators': 5763, 'min_child_samples': 262, 'subsample': 0.20876919263200763, 'colsample_bytree': 0.25009600032159685, 'max_bin': 9502, 'reg_alpha': 0.09515939965318289, 'reg_lambda': 9.45258639154218e-05, 'min_split_gain': 0.5768821138619756}. Best is trial 24 with value: 38.8182533820295.\n"
     ]
    },
    {
     "name": "stdout",
     "output_type": "stream",
     "text": [
      "Trial 43 finished with value: 38.83405292272195 and parameters: {'num_leaves': 1261, 'max_depth': 40, 'learning_rate': 0.3125988756440249, 'n_estimators': 5763, 'min_child_samples': 262, 'subsample': 0.20876919263200763, 'colsample_bytree': 0.25009600032159685, 'max_bin': 9502, 'reg_alpha': 0.09515939965318289, 'reg_lambda': 9.45258639154218e-05, 'min_split_gain': 0.5768821138619756}. Best is trial 24 with value: 38.8182533820295.\n",
      "Trial 43 finished with value: 38.83405292272195 and parameters: {'num_leaves': 1261, 'max_depth': 40, 'learning_rate': 0.3125988756440249, 'n_estimators': 5763, 'min_child_samples': 262, 'subsample': 0.20876919263200763, 'colsample_bytree': 0.25009600032159685, 'max_bin': 9502, 'reg_alpha': 0.09515939965318289, 'reg_lambda': 9.45258639154218e-05, 'min_split_gain': 0.5768821138619756}. Best is trial 24 with value: 38.8182533820295.\n"
     ]
    },
    {
     "name": "stderr",
     "output_type": "stream",
     "text": [
      "[I 2025-02-04 13:31:00,987] Trial 44 finished with value: 38.823262246620715 and parameters: {'num_leaves': 1212, 'max_depth': 7, 'learning_rate': 0.09263898065903509, 'n_estimators': 3169, 'min_child_samples': 300, 'subsample': 0.18713996079658088, 'colsample_bytree': 0.3106513037028182, 'max_bin': 9986, 'reg_alpha': 0.9987274866077737, 'reg_lambda': 2.9807339306349057e-05, 'min_split_gain': 0.5841410641808555}. Best is trial 24 with value: 38.8182533820295.\n"
     ]
    },
    {
     "name": "stdout",
     "output_type": "stream",
     "text": [
      "Trial 44 finished with value: 38.823262246620715 and parameters: {'num_leaves': 1212, 'max_depth': 7, 'learning_rate': 0.09263898065903509, 'n_estimators': 3169, 'min_child_samples': 300, 'subsample': 0.18713996079658088, 'colsample_bytree': 0.3106513037028182, 'max_bin': 9986, 'reg_alpha': 0.9987274866077737, 'reg_lambda': 2.9807339306349057e-05, 'min_split_gain': 0.5841410641808555}. Best is trial 24 with value: 38.8182533820295.\n",
      "Trial 44 finished with value: 38.823262246620715 and parameters: {'num_leaves': 1212, 'max_depth': 7, 'learning_rate': 0.09263898065903509, 'n_estimators': 3169, 'min_child_samples': 300, 'subsample': 0.18713996079658088, 'colsample_bytree': 0.3106513037028182, 'max_bin': 9986, 'reg_alpha': 0.9987274866077737, 'reg_lambda': 2.9807339306349057e-05, 'min_split_gain': 0.5841410641808555}. Best is trial 24 with value: 38.8182533820295.\n"
     ]
    },
    {
     "name": "stderr",
     "output_type": "stream",
     "text": [
      "[I 2025-02-04 13:32:12,688] Trial 45 finished with value: 38.83104040377253 and parameters: {'num_leaves': 503, 'max_depth': 7, 'learning_rate': 0.06028354871756389, 'n_estimators': 6756, 'min_child_samples': 283, 'subsample': 0.1021188135597695, 'colsample_bytree': 0.2427507335091433, 'max_bin': 9103, 'reg_alpha': 0.27471928423171205, 'reg_lambda': 6.052451179629277e-06, 'min_split_gain': 0.593394052538505}. Best is trial 24 with value: 38.8182533820295.\n"
     ]
    },
    {
     "name": "stdout",
     "output_type": "stream",
     "text": [
      "Trial 45 finished with value: 38.83104040377253 and parameters: {'num_leaves': 503, 'max_depth': 7, 'learning_rate': 0.06028354871756389, 'n_estimators': 6756, 'min_child_samples': 283, 'subsample': 0.1021188135597695, 'colsample_bytree': 0.2427507335091433, 'max_bin': 9103, 'reg_alpha': 0.27471928423171205, 'reg_lambda': 6.052451179629277e-06, 'min_split_gain': 0.593394052538505}. Best is trial 24 with value: 38.8182533820295.\n",
      "Trial 45 finished with value: 38.83104040377253 and parameters: {'num_leaves': 503, 'max_depth': 7, 'learning_rate': 0.06028354871756389, 'n_estimators': 6756, 'min_child_samples': 283, 'subsample': 0.1021188135597695, 'colsample_bytree': 0.2427507335091433, 'max_bin': 9103, 'reg_alpha': 0.27471928423171205, 'reg_lambda': 6.052451179629277e-06, 'min_split_gain': 0.593394052538505}. Best is trial 24 with value: 38.8182533820295.\n"
     ]
    },
    {
     "name": "stderr",
     "output_type": "stream",
     "text": [
      "[I 2025-02-04 13:32:44,306] Trial 46 finished with value: 38.82657062970362 and parameters: {'num_leaves': 567, 'max_depth': 11, 'learning_rate': 0.12635388532493685, 'n_estimators': 3754, 'min_child_samples': 263, 'subsample': 0.14592823258575632, 'colsample_bytree': 0.208082335836283, 'max_bin': 7875, 'reg_alpha': 0.008871367720927215, 'reg_lambda': 1.940792213499061e-05, 'min_split_gain': 0.5052041302189959}. Best is trial 24 with value: 38.8182533820295.\n"
     ]
    },
    {
     "name": "stdout",
     "output_type": "stream",
     "text": [
      "Trial 46 finished with value: 38.82657062970362 and parameters: {'num_leaves': 567, 'max_depth': 11, 'learning_rate': 0.12635388532493685, 'n_estimators': 3754, 'min_child_samples': 263, 'subsample': 0.14592823258575632, 'colsample_bytree': 0.208082335836283, 'max_bin': 7875, 'reg_alpha': 0.008871367720927215, 'reg_lambda': 1.940792213499061e-05, 'min_split_gain': 0.5052041302189959}. Best is trial 24 with value: 38.8182533820295.\n",
      "Trial 46 finished with value: 38.82657062970362 and parameters: {'num_leaves': 567, 'max_depth': 11, 'learning_rate': 0.12635388532493685, 'n_estimators': 3754, 'min_child_samples': 263, 'subsample': 0.14592823258575632, 'colsample_bytree': 0.208082335836283, 'max_bin': 7875, 'reg_alpha': 0.008871367720927215, 'reg_lambda': 1.940792213499061e-05, 'min_split_gain': 0.5052041302189959}. Best is trial 24 with value: 38.8182533820295.\n"
     ]
    },
    {
     "name": "stderr",
     "output_type": "stream",
     "text": [
      "[I 2025-02-04 13:33:17,767] Trial 47 finished with value: 38.83327569715031 and parameters: {'num_leaves': 1091, 'max_depth': 6, 'learning_rate': 0.16852111237674205, 'n_estimators': 7375, 'min_child_samples': 213, 'subsample': 0.22088695300282776, 'colsample_bytree': 0.2612526479229959, 'max_bin': 4739, 'reg_alpha': 0.031930032880406425, 'reg_lambda': 1.871648193706345e-06, 'min_split_gain': 0.5588183565449304}. Best is trial 24 with value: 38.8182533820295.\n"
     ]
    },
    {
     "name": "stdout",
     "output_type": "stream",
     "text": [
      "Trial 47 finished with value: 38.83327569715031 and parameters: {'num_leaves': 1091, 'max_depth': 6, 'learning_rate': 0.16852111237674205, 'n_estimators': 7375, 'min_child_samples': 213, 'subsample': 0.22088695300282776, 'colsample_bytree': 0.2612526479229959, 'max_bin': 4739, 'reg_alpha': 0.031930032880406425, 'reg_lambda': 1.871648193706345e-06, 'min_split_gain': 0.5588183565449304}. Best is trial 24 with value: 38.8182533820295.\n",
      "Trial 47 finished with value: 38.83327569715031 and parameters: {'num_leaves': 1091, 'max_depth': 6, 'learning_rate': 0.16852111237674205, 'n_estimators': 7375, 'min_child_samples': 213, 'subsample': 0.22088695300282776, 'colsample_bytree': 0.2612526479229959, 'max_bin': 4739, 'reg_alpha': 0.031930032880406425, 'reg_lambda': 1.871648193706345e-06, 'min_split_gain': 0.5588183565449304}. Best is trial 24 with value: 38.8182533820295.\n"
     ]
    },
    {
     "name": "stderr",
     "output_type": "stream",
     "text": [
      "[I 2025-02-04 13:33:23,102] Trial 48 finished with value: 38.83971491254113 and parameters: {'num_leaves': 990, 'max_depth': 21, 'learning_rate': 0.49246519604593164, 'n_estimators': 4472, 'min_child_samples': 288, 'subsample': 0.24332818569144257, 'colsample_bytree': 0.27418385611857266, 'max_bin': 9649, 'reg_alpha': 1.0605507791882305e-08, 'reg_lambda': 8.30464263123999e-05, 'min_split_gain': 0.5428765745162322}. Best is trial 24 with value: 38.8182533820295.\n"
     ]
    },
    {
     "name": "stdout",
     "output_type": "stream",
     "text": [
      "Trial 48 finished with value: 38.83971491254113 and parameters: {'num_leaves': 990, 'max_depth': 21, 'learning_rate': 0.49246519604593164, 'n_estimators': 4472, 'min_child_samples': 288, 'subsample': 0.24332818569144257, 'colsample_bytree': 0.27418385611857266, 'max_bin': 9649, 'reg_alpha': 1.0605507791882305e-08, 'reg_lambda': 8.30464263123999e-05, 'min_split_gain': 0.5428765745162322}. Best is trial 24 with value: 38.8182533820295.\n",
      "Trial 48 finished with value: 38.83971491254113 and parameters: {'num_leaves': 990, 'max_depth': 21, 'learning_rate': 0.49246519604593164, 'n_estimators': 4472, 'min_child_samples': 288, 'subsample': 0.24332818569144257, 'colsample_bytree': 0.27418385611857266, 'max_bin': 9649, 'reg_alpha': 1.0605507791882305e-08, 'reg_lambda': 8.30464263123999e-05, 'min_split_gain': 0.5428765745162322}. Best is trial 24 with value: 38.8182533820295.\n"
     ]
    },
    {
     "name": "stderr",
     "output_type": "stream",
     "text": [
      "[I 2025-02-04 13:36:31,532] Trial 49 finished with value: 38.827263123864284 and parameters: {'num_leaves': 536, 'max_depth': 30, 'learning_rate': 0.011698090099728303, 'n_estimators': 5007, 'min_child_samples': 272, 'subsample': 0.26626571827946677, 'colsample_bytree': 0.2862239103654386, 'max_bin': 8326, 'reg_alpha': 0.0023712404929039947, 'reg_lambda': 0.0005783980330769555, 'min_split_gain': 0.4003373417349937}. Best is trial 24 with value: 38.8182533820295.\n"
     ]
    },
    {
     "name": "stdout",
     "output_type": "stream",
     "text": [
      "Trial 49 finished with value: 38.827263123864284 and parameters: {'num_leaves': 536, 'max_depth': 30, 'learning_rate': 0.011698090099728303, 'n_estimators': 5007, 'min_child_samples': 272, 'subsample': 0.26626571827946677, 'colsample_bytree': 0.2862239103654386, 'max_bin': 8326, 'reg_alpha': 0.0023712404929039947, 'reg_lambda': 0.0005783980330769555, 'min_split_gain': 0.4003373417349937}. Best is trial 24 with value: 38.8182533820295.\n",
      "Trial 49 finished with value: 38.827263123864284 and parameters: {'num_leaves': 536, 'max_depth': 30, 'learning_rate': 0.011698090099728303, 'n_estimators': 5007, 'min_child_samples': 272, 'subsample': 0.26626571827946677, 'colsample_bytree': 0.2862239103654386, 'max_bin': 8326, 'reg_alpha': 0.0023712404929039947, 'reg_lambda': 0.0005783980330769555, 'min_split_gain': 0.4003373417349937}. Best is trial 24 with value: 38.8182533820295.\n"
     ]
    },
    {
     "name": "stderr",
     "output_type": "stream",
     "text": [
      "[I 2025-02-04 13:36:45,575] Trial 50 finished with value: 38.84491433218243 and parameters: {'num_leaves': 1296, 'max_depth': 8, 'learning_rate': 0.34414723509759054, 'n_estimators': 3637, 'min_child_samples': 232, 'subsample': 0.20210636819699895, 'colsample_bytree': 0.39109241600133515, 'max_bin': 3103, 'reg_alpha': 4.84053919706309e-08, 'reg_lambda': 0.0028563260532443097, 'min_split_gain': 0.527430692427625}. Best is trial 24 with value: 38.8182533820295.\n"
     ]
    },
    {
     "name": "stdout",
     "output_type": "stream",
     "text": [
      "Trial 50 finished with value: 38.84491433218243 and parameters: {'num_leaves': 1296, 'max_depth': 8, 'learning_rate': 0.34414723509759054, 'n_estimators': 3637, 'min_child_samples': 232, 'subsample': 0.20210636819699895, 'colsample_bytree': 0.39109241600133515, 'max_bin': 3103, 'reg_alpha': 4.84053919706309e-08, 'reg_lambda': 0.0028563260532443097, 'min_split_gain': 0.527430692427625}. Best is trial 24 with value: 38.8182533820295.\n",
      "Trial 50 finished with value: 38.84491433218243 and parameters: {'num_leaves': 1296, 'max_depth': 8, 'learning_rate': 0.34414723509759054, 'n_estimators': 3637, 'min_child_samples': 232, 'subsample': 0.20210636819699895, 'colsample_bytree': 0.39109241600133515, 'max_bin': 3103, 'reg_alpha': 4.84053919706309e-08, 'reg_lambda': 0.0028563260532443097, 'min_split_gain': 0.527430692427625}. Best is trial 24 with value: 38.8182533820295.\n"
     ]
    },
    {
     "name": "stderr",
     "output_type": "stream",
     "text": [
      "[I 2025-02-04 13:37:08,419] Trial 51 finished with value: 38.825232526964086 and parameters: {'num_leaves': 1333, 'max_depth': 8, 'learning_rate': 0.20616639243813653, 'n_estimators': 6329, 'min_child_samples': 139, 'subsample': 0.16848835951128244, 'colsample_bytree': 0.264723235632712, 'max_bin': 9832, 'reg_alpha': 0.7761528460945115, 'reg_lambda': 6.525656509325803e-05, 'min_split_gain': 0.5698269102036827}. Best is trial 24 with value: 38.8182533820295.\n"
     ]
    },
    {
     "name": "stdout",
     "output_type": "stream",
     "text": [
      "Trial 51 finished with value: 38.825232526964086 and parameters: {'num_leaves': 1333, 'max_depth': 8, 'learning_rate': 0.20616639243813653, 'n_estimators': 6329, 'min_child_samples': 139, 'subsample': 0.16848835951128244, 'colsample_bytree': 0.264723235632712, 'max_bin': 9832, 'reg_alpha': 0.7761528460945115, 'reg_lambda': 6.525656509325803e-05, 'min_split_gain': 0.5698269102036827}. Best is trial 24 with value: 38.8182533820295.\n",
      "Trial 51 finished with value: 38.825232526964086 and parameters: {'num_leaves': 1333, 'max_depth': 8, 'learning_rate': 0.20616639243813653, 'n_estimators': 6329, 'min_child_samples': 139, 'subsample': 0.16848835951128244, 'colsample_bytree': 0.264723235632712, 'max_bin': 9832, 'reg_alpha': 0.7761528460945115, 'reg_lambda': 6.525656509325803e-05, 'min_split_gain': 0.5698269102036827}. Best is trial 24 with value: 38.8182533820295.\n"
     ]
    },
    {
     "name": "stderr",
     "output_type": "stream",
     "text": [
      "[I 2025-02-04 13:49:38,856] Trial 52 finished with value: 38.83690052818936 and parameters: {'num_leaves': 1180, 'max_depth': 10, 'learning_rate': 0.002052830198835005, 'n_estimators': 9997, 'min_child_samples': 246, 'subsample': 0.1832404413982799, 'colsample_bytree': 0.3068275977180357, 'max_bin': 9504, 'reg_alpha': 0.43203935528197734, 'reg_lambda': 0.00014940651568422147, 'min_split_gain': 0.5897669193077161}. Best is trial 24 with value: 38.8182533820295.\n"
     ]
    },
    {
     "name": "stdout",
     "output_type": "stream",
     "text": [
      "Trial 52 finished with value: 38.83690052818936 and parameters: {'num_leaves': 1180, 'max_depth': 10, 'learning_rate': 0.002052830198835005, 'n_estimators': 9997, 'min_child_samples': 246, 'subsample': 0.1832404413982799, 'colsample_bytree': 0.3068275977180357, 'max_bin': 9504, 'reg_alpha': 0.43203935528197734, 'reg_lambda': 0.00014940651568422147, 'min_split_gain': 0.5897669193077161}. Best is trial 24 with value: 38.8182533820295.\n",
      "Trial 52 finished with value: 38.83690052818936 and parameters: {'num_leaves': 1180, 'max_depth': 10, 'learning_rate': 0.002052830198835005, 'n_estimators': 9997, 'min_child_samples': 246, 'subsample': 0.1832404413982799, 'colsample_bytree': 0.3068275977180357, 'max_bin': 9504, 'reg_alpha': 0.43203935528197734, 'reg_lambda': 0.00014940651568422147, 'min_split_gain': 0.5897669193077161}. Best is trial 24 with value: 38.8182533820295.\n"
     ]
    },
    {
     "name": "stderr",
     "output_type": "stream",
     "text": [
      "[I 2025-02-04 13:50:18,103] Trial 53 finished with value: 38.824393986212584 and parameters: {'num_leaves': 607, 'max_depth': 13, 'learning_rate': 0.1034014945380204, 'n_estimators': 5648, 'min_child_samples': 299, 'subsample': 0.49835015140442607, 'colsample_bytree': 0.26156314643078765, 'max_bin': 9993, 'reg_alpha': 0.07266865141413592, 'reg_lambda': 1.790189078154615e-05, 'min_split_gain': 0.576263306665016}. Best is trial 24 with value: 38.8182533820295.\n"
     ]
    },
    {
     "name": "stdout",
     "output_type": "stream",
     "text": [
      "Trial 53 finished with value: 38.824393986212584 and parameters: {'num_leaves': 607, 'max_depth': 13, 'learning_rate': 0.1034014945380204, 'n_estimators': 5648, 'min_child_samples': 299, 'subsample': 0.49835015140442607, 'colsample_bytree': 0.26156314643078765, 'max_bin': 9993, 'reg_alpha': 0.07266865141413592, 'reg_lambda': 1.790189078154615e-05, 'min_split_gain': 0.576263306665016}. Best is trial 24 with value: 38.8182533820295.\n",
      "Trial 53 finished with value: 38.824393986212584 and parameters: {'num_leaves': 607, 'max_depth': 13, 'learning_rate': 0.1034014945380204, 'n_estimators': 5648, 'min_child_samples': 299, 'subsample': 0.49835015140442607, 'colsample_bytree': 0.26156314643078765, 'max_bin': 9993, 'reg_alpha': 0.07266865141413592, 'reg_lambda': 1.790189078154615e-05, 'min_split_gain': 0.576263306665016}. Best is trial 24 with value: 38.8182533820295.\n"
     ]
    },
    {
     "name": "stderr",
     "output_type": "stream",
     "text": [
      "[I 2025-02-04 13:50:29,510] Trial 54 finished with value: 38.839591608942946 and parameters: {'num_leaves': 1397, 'max_depth': 6, 'learning_rate': 0.27044331391271215, 'n_estimators': 6152, 'min_child_samples': 257, 'subsample': 0.14385579097758874, 'colsample_bytree': 0.2364590730554867, 'max_bin': 8843, 'reg_alpha': 0.18177237381827077, 'reg_lambda': 0.0001904538798629904, 'min_split_gain': 0.5463443810261047}. Best is trial 24 with value: 38.8182533820295.\n"
     ]
    },
    {
     "name": "stdout",
     "output_type": "stream",
     "text": [
      "Trial 54 finished with value: 38.839591608942946 and parameters: {'num_leaves': 1397, 'max_depth': 6, 'learning_rate': 0.27044331391271215, 'n_estimators': 6152, 'min_child_samples': 257, 'subsample': 0.14385579097758874, 'colsample_bytree': 0.2364590730554867, 'max_bin': 8843, 'reg_alpha': 0.18177237381827077, 'reg_lambda': 0.0001904538798629904, 'min_split_gain': 0.5463443810261047}. Best is trial 24 with value: 38.8182533820295.\n",
      "Trial 54 finished with value: 38.839591608942946 and parameters: {'num_leaves': 1397, 'max_depth': 6, 'learning_rate': 0.27044331391271215, 'n_estimators': 6152, 'min_child_samples': 257, 'subsample': 0.14385579097758874, 'colsample_bytree': 0.2364590730554867, 'max_bin': 8843, 'reg_alpha': 0.18177237381827077, 'reg_lambda': 0.0001904538798629904, 'min_split_gain': 0.5463443810261047}. Best is trial 24 with value: 38.8182533820295.\n"
     ]
    },
    {
     "name": "stderr",
     "output_type": "stream",
     "text": [
      "[I 2025-02-04 13:51:14,267] Trial 55 finished with value: 38.82481984433875 and parameters: {'num_leaves': 715, 'max_depth': 8, 'learning_rate': 0.1384360199278212, 'n_estimators': 4611, 'min_child_samples': 286, 'subsample': 0.21292414910045263, 'colsample_bytree': 0.2897182035719848, 'max_bin': 9206, 'reg_alpha': 0.4076270849686813, 'reg_lambda': 6.419761606289392e-05, 'min_split_gain': 0.5848455051810564}. Best is trial 24 with value: 38.8182533820295.\n"
     ]
    },
    {
     "name": "stdout",
     "output_type": "stream",
     "text": [
      "Trial 55 finished with value: 38.82481984433875 and parameters: {'num_leaves': 715, 'max_depth': 8, 'learning_rate': 0.1384360199278212, 'n_estimators': 4611, 'min_child_samples': 286, 'subsample': 0.21292414910045263, 'colsample_bytree': 0.2897182035719848, 'max_bin': 9206, 'reg_alpha': 0.4076270849686813, 'reg_lambda': 6.419761606289392e-05, 'min_split_gain': 0.5848455051810564}. Best is trial 24 with value: 38.8182533820295.\n",
      "Trial 55 finished with value: 38.82481984433875 and parameters: {'num_leaves': 715, 'max_depth': 8, 'learning_rate': 0.1384360199278212, 'n_estimators': 4611, 'min_child_samples': 286, 'subsample': 0.21292414910045263, 'colsample_bytree': 0.2897182035719848, 'max_bin': 9206, 'reg_alpha': 0.4076270849686813, 'reg_lambda': 6.419761606289392e-05, 'min_split_gain': 0.5848455051810564}. Best is trial 24 with value: 38.8182533820295.\n"
     ]
    },
    {
     "name": "stderr",
     "output_type": "stream",
     "text": [
      "[I 2025-02-04 13:51:41,224] Trial 56 finished with value: 38.857915149491966 and parameters: {'num_leaves': 1420, 'max_depth': 9, 'learning_rate': 0.07213893367703436, 'n_estimators': 5286, 'min_child_samples': 175, 'subsample': 0.24279382145090544, 'colsample_bytree': 0.25485219032682105, 'max_bin': 1049, 'reg_alpha': 0.9822713649822746, 'reg_lambda': 8.639466848282807e-06, 'min_split_gain': 0.5976226460388262}. Best is trial 24 with value: 38.8182533820295.\n"
     ]
    },
    {
     "name": "stdout",
     "output_type": "stream",
     "text": [
      "Trial 56 finished with value: 38.857915149491966 and parameters: {'num_leaves': 1420, 'max_depth': 9, 'learning_rate': 0.07213893367703436, 'n_estimators': 5286, 'min_child_samples': 175, 'subsample': 0.24279382145090544, 'colsample_bytree': 0.25485219032682105, 'max_bin': 1049, 'reg_alpha': 0.9822713649822746, 'reg_lambda': 8.639466848282807e-06, 'min_split_gain': 0.5976226460388262}. Best is trial 24 with value: 38.8182533820295.\n",
      "Trial 56 finished with value: 38.857915149491966 and parameters: {'num_leaves': 1420, 'max_depth': 9, 'learning_rate': 0.07213893367703436, 'n_estimators': 5286, 'min_child_samples': 175, 'subsample': 0.24279382145090544, 'colsample_bytree': 0.25485219032682105, 'max_bin': 1049, 'reg_alpha': 0.9822713649822746, 'reg_lambda': 8.639466848282807e-06, 'min_split_gain': 0.5976226460388262}. Best is trial 24 with value: 38.8182533820295.\n"
     ]
    },
    {
     "name": "stderr",
     "output_type": "stream",
     "text": [
      "[I 2025-02-04 13:52:33,841] Trial 57 finished with value: 38.83479575039832 and parameters: {'num_leaves': 1500, 'max_depth': 7, 'learning_rate': 0.050430112414625354, 'n_estimators': 4095, 'min_child_samples': 116, 'subsample': 0.165701807113882, 'colsample_bytree': 0.21274632465702867, 'max_bin': 9658, 'reg_alpha': 0.1233634323308716, 'reg_lambda': 2.2047996324775783e-06, 'min_split_gain': 0.510587133737344}. Best is trial 24 with value: 38.8182533820295.\n"
     ]
    },
    {
     "name": "stdout",
     "output_type": "stream",
     "text": [
      "Trial 57 finished with value: 38.83479575039832 and parameters: {'num_leaves': 1500, 'max_depth': 7, 'learning_rate': 0.050430112414625354, 'n_estimators': 4095, 'min_child_samples': 116, 'subsample': 0.165701807113882, 'colsample_bytree': 0.21274632465702867, 'max_bin': 9658, 'reg_alpha': 0.1233634323308716, 'reg_lambda': 2.2047996324775783e-06, 'min_split_gain': 0.510587133737344}. Best is trial 24 with value: 38.8182533820295.\n",
      "Trial 57 finished with value: 38.83479575039832 and parameters: {'num_leaves': 1500, 'max_depth': 7, 'learning_rate': 0.050430112414625354, 'n_estimators': 4095, 'min_child_samples': 116, 'subsample': 0.165701807113882, 'colsample_bytree': 0.21274632465702867, 'max_bin': 9658, 'reg_alpha': 0.1233634323308716, 'reg_lambda': 2.2047996324775783e-06, 'min_split_gain': 0.510587133737344}. Best is trial 24 with value: 38.8182533820295.\n"
     ]
    },
    {
     "name": "stderr",
     "output_type": "stream",
     "text": [
      "[I 2025-02-04 13:52:53,001] Trial 58 finished with value: 38.82821410023969 and parameters: {'num_leaves': 645, 'max_depth': 12, 'learning_rate': 0.19634784896462162, 'n_estimators': 6660, 'min_child_samples': 272, 'subsample': 0.11073081625358779, 'colsample_bytree': 0.3177505239908281, 'max_bin': 8564, 'reg_alpha': 0.01535037246280452, 'reg_lambda': 9.711759708357405e-07, 'min_split_gain': 0.5691091316949781}. Best is trial 24 with value: 38.8182533820295.\n"
     ]
    },
    {
     "name": "stdout",
     "output_type": "stream",
     "text": [
      "Trial 58 finished with value: 38.82821410023969 and parameters: {'num_leaves': 645, 'max_depth': 12, 'learning_rate': 0.19634784896462162, 'n_estimators': 6660, 'min_child_samples': 272, 'subsample': 0.11073081625358779, 'colsample_bytree': 0.3177505239908281, 'max_bin': 8564, 'reg_alpha': 0.01535037246280452, 'reg_lambda': 9.711759708357405e-07, 'min_split_gain': 0.5691091316949781}. Best is trial 24 with value: 38.8182533820295.\n",
      "Trial 58 finished with value: 38.82821410023969 and parameters: {'num_leaves': 645, 'max_depth': 12, 'learning_rate': 0.19634784896462162, 'n_estimators': 6660, 'min_child_samples': 272, 'subsample': 0.11073081625358779, 'colsample_bytree': 0.3177505239908281, 'max_bin': 8564, 'reg_alpha': 0.01535037246280452, 'reg_lambda': 9.711759708357405e-07, 'min_split_gain': 0.5691091316949781}. Best is trial 24 with value: 38.8182533820295.\n"
     ]
    },
    {
     "name": "stderr",
     "output_type": "stream",
     "text": [
      "[I 2025-02-04 13:54:38,440] Trial 59 finished with value: 38.82568603066296 and parameters: {'num_leaves': 531, 'max_depth': 10, 'learning_rate': 0.03857393304049254, 'n_estimators': 7392, 'min_child_samples': 291, 'subsample': 0.3597846605086948, 'colsample_bytree': 0.2766672502856999, 'max_bin': 8907, 'reg_alpha': 5.683199534409592e-07, 'reg_lambda': 1.7210260660424153e-05, 'min_split_gain': 0.560316146619785}. Best is trial 24 with value: 38.8182533820295.\n"
     ]
    },
    {
     "name": "stdout",
     "output_type": "stream",
     "text": [
      "Trial 59 finished with value: 38.82568603066296 and parameters: {'num_leaves': 531, 'max_depth': 10, 'learning_rate': 0.03857393304049254, 'n_estimators': 7392, 'min_child_samples': 291, 'subsample': 0.3597846605086948, 'colsample_bytree': 0.2766672502856999, 'max_bin': 8907, 'reg_alpha': 5.683199534409592e-07, 'reg_lambda': 1.7210260660424153e-05, 'min_split_gain': 0.560316146619785}. Best is trial 24 with value: 38.8182533820295.\n",
      "Trial 59 finished with value: 38.82568603066296 and parameters: {'num_leaves': 531, 'max_depth': 10, 'learning_rate': 0.03857393304049254, 'n_estimators': 7392, 'min_child_samples': 291, 'subsample': 0.3597846605086948, 'colsample_bytree': 0.2766672502856999, 'max_bin': 8907, 'reg_alpha': 5.683199534409592e-07, 'reg_lambda': 1.7210260660424153e-05, 'min_split_gain': 0.560316146619785}. Best is trial 24 with value: 38.8182533820295.\n"
     ]
    },
    {
     "name": "stderr",
     "output_type": "stream",
     "text": [
      "[I 2025-02-04 13:55:24,640] Trial 60 finished with value: 38.82284279483519 and parameters: {'num_leaves': 858, 'max_depth': 14, 'learning_rate': 0.09000920213656692, 'n_estimators': 5586, 'min_child_samples': 200, 'subsample': 0.19636980836990622, 'colsample_bytree': 0.33237519009697425, 'max_bin': 9961, 'reg_alpha': 0.5530433325496171, 'reg_lambda': 0.0003478302105672602, 'min_split_gain': 0.5191958935579543}. Best is trial 24 with value: 38.8182533820295.\n"
     ]
    },
    {
     "name": "stdout",
     "output_type": "stream",
     "text": [
      "Trial 60 finished with value: 38.82284279483519 and parameters: {'num_leaves': 858, 'max_depth': 14, 'learning_rate': 0.09000920213656692, 'n_estimators': 5586, 'min_child_samples': 200, 'subsample': 0.19636980836990622, 'colsample_bytree': 0.33237519009697425, 'max_bin': 9961, 'reg_alpha': 0.5530433325496171, 'reg_lambda': 0.0003478302105672602, 'min_split_gain': 0.5191958935579543}. Best is trial 24 with value: 38.8182533820295.\n",
      "Trial 60 finished with value: 38.82284279483519 and parameters: {'num_leaves': 858, 'max_depth': 14, 'learning_rate': 0.09000920213656692, 'n_estimators': 5586, 'min_child_samples': 200, 'subsample': 0.19636980836990622, 'colsample_bytree': 0.33237519009697425, 'max_bin': 9961, 'reg_alpha': 0.5530433325496171, 'reg_lambda': 0.0003478302105672602, 'min_split_gain': 0.5191958935579543}. Best is trial 24 with value: 38.8182533820295.\n"
     ]
    },
    {
     "name": "stderr",
     "output_type": "stream",
     "text": [
      "[I 2025-02-04 13:56:31,223] Trial 61 finished with value: 38.8191954404234 and parameters: {'num_leaves': 896, 'max_depth': 7, 'learning_rate': 0.09668431496364716, 'n_estimators': 5677, 'min_child_samples': 152, 'subsample': 0.19201648872134272, 'colsample_bytree': 0.3355402982221669, 'max_bin': 9623, 'reg_alpha': 0.6386081985728863, 'reg_lambda': 0.00043222858755193673, 'min_split_gain': 0.523569948859504}. Best is trial 24 with value: 38.8182533820295.\n"
     ]
    },
    {
     "name": "stdout",
     "output_type": "stream",
     "text": [
      "Trial 61 finished with value: 38.8191954404234 and parameters: {'num_leaves': 896, 'max_depth': 7, 'learning_rate': 0.09668431496364716, 'n_estimators': 5677, 'min_child_samples': 152, 'subsample': 0.19201648872134272, 'colsample_bytree': 0.3355402982221669, 'max_bin': 9623, 'reg_alpha': 0.6386081985728863, 'reg_lambda': 0.00043222858755193673, 'min_split_gain': 0.523569948859504}. Best is trial 24 with value: 38.8182533820295.\n",
      "Trial 61 finished with value: 38.8191954404234 and parameters: {'num_leaves': 896, 'max_depth': 7, 'learning_rate': 0.09668431496364716, 'n_estimators': 5677, 'min_child_samples': 152, 'subsample': 0.19201648872134272, 'colsample_bytree': 0.3355402982221669, 'max_bin': 9623, 'reg_alpha': 0.6386081985728863, 'reg_lambda': 0.00043222858755193673, 'min_split_gain': 0.523569948859504}. Best is trial 24 with value: 38.8182533820295.\n"
     ]
    },
    {
     "name": "stderr",
     "output_type": "stream",
     "text": [
      "[I 2025-02-04 13:57:16,907] Trial 62 finished with value: 38.81981740914033 and parameters: {'num_leaves': 977, 'max_depth': 7, 'learning_rate': 0.14276410758029187, 'n_estimators': 5150, 'min_child_samples': 155, 'subsample': 0.23138781457952332, 'colsample_bytree': 0.2945537549190484, 'max_bin': 9707, 'reg_alpha': 0.2750309572614982, 'reg_lambda': 0.0007201889969210678, 'min_split_gain': 0.4992155067382394}. Best is trial 24 with value: 38.8182533820295.\n"
     ]
    },
    {
     "name": "stdout",
     "output_type": "stream",
     "text": [
      "Trial 62 finished with value: 38.81981740914033 and parameters: {'num_leaves': 977, 'max_depth': 7, 'learning_rate': 0.14276410758029187, 'n_estimators': 5150, 'min_child_samples': 155, 'subsample': 0.23138781457952332, 'colsample_bytree': 0.2945537549190484, 'max_bin': 9707, 'reg_alpha': 0.2750309572614982, 'reg_lambda': 0.0007201889969210678, 'min_split_gain': 0.4992155067382394}. Best is trial 24 with value: 38.8182533820295.\n",
      "Trial 62 finished with value: 38.81981740914033 and parameters: {'num_leaves': 977, 'max_depth': 7, 'learning_rate': 0.14276410758029187, 'n_estimators': 5150, 'min_child_samples': 155, 'subsample': 0.23138781457952332, 'colsample_bytree': 0.2945537549190484, 'max_bin': 9707, 'reg_alpha': 0.2750309572614982, 'reg_lambda': 0.0007201889969210678, 'min_split_gain': 0.4992155067382394}. Best is trial 24 with value: 38.8182533820295.\n"
     ]
    },
    {
     "name": "stderr",
     "output_type": "stream",
     "text": [
      "[I 2025-02-04 13:58:04,914] Trial 63 finished with value: 38.82593377213252 and parameters: {'num_leaves': 979, 'max_depth': 6, 'learning_rate': 0.11837029004091368, 'n_estimators': 5157, 'min_child_samples': 142, 'subsample': 0.23281277379973858, 'colsample_bytree': 0.29170060059964137, 'max_bin': 9245, 'reg_alpha': 0.23710735669273836, 'reg_lambda': 0.0008901843692403305, 'min_split_gain': 0.49936922665001593}. Best is trial 24 with value: 38.8182533820295.\n"
     ]
    },
    {
     "name": "stdout",
     "output_type": "stream",
     "text": [
      "Trial 63 finished with value: 38.82593377213252 and parameters: {'num_leaves': 979, 'max_depth': 6, 'learning_rate': 0.11837029004091368, 'n_estimators': 5157, 'min_child_samples': 142, 'subsample': 0.23281277379973858, 'colsample_bytree': 0.29170060059964137, 'max_bin': 9245, 'reg_alpha': 0.23710735669273836, 'reg_lambda': 0.0008901843692403305, 'min_split_gain': 0.49936922665001593}. Best is trial 24 with value: 38.8182533820295.\n",
      "Trial 63 finished with value: 38.82593377213252 and parameters: {'num_leaves': 979, 'max_depth': 6, 'learning_rate': 0.11837029004091368, 'n_estimators': 5157, 'min_child_samples': 142, 'subsample': 0.23281277379973858, 'colsample_bytree': 0.29170060059964137, 'max_bin': 9245, 'reg_alpha': 0.23710735669273836, 'reg_lambda': 0.0008901843692403305, 'min_split_gain': 0.49936922665001593}. Best is trial 24 with value: 38.8182533820295.\n"
     ]
    },
    {
     "name": "stderr",
     "output_type": "stream",
     "text": [
      "[I 2025-02-04 13:58:34,148] Trial 64 finished with value: 38.82642216098698 and parameters: {'num_leaves': 898, 'max_depth': 7, 'learning_rate': 0.14656225200765347, 'n_estimators': 4761, 'min_child_samples': 151, 'subsample': 0.21744443748026465, 'colsample_bytree': 0.35290689595609837, 'max_bin': 9606, 'reg_alpha': 0.036121112209682386, 'reg_lambda': 0.0029486883863847242, 'min_split_gain': 0.4873872677615441}. Best is trial 24 with value: 38.8182533820295.\n"
     ]
    },
    {
     "name": "stdout",
     "output_type": "stream",
     "text": [
      "Trial 64 finished with value: 38.82642216098698 and parameters: {'num_leaves': 898, 'max_depth': 7, 'learning_rate': 0.14656225200765347, 'n_estimators': 4761, 'min_child_samples': 151, 'subsample': 0.21744443748026465, 'colsample_bytree': 0.35290689595609837, 'max_bin': 9606, 'reg_alpha': 0.036121112209682386, 'reg_lambda': 0.0029486883863847242, 'min_split_gain': 0.4873872677615441}. Best is trial 24 with value: 38.8182533820295.\n",
      "Trial 64 finished with value: 38.82642216098698 and parameters: {'num_leaves': 898, 'max_depth': 7, 'learning_rate': 0.14656225200765347, 'n_estimators': 4761, 'min_child_samples': 151, 'subsample': 0.21744443748026465, 'colsample_bytree': 0.35290689595609837, 'max_bin': 9606, 'reg_alpha': 0.036121112209682386, 'reg_lambda': 0.0029486883863847242, 'min_split_gain': 0.4873872677615441}. Best is trial 24 with value: 38.8182533820295.\n"
     ]
    },
    {
     "name": "stderr",
     "output_type": "stream",
     "text": [
      "[I 2025-02-04 13:59:57,627] Trial 65 finished with value: 38.82402350734115 and parameters: {'num_leaves': 1020, 'max_depth': 9, 'learning_rate': 0.06954564128284228, 'n_estimators': 4354, 'min_child_samples': 178, 'subsample': 0.252056422840777, 'colsample_bytree': 0.2946314826690765, 'max_bin': 9113, 'reg_alpha': 0.08325374074708472, 'reg_lambda': 0.011434417891389694, 'min_split_gain': 0.5108634816018728}. Best is trial 24 with value: 38.8182533820295.\n"
     ]
    },
    {
     "name": "stdout",
     "output_type": "stream",
     "text": [
      "Trial 65 finished with value: 38.82402350734115 and parameters: {'num_leaves': 1020, 'max_depth': 9, 'learning_rate': 0.06954564128284228, 'n_estimators': 4354, 'min_child_samples': 178, 'subsample': 0.252056422840777, 'colsample_bytree': 0.2946314826690765, 'max_bin': 9113, 'reg_alpha': 0.08325374074708472, 'reg_lambda': 0.011434417891389694, 'min_split_gain': 0.5108634816018728}. Best is trial 24 with value: 38.8182533820295.\n",
      "Trial 65 finished with value: 38.82402350734115 and parameters: {'num_leaves': 1020, 'max_depth': 9, 'learning_rate': 0.06954564128284228, 'n_estimators': 4354, 'min_child_samples': 178, 'subsample': 0.252056422840777, 'colsample_bytree': 0.2946314826690765, 'max_bin': 9113, 'reg_alpha': 0.08325374074708472, 'reg_lambda': 0.011434417891389694, 'min_split_gain': 0.5108634816018728}. Best is trial 24 with value: 38.8182533820295.\n"
     ]
    },
    {
     "name": "stderr",
     "output_type": "stream",
     "text": [
      "[I 2025-02-04 14:02:19,729] Trial 66 finished with value: 38.82046135215341 and parameters: {'num_leaves': 891, 'max_depth': 11, 'learning_rate': 0.0278961785041906, 'n_estimators': 3571, 'min_child_samples': 122, 'subsample': 0.27921044889802815, 'colsample_bytree': 0.3011900953795018, 'max_bin': 9561, 'reg_alpha': 0.15696691909261523, 'reg_lambda': 0.05756517529514063, 'min_split_gain': 0.5218995718337723}. Best is trial 24 with value: 38.8182533820295.\n"
     ]
    },
    {
     "name": "stdout",
     "output_type": "stream",
     "text": [
      "Trial 66 finished with value: 38.82046135215341 and parameters: {'num_leaves': 891, 'max_depth': 11, 'learning_rate': 0.0278961785041906, 'n_estimators': 3571, 'min_child_samples': 122, 'subsample': 0.27921044889802815, 'colsample_bytree': 0.3011900953795018, 'max_bin': 9561, 'reg_alpha': 0.15696691909261523, 'reg_lambda': 0.05756517529514063, 'min_split_gain': 0.5218995718337723}. Best is trial 24 with value: 38.8182533820295.\n",
      "Trial 66 finished with value: 38.82046135215341 and parameters: {'num_leaves': 891, 'max_depth': 11, 'learning_rate': 0.0278961785041906, 'n_estimators': 3571, 'min_child_samples': 122, 'subsample': 0.27921044889802815, 'colsample_bytree': 0.3011900953795018, 'max_bin': 9561, 'reg_alpha': 0.15696691909261523, 'reg_lambda': 0.05756517529514063, 'min_split_gain': 0.5218995718337723}. Best is trial 24 with value: 38.8182533820295.\n"
     ]
    },
    {
     "name": "stderr",
     "output_type": "stream",
     "text": [
      "[I 2025-02-04 14:04:25,838] Trial 67 finished with value: 38.82492759281363 and parameters: {'num_leaves': 911, 'max_depth': 11, 'learning_rate': 0.02782913234420963, 'n_estimators': 3392, 'min_child_samples': 131, 'subsample': 0.2632067970324703, 'colsample_bytree': 0.3329064761058174, 'max_bin': 8558, 'reg_alpha': 0.18527414691915886, 'reg_lambda': 0.8736631495297341, 'min_split_gain': 0.5329660943305088}. Best is trial 24 with value: 38.8182533820295.\n"
     ]
    },
    {
     "name": "stdout",
     "output_type": "stream",
     "text": [
      "Trial 67 finished with value: 38.82492759281363 and parameters: {'num_leaves': 911, 'max_depth': 11, 'learning_rate': 0.02782913234420963, 'n_estimators': 3392, 'min_child_samples': 131, 'subsample': 0.2632067970324703, 'colsample_bytree': 0.3329064761058174, 'max_bin': 8558, 'reg_alpha': 0.18527414691915886, 'reg_lambda': 0.8736631495297341, 'min_split_gain': 0.5329660943305088}. Best is trial 24 with value: 38.8182533820295.\n",
      "Trial 67 finished with value: 38.82492759281363 and parameters: {'num_leaves': 911, 'max_depth': 11, 'learning_rate': 0.02782913234420963, 'n_estimators': 3392, 'min_child_samples': 131, 'subsample': 0.2632067970324703, 'colsample_bytree': 0.3329064761058174, 'max_bin': 8558, 'reg_alpha': 0.18527414691915886, 'reg_lambda': 0.8736631495297341, 'min_split_gain': 0.5329660943305088}. Best is trial 24 with value: 38.8182533820295.\n"
     ]
    },
    {
     "name": "stderr",
     "output_type": "stream",
     "text": [
      "[I 2025-02-04 14:05:57,687] Trial 68 finished with value: 38.822217099986325 and parameters: {'num_leaves': 797, 'max_depth': 7, 'learning_rate': 0.04952838179416321, 'n_estimators': 2749, 'min_child_samples': 159, 'subsample': 0.31191051469113384, 'colsample_bytree': 0.3620966450034828, 'max_bin': 9551, 'reg_alpha': 0.12330982860134186, 'reg_lambda': 0.44193182963584055, 'min_split_gain': 0.5222426629186043}. Best is trial 24 with value: 38.8182533820295.\n"
     ]
    },
    {
     "name": "stdout",
     "output_type": "stream",
     "text": [
      "Trial 68 finished with value: 38.822217099986325 and parameters: {'num_leaves': 797, 'max_depth': 7, 'learning_rate': 0.04952838179416321, 'n_estimators': 2749, 'min_child_samples': 159, 'subsample': 0.31191051469113384, 'colsample_bytree': 0.3620966450034828, 'max_bin': 9551, 'reg_alpha': 0.12330982860134186, 'reg_lambda': 0.44193182963584055, 'min_split_gain': 0.5222426629186043}. Best is trial 24 with value: 38.8182533820295.\n",
      "Trial 68 finished with value: 38.822217099986325 and parameters: {'num_leaves': 797, 'max_depth': 7, 'learning_rate': 0.04952838179416321, 'n_estimators': 2749, 'min_child_samples': 159, 'subsample': 0.31191051469113384, 'colsample_bytree': 0.3620966450034828, 'max_bin': 9551, 'reg_alpha': 0.12330982860134186, 'reg_lambda': 0.44193182963584055, 'min_split_gain': 0.5222426629186043}. Best is trial 24 with value: 38.8182533820295.\n"
     ]
    },
    {
     "name": "stderr",
     "output_type": "stream",
     "text": [
      "[I 2025-02-04 14:06:51,265] Trial 69 finished with value: 38.827968834163705 and parameters: {'num_leaves': 720, 'max_depth': 6, 'learning_rate': 0.09174814510780256, 'n_estimators': 3923, 'min_child_samples': 109, 'subsample': 0.2754110479441924, 'colsample_bytree': 0.3054588765790678, 'max_bin': 8039, 'reg_alpha': 0.04820795241624599, 'reg_lambda': 0.29749001560173954, 'min_split_gain': 0.47287728918376715}. Best is trial 24 with value: 38.8182533820295.\n"
     ]
    },
    {
     "name": "stdout",
     "output_type": "stream",
     "text": [
      "Trial 69 finished with value: 38.827968834163705 and parameters: {'num_leaves': 720, 'max_depth': 6, 'learning_rate': 0.09174814510780256, 'n_estimators': 3923, 'min_child_samples': 109, 'subsample': 0.2754110479441924, 'colsample_bytree': 0.3054588765790678, 'max_bin': 8039, 'reg_alpha': 0.04820795241624599, 'reg_lambda': 0.29749001560173954, 'min_split_gain': 0.47287728918376715}. Best is trial 24 with value: 38.8182533820295.\n",
      "Trial 69 finished with value: 38.827968834163705 and parameters: {'num_leaves': 720, 'max_depth': 6, 'learning_rate': 0.09174814510780256, 'n_estimators': 3923, 'min_child_samples': 109, 'subsample': 0.2754110479441924, 'colsample_bytree': 0.3054588765790678, 'max_bin': 8039, 'reg_alpha': 0.04820795241624599, 'reg_lambda': 0.29749001560173954, 'min_split_gain': 0.47287728918376715}. Best is trial 24 with value: 38.8182533820295.\n"
     ]
    },
    {
     "name": "stderr",
     "output_type": "stream",
     "text": [
      "[I 2025-02-04 14:07:50,722] Trial 70 finished with value: 38.83546089420463 and parameters: {'num_leaves': 591, 'max_depth': 10, 'learning_rate': 0.059620152481364534, 'n_estimators': 3494, 'min_child_samples': 117, 'subsample': 0.42339511053388207, 'colsample_bytree': 0.46558302675802454, 'max_bin': 6329, 'reg_alpha': 0.0073538282534152555, 'reg_lambda': 0.040929802370684984, 'min_split_gain': 0.5043012451583375}. Best is trial 24 with value: 38.8182533820295.\n"
     ]
    },
    {
     "name": "stdout",
     "output_type": "stream",
     "text": [
      "Trial 70 finished with value: 38.83546089420463 and parameters: {'num_leaves': 591, 'max_depth': 10, 'learning_rate': 0.059620152481364534, 'n_estimators': 3494, 'min_child_samples': 117, 'subsample': 0.42339511053388207, 'colsample_bytree': 0.46558302675802454, 'max_bin': 6329, 'reg_alpha': 0.0073538282534152555, 'reg_lambda': 0.040929802370684984, 'min_split_gain': 0.5043012451583375}. Best is trial 24 with value: 38.8182533820295.\n",
      "Trial 70 finished with value: 38.83546089420463 and parameters: {'num_leaves': 591, 'max_depth': 10, 'learning_rate': 0.059620152481364534, 'n_estimators': 3494, 'min_child_samples': 117, 'subsample': 0.42339511053388207, 'colsample_bytree': 0.46558302675802454, 'max_bin': 6329, 'reg_alpha': 0.0073538282534152555, 'reg_lambda': 0.040929802370684984, 'min_split_gain': 0.5043012451583375}. Best is trial 24 with value: 38.8182533820295.\n"
     ]
    },
    {
     "name": "stderr",
     "output_type": "stream",
     "text": [
      "[I 2025-02-04 14:11:07,426] Trial 71 finished with value: 38.83697791642065 and parameters: {'num_leaves': 963, 'max_depth': 9, 'learning_rate': 0.008983420434645973, 'n_estimators': 3123, 'min_child_samples': 126, 'subsample': 0.19172649148878776, 'colsample_bytree': 0.28073083469986576, 'max_bin': 9338, 'reg_alpha': 0.5354741589206533, 'reg_lambda': 0.0006747053912118646, 'min_split_gain': 0.4983119293685694}. Best is trial 24 with value: 38.8182533820295.\n"
     ]
    },
    {
     "name": "stdout",
     "output_type": "stream",
     "text": [
      "Trial 71 finished with value: 38.83697791642065 and parameters: {'num_leaves': 963, 'max_depth': 9, 'learning_rate': 0.008983420434645973, 'n_estimators': 3123, 'min_child_samples': 126, 'subsample': 0.19172649148878776, 'colsample_bytree': 0.28073083469986576, 'max_bin': 9338, 'reg_alpha': 0.5354741589206533, 'reg_lambda': 0.0006747053912118646, 'min_split_gain': 0.4983119293685694}. Best is trial 24 with value: 38.8182533820295.\n",
      "Trial 71 finished with value: 38.83697791642065 and parameters: {'num_leaves': 963, 'max_depth': 9, 'learning_rate': 0.008983420434645973, 'n_estimators': 3123, 'min_child_samples': 126, 'subsample': 0.19172649148878776, 'colsample_bytree': 0.28073083469986576, 'max_bin': 9338, 'reg_alpha': 0.5354741589206533, 'reg_lambda': 0.0006747053912118646, 'min_split_gain': 0.4983119293685694}. Best is trial 24 with value: 38.8182533820295.\n"
     ]
    },
    {
     "name": "stderr",
     "output_type": "stream",
     "text": [
      "[I 2025-02-04 14:16:42,421] Trial 72 finished with value: 38.86697892832899 and parameters: {'num_leaves': 873, 'max_depth': 8, 'learning_rate': 0.0010054082345821848, 'n_estimators': 4366, 'min_child_samples': 149, 'subsample': 0.22667994702834357, 'colsample_bytree': 0.3161385111625015, 'max_bin': 9723, 'reg_alpha': 0.2697130186935088, 'reg_lambda': 0.005232213613765092, 'min_split_gain': 0.5151249207765606}. Best is trial 24 with value: 38.8182533820295.\n"
     ]
    },
    {
     "name": "stdout",
     "output_type": "stream",
     "text": [
      "Trial 72 finished with value: 38.86697892832899 and parameters: {'num_leaves': 873, 'max_depth': 8, 'learning_rate': 0.0010054082345821848, 'n_estimators': 4366, 'min_child_samples': 149, 'subsample': 0.22667994702834357, 'colsample_bytree': 0.3161385111625015, 'max_bin': 9723, 'reg_alpha': 0.2697130186935088, 'reg_lambda': 0.005232213613765092, 'min_split_gain': 0.5151249207765606}. Best is trial 24 with value: 38.8182533820295.\n",
      "Trial 72 finished with value: 38.86697892832899 and parameters: {'num_leaves': 873, 'max_depth': 8, 'learning_rate': 0.0010054082345821848, 'n_estimators': 4366, 'min_child_samples': 149, 'subsample': 0.22667994702834357, 'colsample_bytree': 0.3161385111625015, 'max_bin': 9723, 'reg_alpha': 0.2697130186935088, 'reg_lambda': 0.005232213613765092, 'min_split_gain': 0.5151249207765606}. Best is trial 24 with value: 38.8182533820295.\n"
     ]
    },
    {
     "name": "stderr",
     "output_type": "stream",
     "text": [
      "[I 2025-02-04 14:17:27,265] Trial 73 finished with value: 38.82696797619599 and parameters: {'num_leaves': 814, 'max_depth': 7, 'learning_rate': 0.10795274736739834, 'n_estimators': 2267, 'min_child_samples': 292, 'subsample': 0.23892051526383923, 'colsample_bytree': 0.2979199150495364, 'max_bin': 9005, 'reg_alpha': 0.024869631729290013, 'reg_lambda': 0.001606893152985524, 'min_split_gain': 0.4623848928783918}. Best is trial 24 with value: 38.8182533820295.\n"
     ]
    },
    {
     "name": "stdout",
     "output_type": "stream",
     "text": [
      "Trial 73 finished with value: 38.82696797619599 and parameters: {'num_leaves': 814, 'max_depth': 7, 'learning_rate': 0.10795274736739834, 'n_estimators': 2267, 'min_child_samples': 292, 'subsample': 0.23892051526383923, 'colsample_bytree': 0.2979199150495364, 'max_bin': 9005, 'reg_alpha': 0.024869631729290013, 'reg_lambda': 0.001606893152985524, 'min_split_gain': 0.4623848928783918}. Best is trial 24 with value: 38.8182533820295.\n",
      "Trial 73 finished with value: 38.82696797619599 and parameters: {'num_leaves': 814, 'max_depth': 7, 'learning_rate': 0.10795274736739834, 'n_estimators': 2267, 'min_child_samples': 292, 'subsample': 0.23892051526383923, 'colsample_bytree': 0.2979199150495364, 'max_bin': 9005, 'reg_alpha': 0.024869631729290013, 'reg_lambda': 0.001606893152985524, 'min_split_gain': 0.4623848928783918}. Best is trial 24 with value: 38.8182533820295.\n"
     ]
    },
    {
     "name": "stderr",
     "output_type": "stream",
     "text": [
      "[I 2025-02-04 14:17:49,286] Trial 74 finished with value: 38.83542892750309 and parameters: {'num_leaves': 543, 'max_depth': 6, 'learning_rate': 0.1586883158924132, 'n_estimators': 4777, 'min_child_samples': 169, 'subsample': 0.28431418999850344, 'colsample_bytree': 0.24500498063694004, 'max_bin': 9770, 'reg_alpha': 0.5880590460460445, 'reg_lambda': 0.0001291656544508122, 'min_split_gain': 0.5321225565597179}. Best is trial 24 with value: 38.8182533820295.\n"
     ]
    },
    {
     "name": "stdout",
     "output_type": "stream",
     "text": [
      "Trial 74 finished with value: 38.83542892750309 and parameters: {'num_leaves': 543, 'max_depth': 6, 'learning_rate': 0.1586883158924132, 'n_estimators': 4777, 'min_child_samples': 169, 'subsample': 0.28431418999850344, 'colsample_bytree': 0.24500498063694004, 'max_bin': 9770, 'reg_alpha': 0.5880590460460445, 'reg_lambda': 0.0001291656544508122, 'min_split_gain': 0.5321225565597179}. Best is trial 24 with value: 38.8182533820295.\n",
      "Trial 74 finished with value: 38.83542892750309 and parameters: {'num_leaves': 543, 'max_depth': 6, 'learning_rate': 0.1586883158924132, 'n_estimators': 4777, 'min_child_samples': 169, 'subsample': 0.28431418999850344, 'colsample_bytree': 0.24500498063694004, 'max_bin': 9770, 'reg_alpha': 0.5880590460460445, 'reg_lambda': 0.0001291656544508122, 'min_split_gain': 0.5321225565597179}. Best is trial 24 with value: 38.8182533820295.\n"
     ]
    },
    {
     "name": "stderr",
     "output_type": "stream",
     "text": [
      "[I 2025-02-04 14:21:10,533] Trial 75 finished with value: 38.823453288936115 and parameters: {'num_leaves': 946, 'max_depth': 9, 'learning_rate': 0.022977447068936015, 'n_estimators': 5120, 'min_child_samples': 100, 'subsample': 0.1565169545645314, 'colsample_bytree': 0.2724940263592147, 'max_bin': 9405, 'reg_alpha': 0.06777913083969371, 'reg_lambda': 0.11855067001721092, 'min_split_gain': 0.4854637768666137}. Best is trial 24 with value: 38.8182533820295.\n"
     ]
    },
    {
     "name": "stdout",
     "output_type": "stream",
     "text": [
      "Trial 75 finished with value: 38.823453288936115 and parameters: {'num_leaves': 946, 'max_depth': 9, 'learning_rate': 0.022977447068936015, 'n_estimators': 5120, 'min_child_samples': 100, 'subsample': 0.1565169545645314, 'colsample_bytree': 0.2724940263592147, 'max_bin': 9405, 'reg_alpha': 0.06777913083969371, 'reg_lambda': 0.11855067001721092, 'min_split_gain': 0.4854637768666137}. Best is trial 24 with value: 38.8182533820295.\n",
      "Trial 75 finished with value: 38.823453288936115 and parameters: {'num_leaves': 946, 'max_depth': 9, 'learning_rate': 0.022977447068936015, 'n_estimators': 5120, 'min_child_samples': 100, 'subsample': 0.1565169545645314, 'colsample_bytree': 0.2724940263592147, 'max_bin': 9405, 'reg_alpha': 0.06777913083969371, 'reg_lambda': 0.11855067001721092, 'min_split_gain': 0.4854637768666137}. Best is trial 24 with value: 38.8182533820295.\n"
     ]
    },
    {
     "name": "stderr",
     "output_type": "stream",
     "text": [
      "[I 2025-02-04 14:21:22,501] Trial 76 finished with value: 38.835026065784774 and parameters: {'num_leaves': 1108, 'max_depth': 16, 'learning_rate': 0.24668073750103123, 'n_estimators': 5812, 'min_child_samples': 244, 'subsample': 0.2057279495889365, 'colsample_bytree': 0.2549462062181211, 'max_bin': 8888, 'reg_alpha': 0.27352228370171, 'reg_lambda': 0.00030575639448310847, 'min_split_gain': 0.5200894905019149}. Best is trial 24 with value: 38.8182533820295.\n"
     ]
    },
    {
     "name": "stdout",
     "output_type": "stream",
     "text": [
      "Trial 76 finished with value: 38.835026065784774 and parameters: {'num_leaves': 1108, 'max_depth': 16, 'learning_rate': 0.24668073750103123, 'n_estimators': 5812, 'min_child_samples': 244, 'subsample': 0.2057279495889365, 'colsample_bytree': 0.2549462062181211, 'max_bin': 8888, 'reg_alpha': 0.27352228370171, 'reg_lambda': 0.00030575639448310847, 'min_split_gain': 0.5200894905019149}. Best is trial 24 with value: 38.8182533820295.\n",
      "Trial 76 finished with value: 38.835026065784774 and parameters: {'num_leaves': 1108, 'max_depth': 16, 'learning_rate': 0.24668073750103123, 'n_estimators': 5812, 'min_child_samples': 244, 'subsample': 0.2057279495889365, 'colsample_bytree': 0.2549462062181211, 'max_bin': 8888, 'reg_alpha': 0.27352228370171, 'reg_lambda': 0.00030575639448310847, 'min_split_gain': 0.5200894905019149}. Best is trial 24 with value: 38.8182533820295.\n"
     ]
    },
    {
     "name": "stderr",
     "output_type": "stream",
     "text": [
      "[I 2025-02-04 14:22:12,600] Trial 77 finished with value: 38.830975599704075 and parameters: {'num_leaves': 1047, 'max_depth': 7, 'learning_rate': 0.07947107192377374, 'n_estimators': 4090, 'min_child_samples': 257, 'subsample': 0.18000022825277284, 'colsample_bytree': 0.22858813006333065, 'max_bin': 9758, 'reg_alpha': 2.72492563502872e-05, 'reg_lambda': 4.646889928620728e-05, 'min_split_gain': 0.510169550929296}. Best is trial 24 with value: 38.8182533820295.\n"
     ]
    },
    {
     "name": "stdout",
     "output_type": "stream",
     "text": [
      "Trial 77 finished with value: 38.830975599704075 and parameters: {'num_leaves': 1047, 'max_depth': 7, 'learning_rate': 0.07947107192377374, 'n_estimators': 4090, 'min_child_samples': 257, 'subsample': 0.18000022825277284, 'colsample_bytree': 0.22858813006333065, 'max_bin': 9758, 'reg_alpha': 2.72492563502872e-05, 'reg_lambda': 4.646889928620728e-05, 'min_split_gain': 0.510169550929296}. Best is trial 24 with value: 38.8182533820295.\n",
      "Trial 77 finished with value: 38.830975599704075 and parameters: {'num_leaves': 1047, 'max_depth': 7, 'learning_rate': 0.07947107192377374, 'n_estimators': 4090, 'min_child_samples': 257, 'subsample': 0.18000022825277284, 'colsample_bytree': 0.22858813006333065, 'max_bin': 9758, 'reg_alpha': 2.72492563502872e-05, 'reg_lambda': 4.646889928620728e-05, 'min_split_gain': 0.510169550929296}. Best is trial 24 with value: 38.8182533820295.\n"
     ]
    },
    {
     "name": "stderr",
     "output_type": "stream",
     "text": [
      "[I 2025-02-04 14:23:43,501] Trial 78 finished with value: 38.821912448930526 and parameters: {'num_leaves': 691, 'max_depth': 11, 'learning_rate': 0.036755656063899904, 'n_estimators': 5580, 'min_child_samples': 73, 'subsample': 0.24750240602036905, 'colsample_bytree': 0.33573554634078495, 'max_bin': 9981, 'reg_alpha': 0.11372075034365767, 'reg_lambda': 2.6064841056594188e-05, 'min_split_gain': 0.4961686143226121}. Best is trial 24 with value: 38.8182533820295.\n"
     ]
    },
    {
     "name": "stdout",
     "output_type": "stream",
     "text": [
      "Trial 78 finished with value: 38.821912448930526 and parameters: {'num_leaves': 691, 'max_depth': 11, 'learning_rate': 0.036755656063899904, 'n_estimators': 5580, 'min_child_samples': 73, 'subsample': 0.24750240602036905, 'colsample_bytree': 0.33573554634078495, 'max_bin': 9981, 'reg_alpha': 0.11372075034365767, 'reg_lambda': 2.6064841056594188e-05, 'min_split_gain': 0.4961686143226121}. Best is trial 24 with value: 38.8182533820295.\n",
      "Trial 78 finished with value: 38.821912448930526 and parameters: {'num_leaves': 691, 'max_depth': 11, 'learning_rate': 0.036755656063899904, 'n_estimators': 5580, 'min_child_samples': 73, 'subsample': 0.24750240602036905, 'colsample_bytree': 0.33573554634078495, 'max_bin': 9981, 'reg_alpha': 0.11372075034365767, 'reg_lambda': 2.6064841056594188e-05, 'min_split_gain': 0.4961686143226121}. Best is trial 24 with value: 38.8182533820295.\n"
     ]
    },
    {
     "name": "stderr",
     "output_type": "stream",
     "text": [
      "[I 2025-02-04 14:24:00,952] Trial 79 finished with value: 38.827623829342215 and parameters: {'num_leaves': 750, 'max_depth': 13, 'learning_rate': 0.17774795485104186, 'n_estimators': 6157, 'min_child_samples': 276, 'subsample': 0.299185845092754, 'colsample_bytree': 0.3028818508057657, 'max_bin': 9245, 'reg_alpha': 0.6660022541654084, 'reg_lambda': 8.022932187823649e-06, 'min_split_gain': 0.43586223900614407}. Best is trial 24 with value: 38.8182533820295.\n"
     ]
    },
    {
     "name": "stdout",
     "output_type": "stream",
     "text": [
      "Trial 79 finished with value: 38.827623829342215 and parameters: {'num_leaves': 750, 'max_depth': 13, 'learning_rate': 0.17774795485104186, 'n_estimators': 6157, 'min_child_samples': 276, 'subsample': 0.299185845092754, 'colsample_bytree': 0.3028818508057657, 'max_bin': 9245, 'reg_alpha': 0.6660022541654084, 'reg_lambda': 8.022932187823649e-06, 'min_split_gain': 0.43586223900614407}. Best is trial 24 with value: 38.8182533820295.\n",
      "Trial 79 finished with value: 38.827623829342215 and parameters: {'num_leaves': 750, 'max_depth': 13, 'learning_rate': 0.17774795485104186, 'n_estimators': 6157, 'min_child_samples': 276, 'subsample': 0.299185845092754, 'colsample_bytree': 0.3028818508057657, 'max_bin': 9245, 'reg_alpha': 0.6660022541654084, 'reg_lambda': 8.022932187823649e-06, 'min_split_gain': 0.43586223900614407}. Best is trial 24 with value: 38.8182533820295.\n"
     ]
    },
    {
     "name": "stderr",
     "output_type": "stream",
     "text": [
      "[I 2025-02-04 14:24:38,528] Trial 80 finished with value: 38.821073906140384 and parameters: {'num_leaves': 892, 'max_depth': 9, 'learning_rate': 0.12985792414990127, 'n_estimators': 3811, 'min_child_samples': 225, 'subsample': 0.2108752261424371, 'colsample_bytree': 0.28281847925061293, 'max_bin': 8684, 'reg_alpha': 0.1816359690986129, 'reg_lambda': 0.00018162809138140944, 'min_split_gain': 0.5014747600777518}. Best is trial 24 with value: 38.8182533820295.\n"
     ]
    },
    {
     "name": "stdout",
     "output_type": "stream",
     "text": [
      "Trial 80 finished with value: 38.821073906140384 and parameters: {'num_leaves': 892, 'max_depth': 9, 'learning_rate': 0.12985792414990127, 'n_estimators': 3811, 'min_child_samples': 225, 'subsample': 0.2108752261424371, 'colsample_bytree': 0.28281847925061293, 'max_bin': 8684, 'reg_alpha': 0.1816359690986129, 'reg_lambda': 0.00018162809138140944, 'min_split_gain': 0.5014747600777518}. Best is trial 24 with value: 38.8182533820295.\n",
      "Trial 80 finished with value: 38.821073906140384 and parameters: {'num_leaves': 892, 'max_depth': 9, 'learning_rate': 0.12985792414990127, 'n_estimators': 3811, 'min_child_samples': 225, 'subsample': 0.2108752261424371, 'colsample_bytree': 0.28281847925061293, 'max_bin': 8684, 'reg_alpha': 0.1816359690986129, 'reg_lambda': 0.00018162809138140944, 'min_split_gain': 0.5014747600777518}. Best is trial 24 with value: 38.8182533820295.\n"
     ]
    },
    {
     "name": "stderr",
     "output_type": "stream",
     "text": [
      "[I 2025-02-04 14:25:26,274] Trial 81 finished with value: 38.8189201134556 and parameters: {'num_leaves': 888, 'max_depth': 8, 'learning_rate': 0.13072098804116966, 'n_estimators': 3846, 'min_child_samples': 221, 'subsample': 0.2128637708624447, 'colsample_bytree': 0.2829138619778631, 'max_bin': 9555, 'reg_alpha': 0.15734853684683908, 'reg_lambda': 0.00020125780023640027, 'min_split_gain': 0.5039137249921817}. Best is trial 24 with value: 38.8182533820295.\n"
     ]
    },
    {
     "name": "stdout",
     "output_type": "stream",
     "text": [
      "Trial 81 finished with value: 38.8189201134556 and parameters: {'num_leaves': 888, 'max_depth': 8, 'learning_rate': 0.13072098804116966, 'n_estimators': 3846, 'min_child_samples': 221, 'subsample': 0.2128637708624447, 'colsample_bytree': 0.2829138619778631, 'max_bin': 9555, 'reg_alpha': 0.15734853684683908, 'reg_lambda': 0.00020125780023640027, 'min_split_gain': 0.5039137249921817}. Best is trial 24 with value: 38.8182533820295.\n",
      "Trial 81 finished with value: 38.8189201134556 and parameters: {'num_leaves': 888, 'max_depth': 8, 'learning_rate': 0.13072098804116966, 'n_estimators': 3846, 'min_child_samples': 221, 'subsample': 0.2128637708624447, 'colsample_bytree': 0.2829138619778631, 'max_bin': 9555, 'reg_alpha': 0.15734853684683908, 'reg_lambda': 0.00020125780023640027, 'min_split_gain': 0.5039137249921817}. Best is trial 24 with value: 38.8182533820295.\n"
     ]
    },
    {
     "name": "stderr",
     "output_type": "stream",
     "text": [
      "[I 2025-02-04 14:26:02,099] Trial 82 finished with value: 38.82310540629597 and parameters: {'num_leaves': 873, 'max_depth': 9, 'learning_rate': 0.13633745716813755, 'n_estimators': 3759, 'min_child_samples': 189, 'subsample': 0.21538560316645664, 'colsample_bytree': 0.2675930459057814, 'max_bin': 9584, 'reg_alpha': 0.15482292701850642, 'reg_lambda': 0.00021875231572565133, 'min_split_gain': 0.5032551539333286}. Best is trial 24 with value: 38.8182533820295.\n"
     ]
    },
    {
     "name": "stdout",
     "output_type": "stream",
     "text": [
      "Trial 82 finished with value: 38.82310540629597 and parameters: {'num_leaves': 873, 'max_depth': 9, 'learning_rate': 0.13633745716813755, 'n_estimators': 3759, 'min_child_samples': 189, 'subsample': 0.21538560316645664, 'colsample_bytree': 0.2675930459057814, 'max_bin': 9584, 'reg_alpha': 0.15482292701850642, 'reg_lambda': 0.00021875231572565133, 'min_split_gain': 0.5032551539333286}. Best is trial 24 with value: 38.8182533820295.\n",
      "Trial 82 finished with value: 38.82310540629597 and parameters: {'num_leaves': 873, 'max_depth': 9, 'learning_rate': 0.13633745716813755, 'n_estimators': 3759, 'min_child_samples': 189, 'subsample': 0.21538560316645664, 'colsample_bytree': 0.2675930459057814, 'max_bin': 9584, 'reg_alpha': 0.15482292701850642, 'reg_lambda': 0.00021875231572565133, 'min_split_gain': 0.5032551539333286}. Best is trial 24 with value: 38.8182533820295.\n"
     ]
    },
    {
     "name": "stderr",
     "output_type": "stream",
     "text": [
      "[I 2025-02-04 14:27:06,588] Trial 83 finished with value: 38.82014371868364 and parameters: {'num_leaves': 907, 'max_depth': 7, 'learning_rate': 0.09773752092939222, 'n_estimators': 2966, 'min_child_samples': 179, 'subsample': 0.2012045824961109, 'colsample_bytree': 0.28570169843011123, 'max_bin': 8393, 'reg_alpha': 0.04954292316611274, 'reg_lambda': 0.0003713501928961177, 'min_split_gain': 0.4816026481565333}. Best is trial 24 with value: 38.8182533820295.\n"
     ]
    },
    {
     "name": "stdout",
     "output_type": "stream",
     "text": [
      "Trial 83 finished with value: 38.82014371868364 and parameters: {'num_leaves': 907, 'max_depth': 7, 'learning_rate': 0.09773752092939222, 'n_estimators': 2966, 'min_child_samples': 179, 'subsample': 0.2012045824961109, 'colsample_bytree': 0.28570169843011123, 'max_bin': 8393, 'reg_alpha': 0.04954292316611274, 'reg_lambda': 0.0003713501928961177, 'min_split_gain': 0.4816026481565333}. Best is trial 24 with value: 38.8182533820295.\n",
      "Trial 83 finished with value: 38.82014371868364 and parameters: {'num_leaves': 907, 'max_depth': 7, 'learning_rate': 0.09773752092939222, 'n_estimators': 2966, 'min_child_samples': 179, 'subsample': 0.2012045824961109, 'colsample_bytree': 0.28570169843011123, 'max_bin': 8393, 'reg_alpha': 0.04954292316611274, 'reg_lambda': 0.0003713501928961177, 'min_split_gain': 0.4816026481565333}. Best is trial 24 with value: 38.8182533820295.\n"
     ]
    },
    {
     "name": "stderr",
     "output_type": "stream",
     "text": [
      "[I 2025-02-04 14:28:06,370] Trial 84 finished with value: 38.830448834595046 and parameters: {'num_leaves': 1014, 'max_depth': 6, 'learning_rate': 0.09926477557577258, 'n_estimators': 3011, 'min_child_samples': 213, 'subsample': 0.1913401874057663, 'colsample_bytree': 0.32430986073434165, 'max_bin': 5503, 'reg_alpha': 0.05380226984291689, 'reg_lambda': 0.00043961372290748577, 'min_split_gain': 0.4818697864073527}. Best is trial 24 with value: 38.8182533820295.\n"
     ]
    },
    {
     "name": "stdout",
     "output_type": "stream",
     "text": [
      "Trial 84 finished with value: 38.830448834595046 and parameters: {'num_leaves': 1014, 'max_depth': 6, 'learning_rate': 0.09926477557577258, 'n_estimators': 3011, 'min_child_samples': 213, 'subsample': 0.1913401874057663, 'colsample_bytree': 0.32430986073434165, 'max_bin': 5503, 'reg_alpha': 0.05380226984291689, 'reg_lambda': 0.00043961372290748577, 'min_split_gain': 0.4818697864073527}. Best is trial 24 with value: 38.8182533820295.\n",
      "Trial 84 finished with value: 38.830448834595046 and parameters: {'num_leaves': 1014, 'max_depth': 6, 'learning_rate': 0.09926477557577258, 'n_estimators': 3011, 'min_child_samples': 213, 'subsample': 0.1913401874057663, 'colsample_bytree': 0.32430986073434165, 'max_bin': 5503, 'reg_alpha': 0.05380226984291689, 'reg_lambda': 0.00043961372290748577, 'min_split_gain': 0.4818697864073527}. Best is trial 24 with value: 38.8182533820295.\n"
     ]
    },
    {
     "name": "stderr",
     "output_type": "stream",
     "text": [
      "[I 2025-02-04 14:29:26,963] Trial 85 finished with value: 38.820409218745915 and parameters: {'num_leaves': 932, 'max_depth': 8, 'learning_rate': 0.06945543726816829, 'n_estimators': 2540, 'min_child_samples': 181, 'subsample': 0.2295435472332641, 'colsample_bytree': 0.31432321025262017, 'max_bin': 8414, 'reg_alpha': 0.014299743880431322, 'reg_lambda': 0.0009613062409891645, 'min_split_gain': 0.4897082893157313}. Best is trial 24 with value: 38.8182533820295.\n"
     ]
    },
    {
     "name": "stdout",
     "output_type": "stream",
     "text": [
      "Trial 85 finished with value: 38.820409218745915 and parameters: {'num_leaves': 932, 'max_depth': 8, 'learning_rate': 0.06945543726816829, 'n_estimators': 2540, 'min_child_samples': 181, 'subsample': 0.2295435472332641, 'colsample_bytree': 0.31432321025262017, 'max_bin': 8414, 'reg_alpha': 0.014299743880431322, 'reg_lambda': 0.0009613062409891645, 'min_split_gain': 0.4897082893157313}. Best is trial 24 with value: 38.8182533820295.\n",
      "Trial 85 finished with value: 38.820409218745915 and parameters: {'num_leaves': 932, 'max_depth': 8, 'learning_rate': 0.06945543726816829, 'n_estimators': 2540, 'min_child_samples': 181, 'subsample': 0.2295435472332641, 'colsample_bytree': 0.31432321025262017, 'max_bin': 8414, 'reg_alpha': 0.014299743880431322, 'reg_lambda': 0.0009613062409891645, 'min_split_gain': 0.4897082893157313}. Best is trial 24 with value: 38.8182533820295.\n"
     ]
    },
    {
     "name": "stderr",
     "output_type": "stream",
     "text": [
      "[I 2025-02-04 14:30:43,987] Trial 86 finished with value: 38.82592329483979 and parameters: {'num_leaves': 933, 'max_depth': 7, 'learning_rate': 0.06369848838147268, 'n_estimators': 2096, 'min_child_samples': 162, 'subsample': 0.2340719896573016, 'colsample_bytree': 0.3116673430122954, 'max_bin': 7664, 'reg_alpha': 0.026338272995186172, 'reg_lambda': 0.0008612546202154228, 'min_split_gain': 0.49064961737863133}. Best is trial 24 with value: 38.8182533820295.\n"
     ]
    },
    {
     "name": "stdout",
     "output_type": "stream",
     "text": [
      "Trial 86 finished with value: 38.82592329483979 and parameters: {'num_leaves': 933, 'max_depth': 7, 'learning_rate': 0.06369848838147268, 'n_estimators': 2096, 'min_child_samples': 162, 'subsample': 0.2340719896573016, 'colsample_bytree': 0.3116673430122954, 'max_bin': 7664, 'reg_alpha': 0.026338272995186172, 'reg_lambda': 0.0008612546202154228, 'min_split_gain': 0.49064961737863133}. Best is trial 24 with value: 38.8182533820295.\n",
      "Trial 86 finished with value: 38.82592329483979 and parameters: {'num_leaves': 933, 'max_depth': 7, 'learning_rate': 0.06369848838147268, 'n_estimators': 2096, 'min_child_samples': 162, 'subsample': 0.2340719896573016, 'colsample_bytree': 0.3116673430122954, 'max_bin': 7664, 'reg_alpha': 0.026338272995186172, 'reg_lambda': 0.0008612546202154228, 'min_split_gain': 0.49064961737863133}. Best is trial 24 with value: 38.8182533820295.\n"
     ]
    },
    {
     "name": "stderr",
     "output_type": "stream",
     "text": [
      "[I 2025-02-04 14:31:26,845] Trial 87 finished with value: 38.825815580900134 and parameters: {'num_leaves': 820, 'max_depth': 11, 'learning_rate': 0.08166671619359411, 'n_estimators': 1516, 'min_child_samples': 178, 'subsample': 0.2742364267090344, 'colsample_bytree': 0.2995027991799834, 'max_bin': 8348, 'reg_alpha': 0.012142567084007188, 'reg_lambda': 0.001551509422193859, 'min_split_gain': 0.5257139751294619}. Best is trial 24 with value: 38.8182533820295.\n"
     ]
    },
    {
     "name": "stdout",
     "output_type": "stream",
     "text": [
      "Trial 87 finished with value: 38.825815580900134 and parameters: {'num_leaves': 820, 'max_depth': 11, 'learning_rate': 0.08166671619359411, 'n_estimators': 1516, 'min_child_samples': 178, 'subsample': 0.2742364267090344, 'colsample_bytree': 0.2995027991799834, 'max_bin': 8348, 'reg_alpha': 0.012142567084007188, 'reg_lambda': 0.001551509422193859, 'min_split_gain': 0.5257139751294619}. Best is trial 24 with value: 38.8182533820295.\n",
      "Trial 87 finished with value: 38.825815580900134 and parameters: {'num_leaves': 820, 'max_depth': 11, 'learning_rate': 0.08166671619359411, 'n_estimators': 1516, 'min_child_samples': 178, 'subsample': 0.2742364267090344, 'colsample_bytree': 0.2995027991799834, 'max_bin': 8348, 'reg_alpha': 0.012142567084007188, 'reg_lambda': 0.001551509422193859, 'min_split_gain': 0.5257139751294619}. Best is trial 24 with value: 38.8182533820295.\n"
     ]
    },
    {
     "name": "stderr",
     "output_type": "stream",
     "text": [
      "[I 2025-02-04 14:32:20,310] Trial 88 finished with value: 38.823249427117865 and parameters: {'num_leaves': 963, 'max_depth': 8, 'learning_rate': 0.10587677317369937, 'n_estimators': 2901, 'min_child_samples': 202, 'subsample': 0.25455074240843734, 'colsample_bytree': 0.28713646984869984, 'max_bin': 9088, 'reg_alpha': 0.3577485369257517, 'reg_lambda': 0.00623823509578864, 'min_split_gain': 0.4754639435401747}. Best is trial 24 with value: 38.8182533820295.\n"
     ]
    },
    {
     "name": "stdout",
     "output_type": "stream",
     "text": [
      "Trial 88 finished with value: 38.823249427117865 and parameters: {'num_leaves': 963, 'max_depth': 8, 'learning_rate': 0.10587677317369937, 'n_estimators': 2901, 'min_child_samples': 202, 'subsample': 0.25455074240843734, 'colsample_bytree': 0.28713646984869984, 'max_bin': 9088, 'reg_alpha': 0.3577485369257517, 'reg_lambda': 0.00623823509578864, 'min_split_gain': 0.4754639435401747}. Best is trial 24 with value: 38.8182533820295.\n",
      "Trial 88 finished with value: 38.823249427117865 and parameters: {'num_leaves': 963, 'max_depth': 8, 'learning_rate': 0.10587677317369937, 'n_estimators': 2901, 'min_child_samples': 202, 'subsample': 0.25455074240843734, 'colsample_bytree': 0.28713646984869984, 'max_bin': 9088, 'reg_alpha': 0.3577485369257517, 'reg_lambda': 0.00623823509578864, 'min_split_gain': 0.4754639435401747}. Best is trial 24 with value: 38.8182533820295.\n"
     ]
    },
    {
     "name": "stderr",
     "output_type": "stream",
     "text": [
      "[I 2025-02-04 14:32:44,911] Trial 89 finished with value: 38.82907451532182 and parameters: {'num_leaves': 1075, 'max_depth': 25, 'learning_rate': 0.05702287635293342, 'n_estimators': 2449, 'min_child_samples': 169, 'subsample': 0.19987558981426656, 'colsample_bytree': 0.35277764362543396, 'max_bin': 8293, 'reg_alpha': 0.11847450850112098, 'reg_lambda': 0.000554576620963116, 'min_split_gain': 0.5103861889715515}. Best is trial 24 with value: 38.8182533820295.\n"
     ]
    },
    {
     "name": "stdout",
     "output_type": "stream",
     "text": [
      "Trial 89 finished with value: 38.82907451532182 and parameters: {'num_leaves': 1075, 'max_depth': 25, 'learning_rate': 0.05702287635293342, 'n_estimators': 2449, 'min_child_samples': 169, 'subsample': 0.19987558981426656, 'colsample_bytree': 0.35277764362543396, 'max_bin': 8293, 'reg_alpha': 0.11847450850112098, 'reg_lambda': 0.000554576620963116, 'min_split_gain': 0.5103861889715515}. Best is trial 24 with value: 38.8182533820295.\n",
      "Trial 89 finished with value: 38.82907451532182 and parameters: {'num_leaves': 1075, 'max_depth': 25, 'learning_rate': 0.05702287635293342, 'n_estimators': 2449, 'min_child_samples': 169, 'subsample': 0.19987558981426656, 'colsample_bytree': 0.35277764362543396, 'max_bin': 8293, 'reg_alpha': 0.11847450850112098, 'reg_lambda': 0.000554576620963116, 'min_split_gain': 0.5103861889715515}. Best is trial 24 with value: 38.8182533820295.\n"
     ]
    },
    {
     "name": "stderr",
     "output_type": "stream",
     "text": [
      "[I 2025-02-04 14:34:19,989] Trial 90 finished with value: 38.82754454709614 and parameters: {'num_leaves': 917, 'max_depth': 10, 'learning_rate': 0.030856914326708625, 'n_estimators': 1805, 'min_child_samples': 187, 'subsample': 0.15501138063904546, 'colsample_bytree': 0.2583903677373472, 'max_bin': 6792, 'reg_alpha': 0.07747972369794329, 'reg_lambda': 5.774706534504421e-08, 'min_split_gain': 0.49458065261186634}. Best is trial 24 with value: 38.8182533820295.\n"
     ]
    },
    {
     "name": "stdout",
     "output_type": "stream",
     "text": [
      "Trial 90 finished with value: 38.82754454709614 and parameters: {'num_leaves': 917, 'max_depth': 10, 'learning_rate': 0.030856914326708625, 'n_estimators': 1805, 'min_child_samples': 187, 'subsample': 0.15501138063904546, 'colsample_bytree': 0.2583903677373472, 'max_bin': 6792, 'reg_alpha': 0.07747972369794329, 'reg_lambda': 5.774706534504421e-08, 'min_split_gain': 0.49458065261186634}. Best is trial 24 with value: 38.8182533820295.\n",
      "Trial 90 finished with value: 38.82754454709614 and parameters: {'num_leaves': 917, 'max_depth': 10, 'learning_rate': 0.030856914326708625, 'n_estimators': 1805, 'min_child_samples': 187, 'subsample': 0.15501138063904546, 'colsample_bytree': 0.2583903677373472, 'max_bin': 6792, 'reg_alpha': 0.07747972369794329, 'reg_lambda': 5.774706534504421e-08, 'min_split_gain': 0.49458065261186634}. Best is trial 24 with value: 38.8182533820295.\n"
     ]
    },
    {
     "name": "stderr",
     "output_type": "stream",
     "text": [
      "[I 2025-02-04 14:36:29,130] Trial 91 finished with value: 38.81967927121098 and parameters: {'num_leaves': 569, 'max_depth': 8, 'learning_rate': 0.042304608364614554, 'n_estimators': 3432, 'min_child_samples': 146, 'subsample': 0.21956176875360103, 'colsample_bytree': 0.2738308521069413, 'max_bin': 9393, 'reg_alpha': 0.00017586498113276593, 'reg_lambda': 0.00010072320520790888, 'min_split_gain': 0.4905557498558107}. Best is trial 24 with value: 38.8182533820295.\n"
     ]
    },
    {
     "name": "stdout",
     "output_type": "stream",
     "text": [
      "Trial 91 finished with value: 38.81967927121098 and parameters: {'num_leaves': 569, 'max_depth': 8, 'learning_rate': 0.042304608364614554, 'n_estimators': 3432, 'min_child_samples': 146, 'subsample': 0.21956176875360103, 'colsample_bytree': 0.2738308521069413, 'max_bin': 9393, 'reg_alpha': 0.00017586498113276593, 'reg_lambda': 0.00010072320520790888, 'min_split_gain': 0.4905557498558107}. Best is trial 24 with value: 38.8182533820295.\n",
      "Trial 91 finished with value: 38.81967927121098 and parameters: {'num_leaves': 569, 'max_depth': 8, 'learning_rate': 0.042304608364614554, 'n_estimators': 3432, 'min_child_samples': 146, 'subsample': 0.21956176875360103, 'colsample_bytree': 0.2738308521069413, 'max_bin': 9393, 'reg_alpha': 0.00017586498113276593, 'reg_lambda': 0.00010072320520790888, 'min_split_gain': 0.4905557498558107}. Best is trial 24 with value: 38.8182533820295.\n"
     ]
    },
    {
     "name": "stderr",
     "output_type": "stream",
     "text": [
      "[I 2025-02-04 14:38:16,206] Trial 92 finished with value: 38.82713140767767 and parameters: {'num_leaves': 520, 'max_depth': 6, 'learning_rate': 0.04438219435968973, 'n_estimators': 3366, 'min_child_samples': 147, 'subsample': 0.2207771942437757, 'colsample_bytree': 0.3155694850587727, 'max_bin': 9388, 'reg_alpha': 0.0001433816467853188, 'reg_lambda': 9.458061993475683e-05, 'min_split_gain': 0.48921739168572514}. Best is trial 24 with value: 38.8182533820295.\n"
     ]
    },
    {
     "name": "stdout",
     "output_type": "stream",
     "text": [
      "Trial 92 finished with value: 38.82713140767767 and parameters: {'num_leaves': 520, 'max_depth': 6, 'learning_rate': 0.04438219435968973, 'n_estimators': 3366, 'min_child_samples': 147, 'subsample': 0.2207771942437757, 'colsample_bytree': 0.3155694850587727, 'max_bin': 9388, 'reg_alpha': 0.0001433816467853188, 'reg_lambda': 9.458061993475683e-05, 'min_split_gain': 0.48921739168572514}. Best is trial 24 with value: 38.8182533820295.\n",
      "Trial 92 finished with value: 38.82713140767767 and parameters: {'num_leaves': 520, 'max_depth': 6, 'learning_rate': 0.04438219435968973, 'n_estimators': 3366, 'min_child_samples': 147, 'subsample': 0.2207771942437757, 'colsample_bytree': 0.3155694850587727, 'max_bin': 9388, 'reg_alpha': 0.0001433816467853188, 'reg_lambda': 9.458061993475683e-05, 'min_split_gain': 0.48921739168572514}. Best is trial 24 with value: 38.8182533820295.\n"
     ]
    },
    {
     "name": "stderr",
     "output_type": "stream",
     "text": [
      "[I 2025-02-04 14:41:14,782] Trial 93 finished with value: 38.82992511465587 and parameters: {'num_leaves': 648, 'max_depth': 8, 'learning_rate': 0.017384358820917285, 'n_estimators': 3569, 'min_child_samples': 135, 'subsample': 0.17302160982627968, 'colsample_bytree': 0.2753518661291681, 'max_bin': 8762, 'reg_alpha': 1.901742948708324e-06, 'reg_lambda': 0.0002656518706545361, 'min_split_gain': 0.4785366256948947}. Best is trial 24 with value: 38.8182533820295.\n"
     ]
    },
    {
     "name": "stdout",
     "output_type": "stream",
     "text": [
      "Trial 93 finished with value: 38.82992511465587 and parameters: {'num_leaves': 648, 'max_depth': 8, 'learning_rate': 0.017384358820917285, 'n_estimators': 3569, 'min_child_samples': 135, 'subsample': 0.17302160982627968, 'colsample_bytree': 0.2753518661291681, 'max_bin': 8762, 'reg_alpha': 1.901742948708324e-06, 'reg_lambda': 0.0002656518706545361, 'min_split_gain': 0.4785366256948947}. Best is trial 24 with value: 38.8182533820295.\n",
      "Trial 93 finished with value: 38.82992511465587 and parameters: {'num_leaves': 648, 'max_depth': 8, 'learning_rate': 0.017384358820917285, 'n_estimators': 3569, 'min_child_samples': 135, 'subsample': 0.17302160982627968, 'colsample_bytree': 0.2753518661291681, 'max_bin': 8762, 'reg_alpha': 1.901742948708324e-06, 'reg_lambda': 0.0002656518706545361, 'min_split_gain': 0.4785366256948947}. Best is trial 24 with value: 38.8182533820295.\n"
     ]
    },
    {
     "name": "stderr",
     "output_type": "stream",
     "text": [
      "[I 2025-02-04 14:41:51,427] Trial 94 finished with value: 38.84000960714938 and parameters: {'num_leaves': 841, 'max_depth': 7, 'learning_rate': 0.06834875281953944, 'n_estimators': 2557, 'min_child_samples': 152, 'subsample': 0.2044484647433017, 'colsample_bytree': 0.23973114100552942, 'max_bin': 7447, 'reg_alpha': 0.3166834226830796, 'reg_lambda': 0.0023582152653103287, 'min_split_gain': 0.5154721261197152}. Best is trial 24 with value: 38.8182533820295.\n"
     ]
    },
    {
     "name": "stdout",
     "output_type": "stream",
     "text": [
      "Trial 94 finished with value: 38.84000960714938 and parameters: {'num_leaves': 841, 'max_depth': 7, 'learning_rate': 0.06834875281953944, 'n_estimators': 2557, 'min_child_samples': 152, 'subsample': 0.2044484647433017, 'colsample_bytree': 0.23973114100552942, 'max_bin': 7447, 'reg_alpha': 0.3166834226830796, 'reg_lambda': 0.0023582152653103287, 'min_split_gain': 0.5154721261197152}. Best is trial 24 with value: 38.8182533820295.\n",
      "Trial 94 finished with value: 38.84000960714938 and parameters: {'num_leaves': 841, 'max_depth': 7, 'learning_rate': 0.06834875281953944, 'n_estimators': 2557, 'min_child_samples': 152, 'subsample': 0.2044484647433017, 'colsample_bytree': 0.23973114100552942, 'max_bin': 7447, 'reg_alpha': 0.3166834226830796, 'reg_lambda': 0.0023582152653103287, 'min_split_gain': 0.5154721261197152}. Best is trial 24 with value: 38.8182533820295.\n"
     ]
    },
    {
     "name": "stderr",
     "output_type": "stream",
     "text": [
      "[I 2025-02-04 14:42:01,892] Trial 95 finished with value: 38.86240849553839 and parameters: {'num_leaves': 561, 'max_depth': 6, 'learning_rate': 0.05265483723147536, 'n_estimators': 224, 'min_child_samples': 158, 'subsample': 0.18686091501643393, 'colsample_bytree': 0.25110684708616965, 'max_bin': 9449, 'reg_alpha': 0.002598714384015302, 'reg_lambda': 5.5221469157310825e-05, 'min_split_gain': 0.5063947533408509}. Best is trial 24 with value: 38.8182533820295.\n"
     ]
    },
    {
     "name": "stdout",
     "output_type": "stream",
     "text": [
      "Trial 95 finished with value: 38.86240849553839 and parameters: {'num_leaves': 561, 'max_depth': 6, 'learning_rate': 0.05265483723147536, 'n_estimators': 224, 'min_child_samples': 158, 'subsample': 0.18686091501643393, 'colsample_bytree': 0.25110684708616965, 'max_bin': 9449, 'reg_alpha': 0.002598714384015302, 'reg_lambda': 5.5221469157310825e-05, 'min_split_gain': 0.5063947533408509}. Best is trial 24 with value: 38.8182533820295.\n",
      "Trial 95 finished with value: 38.86240849553839 and parameters: {'num_leaves': 561, 'max_depth': 6, 'learning_rate': 0.05265483723147536, 'n_estimators': 224, 'min_child_samples': 158, 'subsample': 0.18686091501643393, 'colsample_bytree': 0.25110684708616965, 'max_bin': 9449, 'reg_alpha': 0.002598714384015302, 'reg_lambda': 5.5221469157310825e-05, 'min_split_gain': 0.5063947533408509}. Best is trial 24 with value: 38.8182533820295.\n"
     ]
    },
    {
     "name": "stderr",
     "output_type": "stream",
     "text": [
      "[I 2025-02-04 14:42:47,057] Trial 96 finished with value: 38.82200935075207 and parameters: {'num_leaves': 998, 'max_depth': 10, 'learning_rate': 0.11876012251045884, 'n_estimators': 4188, 'min_child_samples': 144, 'subsample': 0.22940871180337224, 'colsample_bytree': 0.2950918774200879, 'max_bin': 9736, 'reg_alpha': 0.0006142738744119337, 'reg_lambda': 2.731098942905151e-05, 'min_split_gain': 0.4649481530720175}. Best is trial 24 with value: 38.8182533820295.\n"
     ]
    },
    {
     "name": "stdout",
     "output_type": "stream",
     "text": [
      "Trial 96 finished with value: 38.82200935075207 and parameters: {'num_leaves': 998, 'max_depth': 10, 'learning_rate': 0.11876012251045884, 'n_estimators': 4188, 'min_child_samples': 144, 'subsample': 0.22940871180337224, 'colsample_bytree': 0.2950918774200879, 'max_bin': 9736, 'reg_alpha': 0.0006142738744119337, 'reg_lambda': 2.731098942905151e-05, 'min_split_gain': 0.4649481530720175}. Best is trial 24 with value: 38.8182533820295.\n",
      "Trial 96 finished with value: 38.82200935075207 and parameters: {'num_leaves': 998, 'max_depth': 10, 'learning_rate': 0.11876012251045884, 'n_estimators': 4188, 'min_child_samples': 144, 'subsample': 0.22940871180337224, 'colsample_bytree': 0.2950918774200879, 'max_bin': 9736, 'reg_alpha': 0.0006142738744119337, 'reg_lambda': 2.731098942905151e-05, 'min_split_gain': 0.4649481530720175}. Best is trial 24 with value: 38.8182533820295.\n"
     ]
    },
    {
     "name": "stderr",
     "output_type": "stream",
     "text": [
      "[I 2025-02-04 14:43:46,543] Trial 97 finished with value: 38.82369371597836 and parameters: {'num_leaves': 894, 'max_depth': 7, 'learning_rate': 0.08892931513394327, 'n_estimators': 3200, 'min_child_samples': 124, 'subsample': 0.16117079988877575, 'colsample_bytree': 0.3252084333944928, 'max_bin': 8952, 'reg_alpha': 0.005145855512415603, 'reg_lambda': 0.001051009076643046, 'min_split_gain': 0.49594462342344586}. Best is trial 24 with value: 38.8182533820295.\n"
     ]
    },
    {
     "name": "stdout",
     "output_type": "stream",
     "text": [
      "Trial 97 finished with value: 38.82369371597836 and parameters: {'num_leaves': 894, 'max_depth': 7, 'learning_rate': 0.08892931513394327, 'n_estimators': 3200, 'min_child_samples': 124, 'subsample': 0.16117079988877575, 'colsample_bytree': 0.3252084333944928, 'max_bin': 8952, 'reg_alpha': 0.005145855512415603, 'reg_lambda': 0.001051009076643046, 'min_split_gain': 0.49594462342344586}. Best is trial 24 with value: 38.8182533820295.\n",
      "Trial 97 finished with value: 38.82369371597836 and parameters: {'num_leaves': 894, 'max_depth': 7, 'learning_rate': 0.08892931513394327, 'n_estimators': 3200, 'min_child_samples': 124, 'subsample': 0.16117079988877575, 'colsample_bytree': 0.3252084333944928, 'max_bin': 8952, 'reg_alpha': 0.005145855512415603, 'reg_lambda': 0.001051009076643046, 'min_split_gain': 0.49594462342344586}. Best is trial 24 with value: 38.8182533820295.\n"
     ]
    },
    {
     "name": "stderr",
     "output_type": "stream",
     "text": [
      "[I 2025-02-04 14:44:42,823] Trial 98 finished with value: 38.82271931582044 and parameters: {'num_leaves': 584, 'max_depth': 12, 'learning_rate': 0.07744885068793435, 'n_estimators': 4578, 'min_child_samples': 169, 'subsample': 0.3475112077505679, 'colsample_bytree': 0.30297806863994087, 'max_bin': 8496, 'reg_alpha': 0.03667967780065134, 'reg_lambda': 0.03078673169058207, 'min_split_gain': 0.5316743200146907}. Best is trial 24 with value: 38.8182533820295.\n"
     ]
    },
    {
     "name": "stdout",
     "output_type": "stream",
     "text": [
      "Trial 98 finished with value: 38.82271931582044 and parameters: {'num_leaves': 584, 'max_depth': 12, 'learning_rate': 0.07744885068793435, 'n_estimators': 4578, 'min_child_samples': 169, 'subsample': 0.3475112077505679, 'colsample_bytree': 0.30297806863994087, 'max_bin': 8496, 'reg_alpha': 0.03667967780065134, 'reg_lambda': 0.03078673169058207, 'min_split_gain': 0.5316743200146907}. Best is trial 24 with value: 38.8182533820295.\n",
      "Trial 98 finished with value: 38.82271931582044 and parameters: {'num_leaves': 584, 'max_depth': 12, 'learning_rate': 0.07744885068793435, 'n_estimators': 4578, 'min_child_samples': 169, 'subsample': 0.3475112077505679, 'colsample_bytree': 0.30297806863994087, 'max_bin': 8496, 'reg_alpha': 0.03667967780065134, 'reg_lambda': 0.03078673169058207, 'min_split_gain': 0.5316743200146907}. Best is trial 24 with value: 38.8182533820295.\n"
     ]
    },
    {
     "name": "stderr",
     "output_type": "stream",
     "text": [
      "[I 2025-02-04 14:45:59,377] Trial 99 finished with value: 38.82701625776454 and parameters: {'num_leaves': 951, 'max_depth': 22, 'learning_rate': 0.022588125073006313, 'n_estimators': 2736, 'min_child_samples': 183, 'subsample': 0.13753723484627658, 'colsample_bytree': 0.28683798805687055, 'max_bin': 9232, 'reg_alpha': 5.2260673461966495e-06, 'reg_lambda': 1.2737699436646928e-05, 'min_split_gain': 0.5085495987127824}. Best is trial 24 with value: 38.8182533820295.\n"
     ]
    },
    {
     "name": "stdout",
     "output_type": "stream",
     "text": [
      "Trial 99 finished with value: 38.82701625776454 and parameters: {'num_leaves': 951, 'max_depth': 22, 'learning_rate': 0.022588125073006313, 'n_estimators': 2736, 'min_child_samples': 183, 'subsample': 0.13753723484627658, 'colsample_bytree': 0.28683798805687055, 'max_bin': 9232, 'reg_alpha': 5.2260673461966495e-06, 'reg_lambda': 1.2737699436646928e-05, 'min_split_gain': 0.5085495987127824}. Best is trial 24 with value: 38.8182533820295.\n",
      "Trial 99 finished with value: 38.82701625776454 and parameters: {'num_leaves': 951, 'max_depth': 22, 'learning_rate': 0.022588125073006313, 'n_estimators': 2736, 'min_child_samples': 183, 'subsample': 0.13753723484627658, 'colsample_bytree': 0.28683798805687055, 'max_bin': 9232, 'reg_alpha': 5.2260673461966495e-06, 'reg_lambda': 1.2737699436646928e-05, 'min_split_gain': 0.5085495987127824}. Best is trial 24 with value: 38.8182533820295.\n"
     ]
    }
   ],
   "source": []
  },
  {
   "cell_type": "code",
   "execution_count": 42,
   "metadata": {},
   "outputs": [
    {
     "name": "stderr",
     "output_type": "stream",
     "text": [
      "[I 2025-02-04 15:51:05,800] A new study created in RDB with name: 2025-02-04_15-51-05\n"
     ]
    },
    {
     "name": "stdout",
     "output_type": "stream",
     "text": [
      "A new study created in RDB with name: 2025-02-04_15-51-05\n",
      "A new study created in RDB with name: 2025-02-04_15-51-05\n",
      "A new study created in RDB with name: 2025-02-04_15-51-05\n"
     ]
    },
    {
     "name": "stderr",
     "output_type": "stream",
     "text": [
      "[I 2025-02-04 15:52:53,341] Trial 0 finished with value: 38.80031675134514 and parameters: {'num_leaves': 1452, 'max_depth': 10, 'learning_rate': 0.0685323158402428, 'n_estimators': 12992, 'min_child_samples': 258, 'subsample': 0.21151700531236176, 'colsample_bytree': 0.34490035412327874, 'max_bin': 40237, 'reg_alpha': 0.025395274341882542, 'reg_lambda': 0.00021030313689250477, 'min_split_gain': 0.5106840686427828}. Best is trial 0 with value: 38.80031675134514.\n"
     ]
    },
    {
     "name": "stdout",
     "output_type": "stream",
     "text": [
      "Trial 0 finished with value: 38.80031675134514 and parameters: {'num_leaves': 1452, 'max_depth': 10, 'learning_rate': 0.0685323158402428, 'n_estimators': 12992, 'min_child_samples': 258, 'subsample': 0.21151700531236176, 'colsample_bytree': 0.34490035412327874, 'max_bin': 40237, 'reg_alpha': 0.025395274341882542, 'reg_lambda': 0.00021030313689250477, 'min_split_gain': 0.5106840686427828}. Best is trial 0 with value: 38.80031675134514.\n",
      "Trial 0 finished with value: 38.80031675134514 and parameters: {'num_leaves': 1452, 'max_depth': 10, 'learning_rate': 0.0685323158402428, 'n_estimators': 12992, 'min_child_samples': 258, 'subsample': 0.21151700531236176, 'colsample_bytree': 0.34490035412327874, 'max_bin': 40237, 'reg_alpha': 0.025395274341882542, 'reg_lambda': 0.00021030313689250477, 'min_split_gain': 0.5106840686427828}. Best is trial 0 with value: 38.80031675134514.\n",
      "Trial 0 finished with value: 38.80031675134514 and parameters: {'num_leaves': 1452, 'max_depth': 10, 'learning_rate': 0.0685323158402428, 'n_estimators': 12992, 'min_child_samples': 258, 'subsample': 0.21151700531236176, 'colsample_bytree': 0.34490035412327874, 'max_bin': 40237, 'reg_alpha': 0.025395274341882542, 'reg_lambda': 0.00021030313689250477, 'min_split_gain': 0.5106840686427828}. Best is trial 0 with value: 38.80031675134514.\n"
     ]
    },
    {
     "name": "stderr",
     "output_type": "stream",
     "text": [
      "[I 2025-02-04 15:54:34,417] Trial 1 finished with value: 38.807061309023155 and parameters: {'num_leaves': 1121, 'max_depth': 10, 'learning_rate': 0.0540403886175713, 'n_estimators': 16690, 'min_child_samples': 277, 'subsample': 0.20347339944559334, 'colsample_bytree': 0.2864741990559873, 'max_bin': 24185, 'reg_alpha': 0.06035319758802271, 'reg_lambda': 0.00026154063108341105, 'min_split_gain': 0.5212300347772861}. Best is trial 0 with value: 38.80031675134514.\n"
     ]
    },
    {
     "name": "stdout",
     "output_type": "stream",
     "text": [
      "Trial 1 finished with value: 38.807061309023155 and parameters: {'num_leaves': 1121, 'max_depth': 10, 'learning_rate': 0.0540403886175713, 'n_estimators': 16690, 'min_child_samples': 277, 'subsample': 0.20347339944559334, 'colsample_bytree': 0.2864741990559873, 'max_bin': 24185, 'reg_alpha': 0.06035319758802271, 'reg_lambda': 0.00026154063108341105, 'min_split_gain': 0.5212300347772861}. Best is trial 0 with value: 38.80031675134514.\n",
      "Trial 1 finished with value: 38.807061309023155 and parameters: {'num_leaves': 1121, 'max_depth': 10, 'learning_rate': 0.0540403886175713, 'n_estimators': 16690, 'min_child_samples': 277, 'subsample': 0.20347339944559334, 'colsample_bytree': 0.2864741990559873, 'max_bin': 24185, 'reg_alpha': 0.06035319758802271, 'reg_lambda': 0.00026154063108341105, 'min_split_gain': 0.5212300347772861}. Best is trial 0 with value: 38.80031675134514.\n",
      "Trial 1 finished with value: 38.807061309023155 and parameters: {'num_leaves': 1121, 'max_depth': 10, 'learning_rate': 0.0540403886175713, 'n_estimators': 16690, 'min_child_samples': 277, 'subsample': 0.20347339944559334, 'colsample_bytree': 0.2864741990559873, 'max_bin': 24185, 'reg_alpha': 0.06035319758802271, 'reg_lambda': 0.00026154063108341105, 'min_split_gain': 0.5212300347772861}. Best is trial 0 with value: 38.80031675134514.\n"
     ]
    },
    {
     "name": "stderr",
     "output_type": "stream",
     "text": [
      "[I 2025-02-04 15:54:55,042] Trial 2 finished with value: 38.83343203645657 and parameters: {'num_leaves': 568, 'max_depth': 12, 'learning_rate': 0.12961355468553576, 'n_estimators': 13677, 'min_child_samples': 282, 'subsample': 0.17335656769720087, 'colsample_bytree': 0.26476695886167245, 'max_bin': 6006, 'reg_alpha': 0.15042195493886687, 'reg_lambda': 0.03844123175446948, 'min_split_gain': 0.5195255574512796}. Best is trial 0 with value: 38.80031675134514.\n"
     ]
    },
    {
     "name": "stdout",
     "output_type": "stream",
     "text": [
      "Trial 2 finished with value: 38.83343203645657 and parameters: {'num_leaves': 568, 'max_depth': 12, 'learning_rate': 0.12961355468553576, 'n_estimators': 13677, 'min_child_samples': 282, 'subsample': 0.17335656769720087, 'colsample_bytree': 0.26476695886167245, 'max_bin': 6006, 'reg_alpha': 0.15042195493886687, 'reg_lambda': 0.03844123175446948, 'min_split_gain': 0.5195255574512796}. Best is trial 0 with value: 38.80031675134514.\n",
      "Trial 2 finished with value: 38.83343203645657 and parameters: {'num_leaves': 568, 'max_depth': 12, 'learning_rate': 0.12961355468553576, 'n_estimators': 13677, 'min_child_samples': 282, 'subsample': 0.17335656769720087, 'colsample_bytree': 0.26476695886167245, 'max_bin': 6006, 'reg_alpha': 0.15042195493886687, 'reg_lambda': 0.03844123175446948, 'min_split_gain': 0.5195255574512796}. Best is trial 0 with value: 38.80031675134514.\n",
      "Trial 2 finished with value: 38.83343203645657 and parameters: {'num_leaves': 568, 'max_depth': 12, 'learning_rate': 0.12961355468553576, 'n_estimators': 13677, 'min_child_samples': 282, 'subsample': 0.17335656769720087, 'colsample_bytree': 0.26476695886167245, 'max_bin': 6006, 'reg_alpha': 0.15042195493886687, 'reg_lambda': 0.03844123175446948, 'min_split_gain': 0.5195255574512796}. Best is trial 0 with value: 38.80031675134514.\n"
     ]
    },
    {
     "name": "stderr",
     "output_type": "stream",
     "text": [
      "[I 2025-02-04 15:57:03,567] Trial 3 finished with value: 38.79521692480588 and parameters: {'num_leaves': 688, 'max_depth': 10, 'learning_rate': 0.05746804169423811, 'n_estimators': 11342, 'min_child_samples': 215, 'subsample': 0.20143481652561834, 'colsample_bytree': 0.3250491163343415, 'max_bin': 48651, 'reg_alpha': 0.1315038389424136, 'reg_lambda': 3.31545584915877e-07, 'min_split_gain': 0.5378011549976821}. Best is trial 3 with value: 38.79521692480588.\n"
     ]
    },
    {
     "name": "stdout",
     "output_type": "stream",
     "text": [
      "Trial 3 finished with value: 38.79521692480588 and parameters: {'num_leaves': 688, 'max_depth': 10, 'learning_rate': 0.05746804169423811, 'n_estimators': 11342, 'min_child_samples': 215, 'subsample': 0.20143481652561834, 'colsample_bytree': 0.3250491163343415, 'max_bin': 48651, 'reg_alpha': 0.1315038389424136, 'reg_lambda': 3.31545584915877e-07, 'min_split_gain': 0.5378011549976821}. Best is trial 3 with value: 38.79521692480588.\n",
      "Trial 3 finished with value: 38.79521692480588 and parameters: {'num_leaves': 688, 'max_depth': 10, 'learning_rate': 0.05746804169423811, 'n_estimators': 11342, 'min_child_samples': 215, 'subsample': 0.20143481652561834, 'colsample_bytree': 0.3250491163343415, 'max_bin': 48651, 'reg_alpha': 0.1315038389424136, 'reg_lambda': 3.31545584915877e-07, 'min_split_gain': 0.5378011549976821}. Best is trial 3 with value: 38.79521692480588.\n",
      "Trial 3 finished with value: 38.79521692480588 and parameters: {'num_leaves': 688, 'max_depth': 10, 'learning_rate': 0.05746804169423811, 'n_estimators': 11342, 'min_child_samples': 215, 'subsample': 0.20143481652561834, 'colsample_bytree': 0.3250491163343415, 'max_bin': 48651, 'reg_alpha': 0.1315038389424136, 'reg_lambda': 3.31545584915877e-07, 'min_split_gain': 0.5378011549976821}. Best is trial 3 with value: 38.79521692480588.\n"
     ]
    },
    {
     "name": "stderr",
     "output_type": "stream",
     "text": [
      "[I 2025-02-04 15:58:46,278] Trial 4 finished with value: 38.791512890003446 and parameters: {'num_leaves': 1373, 'max_depth': 12, 'learning_rate': 0.07397917779127174, 'n_estimators': 6946, 'min_child_samples': 127, 'subsample': 0.2257087279973037, 'colsample_bytree': 0.2965066743853941, 'max_bin': 44844, 'reg_alpha': 0.012148037207141579, 'reg_lambda': 0.003536546227178409, 'min_split_gain': 0.5197021086119047}. Best is trial 4 with value: 38.791512890003446.\n"
     ]
    },
    {
     "name": "stdout",
     "output_type": "stream",
     "text": [
      "Trial 4 finished with value: 38.791512890003446 and parameters: {'num_leaves': 1373, 'max_depth': 12, 'learning_rate': 0.07397917779127174, 'n_estimators': 6946, 'min_child_samples': 127, 'subsample': 0.2257087279973037, 'colsample_bytree': 0.2965066743853941, 'max_bin': 44844, 'reg_alpha': 0.012148037207141579, 'reg_lambda': 0.003536546227178409, 'min_split_gain': 0.5197021086119047}. Best is trial 4 with value: 38.791512890003446.\n",
      "Trial 4 finished with value: 38.791512890003446 and parameters: {'num_leaves': 1373, 'max_depth': 12, 'learning_rate': 0.07397917779127174, 'n_estimators': 6946, 'min_child_samples': 127, 'subsample': 0.2257087279973037, 'colsample_bytree': 0.2965066743853941, 'max_bin': 44844, 'reg_alpha': 0.012148037207141579, 'reg_lambda': 0.003536546227178409, 'min_split_gain': 0.5197021086119047}. Best is trial 4 with value: 38.791512890003446.\n",
      "Trial 4 finished with value: 38.791512890003446 and parameters: {'num_leaves': 1373, 'max_depth': 12, 'learning_rate': 0.07397917779127174, 'n_estimators': 6946, 'min_child_samples': 127, 'subsample': 0.2257087279973037, 'colsample_bytree': 0.2965066743853941, 'max_bin': 44844, 'reg_alpha': 0.012148037207141579, 'reg_lambda': 0.003536546227178409, 'min_split_gain': 0.5197021086119047}. Best is trial 4 with value: 38.791512890003446.\n"
     ]
    },
    {
     "name": "stderr",
     "output_type": "stream",
     "text": [
      "[I 2025-02-04 15:59:35,866] Trial 5 finished with value: 38.79606866371657 and parameters: {'num_leaves': 1706, 'max_depth': 11, 'learning_rate': 0.14760402968750772, 'n_estimators': 7568, 'min_child_samples': 144, 'subsample': 0.18936258371056017, 'colsample_bytree': 0.26752146025241974, 'max_bin': 39626, 'reg_alpha': 0.22111547296074985, 'reg_lambda': 1.534711735549056e-06, 'min_split_gain': 0.5481472133419291}. Best is trial 4 with value: 38.791512890003446.\n"
     ]
    },
    {
     "name": "stdout",
     "output_type": "stream",
     "text": [
      "Trial 5 finished with value: 38.79606866371657 and parameters: {'num_leaves': 1706, 'max_depth': 11, 'learning_rate': 0.14760402968750772, 'n_estimators': 7568, 'min_child_samples': 144, 'subsample': 0.18936258371056017, 'colsample_bytree': 0.26752146025241974, 'max_bin': 39626, 'reg_alpha': 0.22111547296074985, 'reg_lambda': 1.534711735549056e-06, 'min_split_gain': 0.5481472133419291}. Best is trial 4 with value: 38.791512890003446.\n",
      "Trial 5 finished with value: 38.79606866371657 and parameters: {'num_leaves': 1706, 'max_depth': 11, 'learning_rate': 0.14760402968750772, 'n_estimators': 7568, 'min_child_samples': 144, 'subsample': 0.18936258371056017, 'colsample_bytree': 0.26752146025241974, 'max_bin': 39626, 'reg_alpha': 0.22111547296074985, 'reg_lambda': 1.534711735549056e-06, 'min_split_gain': 0.5481472133419291}. Best is trial 4 with value: 38.791512890003446.\n",
      "Trial 5 finished with value: 38.79606866371657 and parameters: {'num_leaves': 1706, 'max_depth': 11, 'learning_rate': 0.14760402968750772, 'n_estimators': 7568, 'min_child_samples': 144, 'subsample': 0.18936258371056017, 'colsample_bytree': 0.26752146025241974, 'max_bin': 39626, 'reg_alpha': 0.22111547296074985, 'reg_lambda': 1.534711735549056e-06, 'min_split_gain': 0.5481472133419291}. Best is trial 4 with value: 38.791512890003446.\n"
     ]
    },
    {
     "name": "stderr",
     "output_type": "stream",
     "text": [
      "[I 2025-02-04 16:00:27,869] Trial 6 finished with value: 38.83155121814994 and parameters: {'num_leaves': 1357, 'max_depth': 12, 'learning_rate': 0.06848052518942008, 'n_estimators': 4419, 'min_child_samples': 300, 'subsample': 0.21901842422112155, 'colsample_bytree': 0.3190247396480006, 'max_bin': 5519, 'reg_alpha': 0.09288753696042575, 'reg_lambda': 0.047391820181637935, 'min_split_gain': 0.5317537727936307}. Best is trial 4 with value: 38.791512890003446.\n"
     ]
    },
    {
     "name": "stdout",
     "output_type": "stream",
     "text": [
      "Trial 6 finished with value: 38.83155121814994 and parameters: {'num_leaves': 1357, 'max_depth': 12, 'learning_rate': 0.06848052518942008, 'n_estimators': 4419, 'min_child_samples': 300, 'subsample': 0.21901842422112155, 'colsample_bytree': 0.3190247396480006, 'max_bin': 5519, 'reg_alpha': 0.09288753696042575, 'reg_lambda': 0.047391820181637935, 'min_split_gain': 0.5317537727936307}. Best is trial 4 with value: 38.791512890003446.\n",
      "Trial 6 finished with value: 38.83155121814994 and parameters: {'num_leaves': 1357, 'max_depth': 12, 'learning_rate': 0.06848052518942008, 'n_estimators': 4419, 'min_child_samples': 300, 'subsample': 0.21901842422112155, 'colsample_bytree': 0.3190247396480006, 'max_bin': 5519, 'reg_alpha': 0.09288753696042575, 'reg_lambda': 0.047391820181637935, 'min_split_gain': 0.5317537727936307}. Best is trial 4 with value: 38.791512890003446.\n",
      "Trial 6 finished with value: 38.83155121814994 and parameters: {'num_leaves': 1357, 'max_depth': 12, 'learning_rate': 0.06848052518942008, 'n_estimators': 4419, 'min_child_samples': 300, 'subsample': 0.21901842422112155, 'colsample_bytree': 0.3190247396480006, 'max_bin': 5519, 'reg_alpha': 0.09288753696042575, 'reg_lambda': 0.047391820181637935, 'min_split_gain': 0.5317537727936307}. Best is trial 4 with value: 38.791512890003446.\n"
     ]
    },
    {
     "name": "stderr",
     "output_type": "stream",
     "text": [
      "[I 2025-02-04 16:01:24,346] Trial 7 finished with value: 38.815612790426414 and parameters: {'num_leaves': 1983, 'max_depth': 11, 'learning_rate': 0.07416411180374094, 'n_estimators': 17141, 'min_child_samples': 287, 'subsample': 0.15287990396063855, 'colsample_bytree': 0.32361505396428875, 'max_bin': 15610, 'reg_alpha': 0.01038854463172515, 'reg_lambda': 0.0008515449197187675, 'min_split_gain': 0.5045873123012471}. Best is trial 4 with value: 38.791512890003446.\n"
     ]
    },
    {
     "name": "stdout",
     "output_type": "stream",
     "text": [
      "Trial 7 finished with value: 38.815612790426414 and parameters: {'num_leaves': 1983, 'max_depth': 11, 'learning_rate': 0.07416411180374094, 'n_estimators': 17141, 'min_child_samples': 287, 'subsample': 0.15287990396063855, 'colsample_bytree': 0.32361505396428875, 'max_bin': 15610, 'reg_alpha': 0.01038854463172515, 'reg_lambda': 0.0008515449197187675, 'min_split_gain': 0.5045873123012471}. Best is trial 4 with value: 38.791512890003446.\n",
      "Trial 7 finished with value: 38.815612790426414 and parameters: {'num_leaves': 1983, 'max_depth': 11, 'learning_rate': 0.07416411180374094, 'n_estimators': 17141, 'min_child_samples': 287, 'subsample': 0.15287990396063855, 'colsample_bytree': 0.32361505396428875, 'max_bin': 15610, 'reg_alpha': 0.01038854463172515, 'reg_lambda': 0.0008515449197187675, 'min_split_gain': 0.5045873123012471}. Best is trial 4 with value: 38.791512890003446.\n",
      "Trial 7 finished with value: 38.815612790426414 and parameters: {'num_leaves': 1983, 'max_depth': 11, 'learning_rate': 0.07416411180374094, 'n_estimators': 17141, 'min_child_samples': 287, 'subsample': 0.15287990396063855, 'colsample_bytree': 0.32361505396428875, 'max_bin': 15610, 'reg_alpha': 0.01038854463172515, 'reg_lambda': 0.0008515449197187675, 'min_split_gain': 0.5045873123012471}. Best is trial 4 with value: 38.791512890003446.\n"
     ]
    },
    {
     "name": "stderr",
     "output_type": "stream",
     "text": [
      "[I 2025-02-04 16:03:51,021] Trial 8 finished with value: 38.80281882452758 and parameters: {'num_leaves': 1084, 'max_depth': 9, 'learning_rate': 0.06085618124459271, 'n_estimators': 19200, 'min_child_samples': 126, 'subsample': 0.1810052669364508, 'colsample_bytree': 0.29585509705331325, 'max_bin': 17272, 'reg_alpha': 0.18798368016494052, 'reg_lambda': 5.454688094156154e-07, 'min_split_gain': 0.5029684985490395}. Best is trial 4 with value: 38.791512890003446.\n"
     ]
    },
    {
     "name": "stdout",
     "output_type": "stream",
     "text": [
      "Trial 8 finished with value: 38.80281882452758 and parameters: {'num_leaves': 1084, 'max_depth': 9, 'learning_rate': 0.06085618124459271, 'n_estimators': 19200, 'min_child_samples': 126, 'subsample': 0.1810052669364508, 'colsample_bytree': 0.29585509705331325, 'max_bin': 17272, 'reg_alpha': 0.18798368016494052, 'reg_lambda': 5.454688094156154e-07, 'min_split_gain': 0.5029684985490395}. Best is trial 4 with value: 38.791512890003446.\n",
      "Trial 8 finished with value: 38.80281882452758 and parameters: {'num_leaves': 1084, 'max_depth': 9, 'learning_rate': 0.06085618124459271, 'n_estimators': 19200, 'min_child_samples': 126, 'subsample': 0.1810052669364508, 'colsample_bytree': 0.29585509705331325, 'max_bin': 17272, 'reg_alpha': 0.18798368016494052, 'reg_lambda': 5.454688094156154e-07, 'min_split_gain': 0.5029684985490395}. Best is trial 4 with value: 38.791512890003446.\n",
      "Trial 8 finished with value: 38.80281882452758 and parameters: {'num_leaves': 1084, 'max_depth': 9, 'learning_rate': 0.06085618124459271, 'n_estimators': 19200, 'min_child_samples': 126, 'subsample': 0.1810052669364508, 'colsample_bytree': 0.29585509705331325, 'max_bin': 17272, 'reg_alpha': 0.18798368016494052, 'reg_lambda': 5.454688094156154e-07, 'min_split_gain': 0.5029684985490395}. Best is trial 4 with value: 38.791512890003446.\n"
     ]
    },
    {
     "name": "stderr",
     "output_type": "stream",
     "text": [
      "[I 2025-02-04 16:04:23,283] Trial 9 finished with value: 38.86008352866466 and parameters: {'num_leaves': 1037, 'max_depth': 8, 'learning_rate': 0.05118787580345933, 'n_estimators': 10700, 'min_child_samples': 152, 'subsample': 0.22787777356835798, 'colsample_bytree': 0.26644133158368016, 'max_bin': 696, 'reg_alpha': 0.32606496992582734, 'reg_lambda': 1.0357424906295368e-08, 'min_split_gain': 0.5424306971306546}. Best is trial 4 with value: 38.791512890003446.\n"
     ]
    },
    {
     "name": "stdout",
     "output_type": "stream",
     "text": [
      "Trial 9 finished with value: 38.86008352866466 and parameters: {'num_leaves': 1037, 'max_depth': 8, 'learning_rate': 0.05118787580345933, 'n_estimators': 10700, 'min_child_samples': 152, 'subsample': 0.22787777356835798, 'colsample_bytree': 0.26644133158368016, 'max_bin': 696, 'reg_alpha': 0.32606496992582734, 'reg_lambda': 1.0357424906295368e-08, 'min_split_gain': 0.5424306971306546}. Best is trial 4 with value: 38.791512890003446.\n",
      "Trial 9 finished with value: 38.86008352866466 and parameters: {'num_leaves': 1037, 'max_depth': 8, 'learning_rate': 0.05118787580345933, 'n_estimators': 10700, 'min_child_samples': 152, 'subsample': 0.22787777356835798, 'colsample_bytree': 0.26644133158368016, 'max_bin': 696, 'reg_alpha': 0.32606496992582734, 'reg_lambda': 1.0357424906295368e-08, 'min_split_gain': 0.5424306971306546}. Best is trial 4 with value: 38.791512890003446.\n",
      "Trial 9 finished with value: 38.86008352866466 and parameters: {'num_leaves': 1037, 'max_depth': 8, 'learning_rate': 0.05118787580345933, 'n_estimators': 10700, 'min_child_samples': 152, 'subsample': 0.22787777356835798, 'colsample_bytree': 0.26644133158368016, 'max_bin': 696, 'reg_alpha': 0.32606496992582734, 'reg_lambda': 1.0357424906295368e-08, 'min_split_gain': 0.5424306971306546}. Best is trial 4 with value: 38.791512890003446.\n"
     ]
    },
    {
     "name": "stderr",
     "output_type": "stream",
     "text": [
      "[I 2025-02-04 16:05:51,987] Trial 10 finished with value: 38.80276431552785 and parameters: {'num_leaves': 1633, 'max_depth': 6, 'learning_rate': 0.0994112145415964, 'n_estimators': 4376, 'min_child_samples': 184, 'subsample': 0.24730540867589063, 'colsample_bytree': 0.3045687878714397, 'max_bin': 33202, 'reg_alpha': 0.9040402742991678, 'reg_lambda': 0.0025786425904463224, 'min_split_gain': 0.5155133440428261}. Best is trial 4 with value: 38.791512890003446.\n"
     ]
    },
    {
     "name": "stdout",
     "output_type": "stream",
     "text": [
      "Trial 10 finished with value: 38.80276431552785 and parameters: {'num_leaves': 1633, 'max_depth': 6, 'learning_rate': 0.0994112145415964, 'n_estimators': 4376, 'min_child_samples': 184, 'subsample': 0.24730540867589063, 'colsample_bytree': 0.3045687878714397, 'max_bin': 33202, 'reg_alpha': 0.9040402742991678, 'reg_lambda': 0.0025786425904463224, 'min_split_gain': 0.5155133440428261}. Best is trial 4 with value: 38.791512890003446.\n",
      "Trial 10 finished with value: 38.80276431552785 and parameters: {'num_leaves': 1633, 'max_depth': 6, 'learning_rate': 0.0994112145415964, 'n_estimators': 4376, 'min_child_samples': 184, 'subsample': 0.24730540867589063, 'colsample_bytree': 0.3045687878714397, 'max_bin': 33202, 'reg_alpha': 0.9040402742991678, 'reg_lambda': 0.0025786425904463224, 'min_split_gain': 0.5155133440428261}. Best is trial 4 with value: 38.791512890003446.\n",
      "Trial 10 finished with value: 38.80276431552785 and parameters: {'num_leaves': 1633, 'max_depth': 6, 'learning_rate': 0.0994112145415964, 'n_estimators': 4376, 'min_child_samples': 184, 'subsample': 0.24730540867589063, 'colsample_bytree': 0.3045687878714397, 'max_bin': 33202, 'reg_alpha': 0.9040402742991678, 'reg_lambda': 0.0025786425904463224, 'min_split_gain': 0.5155133440428261}. Best is trial 4 with value: 38.791512890003446.\n"
     ]
    },
    {
     "name": "stderr",
     "output_type": "stream",
     "text": [
      "[I 2025-02-04 16:07:28,173] Trial 11 finished with value: 38.79767928547422 and parameters: {'num_leaves': 547, 'max_depth': 8, 'learning_rate': 0.09122821394273244, 'n_estimators': 9037, 'min_child_samples': 219, 'subsample': 0.2322425564645161, 'colsample_bytree': 0.3365782749716196, 'max_bin': 48984, 'reg_alpha': 0.04683400938266124, 'reg_lambda': 4.688104983279215e-06, 'min_split_gain': 0.5317901336792642}. Best is trial 4 with value: 38.791512890003446.\n"
     ]
    },
    {
     "name": "stdout",
     "output_type": "stream",
     "text": [
      "Trial 11 finished with value: 38.79767928547422 and parameters: {'num_leaves': 547, 'max_depth': 8, 'learning_rate': 0.09122821394273244, 'n_estimators': 9037, 'min_child_samples': 219, 'subsample': 0.2322425564645161, 'colsample_bytree': 0.3365782749716196, 'max_bin': 48984, 'reg_alpha': 0.04683400938266124, 'reg_lambda': 4.688104983279215e-06, 'min_split_gain': 0.5317901336792642}. Best is trial 4 with value: 38.791512890003446.\n",
      "Trial 11 finished with value: 38.79767928547422 and parameters: {'num_leaves': 547, 'max_depth': 8, 'learning_rate': 0.09122821394273244, 'n_estimators': 9037, 'min_child_samples': 219, 'subsample': 0.2322425564645161, 'colsample_bytree': 0.3365782749716196, 'max_bin': 48984, 'reg_alpha': 0.04683400938266124, 'reg_lambda': 4.688104983279215e-06, 'min_split_gain': 0.5317901336792642}. Best is trial 4 with value: 38.791512890003446.\n",
      "Trial 11 finished with value: 38.79767928547422 and parameters: {'num_leaves': 547, 'max_depth': 8, 'learning_rate': 0.09122821394273244, 'n_estimators': 9037, 'min_child_samples': 219, 'subsample': 0.2322425564645161, 'colsample_bytree': 0.3365782749716196, 'max_bin': 48984, 'reg_alpha': 0.04683400938266124, 'reg_lambda': 4.688104983279215e-06, 'min_split_gain': 0.5317901336792642}. Best is trial 4 with value: 38.791512890003446.\n"
     ]
    },
    {
     "name": "stderr",
     "output_type": "stream",
     "text": [
      "[I 2025-02-04 16:09:20,057] Trial 12 finished with value: 38.7854237459545 and parameters: {'num_leaves': 764, 'max_depth': 11, 'learning_rate': 0.0807353385660883, 'n_estimators': 7166, 'min_child_samples': 104, 'subsample': 0.2491800647108304, 'colsample_bytree': 0.31320912646263743, 'max_bin': 49750, 'reg_alpha': 0.01578629978930711, 'reg_lambda': 1.4706599876469859e-07, 'min_split_gain': 0.5314505235025087}. Best is trial 12 with value: 38.7854237459545.\n"
     ]
    },
    {
     "name": "stdout",
     "output_type": "stream",
     "text": [
      "Trial 12 finished with value: 38.7854237459545 and parameters: {'num_leaves': 764, 'max_depth': 11, 'learning_rate': 0.0807353385660883, 'n_estimators': 7166, 'min_child_samples': 104, 'subsample': 0.2491800647108304, 'colsample_bytree': 0.31320912646263743, 'max_bin': 49750, 'reg_alpha': 0.01578629978930711, 'reg_lambda': 1.4706599876469859e-07, 'min_split_gain': 0.5314505235025087}. Best is trial 12 with value: 38.7854237459545.\n",
      "Trial 12 finished with value: 38.7854237459545 and parameters: {'num_leaves': 764, 'max_depth': 11, 'learning_rate': 0.0807353385660883, 'n_estimators': 7166, 'min_child_samples': 104, 'subsample': 0.2491800647108304, 'colsample_bytree': 0.31320912646263743, 'max_bin': 49750, 'reg_alpha': 0.01578629978930711, 'reg_lambda': 1.4706599876469859e-07, 'min_split_gain': 0.5314505235025087}. Best is trial 12 with value: 38.7854237459545.\n",
      "Trial 12 finished with value: 38.7854237459545 and parameters: {'num_leaves': 764, 'max_depth': 11, 'learning_rate': 0.0807353385660883, 'n_estimators': 7166, 'min_child_samples': 104, 'subsample': 0.2491800647108304, 'colsample_bytree': 0.31320912646263743, 'max_bin': 49750, 'reg_alpha': 0.01578629978930711, 'reg_lambda': 1.4706599876469859e-07, 'min_split_gain': 0.5314505235025087}. Best is trial 12 with value: 38.7854237459545.\n"
     ]
    },
    {
     "name": "stderr",
     "output_type": "stream",
     "text": [
      "[I 2025-02-04 16:10:33,154] Trial 13 finished with value: 38.78793777853179 and parameters: {'num_leaves': 879, 'max_depth': 12, 'learning_rate': 0.10589846633891324, 'n_estimators': 6935, 'min_child_samples': 106, 'subsample': 0.24341687953923108, 'colsample_bytree': 0.2847308104183307, 'max_bin': 40924, 'reg_alpha': 0.01076959289420842, 'reg_lambda': 2.9114018953748565e-08, 'min_split_gain': 0.5305009893074069}. Best is trial 12 with value: 38.7854237459545.\n"
     ]
    },
    {
     "name": "stdout",
     "output_type": "stream",
     "text": [
      "Trial 13 finished with value: 38.78793777853179 and parameters: {'num_leaves': 879, 'max_depth': 12, 'learning_rate': 0.10589846633891324, 'n_estimators': 6935, 'min_child_samples': 106, 'subsample': 0.24341687953923108, 'colsample_bytree': 0.2847308104183307, 'max_bin': 40924, 'reg_alpha': 0.01076959289420842, 'reg_lambda': 2.9114018953748565e-08, 'min_split_gain': 0.5305009893074069}. Best is trial 12 with value: 38.7854237459545.\n",
      "Trial 13 finished with value: 38.78793777853179 and parameters: {'num_leaves': 879, 'max_depth': 12, 'learning_rate': 0.10589846633891324, 'n_estimators': 6935, 'min_child_samples': 106, 'subsample': 0.24341687953923108, 'colsample_bytree': 0.2847308104183307, 'max_bin': 40924, 'reg_alpha': 0.01076959289420842, 'reg_lambda': 2.9114018953748565e-08, 'min_split_gain': 0.5305009893074069}. Best is trial 12 with value: 38.7854237459545.\n",
      "Trial 13 finished with value: 38.78793777853179 and parameters: {'num_leaves': 879, 'max_depth': 12, 'learning_rate': 0.10589846633891324, 'n_estimators': 6935, 'min_child_samples': 106, 'subsample': 0.24341687953923108, 'colsample_bytree': 0.2847308104183307, 'max_bin': 40924, 'reg_alpha': 0.01076959289420842, 'reg_lambda': 2.9114018953748565e-08, 'min_split_gain': 0.5305009893074069}. Best is trial 12 with value: 38.7854237459545.\n"
     ]
    },
    {
     "name": "stderr",
     "output_type": "stream",
     "text": [
      "[I 2025-02-04 16:11:33,824] Trial 14 finished with value: 38.797690639279615 and parameters: {'num_leaves': 829, 'max_depth': 11, 'learning_rate': 0.10849846105099017, 'n_estimators': 6627, 'min_child_samples': 105, 'subsample': 0.2476051640781545, 'colsample_bytree': 0.2831890169711081, 'max_bin': 33263, 'reg_alpha': 0.022360762867810594, 'reg_lambda': 1.1563405012486908e-08, 'min_split_gain': 0.5293318424136415}. Best is trial 12 with value: 38.7854237459545.\n"
     ]
    },
    {
     "name": "stdout",
     "output_type": "stream",
     "text": [
      "Trial 14 finished with value: 38.797690639279615 and parameters: {'num_leaves': 829, 'max_depth': 11, 'learning_rate': 0.10849846105099017, 'n_estimators': 6627, 'min_child_samples': 105, 'subsample': 0.2476051640781545, 'colsample_bytree': 0.2831890169711081, 'max_bin': 33263, 'reg_alpha': 0.022360762867810594, 'reg_lambda': 1.1563405012486908e-08, 'min_split_gain': 0.5293318424136415}. Best is trial 12 with value: 38.7854237459545.\n",
      "Trial 14 finished with value: 38.797690639279615 and parameters: {'num_leaves': 829, 'max_depth': 11, 'learning_rate': 0.10849846105099017, 'n_estimators': 6627, 'min_child_samples': 105, 'subsample': 0.2476051640781545, 'colsample_bytree': 0.2831890169711081, 'max_bin': 33263, 'reg_alpha': 0.022360762867810594, 'reg_lambda': 1.1563405012486908e-08, 'min_split_gain': 0.5293318424136415}. Best is trial 12 with value: 38.7854237459545.\n",
      "Trial 14 finished with value: 38.797690639279615 and parameters: {'num_leaves': 829, 'max_depth': 11, 'learning_rate': 0.10849846105099017, 'n_estimators': 6627, 'min_child_samples': 105, 'subsample': 0.2476051640781545, 'colsample_bytree': 0.2831890169711081, 'max_bin': 33263, 'reg_alpha': 0.022360762867810594, 'reg_lambda': 1.1563405012486908e-08, 'min_split_gain': 0.5293318424136415}. Best is trial 12 with value: 38.7854237459545.\n"
     ]
    },
    {
     "name": "stderr",
     "output_type": "stream",
     "text": [
      "[I 2025-02-04 16:12:37,128] Trial 15 finished with value: 38.79600728136177 and parameters: {'num_leaves': 798, 'max_depth': 12, 'learning_rate': 0.11284779905783217, 'n_estimators': 9184, 'min_child_samples': 178, 'subsample': 0.23988871548184393, 'colsample_bytree': 0.2513632598198554, 'max_bin': 34793, 'reg_alpha': 0.01900208872204217, 'reg_lambda': 8.082592534735646e-08, 'min_split_gain': 0.5391648904923257}. Best is trial 12 with value: 38.7854237459545.\n"
     ]
    },
    {
     "name": "stdout",
     "output_type": "stream",
     "text": [
      "Trial 15 finished with value: 38.79600728136177 and parameters: {'num_leaves': 798, 'max_depth': 12, 'learning_rate': 0.11284779905783217, 'n_estimators': 9184, 'min_child_samples': 178, 'subsample': 0.23988871548184393, 'colsample_bytree': 0.2513632598198554, 'max_bin': 34793, 'reg_alpha': 0.01900208872204217, 'reg_lambda': 8.082592534735646e-08, 'min_split_gain': 0.5391648904923257}. Best is trial 12 with value: 38.7854237459545.\n",
      "Trial 15 finished with value: 38.79600728136177 and parameters: {'num_leaves': 798, 'max_depth': 12, 'learning_rate': 0.11284779905783217, 'n_estimators': 9184, 'min_child_samples': 178, 'subsample': 0.23988871548184393, 'colsample_bytree': 0.2513632598198554, 'max_bin': 34793, 'reg_alpha': 0.01900208872204217, 'reg_lambda': 8.082592534735646e-08, 'min_split_gain': 0.5391648904923257}. Best is trial 12 with value: 38.7854237459545.\n",
      "Trial 15 finished with value: 38.79600728136177 and parameters: {'num_leaves': 798, 'max_depth': 12, 'learning_rate': 0.11284779905783217, 'n_estimators': 9184, 'min_child_samples': 178, 'subsample': 0.23988871548184393, 'colsample_bytree': 0.2513632598198554, 'max_bin': 34793, 'reg_alpha': 0.01900208872204217, 'reg_lambda': 8.082592534735646e-08, 'min_split_gain': 0.5391648904923257}. Best is trial 12 with value: 38.7854237459545.\n"
     ]
    },
    {
     "name": "stderr",
     "output_type": "stream",
     "text": [
      "[I 2025-02-04 16:14:11,371] Trial 16 finished with value: 38.79919906283804 and parameters: {'num_leaves': 402, 'max_depth': 6, 'learning_rate': 0.08507435342760788, 'n_estimators': 5861, 'min_child_samples': 106, 'subsample': 0.23735131251055278, 'colsample_bytree': 0.30950810879123775, 'max_bin': 41657, 'reg_alpha': 0.03886245872407, 'reg_lambda': 1.0455408968571062e-05, 'min_split_gain': 0.5267906846568263}. Best is trial 12 with value: 38.7854237459545.\n"
     ]
    },
    {
     "name": "stdout",
     "output_type": "stream",
     "text": [
      "Trial 16 finished with value: 38.79919906283804 and parameters: {'num_leaves': 402, 'max_depth': 6, 'learning_rate': 0.08507435342760788, 'n_estimators': 5861, 'min_child_samples': 106, 'subsample': 0.23735131251055278, 'colsample_bytree': 0.30950810879123775, 'max_bin': 41657, 'reg_alpha': 0.03886245872407, 'reg_lambda': 1.0455408968571062e-05, 'min_split_gain': 0.5267906846568263}. Best is trial 12 with value: 38.7854237459545.\n",
      "Trial 16 finished with value: 38.79919906283804 and parameters: {'num_leaves': 402, 'max_depth': 6, 'learning_rate': 0.08507435342760788, 'n_estimators': 5861, 'min_child_samples': 106, 'subsample': 0.23735131251055278, 'colsample_bytree': 0.30950810879123775, 'max_bin': 41657, 'reg_alpha': 0.03886245872407, 'reg_lambda': 1.0455408968571062e-05, 'min_split_gain': 0.5267906846568263}. Best is trial 12 with value: 38.7854237459545.\n",
      "Trial 16 finished with value: 38.79919906283804 and parameters: {'num_leaves': 402, 'max_depth': 6, 'learning_rate': 0.08507435342760788, 'n_estimators': 5861, 'min_child_samples': 106, 'subsample': 0.23735131251055278, 'colsample_bytree': 0.30950810879123775, 'max_bin': 41657, 'reg_alpha': 0.03886245872407, 'reg_lambda': 1.0455408968571062e-05, 'min_split_gain': 0.5267906846568263}. Best is trial 12 with value: 38.7854237459545.\n"
     ]
    },
    {
     "name": "stderr",
     "output_type": "stream",
     "text": [
      "[I 2025-02-04 16:15:12,285] Trial 17 finished with value: 38.80554016151463 and parameters: {'num_leaves': 908, 'max_depth': 11, 'learning_rate': 0.08481672206328654, 'n_estimators': 9256, 'min_child_samples': 159, 'subsample': 0.24952364692181944, 'colsample_bytree': 0.2862659552968665, 'max_bin': 23253, 'reg_alpha': 0.015285728675357697, 'reg_lambda': 7.517024396740498e-08, 'min_split_gain': 0.5346461663245082}. Best is trial 12 with value: 38.7854237459545.\n"
     ]
    },
    {
     "name": "stdout",
     "output_type": "stream",
     "text": [
      "Trial 17 finished with value: 38.80554016151463 and parameters: {'num_leaves': 908, 'max_depth': 11, 'learning_rate': 0.08481672206328654, 'n_estimators': 9256, 'min_child_samples': 159, 'subsample': 0.24952364692181944, 'colsample_bytree': 0.2862659552968665, 'max_bin': 23253, 'reg_alpha': 0.015285728675357697, 'reg_lambda': 7.517024396740498e-08, 'min_split_gain': 0.5346461663245082}. Best is trial 12 with value: 38.7854237459545.\n",
      "Trial 17 finished with value: 38.80554016151463 and parameters: {'num_leaves': 908, 'max_depth': 11, 'learning_rate': 0.08481672206328654, 'n_estimators': 9256, 'min_child_samples': 159, 'subsample': 0.24952364692181944, 'colsample_bytree': 0.2862659552968665, 'max_bin': 23253, 'reg_alpha': 0.015285728675357697, 'reg_lambda': 7.517024396740498e-08, 'min_split_gain': 0.5346461663245082}. Best is trial 12 with value: 38.7854237459545.\n",
      "Trial 17 finished with value: 38.80554016151463 and parameters: {'num_leaves': 908, 'max_depth': 11, 'learning_rate': 0.08481672206328654, 'n_estimators': 9256, 'min_child_samples': 159, 'subsample': 0.24952364692181944, 'colsample_bytree': 0.2862659552968665, 'max_bin': 23253, 'reg_alpha': 0.015285728675357697, 'reg_lambda': 7.517024396740498e-08, 'min_split_gain': 0.5346461663245082}. Best is trial 12 with value: 38.7854237459545.\n"
     ]
    },
    {
     "name": "stderr",
     "output_type": "stream",
     "text": [
      "[I 2025-02-04 16:16:32,558] Trial 18 finished with value: 38.79121691049991 and parameters: {'num_leaves': 963, 'max_depth': 9, 'learning_rate': 0.11865645881896511, 'n_estimators': 13951, 'min_child_samples': 101, 'subsample': 0.21998826001522162, 'colsample_bytree': 0.31071868145776926, 'max_bin': 30452, 'reg_alpha': 0.03411500287736989, 'reg_lambda': 7.856367698997597e-08, 'min_split_gain': 0.5498747810340836}. Best is trial 12 with value: 38.7854237459545.\n"
     ]
    },
    {
     "name": "stdout",
     "output_type": "stream",
     "text": [
      "Trial 18 finished with value: 38.79121691049991 and parameters: {'num_leaves': 963, 'max_depth': 9, 'learning_rate': 0.11865645881896511, 'n_estimators': 13951, 'min_child_samples': 101, 'subsample': 0.21998826001522162, 'colsample_bytree': 0.31071868145776926, 'max_bin': 30452, 'reg_alpha': 0.03411500287736989, 'reg_lambda': 7.856367698997597e-08, 'min_split_gain': 0.5498747810340836}. Best is trial 12 with value: 38.7854237459545.\n",
      "Trial 18 finished with value: 38.79121691049991 and parameters: {'num_leaves': 963, 'max_depth': 9, 'learning_rate': 0.11865645881896511, 'n_estimators': 13951, 'min_child_samples': 101, 'subsample': 0.21998826001522162, 'colsample_bytree': 0.31071868145776926, 'max_bin': 30452, 'reg_alpha': 0.03411500287736989, 'reg_lambda': 7.856367698997597e-08, 'min_split_gain': 0.5498747810340836}. Best is trial 12 with value: 38.7854237459545.\n",
      "Trial 18 finished with value: 38.79121691049991 and parameters: {'num_leaves': 963, 'max_depth': 9, 'learning_rate': 0.11865645881896511, 'n_estimators': 13951, 'min_child_samples': 101, 'subsample': 0.21998826001522162, 'colsample_bytree': 0.31071868145776926, 'max_bin': 30452, 'reg_alpha': 0.03411500287736989, 'reg_lambda': 7.856367698997597e-08, 'min_split_gain': 0.5498747810340836}. Best is trial 12 with value: 38.7854237459545.\n"
     ]
    },
    {
     "name": "stderr",
     "output_type": "stream",
     "text": [
      "[I 2025-02-04 16:18:05,923] Trial 19 finished with value: 38.79039782315631 and parameters: {'num_leaves': 1242, 'max_depth': 8, 'learning_rate': 0.09436456317675923, 'n_estimators': 8004, 'min_child_samples': 125, 'subsample': 0.23729494970679643, 'colsample_bytree': 0.2756037251718866, 'max_bin': 44281, 'reg_alpha': 0.07139308141899882, 'reg_lambda': 3.8539086094649596e-05, 'min_split_gain': 0.5255049044238527}. Best is trial 12 with value: 38.7854237459545.\n"
     ]
    },
    {
     "name": "stdout",
     "output_type": "stream",
     "text": [
      "Trial 19 finished with value: 38.79039782315631 and parameters: {'num_leaves': 1242, 'max_depth': 8, 'learning_rate': 0.09436456317675923, 'n_estimators': 8004, 'min_child_samples': 125, 'subsample': 0.23729494970679643, 'colsample_bytree': 0.2756037251718866, 'max_bin': 44281, 'reg_alpha': 0.07139308141899882, 'reg_lambda': 3.8539086094649596e-05, 'min_split_gain': 0.5255049044238527}. Best is trial 12 with value: 38.7854237459545.\n",
      "Trial 19 finished with value: 38.79039782315631 and parameters: {'num_leaves': 1242, 'max_depth': 8, 'learning_rate': 0.09436456317675923, 'n_estimators': 8004, 'min_child_samples': 125, 'subsample': 0.23729494970679643, 'colsample_bytree': 0.2756037251718866, 'max_bin': 44281, 'reg_alpha': 0.07139308141899882, 'reg_lambda': 3.8539086094649596e-05, 'min_split_gain': 0.5255049044238527}. Best is trial 12 with value: 38.7854237459545.\n",
      "Trial 19 finished with value: 38.79039782315631 and parameters: {'num_leaves': 1242, 'max_depth': 8, 'learning_rate': 0.09436456317675923, 'n_estimators': 8004, 'min_child_samples': 125, 'subsample': 0.23729494970679643, 'colsample_bytree': 0.2756037251718866, 'max_bin': 44281, 'reg_alpha': 0.07139308141899882, 'reg_lambda': 3.8539086094649596e-05, 'min_split_gain': 0.5255049044238527}. Best is trial 12 with value: 38.7854237459545.\n"
     ]
    },
    {
     "name": "stderr",
     "output_type": "stream",
     "text": [
      "[I 2025-02-04 16:18:46,843] Trial 20 finished with value: 38.80294177393511 and parameters: {'num_leaves': 677, 'max_depth': 10, 'learning_rate': 0.13525541189861676, 'n_estimators': 5320, 'min_child_samples': 243, 'subsample': 0.21131852001242557, 'colsample_bytree': 0.3327381521782216, 'max_bin': 37214, 'reg_alpha': 0.010366700816323784, 'reg_lambda': 3.8534245659032955e-07, 'min_split_gain': 0.5432202442062143}. Best is trial 12 with value: 38.7854237459545.\n"
     ]
    },
    {
     "name": "stdout",
     "output_type": "stream",
     "text": [
      "Trial 20 finished with value: 38.80294177393511 and parameters: {'num_leaves': 677, 'max_depth': 10, 'learning_rate': 0.13525541189861676, 'n_estimators': 5320, 'min_child_samples': 243, 'subsample': 0.21131852001242557, 'colsample_bytree': 0.3327381521782216, 'max_bin': 37214, 'reg_alpha': 0.010366700816323784, 'reg_lambda': 3.8534245659032955e-07, 'min_split_gain': 0.5432202442062143}. Best is trial 12 with value: 38.7854237459545.\n",
      "Trial 20 finished with value: 38.80294177393511 and parameters: {'num_leaves': 677, 'max_depth': 10, 'learning_rate': 0.13525541189861676, 'n_estimators': 5320, 'min_child_samples': 243, 'subsample': 0.21131852001242557, 'colsample_bytree': 0.3327381521782216, 'max_bin': 37214, 'reg_alpha': 0.010366700816323784, 'reg_lambda': 3.8534245659032955e-07, 'min_split_gain': 0.5432202442062143}. Best is trial 12 with value: 38.7854237459545.\n",
      "Trial 20 finished with value: 38.80294177393511 and parameters: {'num_leaves': 677, 'max_depth': 10, 'learning_rate': 0.13525541189861676, 'n_estimators': 5320, 'min_child_samples': 243, 'subsample': 0.21131852001242557, 'colsample_bytree': 0.3327381521782216, 'max_bin': 37214, 'reg_alpha': 0.010366700816323784, 'reg_lambda': 3.8534245659032955e-07, 'min_split_gain': 0.5432202442062143}. Best is trial 12 with value: 38.7854237459545.\n"
     ]
    },
    {
     "name": "stderr",
     "output_type": "stream",
     "text": [
      "[I 2025-02-04 16:19:56,874] Trial 21 finished with value: 38.8055350211197 and parameters: {'num_leaves': 1249, 'max_depth': 7, 'learning_rate': 0.09829998967590274, 'n_estimators': 7268, 'min_child_samples': 127, 'subsample': 0.23600045529415978, 'colsample_bytree': 0.27562326247226543, 'max_bin': 46060, 'reg_alpha': 0.07270948598364697, 'reg_lambda': 3.804294815387625e-05, 'min_split_gain': 0.5227421405605677}. Best is trial 12 with value: 38.7854237459545.\n"
     ]
    },
    {
     "name": "stdout",
     "output_type": "stream",
     "text": [
      "Trial 21 finished with value: 38.8055350211197 and parameters: {'num_leaves': 1249, 'max_depth': 7, 'learning_rate': 0.09829998967590274, 'n_estimators': 7268, 'min_child_samples': 127, 'subsample': 0.23600045529415978, 'colsample_bytree': 0.27562326247226543, 'max_bin': 46060, 'reg_alpha': 0.07270948598364697, 'reg_lambda': 3.804294815387625e-05, 'min_split_gain': 0.5227421405605677}. Best is trial 12 with value: 38.7854237459545.\n",
      "Trial 21 finished with value: 38.8055350211197 and parameters: {'num_leaves': 1249, 'max_depth': 7, 'learning_rate': 0.09829998967590274, 'n_estimators': 7268, 'min_child_samples': 127, 'subsample': 0.23600045529415978, 'colsample_bytree': 0.27562326247226543, 'max_bin': 46060, 'reg_alpha': 0.07270948598364697, 'reg_lambda': 3.804294815387625e-05, 'min_split_gain': 0.5227421405605677}. Best is trial 12 with value: 38.7854237459545.\n",
      "Trial 21 finished with value: 38.8055350211197 and parameters: {'num_leaves': 1249, 'max_depth': 7, 'learning_rate': 0.09829998967590274, 'n_estimators': 7268, 'min_child_samples': 127, 'subsample': 0.23600045529415978, 'colsample_bytree': 0.27562326247226543, 'max_bin': 46060, 'reg_alpha': 0.07270948598364697, 'reg_lambda': 3.804294815387625e-05, 'min_split_gain': 0.5227421405605677}. Best is trial 12 with value: 38.7854237459545.\n"
     ]
    },
    {
     "name": "stderr",
     "output_type": "stream",
     "text": [
      "[I 2025-02-04 16:21:18,490] Trial 22 finished with value: 38.79177463430916 and parameters: {'num_leaves': 1200, 'max_depth': 8, 'learning_rate': 0.0947405009873091, 'n_estimators': 8733, 'min_child_samples': 120, 'subsample': 0.24345979620158797, 'colsample_bytree': 0.2780986355902482, 'max_bin': 43663, 'reg_alpha': 0.028420157481974528, 'reg_lambda': 4.517018475811613e-05, 'min_split_gain': 0.5278048227730473}. Best is trial 12 with value: 38.7854237459545.\n"
     ]
    },
    {
     "name": "stdout",
     "output_type": "stream",
     "text": [
      "Trial 22 finished with value: 38.79177463430916 and parameters: {'num_leaves': 1200, 'max_depth': 8, 'learning_rate': 0.0947405009873091, 'n_estimators': 8733, 'min_child_samples': 120, 'subsample': 0.24345979620158797, 'colsample_bytree': 0.2780986355902482, 'max_bin': 43663, 'reg_alpha': 0.028420157481974528, 'reg_lambda': 4.517018475811613e-05, 'min_split_gain': 0.5278048227730473}. Best is trial 12 with value: 38.7854237459545.\n",
      "Trial 22 finished with value: 38.79177463430916 and parameters: {'num_leaves': 1200, 'max_depth': 8, 'learning_rate': 0.0947405009873091, 'n_estimators': 8733, 'min_child_samples': 120, 'subsample': 0.24345979620158797, 'colsample_bytree': 0.2780986355902482, 'max_bin': 43663, 'reg_alpha': 0.028420157481974528, 'reg_lambda': 4.517018475811613e-05, 'min_split_gain': 0.5278048227730473}. Best is trial 12 with value: 38.7854237459545.\n",
      "Trial 22 finished with value: 38.79177463430916 and parameters: {'num_leaves': 1200, 'max_depth': 8, 'learning_rate': 0.0947405009873091, 'n_estimators': 8733, 'min_child_samples': 120, 'subsample': 0.24345979620158797, 'colsample_bytree': 0.2780986355902482, 'max_bin': 43663, 'reg_alpha': 0.028420157481974528, 'reg_lambda': 4.517018475811613e-05, 'min_split_gain': 0.5278048227730473}. Best is trial 12 with value: 38.7854237459545.\n"
     ]
    },
    {
     "name": "stderr",
     "output_type": "stream",
     "text": [
      "[I 2025-02-04 16:23:22,078] Trial 23 finished with value: 38.79045430092091 and parameters: {'num_leaves': 886, 'max_depth': 7, 'learning_rate': 0.08202781753837145, 'n_estimators': 10326, 'min_child_samples': 143, 'subsample': 0.23292836785442814, 'colsample_bytree': 0.253373343654696, 'max_bin': 49595, 'reg_alpha': 0.01790753976949089, 'reg_lambda': 3.4597241631233383e-06, 'min_split_gain': 0.5254929015102794}. Best is trial 12 with value: 38.7854237459545.\n"
     ]
    },
    {
     "name": "stdout",
     "output_type": "stream",
     "text": [
      "Trial 23 finished with value: 38.79045430092091 and parameters: {'num_leaves': 886, 'max_depth': 7, 'learning_rate': 0.08202781753837145, 'n_estimators': 10326, 'min_child_samples': 143, 'subsample': 0.23292836785442814, 'colsample_bytree': 0.253373343654696, 'max_bin': 49595, 'reg_alpha': 0.01790753976949089, 'reg_lambda': 3.4597241631233383e-06, 'min_split_gain': 0.5254929015102794}. Best is trial 12 with value: 38.7854237459545.\n",
      "Trial 23 finished with value: 38.79045430092091 and parameters: {'num_leaves': 886, 'max_depth': 7, 'learning_rate': 0.08202781753837145, 'n_estimators': 10326, 'min_child_samples': 143, 'subsample': 0.23292836785442814, 'colsample_bytree': 0.253373343654696, 'max_bin': 49595, 'reg_alpha': 0.01790753976949089, 'reg_lambda': 3.4597241631233383e-06, 'min_split_gain': 0.5254929015102794}. Best is trial 12 with value: 38.7854237459545.\n",
      "Trial 23 finished with value: 38.79045430092091 and parameters: {'num_leaves': 886, 'max_depth': 7, 'learning_rate': 0.08202781753837145, 'n_estimators': 10326, 'min_child_samples': 143, 'subsample': 0.23292836785442814, 'colsample_bytree': 0.253373343654696, 'max_bin': 49595, 'reg_alpha': 0.01790753976949089, 'reg_lambda': 3.4597241631233383e-06, 'min_split_gain': 0.5254929015102794}. Best is trial 12 with value: 38.7854237459545.\n"
     ]
    },
    {
     "name": "stderr",
     "output_type": "stream",
     "text": [
      "[I 2025-02-04 16:24:35,094] Trial 24 finished with value: 38.798310177732745 and parameters: {'num_leaves': 736, 'max_depth': 9, 'learning_rate': 0.10232941377127008, 'n_estimators': 8025, 'min_child_samples': 177, 'subsample': 0.22292901364397166, 'colsample_bytree': 0.2918364328402103, 'max_bin': 29277, 'reg_alpha': 0.4990851469279796, 'reg_lambda': 2.5404574961699266e-08, 'min_split_gain': 0.5141452374749288}. Best is trial 12 with value: 38.7854237459545.\n"
     ]
    },
    {
     "name": "stdout",
     "output_type": "stream",
     "text": [
      "Trial 24 finished with value: 38.798310177732745 and parameters: {'num_leaves': 736, 'max_depth': 9, 'learning_rate': 0.10232941377127008, 'n_estimators': 8025, 'min_child_samples': 177, 'subsample': 0.22292901364397166, 'colsample_bytree': 0.2918364328402103, 'max_bin': 29277, 'reg_alpha': 0.4990851469279796, 'reg_lambda': 2.5404574961699266e-08, 'min_split_gain': 0.5141452374749288}. Best is trial 12 with value: 38.7854237459545.\n",
      "Trial 24 finished with value: 38.798310177732745 and parameters: {'num_leaves': 736, 'max_depth': 9, 'learning_rate': 0.10232941377127008, 'n_estimators': 8025, 'min_child_samples': 177, 'subsample': 0.22292901364397166, 'colsample_bytree': 0.2918364328402103, 'max_bin': 29277, 'reg_alpha': 0.4990851469279796, 'reg_lambda': 2.5404574961699266e-08, 'min_split_gain': 0.5141452374749288}. Best is trial 12 with value: 38.7854237459545.\n",
      "Trial 24 finished with value: 38.798310177732745 and parameters: {'num_leaves': 736, 'max_depth': 9, 'learning_rate': 0.10232941377127008, 'n_estimators': 8025, 'min_child_samples': 177, 'subsample': 0.22292901364397166, 'colsample_bytree': 0.2918364328402103, 'max_bin': 29277, 'reg_alpha': 0.4990851469279796, 'reg_lambda': 2.5404574961699266e-08, 'min_split_gain': 0.5141452374749288}. Best is trial 12 with value: 38.7854237459545.\n"
     ]
    },
    {
     "name": "stderr",
     "output_type": "stream",
     "text": [
      "[I 2025-02-04 16:26:04,510] Trial 25 finished with value: 38.8007656943886 and parameters: {'num_leaves': 957, 'max_depth': 7, 'learning_rate': 0.07786237697942294, 'n_estimators': 5744, 'min_child_samples': 115, 'subsample': 0.24131476031848836, 'colsample_bytree': 0.2739074928882427, 'max_bin': 44991, 'reg_alpha': 0.05175886793211572, 'reg_lambda': 1.594993604640442e-05, 'min_split_gain': 0.5344237393183829}. Best is trial 12 with value: 38.7854237459545.\n"
     ]
    },
    {
     "name": "stdout",
     "output_type": "stream",
     "text": [
      "Trial 25 finished with value: 38.8007656943886 and parameters: {'num_leaves': 957, 'max_depth': 7, 'learning_rate': 0.07786237697942294, 'n_estimators': 5744, 'min_child_samples': 115, 'subsample': 0.24131476031848836, 'colsample_bytree': 0.2739074928882427, 'max_bin': 44991, 'reg_alpha': 0.05175886793211572, 'reg_lambda': 1.594993604640442e-05, 'min_split_gain': 0.5344237393183829}. Best is trial 12 with value: 38.7854237459545.\n",
      "Trial 25 finished with value: 38.8007656943886 and parameters: {'num_leaves': 957, 'max_depth': 7, 'learning_rate': 0.07786237697942294, 'n_estimators': 5744, 'min_child_samples': 115, 'subsample': 0.24131476031848836, 'colsample_bytree': 0.2739074928882427, 'max_bin': 44991, 'reg_alpha': 0.05175886793211572, 'reg_lambda': 1.594993604640442e-05, 'min_split_gain': 0.5344237393183829}. Best is trial 12 with value: 38.7854237459545.\n",
      "Trial 25 finished with value: 38.8007656943886 and parameters: {'num_leaves': 957, 'max_depth': 7, 'learning_rate': 0.07786237697942294, 'n_estimators': 5744, 'min_child_samples': 115, 'subsample': 0.24131476031848836, 'colsample_bytree': 0.2739074928882427, 'max_bin': 44991, 'reg_alpha': 0.05175886793211572, 'reg_lambda': 1.594993604640442e-05, 'min_split_gain': 0.5344237393183829}. Best is trial 12 with value: 38.7854237459545.\n"
     ]
    },
    {
     "name": "stderr",
     "output_type": "stream",
     "text": [
      "[I 2025-02-04 16:27:30,303] Trial 26 finished with value: 38.790863825143596 and parameters: {'num_leaves': 1552, 'max_depth': 11, 'learning_rate': 0.09082357756059171, 'n_estimators': 12085, 'min_child_samples': 138, 'subsample': 0.2130874000837129, 'colsample_bytree': 0.30230492760805827, 'max_bin': 37823, 'reg_alpha': 0.013807549696408208, 'reg_lambda': 1.6669764406739386e-06, 'min_split_gain': 0.5237850884876619}. Best is trial 12 with value: 38.7854237459545.\n"
     ]
    },
    {
     "name": "stdout",
     "output_type": "stream",
     "text": [
      "Trial 26 finished with value: 38.790863825143596 and parameters: {'num_leaves': 1552, 'max_depth': 11, 'learning_rate': 0.09082357756059171, 'n_estimators': 12085, 'min_child_samples': 138, 'subsample': 0.2130874000837129, 'colsample_bytree': 0.30230492760805827, 'max_bin': 37823, 'reg_alpha': 0.013807549696408208, 'reg_lambda': 1.6669764406739386e-06, 'min_split_gain': 0.5237850884876619}. Best is trial 12 with value: 38.7854237459545.\n",
      "Trial 26 finished with value: 38.790863825143596 and parameters: {'num_leaves': 1552, 'max_depth': 11, 'learning_rate': 0.09082357756059171, 'n_estimators': 12085, 'min_child_samples': 138, 'subsample': 0.2130874000837129, 'colsample_bytree': 0.30230492760805827, 'max_bin': 37823, 'reg_alpha': 0.013807549696408208, 'reg_lambda': 1.6669764406739386e-06, 'min_split_gain': 0.5237850884876619}. Best is trial 12 with value: 38.7854237459545.\n",
      "Trial 26 finished with value: 38.790863825143596 and parameters: {'num_leaves': 1552, 'max_depth': 11, 'learning_rate': 0.09082357756059171, 'n_estimators': 12085, 'min_child_samples': 138, 'subsample': 0.2130874000837129, 'colsample_bytree': 0.30230492760805827, 'max_bin': 37823, 'reg_alpha': 0.013807549696408208, 'reg_lambda': 1.6669764406739386e-06, 'min_split_gain': 0.5237850884876619}. Best is trial 12 with value: 38.7854237459545.\n"
     ]
    },
    {
     "name": "stderr",
     "output_type": "stream",
     "text": [
      "[I 2025-02-04 16:28:26,290] Trial 27 finished with value: 38.79619309931512 and parameters: {'num_leaves': 1228, 'max_depth': 12, 'learning_rate': 0.12303380296483883, 'n_estimators': 9860, 'min_child_samples': 156, 'subsample': 0.24932415110094686, 'colsample_bytree': 0.26102952220640224, 'max_bin': 42871, 'reg_alpha': 0.08790920544843846, 'reg_lambda': 1.634781973016227e-07, 'min_split_gain': 0.5299794744951903}. Best is trial 12 with value: 38.7854237459545.\n"
     ]
    },
    {
     "name": "stdout",
     "output_type": "stream",
     "text": [
      "Trial 27 finished with value: 38.79619309931512 and parameters: {'num_leaves': 1228, 'max_depth': 12, 'learning_rate': 0.12303380296483883, 'n_estimators': 9860, 'min_child_samples': 156, 'subsample': 0.24932415110094686, 'colsample_bytree': 0.26102952220640224, 'max_bin': 42871, 'reg_alpha': 0.08790920544843846, 'reg_lambda': 1.634781973016227e-07, 'min_split_gain': 0.5299794744951903}. Best is trial 12 with value: 38.7854237459545.\n",
      "Trial 27 finished with value: 38.79619309931512 and parameters: {'num_leaves': 1228, 'max_depth': 12, 'learning_rate': 0.12303380296483883, 'n_estimators': 9860, 'min_child_samples': 156, 'subsample': 0.24932415110094686, 'colsample_bytree': 0.26102952220640224, 'max_bin': 42871, 'reg_alpha': 0.08790920544843846, 'reg_lambda': 1.634781973016227e-07, 'min_split_gain': 0.5299794744951903}. Best is trial 12 with value: 38.7854237459545.\n",
      "Trial 27 finished with value: 38.79619309931512 and parameters: {'num_leaves': 1228, 'max_depth': 12, 'learning_rate': 0.12303380296483883, 'n_estimators': 9860, 'min_child_samples': 156, 'subsample': 0.24932415110094686, 'colsample_bytree': 0.26102952220640224, 'max_bin': 42871, 'reg_alpha': 0.08790920544843846, 'reg_lambda': 1.634781973016227e-07, 'min_split_gain': 0.5299794744951903}. Best is trial 12 with value: 38.7854237459545.\n"
     ]
    },
    {
     "name": "stderr",
     "output_type": "stream",
     "text": [
      "[I 2025-02-04 16:29:58,807] Trial 28 finished with value: 38.78652286008393 and parameters: {'num_leaves': 560, 'max_depth': 8, 'learning_rate': 0.10539111213311447, 'n_estimators': 8246, 'min_child_samples': 100, 'subsample': 0.22982896459513902, 'colsample_bytree': 0.3129075312813407, 'max_bin': 49790, 'reg_alpha': 0.028735572064902924, 'reg_lambda': 0.00011070705105667653, 'min_split_gain': 0.5345199997359561}. Best is trial 12 with value: 38.7854237459545.\n"
     ]
    },
    {
     "name": "stdout",
     "output_type": "stream",
     "text": [
      "Trial 28 finished with value: 38.78652286008393 and parameters: {'num_leaves': 560, 'max_depth': 8, 'learning_rate': 0.10539111213311447, 'n_estimators': 8246, 'min_child_samples': 100, 'subsample': 0.22982896459513902, 'colsample_bytree': 0.3129075312813407, 'max_bin': 49790, 'reg_alpha': 0.028735572064902924, 'reg_lambda': 0.00011070705105667653, 'min_split_gain': 0.5345199997359561}. Best is trial 12 with value: 38.7854237459545.\n",
      "Trial 28 finished with value: 38.78652286008393 and parameters: {'num_leaves': 560, 'max_depth': 8, 'learning_rate': 0.10539111213311447, 'n_estimators': 8246, 'min_child_samples': 100, 'subsample': 0.22982896459513902, 'colsample_bytree': 0.3129075312813407, 'max_bin': 49790, 'reg_alpha': 0.028735572064902924, 'reg_lambda': 0.00011070705105667653, 'min_split_gain': 0.5345199997359561}. Best is trial 12 with value: 38.7854237459545.\n",
      "Trial 28 finished with value: 38.78652286008393 and parameters: {'num_leaves': 560, 'max_depth': 8, 'learning_rate': 0.10539111213311447, 'n_estimators': 8246, 'min_child_samples': 100, 'subsample': 0.22982896459513902, 'colsample_bytree': 0.3129075312813407, 'max_bin': 49790, 'reg_alpha': 0.028735572064902924, 'reg_lambda': 0.00011070705105667653, 'min_split_gain': 0.5345199997359561}. Best is trial 12 with value: 38.7854237459545.\n"
     ]
    },
    {
     "name": "stderr",
     "output_type": "stream",
     "text": [
      "[I 2025-02-04 16:31:14,422] Trial 29 finished with value: 38.78901259469306 and parameters: {'num_leaves': 510, 'max_depth': 10, 'learning_rate': 0.11094379785897952, 'n_estimators': 12622, 'min_child_samples': 102, 'subsample': 0.2302893644033768, 'colsample_bytree': 0.3145664911323795, 'max_bin': 49952, 'reg_alpha': 0.029106799852480707, 'reg_lambda': 0.0001604081560463346, 'min_split_gain': 0.5362558065761408}. Best is trial 12 with value: 38.7854237459545.\n"
     ]
    },
    {
     "name": "stdout",
     "output_type": "stream",
     "text": [
      "Trial 29 finished with value: 38.78901259469306 and parameters: {'num_leaves': 510, 'max_depth': 10, 'learning_rate': 0.11094379785897952, 'n_estimators': 12622, 'min_child_samples': 102, 'subsample': 0.2302893644033768, 'colsample_bytree': 0.3145664911323795, 'max_bin': 49952, 'reg_alpha': 0.029106799852480707, 'reg_lambda': 0.0001604081560463346, 'min_split_gain': 0.5362558065761408}. Best is trial 12 with value: 38.7854237459545.\n",
      "Trial 29 finished with value: 38.78901259469306 and parameters: {'num_leaves': 510, 'max_depth': 10, 'learning_rate': 0.11094379785897952, 'n_estimators': 12622, 'min_child_samples': 102, 'subsample': 0.2302893644033768, 'colsample_bytree': 0.3145664911323795, 'max_bin': 49952, 'reg_alpha': 0.029106799852480707, 'reg_lambda': 0.0001604081560463346, 'min_split_gain': 0.5362558065761408}. Best is trial 12 with value: 38.7854237459545.\n",
      "Trial 29 finished with value: 38.78901259469306 and parameters: {'num_leaves': 510, 'max_depth': 10, 'learning_rate': 0.11094379785897952, 'n_estimators': 12622, 'min_child_samples': 102, 'subsample': 0.2302893644033768, 'colsample_bytree': 0.3145664911323795, 'max_bin': 49952, 'reg_alpha': 0.029106799852480707, 'reg_lambda': 0.0001604081560463346, 'min_split_gain': 0.5362558065761408}. Best is trial 12 with value: 38.7854237459545.\n"
     ]
    },
    {
     "name": "stderr",
     "output_type": "stream",
     "text": [
      "[I 2025-02-04 16:33:34,878] Trial 30 finished with value: 38.79176092905473 and parameters: {'num_leaves': 627, 'max_depth': 10, 'learning_rate': 0.06560876983836902, 'n_estimators': 4171, 'min_child_samples': 168, 'subsample': 0.21059044759797144, 'colsample_bytree': 0.32891012391851093, 'max_bin': 40084, 'reg_alpha': 0.02123993612481256, 'reg_lambda': 0.00029851479994469994, 'min_split_gain': 0.5413051052961819}. Best is trial 12 with value: 38.7854237459545.\n"
     ]
    },
    {
     "name": "stdout",
     "output_type": "stream",
     "text": [
      "Trial 30 finished with value: 38.79176092905473 and parameters: {'num_leaves': 627, 'max_depth': 10, 'learning_rate': 0.06560876983836902, 'n_estimators': 4171, 'min_child_samples': 168, 'subsample': 0.21059044759797144, 'colsample_bytree': 0.32891012391851093, 'max_bin': 40084, 'reg_alpha': 0.02123993612481256, 'reg_lambda': 0.00029851479994469994, 'min_split_gain': 0.5413051052961819}. Best is trial 12 with value: 38.7854237459545.\n",
      "Trial 30 finished with value: 38.79176092905473 and parameters: {'num_leaves': 627, 'max_depth': 10, 'learning_rate': 0.06560876983836902, 'n_estimators': 4171, 'min_child_samples': 168, 'subsample': 0.21059044759797144, 'colsample_bytree': 0.32891012391851093, 'max_bin': 40084, 'reg_alpha': 0.02123993612481256, 'reg_lambda': 0.00029851479994469994, 'min_split_gain': 0.5413051052961819}. Best is trial 12 with value: 38.7854237459545.\n",
      "Trial 30 finished with value: 38.79176092905473 and parameters: {'num_leaves': 627, 'max_depth': 10, 'learning_rate': 0.06560876983836902, 'n_estimators': 4171, 'min_child_samples': 168, 'subsample': 0.21059044759797144, 'colsample_bytree': 0.32891012391851093, 'max_bin': 40084, 'reg_alpha': 0.02123993612481256, 'reg_lambda': 0.00029851479994469994, 'min_split_gain': 0.5413051052961819}. Best is trial 12 with value: 38.7854237459545.\n"
     ]
    },
    {
     "name": "stderr",
     "output_type": "stream",
     "text": [
      "[I 2025-02-04 16:35:15,041] Trial 31 finished with value: 38.783956741666614 and parameters: {'num_leaves': 401, 'max_depth': 10, 'learning_rate': 0.1068132137504175, 'n_estimators': 12075, 'min_child_samples': 100, 'subsample': 0.23151551892481506, 'colsample_bytree': 0.3477564758895149, 'max_bin': 47969, 'reg_alpha': 0.02535071120299291, 'reg_lambda': 0.00010978738375567661, 'min_split_gain': 0.5356084436237598}. Best is trial 31 with value: 38.783956741666614.\n"
     ]
    },
    {
     "name": "stdout",
     "output_type": "stream",
     "text": [
      "Trial 31 finished with value: 38.783956741666614 and parameters: {'num_leaves': 401, 'max_depth': 10, 'learning_rate': 0.1068132137504175, 'n_estimators': 12075, 'min_child_samples': 100, 'subsample': 0.23151551892481506, 'colsample_bytree': 0.3477564758895149, 'max_bin': 47969, 'reg_alpha': 0.02535071120299291, 'reg_lambda': 0.00010978738375567661, 'min_split_gain': 0.5356084436237598}. Best is trial 31 with value: 38.783956741666614.\n",
      "Trial 31 finished with value: 38.783956741666614 and parameters: {'num_leaves': 401, 'max_depth': 10, 'learning_rate': 0.1068132137504175, 'n_estimators': 12075, 'min_child_samples': 100, 'subsample': 0.23151551892481506, 'colsample_bytree': 0.3477564758895149, 'max_bin': 47969, 'reg_alpha': 0.02535071120299291, 'reg_lambda': 0.00010978738375567661, 'min_split_gain': 0.5356084436237598}. Best is trial 31 with value: 38.783956741666614.\n",
      "Trial 31 finished with value: 38.783956741666614 and parameters: {'num_leaves': 401, 'max_depth': 10, 'learning_rate': 0.1068132137504175, 'n_estimators': 12075, 'min_child_samples': 100, 'subsample': 0.23151551892481506, 'colsample_bytree': 0.3477564758895149, 'max_bin': 47969, 'reg_alpha': 0.02535071120299291, 'reg_lambda': 0.00010978738375567661, 'min_split_gain': 0.5356084436237598}. Best is trial 31 with value: 38.783956741666614.\n"
     ]
    },
    {
     "name": "stderr",
     "output_type": "stream",
     "text": [
      "[I 2025-02-04 16:36:46,416] Trial 32 finished with value: 38.78853103416758 and parameters: {'num_leaves': 425, 'max_depth': 9, 'learning_rate': 0.10460630157406535, 'n_estimators': 15490, 'min_child_samples': 114, 'subsample': 0.2439505135314745, 'colsample_bytree': 0.3436948053888681, 'max_bin': 46708, 'reg_alpha': 0.016066847175883477, 'reg_lambda': 0.00018818372039191187, 'min_split_gain': 0.5328515600378555}. Best is trial 31 with value: 38.783956741666614.\n"
     ]
    },
    {
     "name": "stdout",
     "output_type": "stream",
     "text": [
      "Trial 32 finished with value: 38.78853103416758 and parameters: {'num_leaves': 425, 'max_depth': 9, 'learning_rate': 0.10460630157406535, 'n_estimators': 15490, 'min_child_samples': 114, 'subsample': 0.2439505135314745, 'colsample_bytree': 0.3436948053888681, 'max_bin': 46708, 'reg_alpha': 0.016066847175883477, 'reg_lambda': 0.00018818372039191187, 'min_split_gain': 0.5328515600378555}. Best is trial 31 with value: 38.783956741666614.\n",
      "Trial 32 finished with value: 38.78853103416758 and parameters: {'num_leaves': 425, 'max_depth': 9, 'learning_rate': 0.10460630157406535, 'n_estimators': 15490, 'min_child_samples': 114, 'subsample': 0.2439505135314745, 'colsample_bytree': 0.3436948053888681, 'max_bin': 46708, 'reg_alpha': 0.016066847175883477, 'reg_lambda': 0.00018818372039191187, 'min_split_gain': 0.5328515600378555}. Best is trial 31 with value: 38.783956741666614.\n",
      "Trial 32 finished with value: 38.78853103416758 and parameters: {'num_leaves': 425, 'max_depth': 9, 'learning_rate': 0.10460630157406535, 'n_estimators': 15490, 'min_child_samples': 114, 'subsample': 0.2439505135314745, 'colsample_bytree': 0.3436948053888681, 'max_bin': 46708, 'reg_alpha': 0.016066847175883477, 'reg_lambda': 0.00018818372039191187, 'min_split_gain': 0.5328515600378555}. Best is trial 31 with value: 38.783956741666614.\n"
     ]
    },
    {
     "name": "stderr",
     "output_type": "stream",
     "text": [
      "[I 2025-02-04 16:37:54,226] Trial 33 finished with value: 38.79297855487897 and parameters: {'num_leaves': 501, 'max_depth': 11, 'learning_rate': 0.11747565991290122, 'n_estimators': 13843, 'min_child_samples': 136, 'subsample': 0.21703706065881123, 'colsample_bytree': 0.34268452203623195, 'max_bin': 45994, 'reg_alpha': 0.023222460229896894, 'reg_lambda': 0.0007725398700180039, 'min_split_gain': 0.5395988010952336}. Best is trial 31 with value: 38.783956741666614.\n"
     ]
    },
    {
     "name": "stdout",
     "output_type": "stream",
     "text": [
      "Trial 33 finished with value: 38.79297855487897 and parameters: {'num_leaves': 501, 'max_depth': 11, 'learning_rate': 0.11747565991290122, 'n_estimators': 13843, 'min_child_samples': 136, 'subsample': 0.21703706065881123, 'colsample_bytree': 0.34268452203623195, 'max_bin': 45994, 'reg_alpha': 0.023222460229896894, 'reg_lambda': 0.0007725398700180039, 'min_split_gain': 0.5395988010952336}. Best is trial 31 with value: 38.783956741666614.\n",
      "Trial 33 finished with value: 38.79297855487897 and parameters: {'num_leaves': 501, 'max_depth': 11, 'learning_rate': 0.11747565991290122, 'n_estimators': 13843, 'min_child_samples': 136, 'subsample': 0.21703706065881123, 'colsample_bytree': 0.34268452203623195, 'max_bin': 45994, 'reg_alpha': 0.023222460229896894, 'reg_lambda': 0.0007725398700180039, 'min_split_gain': 0.5395988010952336}. Best is trial 31 with value: 38.783956741666614.\n",
      "Trial 33 finished with value: 38.79297855487897 and parameters: {'num_leaves': 501, 'max_depth': 11, 'learning_rate': 0.11747565991290122, 'n_estimators': 13843, 'min_child_samples': 136, 'subsample': 0.21703706065881123, 'colsample_bytree': 0.34268452203623195, 'max_bin': 45994, 'reg_alpha': 0.023222460229896894, 'reg_lambda': 0.0007725398700180039, 'min_split_gain': 0.5395988010952336}. Best is trial 31 with value: 38.783956741666614.\n"
     ]
    },
    {
     "name": "stderr",
     "output_type": "stream",
     "text": [
      "[I 2025-02-04 16:38:41,133] Trial 34 finished with value: 38.80202913483504 and parameters: {'num_leaves': 634, 'max_depth': 10, 'learning_rate': 0.13253915560390325, 'n_estimators': 11390, 'min_child_samples': 250, 'subsample': 0.22642453603531307, 'colsample_bytree': 0.34726864176484756, 'max_bin': 47207, 'reg_alpha': 0.03913430133064192, 'reg_lambda': 2.9777417170756707e-08, 'min_split_gain': 0.5443910210605172}. Best is trial 31 with value: 38.783956741666614.\n"
     ]
    },
    {
     "name": "stdout",
     "output_type": "stream",
     "text": [
      "Trial 34 finished with value: 38.80202913483504 and parameters: {'num_leaves': 634, 'max_depth': 10, 'learning_rate': 0.13253915560390325, 'n_estimators': 11390, 'min_child_samples': 250, 'subsample': 0.22642453603531307, 'colsample_bytree': 0.34726864176484756, 'max_bin': 47207, 'reg_alpha': 0.03913430133064192, 'reg_lambda': 2.9777417170756707e-08, 'min_split_gain': 0.5443910210605172}. Best is trial 31 with value: 38.783956741666614.\n",
      "Trial 34 finished with value: 38.80202913483504 and parameters: {'num_leaves': 634, 'max_depth': 10, 'learning_rate': 0.13253915560390325, 'n_estimators': 11390, 'min_child_samples': 250, 'subsample': 0.22642453603531307, 'colsample_bytree': 0.34726864176484756, 'max_bin': 47207, 'reg_alpha': 0.03913430133064192, 'reg_lambda': 2.9777417170756707e-08, 'min_split_gain': 0.5443910210605172}. Best is trial 31 with value: 38.783956741666614.\n",
      "Trial 34 finished with value: 38.80202913483504 and parameters: {'num_leaves': 634, 'max_depth': 10, 'learning_rate': 0.13253915560390325, 'n_estimators': 11390, 'min_child_samples': 250, 'subsample': 0.22642453603531307, 'colsample_bytree': 0.34726864176484756, 'max_bin': 47207, 'reg_alpha': 0.03913430133064192, 'reg_lambda': 2.9777417170756707e-08, 'min_split_gain': 0.5443910210605172}. Best is trial 31 with value: 38.783956741666614.\n"
     ]
    },
    {
     "name": "stderr",
     "output_type": "stream",
     "text": [
      "[I 2025-02-04 16:40:13,366] Trial 35 finished with value: 38.786762838791155 and parameters: {'num_leaves': 760, 'max_depth': 12, 'learning_rate': 0.07917084592404103, 'n_estimators': 6708, 'min_child_samples': 114, 'subsample': 0.19353198216998926, 'colsample_bytree': 0.32078556672577313, 'max_bin': 42046, 'reg_alpha': 0.012831257502485595, 'reg_lambda': 0.008943917909336036, 'min_split_gain': 0.5358740148838708}. Best is trial 31 with value: 38.783956741666614.\n"
     ]
    },
    {
     "name": "stdout",
     "output_type": "stream",
     "text": [
      "Trial 35 finished with value: 38.786762838791155 and parameters: {'num_leaves': 760, 'max_depth': 12, 'learning_rate': 0.07917084592404103, 'n_estimators': 6708, 'min_child_samples': 114, 'subsample': 0.19353198216998926, 'colsample_bytree': 0.32078556672577313, 'max_bin': 42046, 'reg_alpha': 0.012831257502485595, 'reg_lambda': 0.008943917909336036, 'min_split_gain': 0.5358740148838708}. Best is trial 31 with value: 38.783956741666614.\n",
      "Trial 35 finished with value: 38.786762838791155 and parameters: {'num_leaves': 760, 'max_depth': 12, 'learning_rate': 0.07917084592404103, 'n_estimators': 6708, 'min_child_samples': 114, 'subsample': 0.19353198216998926, 'colsample_bytree': 0.32078556672577313, 'max_bin': 42046, 'reg_alpha': 0.012831257502485595, 'reg_lambda': 0.008943917909336036, 'min_split_gain': 0.5358740148838708}. Best is trial 31 with value: 38.783956741666614.\n",
      "Trial 35 finished with value: 38.786762838791155 and parameters: {'num_leaves': 760, 'max_depth': 12, 'learning_rate': 0.07917084592404103, 'n_estimators': 6708, 'min_child_samples': 114, 'subsample': 0.19353198216998926, 'colsample_bytree': 0.32078556672577313, 'max_bin': 42046, 'reg_alpha': 0.012831257502485595, 'reg_lambda': 0.008943917909336036, 'min_split_gain': 0.5358740148838708}. Best is trial 31 with value: 38.783956741666614.\n"
     ]
    },
    {
     "name": "stderr",
     "output_type": "stream",
     "text": [
      "[I 2025-02-04 16:41:36,672] Trial 36 finished with value: 38.792472109264295 and parameters: {'num_leaves': 747, 'max_depth': 10, 'learning_rate': 0.07845655752950545, 'n_estimators': 6152, 'min_child_samples': 115, 'subsample': 0.19673598866500852, 'colsample_bytree': 0.31944864772213527, 'max_bin': 36598, 'reg_alpha': 0.013935293548226127, 'reg_lambda': 0.008203088328912526, 'min_split_gain': 0.5367656331476681}. Best is trial 31 with value: 38.783956741666614.\n"
     ]
    },
    {
     "name": "stdout",
     "output_type": "stream",
     "text": [
      "Trial 36 finished with value: 38.792472109264295 and parameters: {'num_leaves': 747, 'max_depth': 10, 'learning_rate': 0.07845655752950545, 'n_estimators': 6152, 'min_child_samples': 115, 'subsample': 0.19673598866500852, 'colsample_bytree': 0.31944864772213527, 'max_bin': 36598, 'reg_alpha': 0.013935293548226127, 'reg_lambda': 0.008203088328912526, 'min_split_gain': 0.5367656331476681}. Best is trial 31 with value: 38.783956741666614.\n",
      "Trial 36 finished with value: 38.792472109264295 and parameters: {'num_leaves': 747, 'max_depth': 10, 'learning_rate': 0.07845655752950545, 'n_estimators': 6152, 'min_child_samples': 115, 'subsample': 0.19673598866500852, 'colsample_bytree': 0.31944864772213527, 'max_bin': 36598, 'reg_alpha': 0.013935293548226127, 'reg_lambda': 0.008203088328912526, 'min_split_gain': 0.5367656331476681}. Best is trial 31 with value: 38.783956741666614.\n",
      "Trial 36 finished with value: 38.792472109264295 and parameters: {'num_leaves': 747, 'max_depth': 10, 'learning_rate': 0.07845655752950545, 'n_estimators': 6152, 'min_child_samples': 115, 'subsample': 0.19673598866500852, 'colsample_bytree': 0.31944864772213527, 'max_bin': 36598, 'reg_alpha': 0.013935293548226127, 'reg_lambda': 0.008203088328912526, 'min_split_gain': 0.5367656331476681}. Best is trial 31 with value: 38.783956741666614.\n"
     ]
    },
    {
     "name": "stderr",
     "output_type": "stream",
     "text": [
      "[I 2025-02-04 16:43:17,840] Trial 37 finished with value: 38.795359899211654 and parameters: {'num_leaves': 575, 'max_depth': 11, 'learning_rate': 0.07096755102511873, 'n_estimators': 14733, 'min_child_samples': 201, 'subsample': 0.19090025733407506, 'colsample_bytree': 0.33813822007482924, 'max_bin': 49996, 'reg_alpha': 0.028188562419427056, 'reg_lambda': 0.02022038239215079, 'min_split_gain': 0.5459359902831009}. Best is trial 31 with value: 38.783956741666614.\n"
     ]
    },
    {
     "name": "stdout",
     "output_type": "stream",
     "text": [
      "Trial 37 finished with value: 38.795359899211654 and parameters: {'num_leaves': 575, 'max_depth': 11, 'learning_rate': 0.07096755102511873, 'n_estimators': 14733, 'min_child_samples': 201, 'subsample': 0.19090025733407506, 'colsample_bytree': 0.33813822007482924, 'max_bin': 49996, 'reg_alpha': 0.028188562419427056, 'reg_lambda': 0.02022038239215079, 'min_split_gain': 0.5459359902831009}. Best is trial 31 with value: 38.783956741666614.\n",
      "Trial 37 finished with value: 38.795359899211654 and parameters: {'num_leaves': 575, 'max_depth': 11, 'learning_rate': 0.07096755102511873, 'n_estimators': 14733, 'min_child_samples': 201, 'subsample': 0.19090025733407506, 'colsample_bytree': 0.33813822007482924, 'max_bin': 49996, 'reg_alpha': 0.028188562419427056, 'reg_lambda': 0.02022038239215079, 'min_split_gain': 0.5459359902831009}. Best is trial 31 with value: 38.783956741666614.\n",
      "Trial 37 finished with value: 38.795359899211654 and parameters: {'num_leaves': 575, 'max_depth': 11, 'learning_rate': 0.07096755102511873, 'n_estimators': 14733, 'min_child_samples': 201, 'subsample': 0.19090025733407506, 'colsample_bytree': 0.33813822007482924, 'max_bin': 49996, 'reg_alpha': 0.028188562419427056, 'reg_lambda': 0.02022038239215079, 'min_split_gain': 0.5459359902831009}. Best is trial 31 with value: 38.783956741666614.\n"
     ]
    },
    {
     "name": "stderr",
     "output_type": "stream",
     "text": [
      "[I 2025-02-04 16:45:23,835] Trial 38 finished with value: 38.788791902561236 and parameters: {'num_leaves': 453, 'max_depth': 12, 'learning_rate': 0.06408429161074106, 'n_estimators': 7768, 'min_child_samples': 137, 'subsample': 0.17361327027604948, 'colsample_bytree': 0.32489248396841347, 'max_bin': 42332, 'reg_alpha': 0.017665155015324296, 'reg_lambda': 7.459324835115341e-05, 'min_split_gain': 0.5345277362215168}. Best is trial 31 with value: 38.783956741666614.\n"
     ]
    },
    {
     "name": "stdout",
     "output_type": "stream",
     "text": [
      "Trial 38 finished with value: 38.788791902561236 and parameters: {'num_leaves': 453, 'max_depth': 12, 'learning_rate': 0.06408429161074106, 'n_estimators': 7768, 'min_child_samples': 137, 'subsample': 0.17361327027604948, 'colsample_bytree': 0.32489248396841347, 'max_bin': 42332, 'reg_alpha': 0.017665155015324296, 'reg_lambda': 7.459324835115341e-05, 'min_split_gain': 0.5345277362215168}. Best is trial 31 with value: 38.783956741666614.\n",
      "Trial 38 finished with value: 38.788791902561236 and parameters: {'num_leaves': 453, 'max_depth': 12, 'learning_rate': 0.06408429161074106, 'n_estimators': 7768, 'min_child_samples': 137, 'subsample': 0.17361327027604948, 'colsample_bytree': 0.32489248396841347, 'max_bin': 42332, 'reg_alpha': 0.017665155015324296, 'reg_lambda': 7.459324835115341e-05, 'min_split_gain': 0.5345277362215168}. Best is trial 31 with value: 38.783956741666614.\n",
      "Trial 38 finished with value: 38.788791902561236 and parameters: {'num_leaves': 453, 'max_depth': 12, 'learning_rate': 0.06408429161074106, 'n_estimators': 7768, 'min_child_samples': 137, 'subsample': 0.17361327027604948, 'colsample_bytree': 0.32489248396841347, 'max_bin': 42332, 'reg_alpha': 0.017665155015324296, 'reg_lambda': 7.459324835115341e-05, 'min_split_gain': 0.5345277362215168}. Best is trial 31 with value: 38.783956741666614.\n"
     ]
    },
    {
     "name": "stderr",
     "output_type": "stream",
     "text": [
      "[I 2025-02-04 16:46:53,618] Trial 39 finished with value: 38.790724966426936 and parameters: {'num_leaves': 599, 'max_depth': 9, 'learning_rate': 0.08840126252553783, 'n_estimators': 11470, 'min_child_samples': 114, 'subsample': 0.2032973210680792, 'colsample_bytree': 0.3190918529790657, 'max_bin': 47230, 'reg_alpha': 0.04865408917761622, 'reg_lambda': 0.0008266468641954434, 'min_split_gain': 0.5377132655262009}. Best is trial 31 with value: 38.783956741666614.\n"
     ]
    },
    {
     "name": "stdout",
     "output_type": "stream",
     "text": [
      "Trial 39 finished with value: 38.790724966426936 and parameters: {'num_leaves': 599, 'max_depth': 9, 'learning_rate': 0.08840126252553783, 'n_estimators': 11470, 'min_child_samples': 114, 'subsample': 0.2032973210680792, 'colsample_bytree': 0.3190918529790657, 'max_bin': 47230, 'reg_alpha': 0.04865408917761622, 'reg_lambda': 0.0008266468641954434, 'min_split_gain': 0.5377132655262009}. Best is trial 31 with value: 38.783956741666614.\n",
      "Trial 39 finished with value: 38.790724966426936 and parameters: {'num_leaves': 599, 'max_depth': 9, 'learning_rate': 0.08840126252553783, 'n_estimators': 11470, 'min_child_samples': 114, 'subsample': 0.2032973210680792, 'colsample_bytree': 0.3190918529790657, 'max_bin': 47230, 'reg_alpha': 0.04865408917761622, 'reg_lambda': 0.0008266468641954434, 'min_split_gain': 0.5377132655262009}. Best is trial 31 with value: 38.783956741666614.\n",
      "Trial 39 finished with value: 38.790724966426936 and parameters: {'num_leaves': 599, 'max_depth': 9, 'learning_rate': 0.08840126252553783, 'n_estimators': 11470, 'min_child_samples': 114, 'subsample': 0.2032973210680792, 'colsample_bytree': 0.3190918529790657, 'max_bin': 47230, 'reg_alpha': 0.04865408917761622, 'reg_lambda': 0.0008266468641954434, 'min_split_gain': 0.5377132655262009}. Best is trial 31 with value: 38.783956741666614.\n"
     ]
    },
    {
     "name": "stderr",
     "output_type": "stream",
     "text": [
      "[I 2025-02-04 16:47:54,339] Trial 40 finished with value: 38.81714708090208 and parameters: {'num_leaves': 719, 'max_depth': 11, 'learning_rate': 0.0762581138682243, 'n_estimators': 12875, 'min_child_samples': 131, 'subsample': 0.15392620660682835, 'colsample_bytree': 0.3061731315431333, 'max_bin': 12535, 'reg_alpha': 0.013405816388449088, 'reg_lambda': 0.003558350566597763, 'min_split_gain': 0.5396171997341525}. Best is trial 31 with value: 38.783956741666614.\n"
     ]
    },
    {
     "name": "stdout",
     "output_type": "stream",
     "text": [
      "Trial 40 finished with value: 38.81714708090208 and parameters: {'num_leaves': 719, 'max_depth': 11, 'learning_rate': 0.0762581138682243, 'n_estimators': 12875, 'min_child_samples': 131, 'subsample': 0.15392620660682835, 'colsample_bytree': 0.3061731315431333, 'max_bin': 12535, 'reg_alpha': 0.013405816388449088, 'reg_lambda': 0.003558350566597763, 'min_split_gain': 0.5396171997341525}. Best is trial 31 with value: 38.783956741666614.\n",
      "Trial 40 finished with value: 38.81714708090208 and parameters: {'num_leaves': 719, 'max_depth': 11, 'learning_rate': 0.0762581138682243, 'n_estimators': 12875, 'min_child_samples': 131, 'subsample': 0.15392620660682835, 'colsample_bytree': 0.3061731315431333, 'max_bin': 12535, 'reg_alpha': 0.013405816388449088, 'reg_lambda': 0.003558350566597763, 'min_split_gain': 0.5396171997341525}. Best is trial 31 with value: 38.783956741666614.\n",
      "Trial 40 finished with value: 38.81714708090208 and parameters: {'num_leaves': 719, 'max_depth': 11, 'learning_rate': 0.0762581138682243, 'n_estimators': 12875, 'min_child_samples': 131, 'subsample': 0.15392620660682835, 'colsample_bytree': 0.3061731315431333, 'max_bin': 12535, 'reg_alpha': 0.013405816388449088, 'reg_lambda': 0.003558350566597763, 'min_split_gain': 0.5396171997341525}. Best is trial 31 with value: 38.783956741666614.\n"
     ]
    },
    {
     "name": "stderr",
     "output_type": "stream",
     "text": [
      "[I 2025-02-04 16:49:21,989] Trial 41 finished with value: 38.787129932443634 and parameters: {'num_leaves': 854, 'max_depth': 12, 'learning_rate': 0.1055872536513291, 'n_estimators': 5269, 'min_child_samples': 100, 'subsample': 0.19560712817271747, 'colsample_bytree': 0.29663600182950883, 'max_bin': 40133, 'reg_alpha': 0.01009899924262916, 'reg_lambda': 1.2477613764184906e-06, 'min_split_gain': 0.5299510373186879}. Best is trial 31 with value: 38.783956741666614.\n"
     ]
    },
    {
     "name": "stdout",
     "output_type": "stream",
     "text": [
      "Trial 41 finished with value: 38.787129932443634 and parameters: {'num_leaves': 854, 'max_depth': 12, 'learning_rate': 0.1055872536513291, 'n_estimators': 5269, 'min_child_samples': 100, 'subsample': 0.19560712817271747, 'colsample_bytree': 0.29663600182950883, 'max_bin': 40133, 'reg_alpha': 0.01009899924262916, 'reg_lambda': 1.2477613764184906e-06, 'min_split_gain': 0.5299510373186879}. Best is trial 31 with value: 38.783956741666614.\n",
      "Trial 41 finished with value: 38.787129932443634 and parameters: {'num_leaves': 854, 'max_depth': 12, 'learning_rate': 0.1055872536513291, 'n_estimators': 5269, 'min_child_samples': 100, 'subsample': 0.19560712817271747, 'colsample_bytree': 0.29663600182950883, 'max_bin': 40133, 'reg_alpha': 0.01009899924262916, 'reg_lambda': 1.2477613764184906e-06, 'min_split_gain': 0.5299510373186879}. Best is trial 31 with value: 38.783956741666614.\n",
      "Trial 41 finished with value: 38.787129932443634 and parameters: {'num_leaves': 854, 'max_depth': 12, 'learning_rate': 0.1055872536513291, 'n_estimators': 5269, 'min_child_samples': 100, 'subsample': 0.19560712817271747, 'colsample_bytree': 0.29663600182950883, 'max_bin': 40133, 'reg_alpha': 0.01009899924262916, 'reg_lambda': 1.2477613764184906e-06, 'min_split_gain': 0.5299510373186879}. Best is trial 31 with value: 38.783956741666614.\n"
     ]
    },
    {
     "name": "stderr",
     "output_type": "stream",
     "text": [
      "[I 2025-02-04 16:50:58,516] Trial 42 finished with value: 38.7860881770381 and parameters: {'num_leaves': 789, 'max_depth': 12, 'learning_rate': 0.08144517464360265, 'n_estimators': 5315, 'min_child_samples': 101, 'subsample': 0.1960021726164062, 'colsample_bytree': 0.2984000065263115, 'max_bin': 47584, 'reg_alpha': 0.012032849550327605, 'reg_lambda': 5.676146295287238e-07, 'min_split_gain': 0.5202230322239975}. Best is trial 31 with value: 38.783956741666614.\n"
     ]
    },
    {
     "name": "stdout",
     "output_type": "stream",
     "text": [
      "Trial 42 finished with value: 38.7860881770381 and parameters: {'num_leaves': 789, 'max_depth': 12, 'learning_rate': 0.08144517464360265, 'n_estimators': 5315, 'min_child_samples': 101, 'subsample': 0.1960021726164062, 'colsample_bytree': 0.2984000065263115, 'max_bin': 47584, 'reg_alpha': 0.012032849550327605, 'reg_lambda': 5.676146295287238e-07, 'min_split_gain': 0.5202230322239975}. Best is trial 31 with value: 38.783956741666614.\n",
      "Trial 42 finished with value: 38.7860881770381 and parameters: {'num_leaves': 789, 'max_depth': 12, 'learning_rate': 0.08144517464360265, 'n_estimators': 5315, 'min_child_samples': 101, 'subsample': 0.1960021726164062, 'colsample_bytree': 0.2984000065263115, 'max_bin': 47584, 'reg_alpha': 0.012032849550327605, 'reg_lambda': 5.676146295287238e-07, 'min_split_gain': 0.5202230322239975}. Best is trial 31 with value: 38.783956741666614.\n",
      "Trial 42 finished with value: 38.7860881770381 and parameters: {'num_leaves': 789, 'max_depth': 12, 'learning_rate': 0.08144517464360265, 'n_estimators': 5315, 'min_child_samples': 101, 'subsample': 0.1960021726164062, 'colsample_bytree': 0.2984000065263115, 'max_bin': 47584, 'reg_alpha': 0.012032849550327605, 'reg_lambda': 5.676146295287238e-07, 'min_split_gain': 0.5202230322239975}. Best is trial 31 with value: 38.783956741666614.\n"
     ]
    },
    {
     "name": "stderr",
     "output_type": "stream",
     "text": [
      "[I 2025-02-04 16:52:38,163] Trial 43 finished with value: 38.78919196944045 and parameters: {'num_leaves': 498, 'max_depth': 12, 'learning_rate': 0.08211605932621809, 'n_estimators': 4918, 'min_child_samples': 113, 'subsample': 0.18125109058384556, 'colsample_bytree': 0.31398059393746736, 'max_bin': 47738, 'reg_alpha': 0.024952017303511678, 'reg_lambda': 0.0003822298412496751, 'min_split_gain': 0.5171080863595207}. Best is trial 31 with value: 38.783956741666614.\n"
     ]
    },
    {
     "name": "stdout",
     "output_type": "stream",
     "text": [
      "Trial 43 finished with value: 38.78919196944045 and parameters: {'num_leaves': 498, 'max_depth': 12, 'learning_rate': 0.08211605932621809, 'n_estimators': 4918, 'min_child_samples': 113, 'subsample': 0.18125109058384556, 'colsample_bytree': 0.31398059393746736, 'max_bin': 47738, 'reg_alpha': 0.024952017303511678, 'reg_lambda': 0.0003822298412496751, 'min_split_gain': 0.5171080863595207}. Best is trial 31 with value: 38.783956741666614.\n",
      "Trial 43 finished with value: 38.78919196944045 and parameters: {'num_leaves': 498, 'max_depth': 12, 'learning_rate': 0.08211605932621809, 'n_estimators': 4918, 'min_child_samples': 113, 'subsample': 0.18125109058384556, 'colsample_bytree': 0.31398059393746736, 'max_bin': 47738, 'reg_alpha': 0.024952017303511678, 'reg_lambda': 0.0003822298412496751, 'min_split_gain': 0.5171080863595207}. Best is trial 31 with value: 38.783956741666614.\n",
      "Trial 43 finished with value: 38.78919196944045 and parameters: {'num_leaves': 498, 'max_depth': 12, 'learning_rate': 0.08211605932621809, 'n_estimators': 4918, 'min_child_samples': 113, 'subsample': 0.18125109058384556, 'colsample_bytree': 0.31398059393746736, 'max_bin': 47738, 'reg_alpha': 0.024952017303511678, 'reg_lambda': 0.0003822298412496751, 'min_split_gain': 0.5171080863595207}. Best is trial 31 with value: 38.783956741666614.\n"
     ]
    },
    {
     "name": "stderr",
     "output_type": "stream",
     "text": [
      "[I 2025-02-04 16:54:19,046] Trial 44 finished with value: 38.79107693094595 and parameters: {'num_leaves': 772, 'max_depth': 11, 'learning_rate': 0.07103410265236132, 'n_estimators': 6477, 'min_child_samples': 122, 'subsample': 0.19004823205332333, 'colsample_bytree': 0.2979741610927467, 'max_bin': 44652, 'reg_alpha': 0.11790538463964438, 'reg_lambda': 7.537040082584095e-06, 'min_split_gain': 0.5210241660217994}. Best is trial 31 with value: 38.783956741666614.\n"
     ]
    },
    {
     "name": "stdout",
     "output_type": "stream",
     "text": [
      "Trial 44 finished with value: 38.79107693094595 and parameters: {'num_leaves': 772, 'max_depth': 11, 'learning_rate': 0.07103410265236132, 'n_estimators': 6477, 'min_child_samples': 122, 'subsample': 0.19004823205332333, 'colsample_bytree': 0.2979741610927467, 'max_bin': 44652, 'reg_alpha': 0.11790538463964438, 'reg_lambda': 7.537040082584095e-06, 'min_split_gain': 0.5210241660217994}. Best is trial 31 with value: 38.783956741666614.\n",
      "Trial 44 finished with value: 38.79107693094595 and parameters: {'num_leaves': 772, 'max_depth': 11, 'learning_rate': 0.07103410265236132, 'n_estimators': 6477, 'min_child_samples': 122, 'subsample': 0.19004823205332333, 'colsample_bytree': 0.2979741610927467, 'max_bin': 44652, 'reg_alpha': 0.11790538463964438, 'reg_lambda': 7.537040082584095e-06, 'min_split_gain': 0.5210241660217994}. Best is trial 31 with value: 38.783956741666614.\n",
      "Trial 44 finished with value: 38.79107693094595 and parameters: {'num_leaves': 772, 'max_depth': 11, 'learning_rate': 0.07103410265236132, 'n_estimators': 6477, 'min_child_samples': 122, 'subsample': 0.19004823205332333, 'colsample_bytree': 0.2979741610927467, 'max_bin': 44652, 'reg_alpha': 0.11790538463964438, 'reg_lambda': 7.537040082584095e-06, 'min_split_gain': 0.5210241660217994}. Best is trial 31 with value: 38.783956741666614.\n"
     ]
    },
    {
     "name": "stderr",
     "output_type": "stream",
     "text": [
      "[I 2025-02-04 16:55:27,393] Trial 45 finished with value: 38.80207488579737 and parameters: {'num_leaves': 661, 'max_depth': 12, 'learning_rate': 0.08025014413984789, 'n_estimators': 8529, 'min_child_samples': 147, 'subsample': 0.20793816274511004, 'colsample_bytree': 0.33187333661550955, 'max_bin': 23329, 'reg_alpha': 0.019482119776428213, 'reg_lambda': 0.0016163442420605934, 'min_split_gain': 0.5096433660458866}. Best is trial 31 with value: 38.783956741666614.\n"
     ]
    },
    {
     "name": "stdout",
     "output_type": "stream",
     "text": [
      "Trial 45 finished with value: 38.80207488579737 and parameters: {'num_leaves': 661, 'max_depth': 12, 'learning_rate': 0.08025014413984789, 'n_estimators': 8529, 'min_child_samples': 147, 'subsample': 0.20793816274511004, 'colsample_bytree': 0.33187333661550955, 'max_bin': 23329, 'reg_alpha': 0.019482119776428213, 'reg_lambda': 0.0016163442420605934, 'min_split_gain': 0.5096433660458866}. Best is trial 31 with value: 38.783956741666614.\n",
      "Trial 45 finished with value: 38.80207488579737 and parameters: {'num_leaves': 661, 'max_depth': 12, 'learning_rate': 0.08025014413984789, 'n_estimators': 8529, 'min_child_samples': 147, 'subsample': 0.20793816274511004, 'colsample_bytree': 0.33187333661550955, 'max_bin': 23329, 'reg_alpha': 0.019482119776428213, 'reg_lambda': 0.0016163442420605934, 'min_split_gain': 0.5096433660458866}. Best is trial 31 with value: 38.783956741666614.\n",
      "Trial 45 finished with value: 38.80207488579737 and parameters: {'num_leaves': 661, 'max_depth': 12, 'learning_rate': 0.08025014413984789, 'n_estimators': 8529, 'min_child_samples': 147, 'subsample': 0.20793816274511004, 'colsample_bytree': 0.33187333661550955, 'max_bin': 23329, 'reg_alpha': 0.019482119776428213, 'reg_lambda': 0.0016163442420605934, 'min_split_gain': 0.5096433660458866}. Best is trial 31 with value: 38.783956741666614.\n"
     ]
    },
    {
     "name": "stderr",
     "output_type": "stream",
     "text": [
      "[I 2025-02-04 16:56:18,652] Trial 46 finished with value: 38.79124674464232 and parameters: {'num_leaves': 567, 'max_depth': 10, 'learning_rate': 0.14919564054828982, 'n_estimators': 9885, 'min_child_samples': 109, 'subsample': 0.18502028059731304, 'colsample_bytree': 0.2913460700846778, 'max_bin': 47920, 'reg_alpha': 0.011802994485043837, 'reg_lambda': 0.00011208872400365695, 'min_split_gain': 0.518923086903946}. Best is trial 31 with value: 38.783956741666614.\n"
     ]
    },
    {
     "name": "stdout",
     "output_type": "stream",
     "text": [
      "Trial 46 finished with value: 38.79124674464232 and parameters: {'num_leaves': 567, 'max_depth': 10, 'learning_rate': 0.14919564054828982, 'n_estimators': 9885, 'min_child_samples': 109, 'subsample': 0.18502028059731304, 'colsample_bytree': 0.2913460700846778, 'max_bin': 47920, 'reg_alpha': 0.011802994485043837, 'reg_lambda': 0.00011208872400365695, 'min_split_gain': 0.518923086903946}. Best is trial 31 with value: 38.783956741666614.\n",
      "Trial 46 finished with value: 38.79124674464232 and parameters: {'num_leaves': 567, 'max_depth': 10, 'learning_rate': 0.14919564054828982, 'n_estimators': 9885, 'min_child_samples': 109, 'subsample': 0.18502028059731304, 'colsample_bytree': 0.2913460700846778, 'max_bin': 47920, 'reg_alpha': 0.011802994485043837, 'reg_lambda': 0.00011208872400365695, 'min_split_gain': 0.518923086903946}. Best is trial 31 with value: 38.783956741666614.\n",
      "Trial 46 finished with value: 38.79124674464232 and parameters: {'num_leaves': 567, 'max_depth': 10, 'learning_rate': 0.14919564054828982, 'n_estimators': 9885, 'min_child_samples': 109, 'subsample': 0.18502028059731304, 'colsample_bytree': 0.2913460700846778, 'max_bin': 47920, 'reg_alpha': 0.011802994485043837, 'reg_lambda': 0.00011208872400365695, 'min_split_gain': 0.518923086903946}. Best is trial 31 with value: 38.783956741666614.\n"
     ]
    },
    {
     "name": "stderr",
     "output_type": "stream",
     "text": [
      "[I 2025-02-04 16:58:21,250] Trial 47 finished with value: 38.7887382416345 and parameters: {'num_leaves': 1915, 'max_depth': 12, 'learning_rate': 0.05586030569092263, 'n_estimators': 19068, 'min_child_samples': 120, 'subsample': 0.197807098363482, 'colsample_bytree': 0.3059680989590157, 'max_bin': 38580, 'reg_alpha': 0.033103072351161826, 'reg_lambda': 7.208277423091038e-07, 'min_split_gain': 0.5331906545188253}. Best is trial 31 with value: 38.783956741666614.\n"
     ]
    },
    {
     "name": "stdout",
     "output_type": "stream",
     "text": [
      "Trial 47 finished with value: 38.7887382416345 and parameters: {'num_leaves': 1915, 'max_depth': 12, 'learning_rate': 0.05586030569092263, 'n_estimators': 19068, 'min_child_samples': 120, 'subsample': 0.197807098363482, 'colsample_bytree': 0.3059680989590157, 'max_bin': 38580, 'reg_alpha': 0.033103072351161826, 'reg_lambda': 7.208277423091038e-07, 'min_split_gain': 0.5331906545188253}. Best is trial 31 with value: 38.783956741666614.\n",
      "Trial 47 finished with value: 38.7887382416345 and parameters: {'num_leaves': 1915, 'max_depth': 12, 'learning_rate': 0.05586030569092263, 'n_estimators': 19068, 'min_child_samples': 120, 'subsample': 0.197807098363482, 'colsample_bytree': 0.3059680989590157, 'max_bin': 38580, 'reg_alpha': 0.033103072351161826, 'reg_lambda': 7.208277423091038e-07, 'min_split_gain': 0.5331906545188253}. Best is trial 31 with value: 38.783956741666614.\n",
      "Trial 47 finished with value: 38.7887382416345 and parameters: {'num_leaves': 1915, 'max_depth': 12, 'learning_rate': 0.05586030569092263, 'n_estimators': 19068, 'min_child_samples': 120, 'subsample': 0.197807098363482, 'colsample_bytree': 0.3059680989590157, 'max_bin': 38580, 'reg_alpha': 0.033103072351161826, 'reg_lambda': 7.208277423091038e-07, 'min_split_gain': 0.5331906545188253}. Best is trial 31 with value: 38.783956741666614.\n"
     ]
    },
    {
     "name": "stderr",
     "output_type": "stream",
     "text": [
      "[I 2025-02-04 17:00:08,486] Trial 48 finished with value: 38.79793697606157 and parameters: {'num_leaves': 1026, 'max_depth': 11, 'learning_rate': 0.07349285739287606, 'n_estimators': 6736, 'min_child_samples': 226, 'subsample': 0.1723258936801395, 'colsample_bytree': 0.3150960977769042, 'max_bin': 42532, 'reg_alpha': 0.012614071976242624, 'reg_lambda': 0.014203938779004005, 'min_split_gain': 0.5279722375549875}. Best is trial 31 with value: 38.783956741666614.\n"
     ]
    },
    {
     "name": "stdout",
     "output_type": "stream",
     "text": [
      "Trial 48 finished with value: 38.79793697606157 and parameters: {'num_leaves': 1026, 'max_depth': 11, 'learning_rate': 0.07349285739287606, 'n_estimators': 6736, 'min_child_samples': 226, 'subsample': 0.1723258936801395, 'colsample_bytree': 0.3150960977769042, 'max_bin': 42532, 'reg_alpha': 0.012614071976242624, 'reg_lambda': 0.014203938779004005, 'min_split_gain': 0.5279722375549875}. Best is trial 31 with value: 38.783956741666614.\n",
      "Trial 48 finished with value: 38.79793697606157 and parameters: {'num_leaves': 1026, 'max_depth': 11, 'learning_rate': 0.07349285739287606, 'n_estimators': 6736, 'min_child_samples': 226, 'subsample': 0.1723258936801395, 'colsample_bytree': 0.3150960977769042, 'max_bin': 42532, 'reg_alpha': 0.012614071976242624, 'reg_lambda': 0.014203938779004005, 'min_split_gain': 0.5279722375549875}. Best is trial 31 with value: 38.783956741666614.\n",
      "Trial 48 finished with value: 38.79793697606157 and parameters: {'num_leaves': 1026, 'max_depth': 11, 'learning_rate': 0.07349285739287606, 'n_estimators': 6736, 'min_child_samples': 226, 'subsample': 0.1723258936801395, 'colsample_bytree': 0.3150960977769042, 'max_bin': 42532, 'reg_alpha': 0.012614071976242624, 'reg_lambda': 0.014203938779004005, 'min_split_gain': 0.5279722375549875}. Best is trial 31 with value: 38.783956741666614.\n"
     ]
    },
    {
     "name": "stderr",
     "output_type": "stream",
     "text": [
      "[I 2025-02-04 17:01:45,240] Trial 49 finished with value: 38.800157961774595 and parameters: {'num_leaves': 1094, 'max_depth': 11, 'learning_rate': 0.08692143362305385, 'n_estimators': 4786, 'min_child_samples': 274, 'subsample': 0.20347285555782302, 'colsample_bytree': 0.3217891556352112, 'max_bin': 45446, 'reg_alpha': 0.016265864269621906, 'reg_lambda': 2.2229724886632678e-06, 'min_split_gain': 0.5131745753716289}. Best is trial 31 with value: 38.783956741666614.\n"
     ]
    },
    {
     "name": "stdout",
     "output_type": "stream",
     "text": [
      "Trial 49 finished with value: 38.800157961774595 and parameters: {'num_leaves': 1094, 'max_depth': 11, 'learning_rate': 0.08692143362305385, 'n_estimators': 4786, 'min_child_samples': 274, 'subsample': 0.20347285555782302, 'colsample_bytree': 0.3217891556352112, 'max_bin': 45446, 'reg_alpha': 0.016265864269621906, 'reg_lambda': 2.2229724886632678e-06, 'min_split_gain': 0.5131745753716289}. Best is trial 31 with value: 38.783956741666614.\n",
      "Trial 49 finished with value: 38.800157961774595 and parameters: {'num_leaves': 1094, 'max_depth': 11, 'learning_rate': 0.08692143362305385, 'n_estimators': 4786, 'min_child_samples': 274, 'subsample': 0.20347285555782302, 'colsample_bytree': 0.3217891556352112, 'max_bin': 45446, 'reg_alpha': 0.016265864269621906, 'reg_lambda': 2.2229724886632678e-06, 'min_split_gain': 0.5131745753716289}. Best is trial 31 with value: 38.783956741666614.\n",
      "Trial 49 finished with value: 38.800157961774595 and parameters: {'num_leaves': 1094, 'max_depth': 11, 'learning_rate': 0.08692143362305385, 'n_estimators': 4786, 'min_child_samples': 274, 'subsample': 0.20347285555782302, 'colsample_bytree': 0.3217891556352112, 'max_bin': 45446, 'reg_alpha': 0.016265864269621906, 'reg_lambda': 2.2229724886632678e-06, 'min_split_gain': 0.5131745753716289}. Best is trial 31 with value: 38.783956741666614.\n"
     ]
    }
   ],
   "source": [
    "def objective(trial):    \n",
    "    # Define the hyperparameter search space\n",
    "    param = {\n",
    "        'objective': 'regression',\n",
    "        'metric': 'rmse',\n",
    "        'num_leaves': trial.suggest_int('num_leaves', 400, 2000),\n",
    "        'max_depth': trial.suggest_int('max_depth', 6, 12),\n",
    "        'learning_rate': trial.suggest_loguniform('learning_rate', .05, 0.15),\n",
    "        'n_estimators': trial.suggest_int('n_estimators', 4000, 20000),\n",
    "        'min_child_samples': trial.suggest_int('min_child_samples', 100, 300),\n",
    "        'subsample': trial.suggest_float('subsample', 0.15, .25),\n",
    "        'colsample_bytree': trial.suggest_float('colsample_bytree', 0.25, .35),\n",
    "        'max_bin': trial.suggest_int('max_bin', 500, 50000),\n",
    "        'reg_alpha': trial.suggest_loguniform('reg_alpha', 0.01, 1.0),\n",
    "        'reg_lambda': trial.suggest_loguniform('reg_lambda', 1e-8, .05),\n",
    "        'min_split_gain': trial.suggest_float('min_split_gain', 0.5, 0.55),\n",
    "        'random_state': 42,\n",
    "        'early_stopping_rounds': 50,\n",
    "        'verbosity': -1,\n",
    "    }\n",
    "    \n",
    "    train_data = lgb.Dataset(X_train, label=y_train)\n",
    "    valid_data = lgb.Dataset(X_valid, label=y_valid, reference=train_data)\n",
    "    \n",
    "    # Initialize the model with these parameters\n",
    "    model = lgb.train(param, train_data, num_boost_round=300, valid_sets=[valid_data])\n",
    "    y_pred = model.predict(X_valid, num_iteration=model.best_iteration)\n",
    "    rmse = np.sqrt(mean_squared_error(y_valid, y_pred))    \n",
    "    return rmse\n",
    "\n",
    "optuna.logging.get_logger(\"optuna\").addHandler(logging.StreamHandler(sys.stdout))\n",
    "study_name = datetime.now().strftime(\"%Y-%m-%d_%H-%M-%S\")\n",
    "storage_name = f\"sqlite:///{os.path.join(optuna_dir, study_name)}.db\"\n",
    "study = optuna.create_study(study_name=study_name, storage=storage_name, direction='minimize')\n",
    "study.optimize(objective, n_trials=50)"
   ]
  },
  {
   "cell_type": "code",
   "execution_count": 43,
   "metadata": {},
   "outputs": [
    {
     "name": "stderr",
     "output_type": "stream",
     "text": [
      "[I 2025-02-04 18:04:48,586] A new study created in RDB with name: 2025-02-04_18-04-48\n"
     ]
    },
    {
     "name": "stdout",
     "output_type": "stream",
     "text": [
      "A new study created in RDB with name: 2025-02-04_18-04-48\n",
      "A new study created in RDB with name: 2025-02-04_18-04-48\n",
      "A new study created in RDB with name: 2025-02-04_18-04-48\n",
      "A new study created in RDB with name: 2025-02-04_18-04-48\n"
     ]
    },
    {
     "name": "stderr",
     "output_type": "stream",
     "text": [
      "[I 2025-02-04 18:07:02,563] Trial 0 finished with value: 38.79268120437156 and parameters: {'num_leaves': 900, 'max_depth': 7, 'learning_rate': 0.07402284243468071, 'n_estimators': 18766, 'min_child_samples': 180, 'subsample': 0.24130004303826283, 'colsample_bytree': 0.32471032025816254, 'max_bin': 103611, 'reg_alpha': 0.02755403498073013, 'reg_lambda': 7.591743151627048e-07, 'min_split_gain': 0.5049832980500218}. Best is trial 0 with value: 38.79268120437156.\n"
     ]
    },
    {
     "name": "stdout",
     "output_type": "stream",
     "text": [
      "Trial 0 finished with value: 38.79268120437156 and parameters: {'num_leaves': 900, 'max_depth': 7, 'learning_rate': 0.07402284243468071, 'n_estimators': 18766, 'min_child_samples': 180, 'subsample': 0.24130004303826283, 'colsample_bytree': 0.32471032025816254, 'max_bin': 103611, 'reg_alpha': 0.02755403498073013, 'reg_lambda': 7.591743151627048e-07, 'min_split_gain': 0.5049832980500218}. Best is trial 0 with value: 38.79268120437156.\n",
      "Trial 0 finished with value: 38.79268120437156 and parameters: {'num_leaves': 900, 'max_depth': 7, 'learning_rate': 0.07402284243468071, 'n_estimators': 18766, 'min_child_samples': 180, 'subsample': 0.24130004303826283, 'colsample_bytree': 0.32471032025816254, 'max_bin': 103611, 'reg_alpha': 0.02755403498073013, 'reg_lambda': 7.591743151627048e-07, 'min_split_gain': 0.5049832980500218}. Best is trial 0 with value: 38.79268120437156.\n",
      "Trial 0 finished with value: 38.79268120437156 and parameters: {'num_leaves': 900, 'max_depth': 7, 'learning_rate': 0.07402284243468071, 'n_estimators': 18766, 'min_child_samples': 180, 'subsample': 0.24130004303826283, 'colsample_bytree': 0.32471032025816254, 'max_bin': 103611, 'reg_alpha': 0.02755403498073013, 'reg_lambda': 7.591743151627048e-07, 'min_split_gain': 0.5049832980500218}. Best is trial 0 with value: 38.79268120437156.\n",
      "Trial 0 finished with value: 38.79268120437156 and parameters: {'num_leaves': 900, 'max_depth': 7, 'learning_rate': 0.07402284243468071, 'n_estimators': 18766, 'min_child_samples': 180, 'subsample': 0.24130004303826283, 'colsample_bytree': 0.32471032025816254, 'max_bin': 103611, 'reg_alpha': 0.02755403498073013, 'reg_lambda': 7.591743151627048e-07, 'min_split_gain': 0.5049832980500218}. Best is trial 0 with value: 38.79268120437156.\n"
     ]
    },
    {
     "name": "stderr",
     "output_type": "stream",
     "text": [
      "[I 2025-02-04 18:08:36,091] Trial 1 finished with value: 38.790845302392725 and parameters: {'num_leaves': 777, 'max_depth': 10, 'learning_rate': 0.10623985305056836, 'n_estimators': 12818, 'min_child_samples': 188, 'subsample': 0.1728888206430606, 'colsample_bytree': 0.25786429616592194, 'max_bin': 86960, 'reg_alpha': 0.01052849638568877, 'reg_lambda': 4.5037316336291763e-08, 'min_split_gain': 0.5285121838734385}. Best is trial 1 with value: 38.790845302392725.\n"
     ]
    },
    {
     "name": "stdout",
     "output_type": "stream",
     "text": [
      "Trial 1 finished with value: 38.790845302392725 and parameters: {'num_leaves': 777, 'max_depth': 10, 'learning_rate': 0.10623985305056836, 'n_estimators': 12818, 'min_child_samples': 188, 'subsample': 0.1728888206430606, 'colsample_bytree': 0.25786429616592194, 'max_bin': 86960, 'reg_alpha': 0.01052849638568877, 'reg_lambda': 4.5037316336291763e-08, 'min_split_gain': 0.5285121838734385}. Best is trial 1 with value: 38.790845302392725.\n",
      "Trial 1 finished with value: 38.790845302392725 and parameters: {'num_leaves': 777, 'max_depth': 10, 'learning_rate': 0.10623985305056836, 'n_estimators': 12818, 'min_child_samples': 188, 'subsample': 0.1728888206430606, 'colsample_bytree': 0.25786429616592194, 'max_bin': 86960, 'reg_alpha': 0.01052849638568877, 'reg_lambda': 4.5037316336291763e-08, 'min_split_gain': 0.5285121838734385}. Best is trial 1 with value: 38.790845302392725.\n",
      "Trial 1 finished with value: 38.790845302392725 and parameters: {'num_leaves': 777, 'max_depth': 10, 'learning_rate': 0.10623985305056836, 'n_estimators': 12818, 'min_child_samples': 188, 'subsample': 0.1728888206430606, 'colsample_bytree': 0.25786429616592194, 'max_bin': 86960, 'reg_alpha': 0.01052849638568877, 'reg_lambda': 4.5037316336291763e-08, 'min_split_gain': 0.5285121838734385}. Best is trial 1 with value: 38.790845302392725.\n",
      "Trial 1 finished with value: 38.790845302392725 and parameters: {'num_leaves': 777, 'max_depth': 10, 'learning_rate': 0.10623985305056836, 'n_estimators': 12818, 'min_child_samples': 188, 'subsample': 0.1728888206430606, 'colsample_bytree': 0.25786429616592194, 'max_bin': 86960, 'reg_alpha': 0.01052849638568877, 'reg_lambda': 4.5037316336291763e-08, 'min_split_gain': 0.5285121838734385}. Best is trial 1 with value: 38.790845302392725.\n"
     ]
    },
    {
     "name": "stderr",
     "output_type": "stream",
     "text": [
      "[I 2025-02-04 18:09:52,867] Trial 2 finished with value: 38.790455542659764 and parameters: {'num_leaves': 456, 'max_depth': 12, 'learning_rate': 0.09932796227288054, 'n_estimators': 6511, 'min_child_samples': 35, 'subsample': 0.20968120120057215, 'colsample_bytree': 0.3150307493289358, 'max_bin': 166199, 'reg_alpha': 0.13981519344025314, 'reg_lambda': 1.8575280578639935e-06, 'min_split_gain': 0.5005336842604409}. Best is trial 2 with value: 38.790455542659764.\n"
     ]
    },
    {
     "name": "stdout",
     "output_type": "stream",
     "text": [
      "Trial 2 finished with value: 38.790455542659764 and parameters: {'num_leaves': 456, 'max_depth': 12, 'learning_rate': 0.09932796227288054, 'n_estimators': 6511, 'min_child_samples': 35, 'subsample': 0.20968120120057215, 'colsample_bytree': 0.3150307493289358, 'max_bin': 166199, 'reg_alpha': 0.13981519344025314, 'reg_lambda': 1.8575280578639935e-06, 'min_split_gain': 0.5005336842604409}. Best is trial 2 with value: 38.790455542659764.\n",
      "Trial 2 finished with value: 38.790455542659764 and parameters: {'num_leaves': 456, 'max_depth': 12, 'learning_rate': 0.09932796227288054, 'n_estimators': 6511, 'min_child_samples': 35, 'subsample': 0.20968120120057215, 'colsample_bytree': 0.3150307493289358, 'max_bin': 166199, 'reg_alpha': 0.13981519344025314, 'reg_lambda': 1.8575280578639935e-06, 'min_split_gain': 0.5005336842604409}. Best is trial 2 with value: 38.790455542659764.\n",
      "Trial 2 finished with value: 38.790455542659764 and parameters: {'num_leaves': 456, 'max_depth': 12, 'learning_rate': 0.09932796227288054, 'n_estimators': 6511, 'min_child_samples': 35, 'subsample': 0.20968120120057215, 'colsample_bytree': 0.3150307493289358, 'max_bin': 166199, 'reg_alpha': 0.13981519344025314, 'reg_lambda': 1.8575280578639935e-06, 'min_split_gain': 0.5005336842604409}. Best is trial 2 with value: 38.790455542659764.\n",
      "Trial 2 finished with value: 38.790455542659764 and parameters: {'num_leaves': 456, 'max_depth': 12, 'learning_rate': 0.09932796227288054, 'n_estimators': 6511, 'min_child_samples': 35, 'subsample': 0.20968120120057215, 'colsample_bytree': 0.3150307493289358, 'max_bin': 166199, 'reg_alpha': 0.13981519344025314, 'reg_lambda': 1.8575280578639935e-06, 'min_split_gain': 0.5005336842604409}. Best is trial 2 with value: 38.790455542659764.\n"
     ]
    },
    {
     "name": "stderr",
     "output_type": "stream",
     "text": [
      "[I 2025-02-04 18:12:48,792] Trial 3 finished with value: 38.783959764441875 and parameters: {'num_leaves': 1311, 'max_depth': 8, 'learning_rate': 0.05247181379385897, 'n_estimators': 6545, 'min_child_samples': 24, 'subsample': 0.19289848978662524, 'colsample_bytree': 0.3018424614211126, 'max_bin': 133257, 'reg_alpha': 0.13531985599745755, 'reg_lambda': 0.003422657648530986, 'min_split_gain': 0.5125398844439261}. Best is trial 3 with value: 38.783959764441875.\n"
     ]
    },
    {
     "name": "stdout",
     "output_type": "stream",
     "text": [
      "Trial 3 finished with value: 38.783959764441875 and parameters: {'num_leaves': 1311, 'max_depth': 8, 'learning_rate': 0.05247181379385897, 'n_estimators': 6545, 'min_child_samples': 24, 'subsample': 0.19289848978662524, 'colsample_bytree': 0.3018424614211126, 'max_bin': 133257, 'reg_alpha': 0.13531985599745755, 'reg_lambda': 0.003422657648530986, 'min_split_gain': 0.5125398844439261}. Best is trial 3 with value: 38.783959764441875.\n",
      "Trial 3 finished with value: 38.783959764441875 and parameters: {'num_leaves': 1311, 'max_depth': 8, 'learning_rate': 0.05247181379385897, 'n_estimators': 6545, 'min_child_samples': 24, 'subsample': 0.19289848978662524, 'colsample_bytree': 0.3018424614211126, 'max_bin': 133257, 'reg_alpha': 0.13531985599745755, 'reg_lambda': 0.003422657648530986, 'min_split_gain': 0.5125398844439261}. Best is trial 3 with value: 38.783959764441875.\n",
      "Trial 3 finished with value: 38.783959764441875 and parameters: {'num_leaves': 1311, 'max_depth': 8, 'learning_rate': 0.05247181379385897, 'n_estimators': 6545, 'min_child_samples': 24, 'subsample': 0.19289848978662524, 'colsample_bytree': 0.3018424614211126, 'max_bin': 133257, 'reg_alpha': 0.13531985599745755, 'reg_lambda': 0.003422657648530986, 'min_split_gain': 0.5125398844439261}. Best is trial 3 with value: 38.783959764441875.\n",
      "Trial 3 finished with value: 38.783959764441875 and parameters: {'num_leaves': 1311, 'max_depth': 8, 'learning_rate': 0.05247181379385897, 'n_estimators': 6545, 'min_child_samples': 24, 'subsample': 0.19289848978662524, 'colsample_bytree': 0.3018424614211126, 'max_bin': 133257, 'reg_alpha': 0.13531985599745755, 'reg_lambda': 0.003422657648530986, 'min_split_gain': 0.5125398844439261}. Best is trial 3 with value: 38.783959764441875.\n"
     ]
    },
    {
     "name": "stderr",
     "output_type": "stream",
     "text": [
      "[I 2025-02-04 18:14:08,702] Trial 4 finished with value: 38.79360518144343 and parameters: {'num_leaves': 816, 'max_depth': 9, 'learning_rate': 0.091441825083642, 'n_estimators': 5976, 'min_child_samples': 115, 'subsample': 0.23284254487951578, 'colsample_bytree': 0.2944594160740048, 'max_bin': 183920, 'reg_alpha': 0.07760178220402517, 'reg_lambda': 0.00037605851358461133, 'min_split_gain': 0.5236875733395774}. Best is trial 3 with value: 38.783959764441875.\n"
     ]
    },
    {
     "name": "stdout",
     "output_type": "stream",
     "text": [
      "Trial 4 finished with value: 38.79360518144343 and parameters: {'num_leaves': 816, 'max_depth': 9, 'learning_rate': 0.091441825083642, 'n_estimators': 5976, 'min_child_samples': 115, 'subsample': 0.23284254487951578, 'colsample_bytree': 0.2944594160740048, 'max_bin': 183920, 'reg_alpha': 0.07760178220402517, 'reg_lambda': 0.00037605851358461133, 'min_split_gain': 0.5236875733395774}. Best is trial 3 with value: 38.783959764441875.\n",
      "Trial 4 finished with value: 38.79360518144343 and parameters: {'num_leaves': 816, 'max_depth': 9, 'learning_rate': 0.091441825083642, 'n_estimators': 5976, 'min_child_samples': 115, 'subsample': 0.23284254487951578, 'colsample_bytree': 0.2944594160740048, 'max_bin': 183920, 'reg_alpha': 0.07760178220402517, 'reg_lambda': 0.00037605851358461133, 'min_split_gain': 0.5236875733395774}. Best is trial 3 with value: 38.783959764441875.\n",
      "Trial 4 finished with value: 38.79360518144343 and parameters: {'num_leaves': 816, 'max_depth': 9, 'learning_rate': 0.091441825083642, 'n_estimators': 5976, 'min_child_samples': 115, 'subsample': 0.23284254487951578, 'colsample_bytree': 0.2944594160740048, 'max_bin': 183920, 'reg_alpha': 0.07760178220402517, 'reg_lambda': 0.00037605851358461133, 'min_split_gain': 0.5236875733395774}. Best is trial 3 with value: 38.783959764441875.\n",
      "Trial 4 finished with value: 38.79360518144343 and parameters: {'num_leaves': 816, 'max_depth': 9, 'learning_rate': 0.091441825083642, 'n_estimators': 5976, 'min_child_samples': 115, 'subsample': 0.23284254487951578, 'colsample_bytree': 0.2944594160740048, 'max_bin': 183920, 'reg_alpha': 0.07760178220402517, 'reg_lambda': 0.00037605851358461133, 'min_split_gain': 0.5236875733395774}. Best is trial 3 with value: 38.783959764441875.\n"
     ]
    },
    {
     "name": "stderr",
     "output_type": "stream",
     "text": [
      "[I 2025-02-04 18:15:46,283] Trial 5 finished with value: 38.78648145358846 and parameters: {'num_leaves': 674, 'max_depth': 7, 'learning_rate': 0.09811870299062662, 'n_estimators': 17139, 'min_child_samples': 48, 'subsample': 0.20488148588287297, 'colsample_bytree': 0.3200972460974336, 'max_bin': 103407, 'reg_alpha': 0.9900340818753909, 'reg_lambda': 0.016949654296361378, 'min_split_gain': 0.5362358891499297}. Best is trial 3 with value: 38.783959764441875.\n"
     ]
    },
    {
     "name": "stdout",
     "output_type": "stream",
     "text": [
      "Trial 5 finished with value: 38.78648145358846 and parameters: {'num_leaves': 674, 'max_depth': 7, 'learning_rate': 0.09811870299062662, 'n_estimators': 17139, 'min_child_samples': 48, 'subsample': 0.20488148588287297, 'colsample_bytree': 0.3200972460974336, 'max_bin': 103407, 'reg_alpha': 0.9900340818753909, 'reg_lambda': 0.016949654296361378, 'min_split_gain': 0.5362358891499297}. Best is trial 3 with value: 38.783959764441875.\n",
      "Trial 5 finished with value: 38.78648145358846 and parameters: {'num_leaves': 674, 'max_depth': 7, 'learning_rate': 0.09811870299062662, 'n_estimators': 17139, 'min_child_samples': 48, 'subsample': 0.20488148588287297, 'colsample_bytree': 0.3200972460974336, 'max_bin': 103407, 'reg_alpha': 0.9900340818753909, 'reg_lambda': 0.016949654296361378, 'min_split_gain': 0.5362358891499297}. Best is trial 3 with value: 38.783959764441875.\n",
      "Trial 5 finished with value: 38.78648145358846 and parameters: {'num_leaves': 674, 'max_depth': 7, 'learning_rate': 0.09811870299062662, 'n_estimators': 17139, 'min_child_samples': 48, 'subsample': 0.20488148588287297, 'colsample_bytree': 0.3200972460974336, 'max_bin': 103407, 'reg_alpha': 0.9900340818753909, 'reg_lambda': 0.016949654296361378, 'min_split_gain': 0.5362358891499297}. Best is trial 3 with value: 38.783959764441875.\n",
      "Trial 5 finished with value: 38.78648145358846 and parameters: {'num_leaves': 674, 'max_depth': 7, 'learning_rate': 0.09811870299062662, 'n_estimators': 17139, 'min_child_samples': 48, 'subsample': 0.20488148588287297, 'colsample_bytree': 0.3200972460974336, 'max_bin': 103407, 'reg_alpha': 0.9900340818753909, 'reg_lambda': 0.016949654296361378, 'min_split_gain': 0.5362358891499297}. Best is trial 3 with value: 38.783959764441875.\n"
     ]
    },
    {
     "name": "stderr",
     "output_type": "stream",
     "text": [
      "[I 2025-02-04 18:17:51,072] Trial 6 finished with value: 38.79100410776017 and parameters: {'num_leaves': 986, 'max_depth': 12, 'learning_rate': 0.058742079695860164, 'n_estimators': 19563, 'min_child_samples': 124, 'subsample': 0.17592682187689204, 'colsample_bytree': 0.2830035022324457, 'max_bin': 69808, 'reg_alpha': 0.05928534160850263, 'reg_lambda': 0.0013866856157327928, 'min_split_gain': 0.5267430500586695}. Best is trial 3 with value: 38.783959764441875.\n"
     ]
    },
    {
     "name": "stdout",
     "output_type": "stream",
     "text": [
      "Trial 6 finished with value: 38.79100410776017 and parameters: {'num_leaves': 986, 'max_depth': 12, 'learning_rate': 0.058742079695860164, 'n_estimators': 19563, 'min_child_samples': 124, 'subsample': 0.17592682187689204, 'colsample_bytree': 0.2830035022324457, 'max_bin': 69808, 'reg_alpha': 0.05928534160850263, 'reg_lambda': 0.0013866856157327928, 'min_split_gain': 0.5267430500586695}. Best is trial 3 with value: 38.783959764441875.\n",
      "Trial 6 finished with value: 38.79100410776017 and parameters: {'num_leaves': 986, 'max_depth': 12, 'learning_rate': 0.058742079695860164, 'n_estimators': 19563, 'min_child_samples': 124, 'subsample': 0.17592682187689204, 'colsample_bytree': 0.2830035022324457, 'max_bin': 69808, 'reg_alpha': 0.05928534160850263, 'reg_lambda': 0.0013866856157327928, 'min_split_gain': 0.5267430500586695}. Best is trial 3 with value: 38.783959764441875.\n",
      "Trial 6 finished with value: 38.79100410776017 and parameters: {'num_leaves': 986, 'max_depth': 12, 'learning_rate': 0.058742079695860164, 'n_estimators': 19563, 'min_child_samples': 124, 'subsample': 0.17592682187689204, 'colsample_bytree': 0.2830035022324457, 'max_bin': 69808, 'reg_alpha': 0.05928534160850263, 'reg_lambda': 0.0013866856157327928, 'min_split_gain': 0.5267430500586695}. Best is trial 3 with value: 38.783959764441875.\n",
      "Trial 6 finished with value: 38.79100410776017 and parameters: {'num_leaves': 986, 'max_depth': 12, 'learning_rate': 0.058742079695860164, 'n_estimators': 19563, 'min_child_samples': 124, 'subsample': 0.17592682187689204, 'colsample_bytree': 0.2830035022324457, 'max_bin': 69808, 'reg_alpha': 0.05928534160850263, 'reg_lambda': 0.0013866856157327928, 'min_split_gain': 0.5267430500586695}. Best is trial 3 with value: 38.783959764441875.\n"
     ]
    },
    {
     "name": "stderr",
     "output_type": "stream",
     "text": [
      "[I 2025-02-04 18:20:00,795] Trial 7 finished with value: 38.792949816364505 and parameters: {'num_leaves': 1983, 'max_depth': 12, 'learning_rate': 0.060012914231991774, 'n_estimators': 5632, 'min_child_samples': 157, 'subsample': 0.17831338734438165, 'colsample_bytree': 0.2868325829119557, 'max_bin': 130532, 'reg_alpha': 0.7219879780187518, 'reg_lambda': 0.000279799696500071, 'min_split_gain': 0.5106731572423534}. Best is trial 3 with value: 38.783959764441875.\n"
     ]
    },
    {
     "name": "stdout",
     "output_type": "stream",
     "text": [
      "Trial 7 finished with value: 38.792949816364505 and parameters: {'num_leaves': 1983, 'max_depth': 12, 'learning_rate': 0.060012914231991774, 'n_estimators': 5632, 'min_child_samples': 157, 'subsample': 0.17831338734438165, 'colsample_bytree': 0.2868325829119557, 'max_bin': 130532, 'reg_alpha': 0.7219879780187518, 'reg_lambda': 0.000279799696500071, 'min_split_gain': 0.5106731572423534}. Best is trial 3 with value: 38.783959764441875.\n",
      "Trial 7 finished with value: 38.792949816364505 and parameters: {'num_leaves': 1983, 'max_depth': 12, 'learning_rate': 0.060012914231991774, 'n_estimators': 5632, 'min_child_samples': 157, 'subsample': 0.17831338734438165, 'colsample_bytree': 0.2868325829119557, 'max_bin': 130532, 'reg_alpha': 0.7219879780187518, 'reg_lambda': 0.000279799696500071, 'min_split_gain': 0.5106731572423534}. Best is trial 3 with value: 38.783959764441875.\n",
      "Trial 7 finished with value: 38.792949816364505 and parameters: {'num_leaves': 1983, 'max_depth': 12, 'learning_rate': 0.060012914231991774, 'n_estimators': 5632, 'min_child_samples': 157, 'subsample': 0.17831338734438165, 'colsample_bytree': 0.2868325829119557, 'max_bin': 130532, 'reg_alpha': 0.7219879780187518, 'reg_lambda': 0.000279799696500071, 'min_split_gain': 0.5106731572423534}. Best is trial 3 with value: 38.783959764441875.\n",
      "Trial 7 finished with value: 38.792949816364505 and parameters: {'num_leaves': 1983, 'max_depth': 12, 'learning_rate': 0.060012914231991774, 'n_estimators': 5632, 'min_child_samples': 157, 'subsample': 0.17831338734438165, 'colsample_bytree': 0.2868325829119557, 'max_bin': 130532, 'reg_alpha': 0.7219879780187518, 'reg_lambda': 0.000279799696500071, 'min_split_gain': 0.5106731572423534}. Best is trial 3 with value: 38.783959764441875.\n"
     ]
    },
    {
     "name": "stderr",
     "output_type": "stream",
     "text": [
      "[I 2025-02-04 18:21:59,078] Trial 8 finished with value: 38.78162902748003 and parameters: {'num_leaves': 719, 'max_depth': 8, 'learning_rate': 0.07692137902945939, 'n_estimators': 10164, 'min_child_samples': 70, 'subsample': 0.22660046344030663, 'colsample_bytree': 0.26866891952281347, 'max_bin': 111693, 'reg_alpha': 0.019605218421683904, 'reg_lambda': 0.00016995589971442594, 'min_split_gain': 0.5286117930247863}. Best is trial 8 with value: 38.78162902748003.\n"
     ]
    },
    {
     "name": "stdout",
     "output_type": "stream",
     "text": [
      "Trial 8 finished with value: 38.78162902748003 and parameters: {'num_leaves': 719, 'max_depth': 8, 'learning_rate': 0.07692137902945939, 'n_estimators': 10164, 'min_child_samples': 70, 'subsample': 0.22660046344030663, 'colsample_bytree': 0.26866891952281347, 'max_bin': 111693, 'reg_alpha': 0.019605218421683904, 'reg_lambda': 0.00016995589971442594, 'min_split_gain': 0.5286117930247863}. Best is trial 8 with value: 38.78162902748003.\n",
      "Trial 8 finished with value: 38.78162902748003 and parameters: {'num_leaves': 719, 'max_depth': 8, 'learning_rate': 0.07692137902945939, 'n_estimators': 10164, 'min_child_samples': 70, 'subsample': 0.22660046344030663, 'colsample_bytree': 0.26866891952281347, 'max_bin': 111693, 'reg_alpha': 0.019605218421683904, 'reg_lambda': 0.00016995589971442594, 'min_split_gain': 0.5286117930247863}. Best is trial 8 with value: 38.78162902748003.\n",
      "Trial 8 finished with value: 38.78162902748003 and parameters: {'num_leaves': 719, 'max_depth': 8, 'learning_rate': 0.07692137902945939, 'n_estimators': 10164, 'min_child_samples': 70, 'subsample': 0.22660046344030663, 'colsample_bytree': 0.26866891952281347, 'max_bin': 111693, 'reg_alpha': 0.019605218421683904, 'reg_lambda': 0.00016995589971442594, 'min_split_gain': 0.5286117930247863}. Best is trial 8 with value: 38.78162902748003.\n",
      "Trial 8 finished with value: 38.78162902748003 and parameters: {'num_leaves': 719, 'max_depth': 8, 'learning_rate': 0.07692137902945939, 'n_estimators': 10164, 'min_child_samples': 70, 'subsample': 0.22660046344030663, 'colsample_bytree': 0.26866891952281347, 'max_bin': 111693, 'reg_alpha': 0.019605218421683904, 'reg_lambda': 0.00016995589971442594, 'min_split_gain': 0.5286117930247863}. Best is trial 8 with value: 38.78162902748003.\n"
     ]
    },
    {
     "name": "stderr",
     "output_type": "stream",
     "text": [
      "[I 2025-02-04 18:23:19,401] Trial 9 finished with value: 38.791261368560384 and parameters: {'num_leaves': 915, 'max_depth': 10, 'learning_rate': 0.11172876645621352, 'n_estimators': 11408, 'min_child_samples': 147, 'subsample': 0.21496903461758454, 'colsample_bytree': 0.25705960947758577, 'max_bin': 181279, 'reg_alpha': 0.01706721060393028, 'reg_lambda': 3.278363625319567e-07, 'min_split_gain': 0.523667348712296}. Best is trial 8 with value: 38.78162902748003.\n"
     ]
    },
    {
     "name": "stdout",
     "output_type": "stream",
     "text": [
      "Trial 9 finished with value: 38.791261368560384 and parameters: {'num_leaves': 915, 'max_depth': 10, 'learning_rate': 0.11172876645621352, 'n_estimators': 11408, 'min_child_samples': 147, 'subsample': 0.21496903461758454, 'colsample_bytree': 0.25705960947758577, 'max_bin': 181279, 'reg_alpha': 0.01706721060393028, 'reg_lambda': 3.278363625319567e-07, 'min_split_gain': 0.523667348712296}. Best is trial 8 with value: 38.78162902748003.\n",
      "Trial 9 finished with value: 38.791261368560384 and parameters: {'num_leaves': 915, 'max_depth': 10, 'learning_rate': 0.11172876645621352, 'n_estimators': 11408, 'min_child_samples': 147, 'subsample': 0.21496903461758454, 'colsample_bytree': 0.25705960947758577, 'max_bin': 181279, 'reg_alpha': 0.01706721060393028, 'reg_lambda': 3.278363625319567e-07, 'min_split_gain': 0.523667348712296}. Best is trial 8 with value: 38.78162902748003.\n",
      "Trial 9 finished with value: 38.791261368560384 and parameters: {'num_leaves': 915, 'max_depth': 10, 'learning_rate': 0.11172876645621352, 'n_estimators': 11408, 'min_child_samples': 147, 'subsample': 0.21496903461758454, 'colsample_bytree': 0.25705960947758577, 'max_bin': 181279, 'reg_alpha': 0.01706721060393028, 'reg_lambda': 3.278363625319567e-07, 'min_split_gain': 0.523667348712296}. Best is trial 8 with value: 38.78162902748003.\n",
      "Trial 9 finished with value: 38.791261368560384 and parameters: {'num_leaves': 915, 'max_depth': 10, 'learning_rate': 0.11172876645621352, 'n_estimators': 11408, 'min_child_samples': 147, 'subsample': 0.21496903461758454, 'colsample_bytree': 0.25705960947758577, 'max_bin': 181279, 'reg_alpha': 0.01706721060393028, 'reg_lambda': 3.278363625319567e-07, 'min_split_gain': 0.523667348712296}. Best is trial 8 with value: 38.78162902748003.\n"
     ]
    },
    {
     "name": "stderr",
     "output_type": "stream",
     "text": [
      "[I 2025-02-04 18:24:17,595] Trial 10 finished with value: 38.793548624006554 and parameters: {'num_leaves': 1390, 'max_depth': 6, 'learning_rate': 0.1457799555828837, 'n_estimators': 10740, 'min_child_samples': 81, 'subsample': 0.15213531448775672, 'colsample_bytree': 0.3457813775146801, 'max_bin': 54165, 'reg_alpha': 0.035291488777238915, 'reg_lambda': 3.580267881620254e-05, 'min_split_gain': 0.5499751046527861}. Best is trial 8 with value: 38.78162902748003.\n"
     ]
    },
    {
     "name": "stdout",
     "output_type": "stream",
     "text": [
      "Trial 10 finished with value: 38.793548624006554 and parameters: {'num_leaves': 1390, 'max_depth': 6, 'learning_rate': 0.1457799555828837, 'n_estimators': 10740, 'min_child_samples': 81, 'subsample': 0.15213531448775672, 'colsample_bytree': 0.3457813775146801, 'max_bin': 54165, 'reg_alpha': 0.035291488777238915, 'reg_lambda': 3.580267881620254e-05, 'min_split_gain': 0.5499751046527861}. Best is trial 8 with value: 38.78162902748003.\n",
      "Trial 10 finished with value: 38.793548624006554 and parameters: {'num_leaves': 1390, 'max_depth': 6, 'learning_rate': 0.1457799555828837, 'n_estimators': 10740, 'min_child_samples': 81, 'subsample': 0.15213531448775672, 'colsample_bytree': 0.3457813775146801, 'max_bin': 54165, 'reg_alpha': 0.035291488777238915, 'reg_lambda': 3.580267881620254e-05, 'min_split_gain': 0.5499751046527861}. Best is trial 8 with value: 38.78162902748003.\n",
      "Trial 10 finished with value: 38.793548624006554 and parameters: {'num_leaves': 1390, 'max_depth': 6, 'learning_rate': 0.1457799555828837, 'n_estimators': 10740, 'min_child_samples': 81, 'subsample': 0.15213531448775672, 'colsample_bytree': 0.3457813775146801, 'max_bin': 54165, 'reg_alpha': 0.035291488777238915, 'reg_lambda': 3.580267881620254e-05, 'min_split_gain': 0.5499751046527861}. Best is trial 8 with value: 38.78162902748003.\n",
      "Trial 10 finished with value: 38.793548624006554 and parameters: {'num_leaves': 1390, 'max_depth': 6, 'learning_rate': 0.1457799555828837, 'n_estimators': 10740, 'min_child_samples': 81, 'subsample': 0.15213531448775672, 'colsample_bytree': 0.3457813775146801, 'max_bin': 54165, 'reg_alpha': 0.035291488777238915, 'reg_lambda': 3.580267881620254e-05, 'min_split_gain': 0.5499751046527861}. Best is trial 8 with value: 38.78162902748003.\n"
     ]
    },
    {
     "name": "stderr",
     "output_type": "stream",
     "text": [
      "[I 2025-02-04 18:26:55,041] Trial 11 finished with value: 38.78846045574624 and parameters: {'num_leaves': 1424, 'max_depth': 8, 'learning_rate': 0.05119110246946279, 'n_estimators': 8802, 'min_child_samples': 72, 'subsample': 0.22813660240339154, 'colsample_bytree': 0.27788972894062935, 'max_bin': 143865, 'reg_alpha': 0.21496557839139674, 'reg_lambda': 0.006295649305142358, 'min_split_gain': 0.5133479966703373}. Best is trial 8 with value: 38.78162902748003.\n"
     ]
    },
    {
     "name": "stdout",
     "output_type": "stream",
     "text": [
      "Trial 11 finished with value: 38.78846045574624 and parameters: {'num_leaves': 1424, 'max_depth': 8, 'learning_rate': 0.05119110246946279, 'n_estimators': 8802, 'min_child_samples': 72, 'subsample': 0.22813660240339154, 'colsample_bytree': 0.27788972894062935, 'max_bin': 143865, 'reg_alpha': 0.21496557839139674, 'reg_lambda': 0.006295649305142358, 'min_split_gain': 0.5133479966703373}. Best is trial 8 with value: 38.78162902748003.\n",
      "Trial 11 finished with value: 38.78846045574624 and parameters: {'num_leaves': 1424, 'max_depth': 8, 'learning_rate': 0.05119110246946279, 'n_estimators': 8802, 'min_child_samples': 72, 'subsample': 0.22813660240339154, 'colsample_bytree': 0.27788972894062935, 'max_bin': 143865, 'reg_alpha': 0.21496557839139674, 'reg_lambda': 0.006295649305142358, 'min_split_gain': 0.5133479966703373}. Best is trial 8 with value: 38.78162902748003.\n",
      "Trial 11 finished with value: 38.78846045574624 and parameters: {'num_leaves': 1424, 'max_depth': 8, 'learning_rate': 0.05119110246946279, 'n_estimators': 8802, 'min_child_samples': 72, 'subsample': 0.22813660240339154, 'colsample_bytree': 0.27788972894062935, 'max_bin': 143865, 'reg_alpha': 0.21496557839139674, 'reg_lambda': 0.006295649305142358, 'min_split_gain': 0.5133479966703373}. Best is trial 8 with value: 38.78162902748003.\n",
      "Trial 11 finished with value: 38.78846045574624 and parameters: {'num_leaves': 1424, 'max_depth': 8, 'learning_rate': 0.05119110246946279, 'n_estimators': 8802, 'min_child_samples': 72, 'subsample': 0.22813660240339154, 'colsample_bytree': 0.27788972894062935, 'max_bin': 143865, 'reg_alpha': 0.21496557839139674, 'reg_lambda': 0.006295649305142358, 'min_split_gain': 0.5133479966703373}. Best is trial 8 with value: 38.78162902748003.\n"
     ]
    },
    {
     "name": "stderr",
     "output_type": "stream",
     "text": [
      "[I 2025-02-04 18:28:53,980] Trial 12 finished with value: 38.78637601384312 and parameters: {'num_leaves': 1198, 'max_depth': 8, 'learning_rate': 0.07295805799819605, 'n_estimators': 4011, 'min_child_samples': 21, 'subsample': 0.1921476723657227, 'colsample_bytree': 0.304083339689084, 'max_bin': 142339, 'reg_alpha': 0.3115128542355718, 'reg_lambda': 2.334585097071573e-05, 'min_split_gain': 0.5156928209659523}. Best is trial 8 with value: 38.78162902748003.\n"
     ]
    },
    {
     "name": "stdout",
     "output_type": "stream",
     "text": [
      "Trial 12 finished with value: 38.78637601384312 and parameters: {'num_leaves': 1198, 'max_depth': 8, 'learning_rate': 0.07295805799819605, 'n_estimators': 4011, 'min_child_samples': 21, 'subsample': 0.1921476723657227, 'colsample_bytree': 0.304083339689084, 'max_bin': 142339, 'reg_alpha': 0.3115128542355718, 'reg_lambda': 2.334585097071573e-05, 'min_split_gain': 0.5156928209659523}. Best is trial 8 with value: 38.78162902748003.\n",
      "Trial 12 finished with value: 38.78637601384312 and parameters: {'num_leaves': 1198, 'max_depth': 8, 'learning_rate': 0.07295805799819605, 'n_estimators': 4011, 'min_child_samples': 21, 'subsample': 0.1921476723657227, 'colsample_bytree': 0.304083339689084, 'max_bin': 142339, 'reg_alpha': 0.3115128542355718, 'reg_lambda': 2.334585097071573e-05, 'min_split_gain': 0.5156928209659523}. Best is trial 8 with value: 38.78162902748003.\n",
      "Trial 12 finished with value: 38.78637601384312 and parameters: {'num_leaves': 1198, 'max_depth': 8, 'learning_rate': 0.07295805799819605, 'n_estimators': 4011, 'min_child_samples': 21, 'subsample': 0.1921476723657227, 'colsample_bytree': 0.304083339689084, 'max_bin': 142339, 'reg_alpha': 0.3115128542355718, 'reg_lambda': 2.334585097071573e-05, 'min_split_gain': 0.5156928209659523}. Best is trial 8 with value: 38.78162902748003.\n",
      "Trial 12 finished with value: 38.78637601384312 and parameters: {'num_leaves': 1198, 'max_depth': 8, 'learning_rate': 0.07295805799819605, 'n_estimators': 4011, 'min_child_samples': 21, 'subsample': 0.1921476723657227, 'colsample_bytree': 0.304083339689084, 'max_bin': 142339, 'reg_alpha': 0.3115128542355718, 'reg_lambda': 2.334585097071573e-05, 'min_split_gain': 0.5156928209659523}. Best is trial 8 with value: 38.78162902748003.\n"
     ]
    },
    {
     "name": "stderr",
     "output_type": "stream",
     "text": [
      "[I 2025-02-04 18:31:34,760] Trial 13 finished with value: 38.77721262096448 and parameters: {'num_leaves': 1669, 'max_depth': 9, 'learning_rate': 0.07512640740027818, 'n_estimators': 14366, 'min_child_samples': 71, 'subsample': 0.24747497513507472, 'colsample_bytree': 0.27086826096708533, 'max_bin': 114758, 'reg_alpha': 0.3836407562258549, 'reg_lambda': 0.03678559856991178, 'min_split_gain': 0.541040543569092}. Best is trial 13 with value: 38.77721262096448.\n"
     ]
    },
    {
     "name": "stdout",
     "output_type": "stream",
     "text": [
      "Trial 13 finished with value: 38.77721262096448 and parameters: {'num_leaves': 1669, 'max_depth': 9, 'learning_rate': 0.07512640740027818, 'n_estimators': 14366, 'min_child_samples': 71, 'subsample': 0.24747497513507472, 'colsample_bytree': 0.27086826096708533, 'max_bin': 114758, 'reg_alpha': 0.3836407562258549, 'reg_lambda': 0.03678559856991178, 'min_split_gain': 0.541040543569092}. Best is trial 13 with value: 38.77721262096448.\n",
      "Trial 13 finished with value: 38.77721262096448 and parameters: {'num_leaves': 1669, 'max_depth': 9, 'learning_rate': 0.07512640740027818, 'n_estimators': 14366, 'min_child_samples': 71, 'subsample': 0.24747497513507472, 'colsample_bytree': 0.27086826096708533, 'max_bin': 114758, 'reg_alpha': 0.3836407562258549, 'reg_lambda': 0.03678559856991178, 'min_split_gain': 0.541040543569092}. Best is trial 13 with value: 38.77721262096448.\n",
      "Trial 13 finished with value: 38.77721262096448 and parameters: {'num_leaves': 1669, 'max_depth': 9, 'learning_rate': 0.07512640740027818, 'n_estimators': 14366, 'min_child_samples': 71, 'subsample': 0.24747497513507472, 'colsample_bytree': 0.27086826096708533, 'max_bin': 114758, 'reg_alpha': 0.3836407562258549, 'reg_lambda': 0.03678559856991178, 'min_split_gain': 0.541040543569092}. Best is trial 13 with value: 38.77721262096448.\n",
      "Trial 13 finished with value: 38.77721262096448 and parameters: {'num_leaves': 1669, 'max_depth': 9, 'learning_rate': 0.07512640740027818, 'n_estimators': 14366, 'min_child_samples': 71, 'subsample': 0.24747497513507472, 'colsample_bytree': 0.27086826096708533, 'max_bin': 114758, 'reg_alpha': 0.3836407562258549, 'reg_lambda': 0.03678559856991178, 'min_split_gain': 0.541040543569092}. Best is trial 13 with value: 38.77721262096448.\n"
     ]
    },
    {
     "name": "stderr",
     "output_type": "stream",
     "text": [
      "[I 2025-02-04 18:33:25,386] Trial 14 finished with value: 38.78524007626526 and parameters: {'num_leaves': 1706, 'max_depth': 10, 'learning_rate': 0.07898843447469621, 'n_estimators': 14641, 'min_child_samples': 78, 'subsample': 0.24880267333828063, 'colsample_bytree': 0.2701722169469783, 'max_bin': 112113, 'reg_alpha': 0.46999936285301974, 'reg_lambda': 0.02084671023533301, 'min_split_gain': 0.5414903038412542}. Best is trial 13 with value: 38.77721262096448.\n"
     ]
    },
    {
     "name": "stdout",
     "output_type": "stream",
     "text": [
      "Trial 14 finished with value: 38.78524007626526 and parameters: {'num_leaves': 1706, 'max_depth': 10, 'learning_rate': 0.07898843447469621, 'n_estimators': 14641, 'min_child_samples': 78, 'subsample': 0.24880267333828063, 'colsample_bytree': 0.2701722169469783, 'max_bin': 112113, 'reg_alpha': 0.46999936285301974, 'reg_lambda': 0.02084671023533301, 'min_split_gain': 0.5414903038412542}. Best is trial 13 with value: 38.77721262096448.\n",
      "Trial 14 finished with value: 38.78524007626526 and parameters: {'num_leaves': 1706, 'max_depth': 10, 'learning_rate': 0.07898843447469621, 'n_estimators': 14641, 'min_child_samples': 78, 'subsample': 0.24880267333828063, 'colsample_bytree': 0.2701722169469783, 'max_bin': 112113, 'reg_alpha': 0.46999936285301974, 'reg_lambda': 0.02084671023533301, 'min_split_gain': 0.5414903038412542}. Best is trial 13 with value: 38.77721262096448.\n",
      "Trial 14 finished with value: 38.78524007626526 and parameters: {'num_leaves': 1706, 'max_depth': 10, 'learning_rate': 0.07898843447469621, 'n_estimators': 14641, 'min_child_samples': 78, 'subsample': 0.24880267333828063, 'colsample_bytree': 0.2701722169469783, 'max_bin': 112113, 'reg_alpha': 0.46999936285301974, 'reg_lambda': 0.02084671023533301, 'min_split_gain': 0.5414903038412542}. Best is trial 13 with value: 38.77721262096448.\n",
      "Trial 14 finished with value: 38.78524007626526 and parameters: {'num_leaves': 1706, 'max_depth': 10, 'learning_rate': 0.07898843447469621, 'n_estimators': 14641, 'min_child_samples': 78, 'subsample': 0.24880267333828063, 'colsample_bytree': 0.2701722169469783, 'max_bin': 112113, 'reg_alpha': 0.46999936285301974, 'reg_lambda': 0.02084671023533301, 'min_split_gain': 0.5414903038412542}. Best is trial 13 with value: 38.77721262096448.\n"
     ]
    },
    {
     "name": "stderr",
     "output_type": "stream",
     "text": [
      "[I 2025-02-04 18:35:54,042] Trial 15 finished with value: 38.77941901985423 and parameters: {'num_leaves': 1694, 'max_depth': 9, 'learning_rate': 0.06670203254542183, 'n_estimators': 14957, 'min_child_samples': 60, 'subsample': 0.2260658361426019, 'colsample_bytree': 0.27202872097273945, 'max_bin': 84870, 'reg_alpha': 0.04735297564469094, 'reg_lambda': 0.00015049336099964714, 'min_split_gain': 0.5364605600080594}. Best is trial 13 with value: 38.77721262096448.\n"
     ]
    },
    {
     "name": "stdout",
     "output_type": "stream",
     "text": [
      "Trial 15 finished with value: 38.77941901985423 and parameters: {'num_leaves': 1694, 'max_depth': 9, 'learning_rate': 0.06670203254542183, 'n_estimators': 14957, 'min_child_samples': 60, 'subsample': 0.2260658361426019, 'colsample_bytree': 0.27202872097273945, 'max_bin': 84870, 'reg_alpha': 0.04735297564469094, 'reg_lambda': 0.00015049336099964714, 'min_split_gain': 0.5364605600080594}. Best is trial 13 with value: 38.77721262096448.\n",
      "Trial 15 finished with value: 38.77941901985423 and parameters: {'num_leaves': 1694, 'max_depth': 9, 'learning_rate': 0.06670203254542183, 'n_estimators': 14957, 'min_child_samples': 60, 'subsample': 0.2260658361426019, 'colsample_bytree': 0.27202872097273945, 'max_bin': 84870, 'reg_alpha': 0.04735297564469094, 'reg_lambda': 0.00015049336099964714, 'min_split_gain': 0.5364605600080594}. Best is trial 13 with value: 38.77721262096448.\n",
      "Trial 15 finished with value: 38.77941901985423 and parameters: {'num_leaves': 1694, 'max_depth': 9, 'learning_rate': 0.06670203254542183, 'n_estimators': 14957, 'min_child_samples': 60, 'subsample': 0.2260658361426019, 'colsample_bytree': 0.27202872097273945, 'max_bin': 84870, 'reg_alpha': 0.04735297564469094, 'reg_lambda': 0.00015049336099964714, 'min_split_gain': 0.5364605600080594}. Best is trial 13 with value: 38.77721262096448.\n",
      "Trial 15 finished with value: 38.77941901985423 and parameters: {'num_leaves': 1694, 'max_depth': 9, 'learning_rate': 0.06670203254542183, 'n_estimators': 14957, 'min_child_samples': 60, 'subsample': 0.2260658361426019, 'colsample_bytree': 0.27202872097273945, 'max_bin': 84870, 'reg_alpha': 0.04735297564469094, 'reg_lambda': 0.00015049336099964714, 'min_split_gain': 0.5364605600080594}. Best is trial 13 with value: 38.77721262096448.\n"
     ]
    },
    {
     "name": "stderr",
     "output_type": "stream",
     "text": [
      "[I 2025-02-04 18:38:19,859] Trial 16 finished with value: 38.78017077488678 and parameters: {'num_leaves': 1699, 'max_depth': 9, 'learning_rate': 0.0637761101699889, 'n_estimators': 14412, 'min_child_samples': 55, 'subsample': 0.24989007612489567, 'colsample_bytree': 0.2516486903222147, 'max_bin': 81575, 'reg_alpha': 0.0491364803648807, 'reg_lambda': 3.5958024594763392e-06, 'min_split_gain': 0.5397400343754213}. Best is trial 13 with value: 38.77721262096448.\n"
     ]
    },
    {
     "name": "stdout",
     "output_type": "stream",
     "text": [
      "Trial 16 finished with value: 38.78017077488678 and parameters: {'num_leaves': 1699, 'max_depth': 9, 'learning_rate': 0.0637761101699889, 'n_estimators': 14412, 'min_child_samples': 55, 'subsample': 0.24989007612489567, 'colsample_bytree': 0.2516486903222147, 'max_bin': 81575, 'reg_alpha': 0.0491364803648807, 'reg_lambda': 3.5958024594763392e-06, 'min_split_gain': 0.5397400343754213}. Best is trial 13 with value: 38.77721262096448.\n",
      "Trial 16 finished with value: 38.78017077488678 and parameters: {'num_leaves': 1699, 'max_depth': 9, 'learning_rate': 0.0637761101699889, 'n_estimators': 14412, 'min_child_samples': 55, 'subsample': 0.24989007612489567, 'colsample_bytree': 0.2516486903222147, 'max_bin': 81575, 'reg_alpha': 0.0491364803648807, 'reg_lambda': 3.5958024594763392e-06, 'min_split_gain': 0.5397400343754213}. Best is trial 13 with value: 38.77721262096448.\n",
      "Trial 16 finished with value: 38.78017077488678 and parameters: {'num_leaves': 1699, 'max_depth': 9, 'learning_rate': 0.0637761101699889, 'n_estimators': 14412, 'min_child_samples': 55, 'subsample': 0.24989007612489567, 'colsample_bytree': 0.2516486903222147, 'max_bin': 81575, 'reg_alpha': 0.0491364803648807, 'reg_lambda': 3.5958024594763392e-06, 'min_split_gain': 0.5397400343754213}. Best is trial 13 with value: 38.77721262096448.\n",
      "Trial 16 finished with value: 38.78017077488678 and parameters: {'num_leaves': 1699, 'max_depth': 9, 'learning_rate': 0.0637761101699889, 'n_estimators': 14412, 'min_child_samples': 55, 'subsample': 0.24989007612489567, 'colsample_bytree': 0.2516486903222147, 'max_bin': 81575, 'reg_alpha': 0.0491364803648807, 'reg_lambda': 3.5958024594763392e-06, 'min_split_gain': 0.5397400343754213}. Best is trial 13 with value: 38.77721262096448.\n"
     ]
    },
    {
     "name": "stderr",
     "output_type": "stream",
     "text": [
      "[I 2025-02-04 18:41:14,666] Trial 17 finished with value: 38.778496669176995 and parameters: {'num_leaves': 1645, 'max_depth': 11, 'learning_rate': 0.06650649239476272, 'n_estimators': 15844, 'min_child_samples': 95, 'subsample': 0.21961783889639147, 'colsample_bytree': 0.26981347651563264, 'max_bin': 83707, 'reg_alpha': 0.25255411824665436, 'reg_lambda': 0.03925628410853765, 'min_split_gain': 0.5499499966904066}. Best is trial 13 with value: 38.77721262096448.\n"
     ]
    },
    {
     "name": "stdout",
     "output_type": "stream",
     "text": [
      "Trial 17 finished with value: 38.778496669176995 and parameters: {'num_leaves': 1645, 'max_depth': 11, 'learning_rate': 0.06650649239476272, 'n_estimators': 15844, 'min_child_samples': 95, 'subsample': 0.21961783889639147, 'colsample_bytree': 0.26981347651563264, 'max_bin': 83707, 'reg_alpha': 0.25255411824665436, 'reg_lambda': 0.03925628410853765, 'min_split_gain': 0.5499499966904066}. Best is trial 13 with value: 38.77721262096448.\n",
      "Trial 17 finished with value: 38.778496669176995 and parameters: {'num_leaves': 1645, 'max_depth': 11, 'learning_rate': 0.06650649239476272, 'n_estimators': 15844, 'min_child_samples': 95, 'subsample': 0.21961783889639147, 'colsample_bytree': 0.26981347651563264, 'max_bin': 83707, 'reg_alpha': 0.25255411824665436, 'reg_lambda': 0.03925628410853765, 'min_split_gain': 0.5499499966904066}. Best is trial 13 with value: 38.77721262096448.\n",
      "Trial 17 finished with value: 38.778496669176995 and parameters: {'num_leaves': 1645, 'max_depth': 11, 'learning_rate': 0.06650649239476272, 'n_estimators': 15844, 'min_child_samples': 95, 'subsample': 0.21961783889639147, 'colsample_bytree': 0.26981347651563264, 'max_bin': 83707, 'reg_alpha': 0.25255411824665436, 'reg_lambda': 0.03925628410853765, 'min_split_gain': 0.5499499966904066}. Best is trial 13 with value: 38.77721262096448.\n",
      "Trial 17 finished with value: 38.778496669176995 and parameters: {'num_leaves': 1645, 'max_depth': 11, 'learning_rate': 0.06650649239476272, 'n_estimators': 15844, 'min_child_samples': 95, 'subsample': 0.21961783889639147, 'colsample_bytree': 0.26981347651563264, 'max_bin': 83707, 'reg_alpha': 0.25255411824665436, 'reg_lambda': 0.03925628410853765, 'min_split_gain': 0.5499499966904066}. Best is trial 13 with value: 38.77721262096448.\n"
     ]
    },
    {
     "name": "stderr",
     "output_type": "stream",
     "text": [
      "[I 2025-02-04 18:42:31,348] Trial 18 finished with value: 38.788225785009814 and parameters: {'num_leaves': 1955, 'max_depth': 11, 'learning_rate': 0.08417043123566732, 'n_estimators': 16713, 'min_child_samples': 97, 'subsample': 0.2173540400076522, 'colsample_bytree': 0.2644093609095747, 'max_bin': 54591, 'reg_alpha': 0.3170127078440574, 'reg_lambda': 0.0244157100580782, 'min_split_gain': 0.5479309727981404}. Best is trial 13 with value: 38.77721262096448.\n"
     ]
    },
    {
     "name": "stdout",
     "output_type": "stream",
     "text": [
      "Trial 18 finished with value: 38.788225785009814 and parameters: {'num_leaves': 1955, 'max_depth': 11, 'learning_rate': 0.08417043123566732, 'n_estimators': 16713, 'min_child_samples': 97, 'subsample': 0.2173540400076522, 'colsample_bytree': 0.2644093609095747, 'max_bin': 54591, 'reg_alpha': 0.3170127078440574, 'reg_lambda': 0.0244157100580782, 'min_split_gain': 0.5479309727981404}. Best is trial 13 with value: 38.77721262096448.\n",
      "Trial 18 finished with value: 38.788225785009814 and parameters: {'num_leaves': 1955, 'max_depth': 11, 'learning_rate': 0.08417043123566732, 'n_estimators': 16713, 'min_child_samples': 97, 'subsample': 0.2173540400076522, 'colsample_bytree': 0.2644093609095747, 'max_bin': 54591, 'reg_alpha': 0.3170127078440574, 'reg_lambda': 0.0244157100580782, 'min_split_gain': 0.5479309727981404}. Best is trial 13 with value: 38.77721262096448.\n",
      "Trial 18 finished with value: 38.788225785009814 and parameters: {'num_leaves': 1955, 'max_depth': 11, 'learning_rate': 0.08417043123566732, 'n_estimators': 16713, 'min_child_samples': 97, 'subsample': 0.2173540400076522, 'colsample_bytree': 0.2644093609095747, 'max_bin': 54591, 'reg_alpha': 0.3170127078440574, 'reg_lambda': 0.0244157100580782, 'min_split_gain': 0.5479309727981404}. Best is trial 13 with value: 38.77721262096448.\n",
      "Trial 18 finished with value: 38.788225785009814 and parameters: {'num_leaves': 1955, 'max_depth': 11, 'learning_rate': 0.08417043123566732, 'n_estimators': 16713, 'min_child_samples': 97, 'subsample': 0.2173540400076522, 'colsample_bytree': 0.2644093609095747, 'max_bin': 54591, 'reg_alpha': 0.3170127078440574, 'reg_lambda': 0.0244157100580782, 'min_split_gain': 0.5479309727981404}. Best is trial 13 with value: 38.77721262096448.\n"
     ]
    },
    {
     "name": "stderr",
     "output_type": "stream",
     "text": [
      "[I 2025-02-04 18:44:34,091] Trial 19 finished with value: 38.788775422575355 and parameters: {'num_leaves': 1607, 'max_depth': 11, 'learning_rate': 0.06633913911397406, 'n_estimators': 12913, 'min_child_samples': 98, 'subsample': 0.23832002029553476, 'colsample_bytree': 0.2908088055031314, 'max_bin': 158917, 'reg_alpha': 0.45645956498871076, 'reg_lambda': 0.044566790184767044, 'min_split_gain': 0.5445116801372428}. Best is trial 13 with value: 38.77721262096448.\n"
     ]
    },
    {
     "name": "stdout",
     "output_type": "stream",
     "text": [
      "Trial 19 finished with value: 38.788775422575355 and parameters: {'num_leaves': 1607, 'max_depth': 11, 'learning_rate': 0.06633913911397406, 'n_estimators': 12913, 'min_child_samples': 98, 'subsample': 0.23832002029553476, 'colsample_bytree': 0.2908088055031314, 'max_bin': 158917, 'reg_alpha': 0.45645956498871076, 'reg_lambda': 0.044566790184767044, 'min_split_gain': 0.5445116801372428}. Best is trial 13 with value: 38.77721262096448.\n",
      "Trial 19 finished with value: 38.788775422575355 and parameters: {'num_leaves': 1607, 'max_depth': 11, 'learning_rate': 0.06633913911397406, 'n_estimators': 12913, 'min_child_samples': 98, 'subsample': 0.23832002029553476, 'colsample_bytree': 0.2908088055031314, 'max_bin': 158917, 'reg_alpha': 0.45645956498871076, 'reg_lambda': 0.044566790184767044, 'min_split_gain': 0.5445116801372428}. Best is trial 13 with value: 38.77721262096448.\n",
      "Trial 19 finished with value: 38.788775422575355 and parameters: {'num_leaves': 1607, 'max_depth': 11, 'learning_rate': 0.06633913911397406, 'n_estimators': 12913, 'min_child_samples': 98, 'subsample': 0.23832002029553476, 'colsample_bytree': 0.2908088055031314, 'max_bin': 158917, 'reg_alpha': 0.45645956498871076, 'reg_lambda': 0.044566790184767044, 'min_split_gain': 0.5445116801372428}. Best is trial 13 with value: 38.77721262096448.\n",
      "Trial 19 finished with value: 38.788775422575355 and parameters: {'num_leaves': 1607, 'max_depth': 11, 'learning_rate': 0.06633913911397406, 'n_estimators': 12913, 'min_child_samples': 98, 'subsample': 0.23832002029553476, 'colsample_bytree': 0.2908088055031314, 'max_bin': 158917, 'reg_alpha': 0.45645956498871076, 'reg_lambda': 0.044566790184767044, 'min_split_gain': 0.5445116801372428}. Best is trial 13 with value: 38.77721262096448.\n"
     ]
    },
    {
     "name": "stderr",
     "output_type": "stream",
     "text": [
      "[I 2025-02-04 18:45:43,388] Trial 20 finished with value: 38.79270124068269 and parameters: {'num_leaves': 1553, 'max_depth': 11, 'learning_rate': 0.12530862442403723, 'n_estimators': 16346, 'min_child_samples': 137, 'subsample': 0.2212298523970049, 'colsample_bytree': 0.27874390864248505, 'max_bin': 67727, 'reg_alpha': 0.19426151361654143, 'reg_lambda': 0.0012607581000685663, 'min_split_gain': 0.5347759419393797}. Best is trial 13 with value: 38.77721262096448.\n"
     ]
    },
    {
     "name": "stdout",
     "output_type": "stream",
     "text": [
      "Trial 20 finished with value: 38.79270124068269 and parameters: {'num_leaves': 1553, 'max_depth': 11, 'learning_rate': 0.12530862442403723, 'n_estimators': 16346, 'min_child_samples': 137, 'subsample': 0.2212298523970049, 'colsample_bytree': 0.27874390864248505, 'max_bin': 67727, 'reg_alpha': 0.19426151361654143, 'reg_lambda': 0.0012607581000685663, 'min_split_gain': 0.5347759419393797}. Best is trial 13 with value: 38.77721262096448.\n",
      "Trial 20 finished with value: 38.79270124068269 and parameters: {'num_leaves': 1553, 'max_depth': 11, 'learning_rate': 0.12530862442403723, 'n_estimators': 16346, 'min_child_samples': 137, 'subsample': 0.2212298523970049, 'colsample_bytree': 0.27874390864248505, 'max_bin': 67727, 'reg_alpha': 0.19426151361654143, 'reg_lambda': 0.0012607581000685663, 'min_split_gain': 0.5347759419393797}. Best is trial 13 with value: 38.77721262096448.\n",
      "Trial 20 finished with value: 38.79270124068269 and parameters: {'num_leaves': 1553, 'max_depth': 11, 'learning_rate': 0.12530862442403723, 'n_estimators': 16346, 'min_child_samples': 137, 'subsample': 0.2212298523970049, 'colsample_bytree': 0.27874390864248505, 'max_bin': 67727, 'reg_alpha': 0.19426151361654143, 'reg_lambda': 0.0012607581000685663, 'min_split_gain': 0.5347759419393797}. Best is trial 13 with value: 38.77721262096448.\n",
      "Trial 20 finished with value: 38.79270124068269 and parameters: {'num_leaves': 1553, 'max_depth': 11, 'learning_rate': 0.12530862442403723, 'n_estimators': 16346, 'min_child_samples': 137, 'subsample': 0.2212298523970049, 'colsample_bytree': 0.27874390864248505, 'max_bin': 67727, 'reg_alpha': 0.19426151361654143, 'reg_lambda': 0.0012607581000685663, 'min_split_gain': 0.5347759419393797}. Best is trial 13 with value: 38.77721262096448.\n"
     ]
    },
    {
     "name": "stderr",
     "output_type": "stream",
     "text": [
      "[I 2025-02-04 18:47:58,167] Trial 21 finished with value: 38.78443540445197 and parameters: {'num_leaves': 1827, 'max_depth': 9, 'learning_rate': 0.06787350242739577, 'n_estimators': 14685, 'min_child_samples': 97, 'subsample': 0.23757497663165553, 'colsample_bytree': 0.2730435823606905, 'max_bin': 90466, 'reg_alpha': 0.07954699932130117, 'reg_lambda': 0.004463072467177977, 'min_split_gain': 0.53445402172761}. Best is trial 13 with value: 38.77721262096448.\n"
     ]
    },
    {
     "name": "stdout",
     "output_type": "stream",
     "text": [
      "Trial 21 finished with value: 38.78443540445197 and parameters: {'num_leaves': 1827, 'max_depth': 9, 'learning_rate': 0.06787350242739577, 'n_estimators': 14685, 'min_child_samples': 97, 'subsample': 0.23757497663165553, 'colsample_bytree': 0.2730435823606905, 'max_bin': 90466, 'reg_alpha': 0.07954699932130117, 'reg_lambda': 0.004463072467177977, 'min_split_gain': 0.53445402172761}. Best is trial 13 with value: 38.77721262096448.\n",
      "Trial 21 finished with value: 38.78443540445197 and parameters: {'num_leaves': 1827, 'max_depth': 9, 'learning_rate': 0.06787350242739577, 'n_estimators': 14685, 'min_child_samples': 97, 'subsample': 0.23757497663165553, 'colsample_bytree': 0.2730435823606905, 'max_bin': 90466, 'reg_alpha': 0.07954699932130117, 'reg_lambda': 0.004463072467177977, 'min_split_gain': 0.53445402172761}. Best is trial 13 with value: 38.77721262096448.\n",
      "Trial 21 finished with value: 38.78443540445197 and parameters: {'num_leaves': 1827, 'max_depth': 9, 'learning_rate': 0.06787350242739577, 'n_estimators': 14685, 'min_child_samples': 97, 'subsample': 0.23757497663165553, 'colsample_bytree': 0.2730435823606905, 'max_bin': 90466, 'reg_alpha': 0.07954699932130117, 'reg_lambda': 0.004463072467177977, 'min_split_gain': 0.53445402172761}. Best is trial 13 with value: 38.77721262096448.\n",
      "Trial 21 finished with value: 38.78443540445197 and parameters: {'num_leaves': 1827, 'max_depth': 9, 'learning_rate': 0.06787350242739577, 'n_estimators': 14685, 'min_child_samples': 97, 'subsample': 0.23757497663165553, 'colsample_bytree': 0.2730435823606905, 'max_bin': 90466, 'reg_alpha': 0.07954699932130117, 'reg_lambda': 0.004463072467177977, 'min_split_gain': 0.53445402172761}. Best is trial 13 with value: 38.77721262096448.\n"
     ]
    },
    {
     "name": "stderr",
     "output_type": "stream",
     "text": [
      "[I 2025-02-04 18:50:28,096] Trial 22 finished with value: 38.78264635921981 and parameters: {'num_leaves': 1824, 'max_depth': 9, 'learning_rate': 0.05865866104928779, 'n_estimators': 15757, 'min_child_samples': 55, 'subsample': 0.2247624991076585, 'colsample_bytree': 0.26236298437547007, 'max_bin': 95521, 'reg_alpha': 0.12453686807384191, 'reg_lambda': 8.364681916329704e-05, 'min_split_gain': 0.5449718901567286}. Best is trial 13 with value: 38.77721262096448.\n"
     ]
    },
    {
     "name": "stdout",
     "output_type": "stream",
     "text": [
      "Trial 22 finished with value: 38.78264635921981 and parameters: {'num_leaves': 1824, 'max_depth': 9, 'learning_rate': 0.05865866104928779, 'n_estimators': 15757, 'min_child_samples': 55, 'subsample': 0.2247624991076585, 'colsample_bytree': 0.26236298437547007, 'max_bin': 95521, 'reg_alpha': 0.12453686807384191, 'reg_lambda': 8.364681916329704e-05, 'min_split_gain': 0.5449718901567286}. Best is trial 13 with value: 38.77721262096448.\n",
      "Trial 22 finished with value: 38.78264635921981 and parameters: {'num_leaves': 1824, 'max_depth': 9, 'learning_rate': 0.05865866104928779, 'n_estimators': 15757, 'min_child_samples': 55, 'subsample': 0.2247624991076585, 'colsample_bytree': 0.26236298437547007, 'max_bin': 95521, 'reg_alpha': 0.12453686807384191, 'reg_lambda': 8.364681916329704e-05, 'min_split_gain': 0.5449718901567286}. Best is trial 13 with value: 38.77721262096448.\n",
      "Trial 22 finished with value: 38.78264635921981 and parameters: {'num_leaves': 1824, 'max_depth': 9, 'learning_rate': 0.05865866104928779, 'n_estimators': 15757, 'min_child_samples': 55, 'subsample': 0.2247624991076585, 'colsample_bytree': 0.26236298437547007, 'max_bin': 95521, 'reg_alpha': 0.12453686807384191, 'reg_lambda': 8.364681916329704e-05, 'min_split_gain': 0.5449718901567286}. Best is trial 13 with value: 38.77721262096448.\n",
      "Trial 22 finished with value: 38.78264635921981 and parameters: {'num_leaves': 1824, 'max_depth': 9, 'learning_rate': 0.05865866104928779, 'n_estimators': 15757, 'min_child_samples': 55, 'subsample': 0.2247624991076585, 'colsample_bytree': 0.26236298437547007, 'max_bin': 95521, 'reg_alpha': 0.12453686807384191, 'reg_lambda': 8.364681916329704e-05, 'min_split_gain': 0.5449718901567286}. Best is trial 13 with value: 38.77721262096448.\n"
     ]
    },
    {
     "name": "stderr",
     "output_type": "stream",
     "text": [
      "[I 2025-02-04 18:52:17,428] Trial 23 finished with value: 38.78011966838699 and parameters: {'num_leaves': 1537, 'max_depth': 10, 'learning_rate': 0.0848504798785905, 'n_estimators': 18075, 'min_child_samples': 87, 'subsample': 0.199555096922582, 'colsample_bytree': 0.2521248743524207, 'max_bin': 72306, 'reg_alpha': 0.24048370601429345, 'reg_lambda': 7.444336988590639e-06, 'min_split_gain': 0.5391897553490625}. Best is trial 13 with value: 38.77721262096448.\n"
     ]
    },
    {
     "name": "stdout",
     "output_type": "stream",
     "text": [
      "Trial 23 finished with value: 38.78011966838699 and parameters: {'num_leaves': 1537, 'max_depth': 10, 'learning_rate': 0.0848504798785905, 'n_estimators': 18075, 'min_child_samples': 87, 'subsample': 0.199555096922582, 'colsample_bytree': 0.2521248743524207, 'max_bin': 72306, 'reg_alpha': 0.24048370601429345, 'reg_lambda': 7.444336988590639e-06, 'min_split_gain': 0.5391897553490625}. Best is trial 13 with value: 38.77721262096448.\n",
      "Trial 23 finished with value: 38.78011966838699 and parameters: {'num_leaves': 1537, 'max_depth': 10, 'learning_rate': 0.0848504798785905, 'n_estimators': 18075, 'min_child_samples': 87, 'subsample': 0.199555096922582, 'colsample_bytree': 0.2521248743524207, 'max_bin': 72306, 'reg_alpha': 0.24048370601429345, 'reg_lambda': 7.444336988590639e-06, 'min_split_gain': 0.5391897553490625}. Best is trial 13 with value: 38.77721262096448.\n",
      "Trial 23 finished with value: 38.78011966838699 and parameters: {'num_leaves': 1537, 'max_depth': 10, 'learning_rate': 0.0848504798785905, 'n_estimators': 18075, 'min_child_samples': 87, 'subsample': 0.199555096922582, 'colsample_bytree': 0.2521248743524207, 'max_bin': 72306, 'reg_alpha': 0.24048370601429345, 'reg_lambda': 7.444336988590639e-06, 'min_split_gain': 0.5391897553490625}. Best is trial 13 with value: 38.77721262096448.\n",
      "Trial 23 finished with value: 38.78011966838699 and parameters: {'num_leaves': 1537, 'max_depth': 10, 'learning_rate': 0.0848504798785905, 'n_estimators': 18075, 'min_child_samples': 87, 'subsample': 0.199555096922582, 'colsample_bytree': 0.2521248743524207, 'max_bin': 72306, 'reg_alpha': 0.24048370601429345, 'reg_lambda': 7.444336988590639e-06, 'min_split_gain': 0.5391897553490625}. Best is trial 13 with value: 38.77721262096448.\n"
     ]
    },
    {
     "name": "stderr",
     "output_type": "stream",
     "text": [
      "[I 2025-02-04 18:55:12,193] Trial 24 finished with value: 38.77492449201558 and parameters: {'num_leaves': 1143, 'max_depth': 10, 'learning_rate': 0.06834472932047209, 'n_estimators': 13211, 'min_child_samples': 63, 'subsample': 0.24319055281284938, 'colsample_bytree': 0.2759764041326972, 'max_bin': 115152, 'reg_alpha': 0.5227956297578016, 'reg_lambda': 0.0012031961318289108, 'min_split_gain': 0.5446213688840311}. Best is trial 24 with value: 38.77492449201558.\n"
     ]
    },
    {
     "name": "stdout",
     "output_type": "stream",
     "text": [
      "Trial 24 finished with value: 38.77492449201558 and parameters: {'num_leaves': 1143, 'max_depth': 10, 'learning_rate': 0.06834472932047209, 'n_estimators': 13211, 'min_child_samples': 63, 'subsample': 0.24319055281284938, 'colsample_bytree': 0.2759764041326972, 'max_bin': 115152, 'reg_alpha': 0.5227956297578016, 'reg_lambda': 0.0012031961318289108, 'min_split_gain': 0.5446213688840311}. Best is trial 24 with value: 38.77492449201558.\n",
      "Trial 24 finished with value: 38.77492449201558 and parameters: {'num_leaves': 1143, 'max_depth': 10, 'learning_rate': 0.06834472932047209, 'n_estimators': 13211, 'min_child_samples': 63, 'subsample': 0.24319055281284938, 'colsample_bytree': 0.2759764041326972, 'max_bin': 115152, 'reg_alpha': 0.5227956297578016, 'reg_lambda': 0.0012031961318289108, 'min_split_gain': 0.5446213688840311}. Best is trial 24 with value: 38.77492449201558.\n",
      "Trial 24 finished with value: 38.77492449201558 and parameters: {'num_leaves': 1143, 'max_depth': 10, 'learning_rate': 0.06834472932047209, 'n_estimators': 13211, 'min_child_samples': 63, 'subsample': 0.24319055281284938, 'colsample_bytree': 0.2759764041326972, 'max_bin': 115152, 'reg_alpha': 0.5227956297578016, 'reg_lambda': 0.0012031961318289108, 'min_split_gain': 0.5446213688840311}. Best is trial 24 with value: 38.77492449201558.\n",
      "Trial 24 finished with value: 38.77492449201558 and parameters: {'num_leaves': 1143, 'max_depth': 10, 'learning_rate': 0.06834472932047209, 'n_estimators': 13211, 'min_child_samples': 63, 'subsample': 0.24319055281284938, 'colsample_bytree': 0.2759764041326972, 'max_bin': 115152, 'reg_alpha': 0.5227956297578016, 'reg_lambda': 0.0012031961318289108, 'min_split_gain': 0.5446213688840311}. Best is trial 24 with value: 38.77492449201558.\n"
     ]
    },
    {
     "name": "stderr",
     "output_type": "stream",
     "text": [
      "[I 2025-02-04 18:57:17,087] Trial 25 finished with value: 38.78333843977635 and parameters: {'num_leaves': 1095, 'max_depth': 11, 'learning_rate': 0.07170968853441517, 'n_estimators': 13228, 'min_child_samples': 112, 'subsample': 0.2409101742141833, 'colsample_bytree': 0.28155969016063964, 'max_bin': 114272, 'reg_alpha': 0.5460115094007271, 'reg_lambda': 0.0010018416065162266, 'min_split_gain': 0.5454388551018071}. Best is trial 24 with value: 38.77492449201558.\n"
     ]
    },
    {
     "name": "stdout",
     "output_type": "stream",
     "text": [
      "Trial 25 finished with value: 38.78333843977635 and parameters: {'num_leaves': 1095, 'max_depth': 11, 'learning_rate': 0.07170968853441517, 'n_estimators': 13228, 'min_child_samples': 112, 'subsample': 0.2409101742141833, 'colsample_bytree': 0.28155969016063964, 'max_bin': 114272, 'reg_alpha': 0.5460115094007271, 'reg_lambda': 0.0010018416065162266, 'min_split_gain': 0.5454388551018071}. Best is trial 24 with value: 38.77492449201558.\n",
      "Trial 25 finished with value: 38.78333843977635 and parameters: {'num_leaves': 1095, 'max_depth': 11, 'learning_rate': 0.07170968853441517, 'n_estimators': 13228, 'min_child_samples': 112, 'subsample': 0.2409101742141833, 'colsample_bytree': 0.28155969016063964, 'max_bin': 114272, 'reg_alpha': 0.5460115094007271, 'reg_lambda': 0.0010018416065162266, 'min_split_gain': 0.5454388551018071}. Best is trial 24 with value: 38.77492449201558.\n",
      "Trial 25 finished with value: 38.78333843977635 and parameters: {'num_leaves': 1095, 'max_depth': 11, 'learning_rate': 0.07170968853441517, 'n_estimators': 13228, 'min_child_samples': 112, 'subsample': 0.2409101742141833, 'colsample_bytree': 0.28155969016063964, 'max_bin': 114272, 'reg_alpha': 0.5460115094007271, 'reg_lambda': 0.0010018416065162266, 'min_split_gain': 0.5454388551018071}. Best is trial 24 with value: 38.77492449201558.\n",
      "Trial 25 finished with value: 38.78333843977635 and parameters: {'num_leaves': 1095, 'max_depth': 11, 'learning_rate': 0.07170968853441517, 'n_estimators': 13228, 'min_child_samples': 112, 'subsample': 0.2409101742141833, 'colsample_bytree': 0.28155969016063964, 'max_bin': 114272, 'reg_alpha': 0.5460115094007271, 'reg_lambda': 0.0010018416065162266, 'min_split_gain': 0.5454388551018071}. Best is trial 24 with value: 38.77492449201558.\n"
     ]
    },
    {
     "name": "stderr",
     "output_type": "stream",
     "text": [
      "[I 2025-02-04 19:00:41,083] Trial 26 finished with value: 38.77396946892497 and parameters: {'num_leaves': 1307, 'max_depth': 10, 'learning_rate': 0.05508446727864625, 'n_estimators': 9375, 'min_child_samples': 39, 'subsample': 0.24570765331748284, 'colsample_bytree': 0.29416587829880303, 'max_bin': 121474, 'reg_alpha': 0.3423829621710105, 'reg_lambda': 0.0078787534130625, 'min_split_gain': 0.548838243587346}. Best is trial 26 with value: 38.77396946892497.\n"
     ]
    },
    {
     "name": "stdout",
     "output_type": "stream",
     "text": [
      "Trial 26 finished with value: 38.77396946892497 and parameters: {'num_leaves': 1307, 'max_depth': 10, 'learning_rate': 0.05508446727864625, 'n_estimators': 9375, 'min_child_samples': 39, 'subsample': 0.24570765331748284, 'colsample_bytree': 0.29416587829880303, 'max_bin': 121474, 'reg_alpha': 0.3423829621710105, 'reg_lambda': 0.0078787534130625, 'min_split_gain': 0.548838243587346}. Best is trial 26 with value: 38.77396946892497.\n",
      "Trial 26 finished with value: 38.77396946892497 and parameters: {'num_leaves': 1307, 'max_depth': 10, 'learning_rate': 0.05508446727864625, 'n_estimators': 9375, 'min_child_samples': 39, 'subsample': 0.24570765331748284, 'colsample_bytree': 0.29416587829880303, 'max_bin': 121474, 'reg_alpha': 0.3423829621710105, 'reg_lambda': 0.0078787534130625, 'min_split_gain': 0.548838243587346}. Best is trial 26 with value: 38.77396946892497.\n",
      "Trial 26 finished with value: 38.77396946892497 and parameters: {'num_leaves': 1307, 'max_depth': 10, 'learning_rate': 0.05508446727864625, 'n_estimators': 9375, 'min_child_samples': 39, 'subsample': 0.24570765331748284, 'colsample_bytree': 0.29416587829880303, 'max_bin': 121474, 'reg_alpha': 0.3423829621710105, 'reg_lambda': 0.0078787534130625, 'min_split_gain': 0.548838243587346}. Best is trial 26 with value: 38.77396946892497.\n",
      "Trial 26 finished with value: 38.77396946892497 and parameters: {'num_leaves': 1307, 'max_depth': 10, 'learning_rate': 0.05508446727864625, 'n_estimators': 9375, 'min_child_samples': 39, 'subsample': 0.24570765331748284, 'colsample_bytree': 0.29416587829880303, 'max_bin': 121474, 'reg_alpha': 0.3423829621710105, 'reg_lambda': 0.0078787534130625, 'min_split_gain': 0.548838243587346}. Best is trial 26 with value: 38.77396946892497.\n"
     ]
    },
    {
     "name": "stderr",
     "output_type": "stream",
     "text": [
      "[I 2025-02-04 19:04:53,497] Trial 27 finished with value: 38.77232789938401 and parameters: {'num_leaves': 1170, 'max_depth': 10, 'learning_rate': 0.053781528942660674, 'n_estimators': 9016, 'min_child_samples': 40, 'subsample': 0.24461471851870792, 'colsample_bytree': 0.30891508938487233, 'max_bin': 120769, 'reg_alpha': 0.9635222561390919, 'reg_lambda': 0.007095148677467161, 'min_split_gain': 0.5429373194558597}. Best is trial 27 with value: 38.77232789938401.\n"
     ]
    },
    {
     "name": "stdout",
     "output_type": "stream",
     "text": [
      "Trial 27 finished with value: 38.77232789938401 and parameters: {'num_leaves': 1170, 'max_depth': 10, 'learning_rate': 0.053781528942660674, 'n_estimators': 9016, 'min_child_samples': 40, 'subsample': 0.24461471851870792, 'colsample_bytree': 0.30891508938487233, 'max_bin': 120769, 'reg_alpha': 0.9635222561390919, 'reg_lambda': 0.007095148677467161, 'min_split_gain': 0.5429373194558597}. Best is trial 27 with value: 38.77232789938401.\n",
      "Trial 27 finished with value: 38.77232789938401 and parameters: {'num_leaves': 1170, 'max_depth': 10, 'learning_rate': 0.053781528942660674, 'n_estimators': 9016, 'min_child_samples': 40, 'subsample': 0.24461471851870792, 'colsample_bytree': 0.30891508938487233, 'max_bin': 120769, 'reg_alpha': 0.9635222561390919, 'reg_lambda': 0.007095148677467161, 'min_split_gain': 0.5429373194558597}. Best is trial 27 with value: 38.77232789938401.\n",
      "Trial 27 finished with value: 38.77232789938401 and parameters: {'num_leaves': 1170, 'max_depth': 10, 'learning_rate': 0.053781528942660674, 'n_estimators': 9016, 'min_child_samples': 40, 'subsample': 0.24461471851870792, 'colsample_bytree': 0.30891508938487233, 'max_bin': 120769, 'reg_alpha': 0.9635222561390919, 'reg_lambda': 0.007095148677467161, 'min_split_gain': 0.5429373194558597}. Best is trial 27 with value: 38.77232789938401.\n",
      "Trial 27 finished with value: 38.77232789938401 and parameters: {'num_leaves': 1170, 'max_depth': 10, 'learning_rate': 0.053781528942660674, 'n_estimators': 9016, 'min_child_samples': 40, 'subsample': 0.24461471851870792, 'colsample_bytree': 0.30891508938487233, 'max_bin': 120769, 'reg_alpha': 0.9635222561390919, 'reg_lambda': 0.007095148677467161, 'min_split_gain': 0.5429373194558597}. Best is trial 27 with value: 38.77232789938401.\n"
     ]
    },
    {
     "name": "stderr",
     "output_type": "stream",
     "text": [
      "[I 2025-02-04 19:07:28,236] Trial 28 finished with value: 38.78501720190521 and parameters: {'num_leaves': 1120, 'max_depth': 10, 'learning_rate': 0.05535002034104246, 'n_estimators': 8855, 'min_child_samples': 39, 'subsample': 0.23447380539630192, 'colsample_bytree': 0.3069589671322208, 'max_bin': 148470, 'reg_alpha': 0.9621575921178727, 'reg_lambda': 0.007820703664115141, 'min_split_gain': 0.5440676756715763}. Best is trial 27 with value: 38.77232789938401.\n"
     ]
    },
    {
     "name": "stdout",
     "output_type": "stream",
     "text": [
      "Trial 28 finished with value: 38.78501720190521 and parameters: {'num_leaves': 1120, 'max_depth': 10, 'learning_rate': 0.05535002034104246, 'n_estimators': 8855, 'min_child_samples': 39, 'subsample': 0.23447380539630192, 'colsample_bytree': 0.3069589671322208, 'max_bin': 148470, 'reg_alpha': 0.9621575921178727, 'reg_lambda': 0.007820703664115141, 'min_split_gain': 0.5440676756715763}. Best is trial 27 with value: 38.77232789938401.\n",
      "Trial 28 finished with value: 38.78501720190521 and parameters: {'num_leaves': 1120, 'max_depth': 10, 'learning_rate': 0.05535002034104246, 'n_estimators': 8855, 'min_child_samples': 39, 'subsample': 0.23447380539630192, 'colsample_bytree': 0.3069589671322208, 'max_bin': 148470, 'reg_alpha': 0.9621575921178727, 'reg_lambda': 0.007820703664115141, 'min_split_gain': 0.5440676756715763}. Best is trial 27 with value: 38.77232789938401.\n",
      "Trial 28 finished with value: 38.78501720190521 and parameters: {'num_leaves': 1120, 'max_depth': 10, 'learning_rate': 0.05535002034104246, 'n_estimators': 8855, 'min_child_samples': 39, 'subsample': 0.23447380539630192, 'colsample_bytree': 0.3069589671322208, 'max_bin': 148470, 'reg_alpha': 0.9621575921178727, 'reg_lambda': 0.007820703664115141, 'min_split_gain': 0.5440676756715763}. Best is trial 27 with value: 38.77232789938401.\n",
      "Trial 28 finished with value: 38.78501720190521 and parameters: {'num_leaves': 1120, 'max_depth': 10, 'learning_rate': 0.05535002034104246, 'n_estimators': 8855, 'min_child_samples': 39, 'subsample': 0.23447380539630192, 'colsample_bytree': 0.3069589671322208, 'max_bin': 148470, 'reg_alpha': 0.9621575921178727, 'reg_lambda': 0.007820703664115141, 'min_split_gain': 0.5440676756715763}. Best is trial 27 with value: 38.77232789938401.\n"
     ]
    },
    {
     "name": "stderr",
     "output_type": "stream",
     "text": [
      "[I 2025-02-04 19:10:22,068] Trial 29 finished with value: 38.77714344258744 and parameters: {'num_leaves': 1267, 'max_depth': 10, 'learning_rate': 0.05445816185674544, 'n_estimators': 8984, 'min_child_samples': 38, 'subsample': 0.24468668500468768, 'colsample_bytree': 0.33575654331276245, 'max_bin': 124162, 'reg_alpha': 0.6798105014434097, 'reg_lambda': 0.0009414285263056771, 'min_split_gain': 0.519582770235842}. Best is trial 27 with value: 38.77232789938401.\n"
     ]
    },
    {
     "name": "stdout",
     "output_type": "stream",
     "text": [
      "Trial 29 finished with value: 38.77714344258744 and parameters: {'num_leaves': 1267, 'max_depth': 10, 'learning_rate': 0.05445816185674544, 'n_estimators': 8984, 'min_child_samples': 38, 'subsample': 0.24468668500468768, 'colsample_bytree': 0.33575654331276245, 'max_bin': 124162, 'reg_alpha': 0.6798105014434097, 'reg_lambda': 0.0009414285263056771, 'min_split_gain': 0.519582770235842}. Best is trial 27 with value: 38.77232789938401.\n",
      "Trial 29 finished with value: 38.77714344258744 and parameters: {'num_leaves': 1267, 'max_depth': 10, 'learning_rate': 0.05445816185674544, 'n_estimators': 8984, 'min_child_samples': 38, 'subsample': 0.24468668500468768, 'colsample_bytree': 0.33575654331276245, 'max_bin': 124162, 'reg_alpha': 0.6798105014434097, 'reg_lambda': 0.0009414285263056771, 'min_split_gain': 0.519582770235842}. Best is trial 27 with value: 38.77232789938401.\n",
      "Trial 29 finished with value: 38.77714344258744 and parameters: {'num_leaves': 1267, 'max_depth': 10, 'learning_rate': 0.05445816185674544, 'n_estimators': 8984, 'min_child_samples': 38, 'subsample': 0.24468668500468768, 'colsample_bytree': 0.33575654331276245, 'max_bin': 124162, 'reg_alpha': 0.6798105014434097, 'reg_lambda': 0.0009414285263056771, 'min_split_gain': 0.519582770235842}. Best is trial 27 with value: 38.77232789938401.\n",
      "Trial 29 finished with value: 38.77714344258744 and parameters: {'num_leaves': 1267, 'max_depth': 10, 'learning_rate': 0.05445816185674544, 'n_estimators': 8984, 'min_child_samples': 38, 'subsample': 0.24468668500468768, 'colsample_bytree': 0.33575654331276245, 'max_bin': 124162, 'reg_alpha': 0.6798105014434097, 'reg_lambda': 0.0009414285263056771, 'min_split_gain': 0.519582770235842}. Best is trial 27 with value: 38.77232789938401.\n"
     ]
    },
    {
     "name": "stderr",
     "output_type": "stream",
     "text": [
      "[I 2025-02-04 19:13:32,488] Trial 30 finished with value: 38.77513707240938 and parameters: {'num_leaves': 1029, 'max_depth': 10, 'learning_rate': 0.05982219850837441, 'n_estimators': 7702, 'min_child_samples': 33, 'subsample': 0.242557302889832, 'colsample_bytree': 0.3108026956960694, 'max_bin': 125261, 'reg_alpha': 0.6660171347582547, 'reg_lambda': 0.0026653930661050184, 'min_split_gain': 0.5326894081714723}. Best is trial 27 with value: 38.77232789938401.\n"
     ]
    },
    {
     "name": "stdout",
     "output_type": "stream",
     "text": [
      "Trial 30 finished with value: 38.77513707240938 and parameters: {'num_leaves': 1029, 'max_depth': 10, 'learning_rate': 0.05982219850837441, 'n_estimators': 7702, 'min_child_samples': 33, 'subsample': 0.242557302889832, 'colsample_bytree': 0.3108026956960694, 'max_bin': 125261, 'reg_alpha': 0.6660171347582547, 'reg_lambda': 0.0026653930661050184, 'min_split_gain': 0.5326894081714723}. Best is trial 27 with value: 38.77232789938401.\n",
      "Trial 30 finished with value: 38.77513707240938 and parameters: {'num_leaves': 1029, 'max_depth': 10, 'learning_rate': 0.05982219850837441, 'n_estimators': 7702, 'min_child_samples': 33, 'subsample': 0.242557302889832, 'colsample_bytree': 0.3108026956960694, 'max_bin': 125261, 'reg_alpha': 0.6660171347582547, 'reg_lambda': 0.0026653930661050184, 'min_split_gain': 0.5326894081714723}. Best is trial 27 with value: 38.77232789938401.\n",
      "Trial 30 finished with value: 38.77513707240938 and parameters: {'num_leaves': 1029, 'max_depth': 10, 'learning_rate': 0.05982219850837441, 'n_estimators': 7702, 'min_child_samples': 33, 'subsample': 0.242557302889832, 'colsample_bytree': 0.3108026956960694, 'max_bin': 125261, 'reg_alpha': 0.6660171347582547, 'reg_lambda': 0.0026653930661050184, 'min_split_gain': 0.5326894081714723}. Best is trial 27 with value: 38.77232789938401.\n",
      "Trial 30 finished with value: 38.77513707240938 and parameters: {'num_leaves': 1029, 'max_depth': 10, 'learning_rate': 0.05982219850837441, 'n_estimators': 7702, 'min_child_samples': 33, 'subsample': 0.242557302889832, 'colsample_bytree': 0.3108026956960694, 'max_bin': 125261, 'reg_alpha': 0.6660171347582547, 'reg_lambda': 0.0026653930661050184, 'min_split_gain': 0.5326894081714723}. Best is trial 27 with value: 38.77232789938401.\n"
     ]
    },
    {
     "name": "stderr",
     "output_type": "stream",
     "text": [
      "[I 2025-02-04 19:16:11,919] Trial 31 finished with value: 38.78288409227749 and parameters: {'num_leaves': 1033, 'max_depth': 10, 'learning_rate': 0.050163708953856405, 'n_estimators': 10230, 'min_child_samples': 30, 'subsample': 0.24184348676056375, 'colsample_bytree': 0.3103171465309688, 'max_bin': 124766, 'reg_alpha': 0.7253778799336028, 'reg_lambda': 0.0025767449298201954, 'min_split_gain': 0.5309804581676075}. Best is trial 27 with value: 38.77232789938401.\n"
     ]
    },
    {
     "name": "stdout",
     "output_type": "stream",
     "text": [
      "Trial 31 finished with value: 38.78288409227749 and parameters: {'num_leaves': 1033, 'max_depth': 10, 'learning_rate': 0.050163708953856405, 'n_estimators': 10230, 'min_child_samples': 30, 'subsample': 0.24184348676056375, 'colsample_bytree': 0.3103171465309688, 'max_bin': 124766, 'reg_alpha': 0.7253778799336028, 'reg_lambda': 0.0025767449298201954, 'min_split_gain': 0.5309804581676075}. Best is trial 27 with value: 38.77232789938401.\n",
      "Trial 31 finished with value: 38.78288409227749 and parameters: {'num_leaves': 1033, 'max_depth': 10, 'learning_rate': 0.050163708953856405, 'n_estimators': 10230, 'min_child_samples': 30, 'subsample': 0.24184348676056375, 'colsample_bytree': 0.3103171465309688, 'max_bin': 124766, 'reg_alpha': 0.7253778799336028, 'reg_lambda': 0.0025767449298201954, 'min_split_gain': 0.5309804581676075}. Best is trial 27 with value: 38.77232789938401.\n",
      "Trial 31 finished with value: 38.78288409227749 and parameters: {'num_leaves': 1033, 'max_depth': 10, 'learning_rate': 0.050163708953856405, 'n_estimators': 10230, 'min_child_samples': 30, 'subsample': 0.24184348676056375, 'colsample_bytree': 0.3103171465309688, 'max_bin': 124766, 'reg_alpha': 0.7253778799336028, 'reg_lambda': 0.0025767449298201954, 'min_split_gain': 0.5309804581676075}. Best is trial 27 with value: 38.77232789938401.\n",
      "Trial 31 finished with value: 38.78288409227749 and parameters: {'num_leaves': 1033, 'max_depth': 10, 'learning_rate': 0.050163708953856405, 'n_estimators': 10230, 'min_child_samples': 30, 'subsample': 0.24184348676056375, 'colsample_bytree': 0.3103171465309688, 'max_bin': 124766, 'reg_alpha': 0.7253778799336028, 'reg_lambda': 0.0025767449298201954, 'min_split_gain': 0.5309804581676075}. Best is trial 27 with value: 38.77232789938401.\n"
     ]
    },
    {
     "name": "stderr",
     "output_type": "stream",
     "text": [
      "[I 2025-02-04 19:18:10,850] Trial 32 finished with value: 38.785730828272044 and parameters: {'num_leaves': 1178, 'max_depth': 10, 'learning_rate': 0.06151020575473196, 'n_estimators': 8017, 'min_child_samples': 44, 'subsample': 0.23245909506608164, 'colsample_bytree': 0.2969747669304576, 'max_bin': 137371, 'reg_alpha': 0.604601487129232, 'reg_lambda': 0.008138859594890944, 'min_split_gain': 0.5460487896068513}. Best is trial 27 with value: 38.77232789938401.\n"
     ]
    },
    {
     "name": "stdout",
     "output_type": "stream",
     "text": [
      "Trial 32 finished with value: 38.785730828272044 and parameters: {'num_leaves': 1178, 'max_depth': 10, 'learning_rate': 0.06151020575473196, 'n_estimators': 8017, 'min_child_samples': 44, 'subsample': 0.23245909506608164, 'colsample_bytree': 0.2969747669304576, 'max_bin': 137371, 'reg_alpha': 0.604601487129232, 'reg_lambda': 0.008138859594890944, 'min_split_gain': 0.5460487896068513}. Best is trial 27 with value: 38.77232789938401.\n",
      "Trial 32 finished with value: 38.785730828272044 and parameters: {'num_leaves': 1178, 'max_depth': 10, 'learning_rate': 0.06151020575473196, 'n_estimators': 8017, 'min_child_samples': 44, 'subsample': 0.23245909506608164, 'colsample_bytree': 0.2969747669304576, 'max_bin': 137371, 'reg_alpha': 0.604601487129232, 'reg_lambda': 0.008138859594890944, 'min_split_gain': 0.5460487896068513}. Best is trial 27 with value: 38.77232789938401.\n",
      "Trial 32 finished with value: 38.785730828272044 and parameters: {'num_leaves': 1178, 'max_depth': 10, 'learning_rate': 0.06151020575473196, 'n_estimators': 8017, 'min_child_samples': 44, 'subsample': 0.23245909506608164, 'colsample_bytree': 0.2969747669304576, 'max_bin': 137371, 'reg_alpha': 0.604601487129232, 'reg_lambda': 0.008138859594890944, 'min_split_gain': 0.5460487896068513}. Best is trial 27 with value: 38.77232789938401.\n",
      "Trial 32 finished with value: 38.785730828272044 and parameters: {'num_leaves': 1178, 'max_depth': 10, 'learning_rate': 0.06151020575473196, 'n_estimators': 8017, 'min_child_samples': 44, 'subsample': 0.23245909506608164, 'colsample_bytree': 0.2969747669304576, 'max_bin': 137371, 'reg_alpha': 0.604601487129232, 'reg_lambda': 0.008138859594890944, 'min_split_gain': 0.5460487896068513}. Best is trial 27 with value: 38.77232789938401.\n"
     ]
    },
    {
     "name": "stderr",
     "output_type": "stream",
     "text": [
      "[I 2025-02-04 19:21:08,594] Trial 33 finished with value: 38.777366676269985 and parameters: {'num_leaves': 1329, 'max_depth': 11, 'learning_rate': 0.056175408889356834, 'n_estimators': 11974, 'min_child_samples': 62, 'subsample': 0.24346529448362805, 'colsample_bytree': 0.3271387080781261, 'max_bin': 101676, 'reg_alpha': 0.8547282055296953, 'reg_lambda': 0.00043706910617722337, 'min_split_gain': 0.5322606422685455}. Best is trial 27 with value: 38.77232789938401.\n"
     ]
    },
    {
     "name": "stdout",
     "output_type": "stream",
     "text": [
      "Trial 33 finished with value: 38.777366676269985 and parameters: {'num_leaves': 1329, 'max_depth': 11, 'learning_rate': 0.056175408889356834, 'n_estimators': 11974, 'min_child_samples': 62, 'subsample': 0.24346529448362805, 'colsample_bytree': 0.3271387080781261, 'max_bin': 101676, 'reg_alpha': 0.8547282055296953, 'reg_lambda': 0.00043706910617722337, 'min_split_gain': 0.5322606422685455}. Best is trial 27 with value: 38.77232789938401.\n",
      "Trial 33 finished with value: 38.777366676269985 and parameters: {'num_leaves': 1329, 'max_depth': 11, 'learning_rate': 0.056175408889356834, 'n_estimators': 11974, 'min_child_samples': 62, 'subsample': 0.24346529448362805, 'colsample_bytree': 0.3271387080781261, 'max_bin': 101676, 'reg_alpha': 0.8547282055296953, 'reg_lambda': 0.00043706910617722337, 'min_split_gain': 0.5322606422685455}. Best is trial 27 with value: 38.77232789938401.\n",
      "Trial 33 finished with value: 38.777366676269985 and parameters: {'num_leaves': 1329, 'max_depth': 11, 'learning_rate': 0.056175408889356834, 'n_estimators': 11974, 'min_child_samples': 62, 'subsample': 0.24346529448362805, 'colsample_bytree': 0.3271387080781261, 'max_bin': 101676, 'reg_alpha': 0.8547282055296953, 'reg_lambda': 0.00043706910617722337, 'min_split_gain': 0.5322606422685455}. Best is trial 27 with value: 38.77232789938401.\n",
      "Trial 33 finished with value: 38.777366676269985 and parameters: {'num_leaves': 1329, 'max_depth': 11, 'learning_rate': 0.056175408889356834, 'n_estimators': 11974, 'min_child_samples': 62, 'subsample': 0.24346529448362805, 'colsample_bytree': 0.3271387080781261, 'max_bin': 101676, 'reg_alpha': 0.8547282055296953, 'reg_lambda': 0.00043706910617722337, 'min_split_gain': 0.5322606422685455}. Best is trial 27 with value: 38.77232789938401.\n"
     ]
    },
    {
     "name": "stderr",
     "output_type": "stream",
     "text": [
      "[I 2025-02-04 19:24:01,191] Trial 34 finished with value: 38.783407135239656 and parameters: {'num_leaves': 949, 'max_depth': 10, 'learning_rate': 0.05553665806620914, 'n_estimators': 7266, 'min_child_samples': 21, 'subsample': 0.234052006796841, 'colsample_bytree': 0.317512514706488, 'max_bin': 122505, 'reg_alpha': 0.4753253374738805, 'reg_lambda': 1.7260409184022813e-08, 'min_split_gain': 0.5426641518825144}. Best is trial 27 with value: 38.77232789938401.\n"
     ]
    },
    {
     "name": "stdout",
     "output_type": "stream",
     "text": [
      "Trial 34 finished with value: 38.783407135239656 and parameters: {'num_leaves': 949, 'max_depth': 10, 'learning_rate': 0.05553665806620914, 'n_estimators': 7266, 'min_child_samples': 21, 'subsample': 0.234052006796841, 'colsample_bytree': 0.317512514706488, 'max_bin': 122505, 'reg_alpha': 0.4753253374738805, 'reg_lambda': 1.7260409184022813e-08, 'min_split_gain': 0.5426641518825144}. Best is trial 27 with value: 38.77232789938401.\n",
      "Trial 34 finished with value: 38.783407135239656 and parameters: {'num_leaves': 949, 'max_depth': 10, 'learning_rate': 0.05553665806620914, 'n_estimators': 7266, 'min_child_samples': 21, 'subsample': 0.234052006796841, 'colsample_bytree': 0.317512514706488, 'max_bin': 122505, 'reg_alpha': 0.4753253374738805, 'reg_lambda': 1.7260409184022813e-08, 'min_split_gain': 0.5426641518825144}. Best is trial 27 with value: 38.77232789938401.\n",
      "Trial 34 finished with value: 38.783407135239656 and parameters: {'num_leaves': 949, 'max_depth': 10, 'learning_rate': 0.05553665806620914, 'n_estimators': 7266, 'min_child_samples': 21, 'subsample': 0.234052006796841, 'colsample_bytree': 0.317512514706488, 'max_bin': 122505, 'reg_alpha': 0.4753253374738805, 'reg_lambda': 1.7260409184022813e-08, 'min_split_gain': 0.5426641518825144}. Best is trial 27 with value: 38.77232789938401.\n",
      "Trial 34 finished with value: 38.783407135239656 and parameters: {'num_leaves': 949, 'max_depth': 10, 'learning_rate': 0.05553665806620914, 'n_estimators': 7266, 'min_child_samples': 21, 'subsample': 0.234052006796841, 'colsample_bytree': 0.317512514706488, 'max_bin': 122505, 'reg_alpha': 0.4753253374738805, 'reg_lambda': 1.7260409184022813e-08, 'min_split_gain': 0.5426641518825144}. Best is trial 27 with value: 38.77232789938401.\n"
     ]
    },
    {
     "name": "stderr",
     "output_type": "stream",
     "text": [
      "[I 2025-02-04 19:26:59,058] Trial 35 finished with value: 38.78092250921433 and parameters: {'num_leaves': 573, 'max_depth': 9, 'learning_rate': 0.06279108645092474, 'n_estimators': 9834, 'min_child_samples': 33, 'subsample': 0.23999679538309665, 'colsample_bytree': 0.3104950455201615, 'max_bin': 169663, 'reg_alpha': 0.35869723407696896, 'reg_lambda': 0.002257558490496617, 'min_split_gain': 0.5478424609391683}. Best is trial 27 with value: 38.77232789938401.\n"
     ]
    },
    {
     "name": "stdout",
     "output_type": "stream",
     "text": [
      "Trial 35 finished with value: 38.78092250921433 and parameters: {'num_leaves': 573, 'max_depth': 9, 'learning_rate': 0.06279108645092474, 'n_estimators': 9834, 'min_child_samples': 33, 'subsample': 0.23999679538309665, 'colsample_bytree': 0.3104950455201615, 'max_bin': 169663, 'reg_alpha': 0.35869723407696896, 'reg_lambda': 0.002257558490496617, 'min_split_gain': 0.5478424609391683}. Best is trial 27 with value: 38.77232789938401.\n",
      "Trial 35 finished with value: 38.78092250921433 and parameters: {'num_leaves': 573, 'max_depth': 9, 'learning_rate': 0.06279108645092474, 'n_estimators': 9834, 'min_child_samples': 33, 'subsample': 0.23999679538309665, 'colsample_bytree': 0.3104950455201615, 'max_bin': 169663, 'reg_alpha': 0.35869723407696896, 'reg_lambda': 0.002257558490496617, 'min_split_gain': 0.5478424609391683}. Best is trial 27 with value: 38.77232789938401.\n",
      "Trial 35 finished with value: 38.78092250921433 and parameters: {'num_leaves': 573, 'max_depth': 9, 'learning_rate': 0.06279108645092474, 'n_estimators': 9834, 'min_child_samples': 33, 'subsample': 0.23999679538309665, 'colsample_bytree': 0.3104950455201615, 'max_bin': 169663, 'reg_alpha': 0.35869723407696896, 'reg_lambda': 0.002257558490496617, 'min_split_gain': 0.5478424609391683}. Best is trial 27 with value: 38.77232789938401.\n",
      "Trial 35 finished with value: 38.78092250921433 and parameters: {'num_leaves': 573, 'max_depth': 9, 'learning_rate': 0.06279108645092474, 'n_estimators': 9834, 'min_child_samples': 33, 'subsample': 0.23999679538309665, 'colsample_bytree': 0.3104950455201615, 'max_bin': 169663, 'reg_alpha': 0.35869723407696896, 'reg_lambda': 0.002257558490496617, 'min_split_gain': 0.5478424609391683}. Best is trial 27 with value: 38.77232789938401.\n"
     ]
    },
    {
     "name": "stderr",
     "output_type": "stream",
     "text": [
      "[I 2025-02-04 19:29:17,617] Trial 36 finished with value: 38.786777460325695 and parameters: {'num_leaves': 842, 'max_depth': 11, 'learning_rate': 0.05272503424468774, 'n_estimators': 5276, 'min_child_samples': 49, 'subsample': 0.2324610805899151, 'colsample_bytree': 0.32707196855020787, 'max_bin': 151085, 'reg_alpha': 0.17559253697047825, 'reg_lambda': 0.01073652310067165, 'min_split_gain': 0.5382202721670754}. Best is trial 27 with value: 38.77232789938401.\n"
     ]
    },
    {
     "name": "stdout",
     "output_type": "stream",
     "text": [
      "Trial 36 finished with value: 38.786777460325695 and parameters: {'num_leaves': 842, 'max_depth': 11, 'learning_rate': 0.05272503424468774, 'n_estimators': 5276, 'min_child_samples': 49, 'subsample': 0.2324610805899151, 'colsample_bytree': 0.32707196855020787, 'max_bin': 151085, 'reg_alpha': 0.17559253697047825, 'reg_lambda': 0.01073652310067165, 'min_split_gain': 0.5382202721670754}. Best is trial 27 with value: 38.77232789938401.\n",
      "Trial 36 finished with value: 38.786777460325695 and parameters: {'num_leaves': 842, 'max_depth': 11, 'learning_rate': 0.05272503424468774, 'n_estimators': 5276, 'min_child_samples': 49, 'subsample': 0.2324610805899151, 'colsample_bytree': 0.32707196855020787, 'max_bin': 151085, 'reg_alpha': 0.17559253697047825, 'reg_lambda': 0.01073652310067165, 'min_split_gain': 0.5382202721670754}. Best is trial 27 with value: 38.77232789938401.\n",
      "Trial 36 finished with value: 38.786777460325695 and parameters: {'num_leaves': 842, 'max_depth': 11, 'learning_rate': 0.05272503424468774, 'n_estimators': 5276, 'min_child_samples': 49, 'subsample': 0.2324610805899151, 'colsample_bytree': 0.32707196855020787, 'max_bin': 151085, 'reg_alpha': 0.17559253697047825, 'reg_lambda': 0.01073652310067165, 'min_split_gain': 0.5382202721670754}. Best is trial 27 with value: 38.77232789938401.\n",
      "Trial 36 finished with value: 38.786777460325695 and parameters: {'num_leaves': 842, 'max_depth': 11, 'learning_rate': 0.05272503424468774, 'n_estimators': 5276, 'min_child_samples': 49, 'subsample': 0.2324610805899151, 'colsample_bytree': 0.32707196855020787, 'max_bin': 151085, 'reg_alpha': 0.17559253697047825, 'reg_lambda': 0.01073652310067165, 'min_split_gain': 0.5382202721670754}. Best is trial 27 with value: 38.77232789938401.\n"
     ]
    }
   ],
   "source": [
    "def objective(trial):    \n",
    "    # Define the hyperparameter search space\n",
    "    param = {\n",
    "        'objective': 'regression',\n",
    "        'metric': 'rmse',\n",
    "        'num_leaves': trial.suggest_int('num_leaves', 400, 2000),\n",
    "        'max_depth': trial.suggest_int('max_depth', 6, 12),\n",
    "        'learning_rate': trial.suggest_loguniform('learning_rate', .05, 0.15),\n",
    "        'n_estimators': trial.suggest_int('n_estimators', 4000, 20000),\n",
    "        'min_child_samples': trial.suggest_int('min_child_samples', 20, 200),\n",
    "        'subsample': trial.suggest_float('subsample', 0.15, .25),\n",
    "        'colsample_bytree': trial.suggest_float('colsample_bytree', 0.25, .35),\n",
    "        'max_bin': trial.suggest_int('max_bin', 50000, 200000),\n",
    "        'reg_alpha': trial.suggest_loguniform('reg_alpha', 0.01, 1.0),\n",
    "        'reg_lambda': trial.suggest_loguniform('reg_lambda', 1e-8, .05),\n",
    "        'min_split_gain': trial.suggest_float('min_split_gain', 0.5, 0.55),\n",
    "        'random_state': 42,\n",
    "        'early_stopping_rounds': 50,\n",
    "        'verbosity': -1,\n",
    "    }\n",
    "    \n",
    "    train_data = lgb.Dataset(X_train, label=y_train)\n",
    "    valid_data = lgb.Dataset(X_valid, label=y_valid, reference=train_data)\n",
    "    \n",
    "    # Initialize the model with these parameters\n",
    "    model = lgb.train(param, train_data, num_boost_round=300, valid_sets=[valid_data])\n",
    "    y_pred = model.predict(X_valid, num_iteration=model.best_iteration)\n",
    "    rmse = np.sqrt(mean_squared_error(y_valid, y_pred))    \n",
    "    return rmse\n",
    "\n",
    "optuna.logging.get_logger(\"optuna\").addHandler(logging.StreamHandler(sys.stdout))\n",
    "study_name = datetime.now().strftime(\"%Y-%m-%d_%H-%M-%S\")\n",
    "storage_name = f\"sqlite:///{os.path.join(optuna_dir, study_name)}.db\"\n",
    "study = optuna.create_study(study_name=study_name, storage=storage_name, direction='minimize')\n",
    "study.optimize(objective, n_trials=50)"
   ]
  },
  {
   "cell_type": "markdown",
   "metadata": {},
   "source": [
    "## Older stuff"
   ]
  },
  {
   "cell_type": "code",
   "execution_count": 27,
   "metadata": {},
   "outputs": [
    {
     "name": "stderr",
     "output_type": "stream",
     "text": [
      "[I 2025-02-04 06:34:58,549] A new study created in memory with name: no-name-0ef73315-47fe-4229-b8f0-975463622cd5\n",
      "[I 2025-02-04 06:35:18,737] Trial 0 finished with value: 38.85835965643685 and parameters: {'num_leaves': 275, 'max_depth': 7, 'learning_rate': 0.06747451694850155, 'min_child_samples': 48, 'subsample': 0.7301614143973025, 'colsample_bytree': 0.5627798598992705, 'max_bin': 793, 'reg_alpha': 0.00011220199806930794, 'reg_lambda': 0.010719331890043265, 'min_split_gain': 0.4956674404440702}. Best is trial 0 with value: 38.85835965643685.\n",
      "[I 2025-02-04 06:35:25,357] Trial 1 finished with value: 38.87059928486902 and parameters: {'num_leaves': 321, 'max_depth': 9, 'learning_rate': 0.16928805209180173, 'min_child_samples': 12, 'subsample': 0.6643571810688592, 'colsample_bytree': 0.9405091772003791, 'max_bin': 600, 'reg_alpha': 3.861419362485028e-08, 'reg_lambda': 0.003795269932834587, 'min_split_gain': 0.360626343629453}. Best is trial 0 with value: 38.85835965643685.\n",
      "[I 2025-02-04 06:35:31,759] Trial 2 finished with value: 38.86239934897928 and parameters: {'num_leaves': 342, 'max_depth': 5, 'learning_rate': 0.3890477007292393, 'min_child_samples': 28, 'subsample': 0.9126717477884542, 'colsample_bytree': 0.5011850602743162, 'max_bin': 544, 'reg_alpha': 2.586117995457623e-07, 'reg_lambda': 0.11776229329909468, 'min_split_gain': 0.3885753869783293}. Best is trial 0 with value: 38.85835965643685.\n",
      "[I 2025-02-04 06:35:35,506] Trial 3 finished with value: 38.86742497749773 and parameters: {'num_leaves': 118, 'max_depth': 11, 'learning_rate': 0.2741208614190426, 'min_child_samples': 56, 'subsample': 0.7051150973514584, 'colsample_bytree': 0.5740843711306118, 'max_bin': 231, 'reg_alpha': 0.019803780563270423, 'reg_lambda': 0.013841215999287787, 'min_split_gain': 0.622404683309861}. Best is trial 0 with value: 38.85835965643685.\n",
      "[I 2025-02-04 06:35:40,668] Trial 4 finished with value: 38.86591190758499 and parameters: {'num_leaves': 68, 'max_depth': 6, 'learning_rate': 0.2764723256022727, 'min_child_samples': 8, 'subsample': 0.8014038749608321, 'colsample_bytree': 0.5892819674453518, 'max_bin': 303, 'reg_alpha': 3.98430692284623e-08, 'reg_lambda': 0.2981792862108581, 'min_split_gain': 0.5846022030197687}. Best is trial 0 with value: 38.85835965643685.\n",
      "[I 2025-02-04 06:35:41,217] Trial 5 pruned. Trial was pruned at iteration 0.\n",
      "[I 2025-02-04 06:35:43,691] Trial 6 pruned. Trial was pruned at iteration 34.\n",
      "[I 2025-02-04 06:35:44,273] Trial 7 pruned. Trial was pruned at iteration 1.\n",
      "[I 2025-02-04 06:35:44,903] Trial 8 pruned. Trial was pruned at iteration 0.\n",
      "[I 2025-02-04 06:35:45,535] Trial 9 pruned. Trial was pruned at iteration 0.\n",
      "[I 2025-02-04 06:35:46,091] Trial 10 pruned. Trial was pruned at iteration 0.\n",
      "[I 2025-02-04 06:35:46,703] Trial 11 pruned. Trial was pruned at iteration 0.\n",
      "[I 2025-02-04 06:35:47,265] Trial 12 pruned. Trial was pruned at iteration 0.\n",
      "[I 2025-02-04 06:35:47,898] Trial 13 pruned. Trial was pruned at iteration 0.\n",
      "[I 2025-02-04 06:35:48,459] Trial 14 pruned. Trial was pruned at iteration 0.\n",
      "[I 2025-02-04 06:35:49,127] Trial 15 pruned. Trial was pruned at iteration 0.\n",
      "[I 2025-02-04 06:35:49,696] Trial 16 pruned. Trial was pruned at iteration 0.\n",
      "[I 2025-02-04 06:35:50,296] Trial 17 pruned. Trial was pruned at iteration 0.\n",
      "[I 2025-02-04 06:35:51,008] Trial 18 pruned. Trial was pruned at iteration 0.\n",
      "[I 2025-02-04 06:35:51,591] Trial 19 pruned. Trial was pruned at iteration 1.\n",
      "[I 2025-02-04 06:35:52,237] Trial 20 pruned. Trial was pruned at iteration 0.\n",
      "[I 2025-02-04 06:35:54,273] Trial 21 pruned. Trial was pruned at iteration 31.\n",
      "[I 2025-02-04 06:35:54,818] Trial 22 pruned. Trial was pruned at iteration 0.\n",
      "[I 2025-02-04 06:35:55,412] Trial 23 pruned. Trial was pruned at iteration 0.\n",
      "[I 2025-02-04 06:35:55,945] Trial 24 pruned. Trial was pruned at iteration 0.\n",
      "[I 2025-02-04 06:35:57,624] Trial 25 pruned. Trial was pruned at iteration 22.\n",
      "[I 2025-02-04 06:35:58,239] Trial 26 pruned. Trial was pruned at iteration 0.\n",
      "[I 2025-02-04 06:36:00,165] Trial 27 pruned. Trial was pruned at iteration 23.\n",
      "[I 2025-02-04 06:36:00,755] Trial 28 pruned. Trial was pruned at iteration 1.\n",
      "[I 2025-02-04 06:36:01,270] Trial 29 pruned. Trial was pruned at iteration 0.\n",
      "[I 2025-02-04 06:36:01,960] Trial 30 pruned. Trial was pruned at iteration 1.\n",
      "[I 2025-02-04 06:36:02,497] Trial 31 pruned. Trial was pruned at iteration 0.\n",
      "[I 2025-02-04 06:36:03,111] Trial 32 pruned. Trial was pruned at iteration 1.\n",
      "[I 2025-02-04 06:36:04,689] Trial 33 pruned. Trial was pruned at iteration 23.\n",
      "[I 2025-02-04 06:36:05,283] Trial 34 pruned. Trial was pruned at iteration 0.\n",
      "[I 2025-02-04 06:36:05,823] Trial 35 pruned. Trial was pruned at iteration 0.\n",
      "[I 2025-02-04 06:36:09,074] Trial 36 finished with value: 38.86691825899771 and parameters: {'num_leaves': 90, 'max_depth': 14, 'learning_rate': 0.4045750423148771, 'min_child_samples': 13, 'subsample': 0.6308371001872647, 'colsample_bytree': 0.9910204346341857, 'max_bin': 629, 'reg_alpha': 3.6013946052917285e-06, 'reg_lambda': 0.0046502420104042146, 'min_split_gain': 0.6307539911132098}. Best is trial 0 with value: 38.85835965643685.\n",
      "[I 2025-02-04 06:36:11,950] Trial 37 finished with value: 38.86612105388415 and parameters: {'num_leaves': 58, 'max_depth': 15, 'learning_rate': 0.4258595847790961, 'min_child_samples': 11, 'subsample': 0.5463944255934705, 'colsample_bytree': 0.9902321826502296, 'max_bin': 593, 'reg_alpha': 3.839242079567338e-06, 'reg_lambda': 0.03620085206123032, 'min_split_gain': 0.5282892831148136}. Best is trial 0 with value: 38.85835965643685.\n",
      "[I 2025-02-04 06:36:13,259] Trial 38 pruned. Trial was pruned at iteration 6.\n",
      "[I 2025-02-04 06:36:13,869] Trial 39 pruned. Trial was pruned at iteration 1.\n",
      "[I 2025-02-04 06:36:14,437] Trial 40 pruned. Trial was pruned at iteration 0.\n",
      "[I 2025-02-04 06:36:17,140] Trial 41 finished with value: 38.86243647651078 and parameters: {'num_leaves': 85, 'max_depth': 16, 'learning_rate': 0.41439995656059736, 'min_child_samples': 13, 'subsample': 0.6102835160637237, 'colsample_bytree': 0.9865501598149462, 'max_bin': 621, 'reg_alpha': 4.5211816346011165e-06, 'reg_lambda': 0.0061594949942657025, 'min_split_gain': 0.6637359130235019}. Best is trial 0 with value: 38.85835965643685.\n",
      "[I 2025-02-04 06:36:18,629] Trial 42 pruned. Trial was pruned at iteration 25.\n",
      "[I 2025-02-04 06:36:22,301] Trial 43 finished with value: 38.861247645758674 and parameters: {'num_leaves': 25, 'max_depth': 15, 'learning_rate': 0.3303878250580114, 'min_child_samples': 9, 'subsample': 0.5249756739088984, 'colsample_bytree': 0.9472780735765307, 'max_bin': 777, 'reg_alpha': 5.917341214777117e-06, 'reg_lambda': 0.12151300788958058, 'min_split_gain': 0.5593582279578033}. Best is trial 0 with value: 38.85835965643685.\n",
      "[I 2025-02-04 06:36:23,028] Trial 44 pruned. Trial was pruned at iteration 3.\n",
      "[I 2025-02-04 06:36:25,140] Trial 45 pruned. Trial was pruned at iteration 24.\n",
      "[I 2025-02-04 06:36:25,750] Trial 46 pruned. Trial was pruned at iteration 0.\n",
      "[I 2025-02-04 06:36:26,612] Trial 47 pruned. Trial was pruned at iteration 6.\n",
      "[I 2025-02-04 06:36:27,191] Trial 48 pruned. Trial was pruned at iteration 0.\n",
      "[I 2025-02-04 06:36:27,822] Trial 49 pruned. Trial was pruned at iteration 0.\n",
      "[I 2025-02-04 06:36:28,351] Trial 50 pruned. Trial was pruned at iteration 0.\n",
      "[I 2025-02-04 06:36:31,074] Trial 51 finished with value: 38.86656950868419 and parameters: {'num_leaves': 80, 'max_depth': 15, 'learning_rate': 0.41277882140905386, 'min_child_samples': 14, 'subsample': 0.5474075286726255, 'colsample_bytree': 0.9551265550488284, 'max_bin': 500, 'reg_alpha': 4.570121543967556e-06, 'reg_lambda': 0.04762536511413767, 'min_split_gain': 0.5469095331540288}. Best is trial 0 with value: 38.85835965643685.\n",
      "[I 2025-02-04 06:36:34,440] Trial 52 finished with value: 38.859197296720446 and parameters: {'num_leaves': 53, 'max_depth': 14, 'learning_rate': 0.27554337165845233, 'min_child_samples': 10, 'subsample': 0.560520638356832, 'colsample_bytree': 0.9712158235966744, 'max_bin': 653, 'reg_alpha': 6.422787546557291e-06, 'reg_lambda': 0.03427148395106591, 'min_split_gain': 0.42293220610896665}. Best is trial 0 with value: 38.85835965643685.\n",
      "[I 2025-02-04 06:36:35,024] Trial 53 pruned. Trial was pruned at iteration 0.\n",
      "[I 2025-02-04 06:36:35,582] Trial 54 pruned. Trial was pruned at iteration 0.\n",
      "[I 2025-02-04 06:36:36,157] Trial 55 pruned. Trial was pruned at iteration 0.\n",
      "[I 2025-02-04 06:36:37,786] Trial 56 pruned. Trial was pruned at iteration 11.\n",
      "[I 2025-02-04 06:36:38,370] Trial 57 pruned. Trial was pruned at iteration 0.\n",
      "[I 2025-02-04 06:36:39,317] Trial 58 pruned. Trial was pruned at iteration 7.\n",
      "[I 2025-02-04 06:36:39,942] Trial 59 pruned. Trial was pruned at iteration 0.\n",
      "[I 2025-02-04 06:36:40,534] Trial 60 pruned. Trial was pruned at iteration 0.\n",
      "[I 2025-02-04 06:36:43,091] Trial 61 finished with value: 38.86390796277852 and parameters: {'num_leaves': 50, 'max_depth': 15, 'learning_rate': 0.44401960781731226, 'min_child_samples': 15, 'subsample': 0.5544312028985435, 'colsample_bytree': 0.9364770320967599, 'max_bin': 597, 'reg_alpha': 5.454093751393097e-06, 'reg_lambda': 0.02837686481425356, 'min_split_gain': 0.523291397919211}. Best is trial 0 with value: 38.85835965643685.\n",
      "[I 2025-02-04 06:36:44,371] Trial 62 pruned. Trial was pruned at iteration 7.\n",
      "[I 2025-02-04 06:36:45,529] Trial 63 pruned. Trial was pruned at iteration 10.\n",
      "[I 2025-02-04 06:36:46,091] Trial 64 pruned. Trial was pruned at iteration 1.\n",
      "[I 2025-02-04 06:36:49,195] Trial 65 finished with value: 38.86392850860953 and parameters: {'num_leaves': 109, 'max_depth': 15, 'learning_rate': 0.2702949288153975, 'min_child_samples': 11, 'subsample': 0.563099646966658, 'colsample_bytree': 0.9743329652584526, 'max_bin': 566, 'reg_alpha': 7.747249719609871e-06, 'reg_lambda': 0.0014610642896091984, 'min_split_gain': 0.6108639049101456}. Best is trial 0 with value: 38.85835965643685.\n",
      "[I 2025-02-04 06:36:49,800] Trial 66 pruned. Trial was pruned at iteration 0.\n",
      "[I 2025-02-04 06:36:50,394] Trial 67 pruned. Trial was pruned at iteration 0.\n",
      "[I 2025-02-04 06:36:51,086] Trial 68 pruned. Trial was pruned at iteration 0.\n",
      "[I 2025-02-04 06:36:52,344] Trial 69 pruned. Trial was pruned at iteration 9.\n",
      "[I 2025-02-04 06:36:53,518] Trial 70 pruned. Trial was pruned at iteration 4.\n",
      "[I 2025-02-04 06:36:54,096] Trial 71 pruned. Trial was pruned at iteration 0.\n",
      "[I 2025-02-04 06:36:54,654] Trial 72 pruned. Trial was pruned at iteration 0.\n",
      "[I 2025-02-04 06:36:57,424] Trial 73 finished with value: 38.86450150610898 and parameters: {'num_leaves': 53, 'max_depth': 16, 'learning_rate': 0.38363192864779005, 'min_child_samples': 23, 'subsample': 0.5831045508522466, 'colsample_bytree': 0.9013476536939182, 'max_bin': 618, 'reg_alpha': 6.130468173907876e-08, 'reg_lambda': 0.01201284375788592, 'min_split_gain': 0.665886236991452}. Best is trial 0 with value: 38.85835965643685.\n",
      "[I 2025-02-04 06:37:00,424] Trial 74 finished with value: 38.862591063027104 and parameters: {'num_leaves': 52, 'max_depth': 16, 'learning_rate': 0.37838936821425967, 'min_child_samples': 24, 'subsample': 0.5359348299946483, 'colsample_bytree': 0.9989005888225881, 'max_bin': 622, 'reg_alpha': 1.3893614118543039e-05, 'reg_lambda': 0.01538107985746591, 'min_split_gain': 0.6524847603716428}. Best is trial 0 with value: 38.85835965643685.\n",
      "[I 2025-02-04 06:37:00,949] Trial 75 pruned. Trial was pruned at iteration 0.\n",
      "[I 2025-02-04 06:37:02,034] Trial 76 pruned. Trial was pruned at iteration 5.\n",
      "[I 2025-02-04 06:37:02,705] Trial 77 pruned. Trial was pruned at iteration 2.\n",
      "[I 2025-02-04 06:37:03,315] Trial 78 pruned. Trial was pruned at iteration 0.\n",
      "[I 2025-02-04 06:37:03,972] Trial 79 pruned. Trial was pruned at iteration 0.\n",
      "[I 2025-02-04 06:37:07,224] Trial 80 finished with value: 38.86459995838628 and parameters: {'num_leaves': 108, 'max_depth': 15, 'learning_rate': 0.32599450398134916, 'min_child_samples': 53, 'subsample': 0.5629608275397808, 'colsample_bytree': 0.9868269206089183, 'max_bin': 623, 'reg_alpha': 3.448219650983964e-05, 'reg_lambda': 5.257063752956827e-05, 'min_split_gain': 0.4488250304122352}. Best is trial 0 with value: 38.85835965643685.\n",
      "[I 2025-02-04 06:37:08,168] Trial 81 pruned. Trial was pruned at iteration 6.\n",
      "[I 2025-02-04 06:37:09,319] Trial 82 pruned. Trial was pruned at iteration 9.\n",
      "[I 2025-02-04 06:37:09,904] Trial 83 pruned. Trial was pruned at iteration 0.\n",
      "[I 2025-02-04 06:37:12,869] Trial 84 finished with value: 38.86098418677698 and parameters: {'num_leaves': 56, 'max_depth': 16, 'learning_rate': 0.399716491570082, 'min_child_samples': 99, 'subsample': 0.5856110726085917, 'colsample_bytree': 0.9663421290679051, 'max_bin': 656, 'reg_alpha': 1.6586412192372565e-06, 'reg_lambda': 0.0181826934902337, 'min_split_gain': 0.6716359341659663}. Best is trial 0 with value: 38.85835965643685.\n",
      "[I 2025-02-04 06:37:13,489] Trial 85 pruned. Trial was pruned at iteration 1.\n",
      "[I 2025-02-04 06:37:16,871] Trial 86 finished with value: 38.865210601136376 and parameters: {'num_leaves': 136, 'max_depth': 14, 'learning_rate': 0.3357625912426531, 'min_child_samples': 92, 'subsample': 0.5578786529167192, 'colsample_bytree': 0.9643031270053023, 'max_bin': 425, 'reg_alpha': 1.8059271034266222e-06, 'reg_lambda': 0.00039258568045513336, 'min_split_gain': 0.6838538294737826}. Best is trial 0 with value: 38.85835965643685.\n",
      "[I 2025-02-04 06:37:17,424] Trial 87 pruned. Trial was pruned at iteration 0.\n",
      "[I 2025-02-04 06:37:20,212] Trial 88 finished with value: 38.865165150917626 and parameters: {'num_leaves': 88, 'max_depth': 15, 'learning_rate': 0.4086226117979224, 'min_child_samples': 7, 'subsample': 0.5978065032149731, 'colsample_bytree': 0.9730104900050593, 'max_bin': 575, 'reg_alpha': 8.663192417947188e-06, 'reg_lambda': 0.4785689179694647, 'min_split_gain': 0.5917368136088716}. Best is trial 0 with value: 38.85835965643685.\n",
      "[I 2025-02-04 06:37:20,902] Trial 89 pruned. Trial was pruned at iteration 0.\n",
      "[I 2025-02-04 06:37:21,451] Trial 90 pruned. Trial was pruned at iteration 0.\n",
      "[I 2025-02-04 06:37:24,130] Trial 91 finished with value: 38.86327105061823 and parameters: {'num_leaves': 52, 'max_depth': 16, 'learning_rate': 0.4588664792625275, 'min_child_samples': 22, 'subsample': 0.581897402945103, 'colsample_bytree': 0.9863542222241144, 'max_bin': 602, 'reg_alpha': 6.053594663161608e-06, 'reg_lambda': 0.011906920758929311, 'min_split_gain': 0.6635960427542875}. Best is trial 0 with value: 38.85835965643685.\n",
      "[I 2025-02-04 06:37:25,469] Trial 92 pruned. Trial was pruned at iteration 15.\n",
      "[I 2025-02-04 06:37:26,038] Trial 93 pruned. Trial was pruned at iteration 0.\n",
      "[I 2025-02-04 06:37:26,633] Trial 94 pruned. Trial was pruned at iteration 0.\n",
      "[I 2025-02-04 06:37:28,143] Trial 95 pruned. Trial was pruned at iteration 15.\n",
      "[I 2025-02-04 06:37:28,684] Trial 96 pruned. Trial was pruned at iteration 0.\n",
      "[I 2025-02-04 06:37:29,324] Trial 97 pruned. Trial was pruned at iteration 0.\n",
      "[I 2025-02-04 06:37:29,899] Trial 98 pruned. Trial was pruned at iteration 0.\n",
      "[I 2025-02-04 06:37:30,542] Trial 99 pruned. Trial was pruned at iteration 0.\n"
     ]
    }
   ],
   "source": [
    "def objective(trial):\n",
    "    param = {\n",
    "        'objective': 'regression',\n",
    "        'metric': 'rmse',\n",
    "        'boosting_type': 'gbdt',\n",
    "        'random_state': 42,\n",
    "        # Narrowed ranges for faster convergence (you can tweak these)\n",
    "        'num_leaves': trial.suggest_int('num_leaves', 3, 512),\n",
    "        'max_depth': trial.suggest_int('max_depth', 1, 16),\n",
    "        'learning_rate': trial.suggest_loguniform('learning_rate', 1e-2, 0.5),\n",
    "        'min_child_samples': trial.suggest_int('min_child_samples', 5, 100),\n",
    "        'subsample': trial.suggest_float('subsample', 0.5, 1.0),\n",
    "        'colsample_bytree': trial.suggest_float('colsample_bytree', 0.5, 1.0),\n",
    "        'max_bin': trial.suggest_int('max_bin', 63, 1011),\n",
    "        'reg_alpha': trial.suggest_loguniform('reg_alpha', 1e-8, 1.0),\n",
    "        'reg_lambda': trial.suggest_loguniform('reg_lambda', 1e-8, 1.0),\n",
    "        'min_split_gain': trial.suggest_float('min_split_gain', 0.0, 1.0),\n",
    "        'early_stopping_rounds': 50,\n",
    "        'verbosity': -1,\n",
    "    }\n",
    "    train_data = lgb.Dataset(X_train, label=y_train)\n",
    "    valid_data = lgb.Dataset(X_valid, label=y_valid)\n",
    "    \n",
    "    gbm = lgb.train(\n",
    "        params=param,\n",
    "        train_set=train_data,\n",
    "        num_boost_round=500,\n",
    "        valid_sets=[train_data, valid_data],\n",
    "        valid_names=['train_0', 'valid_0'],\n",
    "        callbacks=[\n",
    "            LightGBMPruningCallback(trial, \"rmse\", valid_name=\"valid_0\"),\n",
    "            lgb.log_evaluation(-1)                   # Suppress training logs\n",
    "        ]\n",
    "    )\n",
    "    \n",
    "    preds = gbm.predict(X_valid, num_iteration=gbm.best_iteration)\n",
    "    rmse = np.sqrt(mean_squared_error(y_valid, preds))\n",
    "    \n",
    "    return rmse\n",
    "\n",
    "# 6. Create and run the study\n",
    "study = optuna.create_study(direction='minimize')\n",
    "study.optimize(objective, n_trials=100)"
   ]
  },
  {
   "cell_type": "code",
   "execution_count": 26,
   "metadata": {},
   "outputs": [
    {
     "data": {
      "text/html": [
       "<div>\n",
       "<style scoped>\n",
       "    .dataframe tbody tr th:only-of-type {\n",
       "        vertical-align: middle;\n",
       "    }\n",
       "\n",
       "    .dataframe tbody tr th {\n",
       "        vertical-align: top;\n",
       "    }\n",
       "\n",
       "    .dataframe thead th {\n",
       "        text-align: right;\n",
       "    }\n",
       "</style>\n",
       "<table border=\"1\" class=\"dataframe\">\n",
       "  <thead>\n",
       "    <tr style=\"text-align: right;\">\n",
       "      <th></th>\n",
       "      <th>number</th>\n",
       "      <th>value</th>\n",
       "      <th>datetime_start</th>\n",
       "      <th>datetime_complete</th>\n",
       "      <th>duration</th>\n",
       "      <th>params_colsample_bytree</th>\n",
       "      <th>params_learning_rate</th>\n",
       "      <th>params_max_bin</th>\n",
       "      <th>params_max_depth</th>\n",
       "      <th>params_min_child_samples</th>\n",
       "      <th>params_min_split_gain</th>\n",
       "      <th>params_num_leaves</th>\n",
       "      <th>params_reg_alpha</th>\n",
       "      <th>params_reg_lambda</th>\n",
       "      <th>params_subsample</th>\n",
       "      <th>state</th>\n",
       "    </tr>\n",
       "  </thead>\n",
       "  <tbody>\n",
       "    <tr>\n",
       "      <th>51</th>\n",
       "      <td>51</td>\n",
       "      <td>38.857316</td>\n",
       "      <td>2025-02-03 20:45:31.759361</td>\n",
       "      <td>2025-02-03 20:45:40.181372</td>\n",
       "      <td>0 days 00:00:08.422011</td>\n",
       "      <td>0.642800</td>\n",
       "      <td>0.313805</td>\n",
       "      <td>802</td>\n",
       "      <td>7</td>\n",
       "      <td>5</td>\n",
       "      <td>0.693125</td>\n",
       "      <td>35</td>\n",
       "      <td>3.032549e-01</td>\n",
       "      <td>4.755506e-06</td>\n",
       "      <td>0.813096</td>\n",
       "      <td>COMPLETE</td>\n",
       "    </tr>\n",
       "    <tr>\n",
       "      <th>19</th>\n",
       "      <td>19</td>\n",
       "      <td>38.858180</td>\n",
       "      <td>2025-02-03 20:44:00.169796</td>\n",
       "      <td>2025-02-03 20:44:10.500697</td>\n",
       "      <td>0 days 00:00:10.330901</td>\n",
       "      <td>0.702409</td>\n",
       "      <td>0.167917</td>\n",
       "      <td>878</td>\n",
       "      <td>13</td>\n",
       "      <td>28</td>\n",
       "      <td>0.823958</td>\n",
       "      <td>63</td>\n",
       "      <td>2.573974e-02</td>\n",
       "      <td>2.990846e-05</td>\n",
       "      <td>0.746294</td>\n",
       "      <td>COMPLETE</td>\n",
       "    </tr>\n",
       "    <tr>\n",
       "      <th>18</th>\n",
       "      <td>18</td>\n",
       "      <td>38.858228</td>\n",
       "      <td>2025-02-03 20:43:50.120216</td>\n",
       "      <td>2025-02-03 20:44:00.168949</td>\n",
       "      <td>0 days 00:00:10.048733</td>\n",
       "      <td>0.811278</td>\n",
       "      <td>0.166753</td>\n",
       "      <td>889</td>\n",
       "      <td>6</td>\n",
       "      <td>46</td>\n",
       "      <td>0.819260</td>\n",
       "      <td>59</td>\n",
       "      <td>2.257147e-02</td>\n",
       "      <td>7.944908e-06</td>\n",
       "      <td>0.749822</td>\n",
       "      <td>COMPLETE</td>\n",
       "    </tr>\n",
       "    <tr>\n",
       "      <th>20</th>\n",
       "      <td>20</td>\n",
       "      <td>38.858274</td>\n",
       "      <td>2025-02-03 20:44:10.502200</td>\n",
       "      <td>2025-02-03 20:44:20.783032</td>\n",
       "      <td>0 days 00:00:10.280832</td>\n",
       "      <td>0.695166</td>\n",
       "      <td>0.174654</td>\n",
       "      <td>911</td>\n",
       "      <td>13</td>\n",
       "      <td>6</td>\n",
       "      <td>0.798209</td>\n",
       "      <td>75</td>\n",
       "      <td>1.321920e-01</td>\n",
       "      <td>7.901545e-06</td>\n",
       "      <td>0.738470</td>\n",
       "      <td>COMPLETE</td>\n",
       "    </tr>\n",
       "    <tr>\n",
       "      <th>4</th>\n",
       "      <td>4</td>\n",
       "      <td>38.859070</td>\n",
       "      <td>2025-02-03 20:42:35.161132</td>\n",
       "      <td>2025-02-03 20:43:03.045022</td>\n",
       "      <td>0 days 00:00:27.883890</td>\n",
       "      <td>0.977706</td>\n",
       "      <td>0.031785</td>\n",
       "      <td>861</td>\n",
       "      <td>9</td>\n",
       "      <td>82</td>\n",
       "      <td>0.607971</td>\n",
       "      <td>219</td>\n",
       "      <td>2.388832e-02</td>\n",
       "      <td>1.286258e-03</td>\n",
       "      <td>0.911795</td>\n",
       "      <td>COMPLETE</td>\n",
       "    </tr>\n",
       "    <tr>\n",
       "      <th>3</th>\n",
       "      <td>3</td>\n",
       "      <td>38.859165</td>\n",
       "      <td>2025-02-03 20:42:21.791843</td>\n",
       "      <td>2025-02-03 20:42:35.160101</td>\n",
       "      <td>0 days 00:00:13.368258</td>\n",
       "      <td>0.956149</td>\n",
       "      <td>0.085596</td>\n",
       "      <td>663</td>\n",
       "      <td>5</td>\n",
       "      <td>51</td>\n",
       "      <td>0.468909</td>\n",
       "      <td>27</td>\n",
       "      <td>2.978180e-05</td>\n",
       "      <td>7.372884e-08</td>\n",
       "      <td>0.601102</td>\n",
       "      <td>COMPLETE</td>\n",
       "    </tr>\n",
       "    <tr>\n",
       "      <th>34</th>\n",
       "      <td>34</td>\n",
       "      <td>38.859293</td>\n",
       "      <td>2025-02-03 20:45:04.769022</td>\n",
       "      <td>2025-02-03 20:45:11.885661</td>\n",
       "      <td>0 days 00:00:07.116639</td>\n",
       "      <td>0.646438</td>\n",
       "      <td>0.314709</td>\n",
       "      <td>801</td>\n",
       "      <td>7</td>\n",
       "      <td>5</td>\n",
       "      <td>0.684384</td>\n",
       "      <td>37</td>\n",
       "      <td>3.722760e-01</td>\n",
       "      <td>3.789686e-06</td>\n",
       "      <td>0.799644</td>\n",
       "      <td>COMPLETE</td>\n",
       "    </tr>\n",
       "    <tr>\n",
       "      <th>21</th>\n",
       "      <td>21</td>\n",
       "      <td>38.859438</td>\n",
       "      <td>2025-02-03 20:44:20.784334</td>\n",
       "      <td>2025-02-03 20:44:27.454948</td>\n",
       "      <td>0 days 00:00:06.670614</td>\n",
       "      <td>0.701982</td>\n",
       "      <td>0.177975</td>\n",
       "      <td>933</td>\n",
       "      <td>14</td>\n",
       "      <td>7</td>\n",
       "      <td>0.845954</td>\n",
       "      <td>60</td>\n",
       "      <td>1.417497e-01</td>\n",
       "      <td>9.642180e-06</td>\n",
       "      <td>0.748612</td>\n",
       "      <td>COMPLETE</td>\n",
       "    </tr>\n",
       "    <tr>\n",
       "      <th>11</th>\n",
       "      <td>11</td>\n",
       "      <td>38.859898</td>\n",
       "      <td>2025-02-03 20:43:29.660756</td>\n",
       "      <td>2025-02-03 20:43:39.797529</td>\n",
       "      <td>0 days 00:00:10.136773</td>\n",
       "      <td>0.991250</td>\n",
       "      <td>0.105884</td>\n",
       "      <td>720</td>\n",
       "      <td>8</td>\n",
       "      <td>44</td>\n",
       "      <td>0.730256</td>\n",
       "      <td>10</td>\n",
       "      <td>7.011859e-03</td>\n",
       "      <td>2.729079e-08</td>\n",
       "      <td>0.507301</td>\n",
       "      <td>COMPLETE</td>\n",
       "    </tr>\n",
       "    <tr>\n",
       "      <th>52</th>\n",
       "      <td>52</td>\n",
       "      <td>38.859912</td>\n",
       "      <td>2025-02-03 20:45:40.182278</td>\n",
       "      <td>2025-02-03 20:45:46.285322</td>\n",
       "      <td>0 days 00:00:06.103044</td>\n",
       "      <td>0.690738</td>\n",
       "      <td>0.390571</td>\n",
       "      <td>765</td>\n",
       "      <td>6</td>\n",
       "      <td>10</td>\n",
       "      <td>0.773912</td>\n",
       "      <td>18</td>\n",
       "      <td>2.187565e-01</td>\n",
       "      <td>1.077200e-06</td>\n",
       "      <td>0.906104</td>\n",
       "      <td>COMPLETE</td>\n",
       "    </tr>\n",
       "    <tr>\n",
       "      <th>24</th>\n",
       "      <td>24</td>\n",
       "      <td>38.860390</td>\n",
       "      <td>2025-02-03 20:44:33.141398</td>\n",
       "      <td>2025-02-03 20:44:38.809177</td>\n",
       "      <td>0 days 00:00:05.667779</td>\n",
       "      <td>0.816872</td>\n",
       "      <td>0.263443</td>\n",
       "      <td>824</td>\n",
       "      <td>12</td>\n",
       "      <td>17</td>\n",
       "      <td>0.713688</td>\n",
       "      <td>49</td>\n",
       "      <td>1.587143e-03</td>\n",
       "      <td>8.215762e-05</td>\n",
       "      <td>0.716872</td>\n",
       "      <td>COMPLETE</td>\n",
       "    </tr>\n",
       "    <tr>\n",
       "      <th>5</th>\n",
       "      <td>5</td>\n",
       "      <td>38.860596</td>\n",
       "      <td>2025-02-03 20:43:03.045871</td>\n",
       "      <td>2025-02-03 20:43:26.457885</td>\n",
       "      <td>0 days 00:00:23.412014</td>\n",
       "      <td>0.879738</td>\n",
       "      <td>0.048124</td>\n",
       "      <td>983</td>\n",
       "      <td>8</td>\n",
       "      <td>10</td>\n",
       "      <td>0.178357</td>\n",
       "      <td>479</td>\n",
       "      <td>2.342308e-08</td>\n",
       "      <td>4.378669e-01</td>\n",
       "      <td>0.600681</td>\n",
       "      <td>COMPLETE</td>\n",
       "    </tr>\n",
       "    <tr>\n",
       "      <th>33</th>\n",
       "      <td>33</td>\n",
       "      <td>38.860734</td>\n",
       "      <td>2025-02-03 20:44:56.451117</td>\n",
       "      <td>2025-02-03 20:45:04.768256</td>\n",
       "      <td>0 days 00:00:08.317139</td>\n",
       "      <td>0.890237</td>\n",
       "      <td>0.215793</td>\n",
       "      <td>953</td>\n",
       "      <td>9</td>\n",
       "      <td>58</td>\n",
       "      <td>0.750085</td>\n",
       "      <td>108</td>\n",
       "      <td>3.400060e-03</td>\n",
       "      <td>3.267978e-04</td>\n",
       "      <td>0.886294</td>\n",
       "      <td>COMPLETE</td>\n",
       "    </tr>\n",
       "    <tr>\n",
       "      <th>98</th>\n",
       "      <td>98</td>\n",
       "      <td>38.861835</td>\n",
       "      <td>2025-02-03 20:46:54.476552</td>\n",
       "      <td>2025-02-03 20:46:59.915593</td>\n",
       "      <td>0 days 00:00:05.439041</td>\n",
       "      <td>0.660633</td>\n",
       "      <td>0.339066</td>\n",
       "      <td>837</td>\n",
       "      <td>14</td>\n",
       "      <td>55</td>\n",
       "      <td>0.718920</td>\n",
       "      <td>66</td>\n",
       "      <td>1.159562e-02</td>\n",
       "      <td>2.709835e-06</td>\n",
       "      <td>0.844384</td>\n",
       "      <td>COMPLETE</td>\n",
       "    </tr>\n",
       "    <tr>\n",
       "      <th>67</th>\n",
       "      <td>67</td>\n",
       "      <td>38.861952</td>\n",
       "      <td>2025-02-03 20:46:09.196850</td>\n",
       "      <td>2025-02-03 20:46:16.987556</td>\n",
       "      <td>0 days 00:00:07.790706</td>\n",
       "      <td>0.995073</td>\n",
       "      <td>0.196802</td>\n",
       "      <td>794</td>\n",
       "      <td>13</td>\n",
       "      <td>21</td>\n",
       "      <td>0.786818</td>\n",
       "      <td>132</td>\n",
       "      <td>9.469858e-01</td>\n",
       "      <td>1.885464e-03</td>\n",
       "      <td>0.838924</td>\n",
       "      <td>COMPLETE</td>\n",
       "    </tr>\n",
       "    <tr>\n",
       "      <th>92</th>\n",
       "      <td>92</td>\n",
       "      <td>38.861978</td>\n",
       "      <td>2025-02-03 20:46:40.961084</td>\n",
       "      <td>2025-02-03 20:46:45.054530</td>\n",
       "      <td>0 days 00:00:04.093446</td>\n",
       "      <td>0.698380</td>\n",
       "      <td>0.387215</td>\n",
       "      <td>737</td>\n",
       "      <td>5</td>\n",
       "      <td>8</td>\n",
       "      <td>0.764609</td>\n",
       "      <td>33</td>\n",
       "      <td>1.107878e-01</td>\n",
       "      <td>1.498574e-06</td>\n",
       "      <td>0.917453</td>\n",
       "      <td>COMPLETE</td>\n",
       "    </tr>\n",
       "    <tr>\n",
       "      <th>47</th>\n",
       "      <td>47</td>\n",
       "      <td>38.862733</td>\n",
       "      <td>2025-02-03 20:45:22.367862</td>\n",
       "      <td>2025-02-03 20:45:29.340419</td>\n",
       "      <td>0 days 00:00:06.972557</td>\n",
       "      <td>0.916525</td>\n",
       "      <td>0.206263</td>\n",
       "      <td>562</td>\n",
       "      <td>11</td>\n",
       "      <td>79</td>\n",
       "      <td>0.548945</td>\n",
       "      <td>66</td>\n",
       "      <td>4.229192e-05</td>\n",
       "      <td>1.156614e-02</td>\n",
       "      <td>0.652832</td>\n",
       "      <td>COMPLETE</td>\n",
       "    </tr>\n",
       "    <tr>\n",
       "      <th>12</th>\n",
       "      <td>12</td>\n",
       "      <td>38.863000</td>\n",
       "      <td>2025-02-03 20:43:39.798489</td>\n",
       "      <td>2025-02-03 20:43:46.533349</td>\n",
       "      <td>0 days 00:00:06.734860</td>\n",
       "      <td>0.937254</td>\n",
       "      <td>0.468726</td>\n",
       "      <td>743</td>\n",
       "      <td>6</td>\n",
       "      <td>52</td>\n",
       "      <td>0.774498</td>\n",
       "      <td>107</td>\n",
       "      <td>6.727927e-07</td>\n",
       "      <td>1.670283e-08</td>\n",
       "      <td>0.830974</td>\n",
       "      <td>COMPLETE</td>\n",
       "    </tr>\n",
       "    <tr>\n",
       "      <th>22</th>\n",
       "      <td>22</td>\n",
       "      <td>38.864949</td>\n",
       "      <td>2025-02-03 20:44:27.455798</td>\n",
       "      <td>2025-02-03 20:44:32.325407</td>\n",
       "      <td>0 days 00:00:04.869609</td>\n",
       "      <td>0.663374</td>\n",
       "      <td>0.420397</td>\n",
       "      <td>820</td>\n",
       "      <td>13</td>\n",
       "      <td>18</td>\n",
       "      <td>0.964504</td>\n",
       "      <td>132</td>\n",
       "      <td>1.026267e-02</td>\n",
       "      <td>4.660940e-05</td>\n",
       "      <td>0.748992</td>\n",
       "      <td>COMPLETE</td>\n",
       "    </tr>\n",
       "    <tr>\n",
       "      <th>25</th>\n",
       "      <td>25</td>\n",
       "      <td>38.865894</td>\n",
       "      <td>2025-02-03 20:44:38.809969</td>\n",
       "      <td>2025-02-03 20:44:44.543327</td>\n",
       "      <td>0 days 00:00:05.733358</td>\n",
       "      <td>0.701599</td>\n",
       "      <td>0.328506</td>\n",
       "      <td>909</td>\n",
       "      <td>14</td>\n",
       "      <td>37</td>\n",
       "      <td>0.896495</td>\n",
       "      <td>141</td>\n",
       "      <td>6.859243e-04</td>\n",
       "      <td>2.770813e-06</td>\n",
       "      <td>0.827631</td>\n",
       "      <td>COMPLETE</td>\n",
       "    </tr>\n",
       "    <tr>\n",
       "      <th>93</th>\n",
       "      <td>93</td>\n",
       "      <td>38.866133</td>\n",
       "      <td>2025-02-03 20:46:45.055337</td>\n",
       "      <td>2025-02-03 20:46:47.549815</td>\n",
       "      <td>0 days 00:00:02.494478</td>\n",
       "      <td>0.727278</td>\n",
       "      <td>0.298256</td>\n",
       "      <td>870</td>\n",
       "      <td>6</td>\n",
       "      <td>7</td>\n",
       "      <td>0.863229</td>\n",
       "      <td>44</td>\n",
       "      <td>4.932108e-02</td>\n",
       "      <td>1.391159e-05</td>\n",
       "      <td>0.974261</td>\n",
       "      <td>PRUNED</td>\n",
       "    </tr>\n",
       "    <tr>\n",
       "      <th>28</th>\n",
       "      <td>28</td>\n",
       "      <td>38.866519</td>\n",
       "      <td>2025-02-03 20:44:46.293490</td>\n",
       "      <td>2025-02-03 20:44:52.006040</td>\n",
       "      <td>0 days 00:00:05.712550</td>\n",
       "      <td>0.668304</td>\n",
       "      <td>0.332462</td>\n",
       "      <td>648</td>\n",
       "      <td>15</td>\n",
       "      <td>12</td>\n",
       "      <td>0.986678</td>\n",
       "      <td>156</td>\n",
       "      <td>6.027511e-02</td>\n",
       "      <td>1.928945e-05</td>\n",
       "      <td>0.860407</td>\n",
       "      <td>COMPLETE</td>\n",
       "    </tr>\n",
       "    <tr>\n",
       "      <th>94</th>\n",
       "      <td>94</td>\n",
       "      <td>38.867797</td>\n",
       "      <td>2025-02-03 20:46:47.550465</td>\n",
       "      <td>2025-02-03 20:46:51.696969</td>\n",
       "      <td>0 days 00:00:04.146504</td>\n",
       "      <td>0.713134</td>\n",
       "      <td>0.394211</td>\n",
       "      <td>790</td>\n",
       "      <td>8</td>\n",
       "      <td>25</td>\n",
       "      <td>0.648390</td>\n",
       "      <td>76</td>\n",
       "      <td>2.803426e-01</td>\n",
       "      <td>7.892125e-08</td>\n",
       "      <td>0.898755</td>\n",
       "      <td>PRUNED</td>\n",
       "    </tr>\n",
       "    <tr>\n",
       "      <th>91</th>\n",
       "      <td>91</td>\n",
       "      <td>38.868205</td>\n",
       "      <td>2025-02-03 20:46:39.651471</td>\n",
       "      <td>2025-02-03 20:46:40.960482</td>\n",
       "      <td>0 days 00:00:01.309011</td>\n",
       "      <td>0.692186</td>\n",
       "      <td>0.443751</td>\n",
       "      <td>769</td>\n",
       "      <td>6</td>\n",
       "      <td>10</td>\n",
       "      <td>0.832994</td>\n",
       "      <td>21</td>\n",
       "      <td>2.035941e-01</td>\n",
       "      <td>9.911254e-07</td>\n",
       "      <td>0.897406</td>\n",
       "      <td>PRUNED</td>\n",
       "    </tr>\n",
       "    <tr>\n",
       "      <th>2</th>\n",
       "      <td>2</td>\n",
       "      <td>38.869663</td>\n",
       "      <td>2025-02-03 20:42:15.191675</td>\n",
       "      <td>2025-02-03 20:42:21.790856</td>\n",
       "      <td>0 days 00:00:06.599181</td>\n",
       "      <td>0.632432</td>\n",
       "      <td>0.241004</td>\n",
       "      <td>889</td>\n",
       "      <td>2</td>\n",
       "      <td>91</td>\n",
       "      <td>0.239930</td>\n",
       "      <td>468</td>\n",
       "      <td>3.841722e-06</td>\n",
       "      <td>7.765049e-02</td>\n",
       "      <td>0.624596</td>\n",
       "      <td>COMPLETE</td>\n",
       "    </tr>\n",
       "    <tr>\n",
       "      <th>68</th>\n",
       "      <td>68</td>\n",
       "      <td>38.870431</td>\n",
       "      <td>2025-02-03 20:46:16.988385</td>\n",
       "      <td>2025-02-03 20:46:20.875375</td>\n",
       "      <td>0 days 00:00:03.886990</td>\n",
       "      <td>0.732113</td>\n",
       "      <td>0.290452</td>\n",
       "      <td>863</td>\n",
       "      <td>10</td>\n",
       "      <td>30</td>\n",
       "      <td>0.666246</td>\n",
       "      <td>274</td>\n",
       "      <td>7.073146e-02</td>\n",
       "      <td>8.141042e-07</td>\n",
       "      <td>0.758673</td>\n",
       "      <td>PRUNED</td>\n",
       "    </tr>\n",
       "    <tr>\n",
       "      <th>61</th>\n",
       "      <td>61</td>\n",
       "      <td>38.871809</td>\n",
       "      <td>2025-02-03 20:45:55.094160</td>\n",
       "      <td>2025-02-03 20:45:58.939002</td>\n",
       "      <td>0 days 00:00:03.844842</td>\n",
       "      <td>0.651889</td>\n",
       "      <td>0.498920</td>\n",
       "      <td>801</td>\n",
       "      <td>7</td>\n",
       "      <td>5</td>\n",
       "      <td>0.680796</td>\n",
       "      <td>40</td>\n",
       "      <td>4.269952e-01</td>\n",
       "      <td>2.257643e-05</td>\n",
       "      <td>0.790328</td>\n",
       "      <td>PRUNED</td>\n",
       "    </tr>\n",
       "    <tr>\n",
       "      <th>64</th>\n",
       "      <td>64</td>\n",
       "      <td>38.872566</td>\n",
       "      <td>2025-02-03 20:46:01.397429</td>\n",
       "      <td>2025-02-03 20:46:03.151541</td>\n",
       "      <td>0 days 00:00:01.754112</td>\n",
       "      <td>0.675759</td>\n",
       "      <td>0.308732</td>\n",
       "      <td>843</td>\n",
       "      <td>5</td>\n",
       "      <td>62</td>\n",
       "      <td>0.606031</td>\n",
       "      <td>89</td>\n",
       "      <td>5.443938e-01</td>\n",
       "      <td>1.329337e-05</td>\n",
       "      <td>0.777194</td>\n",
       "      <td>PRUNED</td>\n",
       "    </tr>\n",
       "    <tr>\n",
       "      <th>75</th>\n",
       "      <td>75</td>\n",
       "      <td>38.873194</td>\n",
       "      <td>2025-02-03 20:46:26.143844</td>\n",
       "      <td>2025-02-03 20:46:30.598432</td>\n",
       "      <td>0 days 00:00:04.454588</td>\n",
       "      <td>0.710332</td>\n",
       "      <td>0.222431</td>\n",
       "      <td>846</td>\n",
       "      <td>12</td>\n",
       "      <td>13</td>\n",
       "      <td>0.704931</td>\n",
       "      <td>247</td>\n",
       "      <td>3.259182e-06</td>\n",
       "      <td>2.251179e-06</td>\n",
       "      <td>0.812559</td>\n",
       "      <td>PRUNED</td>\n",
       "    </tr>\n",
       "    <tr>\n",
       "      <th>66</th>\n",
       "      <td>66</td>\n",
       "      <td>38.874946</td>\n",
       "      <td>2025-02-03 20:46:04.705665</td>\n",
       "      <td>2025-02-03 20:46:09.196174</td>\n",
       "      <td>0 days 00:00:04.490509</td>\n",
       "      <td>0.758429</td>\n",
       "      <td>0.437764</td>\n",
       "      <td>925</td>\n",
       "      <td>11</td>\n",
       "      <td>38</td>\n",
       "      <td>0.571002</td>\n",
       "      <td>62</td>\n",
       "      <td>2.428605e-02</td>\n",
       "      <td>4.716803e-05</td>\n",
       "      <td>0.714829</td>\n",
       "      <td>PRUNED</td>\n",
       "    </tr>\n",
       "  </tbody>\n",
       "</table>\n",
       "</div>"
      ],
      "text/plain": [
       "    number      value             datetime_start          datetime_complete  \\\n",
       "51      51  38.857316 2025-02-03 20:45:31.759361 2025-02-03 20:45:40.181372   \n",
       "19      19  38.858180 2025-02-03 20:44:00.169796 2025-02-03 20:44:10.500697   \n",
       "18      18  38.858228 2025-02-03 20:43:50.120216 2025-02-03 20:44:00.168949   \n",
       "20      20  38.858274 2025-02-03 20:44:10.502200 2025-02-03 20:44:20.783032   \n",
       "4        4  38.859070 2025-02-03 20:42:35.161132 2025-02-03 20:43:03.045022   \n",
       "3        3  38.859165 2025-02-03 20:42:21.791843 2025-02-03 20:42:35.160101   \n",
       "34      34  38.859293 2025-02-03 20:45:04.769022 2025-02-03 20:45:11.885661   \n",
       "21      21  38.859438 2025-02-03 20:44:20.784334 2025-02-03 20:44:27.454948   \n",
       "11      11  38.859898 2025-02-03 20:43:29.660756 2025-02-03 20:43:39.797529   \n",
       "52      52  38.859912 2025-02-03 20:45:40.182278 2025-02-03 20:45:46.285322   \n",
       "24      24  38.860390 2025-02-03 20:44:33.141398 2025-02-03 20:44:38.809177   \n",
       "5        5  38.860596 2025-02-03 20:43:03.045871 2025-02-03 20:43:26.457885   \n",
       "33      33  38.860734 2025-02-03 20:44:56.451117 2025-02-03 20:45:04.768256   \n",
       "98      98  38.861835 2025-02-03 20:46:54.476552 2025-02-03 20:46:59.915593   \n",
       "67      67  38.861952 2025-02-03 20:46:09.196850 2025-02-03 20:46:16.987556   \n",
       "92      92  38.861978 2025-02-03 20:46:40.961084 2025-02-03 20:46:45.054530   \n",
       "47      47  38.862733 2025-02-03 20:45:22.367862 2025-02-03 20:45:29.340419   \n",
       "12      12  38.863000 2025-02-03 20:43:39.798489 2025-02-03 20:43:46.533349   \n",
       "22      22  38.864949 2025-02-03 20:44:27.455798 2025-02-03 20:44:32.325407   \n",
       "25      25  38.865894 2025-02-03 20:44:38.809969 2025-02-03 20:44:44.543327   \n",
       "93      93  38.866133 2025-02-03 20:46:45.055337 2025-02-03 20:46:47.549815   \n",
       "28      28  38.866519 2025-02-03 20:44:46.293490 2025-02-03 20:44:52.006040   \n",
       "94      94  38.867797 2025-02-03 20:46:47.550465 2025-02-03 20:46:51.696969   \n",
       "91      91  38.868205 2025-02-03 20:46:39.651471 2025-02-03 20:46:40.960482   \n",
       "2        2  38.869663 2025-02-03 20:42:15.191675 2025-02-03 20:42:21.790856   \n",
       "68      68  38.870431 2025-02-03 20:46:16.988385 2025-02-03 20:46:20.875375   \n",
       "61      61  38.871809 2025-02-03 20:45:55.094160 2025-02-03 20:45:58.939002   \n",
       "64      64  38.872566 2025-02-03 20:46:01.397429 2025-02-03 20:46:03.151541   \n",
       "75      75  38.873194 2025-02-03 20:46:26.143844 2025-02-03 20:46:30.598432   \n",
       "66      66  38.874946 2025-02-03 20:46:04.705665 2025-02-03 20:46:09.196174   \n",
       "\n",
       "                 duration  params_colsample_bytree  params_learning_rate  \\\n",
       "51 0 days 00:00:08.422011                 0.642800              0.313805   \n",
       "19 0 days 00:00:10.330901                 0.702409              0.167917   \n",
       "18 0 days 00:00:10.048733                 0.811278              0.166753   \n",
       "20 0 days 00:00:10.280832                 0.695166              0.174654   \n",
       "4  0 days 00:00:27.883890                 0.977706              0.031785   \n",
       "3  0 days 00:00:13.368258                 0.956149              0.085596   \n",
       "34 0 days 00:00:07.116639                 0.646438              0.314709   \n",
       "21 0 days 00:00:06.670614                 0.701982              0.177975   \n",
       "11 0 days 00:00:10.136773                 0.991250              0.105884   \n",
       "52 0 days 00:00:06.103044                 0.690738              0.390571   \n",
       "24 0 days 00:00:05.667779                 0.816872              0.263443   \n",
       "5  0 days 00:00:23.412014                 0.879738              0.048124   \n",
       "33 0 days 00:00:08.317139                 0.890237              0.215793   \n",
       "98 0 days 00:00:05.439041                 0.660633              0.339066   \n",
       "67 0 days 00:00:07.790706                 0.995073              0.196802   \n",
       "92 0 days 00:00:04.093446                 0.698380              0.387215   \n",
       "47 0 days 00:00:06.972557                 0.916525              0.206263   \n",
       "12 0 days 00:00:06.734860                 0.937254              0.468726   \n",
       "22 0 days 00:00:04.869609                 0.663374              0.420397   \n",
       "25 0 days 00:00:05.733358                 0.701599              0.328506   \n",
       "93 0 days 00:00:02.494478                 0.727278              0.298256   \n",
       "28 0 days 00:00:05.712550                 0.668304              0.332462   \n",
       "94 0 days 00:00:04.146504                 0.713134              0.394211   \n",
       "91 0 days 00:00:01.309011                 0.692186              0.443751   \n",
       "2  0 days 00:00:06.599181                 0.632432              0.241004   \n",
       "68 0 days 00:00:03.886990                 0.732113              0.290452   \n",
       "61 0 days 00:00:03.844842                 0.651889              0.498920   \n",
       "64 0 days 00:00:01.754112                 0.675759              0.308732   \n",
       "75 0 days 00:00:04.454588                 0.710332              0.222431   \n",
       "66 0 days 00:00:04.490509                 0.758429              0.437764   \n",
       "\n",
       "    params_max_bin  params_max_depth  params_min_child_samples  \\\n",
       "51             802                 7                         5   \n",
       "19             878                13                        28   \n",
       "18             889                 6                        46   \n",
       "20             911                13                         6   \n",
       "4              861                 9                        82   \n",
       "3              663                 5                        51   \n",
       "34             801                 7                         5   \n",
       "21             933                14                         7   \n",
       "11             720                 8                        44   \n",
       "52             765                 6                        10   \n",
       "24             824                12                        17   \n",
       "5              983                 8                        10   \n",
       "33             953                 9                        58   \n",
       "98             837                14                        55   \n",
       "67             794                13                        21   \n",
       "92             737                 5                         8   \n",
       "47             562                11                        79   \n",
       "12             743                 6                        52   \n",
       "22             820                13                        18   \n",
       "25             909                14                        37   \n",
       "93             870                 6                         7   \n",
       "28             648                15                        12   \n",
       "94             790                 8                        25   \n",
       "91             769                 6                        10   \n",
       "2              889                 2                        91   \n",
       "68             863                10                        30   \n",
       "61             801                 7                         5   \n",
       "64             843                 5                        62   \n",
       "75             846                12                        13   \n",
       "66             925                11                        38   \n",
       "\n",
       "    params_min_split_gain  params_num_leaves  params_reg_alpha  \\\n",
       "51               0.693125                 35      3.032549e-01   \n",
       "19               0.823958                 63      2.573974e-02   \n",
       "18               0.819260                 59      2.257147e-02   \n",
       "20               0.798209                 75      1.321920e-01   \n",
       "4                0.607971                219      2.388832e-02   \n",
       "3                0.468909                 27      2.978180e-05   \n",
       "34               0.684384                 37      3.722760e-01   \n",
       "21               0.845954                 60      1.417497e-01   \n",
       "11               0.730256                 10      7.011859e-03   \n",
       "52               0.773912                 18      2.187565e-01   \n",
       "24               0.713688                 49      1.587143e-03   \n",
       "5                0.178357                479      2.342308e-08   \n",
       "33               0.750085                108      3.400060e-03   \n",
       "98               0.718920                 66      1.159562e-02   \n",
       "67               0.786818                132      9.469858e-01   \n",
       "92               0.764609                 33      1.107878e-01   \n",
       "47               0.548945                 66      4.229192e-05   \n",
       "12               0.774498                107      6.727927e-07   \n",
       "22               0.964504                132      1.026267e-02   \n",
       "25               0.896495                141      6.859243e-04   \n",
       "93               0.863229                 44      4.932108e-02   \n",
       "28               0.986678                156      6.027511e-02   \n",
       "94               0.648390                 76      2.803426e-01   \n",
       "91               0.832994                 21      2.035941e-01   \n",
       "2                0.239930                468      3.841722e-06   \n",
       "68               0.666246                274      7.073146e-02   \n",
       "61               0.680796                 40      4.269952e-01   \n",
       "64               0.606031                 89      5.443938e-01   \n",
       "75               0.704931                247      3.259182e-06   \n",
       "66               0.571002                 62      2.428605e-02   \n",
       "\n",
       "    params_reg_lambda  params_subsample     state  \n",
       "51       4.755506e-06          0.813096  COMPLETE  \n",
       "19       2.990846e-05          0.746294  COMPLETE  \n",
       "18       7.944908e-06          0.749822  COMPLETE  \n",
       "20       7.901545e-06          0.738470  COMPLETE  \n",
       "4        1.286258e-03          0.911795  COMPLETE  \n",
       "3        7.372884e-08          0.601102  COMPLETE  \n",
       "34       3.789686e-06          0.799644  COMPLETE  \n",
       "21       9.642180e-06          0.748612  COMPLETE  \n",
       "11       2.729079e-08          0.507301  COMPLETE  \n",
       "52       1.077200e-06          0.906104  COMPLETE  \n",
       "24       8.215762e-05          0.716872  COMPLETE  \n",
       "5        4.378669e-01          0.600681  COMPLETE  \n",
       "33       3.267978e-04          0.886294  COMPLETE  \n",
       "98       2.709835e-06          0.844384  COMPLETE  \n",
       "67       1.885464e-03          0.838924  COMPLETE  \n",
       "92       1.498574e-06          0.917453  COMPLETE  \n",
       "47       1.156614e-02          0.652832  COMPLETE  \n",
       "12       1.670283e-08          0.830974  COMPLETE  \n",
       "22       4.660940e-05          0.748992  COMPLETE  \n",
       "25       2.770813e-06          0.827631  COMPLETE  \n",
       "93       1.391159e-05          0.974261    PRUNED  \n",
       "28       1.928945e-05          0.860407  COMPLETE  \n",
       "94       7.892125e-08          0.898755    PRUNED  \n",
       "91       9.911254e-07          0.897406    PRUNED  \n",
       "2        7.765049e-02          0.624596  COMPLETE  \n",
       "68       8.141042e-07          0.758673    PRUNED  \n",
       "61       2.257643e-05          0.790328    PRUNED  \n",
       "64       1.329337e-05          0.777194    PRUNED  \n",
       "75       2.251179e-06          0.812559    PRUNED  \n",
       "66       4.716803e-05          0.714829    PRUNED  "
      ]
     },
     "execution_count": 26,
     "metadata": {},
     "output_type": "execute_result"
    }
   ],
   "source": [
    "study.trials_dataframe().sort_values(by='value').head(30)"
   ]
  },
  {
   "cell_type": "code",
   "execution_count": 23,
   "metadata": {},
   "outputs": [
    {
     "data": {
      "text/html": [
       "<div>\n",
       "<style scoped>\n",
       "    .dataframe tbody tr th:only-of-type {\n",
       "        vertical-align: middle;\n",
       "    }\n",
       "\n",
       "    .dataframe tbody tr th {\n",
       "        vertical-align: top;\n",
       "    }\n",
       "\n",
       "    .dataframe thead th {\n",
       "        text-align: right;\n",
       "    }\n",
       "</style>\n",
       "<table border=\"1\" class=\"dataframe\">\n",
       "  <thead>\n",
       "    <tr style=\"text-align: right;\">\n",
       "      <th></th>\n",
       "      <th>number</th>\n",
       "      <th>value</th>\n",
       "      <th>datetime_start</th>\n",
       "      <th>datetime_complete</th>\n",
       "      <th>duration</th>\n",
       "      <th>params_colsample_bytree</th>\n",
       "      <th>params_learning_rate</th>\n",
       "      <th>params_max_bin</th>\n",
       "      <th>params_max_depth</th>\n",
       "      <th>params_min_child_samples</th>\n",
       "      <th>params_min_split_gain</th>\n",
       "      <th>params_num_leaves</th>\n",
       "      <th>params_reg_alpha</th>\n",
       "      <th>params_reg_lambda</th>\n",
       "      <th>params_subsample</th>\n",
       "      <th>state</th>\n",
       "    </tr>\n",
       "  </thead>\n",
       "  <tbody>\n",
       "    <tr>\n",
       "      <th>3</th>\n",
       "      <td>3</td>\n",
       "      <td>38.862396</td>\n",
       "      <td>2025-02-03 20:19:13.666658</td>\n",
       "      <td>2025-02-03 20:19:26.246400</td>\n",
       "      <td>0 days 00:00:12.579742</td>\n",
       "      <td>0.620356</td>\n",
       "      <td>0.116175</td>\n",
       "      <td>460</td>\n",
       "      <td>7</td>\n",
       "      <td>75</td>\n",
       "      <td>0.342268</td>\n",
       "      <td>297</td>\n",
       "      <td>7.137420e-03</td>\n",
       "      <td>1.437058e-06</td>\n",
       "      <td>0.699740</td>\n",
       "      <td>COMPLETE</td>\n",
       "    </tr>\n",
       "    <tr>\n",
       "      <th>16</th>\n",
       "      <td>16</td>\n",
       "      <td>38.863771</td>\n",
       "      <td>2025-02-03 20:19:44.287852</td>\n",
       "      <td>2025-02-03 20:19:51.860448</td>\n",
       "      <td>0 days 00:00:07.572596</td>\n",
       "      <td>0.596050</td>\n",
       "      <td>0.198295</td>\n",
       "      <td>335</td>\n",
       "      <td>6</td>\n",
       "      <td>43</td>\n",
       "      <td>0.484206</td>\n",
       "      <td>313</td>\n",
       "      <td>1.332847e-08</td>\n",
       "      <td>3.037763e-07</td>\n",
       "      <td>0.691041</td>\n",
       "      <td>COMPLETE</td>\n",
       "    </tr>\n",
       "    <tr>\n",
       "      <th>6</th>\n",
       "      <td>6</td>\n",
       "      <td>38.864721</td>\n",
       "      <td>2025-02-03 20:19:30.776301</td>\n",
       "      <td>2025-02-03 20:19:37.832819</td>\n",
       "      <td>0 days 00:00:07.056518</td>\n",
       "      <td>0.605384</td>\n",
       "      <td>0.197061</td>\n",
       "      <td>242</td>\n",
       "      <td>4</td>\n",
       "      <td>69</td>\n",
       "      <td>0.620968</td>\n",
       "      <td>321</td>\n",
       "      <td>6.966264e-08</td>\n",
       "      <td>4.596502e-06</td>\n",
       "      <td>0.769576</td>\n",
       "      <td>COMPLETE</td>\n",
       "    </tr>\n",
       "    <tr>\n",
       "      <th>28</th>\n",
       "      <td>28</td>\n",
       "      <td>38.865196</td>\n",
       "      <td>2025-02-03 20:20:14.071051</td>\n",
       "      <td>2025-02-03 20:20:22.903044</td>\n",
       "      <td>0 days 00:00:08.831993</td>\n",
       "      <td>0.531971</td>\n",
       "      <td>0.197729</td>\n",
       "      <td>240</td>\n",
       "      <td>5</td>\n",
       "      <td>70</td>\n",
       "      <td>0.351519</td>\n",
       "      <td>409</td>\n",
       "      <td>4.232914e-08</td>\n",
       "      <td>1.908976e-05</td>\n",
       "      <td>0.776353</td>\n",
       "      <td>COMPLETE</td>\n",
       "    </tr>\n",
       "    <tr>\n",
       "      <th>2</th>\n",
       "      <td>2</td>\n",
       "      <td>38.866191</td>\n",
       "      <td>2025-02-03 20:18:52.041135</td>\n",
       "      <td>2025-02-03 20:19:13.665922</td>\n",
       "      <td>0 days 00:00:21.624787</td>\n",
       "      <td>0.658276</td>\n",
       "      <td>0.027538</td>\n",
       "      <td>146</td>\n",
       "      <td>8</td>\n",
       "      <td>37</td>\n",
       "      <td>0.091179</td>\n",
       "      <td>363</td>\n",
       "      <td>4.007225e-05</td>\n",
       "      <td>6.170344e-03</td>\n",
       "      <td>0.697801</td>\n",
       "      <td>COMPLETE</td>\n",
       "    </tr>\n",
       "    <tr>\n",
       "      <th>23</th>\n",
       "      <td>23</td>\n",
       "      <td>38.866999</td>\n",
       "      <td>2025-02-03 20:19:55.276131</td>\n",
       "      <td>2025-02-03 20:20:03.623879</td>\n",
       "      <td>0 days 00:00:08.347748</td>\n",
       "      <td>0.500204</td>\n",
       "      <td>0.195059</td>\n",
       "      <td>181</td>\n",
       "      <td>6</td>\n",
       "      <td>46</td>\n",
       "      <td>0.365529</td>\n",
       "      <td>178</td>\n",
       "      <td>7.023048e-08</td>\n",
       "      <td>7.414473e-06</td>\n",
       "      <td>0.734897</td>\n",
       "      <td>COMPLETE</td>\n",
       "    </tr>\n",
       "    <tr>\n",
       "      <th>26</th>\n",
       "      <td>26</td>\n",
       "      <td>38.867098</td>\n",
       "      <td>2025-02-03 20:20:04.767388</td>\n",
       "      <td>2025-02-03 20:20:13.522828</td>\n",
       "      <td>0 days 00:00:08.755440</td>\n",
       "      <td>0.778924</td>\n",
       "      <td>0.152462</td>\n",
       "      <td>461</td>\n",
       "      <td>8</td>\n",
       "      <td>58</td>\n",
       "      <td>0.645709</td>\n",
       "      <td>247</td>\n",
       "      <td>3.439508e-06</td>\n",
       "      <td>4.884874e-08</td>\n",
       "      <td>0.737739</td>\n",
       "      <td>COMPLETE</td>\n",
       "    </tr>\n",
       "    <tr>\n",
       "      <th>31</th>\n",
       "      <td>31</td>\n",
       "      <td>38.868725</td>\n",
       "      <td>2025-02-03 20:20:24.154022</td>\n",
       "      <td>2025-02-03 20:20:27.379304</td>\n",
       "      <td>0 days 00:00:03.225282</td>\n",
       "      <td>0.539390</td>\n",
       "      <td>0.197010</td>\n",
       "      <td>225</td>\n",
       "      <td>5</td>\n",
       "      <td>70</td>\n",
       "      <td>0.355715</td>\n",
       "      <td>416</td>\n",
       "      <td>4.602589e-08</td>\n",
       "      <td>2.334629e-05</td>\n",
       "      <td>0.781634</td>\n",
       "      <td>PRUNED</td>\n",
       "    </tr>\n",
       "    <tr>\n",
       "      <th>1</th>\n",
       "      <td>1</td>\n",
       "      <td>38.869808</td>\n",
       "      <td>2025-02-03 20:18:40.220186</td>\n",
       "      <td>2025-02-03 20:18:52.040437</td>\n",
       "      <td>0 days 00:00:11.820251</td>\n",
       "      <td>0.878914</td>\n",
       "      <td>0.081455</td>\n",
       "      <td>79</td>\n",
       "      <td>7</td>\n",
       "      <td>72</td>\n",
       "      <td>0.394845</td>\n",
       "      <td>274</td>\n",
       "      <td>8.386588e-02</td>\n",
       "      <td>3.059195e-01</td>\n",
       "      <td>0.982106</td>\n",
       "      <td>COMPLETE</td>\n",
       "    </tr>\n",
       "    <tr>\n",
       "      <th>38</th>\n",
       "      <td>38</td>\n",
       "      <td>38.873332</td>\n",
       "      <td>2025-02-03 20:20:30.789099</td>\n",
       "      <td>2025-02-03 20:20:36.076933</td>\n",
       "      <td>0 days 00:00:05.287834</td>\n",
       "      <td>0.975496</td>\n",
       "      <td>0.195595</td>\n",
       "      <td>306</td>\n",
       "      <td>8</td>\n",
       "      <td>40</td>\n",
       "      <td>0.538047</td>\n",
       "      <td>496</td>\n",
       "      <td>2.046494e-03</td>\n",
       "      <td>2.420219e-02</td>\n",
       "      <td>0.622010</td>\n",
       "      <td>PRUNED</td>\n",
       "    </tr>\n",
       "    <tr>\n",
       "      <th>11</th>\n",
       "      <td>11</td>\n",
       "      <td>38.880614</td>\n",
       "      <td>2025-02-03 20:19:40.462331</td>\n",
       "      <td>2025-02-03 20:19:41.994575</td>\n",
       "      <td>0 days 00:00:01.532244</td>\n",
       "      <td>0.548501</td>\n",
       "      <td>0.194514</td>\n",
       "      <td>252</td>\n",
       "      <td>3</td>\n",
       "      <td>76</td>\n",
       "      <td>0.591812</td>\n",
       "      <td>201</td>\n",
       "      <td>1.496973e-08</td>\n",
       "      <td>4.105571e-06</td>\n",
       "      <td>0.733924</td>\n",
       "      <td>PRUNED</td>\n",
       "    </tr>\n",
       "    <tr>\n",
       "      <th>4</th>\n",
       "      <td>4</td>\n",
       "      <td>38.885416</td>\n",
       "      <td>2025-02-03 20:19:26.247247</td>\n",
       "      <td>2025-02-03 20:19:30.237694</td>\n",
       "      <td>0 days 00:00:03.990447</td>\n",
       "      <td>0.908054</td>\n",
       "      <td>0.185634</td>\n",
       "      <td>100</td>\n",
       "      <td>1</td>\n",
       "      <td>17</td>\n",
       "      <td>0.781667</td>\n",
       "      <td>289</td>\n",
       "      <td>3.939309e-05</td>\n",
       "      <td>1.224379e-07</td>\n",
       "      <td>0.906789</td>\n",
       "      <td>COMPLETE</td>\n",
       "    </tr>\n",
       "    <tr>\n",
       "      <th>0</th>\n",
       "      <td>0</td>\n",
       "      <td>38.886190</td>\n",
       "      <td>2025-02-03 20:18:36.663888</td>\n",
       "      <td>2025-02-03 20:18:40.219394</td>\n",
       "      <td>0 days 00:00:03.555506</td>\n",
       "      <td>0.690792</td>\n",
       "      <td>0.143037</td>\n",
       "      <td>159</td>\n",
       "      <td>1</td>\n",
       "      <td>22</td>\n",
       "      <td>0.418791</td>\n",
       "      <td>69</td>\n",
       "      <td>8.407842e-07</td>\n",
       "      <td>1.941049e-08</td>\n",
       "      <td>0.823361</td>\n",
       "      <td>COMPLETE</td>\n",
       "    </tr>\n",
       "    <tr>\n",
       "      <th>29</th>\n",
       "      <td>29</td>\n",
       "      <td>38.904485</td>\n",
       "      <td>2025-02-03 20:20:22.903766</td>\n",
       "      <td>2025-02-03 20:20:23.565960</td>\n",
       "      <td>0 days 00:00:00.662194</td>\n",
       "      <td>0.695145</td>\n",
       "      <td>0.137549</td>\n",
       "      <td>122</td>\n",
       "      <td>6</td>\n",
       "      <td>30</td>\n",
       "      <td>0.471051</td>\n",
       "      <td>293</td>\n",
       "      <td>1.032291e-04</td>\n",
       "      <td>1.992459e-08</td>\n",
       "      <td>0.816036</td>\n",
       "      <td>PRUNED</td>\n",
       "    </tr>\n",
       "    <tr>\n",
       "      <th>48</th>\n",
       "      <td>48</td>\n",
       "      <td>38.912335</td>\n",
       "      <td>2025-02-03 20:20:41.407554</td>\n",
       "      <td>2025-02-03 20:20:42.056805</td>\n",
       "      <td>0 days 00:00:00.649251</td>\n",
       "      <td>0.608518</td>\n",
       "      <td>0.173541</td>\n",
       "      <td>362</td>\n",
       "      <td>8</td>\n",
       "      <td>11</td>\n",
       "      <td>0.990972</td>\n",
       "      <td>402</td>\n",
       "      <td>6.109769e-05</td>\n",
       "      <td>4.364269e-02</td>\n",
       "      <td>0.697231</td>\n",
       "      <td>PRUNED</td>\n",
       "    </tr>\n",
       "    <tr>\n",
       "      <th>36</th>\n",
       "      <td>36</td>\n",
       "      <td>38.912564</td>\n",
       "      <td>2025-02-03 20:20:29.694112</td>\n",
       "      <td>2025-02-03 20:20:30.248674</td>\n",
       "      <td>0 days 00:00:00.554562</td>\n",
       "      <td>0.513079</td>\n",
       "      <td>0.168658</td>\n",
       "      <td>143</td>\n",
       "      <td>5</td>\n",
       "      <td>94</td>\n",
       "      <td>0.574573</td>\n",
       "      <td>465</td>\n",
       "      <td>1.791216e-05</td>\n",
       "      <td>8.025557e-08</td>\n",
       "      <td>0.711456</td>\n",
       "      <td>PRUNED</td>\n",
       "    </tr>\n",
       "    <tr>\n",
       "      <th>18</th>\n",
       "      <td>18</td>\n",
       "      <td>38.912669</td>\n",
       "      <td>2025-02-03 20:19:52.453895</td>\n",
       "      <td>2025-02-03 20:19:53.024065</td>\n",
       "      <td>0 days 00:00:00.570170</td>\n",
       "      <td>0.712603</td>\n",
       "      <td>0.111579</td>\n",
       "      <td>440</td>\n",
       "      <td>6</td>\n",
       "      <td>46</td>\n",
       "      <td>0.490564</td>\n",
       "      <td>430</td>\n",
       "      <td>1.034266e-03</td>\n",
       "      <td>2.208732e-08</td>\n",
       "      <td>0.554092</td>\n",
       "      <td>PRUNED</td>\n",
       "    </tr>\n",
       "    <tr>\n",
       "      <th>33</th>\n",
       "      <td>33</td>\n",
       "      <td>38.912683</td>\n",
       "      <td>2025-02-03 20:20:27.947264</td>\n",
       "      <td>2025-02-03 20:20:28.495567</td>\n",
       "      <td>0 days 00:00:00.548303</td>\n",
       "      <td>0.534596</td>\n",
       "      <td>0.161603</td>\n",
       "      <td>267</td>\n",
       "      <td>5</td>\n",
       "      <td>60</td>\n",
       "      <td>0.328314</td>\n",
       "      <td>362</td>\n",
       "      <td>3.231346e-08</td>\n",
       "      <td>1.036625e-05</td>\n",
       "      <td>0.835906</td>\n",
       "      <td>PRUNED</td>\n",
       "    </tr>\n",
       "    <tr>\n",
       "      <th>24</th>\n",
       "      <td>24</td>\n",
       "      <td>38.912696</td>\n",
       "      <td>2025-02-03 20:20:03.624565</td>\n",
       "      <td>2025-02-03 20:20:04.215345</td>\n",
       "      <td>0 days 00:00:00.590780</td>\n",
       "      <td>0.626354</td>\n",
       "      <td>0.144865</td>\n",
       "      <td>256</td>\n",
       "      <td>7</td>\n",
       "      <td>66</td>\n",
       "      <td>0.490791</td>\n",
       "      <td>310</td>\n",
       "      <td>7.343601e-07</td>\n",
       "      <td>6.492503e-07</td>\n",
       "      <td>0.660774</td>\n",
       "      <td>PRUNED</td>\n",
       "    </tr>\n",
       "    <tr>\n",
       "      <th>20</th>\n",
       "      <td>20</td>\n",
       "      <td>38.912875</td>\n",
       "      <td>2025-02-03 20:19:53.634767</td>\n",
       "      <td>2025-02-03 20:19:54.192480</td>\n",
       "      <td>0 days 00:00:00.557713</td>\n",
       "      <td>0.575868</td>\n",
       "      <td>0.150621</td>\n",
       "      <td>475</td>\n",
       "      <td>5</td>\n",
       "      <td>5</td>\n",
       "      <td>0.239002</td>\n",
       "      <td>508</td>\n",
       "      <td>1.334572e-08</td>\n",
       "      <td>1.542449e-03</td>\n",
       "      <td>0.702541</td>\n",
       "      <td>PRUNED</td>\n",
       "    </tr>\n",
       "    <tr>\n",
       "      <th>49</th>\n",
       "      <td>49</td>\n",
       "      <td>38.912890</td>\n",
       "      <td>2025-02-03 20:20:42.057327</td>\n",
       "      <td>2025-02-03 20:20:42.593018</td>\n",
       "      <td>0 days 00:00:00.535691</td>\n",
       "      <td>0.671243</td>\n",
       "      <td>0.121540</td>\n",
       "      <td>184</td>\n",
       "      <td>4</td>\n",
       "      <td>64</td>\n",
       "      <td>0.371708</td>\n",
       "      <td>214</td>\n",
       "      <td>2.002398e-03</td>\n",
       "      <td>3.569840e-04</td>\n",
       "      <td>0.607030</td>\n",
       "      <td>PRUNED</td>\n",
       "    </tr>\n",
       "    <tr>\n",
       "      <th>30</th>\n",
       "      <td>30</td>\n",
       "      <td>38.912895</td>\n",
       "      <td>2025-02-03 20:20:23.566549</td>\n",
       "      <td>2025-02-03 20:20:24.153350</td>\n",
       "      <td>0 days 00:00:00.586801</td>\n",
       "      <td>0.662886</td>\n",
       "      <td>0.099455</td>\n",
       "      <td>313</td>\n",
       "      <td>7</td>\n",
       "      <td>82</td>\n",
       "      <td>0.037522</td>\n",
       "      <td>115</td>\n",
       "      <td>7.947844e-02</td>\n",
       "      <td>2.635847e-06</td>\n",
       "      <td>0.707912</td>\n",
       "      <td>PRUNED</td>\n",
       "    </tr>\n",
       "    <tr>\n",
       "      <th>35</th>\n",
       "      <td>35</td>\n",
       "      <td>38.912994</td>\n",
       "      <td>2025-02-03 20:20:29.061909</td>\n",
       "      <td>2025-02-03 20:20:29.693558</td>\n",
       "      <td>0 days 00:00:00.631649</td>\n",
       "      <td>0.563248</td>\n",
       "      <td>0.131906</td>\n",
       "      <td>238</td>\n",
       "      <td>7</td>\n",
       "      <td>68</td>\n",
       "      <td>0.439249</td>\n",
       "      <td>287</td>\n",
       "      <td>1.564343e-06</td>\n",
       "      <td>3.488456e-04</td>\n",
       "      <td>0.926697</td>\n",
       "      <td>PRUNED</td>\n",
       "    </tr>\n",
       "    <tr>\n",
       "      <th>32</th>\n",
       "      <td>32</td>\n",
       "      <td>38.913042</td>\n",
       "      <td>2025-02-03 20:20:27.380023</td>\n",
       "      <td>2025-02-03 20:20:27.946680</td>\n",
       "      <td>0 days 00:00:00.566657</td>\n",
       "      <td>0.598613</td>\n",
       "      <td>0.162762</td>\n",
       "      <td>171</td>\n",
       "      <td>4</td>\n",
       "      <td>75</td>\n",
       "      <td>0.430687</td>\n",
       "      <td>262</td>\n",
       "      <td>5.340837e-07</td>\n",
       "      <td>1.092991e-06</td>\n",
       "      <td>0.672258</td>\n",
       "      <td>PRUNED</td>\n",
       "    </tr>\n",
       "    <tr>\n",
       "      <th>21</th>\n",
       "      <td>21</td>\n",
       "      <td>38.913133</td>\n",
       "      <td>2025-02-03 20:19:54.193078</td>\n",
       "      <td>2025-02-03 20:19:54.725313</td>\n",
       "      <td>0 days 00:00:00.532235</td>\n",
       "      <td>0.616656</td>\n",
       "      <td>0.169586</td>\n",
       "      <td>305</td>\n",
       "      <td>3</td>\n",
       "      <td>65</td>\n",
       "      <td>0.707830</td>\n",
       "      <td>323</td>\n",
       "      <td>5.677818e-08</td>\n",
       "      <td>2.609757e-06</td>\n",
       "      <td>0.780489</td>\n",
       "      <td>PRUNED</td>\n",
       "    </tr>\n",
       "    <tr>\n",
       "      <th>15</th>\n",
       "      <td>15</td>\n",
       "      <td>38.913557</td>\n",
       "      <td>2025-02-03 20:19:43.725279</td>\n",
       "      <td>2025-02-03 20:19:44.287190</td>\n",
       "      <td>0 days 00:00:00.561911</td>\n",
       "      <td>0.502157</td>\n",
       "      <td>0.128413</td>\n",
       "      <td>205</td>\n",
       "      <td>4</td>\n",
       "      <td>97</td>\n",
       "      <td>0.901872</td>\n",
       "      <td>399</td>\n",
       "      <td>7.040568e-04</td>\n",
       "      <td>9.635001e-06</td>\n",
       "      <td>0.765984</td>\n",
       "      <td>PRUNED</td>\n",
       "    </tr>\n",
       "    <tr>\n",
       "      <th>25</th>\n",
       "      <td>25</td>\n",
       "      <td>38.913639</td>\n",
       "      <td>2025-02-03 20:20:04.215859</td>\n",
       "      <td>2025-02-03 20:20:04.766835</td>\n",
       "      <td>0 days 00:00:00.550976</td>\n",
       "      <td>0.687618</td>\n",
       "      <td>0.087190</td>\n",
       "      <td>395</td>\n",
       "      <td>4</td>\n",
       "      <td>87</td>\n",
       "      <td>0.839275</td>\n",
       "      <td>363</td>\n",
       "      <td>1.219237e-08</td>\n",
       "      <td>2.318300e-04</td>\n",
       "      <td>0.866214</td>\n",
       "      <td>PRUNED</td>\n",
       "    </tr>\n",
       "    <tr>\n",
       "      <th>22</th>\n",
       "      <td>22</td>\n",
       "      <td>38.913659</td>\n",
       "      <td>2025-02-03 20:19:54.725903</td>\n",
       "      <td>2025-02-03 20:19:55.275621</td>\n",
       "      <td>0 days 00:00:00.549718</td>\n",
       "      <td>0.558757</td>\n",
       "      <td>0.105207</td>\n",
       "      <td>292</td>\n",
       "      <td>5</td>\n",
       "      <td>80</td>\n",
       "      <td>0.570652</td>\n",
       "      <td>265</td>\n",
       "      <td>1.286729e-07</td>\n",
       "      <td>4.367566e-05</td>\n",
       "      <td>0.838952</td>\n",
       "      <td>PRUNED</td>\n",
       "    </tr>\n",
       "    <tr>\n",
       "      <th>12</th>\n",
       "      <td>12</td>\n",
       "      <td>38.913853</td>\n",
       "      <td>2025-02-03 20:19:41.995063</td>\n",
       "      <td>2025-02-03 20:19:42.568341</td>\n",
       "      <td>0 days 00:00:00.573278</td>\n",
       "      <td>0.589464</td>\n",
       "      <td>0.118211</td>\n",
       "      <td>223</td>\n",
       "      <td>3</td>\n",
       "      <td>39</td>\n",
       "      <td>0.278821</td>\n",
       "      <td>385</td>\n",
       "      <td>2.680678e-07</td>\n",
       "      <td>8.009959e-07</td>\n",
       "      <td>0.651605</td>\n",
       "      <td>PRUNED</td>\n",
       "    </tr>\n",
       "    <tr>\n",
       "      <th>34</th>\n",
       "      <td>34</td>\n",
       "      <td>38.914058</td>\n",
       "      <td>2025-02-03 20:20:28.496076</td>\n",
       "      <td>2025-02-03 20:20:29.061407</td>\n",
       "      <td>0 days 00:00:00.565331</td>\n",
       "      <td>0.632921</td>\n",
       "      <td>0.079494</td>\n",
       "      <td>204</td>\n",
       "      <td>6</td>\n",
       "      <td>53</td>\n",
       "      <td>0.400946</td>\n",
       "      <td>380</td>\n",
       "      <td>2.246599e-07</td>\n",
       "      <td>8.693430e-02</td>\n",
       "      <td>0.754036</td>\n",
       "      <td>PRUNED</td>\n",
       "    </tr>\n",
       "    <tr>\n",
       "      <th>27</th>\n",
       "      <td>27</td>\n",
       "      <td>38.914066</td>\n",
       "      <td>2025-02-03 20:20:13.523614</td>\n",
       "      <td>2025-02-03 20:20:14.070418</td>\n",
       "      <td>0 days 00:00:00.546804</td>\n",
       "      <td>0.584449</td>\n",
       "      <td>0.122113</td>\n",
       "      <td>372</td>\n",
       "      <td>2</td>\n",
       "      <td>48</td>\n",
       "      <td>0.168733</td>\n",
       "      <td>348</td>\n",
       "      <td>2.723402e-07</td>\n",
       "      <td>3.362339e-07</td>\n",
       "      <td>0.592627</td>\n",
       "      <td>PRUNED</td>\n",
       "    </tr>\n",
       "    <tr>\n",
       "      <th>10</th>\n",
       "      <td>10</td>\n",
       "      <td>38.914108</td>\n",
       "      <td>2025-02-03 20:19:39.476569</td>\n",
       "      <td>2025-02-03 20:19:40.461784</td>\n",
       "      <td>0 days 00:00:00.985215</td>\n",
       "      <td>0.532796</td>\n",
       "      <td>0.093229</td>\n",
       "      <td>485</td>\n",
       "      <td>4</td>\n",
       "      <td>98</td>\n",
       "      <td>0.227067</td>\n",
       "      <td>160</td>\n",
       "      <td>3.056542e-04</td>\n",
       "      <td>9.273387e-04</td>\n",
       "      <td>0.508400</td>\n",
       "      <td>PRUNED</td>\n",
       "    </tr>\n",
       "    <tr>\n",
       "      <th>47</th>\n",
       "      <td>47</td>\n",
       "      <td>38.914140</td>\n",
       "      <td>2025-02-03 20:20:40.823223</td>\n",
       "      <td>2025-02-03 20:20:41.407046</td>\n",
       "      <td>0 days 00:00:00.583823</td>\n",
       "      <td>0.561151</td>\n",
       "      <td>0.074148</td>\n",
       "      <td>226</td>\n",
       "      <td>6</td>\n",
       "      <td>42</td>\n",
       "      <td>0.692235</td>\n",
       "      <td>313</td>\n",
       "      <td>2.429136e-08</td>\n",
       "      <td>1.696503e-06</td>\n",
       "      <td>0.734667</td>\n",
       "      <td>PRUNED</td>\n",
       "    </tr>\n",
       "    <tr>\n",
       "      <th>7</th>\n",
       "      <td>7</td>\n",
       "      <td>38.914234</td>\n",
       "      <td>2025-02-03 20:19:37.833606</td>\n",
       "      <td>2025-02-03 20:19:38.321268</td>\n",
       "      <td>0 days 00:00:00.487662</td>\n",
       "      <td>0.961503</td>\n",
       "      <td>0.069930</td>\n",
       "      <td>424</td>\n",
       "      <td>1</td>\n",
       "      <td>53</td>\n",
       "      <td>0.654566</td>\n",
       "      <td>112</td>\n",
       "      <td>9.120768e-02</td>\n",
       "      <td>1.047273e-07</td>\n",
       "      <td>0.986724</td>\n",
       "      <td>PRUNED</td>\n",
       "    </tr>\n",
       "    <tr>\n",
       "      <th>45</th>\n",
       "      <td>45</td>\n",
       "      <td>38.914249</td>\n",
       "      <td>2025-02-03 20:20:39.666267</td>\n",
       "      <td>2025-02-03 20:20:40.264998</td>\n",
       "      <td>0 days 00:00:00.598731</td>\n",
       "      <td>0.722825</td>\n",
       "      <td>0.054130</td>\n",
       "      <td>427</td>\n",
       "      <td>5</td>\n",
       "      <td>48</td>\n",
       "      <td>0.064001</td>\n",
       "      <td>462</td>\n",
       "      <td>3.478217e-04</td>\n",
       "      <td>1.384701e-05</td>\n",
       "      <td>0.810539</td>\n",
       "      <td>PRUNED</td>\n",
       "    </tr>\n",
       "    <tr>\n",
       "      <th>19</th>\n",
       "      <td>19</td>\n",
       "      <td>38.914286</td>\n",
       "      <td>2025-02-03 20:19:53.024647</td>\n",
       "      <td>2025-02-03 20:19:53.634155</td>\n",
       "      <td>0 days 00:00:00.609508</td>\n",
       "      <td>0.640000</td>\n",
       "      <td>0.063917</td>\n",
       "      <td>376</td>\n",
       "      <td>7</td>\n",
       "      <td>26</td>\n",
       "      <td>0.493673</td>\n",
       "      <td>328</td>\n",
       "      <td>1.098866e-05</td>\n",
       "      <td>1.830653e-07</td>\n",
       "      <td>0.645485</td>\n",
       "      <td>PRUNED</td>\n",
       "    </tr>\n",
       "    <tr>\n",
       "      <th>14</th>\n",
       "      <td>14</td>\n",
       "      <td>38.914380</td>\n",
       "      <td>2025-02-03 20:19:43.172043</td>\n",
       "      <td>2025-02-03 20:19:43.724684</td>\n",
       "      <td>0 days 00:00:00.552641</td>\n",
       "      <td>0.790750</td>\n",
       "      <td>0.057932</td>\n",
       "      <td>507</td>\n",
       "      <td>8</td>\n",
       "      <td>72</td>\n",
       "      <td>0.730803</td>\n",
       "      <td>10</td>\n",
       "      <td>9.690815e-01</td>\n",
       "      <td>1.424175e-04</td>\n",
       "      <td>0.582638</td>\n",
       "      <td>PRUNED</td>\n",
       "    </tr>\n",
       "    <tr>\n",
       "      <th>17</th>\n",
       "      <td>17</td>\n",
       "      <td>38.914580</td>\n",
       "      <td>2025-02-03 20:19:51.861219</td>\n",
       "      <td>2025-02-03 20:19:52.453274</td>\n",
       "      <td>0 days 00:00:00.592055</td>\n",
       "      <td>0.750307</td>\n",
       "      <td>0.037888</td>\n",
       "      <td>341</td>\n",
       "      <td>7</td>\n",
       "      <td>37</td>\n",
       "      <td>0.292619</td>\n",
       "      <td>231</td>\n",
       "      <td>5.306136e-06</td>\n",
       "      <td>4.568972e-07</td>\n",
       "      <td>0.688111</td>\n",
       "      <td>PRUNED</td>\n",
       "    </tr>\n",
       "    <tr>\n",
       "      <th>13</th>\n",
       "      <td>13</td>\n",
       "      <td>38.914740</td>\n",
       "      <td>2025-02-03 20:19:42.568935</td>\n",
       "      <td>2025-02-03 20:19:43.171555</td>\n",
       "      <td>0 days 00:00:00.602620</td>\n",
       "      <td>0.610487</td>\n",
       "      <td>0.044416</td>\n",
       "      <td>344</td>\n",
       "      <td>6</td>\n",
       "      <td>86</td>\n",
       "      <td>0.579381</td>\n",
       "      <td>217</td>\n",
       "      <td>1.408097e-06</td>\n",
       "      <td>1.616081e-06</td>\n",
       "      <td>0.802296</td>\n",
       "      <td>PRUNED</td>\n",
       "    </tr>\n",
       "    <tr>\n",
       "      <th>40</th>\n",
       "      <td>40</td>\n",
       "      <td>38.914842</td>\n",
       "      <td>2025-02-03 20:20:36.646634</td>\n",
       "      <td>2025-02-03 20:20:37.195794</td>\n",
       "      <td>0 days 00:00:00.549160</td>\n",
       "      <td>0.845126</td>\n",
       "      <td>0.029192</td>\n",
       "      <td>97</td>\n",
       "      <td>6</td>\n",
       "      <td>53</td>\n",
       "      <td>0.304201</td>\n",
       "      <td>299</td>\n",
       "      <td>7.686390e-01</td>\n",
       "      <td>3.411031e-07</td>\n",
       "      <td>0.721045</td>\n",
       "      <td>PRUNED</td>\n",
       "    </tr>\n",
       "    <tr>\n",
       "      <th>44</th>\n",
       "      <td>44</td>\n",
       "      <td>38.914863</td>\n",
       "      <td>2025-02-03 20:20:39.069640</td>\n",
       "      <td>2025-02-03 20:20:39.665699</td>\n",
       "      <td>0 days 00:00:00.596059</td>\n",
       "      <td>0.645589</td>\n",
       "      <td>0.038339</td>\n",
       "      <td>72</td>\n",
       "      <td>8</td>\n",
       "      <td>31</td>\n",
       "      <td>0.244892</td>\n",
       "      <td>275</td>\n",
       "      <td>8.712651e-03</td>\n",
       "      <td>4.335072e-03</td>\n",
       "      <td>0.679191</td>\n",
       "      <td>PRUNED</td>\n",
       "    </tr>\n",
       "    <tr>\n",
       "      <th>42</th>\n",
       "      <td>42</td>\n",
       "      <td>38.914864</td>\n",
       "      <td>2025-02-03 20:20:37.813311</td>\n",
       "      <td>2025-02-03 20:20:38.428097</td>\n",
       "      <td>0 days 00:00:00.614786</td>\n",
       "      <td>0.687291</td>\n",
       "      <td>0.027876</td>\n",
       "      <td>89</td>\n",
       "      <td>7</td>\n",
       "      <td>36</td>\n",
       "      <td>0.126280</td>\n",
       "      <td>433</td>\n",
       "      <td>2.741555e-05</td>\n",
       "      <td>5.217406e-06</td>\n",
       "      <td>0.756410</td>\n",
       "      <td>PRUNED</td>\n",
       "    </tr>\n",
       "    <tr>\n",
       "      <th>9</th>\n",
       "      <td>9</td>\n",
       "      <td>38.915062</td>\n",
       "      <td>2025-02-03 20:19:38.866595</td>\n",
       "      <td>2025-02-03 20:19:39.476071</td>\n",
       "      <td>0 days 00:00:00.609476</td>\n",
       "      <td>0.664751</td>\n",
       "      <td>0.021623</td>\n",
       "      <td>340</td>\n",
       "      <td>6</td>\n",
       "      <td>86</td>\n",
       "      <td>0.133034</td>\n",
       "      <td>328</td>\n",
       "      <td>1.057458e-02</td>\n",
       "      <td>6.492288e-05</td>\n",
       "      <td>0.886346</td>\n",
       "      <td>PRUNED</td>\n",
       "    </tr>\n",
       "    <tr>\n",
       "      <th>5</th>\n",
       "      <td>5</td>\n",
       "      <td>38.915065</td>\n",
       "      <td>2025-02-03 20:19:30.238642</td>\n",
       "      <td>2025-02-03 20:19:30.775739</td>\n",
       "      <td>0 days 00:00:00.537097</td>\n",
       "      <td>0.841659</td>\n",
       "      <td>0.022861</td>\n",
       "      <td>278</td>\n",
       "      <td>5</td>\n",
       "      <td>57</td>\n",
       "      <td>0.404205</td>\n",
       "      <td>470</td>\n",
       "      <td>4.956200e-03</td>\n",
       "      <td>1.887451e-01</td>\n",
       "      <td>0.960681</td>\n",
       "      <td>PRUNED</td>\n",
       "    </tr>\n",
       "    <tr>\n",
       "      <th>43</th>\n",
       "      <td>43</td>\n",
       "      <td>38.915216</td>\n",
       "      <td>2025-02-03 20:20:38.428606</td>\n",
       "      <td>2025-02-03 20:20:39.069136</td>\n",
       "      <td>0 days 00:00:00.640530</td>\n",
       "      <td>0.576351</td>\n",
       "      <td>0.020940</td>\n",
       "      <td>119</td>\n",
       "      <td>7</td>\n",
       "      <td>62</td>\n",
       "      <td>0.110520</td>\n",
       "      <td>335</td>\n",
       "      <td>1.184483e-07</td>\n",
       "      <td>9.829027e-05</td>\n",
       "      <td>0.631786</td>\n",
       "      <td>PRUNED</td>\n",
       "    </tr>\n",
       "    <tr>\n",
       "      <th>46</th>\n",
       "      <td>46</td>\n",
       "      <td>38.915216</td>\n",
       "      <td>2025-02-03 20:20:40.265548</td>\n",
       "      <td>2025-02-03 20:20:40.822685</td>\n",
       "      <td>0 days 00:00:00.557137</td>\n",
       "      <td>0.520142</td>\n",
       "      <td>0.028579</td>\n",
       "      <td>323</td>\n",
       "      <td>3</td>\n",
       "      <td>74</td>\n",
       "      <td>0.806865</td>\n",
       "      <td>240</td>\n",
       "      <td>3.105320e-01</td>\n",
       "      <td>1.680528e-07</td>\n",
       "      <td>0.775544</td>\n",
       "      <td>PRUNED</td>\n",
       "    </tr>\n",
       "    <tr>\n",
       "      <th>39</th>\n",
       "      <td>39</td>\n",
       "      <td>38.915272</td>\n",
       "      <td>2025-02-03 20:20:36.077546</td>\n",
       "      <td>2025-02-03 20:20:36.646028</td>\n",
       "      <td>0 days 00:00:00.568482</td>\n",
       "      <td>0.924972</td>\n",
       "      <td>0.012774</td>\n",
       "      <td>199</td>\n",
       "      <td>2</td>\n",
       "      <td>90</td>\n",
       "      <td>0.645061</td>\n",
       "      <td>346</td>\n",
       "      <td>3.674392e-02</td>\n",
       "      <td>3.619591e-05</td>\n",
       "      <td>0.858539</td>\n",
       "      <td>PRUNED</td>\n",
       "    </tr>\n",
       "    <tr>\n",
       "      <th>41</th>\n",
       "      <td>41</td>\n",
       "      <td>38.915317</td>\n",
       "      <td>2025-02-03 20:20:37.196386</td>\n",
       "      <td>2025-02-03 20:20:37.812708</td>\n",
       "      <td>0 days 00:00:00.616322</td>\n",
       "      <td>0.602770</td>\n",
       "      <td>0.016218</td>\n",
       "      <td>149</td>\n",
       "      <td>8</td>\n",
       "      <td>22</td>\n",
       "      <td>0.016776</td>\n",
       "      <td>375</td>\n",
       "      <td>1.430346e-04</td>\n",
       "      <td>6.208068e-03</td>\n",
       "      <td>0.686502</td>\n",
       "      <td>PRUNED</td>\n",
       "    </tr>\n",
       "    <tr>\n",
       "      <th>37</th>\n",
       "      <td>37</td>\n",
       "      <td>38.915423</td>\n",
       "      <td>2025-02-03 20:20:30.249257</td>\n",
       "      <td>2025-02-03 20:20:30.788363</td>\n",
       "      <td>0 days 00:00:00.539106</td>\n",
       "      <td>0.655190</td>\n",
       "      <td>0.010489</td>\n",
       "      <td>280</td>\n",
       "      <td>4</td>\n",
       "      <td>79</td>\n",
       "      <td>0.191572</td>\n",
       "      <td>409</td>\n",
       "      <td>3.029115e-08</td>\n",
       "      <td>8.779194e-01</td>\n",
       "      <td>0.791955</td>\n",
       "      <td>PRUNED</td>\n",
       "    </tr>\n",
       "    <tr>\n",
       "      <th>8</th>\n",
       "      <td>8</td>\n",
       "      <td>38.915597</td>\n",
       "      <td>2025-02-03 20:19:38.321861</td>\n",
       "      <td>2025-02-03 20:19:38.865939</td>\n",
       "      <td>0 days 00:00:00.544078</td>\n",
       "      <td>0.737212</td>\n",
       "      <td>0.010566</td>\n",
       "      <td>408</td>\n",
       "      <td>1</td>\n",
       "      <td>62</td>\n",
       "      <td>0.935686</td>\n",
       "      <td>446</td>\n",
       "      <td>1.080290e-02</td>\n",
       "      <td>1.904187e-05</td>\n",
       "      <td>0.617130</td>\n",
       "      <td>PRUNED</td>\n",
       "    </tr>\n",
       "  </tbody>\n",
       "</table>\n",
       "</div>"
      ],
      "text/plain": [
       "    number      value             datetime_start          datetime_complete  \\\n",
       "3        3  38.862396 2025-02-03 20:19:13.666658 2025-02-03 20:19:26.246400   \n",
       "16      16  38.863771 2025-02-03 20:19:44.287852 2025-02-03 20:19:51.860448   \n",
       "6        6  38.864721 2025-02-03 20:19:30.776301 2025-02-03 20:19:37.832819   \n",
       "28      28  38.865196 2025-02-03 20:20:14.071051 2025-02-03 20:20:22.903044   \n",
       "2        2  38.866191 2025-02-03 20:18:52.041135 2025-02-03 20:19:13.665922   \n",
       "23      23  38.866999 2025-02-03 20:19:55.276131 2025-02-03 20:20:03.623879   \n",
       "26      26  38.867098 2025-02-03 20:20:04.767388 2025-02-03 20:20:13.522828   \n",
       "31      31  38.868725 2025-02-03 20:20:24.154022 2025-02-03 20:20:27.379304   \n",
       "1        1  38.869808 2025-02-03 20:18:40.220186 2025-02-03 20:18:52.040437   \n",
       "38      38  38.873332 2025-02-03 20:20:30.789099 2025-02-03 20:20:36.076933   \n",
       "11      11  38.880614 2025-02-03 20:19:40.462331 2025-02-03 20:19:41.994575   \n",
       "4        4  38.885416 2025-02-03 20:19:26.247247 2025-02-03 20:19:30.237694   \n",
       "0        0  38.886190 2025-02-03 20:18:36.663888 2025-02-03 20:18:40.219394   \n",
       "29      29  38.904485 2025-02-03 20:20:22.903766 2025-02-03 20:20:23.565960   \n",
       "48      48  38.912335 2025-02-03 20:20:41.407554 2025-02-03 20:20:42.056805   \n",
       "36      36  38.912564 2025-02-03 20:20:29.694112 2025-02-03 20:20:30.248674   \n",
       "18      18  38.912669 2025-02-03 20:19:52.453895 2025-02-03 20:19:53.024065   \n",
       "33      33  38.912683 2025-02-03 20:20:27.947264 2025-02-03 20:20:28.495567   \n",
       "24      24  38.912696 2025-02-03 20:20:03.624565 2025-02-03 20:20:04.215345   \n",
       "20      20  38.912875 2025-02-03 20:19:53.634767 2025-02-03 20:19:54.192480   \n",
       "49      49  38.912890 2025-02-03 20:20:42.057327 2025-02-03 20:20:42.593018   \n",
       "30      30  38.912895 2025-02-03 20:20:23.566549 2025-02-03 20:20:24.153350   \n",
       "35      35  38.912994 2025-02-03 20:20:29.061909 2025-02-03 20:20:29.693558   \n",
       "32      32  38.913042 2025-02-03 20:20:27.380023 2025-02-03 20:20:27.946680   \n",
       "21      21  38.913133 2025-02-03 20:19:54.193078 2025-02-03 20:19:54.725313   \n",
       "15      15  38.913557 2025-02-03 20:19:43.725279 2025-02-03 20:19:44.287190   \n",
       "25      25  38.913639 2025-02-03 20:20:04.215859 2025-02-03 20:20:04.766835   \n",
       "22      22  38.913659 2025-02-03 20:19:54.725903 2025-02-03 20:19:55.275621   \n",
       "12      12  38.913853 2025-02-03 20:19:41.995063 2025-02-03 20:19:42.568341   \n",
       "34      34  38.914058 2025-02-03 20:20:28.496076 2025-02-03 20:20:29.061407   \n",
       "27      27  38.914066 2025-02-03 20:20:13.523614 2025-02-03 20:20:14.070418   \n",
       "10      10  38.914108 2025-02-03 20:19:39.476569 2025-02-03 20:19:40.461784   \n",
       "47      47  38.914140 2025-02-03 20:20:40.823223 2025-02-03 20:20:41.407046   \n",
       "7        7  38.914234 2025-02-03 20:19:37.833606 2025-02-03 20:19:38.321268   \n",
       "45      45  38.914249 2025-02-03 20:20:39.666267 2025-02-03 20:20:40.264998   \n",
       "19      19  38.914286 2025-02-03 20:19:53.024647 2025-02-03 20:19:53.634155   \n",
       "14      14  38.914380 2025-02-03 20:19:43.172043 2025-02-03 20:19:43.724684   \n",
       "17      17  38.914580 2025-02-03 20:19:51.861219 2025-02-03 20:19:52.453274   \n",
       "13      13  38.914740 2025-02-03 20:19:42.568935 2025-02-03 20:19:43.171555   \n",
       "40      40  38.914842 2025-02-03 20:20:36.646634 2025-02-03 20:20:37.195794   \n",
       "44      44  38.914863 2025-02-03 20:20:39.069640 2025-02-03 20:20:39.665699   \n",
       "42      42  38.914864 2025-02-03 20:20:37.813311 2025-02-03 20:20:38.428097   \n",
       "9        9  38.915062 2025-02-03 20:19:38.866595 2025-02-03 20:19:39.476071   \n",
       "5        5  38.915065 2025-02-03 20:19:30.238642 2025-02-03 20:19:30.775739   \n",
       "43      43  38.915216 2025-02-03 20:20:38.428606 2025-02-03 20:20:39.069136   \n",
       "46      46  38.915216 2025-02-03 20:20:40.265548 2025-02-03 20:20:40.822685   \n",
       "39      39  38.915272 2025-02-03 20:20:36.077546 2025-02-03 20:20:36.646028   \n",
       "41      41  38.915317 2025-02-03 20:20:37.196386 2025-02-03 20:20:37.812708   \n",
       "37      37  38.915423 2025-02-03 20:20:30.249257 2025-02-03 20:20:30.788363   \n",
       "8        8  38.915597 2025-02-03 20:19:38.321861 2025-02-03 20:19:38.865939   \n",
       "\n",
       "                 duration  params_colsample_bytree  params_learning_rate  \\\n",
       "3  0 days 00:00:12.579742                 0.620356              0.116175   \n",
       "16 0 days 00:00:07.572596                 0.596050              0.198295   \n",
       "6  0 days 00:00:07.056518                 0.605384              0.197061   \n",
       "28 0 days 00:00:08.831993                 0.531971              0.197729   \n",
       "2  0 days 00:00:21.624787                 0.658276              0.027538   \n",
       "23 0 days 00:00:08.347748                 0.500204              0.195059   \n",
       "26 0 days 00:00:08.755440                 0.778924              0.152462   \n",
       "31 0 days 00:00:03.225282                 0.539390              0.197010   \n",
       "1  0 days 00:00:11.820251                 0.878914              0.081455   \n",
       "38 0 days 00:00:05.287834                 0.975496              0.195595   \n",
       "11 0 days 00:00:01.532244                 0.548501              0.194514   \n",
       "4  0 days 00:00:03.990447                 0.908054              0.185634   \n",
       "0  0 days 00:00:03.555506                 0.690792              0.143037   \n",
       "29 0 days 00:00:00.662194                 0.695145              0.137549   \n",
       "48 0 days 00:00:00.649251                 0.608518              0.173541   \n",
       "36 0 days 00:00:00.554562                 0.513079              0.168658   \n",
       "18 0 days 00:00:00.570170                 0.712603              0.111579   \n",
       "33 0 days 00:00:00.548303                 0.534596              0.161603   \n",
       "24 0 days 00:00:00.590780                 0.626354              0.144865   \n",
       "20 0 days 00:00:00.557713                 0.575868              0.150621   \n",
       "49 0 days 00:00:00.535691                 0.671243              0.121540   \n",
       "30 0 days 00:00:00.586801                 0.662886              0.099455   \n",
       "35 0 days 00:00:00.631649                 0.563248              0.131906   \n",
       "32 0 days 00:00:00.566657                 0.598613              0.162762   \n",
       "21 0 days 00:00:00.532235                 0.616656              0.169586   \n",
       "15 0 days 00:00:00.561911                 0.502157              0.128413   \n",
       "25 0 days 00:00:00.550976                 0.687618              0.087190   \n",
       "22 0 days 00:00:00.549718                 0.558757              0.105207   \n",
       "12 0 days 00:00:00.573278                 0.589464              0.118211   \n",
       "34 0 days 00:00:00.565331                 0.632921              0.079494   \n",
       "27 0 days 00:00:00.546804                 0.584449              0.122113   \n",
       "10 0 days 00:00:00.985215                 0.532796              0.093229   \n",
       "47 0 days 00:00:00.583823                 0.561151              0.074148   \n",
       "7  0 days 00:00:00.487662                 0.961503              0.069930   \n",
       "45 0 days 00:00:00.598731                 0.722825              0.054130   \n",
       "19 0 days 00:00:00.609508                 0.640000              0.063917   \n",
       "14 0 days 00:00:00.552641                 0.790750              0.057932   \n",
       "17 0 days 00:00:00.592055                 0.750307              0.037888   \n",
       "13 0 days 00:00:00.602620                 0.610487              0.044416   \n",
       "40 0 days 00:00:00.549160                 0.845126              0.029192   \n",
       "44 0 days 00:00:00.596059                 0.645589              0.038339   \n",
       "42 0 days 00:00:00.614786                 0.687291              0.027876   \n",
       "9  0 days 00:00:00.609476                 0.664751              0.021623   \n",
       "5  0 days 00:00:00.537097                 0.841659              0.022861   \n",
       "43 0 days 00:00:00.640530                 0.576351              0.020940   \n",
       "46 0 days 00:00:00.557137                 0.520142              0.028579   \n",
       "39 0 days 00:00:00.568482                 0.924972              0.012774   \n",
       "41 0 days 00:00:00.616322                 0.602770              0.016218   \n",
       "37 0 days 00:00:00.539106                 0.655190              0.010489   \n",
       "8  0 days 00:00:00.544078                 0.737212              0.010566   \n",
       "\n",
       "    params_max_bin  params_max_depth  params_min_child_samples  \\\n",
       "3              460                 7                        75   \n",
       "16             335                 6                        43   \n",
       "6              242                 4                        69   \n",
       "28             240                 5                        70   \n",
       "2              146                 8                        37   \n",
       "23             181                 6                        46   \n",
       "26             461                 8                        58   \n",
       "31             225                 5                        70   \n",
       "1               79                 7                        72   \n",
       "38             306                 8                        40   \n",
       "11             252                 3                        76   \n",
       "4              100                 1                        17   \n",
       "0              159                 1                        22   \n",
       "29             122                 6                        30   \n",
       "48             362                 8                        11   \n",
       "36             143                 5                        94   \n",
       "18             440                 6                        46   \n",
       "33             267                 5                        60   \n",
       "24             256                 7                        66   \n",
       "20             475                 5                         5   \n",
       "49             184                 4                        64   \n",
       "30             313                 7                        82   \n",
       "35             238                 7                        68   \n",
       "32             171                 4                        75   \n",
       "21             305                 3                        65   \n",
       "15             205                 4                        97   \n",
       "25             395                 4                        87   \n",
       "22             292                 5                        80   \n",
       "12             223                 3                        39   \n",
       "34             204                 6                        53   \n",
       "27             372                 2                        48   \n",
       "10             485                 4                        98   \n",
       "47             226                 6                        42   \n",
       "7              424                 1                        53   \n",
       "45             427                 5                        48   \n",
       "19             376                 7                        26   \n",
       "14             507                 8                        72   \n",
       "17             341                 7                        37   \n",
       "13             344                 6                        86   \n",
       "40              97                 6                        53   \n",
       "44              72                 8                        31   \n",
       "42              89                 7                        36   \n",
       "9              340                 6                        86   \n",
       "5              278                 5                        57   \n",
       "43             119                 7                        62   \n",
       "46             323                 3                        74   \n",
       "39             199                 2                        90   \n",
       "41             149                 8                        22   \n",
       "37             280                 4                        79   \n",
       "8              408                 1                        62   \n",
       "\n",
       "    params_min_split_gain  params_num_leaves  params_reg_alpha  \\\n",
       "3                0.342268                297      7.137420e-03   \n",
       "16               0.484206                313      1.332847e-08   \n",
       "6                0.620968                321      6.966264e-08   \n",
       "28               0.351519                409      4.232914e-08   \n",
       "2                0.091179                363      4.007225e-05   \n",
       "23               0.365529                178      7.023048e-08   \n",
       "26               0.645709                247      3.439508e-06   \n",
       "31               0.355715                416      4.602589e-08   \n",
       "1                0.394845                274      8.386588e-02   \n",
       "38               0.538047                496      2.046494e-03   \n",
       "11               0.591812                201      1.496973e-08   \n",
       "4                0.781667                289      3.939309e-05   \n",
       "0                0.418791                 69      8.407842e-07   \n",
       "29               0.471051                293      1.032291e-04   \n",
       "48               0.990972                402      6.109769e-05   \n",
       "36               0.574573                465      1.791216e-05   \n",
       "18               0.490564                430      1.034266e-03   \n",
       "33               0.328314                362      3.231346e-08   \n",
       "24               0.490791                310      7.343601e-07   \n",
       "20               0.239002                508      1.334572e-08   \n",
       "49               0.371708                214      2.002398e-03   \n",
       "30               0.037522                115      7.947844e-02   \n",
       "35               0.439249                287      1.564343e-06   \n",
       "32               0.430687                262      5.340837e-07   \n",
       "21               0.707830                323      5.677818e-08   \n",
       "15               0.901872                399      7.040568e-04   \n",
       "25               0.839275                363      1.219237e-08   \n",
       "22               0.570652                265      1.286729e-07   \n",
       "12               0.278821                385      2.680678e-07   \n",
       "34               0.400946                380      2.246599e-07   \n",
       "27               0.168733                348      2.723402e-07   \n",
       "10               0.227067                160      3.056542e-04   \n",
       "47               0.692235                313      2.429136e-08   \n",
       "7                0.654566                112      9.120768e-02   \n",
       "45               0.064001                462      3.478217e-04   \n",
       "19               0.493673                328      1.098866e-05   \n",
       "14               0.730803                 10      9.690815e-01   \n",
       "17               0.292619                231      5.306136e-06   \n",
       "13               0.579381                217      1.408097e-06   \n",
       "40               0.304201                299      7.686390e-01   \n",
       "44               0.244892                275      8.712651e-03   \n",
       "42               0.126280                433      2.741555e-05   \n",
       "9                0.133034                328      1.057458e-02   \n",
       "5                0.404205                470      4.956200e-03   \n",
       "43               0.110520                335      1.184483e-07   \n",
       "46               0.806865                240      3.105320e-01   \n",
       "39               0.645061                346      3.674392e-02   \n",
       "41               0.016776                375      1.430346e-04   \n",
       "37               0.191572                409      3.029115e-08   \n",
       "8                0.935686                446      1.080290e-02   \n",
       "\n",
       "    params_reg_lambda  params_subsample     state  \n",
       "3        1.437058e-06          0.699740  COMPLETE  \n",
       "16       3.037763e-07          0.691041  COMPLETE  \n",
       "6        4.596502e-06          0.769576  COMPLETE  \n",
       "28       1.908976e-05          0.776353  COMPLETE  \n",
       "2        6.170344e-03          0.697801  COMPLETE  \n",
       "23       7.414473e-06          0.734897  COMPLETE  \n",
       "26       4.884874e-08          0.737739  COMPLETE  \n",
       "31       2.334629e-05          0.781634    PRUNED  \n",
       "1        3.059195e-01          0.982106  COMPLETE  \n",
       "38       2.420219e-02          0.622010    PRUNED  \n",
       "11       4.105571e-06          0.733924    PRUNED  \n",
       "4        1.224379e-07          0.906789  COMPLETE  \n",
       "0        1.941049e-08          0.823361  COMPLETE  \n",
       "29       1.992459e-08          0.816036    PRUNED  \n",
       "48       4.364269e-02          0.697231    PRUNED  \n",
       "36       8.025557e-08          0.711456    PRUNED  \n",
       "18       2.208732e-08          0.554092    PRUNED  \n",
       "33       1.036625e-05          0.835906    PRUNED  \n",
       "24       6.492503e-07          0.660774    PRUNED  \n",
       "20       1.542449e-03          0.702541    PRUNED  \n",
       "49       3.569840e-04          0.607030    PRUNED  \n",
       "30       2.635847e-06          0.707912    PRUNED  \n",
       "35       3.488456e-04          0.926697    PRUNED  \n",
       "32       1.092991e-06          0.672258    PRUNED  \n",
       "21       2.609757e-06          0.780489    PRUNED  \n",
       "15       9.635001e-06          0.765984    PRUNED  \n",
       "25       2.318300e-04          0.866214    PRUNED  \n",
       "22       4.367566e-05          0.838952    PRUNED  \n",
       "12       8.009959e-07          0.651605    PRUNED  \n",
       "34       8.693430e-02          0.754036    PRUNED  \n",
       "27       3.362339e-07          0.592627    PRUNED  \n",
       "10       9.273387e-04          0.508400    PRUNED  \n",
       "47       1.696503e-06          0.734667    PRUNED  \n",
       "7        1.047273e-07          0.986724    PRUNED  \n",
       "45       1.384701e-05          0.810539    PRUNED  \n",
       "19       1.830653e-07          0.645485    PRUNED  \n",
       "14       1.424175e-04          0.582638    PRUNED  \n",
       "17       4.568972e-07          0.688111    PRUNED  \n",
       "13       1.616081e-06          0.802296    PRUNED  \n",
       "40       3.411031e-07          0.721045    PRUNED  \n",
       "44       4.335072e-03          0.679191    PRUNED  \n",
       "42       5.217406e-06          0.756410    PRUNED  \n",
       "9        6.492288e-05          0.886346    PRUNED  \n",
       "5        1.887451e-01          0.960681    PRUNED  \n",
       "43       9.829027e-05          0.631786    PRUNED  \n",
       "46       1.680528e-07          0.775544    PRUNED  \n",
       "39       3.619591e-05          0.858539    PRUNED  \n",
       "41       6.208068e-03          0.686502    PRUNED  \n",
       "37       8.779194e-01          0.791955    PRUNED  \n",
       "8        1.904187e-05          0.617130    PRUNED  "
      ]
     },
     "execution_count": 23,
     "metadata": {},
     "output_type": "execute_result"
    }
   ],
   "source": [
    "study.trials_dataframe().sort_values(by='value')"
   ]
  },
  {
   "cell_type": "code",
   "execution_count": 28,
   "metadata": {},
   "outputs": [
    {
     "name": "stderr",
     "output_type": "stream",
     "text": [
      "[I 2025-02-04 06:39:57,522] A new study created in memory with name: no-name-8779507c-c261-46cc-990e-13fb4a513a66\n",
      "[I 2025-02-04 06:45:00,895] Trial 0 finished with value: 38.883937593360734 and parameters: {'num_leaves': 597, 'max_depth': 7, 'learning_rate': 0.000364113256801268, 'n_estimators': 3158, 'min_child_samples': 103, 'subsample': 0.6115069297497427, 'colsample_bytree': 0.821486379484551, 'max_bin': 635, 'reg_alpha': 0.6733018374807459, 'reg_lambda': 2.2533816042611835e-08, 'min_split_gain': 0.2289803907588847}. Best is trial 0 with value: 38.883937593360734.\n",
      "[I 2025-02-04 06:47:14,772] Trial 1 finished with value: 38.86480244436043 and parameters: {'num_leaves': 906, 'max_depth': 7, 'learning_rate': 0.00840845676199378, 'n_estimators': 3956, 'min_child_samples': 58, 'subsample': 0.7497712653298377, 'colsample_bytree': 0.3357351243363299, 'max_bin': 75, 'reg_alpha': 0.03758166053679331, 'reg_lambda': 1.685842589203576e-08, 'min_split_gain': 0.3951629800119736}. Best is trial 1 with value: 38.86480244436043.\n",
      "[I 2025-02-04 06:47:27,924] Trial 2 finished with value: 38.85405944896489 and parameters: {'num_leaves': 282, 'max_depth': 19, 'learning_rate': 0.13774764252336807, 'n_estimators': 1377, 'min_child_samples': 121, 'subsample': 0.577901301915086, 'colsample_bytree': 0.30085220896752746, 'max_bin': 816, 'reg_alpha': 0.2583285275683732, 'reg_lambda': 5.5915449659022935e-06, 'min_split_gain': 0.36987960048280843}. Best is trial 2 with value: 38.85405944896489.\n",
      "[I 2025-02-04 06:47:51,062] Trial 3 finished with value: 38.907564092894624 and parameters: {'num_leaves': 954, 'max_depth': 2, 'learning_rate': 0.0003871827020767391, 'n_estimators': 1177, 'min_child_samples': 84, 'subsample': 0.9621109896969607, 'colsample_bytree': 0.4811276284749033, 'max_bin': 561, 'reg_alpha': 7.370320350553177e-08, 'reg_lambda': 6.907912755195914, 'min_split_gain': 0.4337643150070087}. Best is trial 2 with value: 38.85405944896489.\n",
      "[I 2025-02-04 06:48:31,900] Trial 4 finished with value: 38.863883317475754 and parameters: {'num_leaves': 959, 'max_depth': 20, 'learning_rate': 0.027656509117474217, 'n_estimators': 2975, 'min_child_samples': 65, 'subsample': 0.9825863473170893, 'colsample_bytree': 0.554783151798501, 'max_bin': 552, 'reg_alpha': 0.04429201525526554, 'reg_lambda': 5.435612153883494, 'min_split_gain': 0.14810905498279656}. Best is trial 2 with value: 38.85405944896489.\n",
      "[I 2025-02-04 06:49:05,934] Trial 5 finished with value: 38.88468533560858 and parameters: {'num_leaves': 713, 'max_depth': 5, 'learning_rate': 0.0034960364838707847, 'n_estimators': 675, 'min_child_samples': 141, 'subsample': 0.9355481171772893, 'colsample_bytree': 0.3283383558016047, 'max_bin': 265, 'reg_alpha': 0.3128181607623785, 'reg_lambda': 1.0826199073548044e-07, 'min_split_gain': 0.8000102605537041}. Best is trial 2 with value: 38.85405944896489.\n",
      "[I 2025-02-04 07:00:55,544] Trial 6 finished with value: 38.873475010742325 and parameters: {'num_leaves': 857, 'max_depth': 12, 'learning_rate': 0.0007543323180313281, 'n_estimators': 4029, 'min_child_samples': 193, 'subsample': 0.4320102750210547, 'colsample_bytree': 0.8065115203134764, 'max_bin': 155, 'reg_alpha': 8.882847726936951, 'reg_lambda': 0.24343706009619956, 'min_split_gain': 0.11774187774369126}. Best is trial 2 with value: 38.85405944896489.\n",
      "[I 2025-02-04 07:01:47,753] Trial 7 finished with value: 38.89720819466408 and parameters: {'num_leaves': 442, 'max_depth': 1, 'learning_rate': 0.0007888671288677653, 'n_estimators': 3928, 'min_child_samples': 24, 'subsample': 0.7657980705458293, 'colsample_bytree': 0.8559191388061113, 'max_bin': 682, 'reg_alpha': 4.5797073939884436e-07, 'reg_lambda': 0.06020851666125252, 'min_split_gain': 0.6546835110431768}. Best is trial 2 with value: 38.85405944896489.\n",
      "[I 2025-02-04 07:03:44,979] Trial 8 finished with value: 38.9033231572749 and parameters: {'num_leaves': 205, 'max_depth': 14, 'learning_rate': 0.00020026856378491998, 'n_estimators': 1045, 'min_child_samples': 120, 'subsample': 0.635022086974392, 'colsample_bytree': 0.9577659561752558, 'max_bin': 633, 'reg_alpha': 2.5432754722513975, 'reg_lambda': 0.0006173707904226916, 'min_split_gain': 0.19242693337133013}. Best is trial 2 with value: 38.85405944896489.\n",
      "[I 2025-02-04 07:04:27,726] Trial 9 finished with value: 38.863314782027366 and parameters: {'num_leaves': 485, 'max_depth': 4, 'learning_rate': 0.03280297847927299, 'n_estimators': 3516, 'min_child_samples': 48, 'subsample': 0.7209093091674333, 'colsample_bytree': 0.4502303665298211, 'max_bin': 317, 'reg_alpha': 0.0006998288662258225, 'reg_lambda': 0.258923264644903, 'min_split_gain': 0.8533412546974798}. Best is trial 2 with value: 38.85405944896489.\n",
      "[I 2025-02-04 07:04:32,635] Trial 10 finished with value: 38.857733430533756 and parameters: {'num_leaves': 213, 'max_depth': 20, 'learning_rate': 0.4046062482889641, 'n_estimators': 1905, 'min_child_samples': 163, 'subsample': 0.3575404468012937, 'colsample_bytree': 0.2545330709355033, 'max_bin': 983, 'reg_alpha': 3.609154831674731e-05, 'reg_lambda': 4.596494591090907e-06, 'min_split_gain': 0.5776836107485687}. Best is trial 2 with value: 38.85405944896489.\n",
      "[I 2025-02-04 07:04:37,550] Trial 11 finished with value: 38.85773224371892 and parameters: {'num_leaves': 242, 'max_depth': 20, 'learning_rate': 0.4148942169147064, 'n_estimators': 1807, 'min_child_samples': 160, 'subsample': 0.26919456838835454, 'colsample_bytree': 0.28090248239441545, 'max_bin': 983, 'reg_alpha': 1.875803349962653e-05, 'reg_lambda': 5.1105564979587726e-06, 'min_split_gain': 0.6372069453089737}. Best is trial 2 with value: 38.85405944896489.\n",
      "[I 2025-02-04 07:04:42,105] Trial 12 finished with value: 38.872032810993815 and parameters: {'num_leaves': 364, 'max_depth': 16, 'learning_rate': 0.3005021720078645, 'n_estimators': 1963, 'min_child_samples': 162, 'subsample': 0.2628229650970249, 'colsample_bytree': 0.6598732829813104, 'max_bin': 1000, 'reg_alpha': 3.227493398740388e-05, 'reg_lambda': 1.9907103456431208e-05, 'min_split_gain': 0.9998627866301231}. Best is trial 2 with value: 38.85405944896489.\n",
      "[I 2025-02-04 07:04:54,468] Trial 13 finished with value: 38.85719787449031 and parameters: {'num_leaves': 325, 'max_depth': 17, 'learning_rate': 0.10158450180685535, 'n_estimators': 4904, 'min_child_samples': 135, 'subsample': 0.4888143552864036, 'colsample_bytree': 0.38105100124977254, 'max_bin': 812, 'reg_alpha': 0.0015011315392470259, 'reg_lambda': 2.2699995017339113e-06, 'min_split_gain': 0.43042481740592087}. Best is trial 2 with value: 38.85405944896489.\n",
      "[I 2025-02-04 07:05:07,200] Trial 14 finished with value: 38.85964648226892 and parameters: {'num_leaves': 339, 'max_depth': 16, 'learning_rate': 0.0928621897525083, 'n_estimators': 4627, 'min_child_samples': 121, 'subsample': 0.4935353237890085, 'colsample_bytree': 0.4684416090288716, 'max_bin': 811, 'reg_alpha': 0.002897461693236403, 'reg_lambda': 0.0006264277044458964, 'min_split_gain': 0.34885388837235504}. Best is trial 2 with value: 38.85405944896489.\n",
      "[I 2025-02-04 07:05:22,078] Trial 15 finished with value: 38.85880550150891 and parameters: {'num_leaves': 515, 'max_depth': 17, 'learning_rate': 0.09373953337298387, 'n_estimators': 249, 'min_child_samples': 195, 'subsample': 0.534398403911887, 'colsample_bytree': 0.3967482191207407, 'max_bin': 813, 'reg_alpha': 0.008109209111901347, 'reg_lambda': 5.340468923657175e-07, 'min_split_gain': 0.4758415199379925}. Best is trial 2 with value: 38.85405944896489.\n",
      "[I 2025-02-04 07:05:30,836] Trial 16 finished with value: 38.86179243585272 and parameters: {'num_leaves': 324, 'max_depth': 12, 'learning_rate': 0.10782969275571355, 'n_estimators': 4796, 'min_child_samples': 96, 'subsample': 0.5857105453877726, 'colsample_bytree': 0.6478294309177034, 'max_bin': 819, 'reg_alpha': 0.1030579849753238, 'reg_lambda': 7.592123913273989e-05, 'min_split_gain': 0.28038691716153874}. Best is trial 2 with value: 38.85405944896489.\n",
      "[I 2025-02-04 07:07:04,724] Trial 17 finished with value: 38.8599459240798 and parameters: {'num_leaves': 710, 'max_depth': 18, 'learning_rate': 0.010564931889298843, 'n_estimators': 2526, 'min_child_samples': 134, 'subsample': 0.41171212301383914, 'colsample_bytree': 0.5755700027347288, 'max_bin': 865, 'reg_alpha': 0.00036885667027483773, 'reg_lambda': 7.388417933318846e-07, 'min_split_gain': 0.509254947617097}. Best is trial 2 with value: 38.85405944896489.\n",
      "[I 2025-02-04 07:07:28,682] Trial 18 finished with value: 38.859474668386866 and parameters: {'num_leaves': 388, 'max_depth': 14, 'learning_rate': 0.03942235213745415, 'n_estimators': 1287, 'min_child_samples': 146, 'subsample': 0.6787291821414461, 'colsample_bytree': 0.39532326182563027, 'max_bin': 452, 'reg_alpha': 0.0042493255239220975, 'reg_lambda': 0.006339481501269037, 'min_split_gain': 0.33365566215553843}. Best is trial 2 with value: 38.85405944896489.\n",
      "[I 2025-02-04 07:07:35,014] Trial 19 finished with value: 38.864773635817684 and parameters: {'num_leaves': 276, 'max_depth': 10, 'learning_rate': 0.17059663390890237, 'n_estimators': 2534, 'min_child_samples': 107, 'subsample': 0.5042349273475019, 'colsample_bytree': 0.7268065279844449, 'max_bin': 724, 'reg_alpha': 0.014827109485460734, 'reg_lambda': 6.565151871942077e-05, 'min_split_gain': 0.7277245374578855}. Best is trial 2 with value: 38.85405944896489.\n",
      "[I 2025-02-04 07:08:11,888] Trial 20 finished with value: 38.89225970757463 and parameters: {'num_leaves': 533, 'max_depth': 14, 'learning_rate': 0.002302117962610818, 'n_estimators': 309, 'min_child_samples': 79, 'subsample': 0.7986079279115756, 'colsample_bytree': 0.3701041330053353, 'max_bin': 401, 'reg_alpha': 7.773945579199261e-07, 'reg_lambda': 2.7584825306963224e-07, 'min_split_gain': 0.558267008295412}. Best is trial 2 with value: 38.85405944896489.\n",
      "[I 2025-02-04 07:08:18,221] Trial 21 finished with value: 38.855642200179695 and parameters: {'num_leaves': 275, 'max_depth': 19, 'learning_rate': 0.26550188868621116, 'n_estimators': 1846, 'min_child_samples': 169, 'subsample': 0.2551587271012244, 'colsample_bytree': 0.2546634562597139, 'max_bin': 913, 'reg_alpha': 3.5826708743906864e-05, 'reg_lambda': 5.046285930762158e-06, 'min_split_gain': 0.6421118110968362}. Best is trial 2 with value: 38.85405944896489.\n",
      "[I 2025-02-04 07:08:25,730] Trial 22 finished with value: 38.85578226198216 and parameters: {'num_leaves': 422, 'max_depth': 18, 'learning_rate': 0.19605331263025466, 'n_estimators': 1614, 'min_child_samples': 177, 'subsample': 0.32470749541312477, 'colsample_bytree': 0.25073633017229513, 'max_bin': 896, 'reg_alpha': 2.59854469851781e-06, 'reg_lambda': 4.273022300695744e-06, 'min_split_gain': 0.3937918938641459}. Best is trial 2 with value: 38.85405944896489.\n",
      "[I 2025-02-04 07:08:33,218] Trial 23 finished with value: 38.856215396689464 and parameters: {'num_leaves': 450, 'max_depth': 18, 'learning_rate': 0.20308620644559447, 'n_estimators': 1656, 'min_child_samples': 181, 'subsample': 0.3101295436523508, 'colsample_bytree': 0.2716211393910203, 'max_bin': 908, 'reg_alpha': 3.823481627960494e-06, 'reg_lambda': 1.9955787354353757e-05, 'min_split_gain': 0.26404400127917105}. Best is trial 2 with value: 38.85405944896489.\n",
      "[I 2025-02-04 07:08:58,745] Trial 24 finished with value: 38.85117046558663 and parameters: {'num_leaves': 413, 'max_depth': 19, 'learning_rate': 0.0472569650509465, 'n_estimators': 2282, 'min_child_samples': 174, 'subsample': 0.36127400618201433, 'colsample_bytree': 0.31534295746688484, 'max_bin': 906, 'reg_alpha': 1.7253044249301857e-08, 'reg_lambda': 0.00018082874635077508, 'min_split_gain': 0.6269183341467058}. Best is trial 24 with value: 38.85117046558663.\n",
      "[I 2025-02-04 07:10:21,102] Trial 25 finished with value: 38.84973930289367 and parameters: {'num_leaves': 264, 'max_depth': 20, 'learning_rate': 0.0177018830202963, 'n_estimators': 2133, 'min_child_samples': 179, 'subsample': 0.39506263264994246, 'colsample_bytree': 0.31670296718886815, 'max_bin': 753, 'reg_alpha': 2.691829946485223e-08, 'reg_lambda': 0.0014731725628640564, 'min_split_gain': 0.7005705784197576}. Best is trial 25 with value: 38.84973930289367.\n",
      "[I 2025-02-04 07:11:11,512] Trial 26 finished with value: 38.8560922206065 and parameters: {'num_leaves': 280, 'max_depth': 15, 'learning_rate': 0.01954477920131412, 'n_estimators': 2364, 'min_child_samples': 200, 'subsample': 0.3908464979074851, 'colsample_bytree': 0.5390514478199475, 'max_bin': 764, 'reg_alpha': 2.8302213334018565e-08, 'reg_lambda': 0.0032838833863556775, 'min_split_gain': 0.7508781412598372}. Best is trial 25 with value: 38.84973930289367.\n",
      "[I 2025-02-04 07:11:32,874] Trial 27 finished with value: 38.85417551937253 and parameters: {'num_leaves': 583, 'max_depth': 19, 'learning_rate': 0.049799321432030044, 'n_estimators': 2268, 'min_child_samples': 150, 'subsample': 0.8762840031248806, 'colsample_bytree': 0.3232117372746624, 'max_bin': 705, 'reg_alpha': 1.0928032453832376e-07, 'reg_lambda': 0.015238010049750858, 'min_split_gain': 0.8725542329655319}. Best is trial 25 with value: 38.84973930289367.\n",
      "[I 2025-02-04 07:12:37,386] Trial 28 finished with value: 38.85936696132049 and parameters: {'num_leaves': 401, 'max_depth': 10, 'learning_rate': 0.014641846403642614, 'n_estimators': 2988, 'min_child_samples': 186, 'subsample': 0.4318774807595099, 'colsample_bytree': 0.4926916213352539, 'max_bin': 640, 'reg_alpha': 1.226481702689775e-08, 'reg_lambda': 0.00013491128801372247, 'min_split_gain': 0.7149976385013938}. Best is trial 25 with value: 38.84973930289367.\n",
      "[I 2025-02-04 07:14:35,992] Trial 29 finished with value: 38.86618294935765 and parameters: {'num_leaves': 647, 'max_depth': 12, 'learning_rate': 0.0037956824154289828, 'n_estimators': 916, 'min_child_samples': 123, 'subsample': 0.5943441300602802, 'colsample_bytree': 0.42025884435952593, 'max_bin': 489, 'reg_alpha': 2.563705131090914e-07, 'reg_lambda': 0.0014328150992486213, 'min_split_gain': 0.5141012689517771}. Best is trial 25 with value: 38.84973930289367.\n",
      "[I 2025-02-04 07:15:10,514] Trial 30 finished with value: 38.85311958328096 and parameters: {'num_leaves': 294, 'max_depth': 8, 'learning_rate': 0.04479841280392226, 'n_estimators': 1421, 'min_child_samples': 173, 'subsample': 0.5607839878642392, 'colsample_bytree': 0.33349747897525756, 'max_bin': 608, 'reg_alpha': 1.1549958373880913e-08, 'reg_lambda': 0.000220590833958177, 'min_split_gain': 0.6044336599296688}. Best is trial 25 with value: 38.84973930289367.\n",
      "[I 2025-02-04 07:15:51,507] Trial 31 finished with value: 38.85172484046728 and parameters: {'num_leaves': 302, 'max_depth': 7, 'learning_rate': 0.05499873993381554, 'n_estimators': 1430, 'min_child_samples': 175, 'subsample': 0.6535463850794723, 'colsample_bytree': 0.3144141578386292, 'max_bin': 634, 'reg_alpha': 1.0544616492860943e-08, 'reg_lambda': 0.0002462865797104042, 'min_split_gain': 0.6124723924305314}. Best is trial 25 with value: 38.84973930289367.\n",
      "[I 2025-02-04 07:16:23,834] Trial 32 finished with value: 38.85734928169452 and parameters: {'num_leaves': 333, 'max_depth': 7, 'learning_rate': 0.05288190026266384, 'n_estimators': 2172, 'min_child_samples': 177, 'subsample': 0.6508177560716091, 'colsample_bytree': 0.3568635475358922, 'max_bin': 615, 'reg_alpha': 1.4833893632663986e-08, 'reg_lambda': 0.00023513978221233227, 'min_split_gain': 0.5897985313181013}. Best is trial 25 with value: 38.84973930289367.\n",
      "[I 2025-02-04 07:20:07,018] Trial 33 finished with value: 38.851376423901755 and parameters: {'num_leaves': 253, 'max_depth': 9, 'learning_rate': 0.0063634190845918825, 'n_estimators': 2744, 'min_child_samples': 171, 'subsample': 0.5394875747365393, 'colsample_bytree': 0.3154978187242946, 'max_bin': 739, 'reg_alpha': 7.114583164601244e-08, 'reg_lambda': 0.00196713771220912, 'min_split_gain': 0.6649449308980934}. Best is trial 25 with value: 38.84973930289367.\n",
      "[I 2025-02-04 07:23:30,205] Trial 34 finished with value: 38.85351280923324 and parameters: {'num_leaves': 240, 'max_depth': 8, 'learning_rate': 0.005302068679656469, 'n_estimators': 2748, 'min_child_samples': 154, 'subsample': 0.4595414310410426, 'colsample_bytree': 0.31241205208903006, 'max_bin': 759, 'reg_alpha': 7.192504596020631e-08, 'reg_lambda': 0.01830890056730381, 'min_split_gain': 0.6895438389848871}. Best is trial 25 with value: 38.84973930289367.\n",
      "[I 2025-02-04 07:26:49,348] Trial 35 finished with value: 38.85626776768376 and parameters: {'num_leaves': 378, 'max_depth': 6, 'learning_rate': 0.007354725228323161, 'n_estimators': 3307, 'min_child_samples': 189, 'subsample': 0.3809368035996156, 'colsample_bytree': 0.42249495465114895, 'max_bin': 748, 'reg_alpha': 7.946875010289231e-08, 'reg_lambda': 0.002085120408941112, 'min_split_gain': 0.7779480542111097}. Best is trial 25 with value: 38.84973930289367.\n",
      "[I 2025-02-04 07:28:31,439] Trial 36 finished with value: 38.8557467918461 and parameters: {'num_leaves': 242, 'max_depth': 9, 'learning_rate': 0.011197751232483679, 'n_estimators': 2129, 'min_child_samples': 169, 'subsample': 0.34484137000343085, 'colsample_bytree': 0.5055771888068993, 'max_bin': 678, 'reg_alpha': 9.392936509539236e-07, 'reg_lambda': 3.1066945347942136e-05, 'min_split_gain': 0.8380825122044346}. Best is trial 25 with value: 38.84973930289367.\n",
      "[I 2025-02-04 07:30:26,793] Trial 37 finished with value: 38.85670807996798 and parameters: {'num_leaves': 476, 'max_depth': 5, 'learning_rate': 0.021122546414189588, 'n_estimators': 2783, 'min_child_samples': 185, 'subsample': 0.5505120002067071, 'colsample_bytree': 0.29734060419340413, 'max_bin': 556, 'reg_alpha': 3.15614291941974e-08, 'reg_lambda': 0.0009381236142075892, 'min_split_gain': 0.9175482388831108}. Best is trial 25 with value: 38.84973930289367.\n",
      "[I 2025-02-04 07:31:50,928] Trial 38 finished with value: 38.875720347201764 and parameters: {'num_leaves': 201, 'max_depth': 3, 'learning_rate': 0.0029612709454523802, 'n_estimators': 3517, 'min_child_samples': 140, 'subsample': 0.8211271085600899, 'colsample_bytree': 0.4378496927712822, 'max_bin': 864, 'reg_alpha': 2.3993499674075686e-07, 'reg_lambda': 0.06727080183720999, 'min_split_gain': 0.6807532732055095}. Best is trial 25 with value: 38.84973930289367.\n",
      "[I 2025-02-04 07:32:12,324] Trial 39 finished with value: 38.8556105192798 and parameters: {'num_leaves': 307, 'max_depth': 11, 'learning_rate': 0.0702840562312206, 'n_estimators': 674, 'min_child_samples': 155, 'subsample': 0.7010125474457765, 'colsample_bytree': 0.33480404482104975, 'max_bin': 509, 'reg_alpha': 3.0212849509458622e-06, 'reg_lambda': 0.005189218348568162, 'min_split_gain': 0.7942577854573905}. Best is trial 25 with value: 38.84973930289367.\n",
      "[I 2025-02-04 07:33:17,663] Trial 40 finished with value: 38.85875862247615 and parameters: {'num_leaves': 802, 'max_depth': 6, 'learning_rate': 0.02034254903153711, 'n_estimators': 2842, 'min_child_samples': 199, 'subsample': 0.6328678236160697, 'colsample_bytree': 0.5933069552341248, 'max_bin': 576, 'reg_alpha': 1.3679705678611372e-07, 'reg_lambda': 0.01281707310936733, 'min_split_gain': 0.5264986002345575}. Best is trial 25 with value: 38.84973930289367.\n",
      "[I 2025-02-04 07:35:00,613] Trial 41 finished with value: 38.876091869974054 and parameters: {'num_leaves': 359, 'max_depth': 8, 'learning_rate': 0.0017869221347421003, 'n_estimators': 1409, 'min_child_samples': 174, 'subsample': 0.5359496043173195, 'colsample_bytree': 0.34250942523202565, 'max_bin': 602, 'reg_alpha': 1.0743232385650531e-08, 'reg_lambda': 0.0002925965185538405, 'min_split_gain': 0.6113659849867212}. Best is trial 25 with value: 38.84973930289367.\n",
      "[I 2025-02-04 07:36:08,114] Trial 42 finished with value: 38.85068297223261 and parameters: {'num_leaves': 292, 'max_depth': 8, 'learning_rate': 0.027086848862831543, 'n_estimators': 1490, 'min_child_samples': 16, 'subsample': 0.44930049898351504, 'colsample_bytree': 0.3016405007023724, 'max_bin': 657, 'reg_alpha': 3.208074941921104e-08, 'reg_lambda': 0.000622122964780379, 'min_split_gain': 0.613109368911366}. Best is trial 25 with value: 38.84973930289367.\n",
      "[I 2025-02-04 07:37:00,568] Trial 43 finished with value: 38.851153403014706 and parameters: {'num_leaves': 244, 'max_depth': 9, 'learning_rate': 0.0279720553930931, 'n_estimators': 873, 'min_child_samples': 27, 'subsample': 0.43774440608307674, 'colsample_bytree': 0.295616171853162, 'max_bin': 669, 'reg_alpha': 4.242379978877415e-08, 'reg_lambda': 0.0004932192678252476, 'min_split_gain': 0.6708000361963733}. Best is trial 25 with value: 38.84973930289367.\n",
      "[I 2025-02-04 07:37:53,330] Trial 44 finished with value: 38.851720724479044 and parameters: {'num_leaves': 243, 'max_depth': 9, 'learning_rate': 0.027118932907804413, 'n_estimators': 745, 'min_child_samples': 31, 'subsample': 0.4478972763712904, 'colsample_bytree': 0.2904111507863542, 'max_bin': 674, 'reg_alpha': 3.1629118497005234e-08, 'reg_lambda': 0.05537048733487744, 'min_split_gain': 0.6809772612729894}. Best is trial 25 with value: 38.84973930289367.\n",
      "[I 2025-02-04 07:39:31,794] Trial 45 finished with value: 38.86087599021954 and parameters: {'num_leaves': 257, 'max_depth': 11, 'learning_rate': 0.00498488837846875, 'n_estimators': 1112, 'min_child_samples': 5, 'subsample': 0.3005596274297737, 'colsample_bytree': 0.9926580590055643, 'max_bin': 945, 'reg_alpha': 4.497899544124857e-08, 'reg_lambda': 0.0009020565696325493, 'min_split_gain': 0.7465636010379305}. Best is trial 25 with value: 38.84973930289367.\n",
      "[I 2025-02-04 07:40:37,563] Trial 46 finished with value: 38.86416072841209 and parameters: {'num_leaves': 221, 'max_depth': 13, 'learning_rate': 0.013198254964150561, 'n_estimators': 3198, 'min_child_samples': 12, 'subsample': 0.4687177840519526, 'colsample_bytree': 0.3667609021000078, 'max_bin': 94, 'reg_alpha': 4.313598809320804e-07, 'reg_lambda': 1.273441245014645, 'min_split_gain': 0.6627183351014676}. Best is trial 25 with value: 38.84973930289367.\n",
      "[I 2025-02-04 07:44:59,411] Trial 47 finished with value: 38.86813845039234 and parameters: {'num_leaves': 414, 'max_depth': 9, 'learning_rate': 0.0014251003227638522, 'n_estimators': 2075, 'min_child_samples': 45, 'subsample': 0.36943927589790027, 'colsample_bytree': 0.8556380649007841, 'max_bin': 764, 'reg_alpha': 8.162059595044893e-06, 'reg_lambda': 5.708650472890967e-05, 'min_split_gain': 0.5664701487864399}. Best is trial 25 with value: 38.84973930289367.\n",
      "[I 2025-02-04 07:45:33,221] Trial 48 finished with value: 38.85848029653052 and parameters: {'num_leaves': 993, 'max_depth': 20, 'learning_rate': 0.029213807106991074, 'n_estimators': 1683, 'min_child_samples': 24, 'subsample': 0.4199754478458316, 'colsample_bytree': 0.38532455768047896, 'max_bin': 718, 'reg_alpha': 1.1922204638835676e-06, 'reg_lambda': 0.001998867790158775, 'min_split_gain': 0.452059268253217}. Best is trial 25 with value: 38.84973930289367.\n",
      "[I 2025-02-04 07:45:37,801] Trial 49 finished with value: 38.90556576748703 and parameters: {'num_leaves': 355, 'max_depth': 6, 'learning_rate': 0.008407236582567484, 'n_estimators': 55, 'min_child_samples': 55, 'subsample': 0.5211193795733708, 'colsample_bytree': 0.2865390176473873, 'max_bin': 790, 'reg_alpha': 1.9380785643911654e-07, 'reg_lambda': 0.00045507834234956247, 'min_split_gain': 0.7001997332643218}. Best is trial 25 with value: 38.84973930289367.\n",
      "[I 2025-02-04 07:46:31,660] Trial 50 finished with value: 38.857521767265716 and parameters: {'num_leaves': 317, 'max_depth': 10, 'learning_rate': 0.017687096750449383, 'n_estimators': 2581, 'min_child_samples': 72, 'subsample': 0.39798696504607783, 'colsample_bytree': 0.7440462385732289, 'max_bin': 851, 'reg_alpha': 0.0001486638166976926, 'reg_lambda': 0.027846614536538843, 'min_split_gain': 0.6403302409022775}. Best is trial 25 with value: 38.84973930289367.\n",
      "[I 2025-02-04 07:47:28,367] Trial 51 finished with value: 38.85161036368012 and parameters: {'num_leaves': 239, 'max_depth': 9, 'learning_rate': 0.026392727444774892, 'n_estimators': 803, 'min_child_samples': 37, 'subsample': 0.45835808972974695, 'colsample_bytree': 0.298563077284429, 'max_bin': 687, 'reg_alpha': 4.251677101726214e-08, 'reg_lambda': 0.23837999550512914, 'min_split_gain': 0.7698184896547422}. Best is trial 25 with value: 38.84973930289367.\n",
      "[I 2025-02-04 07:48:03,715] Trial 52 finished with value: 38.851496625594805 and parameters: {'num_leaves': 211, 'max_depth': 9, 'learning_rate': 0.03282528129821192, 'n_estimators': 506, 'min_child_samples': 42, 'subsample': 0.4781310712293721, 'colsample_bytree': 0.2884806593920775, 'max_bin': 658, 'reg_alpha': 4.595526983640236e-08, 'reg_lambda': 0.4446561353287368, 'min_split_gain': 0.836093114740823}. Best is trial 25 with value: 38.84973930289367.\n",
      "[I 2025-02-04 07:48:49,456] Trial 53 finished with value: 38.86272633144417 and parameters: {'num_leaves': 206, 'max_depth': 8, 'learning_rate': 0.009905238610777347, 'n_estimators': 565, 'min_child_samples': 18, 'subsample': 0.4844466439710144, 'colsample_bytree': 0.3566118780359019, 'max_bin': 665, 'reg_alpha': 7.528830846038199e-08, 'reg_lambda': 4.981552146932622, 'min_split_gain': 0.9393188517828166}. Best is trial 25 with value: 38.84973930289367.\n",
      "[I 2025-02-04 07:49:05,516] Trial 54 finished with value: 38.856644417001874 and parameters: {'num_leaves': 279, 'max_depth': 11, 'learning_rate': 0.07836203979385632, 'n_estimators': 530, 'min_child_samples': 60, 'subsample': 0.33514509803332093, 'colsample_bytree': 0.2751152764857089, 'max_bin': 528, 'reg_alpha': 3.6493464066931974e-07, 'reg_lambda': 0.004537607269724696, 'min_split_gain': 0.8405994669695392}. Best is trial 25 with value: 38.84973930289367.\n",
      "[I 2025-02-04 07:50:42,173] Trial 55 finished with value: 38.91133516313664 and parameters: {'num_leaves': 260, 'max_depth': 13, 'learning_rate': 0.00011488408167946202, 'n_estimators': 975, 'min_child_samples': 36, 'subsample': 0.4236984212787171, 'colsample_bytree': 0.41165566485987803, 'max_bin': 732, 'reg_alpha': 2.0071389317397056e-08, 'reg_lambda': 0.6493518208610584, 'min_split_gain': 0.5400920828900398}. Best is trial 25 with value: 38.84973930289367.\n",
      "[I 2025-02-04 07:51:14,919] Trial 56 finished with value: 38.8504167192244 and parameters: {'num_leaves': 338, 'max_depth': 19, 'learning_rate': 0.036518652198726416, 'n_estimators': 1233, 'min_child_samples': 25, 'subsample': 0.5050060692839955, 'colsample_bytree': 0.25107172035475245, 'max_bin': 789, 'reg_alpha': 5.495642838053064e-08, 'reg_lambda': 0.00010936526050994747, 'min_split_gain': 0.8126601520306169}. Best is trial 25 with value: 38.84973930289367.\n",
      "[I 2025-02-04 07:51:27,037] Trial 57 finished with value: 38.853062968480494 and parameters: {'num_leaves': 343, 'max_depth': 19, 'learning_rate': 0.12320728869305667, 'n_estimators': 1167, 'min_child_samples': 24, 'subsample': 0.2820989493846232, 'colsample_bytree': 0.25206217862145225, 'max_bin': 953, 'reg_alpha': 1.3465175923439885e-07, 'reg_lambda': 9.542887320220986e-06, 'min_split_gain': 0.8020095801421034}. Best is trial 25 with value: 38.84973930289367.\n",
      "[I 2025-02-04 07:54:35,259] Trial 58 finished with value: 38.85190026973167 and parameters: {'num_leaves': 439, 'max_depth': 17, 'learning_rate': 0.0061018919175361425, 'n_estimators': 1864, 'min_child_samples': 10, 'subsample': 0.5153993982072195, 'colsample_bytree': 0.4662537778526708, 'max_bin': 788, 'reg_alpha': 5.932315515567327e-07, 'reg_lambda': 0.00012924539999756217, 'min_split_gain': 0.7395997564733724}. Best is trial 25 with value: 38.84973930289367.\n",
      "[I 2025-02-04 07:54:53,342] Trial 59 finished with value: 38.85105681599929 and parameters: {'num_leaves': 378, 'max_depth': 20, 'learning_rate': 0.07049635285719984, 'n_estimators': 2379, 'min_child_samples': 53, 'subsample': 0.6081800233227684, 'colsample_bytree': 0.3482892467486358, 'max_bin': 840, 'reg_alpha': 1.0766400143491894, 'reg_lambda': 4.1968455213912316e-05, 'min_split_gain': 0.6578756954755632}. Best is trial 25 with value: 38.84973930289367.\n",
      "[I 2025-02-04 07:56:00,886] Trial 60 finished with value: 38.854853113139725 and parameters: {'num_leaves': 382, 'max_depth': 19, 'learning_rate': 0.015384165515349043, 'n_estimators': 2383, 'min_child_samples': 54, 'subsample': 0.35740528276966355, 'colsample_bytree': 0.3879926769124088, 'max_bin': 854, 'reg_alpha': 0.5930715840268828, 'reg_lambda': 2.964207666290665e-05, 'min_split_gain': 0.4808083364904385}. Best is trial 25 with value: 38.84973930289367.\n",
      "[I 2025-02-04 07:56:21,813] Trial 61 finished with value: 38.852439784732255 and parameters: {'num_leaves': 307, 'max_depth': 20, 'learning_rate': 0.06881224232079958, 'n_estimators': 2004, 'min_child_samples': 90, 'subsample': 0.5913408996754984, 'colsample_bytree': 0.3181606725989134, 'max_bin': 821, 'reg_alpha': 8.7371987078412, 'reg_lambda': 1.5464781280982196e-08, 'min_split_gain': 0.6493361810057771}. Best is trial 25 with value: 38.84973930289367.\n",
      "[I 2025-02-04 07:57:04,213] Trial 62 finished with value: 38.84887469268828 and parameters: {'num_leaves': 335, 'max_depth': 18, 'learning_rate': 0.03846199175090545, 'n_estimators': 1636, 'min_child_samples': 31, 'subsample': 0.5616173073712802, 'colsample_bytree': 0.3458102079593741, 'max_bin': 886, 'reg_alpha': 2.4495866469475198e-08, 'reg_lambda': 0.0005139417985879259, 'min_split_gain': 0.7160161026645608}. Best is trial 62 with value: 38.84887469268828.\n",
      "[I 2025-02-04 07:57:27,039] Trial 63 finished with value: 38.853985962995885 and parameters: {'num_leaves': 480, 'max_depth': 18, 'learning_rate': 0.04525554508267626, 'n_estimators': 1583, 'min_child_samples': 28, 'subsample': 0.6029779418986403, 'colsample_bytree': 0.35094964678084395, 'max_bin': 895, 'reg_alpha': 0.1954478212324086, 'reg_lambda': 0.0001218999127324907, 'min_split_gain': 0.7173305242379315}. Best is trial 62 with value: 38.84887469268828.\n",
      "[I 2025-02-04 07:57:55,185] Trial 64 finished with value: 38.85055017022307 and parameters: {'num_leaves': 550, 'max_depth': 20, 'learning_rate': 0.037550470256457504, 'n_estimators': 1292, 'min_child_samples': 17, 'subsample': 0.5693256579156676, 'colsample_bytree': 0.2675850496745469, 'max_bin': 937, 'reg_alpha': 0.050623367029840584, 'reg_lambda': 0.000531393975274063, 'min_split_gain': 0.6294594292922974}. Best is trial 62 with value: 38.84887469268828.\n",
      "[I 2025-02-04 07:58:24,631] Trial 65 finished with value: 38.85039103436002 and parameters: {'num_leaves': 594, 'max_depth': 20, 'learning_rate': 0.03733160995972275, 'n_estimators': 1532, 'min_child_samples': 18, 'subsample': 0.5710534532497786, 'colsample_bytree': 0.27022736431739636, 'max_bin': 958, 'reg_alpha': 2.1316879458227636, 'reg_lambda': 5.079093043304077e-05, 'min_split_gain': 0.5735635031452628}. Best is trial 62 with value: 38.84887469268828.\n",
      "[I 2025-02-04 07:58:33,852] Trial 66 finished with value: 38.85508162046907 and parameters: {'num_leaves': 588, 'max_depth': 20, 'learning_rate': 0.1531750009567022, 'n_estimators': 1327, 'min_child_samples': 17, 'subsample': 0.6093341052462721, 'colsample_bytree': 0.2611637840340672, 'max_bin': 941, 'reg_alpha': 1.5999249900354544, 'reg_lambda': 1.2069391419709498e-05, 'min_split_gain': 0.5888154170294091}. Best is trial 62 with value: 38.84887469268828.\n",
      "[I 2025-02-04 07:59:08,444] Trial 67 finished with value: 38.85167077537086 and parameters: {'num_leaves': 647, 'max_depth': 17, 'learning_rate': 0.0337002283828907, 'n_estimators': 1768, 'min_child_samples': 17, 'subsample': 0.5687515369645127, 'colsample_bytree': 0.2741445719035858, 'max_bin': 977, 'reg_alpha': 2.6054372995172357, 'reg_lambda': 7.084177912337733e-05, 'min_split_gain': 0.5541898814507495}. Best is trial 62 with value: 38.84887469268828.\n",
      "[I 2025-02-04 07:59:29,841] Trial 68 finished with value: 38.85310855424642 and parameters: {'num_leaves': 551, 'max_depth': 18, 'learning_rate': 0.06383974910135844, 'n_estimators': 1573, 'min_child_samples': 34, 'subsample': 0.6756415820303229, 'colsample_bytree': 0.342060352072037, 'max_bin': 835, 'reg_alpha': 0.04304257134048185, 'reg_lambda': 1.4305254014396374e-06, 'min_split_gain': 0.48995098765466666}. Best is trial 62 with value: 38.84887469268828.\n",
      "[I 2025-02-04 07:59:45,148] Trial 69 finished with value: 38.8571728881062 and parameters: {'num_leaves': 638, 'max_depth': 16, 'learning_rate': 0.09099413169074227, 'n_estimators': 1207, 'min_child_samples': 49, 'subsample': 0.5711328365004406, 'colsample_bytree': 0.25089319899587914, 'max_bin': 877, 'reg_alpha': 0.12221713421574669, 'reg_lambda': 5.2927045679213765e-05, 'min_split_gain': 0.8751210140465453}. Best is trial 62 with value: 38.84887469268828.\n",
      "[I 2025-02-04 08:00:13,068] Trial 70 finished with value: 38.85666748485418 and parameters: {'num_leaves': 764, 'max_depth': 20, 'learning_rate': 0.0405137588632637, 'n_estimators': 1915, 'min_child_samples': 20, 'subsample': 0.5064075770905316, 'colsample_bytree': 0.3704505555489055, 'max_bin': 929, 'reg_alpha': 0.7051034103084444, 'reg_lambda': 0.0008770449730595105, 'min_split_gain': 0.7063766337462977}. Best is trial 62 with value: 38.84887469268828.\n",
      "[I 2025-02-04 08:01:09,028] Trial 71 finished with value: 38.85362374616986 and parameters: {'num_leaves': 692, 'max_depth': 19, 'learning_rate': 0.023011621532730862, 'n_estimators': 1473, 'min_child_samples': 12, 'subsample': 0.4370603691479234, 'colsample_bytree': 0.2795262599568525, 'max_bin': 798, 'reg_alpha': 4.420416199045581, 'reg_lambda': 0.0005564224564039112, 'min_split_gain': 0.6188641221438506}. Best is trial 62 with value: 38.84887469268828.\n",
      "[I 2025-02-04 08:01:43,368] Trial 72 finished with value: 38.850581072544436 and parameters: {'num_leaves': 513, 'max_depth': 20, 'learning_rate': 0.03532865545758404, 'n_estimators': 904, 'min_child_samples': 6, 'subsample': 0.6235846191063935, 'colsample_bytree': 0.30112273850478394, 'max_bin': 998, 'reg_alpha': 1.4807084293388164, 'reg_lambda': 0.00043163863880213747, 'min_split_gain': 0.5841121248615916}. Best is trial 62 with value: 38.84887469268828.\n",
      "[I 2025-02-04 08:02:17,297] Trial 73 finished with value: 38.85017096532078 and parameters: {'num_leaves': 506, 'max_depth': 20, 'learning_rate': 0.03744997627852257, 'n_estimators': 1266, 'min_child_samples': 5, 'subsample': 0.6323503073100694, 'colsample_bytree': 0.32588549959390833, 'max_bin': 999, 'reg_alpha': 0.023697806920039217, 'reg_lambda': 0.00011619396121709557, 'min_split_gain': 0.5742350520118298}. Best is trial 62 with value: 38.84887469268828.\n",
      "[I 2025-02-04 08:02:50,013] Trial 74 finished with value: 38.85022896086156 and parameters: {'num_leaves': 518, 'max_depth': 18, 'learning_rate': 0.03830375164563812, 'n_estimators': 1019, 'min_child_samples': 6, 'subsample': 0.625090548292942, 'colsample_bytree': 0.31131800672932497, 'max_bin': 971, 'reg_alpha': 0.01757096004567797, 'reg_lambda': 0.00010891145581573353, 'min_split_gain': 0.5711145263442459}. Best is trial 62 with value: 38.84887469268828.\n",
      "[I 2025-02-04 08:03:27,571] Trial 75 finished with value: 38.8496825850212 and parameters: {'num_leaves': 512, 'max_depth': 18, 'learning_rate': 0.03488470266792077, 'n_estimators': 1052, 'min_child_samples': 5, 'subsample': 0.6465324649824596, 'colsample_bytree': 0.32093095064367744, 'max_bin': 993, 'reg_alpha': 0.023171952212010474, 'reg_lambda': 9.320904076692724e-05, 'min_split_gain': 0.5797988088299469}. Best is trial 62 with value: 38.84887469268828.\n",
      "[I 2025-02-04 08:03:53,665] Trial 76 finished with value: 38.85631209310514 and parameters: {'num_leaves': 560, 'max_depth': 18, 'learning_rate': 0.056998113810959455, 'n_estimators': 1072, 'min_child_samples': 9, 'subsample': 0.7378068384012828, 'colsample_bytree': 0.40578788623997475, 'max_bin': 979, 'reg_alpha': 0.009942509698366759, 'reg_lambda': 5.609293298900477e-08, 'min_split_gain': 0.42835082229652344}. Best is trial 62 with value: 38.84887469268828.\n",
      "[I 2025-02-04 08:05:46,552] Trial 77 finished with value: 38.850394963061234 and parameters: {'num_leaves': 609, 'max_depth': 16, 'learning_rate': 0.016242090137267025, 'n_estimators': 1232, 'min_child_samples': 111, 'subsample': 0.6548186376500151, 'colsample_bytree': 0.32764778917395687, 'max_bin': 972, 'reg_alpha': 0.019114964212919153, 'reg_lambda': 9.580810127049302e-05, 'min_split_gain': 0.5252182701062358}. Best is trial 62 with value: 38.84887469268828.\n",
      "[I 2025-02-04 08:07:54,865] Trial 78 finished with value: 38.85071583126041 and parameters: {'num_leaves': 608, 'max_depth': 15, 'learning_rate': 0.011162550674227074, 'n_estimators': 1758, 'min_child_samples': 110, 'subsample': 0.6614513265193808, 'colsample_bytree': 0.3256657444595583, 'max_bin': 960, 'reg_alpha': 0.0025704549238966075, 'reg_lambda': 1.2725050012179097e-05, 'min_split_gain': 0.5383118177457744}. Best is trial 62 with value: 38.84887469268828.\n",
      "[I 2025-02-04 08:09:07,698] Trial 79 finished with value: 38.852902245373116 and parameters: {'num_leaves': 512, 'max_depth': 17, 'learning_rate': 0.017315898108209025, 'n_estimators': 1033, 'min_child_samples': 5, 'subsample': 0.6937221392184374, 'colsample_bytree': 0.4335781781463168, 'max_bin': 999, 'reg_alpha': 0.025466490692992897, 'reg_lambda': 0.00011169195941929707, 'min_split_gain': 0.5110621361597666}. Best is trial 62 with value: 38.84887469268828.\n",
      "[I 2025-02-04 08:10:32,495] Trial 80 finished with value: 38.84953175863926 and parameters: {'num_leaves': 616, 'max_depth': 19, 'learning_rate': 0.014282206678593578, 'n_estimators': 1216, 'min_child_samples': 40, 'subsample': 0.7766541410361109, 'colsample_bytree': 0.3301301833900566, 'max_bin': 886, 'reg_alpha': 0.004896862123886862, 'reg_lambda': 1.885118078111214e-05, 'min_split_gain': 0.4610096012445436}. Best is trial 62 with value: 38.84887469268828.\n",
      "[I 2025-02-04 08:11:58,514] Trial 81 finished with value: 38.855223990808355 and parameters: {'num_leaves': 668, 'max_depth': 19, 'learning_rate': 0.013404149439627578, 'n_estimators': 1158, 'min_child_samples': 40, 'subsample': 0.7831390910627787, 'colsample_bytree': 0.37284539907104675, 'max_bin': 890, 'reg_alpha': 0.0009858665308644403, 'reg_lambda': 2.284627188939531e-05, 'min_split_gain': 0.38665901158277355}. Best is trial 62 with value: 38.84887469268828.\n",
      "[I 2025-02-04 08:13:01,694] Trial 82 finished with value: 38.85172646323239 and parameters: {'num_leaves': 613, 'max_depth': 18, 'learning_rate': 0.021786155603148012, 'n_estimators': 1221, 'min_child_samples': 22, 'subsample': 0.8564206375211953, 'colsample_bytree': 0.3308208330220399, 'max_bin': 917, 'reg_alpha': 0.007018779396542538, 'reg_lambda': 7.076967759264747e-06, 'min_split_gain': 0.45238909156188084}. Best is trial 62 with value: 38.84887469268828.\n",
      "[I 2025-02-04 08:14:04,390] Trial 83 finished with value: 38.84860611488861 and parameters: {'num_leaves': 530, 'max_depth': 17, 'learning_rate': 0.02265908428584471, 'n_estimators': 1321, 'min_child_samples': 30, 'subsample': 0.6462755263604535, 'colsample_bytree': 0.31884678832930924, 'max_bin': 963, 'reg_alpha': 0.02006786960875882, 'reg_lambda': 9.263264225226495e-05, 'min_split_gain': 0.5544656851671815}. Best is trial 83 with value: 38.84860611488861.\n",
      "[I 2025-02-04 08:15:21,352] Trial 84 finished with value: 38.85505487462245 and parameters: {'num_leaves': 574, 'max_depth': 16, 'learning_rate': 0.015587155346720939, 'n_estimators': 1379, 'min_child_samples': 131, 'subsample': 0.7135188130821652, 'colsample_bytree': 0.3959298228254616, 'max_bin': 965, 'reg_alpha': 0.01672791894461959, 'reg_lambda': 2.2008176569811867e-06, 'min_split_gain': 0.5693154943368159}. Best is trial 83 with value: 38.84860611488861.\n",
      "[I 2025-02-04 08:16:22,216] Trial 85 finished with value: 38.8518291236044 and parameters: {'num_leaves': 539, 'max_depth': 18, 'learning_rate': 0.022956208697191147, 'n_estimators': 1536, 'min_child_samples': 79, 'subsample': 0.6429505645115148, 'colsample_bytree': 0.31714102124434057, 'max_bin': 920, 'reg_alpha': 0.0941931895601326, 'reg_lambda': 0.00020328479890577636, 'min_split_gain': 0.3423430796079835}. Best is trial 83 with value: 38.84860611488861.\n",
      "[I 2025-02-04 08:17:55,332] Trial 86 finished with value: 38.86282048614886 and parameters: {'num_leaves': 497, 'max_depth': 17, 'learning_rate': 0.007910909747023494, 'n_estimators': 983, 'min_child_samples': 32, 'subsample': 0.7403647853053119, 'colsample_bytree': 0.694781110058468, 'max_bin': 249, 'reg_alpha': 0.004275015067380895, 'reg_lambda': 1.6397597105622717e-05, 'min_split_gain': 0.41606620009131867}. Best is trial 83 with value: 38.84860611488861.\n",
      "[I 2025-02-04 08:18:22,866] Trial 87 finished with value: 38.8556115741717 and parameters: {'num_leaves': 612, 'max_depth': 17, 'learning_rate': 0.04623708972088339, 'n_estimators': 1666, 'min_child_samples': 14, 'subsample': 0.6301473678526159, 'colsample_bytree': 0.3624998154990764, 'max_bin': 971, 'reg_alpha': 0.024262185787587248, 'reg_lambda': 7.716161864008614e-05, 'min_split_gain': 0.49694478184329344}. Best is trial 83 with value: 38.84860611488861.\n",
      "[I 2025-02-04 08:19:18,328] Trial 88 finished with value: 38.85178083382345 and parameters: {'num_leaves': 524, 'max_depth': 16, 'learning_rate': 0.01912204076836548, 'n_estimators': 795, 'min_child_samples': 64, 'subsample': 0.7590015715884577, 'colsample_bytree': 0.30224759048504773, 'max_bin': 877, 'reg_alpha': 0.00041008828314600357, 'reg_lambda': 0.00030355018627126586, 'min_split_gain': 0.4589344438675034}. Best is trial 83 with value: 38.84860611488861.\n",
      "[I 2025-02-04 08:21:46,970] Trial 89 finished with value: 38.8502037692694 and parameters: {'num_leaves': 461, 'max_depth': 15, 'learning_rate': 0.009674420963200066, 'n_estimators': 1392, 'min_child_samples': 104, 'subsample': 0.6689054523958019, 'colsample_bytree': 0.34183546731537773, 'max_bin': 952, 'reg_alpha': 0.06018204586320729, 'reg_lambda': 3.948672649415532e-05, 'min_split_gain': 0.5393606918328491}. Best is trial 83 with value: 38.84860611488861.\n",
      "[I 2025-02-04 08:23:47,946] Trial 90 finished with value: 38.85512345843877 and parameters: {'num_leaves': 476, 'max_depth': 15, 'learning_rate': 0.00948030371037998, 'n_estimators': 1362, 'min_child_samples': 30, 'subsample': 0.6696014248654598, 'colsample_bytree': 0.4463217325542779, 'max_bin': 909, 'reg_alpha': 0.07115033258670714, 'reg_lambda': 3.1598589716815485e-05, 'min_split_gain': 0.5630628821929351}. Best is trial 83 with value: 38.84860611488861.\n",
      "[I 2025-02-04 08:26:23,070] Trial 91 finished with value: 38.84868688747081 and parameters: {'num_leaves': 453, 'max_depth': 18, 'learning_rate': 0.011913330478314417, 'n_estimators': 1074, 'min_child_samples': 104, 'subsample': 0.697859526214728, 'colsample_bytree': 0.335807824726324, 'max_bin': 1000, 'reg_alpha': 0.3323753998578892, 'reg_lambda': 4.009391136583482e-05, 'min_split_gain': 0.5411845844588403}. Best is trial 83 with value: 38.84860611488861.\n",
      "[I 2025-02-04 08:28:00,137] Trial 92 finished with value: 38.851492969491744 and parameters: {'num_leaves': 449, 'max_depth': 19, 'learning_rate': 0.012182745475343095, 'n_estimators': 641, 'min_child_samples': 12, 'subsample': 0.6962741214855986, 'colsample_bytree': 0.3457922060342623, 'max_bin': 998, 'reg_alpha': 0.2387958601698693, 'reg_lambda': 3.598428274502924e-05, 'min_split_gain': 0.5952741923029503}. Best is trial 83 with value: 38.84860611488861.\n",
      "[I 2025-02-04 08:28:50,025] Trial 93 finished with value: 38.87504630189955 and parameters: {'num_leaves': 496, 'max_depth': 18, 'learning_rate': 0.004209357527838087, 'n_estimators': 385, 'min_child_samples': 87, 'subsample': 0.713851477801711, 'colsample_bytree': 0.38370660774855825, 'max_bin': 945, 'reg_alpha': 0.37707734745509686, 'reg_lambda': 0.00019178139215988914, 'min_split_gain': 0.5416365035174052}. Best is trial 83 with value: 38.84860611488861.\n",
      "[I 2025-02-04 08:29:41,767] Trial 94 finished with value: 38.850522275421696 and parameters: {'num_leaves': 462, 'max_depth': 18, 'learning_rate': 0.024305068493584946, 'n_estimators': 1044, 'min_child_samples': 104, 'subsample': 0.6200474658892102, 'colsample_bytree': 0.30612170838841457, 'max_bin': 931, 'reg_alpha': 0.15368415502553956, 'reg_lambda': 2.9139326422352128e-06, 'min_split_gain': 0.5024350913925816}. Best is trial 83 with value: 38.84860611488861.\n",
      "[I 2025-02-04 08:30:22,089] Trial 95 finished with value: 38.85288977627498 and parameters: {'num_leaves': 429, 'max_depth': 19, 'learning_rate': 0.028363877114461443, 'n_estimators': 852, 'min_child_samples': 21, 'subsample': 0.6879517644851499, 'colsample_bytree': 0.5216497672171283, 'max_bin': 957, 'reg_alpha': 0.033051723862360306, 'reg_lambda': 0.0010955898189969398, 'min_split_gain': 0.47207670686988434}. Best is trial 83 with value: 38.84860611488861.\n",
      "[I 2025-02-04 08:31:47,963] Trial 96 finished with value: 38.85027214154849 and parameters: {'num_leaves': 573, 'max_depth': 19, 'learning_rate': 0.014026902170912363, 'n_estimators': 1442, 'min_child_samples': 97, 'subsample': 0.915691985557967, 'colsample_bytree': 0.28164774382629515, 'max_bin': 891, 'reg_alpha': 0.009627119711966723, 'reg_lambda': 1.754891033996243e-05, 'min_split_gain': 0.5242970234936378}. Best is trial 83 with value: 38.84860611488861.\n",
      "[I 2025-02-04 08:33:14,307] Trial 97 finished with value: 38.850214609269344 and parameters: {'num_leaves': 535, 'max_depth': 19, 'learning_rate': 0.013919721673775446, 'n_estimators': 1130, 'min_child_samples': 98, 'subsample': 0.9892830745874049, 'colsample_bytree': 0.3397372054865518, 'max_bin': 879, 'reg_alpha': 0.010480070292128529, 'reg_lambda': 8.205618086932825e-06, 'min_split_gain': 0.525042300056987}. Best is trial 83 with value: 38.84860611488861.\n",
      "[I 2025-02-04 08:34:51,624] Trial 98 finished with value: 38.85795358960863 and parameters: {'num_leaves': 498, 'max_depth': 17, 'learning_rate': 0.007071125609237031, 'n_estimators': 745, 'min_child_samples': 126, 'subsample': 0.8294657287418972, 'colsample_bytree': 0.3637749538203618, 'max_bin': 870, 'reg_alpha': 0.0024454372624004143, 'reg_lambda': 6.736682573275357e-06, 'min_split_gain': 0.5994344470794457}. Best is trial 83 with value: 38.84860611488861.\n",
      "[I 2025-02-04 08:36:02,242] Trial 99 finished with value: 38.86443756837205 and parameters: {'num_leaves': 535, 'max_depth': 18, 'learning_rate': 0.01049399778621121, 'n_estimators': 4244, 'min_child_samples': 119, 'subsample': 0.6425207559389395, 'colsample_bytree': 0.9290162953851229, 'max_bin': 418, 'reg_alpha': 0.06798121369736794, 'reg_lambda': 4.07665437486706e-06, 'min_split_gain': 0.5468144017848522}. Best is trial 83 with value: 38.84860611488861.\n"
     ]
    }
   ],
   "source": [
    "def objective(trial):    \n",
    "    # Define the hyperparameter search space\n",
    "    param = {\n",
    "        'objective': 'regression',\n",
    "        'metric': 'rmse',\n",
    "        # 'boosting_type': boosting_type,\n",
    "        'num_leaves': trial.suggest_int('num_leaves', 200, 1000),\n",
    "        'max_depth': trial.suggest_int('max_depth', 1, 20),\n",
    "        'learning_rate': trial.suggest_loguniform('learning_rate', 1e-4, 0.5),\n",
    "        'n_estimators': trial.suggest_int('n_estimators', 50, 5000),\n",
    "        'min_child_samples': trial.suggest_int('min_child_samples', 5, 200),\n",
    "        'subsample': trial.suggest_float('subsample', 0.25, 1.0),\n",
    "        'colsample_bytree': trial.suggest_float('colsample_bytree', 0.25, 1.0),\n",
    "        'max_bin': trial.suggest_int('max_bin', 50, 1000),\n",
    "        'reg_alpha': trial.suggest_loguniform('reg_alpha', 1e-8, 10.0),\n",
    "        'reg_lambda': trial.suggest_loguniform('reg_lambda', 1e-8, 10.0),\n",
    "        'min_split_gain': trial.suggest_float('min_split_gain', 0.1, 1.0),\n",
    "        'random_state': 42,\n",
    "        'early_stopping_rounds': 50,\n",
    "        'verbosity': -1,\n",
    "    }\n",
    "    \n",
    "    # For the DART boosting type, include dart‑specific parameters.\n",
    "\n",
    "    train_data = lgb.Dataset(X_train, label=y_train)\n",
    "    valid_data = lgb.Dataset(X_valid, label=y_valid, reference=train_data)\n",
    "    \n",
    "    # Initialize the model with these parameters\n",
    "    model = lgb.train(param, train_data, num_boost_round=100, valid_sets=[valid_data])\n",
    "    y_pred = model.predict(X_valid, num_iteration=model.best_iteration)\n",
    "    rmse = np.sqrt(mean_squared_error(y_valid, y_pred))    \n",
    "    return rmse\n",
    "\n",
    "\n",
    "study_1 = optuna.create_study(direction='minimize')\n",
    "study_1.optimize(objective, n_trials=100)"
   ]
  },
  {
   "cell_type": "code",
   "execution_count": null,
   "metadata": {},
   "outputs": [],
   "source": [
    "study.trials_dataframe().sort_values(by='value')"
   ]
  },
  {
   "cell_type": "code",
   "execution_count": 10,
   "metadata": {},
   "outputs": [
    {
     "name": "stderr",
     "output_type": "stream",
     "text": [
      "[I 2025-02-02 21:19:40,729] A new study created in memory with name: no-name-bb8f98fc-1f6a-41b4-a14b-b1a863e2abf9\n",
      "[I 2025-02-02 22:01:37,642] Trial 0 finished with value: 39.76996423248435 and parameters: {'boosting_type': 'dart', 'num_leaves': 337, 'max_depth': 4, 'learning_rate': 0.0031635309200795584, 'n_estimators': 4372, 'min_child_samples': 48, 'subsample': 0.34645324972913083, 'colsample_bytree': 0.6577425331360448, 'max_bin': 872, 'reg_alpha': 3.5368612289072567, 'reg_lambda': 0.01035388459360509, 'min_split_gain': 0.6966281128935405, 'drop_rate': 0.17004025288994346}. Best is trial 0 with value: 39.76996423248435.\n",
      "[I 2025-02-02 22:03:00,806] Trial 1 finished with value: 54.86826168805091 and parameters: {'boosting_type': 'dart', 'num_leaves': 640, 'max_depth': 3, 'learning_rate': 0.0017345753663105348, 'n_estimators': 1426, 'min_child_samples': 116, 'subsample': 0.3843193222965111, 'colsample_bytree': 0.813550191319027, 'max_bin': 109, 'reg_alpha': 0.007101289855733979, 'reg_lambda': 5.889920060845443e-08, 'min_split_gain': 0.7452608208307692, 'drop_rate': 0.28918249293269516}. Best is trial 0 with value: 39.76996423248435.\n",
      "[I 2025-02-02 22:03:03,119] Trial 2 finished with value: 38.94233478915317 and parameters: {'boosting_type': 'gbdt', 'num_leaves': 534, 'max_depth': 9, 'learning_rate': 0.00036199151560512444, 'n_estimators': 181, 'min_child_samples': 19, 'subsample': 0.4930478917917446, 'colsample_bytree': 0.2578723891448972, 'max_bin': 88, 'reg_alpha': 0.0308341744425578, 'reg_lambda': 2.5290946490619423e-06, 'min_split_gain': 0.31744682433449156}. Best is trial 2 with value: 38.94233478915317.\n",
      "[I 2025-02-02 22:08:59,817] Trial 3 finished with value: 39.36015258451065 and parameters: {'boosting_type': 'dart', 'num_leaves': 775, 'max_depth': 5, 'learning_rate': 0.005725248255891394, 'n_estimators': 3671, 'min_child_samples': 168, 'subsample': 0.5268892658842291, 'colsample_bytree': 0.5723731935592844, 'max_bin': 377, 'reg_alpha': 9.49992959753237e-07, 'reg_lambda': 2.34147180309362e-08, 'min_split_gain': 0.9349174062501083, 'drop_rate': 0.04087889869753597}. Best is trial 2 with value: 38.94233478915317.\n",
      "[I 2025-02-02 22:09:32,526] Trial 4 finished with value: 38.92813597622735 and parameters: {'boosting_type': 'gbdt', 'num_leaves': 201, 'max_depth': 18, 'learning_rate': 0.00025870317669719593, 'n_estimators': 2019, 'min_child_samples': 164, 'subsample': 0.44210379621441653, 'colsample_bytree': 0.9727120843026352, 'max_bin': 748, 'reg_alpha': 0.00029417668096713137, 'reg_lambda': 2.9948734788872853e-05, 'min_split_gain': 0.8192100718265954}. Best is trial 4 with value: 38.92813597622735.\n",
      "[I 2025-02-02 22:29:47,878] Trial 5 finished with value: 42.03705839399256 and parameters: {'boosting_type': 'dart', 'num_leaves': 449, 'max_depth': 20, 'learning_rate': 0.0013042368651681113, 'n_estimators': 4658, 'min_child_samples': 68, 'subsample': 0.6549781472652377, 'colsample_bytree': 0.8882541516104163, 'max_bin': 106, 'reg_alpha': 2.607444025057895e-07, 'reg_lambda': 0.03585103145333034, 'min_split_gain': 0.5374752751104112, 'drop_rate': 0.289020856856092}. Best is trial 4 with value: 38.92813597622735.\n",
      "[I 2025-02-02 22:36:53,092] Trial 6 finished with value: 53.03226486648516 and parameters: {'boosting_type': 'dart', 'num_leaves': 247, 'max_depth': 10, 'learning_rate': 0.001402096706434886, 'n_estimators': 1812, 'min_child_samples': 195, 'subsample': 0.7222182145307774, 'colsample_bytree': 0.9954503023932038, 'max_bin': 162, 'reg_alpha': 0.008998124716803788, 'reg_lambda': 7.218142288555687e-06, 'min_split_gain': 0.6887992999760447, 'drop_rate': 0.44252342645797305}. Best is trial 4 with value: 38.92813597622735.\n",
      "[I 2025-02-02 22:41:59,631] Trial 7 finished with value: 38.985468776773 and parameters: {'boosting_type': 'dart', 'num_leaves': 590, 'max_depth': 3, 'learning_rate': 0.006982271844946386, 'n_estimators': 4801, 'min_child_samples': 75, 'subsample': 0.6614911767704224, 'colsample_bytree': 0.5428887333097422, 'max_bin': 965, 'reg_alpha': 6.007934129681055e-07, 'reg_lambda': 2.960506906494221e-07, 'min_split_gain': 0.6184937126935439, 'drop_rate': 0.23004049423981038}. Best is trial 4 with value: 38.92813597622735.\n",
      "[I 2025-02-02 22:42:01,581] Trial 8 finished with value: 123.05502633104001 and parameters: {'boosting_type': 'dart', 'num_leaves': 364, 'max_depth': 15, 'learning_rate': 0.0054073191177532115, 'n_estimators': 62, 'min_child_samples': 75, 'subsample': 0.8968018890362107, 'colsample_bytree': 0.596769512754159, 'max_bin': 706, 'reg_alpha': 2.7374617151228436e-05, 'reg_lambda': 2.3938876656329557, 'min_split_gain': 0.32775959699702384, 'drop_rate': 0.15942226103950946}. Best is trial 4 with value: 38.92813597622735.\n",
      "[I 2025-02-02 22:42:11,121] Trial 9 finished with value: 38.922284345780426 and parameters: {'boosting_type': 'gbdt', 'num_leaves': 291, 'max_depth': 19, 'learning_rate': 0.003287296878163145, 'n_estimators': 478, 'min_child_samples': 170, 'subsample': 0.2637696775036108, 'colsample_bytree': 0.5597632322982593, 'max_bin': 557, 'reg_alpha': 2.574614387365756e-07, 'reg_lambda': 0.10713414187821073, 'min_split_gain': 0.6960175733762025}. Best is trial 9 with value: 38.922284345780426.\n",
      "[I 2025-02-02 22:42:11,968] Trial 10 finished with value: 38.92582918113327 and parameters: {'boosting_type': 'gbdt', 'num_leaves': 814, 'max_depth': 14, 'learning_rate': 0.30510032974727236, 'n_estimators': 3171, 'min_child_samples': 128, 'subsample': 0.25692752490673215, 'colsample_bytree': 0.3458283832521716, 'max_bin': 409, 'reg_alpha': 1.7731842380798794e-08, 'reg_lambda': 7.265087677203718, 'min_split_gain': 0.10663189706523479}. Best is trial 9 with value: 38.922284345780426.\n",
      "[I 2025-02-02 22:42:13,732] Trial 11 finished with value: 38.92186995129089 and parameters: {'boosting_type': 'gbdt', 'num_leaves': 969, 'max_depth': 15, 'learning_rate': 0.08527385062144167, 'n_estimators': 3161, 'min_child_samples': 119, 'subsample': 0.2936793755654746, 'colsample_bytree': 0.34021965171572127, 'max_bin': 473, 'reg_alpha': 1.95689256311653e-08, 'reg_lambda': 8.872396936153612, 'min_split_gain': 0.11852962666755743}. Best is trial 11 with value: 38.92186995129089.\n",
      "[I 2025-02-02 22:42:15,487] Trial 12 finished with value: 38.92660551166264 and parameters: {'boosting_type': 'gbdt', 'num_leaves': 989, 'max_depth': 15, 'learning_rate': 0.06989912357530419, 'n_estimators': 2669, 'min_child_samples': 140, 'subsample': 0.25180656505379967, 'colsample_bytree': 0.39063627016271074, 'max_bin': 552, 'reg_alpha': 1.000501574500724e-08, 'reg_lambda': 0.11747493253513991, 'min_split_gain': 0.46077402221348307}. Best is trial 11 with value: 38.92186995129089.\n",
      "[I 2025-02-02 22:42:18,122] Trial 13 finished with value: 38.925715815491635 and parameters: {'boosting_type': 'gbdt', 'num_leaves': 941, 'max_depth': 18, 'learning_rate': 0.03729129456027697, 'n_estimators': 1018, 'min_child_samples': 194, 'subsample': 0.833209324073926, 'colsample_bytree': 0.4630109074732908, 'max_bin': 536, 'reg_alpha': 6.028243376002576e-06, 'reg_lambda': 0.0011173147025847709, 'min_split_gain': 0.10088504481514105}. Best is trial 11 with value: 38.92186995129089.\n",
      "[I 2025-02-02 22:42:19,849] Trial 14 finished with value: 38.93454143698593 and parameters: {'boosting_type': 'gbdt', 'num_leaves': 748, 'max_depth': 12, 'learning_rate': 0.03520971818787037, 'n_estimators': 3742, 'min_child_samples': 155, 'subsample': 0.35006696294060147, 'colsample_bytree': 0.731225955128427, 'max_bin': 349, 'reg_alpha': 8.802256882242294e-08, 'reg_lambda': 0.3203621260454663, 'min_split_gain': 0.38549490699197053}. Best is trial 11 with value: 38.92186995129089.\n",
      "[I 2025-02-02 22:42:21,802] Trial 15 finished with value: 38.929187589245224 and parameters: {'boosting_type': 'gbdt', 'num_leaves': 864, 'max_depth': 20, 'learning_rate': 0.13089153582167973, 'n_estimators': 2664, 'min_child_samples': 104, 'subsample': 0.5457730732277155, 'colsample_bytree': 0.4632921065375031, 'max_bin': 658, 'reg_alpha': 1.070262069732478e-05, 'reg_lambda': 0.001253425083232972, 'min_split_gain': 0.24051074330937056}. Best is trial 11 with value: 38.92186995129089.\n",
      "[I 2025-02-02 22:42:25,738] Trial 16 finished with value: 38.91610062167473 and parameters: {'boosting_type': 'gbdt', 'num_leaves': 663, 'max_depth': 17, 'learning_rate': 0.016311317533474555, 'n_estimators': 1002, 'min_child_samples': 142, 'subsample': 0.32039173658184045, 'colsample_bytree': 0.27441390692630685, 'max_bin': 256, 'reg_alpha': 0.00010541843395334334, 'reg_lambda': 0.8177475218334207, 'min_split_gain': 0.8960839100938243}. Best is trial 16 with value: 38.91610062167473.\n",
      "[I 2025-02-02 22:42:29,148] Trial 17 finished with value: 38.92026906192467 and parameters: {'boosting_type': 'gbdt', 'num_leaves': 700, 'max_depth': 16, 'learning_rate': 0.02149376075923129, 'n_estimators': 1061, 'min_child_samples': 93, 'subsample': 0.9854193692929222, 'colsample_bytree': 0.2573016292841581, 'max_bin': 253, 'reg_alpha': 1.1308169737902816, 'reg_lambda': 2.705202159826286, 'min_split_gain': 0.9777224306453056}. Best is trial 16 with value: 38.91610062167473.\n",
      "[I 2025-02-02 22:42:33,104] Trial 18 finished with value: 38.915941861534826 and parameters: {'boosting_type': 'gbdt', 'num_leaves': 690, 'max_depth': 12, 'learning_rate': 0.017954638593757087, 'n_estimators': 1018, 'min_child_samples': 93, 'subsample': 0.9979873744698664, 'colsample_bytree': 0.2511006416405058, 'max_bin': 249, 'reg_alpha': 9.913267940387735, 'reg_lambda': 0.7426480050788947, 'min_split_gain': 0.9343047880757033}. Best is trial 18 with value: 38.915941861534826.\n",
      "[I 2025-02-02 22:42:35,742] Trial 19 finished with value: 38.914081212287535 and parameters: {'boosting_type': 'gbdt', 'num_leaves': 495, 'max_depth': 8, 'learning_rate': 0.015352321034307665, 'n_estimators': 699, 'min_child_samples': 47, 'subsample': 0.8153097413529329, 'colsample_bytree': 0.43088107477063264, 'max_bin': 232, 'reg_alpha': 0.20943639646756484, 'reg_lambda': 0.006240101231430182, 'min_split_gain': 0.8460229123627567}. Best is trial 19 with value: 38.914081212287535.\n",
      "[I 2025-02-02 22:42:38,469] Trial 20 finished with value: 38.91181416087923 and parameters: {'boosting_type': 'gbdt', 'num_leaves': 494, 'max_depth': 7, 'learning_rate': 0.014423621050503778, 'n_estimators': 639, 'min_child_samples': 18, 'subsample': 0.8118392189314487, 'colsample_bytree': 0.44607624997758033, 'max_bin': 286, 'reg_alpha': 0.2788374887182933, 'reg_lambda': 0.005350366895107833, 'min_split_gain': 0.8470419938008543}. Best is trial 20 with value: 38.91181416087923.\n",
      "[I 2025-02-02 22:42:41,190] Trial 21 finished with value: 38.9110534616142 and parameters: {'boosting_type': 'gbdt', 'num_leaves': 477, 'max_depth': 7, 'learning_rate': 0.015511530773062823, 'n_estimators': 817, 'min_child_samples': 16, 'subsample': 0.8214924382238522, 'colsample_bytree': 0.4151015999732329, 'max_bin': 248, 'reg_alpha': 0.3301659388847634, 'reg_lambda': 0.007623924295368967, 'min_split_gain': 0.8399899288544838}. Best is trial 21 with value: 38.9110534616142.\n",
      "[I 2025-02-02 22:42:44,862] Trial 22 finished with value: 38.91317195371284 and parameters: {'boosting_type': 'gbdt', 'num_leaves': 461, 'max_depth': 7, 'learning_rate': 0.009531259653595102, 'n_estimators': 571, 'min_child_samples': 8, 'subsample': 0.7870840254698319, 'colsample_bytree': 0.42788154201514617, 'max_bin': 206, 'reg_alpha': 0.21753949480411144, 'reg_lambda': 0.006278876436628611, 'min_split_gain': 0.8349153552149498}. Best is trial 21 with value: 38.9110534616142.\n",
      "[I 2025-02-02 22:42:48,817] Trial 23 finished with value: 38.91425308262072 and parameters: {'boosting_type': 'gbdt', 'num_leaves': 472, 'max_depth': 7, 'learning_rate': 0.0100277882686784, 'n_estimators': 1572, 'min_child_samples': 8, 'subsample': 0.7486114076249134, 'colsample_bytree': 0.4979103508235415, 'max_bin': 329, 'reg_alpha': 0.28464027885340365, 'reg_lambda': 0.00011293028384616072, 'min_split_gain': 0.8145779271810833}. Best is trial 21 with value: 38.9110534616142.\n",
      "[I 2025-02-02 22:42:49,798] Trial 24 finished with value: 38.94315049310741 and parameters: {'boosting_type': 'gbdt', 'num_leaves': 388, 'max_depth': 1, 'learning_rate': 0.00011536867241913049, 'n_estimators': 575, 'min_child_samples': 29, 'subsample': 0.9019916355328517, 'colsample_bytree': 0.37749090318202927, 'max_bin': 175, 'reg_alpha': 0.0032380719394542092, 'reg_lambda': 0.0004240596540926501, 'min_split_gain': 0.7546826518456199}. Best is trial 21 with value: 38.9110534616142.\n",
      "[I 2025-02-02 22:42:50,805] Trial 25 finished with value: 38.91907744525795 and parameters: {'boosting_type': 'gbdt', 'num_leaves': 566, 'max_depth': 7, 'learning_rate': 0.03724254876403647, 'n_estimators': 2341, 'min_child_samples': 37, 'subsample': 0.7586831966574222, 'colsample_bytree': 0.505882362112655, 'max_bin': 439, 'reg_alpha': 0.17335800128321002, 'reg_lambda': 0.006739045027542833, 'min_split_gain': 0.991776511064346}. Best is trial 21 with value: 38.9110534616142.\n",
      "[I 2025-02-02 22:42:51,190] Trial 26 finished with value: 38.91599842168691 and parameters: {'boosting_type': 'gbdt', 'num_leaves': 416, 'max_depth': 6, 'learning_rate': 0.20715223360234714, 'n_estimators': 1418, 'min_child_samples': 10, 'subsample': 0.8405879939434628, 'colsample_bytree': 0.416398702063204, 'max_bin': 314, 'reg_alpha': 0.039088221966321564, 'reg_lambda': 0.02669346558532203, 'min_split_gain': 0.6014961662873766}. Best is trial 21 with value: 38.9110534616142.\n",
      "[I 2025-02-02 22:42:59,644] Trial 27 finished with value: 38.92497463463193 and parameters: {'boosting_type': 'gbdt', 'num_leaves': 505, 'max_depth': 11, 'learning_rate': 0.0030639498314500684, 'n_estimators': 356, 'min_child_samples': 23, 'subsample': 0.9183944161579006, 'colsample_bytree': 0.6364205309487546, 'max_bin': 50, 'reg_alpha': 0.9993503835473095, 'reg_lambda': 0.00011588548605565659, 'min_split_gain': 0.867754271738556}. Best is trial 21 with value: 38.9110534616142.\n",
      "[I 2025-02-02 22:43:00,836] Trial 28 finished with value: 38.91277442135589 and parameters: {'boosting_type': 'gbdt', 'num_leaves': 428, 'max_depth': 9, 'learning_rate': 0.06292741531494081, 'n_estimators': 833, 'min_child_samples': 52, 'subsample': 0.5984799562428642, 'colsample_bytree': 0.3409144923192095, 'max_bin': 168, 'reg_alpha': 0.0016973459054069784, 'reg_lambda': 0.002432501156461747, 'min_split_gain': 0.7800106553594667}. Best is trial 21 with value: 38.9110534616142.\n",
      "[I 2025-02-02 22:43:01,416] Trial 29 finished with value: 38.9228783324519 and parameters: {'boosting_type': 'gbdt', 'num_leaves': 327, 'max_depth': 9, 'learning_rate': 0.43001803542107614, 'n_estimators': 2114, 'min_child_samples': 56, 'subsample': 0.571508383149422, 'colsample_bytree': 0.3279032910789346, 'max_bin': 151, 'reg_alpha': 0.0009719880133700069, 'reg_lambda': 0.0019576378396340263, 'min_split_gain': 0.7573745768321678}. Best is trial 21 with value: 38.9110534616142.\n",
      "[I 2025-02-02 22:43:02,016] Trial 30 finished with value: 38.912960585807625 and parameters: {'boosting_type': 'gbdt', 'num_leaves': 411, 'max_depth': 5, 'learning_rate': 0.06723577334653473, 'n_estimators': 779, 'min_child_samples': 39, 'subsample': 0.5881586722713127, 'colsample_bytree': 0.6818557753123323, 'max_bin': 314, 'reg_alpha': 1.5578643832380261, 'reg_lambda': 0.0002546721842472902, 'min_split_gain': 0.6446762756962859}. Best is trial 21 with value: 38.9110534616142.\n",
      "[I 2025-02-02 22:43:02,981] Trial 31 finished with value: 38.914420317520666 and parameters: {'boosting_type': 'gbdt', 'num_leaves': 412, 'max_depth': 5, 'learning_rate': 0.06162797686184099, 'n_estimators': 814, 'min_child_samples': 42, 'subsample': 0.6031321376567216, 'colsample_bytree': 0.7284818299841909, 'max_bin': 289, 'reg_alpha': 2.9769285079520236, 'reg_lambda': 0.000329695626288118, 'min_split_gain': 0.6540930830465929}. Best is trial 21 with value: 38.9110534616142.\n",
      "[I 2025-02-02 22:43:03,390] Trial 32 finished with value: 38.91443898701524 and parameters: {'boosting_type': 'gbdt', 'num_leaves': 537, 'max_depth': 4, 'learning_rate': 0.13767432796521598, 'n_estimators': 1390, 'min_child_samples': 54, 'subsample': 0.6660952593527782, 'colsample_bytree': 0.7123990028235546, 'max_bin': 389, 'reg_alpha': 1.2638509408234484, 'reg_lambda': 3.148067342164613e-05, 'min_split_gain': 0.7667699876380949}. Best is trial 21 with value: 38.9110534616142.\n",
      "[I 2025-02-02 22:43:03,751] Trial 33 finished with value: 38.91786620019387 and parameters: {'boosting_type': 'gbdt', 'num_leaves': 321, 'max_depth': 2, 'learning_rate': 0.027668531149451763, 'n_estimators': 121, 'min_child_samples': 25, 'subsample': 0.46440864855018416, 'colsample_bytree': 0.6958297223796861, 'max_bin': 470, 'reg_alpha': 0.023661627293855424, 'reg_lambda': 0.023464991946998477, 'min_split_gain': 0.5797857928323984}. Best is trial 21 with value: 38.9110534616142.\n",
      "[I 2025-02-02 22:48:51,007] Trial 34 finished with value: 40.79333170156049 and parameters: {'boosting_type': 'dart', 'num_leaves': 618, 'max_depth': 9, 'learning_rate': 0.057154390263859337, 'n_estimators': 1705, 'min_child_samples': 31, 'subsample': 0.7120108887929146, 'colsample_bytree': 0.7817221808988023, 'max_bin': 143, 'reg_alpha': 9.108329862925238, 'reg_lambda': 0.001564615517817788, 'min_split_gain': 0.535406374317821, 'drop_rate': 0.4934966010883766}. Best is trial 21 with value: 38.9110534616142.\n",
      "[I 2025-02-02 22:48:51,516] Trial 35 finished with value: 38.91348965546448 and parameters: {'boosting_type': 'gbdt', 'num_leaves': 430, 'max_depth': 5, 'learning_rate': 0.10170273297055653, 'n_estimators': 1256, 'min_child_samples': 63, 'subsample': 0.5859912442231314, 'colsample_bytree': 0.6658399610722863, 'max_bin': 296, 'reg_alpha': 0.06120157468251392, 'reg_lambda': 8.530853749434224e-05, 'min_split_gain': 0.7930666505993113}. Best is trial 21 with value: 38.9110534616142.\n",
      "[I 2025-02-02 22:48:52,036] Trial 36 finished with value: 38.91140874492433 and parameters: {'boosting_type': 'gbdt', 'num_leaves': 542, 'max_depth': 6, 'learning_rate': 0.17624095602165274, 'n_estimators': 315, 'min_child_samples': 17, 'subsample': 0.4944926062871733, 'colsample_bytree': 0.29617383515247964, 'max_bin': 183, 'reg_alpha': 0.0027372320537862446, 'reg_lambda': 5.134721785722971e-06, 'min_split_gain': 0.9097571574026165}. Best is trial 21 with value: 38.9110534616142.\n",
      "[I 2025-02-02 22:49:04,843] Trial 37 finished with value: 39.20880492905122 and parameters: {'boosting_type': 'dart', 'num_leaves': 545, 'max_depth': 11, 'learning_rate': 0.15647271265642704, 'n_estimators': 353, 'min_child_samples': 16, 'subsample': 0.4069067025216023, 'colsample_bytree': 0.29649881429273034, 'max_bin': 50, 'reg_alpha': 0.001348285531978642, 'reg_lambda': 1.0824495485615508e-06, 'min_split_gain': 0.9180086516657946, 'drop_rate': 0.026866863522133355}. Best is trial 21 with value: 38.9110534616142.\n",
      "[I 2025-02-02 22:49:05,527] Trial 38 finished with value: 38.92502830885488 and parameters: {'boosting_type': 'gbdt', 'num_leaves': 589, 'max_depth': 8, 'learning_rate': 0.2703328877216289, 'n_estimators': 316, 'min_child_samples': 19, 'subsample': 0.4901788268594131, 'colsample_bytree': 0.3758401913313375, 'max_bin': 110, 'reg_alpha': 0.008580609358144364, 'reg_lambda': 6.450280719915716e-08, 'min_split_gain': 0.708868461225325}. Best is trial 21 with value: 38.9110534616142.\n",
      "[I 2025-02-02 22:52:46,171] Trial 39 finished with value: 69.6406426577223 and parameters: {'boosting_type': 'dart', 'num_leaves': 500, 'max_depth': 10, 'learning_rate': 0.0006935597368581096, 'n_estimators': 1271, 'min_child_samples': 34, 'subsample': 0.630937023404116, 'colsample_bytree': 0.3032693455943052, 'max_bin': 192, 'reg_alpha': 0.0004883709629788632, 'reg_lambda': 5.689783666107204e-06, 'min_split_gain': 0.8846390775092474, 'drop_rate': 0.38421860672162006}. Best is trial 21 with value: 38.9110534616142.\n",
      "[I 2025-02-02 22:52:51,325] Trial 40 finished with value: 38.9122346818228 and parameters: {'boosting_type': 'gbdt', 'num_leaves': 609, 'max_depth': 3, 'learning_rate': 0.0029109061453211774, 'n_estimators': 1923, 'min_child_samples': 54, 'subsample': 0.522376199699604, 'colsample_bytree': 0.5111546072498843, 'max_bin': 811, 'reg_alpha': 0.00010972299324905301, 'reg_lambda': 1.9616369068706372e-05, 'min_split_gain': 0.9652357804856894}. Best is trial 21 with value: 38.9110534616142.\n",
      "[I 2025-02-02 22:52:55,608] Trial 41 finished with value: 38.91203432041901 and parameters: {'boosting_type': 'gbdt', 'num_leaves': 624, 'max_depth': 3, 'learning_rate': 0.0044465166582862165, 'n_estimators': 1841, 'min_child_samples': 50, 'subsample': 0.5080825049929819, 'colsample_bytree': 0.5182676313519982, 'max_bin': 841, 'reg_alpha': 0.00016203678673213105, 'reg_lambda': 1.6943932492077634e-05, 'min_split_gain': 0.9603061014088944}. Best is trial 21 with value: 38.9110534616142.\n",
      "[I 2025-02-02 22:53:00,471] Trial 42 finished with value: 38.9129831874845 and parameters: {'boosting_type': 'gbdt', 'num_leaves': 636, 'max_depth': 3, 'learning_rate': 0.0026442753698876905, 'n_estimators': 1817, 'min_child_samples': 74, 'subsample': 0.5091820540667019, 'colsample_bytree': 0.5232685311528438, 'max_bin': 846, 'reg_alpha': 0.00010733917575401598, 'reg_lambda': 1.5268133583585254e-05, 'min_split_gain': 0.9497484462107977}. Best is trial 21 with value: 38.9110534616142.\n",
      "[I 2025-02-02 22:53:03,682] Trial 43 finished with value: 38.91504902814083 and parameters: {'boosting_type': 'gbdt', 'num_leaves': 579, 'max_depth': 2, 'learning_rate': 0.004617597175172589, 'n_estimators': 2131, 'min_child_samples': 18, 'subsample': 0.4105473235576364, 'colsample_bytree': 0.6017531194041826, 'max_bin': 819, 'reg_alpha': 9.144619247953758e-05, 'reg_lambda': 1.0579717424562412e-06, 'min_split_gain': 0.9945687621510293}. Best is trial 21 with value: 38.9110534616142.\n",
      "[I 2025-02-02 22:53:12,275] Trial 44 finished with value: 38.91780888308389 and parameters: {'boosting_type': 'gbdt', 'num_leaves': 716, 'max_depth': 4, 'learning_rate': 0.00081028706819087, 'n_estimators': 2411, 'min_child_samples': 62, 'subsample': 0.46215158106621324, 'colsample_bytree': 0.47232334925048536, 'max_bin': 994, 'reg_alpha': 3.923786353623709e-06, 'reg_lambda': 3.597271263886959e-06, 'min_split_gain': 0.9425362004194817}. Best is trial 21 with value: 38.9110534616142.\n",
      "[I 2025-02-02 22:54:30,790] Trial 45 finished with value: 46.45618965825324 and parameters: {'boosting_type': 'dart', 'num_leaves': 620, 'max_depth': 2, 'learning_rate': 0.0021189260752558126, 'n_estimators': 1900, 'min_child_samples': 82, 'subsample': 0.5358161604292103, 'colsample_bytree': 0.5558172245348274, 'max_bin': 778, 'reg_alpha': 3.250470192792298e-05, 'reg_lambda': 2.671567288801396e-05, 'min_split_gain': 0.8896041201886072, 'drop_rate': 0.3648078464585483}. Best is trial 21 with value: 38.9110534616142.\n",
      "[I 2025-02-02 22:54:33,467] Trial 46 finished with value: 38.9154762800436 and parameters: {'boosting_type': 'gbdt', 'num_leaves': 535, 'max_depth': 6, 'learning_rate': 0.00860318778635332, 'n_estimators': 2996, 'min_child_samples': 47, 'subsample': 0.686535971121526, 'colsample_bytree': 0.5893624015407262, 'max_bin': 914, 'reg_alpha': 0.004961051724902887, 'reg_lambda': 2.0977019149590019e-07, 'min_split_gain': 0.8541375640765901}. Best is trial 21 with value: 38.9110534616142.\n",
      "[I 2025-02-02 22:54:33,659] Trial 47 finished with value: 38.9402107134303 and parameters: {'boosting_type': 'gbdt', 'num_leaves': 660, 'max_depth': 1, 'learning_rate': 0.004652122479156454, 'n_estimators': 55, 'min_child_samples': 5, 'subsample': 0.8729522823225405, 'colsample_bytree': 0.4071395117370134, 'max_bin': 671, 'reg_alpha': 0.0002613137922982531, 'reg_lambda': 1.5048964709458972e-06, 'min_split_gain': 0.9211764762853484}. Best is trial 21 with value: 38.9110534616142.\n",
      "[I 2025-02-02 22:54:43,906] Trial 48 finished with value: 38.91182715690638 and parameters: {'boosting_type': 'gbdt', 'num_leaves': 770, 'max_depth': 3, 'learning_rate': 0.0013932656346221021, 'n_estimators': 3825, 'min_child_samples': 29, 'subsample': 0.43480729898629417, 'colsample_bytree': 0.45214453122146403, 'max_bin': 618, 'reg_alpha': 0.01692519354996665, 'reg_lambda': 4.729030896244869e-07, 'min_split_gain': 0.7086076910916393}. Best is trial 21 with value: 38.9110534616142.\n",
      "[I 2025-02-02 22:55:11,892] Trial 49 finished with value: 38.91089896262252 and parameters: {'boosting_type': 'gbdt', 'num_leaves': 802, 'max_depth': 6, 'learning_rate': 0.0008681269731045035, 'n_estimators': 4204, 'min_child_samples': 17, 'subsample': 0.3611685794651569, 'colsample_bytree': 0.4518885012733984, 'max_bin': 615, 'reg_alpha': 0.44894415084734235, 'reg_lambda': 2.2767309817068625e-08, 'min_split_gain': 0.7203116238811561}. Best is trial 49 with value: 38.91089896262252.\n",
      "[I 2025-02-02 23:04:22,075] Trial 50 finished with value: 46.32259889187761 and parameters: {'boosting_type': 'dart', 'num_leaves': 847, 'max_depth': 6, 'learning_rate': 0.0009646757076223288, 'n_estimators': 4264, 'min_child_samples': 14, 'subsample': 0.3866232200545201, 'colsample_bytree': 0.45014858577549316, 'max_bin': 623, 'reg_alpha': 0.0171386789626205, 'reg_lambda': 2.493614231022278e-08, 'min_split_gain': 0.6884046659003982, 'drop_rate': 0.13754167410769233}. Best is trial 49 with value: 38.91089896262252.\n",
      "[I 2025-02-02 23:04:40,881] Trial 51 finished with value: 38.91475931775038 and parameters: {'boosting_type': 'gbdt', 'num_leaves': 920, 'max_depth': 4, 'learning_rate': 0.0005716400568409628, 'n_estimators': 4639, 'min_child_samples': 27, 'subsample': 0.34991430063823015, 'colsample_bytree': 0.48791260868322417, 'max_bin': 591, 'reg_alpha': 0.05304023281826248, 'reg_lambda': 3.3634511107360003e-07, 'min_split_gain': 0.7245721076598751}. Best is trial 49 with value: 38.91089896262252.\n",
      "[I 2025-02-02 23:05:28,713] Trial 52 finished with value: 38.92152151728113 and parameters: {'boosting_type': 'gbdt', 'num_leaves': 780, 'max_depth': 8, 'learning_rate': 0.0002987209367112874, 'n_estimators': 3963, 'min_child_samples': 24, 'subsample': 0.4160973607394664, 'colsample_bytree': 0.35892510244517917, 'max_bin': 714, 'reg_alpha': 0.06889050598880259, 'reg_lambda': 1.016521196702441e-08, 'min_split_gain': 0.7979006100689385}. Best is trial 49 with value: 38.91089896262252.\n",
      "[I 2025-02-02 23:05:40,630] Trial 53 finished with value: 38.9097518033814 and parameters: {'boosting_type': 'gbdt', 'num_leaves': 762, 'max_depth': 4, 'learning_rate': 0.001437983335402964, 'n_estimators': 3542, 'min_child_samples': 39, 'subsample': 0.4597919893284827, 'colsample_bytree': 0.5390881427301324, 'max_bin': 903, 'reg_alpha': 0.4027231915626833, 'reg_lambda': 1.2989245513009854e-07, 'min_split_gain': 0.8269340230635465}. Best is trial 53 with value: 38.9097518033814.\n",
      "[I 2025-02-02 23:06:03,575] Trial 54 finished with value: 38.919568822429305 and parameters: {'boosting_type': 'gbdt', 'num_leaves': 779, 'max_depth': 6, 'learning_rate': 0.00048797850046889795, 'n_estimators': 3569, 'min_child_samples': 39, 'subsample': 0.31253298800446744, 'colsample_bytree': 0.44248944735386847, 'max_bin': 514, 'reg_alpha': 0.4405284901217219, 'reg_lambda': 9.718230490100355e-08, 'min_split_gain': 0.8302009616232832}. Best is trial 53 with value: 38.9097518033814.\n",
      "[I 2025-02-02 23:06:23,472] Trial 55 finished with value: 38.91096056725132 and parameters: {'boosting_type': 'gbdt', 'num_leaves': 883, 'max_depth': 7, 'learning_rate': 0.0017835340189942192, 'n_estimators': 4181, 'min_child_samples': 14, 'subsample': 0.4456782027695817, 'colsample_bytree': 0.4010912872308002, 'max_bin': 911, 'reg_alpha': 0.6382487439006371, 'reg_lambda': 4.921089829377462e-07, 'min_split_gain': 0.7368934777221771}. Best is trial 53 with value: 38.9097518033814.\n",
      "[I 2025-02-02 23:06:38,662] Trial 56 finished with value: 38.91077607822772 and parameters: {'boosting_type': 'gbdt', 'num_leaves': 879, 'max_depth': 7, 'learning_rate': 0.0019303828616618701, 'n_estimators': 4402, 'min_child_samples': 14, 'subsample': 0.3853293124238746, 'colsample_bytree': 0.39516939679579605, 'max_bin': 917, 'reg_alpha': 0.5089594408423297, 'reg_lambda': 2.7175329784049707e-08, 'min_split_gain': 0.4871807738773357}. Best is trial 53 with value: 38.9097518033814.\n",
      "[I 2025-02-02 23:07:03,942] Trial 57 finished with value: 38.91418164504543 and parameters: {'boosting_type': 'gbdt', 'num_leaves': 877, 'max_depth': 8, 'learning_rate': 0.0016693829155803195, 'n_estimators': 4221, 'min_child_samples': 13, 'subsample': 0.3643491580011132, 'colsample_bytree': 0.39853645220693756, 'max_bin': 912, 'reg_alpha': 0.649127393874628, 'reg_lambda': 3.197302682059292e-08, 'min_split_gain': 0.41479007185077926}. Best is trial 53 with value: 38.9097518033814.\n",
      "[I 2025-02-02 23:07:22,499] Trial 58 finished with value: 38.918570478534726 and parameters: {'boosting_type': 'gbdt', 'num_leaves': 904, 'max_depth': 5, 'learning_rate': 0.0004173315108237434, 'n_estimators': 4512, 'min_child_samples': 6, 'subsample': 0.29165456928549033, 'colsample_bytree': 0.3198557188232525, 'max_bin': 909, 'reg_alpha': 3.400488351019184, 'reg_lambda': 1.2740809670518016e-07, 'min_split_gain': 0.45052870593189065}. Best is trial 53 with value: 38.9097518033814.\n",
      "[I 2025-02-02 23:07:47,025] Trial 59 finished with value: 38.91320251862838 and parameters: {'boosting_type': 'gbdt', 'num_leaves': 807, 'max_depth': 7, 'learning_rate': 0.001129922570878601, 'n_estimators': 4899, 'min_child_samples': 22, 'subsample': 0.378833505064046, 'colsample_bytree': 0.3702163644968364, 'max_bin': 938, 'reg_alpha': 0.10354413726462441, 'reg_lambda': 1.0540421523437727e-08, 'min_split_gain': 0.522503504311685}. Best is trial 53 with value: 38.9097518033814.\n",
      "[I 2025-02-02 23:07:52,104] Trial 60 finished with value: 38.91735411126041 and parameters: {'boosting_type': 'gbdt', 'num_leaves': 975, 'max_depth': 6, 'learning_rate': 0.002139411868810315, 'n_estimators': 4078, 'min_child_samples': 35, 'subsample': 0.468760835578631, 'colsample_bytree': 0.9476900102331456, 'max_bin': 754, 'reg_alpha': 0.11099481323861923, 'reg_lambda': 4.523220647005611e-08, 'min_split_gain': 0.2880394402209609}. Best is trial 53 with value: 38.9097518033814.\n",
      "[I 2025-02-02 23:07:54,760] Trial 61 finished with value: 38.914314238195374 and parameters: {'boosting_type': 'gbdt', 'num_leaves': 839, 'max_depth': 7, 'learning_rate': 0.012643977508136325, 'n_estimators': 3428, 'min_child_samples': 13, 'subsample': 0.9547479772787264, 'colsample_bytree': 0.5388535469213873, 'max_bin': 998, 'reg_alpha': 0.5118417496839135, 'reg_lambda': 5.697360774923576e-07, 'min_split_gain': 0.5058395235345037}. Best is trial 53 with value: 38.9097518033814.\n",
      "[I 2025-02-02 23:09:50,746] Trial 62 finished with value: 38.920185474768715 and parameters: {'boosting_type': 'gbdt', 'num_leaves': 940, 'max_depth': 10, 'learning_rate': 0.00023401977337573273, 'n_estimators': 4491, 'min_child_samples': 18, 'subsample': 0.32587138430166745, 'colsample_bytree': 0.482450465731034, 'max_bin': 890, 'reg_alpha': 2.4366357418748854, 'reg_lambda': 0.07014315834020055, 'min_split_gain': 0.8191316440398053}. Best is trial 53 with value: 38.9097518033814.\n",
      "[I 2025-02-02 23:09:54,300] Trial 63 finished with value: 38.91543754001621 and parameters: {'boosting_type': 'gbdt', 'num_leaves': 883, 'max_depth': 8, 'learning_rate': 0.0075756923475145295, 'n_estimators': 4753, 'min_child_samples': 44, 'subsample': 0.44583396110196516, 'colsample_bytree': 0.4163794002055091, 'max_bin': 351, 'reg_alpha': 0.28527084820100934, 'reg_lambda': 1.0899333377269828e-07, 'min_split_gain': 0.7327648983255918}. Best is trial 53 with value: 38.9097518033814.\n",
      "[I 2025-02-02 23:09:58,711] Trial 64 finished with value: 38.915354438228476 and parameters: {'boosting_type': 'gbdt', 'num_leaves': 824, 'max_depth': 7, 'learning_rate': 0.006051398960354342, 'n_estimators': 4989, 'min_child_samples': 5, 'subsample': 0.3857700021864176, 'colsample_bytree': 0.3876539340652848, 'max_bin': 222, 'reg_alpha': 5.954271565513562, 'reg_lambda': 1.9933236879811424e-07, 'min_split_gain': 0.6589365300338617}. Best is trial 53 with value: 38.9097518033814.\n",
      "[I 2025-02-02 23:10:11,344] Trial 65 finished with value: 38.90758763745546 and parameters: {'boosting_type': 'gbdt', 'num_leaves': 739, 'max_depth': 4, 'learning_rate': 0.0019331482634003935, 'n_estimators': 3989, 'min_child_samples': 30, 'subsample': 0.7869297928339309, 'colsample_bytree': 0.2872839640593859, 'max_bin': 956, 'reg_alpha': 0.1391945180215831, 'reg_lambda': 0.012609081903713472, 'min_split_gain': 0.8641145959914407}. Best is trial 65 with value: 38.90758763745546.\n",
      "[I 2025-02-02 23:10:24,837] Trial 66 finished with value: 38.90758080312135 and parameters: {'boosting_type': 'gbdt', 'num_leaves': 741, 'max_depth': 4, 'learning_rate': 0.0017174455074896921, 'n_estimators': 4104, 'min_child_samples': 30, 'subsample': 0.7863587073330676, 'colsample_bytree': 0.2733299367467896, 'max_bin': 958, 'reg_alpha': 0.7039391079692093, 'reg_lambda': 0.01608982092893359, 'min_split_gain': 0.567530826556848}. Best is trial 66 with value: 38.90758080312135.\n",
      "[I 2025-02-02 23:10:38,352] Trial 67 finished with value: 38.90732987626953 and parameters: {'boosting_type': 'gbdt', 'num_leaves': 732, 'max_depth': 4, 'learning_rate': 0.0018096103770005143, 'n_estimators': 4081, 'min_child_samples': 30, 'subsample': 0.779817419913973, 'colsample_bytree': 0.28402907134995814, 'max_bin': 963, 'reg_alpha': 0.7099685001841306, 'reg_lambda': 0.013266898989046443, 'min_split_gain': 0.5937189498807798}. Best is trial 67 with value: 38.90732987626953.\n",
      "[I 2025-02-02 23:10:51,667] Trial 68 finished with value: 38.91270113291567 and parameters: {'boosting_type': 'gbdt', 'num_leaves': 716, 'max_depth': 4, 'learning_rate': 0.001111932800841194, 'n_estimators': 4065, 'min_child_samples': 186, 'subsample': 0.8583954378849499, 'colsample_bytree': 0.2741635209747592, 'max_bin': 950, 'reg_alpha': 0.8643924346992469, 'reg_lambda': 0.01301379145860618, 'min_split_gain': 0.4929962196142327}. Best is trial 67 with value: 38.90732987626953.\n",
      "[I 2025-02-02 23:11:07,677] Trial 69 finished with value: 38.907096858161914 and parameters: {'boosting_type': 'gbdt', 'num_leaves': 744, 'max_depth': 5, 'learning_rate': 0.0017969832643172272, 'n_estimators': 3405, 'min_child_samples': 32, 'subsample': 0.7871488635706017, 'colsample_bytree': 0.26819877345044224, 'max_bin': 969, 'reg_alpha': 1.8577815734358971, 'reg_lambda': 0.2848965120909181, 'min_split_gain': 0.6120562665429745}. Best is trial 69 with value: 38.907096858161914.\n",
      "[I 2025-02-02 23:11:22,656] Trial 70 finished with value: 38.915555239569734 and parameters: {'boosting_type': 'gbdt', 'num_leaves': 754, 'max_depth': 5, 'learning_rate': 0.000755442563099577, 'n_estimators': 3347, 'min_child_samples': 33, 'subsample': 0.7730790710248248, 'colsample_bytree': 0.26711179530954343, 'max_bin': 967, 'reg_alpha': 1.7434559313791795, 'reg_lambda': 0.17977634565155523, 'min_split_gain': 0.5712149660684976}. Best is trial 69 with value: 38.907096858161914.\n",
      "[I 2025-02-02 23:11:39,724] Trial 71 finished with value: 38.9091498311041 and parameters: {'boosting_type': 'gbdt', 'num_leaves': 749, 'max_depth': 4, 'learning_rate': 0.0014690770785847484, 'n_estimators': 3849, 'min_child_samples': 28, 'subsample': 0.7283913831177272, 'colsample_bytree': 0.2503346362345734, 'max_bin': 873, 'reg_alpha': 5.641546681703205, 'reg_lambda': 0.05138885309626439, 'min_split_gain': 0.6345425208933198}. Best is trial 69 with value: 38.907096858161914.\n",
      "[I 2025-02-02 23:11:45,640] Trial 72 finished with value: 38.91312990608948 and parameters: {'boosting_type': 'gbdt', 'num_leaves': 801, 'max_depth': 2, 'learning_rate': 0.003546878375599892, 'n_estimators': 3832, 'min_child_samples': 44, 'subsample': 0.7317993509145231, 'colsample_bytree': 0.2529864524555855, 'max_bin': 869, 'reg_alpha': 6.145710188382538, 'reg_lambda': 0.06057890995980672, 'min_split_gain': 0.6124841559706933}. Best is trial 69 with value: 38.907096858161914.\n",
      "[I 2025-02-02 23:11:57,620] Trial 73 finished with value: 38.90910302710602 and parameters: {'boosting_type': 'gbdt', 'num_leaves': 729, 'max_depth': 4, 'learning_rate': 0.001592687745494537, 'n_estimators': 3621, 'min_child_samples': 25, 'subsample': 0.7825652151819725, 'colsample_bytree': 0.31998094276212513, 'max_bin': 964, 'reg_alpha': 4.235934941637098, 'reg_lambda': 1.0826605020237794, 'min_split_gain': 0.566268504389689}. Best is trial 69 with value: 38.907096858161914.\n",
      "[I 2025-02-02 23:12:09,567] Trial 74 finished with value: 38.90593270240365 and parameters: {'boosting_type': 'gbdt', 'num_leaves': 745, 'max_depth': 4, 'learning_rate': 0.002252378229681982, 'n_estimators': 3595, 'min_child_samples': 27, 'subsample': 0.7880725130334694, 'colsample_bytree': 0.312252985868556, 'max_bin': 974, 'reg_alpha': 5.654588187688553, 'reg_lambda': 0.7114640793239042, 'min_split_gain': 0.5600213410079454}. Best is trial 74 with value: 38.90593270240365.\n",
      "[I 2025-02-02 23:12:19,652] Trial 75 finished with value: 38.9127080916516 and parameters: {'boosting_type': 'gbdt', 'num_leaves': 728, 'max_depth': 4, 'learning_rate': 0.001343224856061862, 'n_estimators': 3005, 'min_child_samples': 38, 'subsample': 0.7948989757951308, 'colsample_bytree': 0.2900454273378103, 'max_bin': 967, 'reg_alpha': 5.421465651021602, 'reg_lambda': 0.5222854914921162, 'min_split_gain': 0.574510105440297}. Best is trial 74 with value: 38.90593270240365.\n",
      "[I 2025-02-02 23:17:04,958] Trial 76 finished with value: 90.60233676111692 and parameters: {'boosting_type': 'dart', 'num_leaves': 679, 'max_depth': 4, 'learning_rate': 0.003573276232764219, 'n_estimators': 3591, 'min_child_samples': 26, 'subsample': 0.7052445577194276, 'colsample_bytree': 0.3173470989350282, 'max_bin': 942, 'reg_alpha': 2.040452739158477, 'reg_lambda': 1.9847070902903496, 'min_split_gain': 0.5569909766123956, 'drop_rate': 0.0888617221270408}. Best is trial 74 with value: 38.90593270240365.\n",
      "[I 2025-02-02 23:17:17,460] Trial 77 finished with value: 38.90637073828113 and parameters: {'boosting_type': 'gbdt', 'num_leaves': 735, 'max_depth': 5, 'learning_rate': 0.00249890338228088, 'n_estimators': 3360, 'min_child_samples': 30, 'subsample': 0.7503369391634984, 'colsample_bytree': 0.28069598006047225, 'max_bin': 883, 'reg_alpha': 4.152447366436505, 'reg_lambda': 0.21821333639818366, 'min_split_gain': 0.6325053402144577}. Best is trial 74 with value: 38.90593270240365.\n",
      "[I 2025-02-02 23:17:23,318] Trial 78 finished with value: 38.91411739399697 and parameters: {'boosting_type': 'gbdt', 'num_leaves': 729, 'max_depth': 2, 'learning_rate': 0.002493543295981929, 'n_estimators': 3239, 'min_child_samples': 60, 'subsample': 0.7367194055769962, 'colsample_bytree': 0.34967608150750934, 'max_bin': 871, 'reg_alpha': 3.881641332183738, 'reg_lambda': 0.17335901977440119, 'min_split_gain': 0.635541754357055}. Best is trial 74 with value: 38.90593270240365.\n",
      "[I 2025-02-02 23:17:35,676] Trial 79 finished with value: 38.90681628127972 and parameters: {'boosting_type': 'gbdt', 'num_leaves': 673, 'max_depth': 5, 'learning_rate': 0.0022492536649307707, 'n_estimators': 3711, 'min_child_samples': 31, 'subsample': 0.765436912937029, 'colsample_bytree': 0.28275079444648066, 'max_bin': 976, 'reg_alpha': 8.271394082855528, 'reg_lambda': 1.7626603519507615, 'min_split_gain': 0.673736434192666}. Best is trial 74 with value: 38.90593270240365.\n",
      "[I 2025-02-02 23:17:46,792] Trial 80 finished with value: 38.90789560820199 and parameters: {'boosting_type': 'gbdt', 'num_leaves': 686, 'max_depth': 5, 'learning_rate': 0.0025307077875675083, 'n_estimators': 2988, 'min_child_samples': 33, 'subsample': 0.7592455986800278, 'colsample_bytree': 0.28423790596307874, 'max_bin': 983, 'reg_alpha': 9.14268353417907, 'reg_lambda': 5.558867414823904, 'min_split_gain': 0.6810231402437588}. Best is trial 74 with value: 38.90593270240365.\n",
      "[I 2025-02-02 23:17:58,137] Trial 81 finished with value: 38.907211379591416 and parameters: {'boosting_type': 'gbdt', 'num_leaves': 668, 'max_depth': 5, 'learning_rate': 0.0023535367181394713, 'n_estimators': 2751, 'min_child_samples': 30, 'subsample': 0.798793625514138, 'colsample_bytree': 0.28399471301381707, 'max_bin': 973, 'reg_alpha': 1.2699487377983012, 'reg_lambda': 1.3419484617250872, 'min_split_gain': 0.6740364834757001}. Best is trial 74 with value: 38.90593270240365.\n",
      "[I 2025-02-02 23:18:08,005] Trial 82 finished with value: 38.90753477845195 and parameters: {'boosting_type': 'gbdt', 'num_leaves': 673, 'max_depth': 5, 'learning_rate': 0.002497659547262504, 'n_estimators': 2792, 'min_child_samples': 33, 'subsample': 0.7595549931628963, 'colsample_bytree': 0.2791496987803665, 'max_bin': 987, 'reg_alpha': 1.3682442393621495, 'reg_lambda': 4.631560267856183, 'min_split_gain': 0.6782956958496281}. Best is trial 74 with value: 38.90593270240365.\n",
      "[I 2025-02-02 23:18:14,743] Trial 83 finished with value: 38.910810543692406 and parameters: {'boosting_type': 'gbdt', 'num_leaves': 659, 'max_depth': 3, 'learning_rate': 0.0022713975874405793, 'n_estimators': 2775, 'min_child_samples': 44, 'subsample': 0.8010386543928002, 'colsample_bytree': 0.3027768925319006, 'max_bin': 938, 'reg_alpha': 1.0198914163362378, 'reg_lambda': 4.205916157826124, 'min_split_gain': 0.5946726688125762}. Best is trial 74 with value: 38.90593270240365.\n",
      "[I 2025-02-02 23:18:21,353] Trial 84 finished with value: 38.910777473750684 and parameters: {'boosting_type': 'gbdt', 'num_leaves': 702, 'max_depth': 5, 'learning_rate': 0.0041621797398223815, 'n_estimators': 2690, 'min_child_samples': 110, 'subsample': 0.8418621051824727, 'colsample_bytree': 0.33936666806027693, 'max_bin': 997, 'reg_alpha': 1.5446153118655703, 'reg_lambda': 0.388368384308598, 'min_split_gain': 0.6729637171832931}. Best is trial 74 with value: 38.90593270240365.\n",
      "[I 2025-02-02 23:18:27,478] Trial 85 finished with value: 38.90847350196492 and parameters: {'boosting_type': 'gbdt', 'num_leaves': 666, 'max_depth': 5, 'learning_rate': 0.005761953413851362, 'n_estimators': 3719, 'min_child_samples': 125, 'subsample': 0.8247552377099777, 'colsample_bytree': 0.2738705087459373, 'max_bin': 972, 'reg_alpha': 0.15610414943622242, 'reg_lambda': 1.4606639256053466, 'min_split_gain': 0.5401425078546356}. Best is trial 74 with value: 38.90593270240365.\n",
      "[I 2025-02-02 23:18:35,997] Trial 86 finished with value: 38.91415659813231 and parameters: {'boosting_type': 'gbdt', 'num_leaves': 645, 'max_depth': 3, 'learning_rate': 0.0010903501798256293, 'n_estimators': 3432, 'min_child_samples': 50, 'subsample': 0.7701500269678886, 'colsample_bytree': 0.28165786548145383, 'max_bin': 941, 'reg_alpha': 2.3196700652469615, 'reg_lambda': 3.739404283569935, 'min_split_gain': 0.6127127706726313}. Best is trial 74 with value: 38.90593270240365.\n",
      "[I 2025-02-02 23:18:40,432] Trial 87 finished with value: 38.916675230705046 and parameters: {'boosting_type': 'gbdt', 'num_leaves': 690, 'max_depth': 1, 'learning_rate': 0.002983479951028207, 'n_estimators': 3125, 'min_child_samples': 30, 'subsample': 0.6835635452540817, 'colsample_bytree': 0.3116797305327538, 'max_bin': 840, 'reg_alpha': 2.820856284907292, 'reg_lambda': 0.0034490449867629947, 'min_split_gain': 0.6301716785032261}. Best is trial 74 with value: 38.90593270240365.\n",
      "[I 2025-02-02 23:23:00,571] Trial 88 finished with value: 51.95914608079481 and parameters: {'boosting_type': 'dart', 'num_leaves': 789, 'max_depth': 5, 'learning_rate': 0.0037265311131237833, 'n_estimators': 2858, 'min_child_samples': 58, 'subsample': 0.8688977510617648, 'colsample_bytree': 0.33622092456778074, 'max_bin': 883, 'reg_alpha': 1.0299597181092293, 'reg_lambda': 0.2729347169008035, 'min_split_gain': 0.6656761892260004, 'drop_rate': 0.2305581159070873}. Best is trial 74 with value: 38.90593270240365.\n",
      "[I 2025-02-02 23:23:10,317] Trial 89 finished with value: 38.90759077426958 and parameters: {'boosting_type': 'gbdt', 'num_leaves': 743, 'max_depth': 3, 'learning_rate': 0.0030967395181200324, 'n_estimators': 3982, 'min_child_samples': 23, 'subsample': 0.7529263634619132, 'colsample_bytree': 0.26718543272203477, 'max_bin': 930, 'reg_alpha': 8.50595123392231, 'reg_lambda': 0.016592582925770472, 'min_split_gain': 0.5838831493712222}. Best is trial 74 with value: 38.90593270240365.\n",
      "[I 2025-02-02 23:23:24,682] Trial 90 finished with value: 38.91377718298451 and parameters: {'boosting_type': 'gbdt', 'num_leaves': 711, 'max_depth': 6, 'learning_rate': 0.0018857163242704477, 'n_estimators': 2453, 'min_child_samples': 65, 'subsample': 0.8086885665479611, 'colsample_bytree': 0.363371741715926, 'max_bin': 971, 'reg_alpha': 1.4129899484607114, 'reg_lambda': 9.298813531283628, 'min_split_gain': 0.6097313374247672}. Best is trial 74 with value: 38.90593270240365.\n",
      "[I 2025-02-02 23:23:31,620] Trial 91 finished with value: 38.90868979891255 and parameters: {'boosting_type': 'gbdt', 'num_leaves': 740, 'max_depth': 3, 'learning_rate': 0.0031972193240583906, 'n_estimators': 3988, 'min_child_samples': 23, 'subsample': 0.7441006460889483, 'colsample_bytree': 0.2660431603149519, 'max_bin': 929, 'reg_alpha': 8.133670759104138, 'reg_lambda': 0.020084331086472243, 'min_split_gain': 0.5890889695548118}. Best is trial 74 with value: 38.90593270240365.\n",
      "[I 2025-02-02 23:23:54,619] Trial 92 finished with value: 38.915051161101445 and parameters: {'boosting_type': 'gbdt', 'num_leaves': 678, 'max_depth': 13, 'learning_rate': 0.002327057045821966, 'n_estimators': 3956, 'min_child_samples': 34, 'subsample': 0.756732269069783, 'colsample_bytree': 0.29415490582468107, 'max_bin': 954, 'reg_alpha': 3.3884758923555105, 'reg_lambda': 0.6527621504691303, 'min_split_gain': 0.523242066362889}. Best is trial 74 with value: 38.90593270240365.\n",
      "[I 2025-02-02 23:24:00,611] Trial 93 finished with value: 38.91720464306265 and parameters: {'boosting_type': 'gbdt', 'num_leaves': 643, 'max_depth': 2, 'learning_rate': 0.001231722739456949, 'n_estimators': 3257, 'min_child_samples': 21, 'subsample': 0.706838700528085, 'colsample_bytree': 0.3068117645015468, 'max_bin': 995, 'reg_alpha': 0.7988764077952684, 'reg_lambda': 0.1417580895646495, 'min_split_gain': 0.5480687217531717}. Best is trial 74 with value: 38.90593270240365.\n",
      "[I 2025-02-02 23:24:09,865] Trial 94 finished with value: 38.918792423968405 and parameters: {'boosting_type': 'gbdt', 'num_leaves': 765, 'max_depth': 3, 'learning_rate': 0.0006370706605099161, 'n_estimators': 3750, 'min_child_samples': 40, 'subsample': 0.7912408462937788, 'colsample_bytree': 0.26464234249278556, 'max_bin': 893, 'reg_alpha': 2.1113346757579428, 'reg_lambda': 0.000599395398882771, 'min_split_gain': 0.459817673836043}. Best is trial 74 with value: 38.90593270240365.\n",
      "[I 2025-02-02 23:24:15,822] Trial 95 finished with value: 38.90544983717011 and parameters: {'boosting_type': 'gbdt', 'num_leaves': 700, 'max_depth': 5, 'learning_rate': 0.005068033605839494, 'n_estimators': 3441, 'min_child_samples': 30, 'subsample': 0.8453813742814906, 'colsample_bytree': 0.3323979004842727, 'max_bin': 926, 'reg_alpha': 4.723607053959506, 'reg_lambda': 2.456838041490431, 'min_split_gain': 0.650489645757472}. Best is trial 95 with value: 38.90544983717011.\n",
      "[I 2025-02-02 23:24:22,655] Trial 96 finished with value: 38.906648958680314 and parameters: {'boosting_type': 'gbdt', 'num_leaves': 700, 'max_depth': 5, 'learning_rate': 0.00496491520075385, 'n_estimators': 3414, 'min_child_samples': 47, 'subsample': 0.8469835879977886, 'colsample_bytree': 0.3290980622136406, 'max_bin': 976, 'reg_alpha': 0.25735583026516057, 'reg_lambda': 2.589488388482994, 'min_split_gain': 0.698738026117993}. Best is trial 95 with value: 38.90544983717011.\n",
      "[I 2025-02-02 23:24:27,850] Trial 97 finished with value: 38.912681011964416 and parameters: {'boosting_type': 'gbdt', 'num_leaves': 665, 'max_depth': 6, 'learning_rate': 0.0050338736396527235, 'n_estimators': 3379, 'min_child_samples': 49, 'subsample': 0.8853886225877432, 'colsample_bytree': 0.3523138480575434, 'max_bin': 856, 'reg_alpha': 0.24394626248075052, 'reg_lambda': 2.3717779193423456, 'min_split_gain': 0.6997399082089868}. Best is trial 95 with value: 38.90544983717011.\n",
      "[I 2025-02-02 23:24:31,027] Trial 98 finished with value: 38.905666053406335 and parameters: {'boosting_type': 'gbdt', 'num_leaves': 705, 'max_depth': 5, 'learning_rate': 0.010603219695720537, 'n_estimators': 2565, 'min_child_samples': 37, 'subsample': 0.9063025615857419, 'colsample_bytree': 0.3322992215031262, 'max_bin': 819, 'reg_alpha': 1.2510345446729882, 'reg_lambda': 1.1649121214242006, 'min_split_gain': 0.6450731559789553}. Best is trial 95 with value: 38.90544983717011.\n",
      "[I 2025-02-02 23:24:35,744] Trial 99 finished with value: 38.90570175793101 and parameters: {'boosting_type': 'gbdt', 'num_leaves': 698, 'max_depth': 5, 'learning_rate': 0.007422002782228729, 'n_estimators': 2602, 'min_child_samples': 36, 'subsample': 0.8508535419051511, 'colsample_bytree': 0.3404972039257956, 'max_bin': 799, 'reg_alpha': 4.132585368157742, 'reg_lambda': 1.1518690068628907, 'min_split_gain': 0.6586665196022111}. Best is trial 95 with value: 38.90544983717011.\n"
     ]
    }
   ],
   "source": [
    "def objective(trial):    \n",
    "    # Define the hyperparameter search space\n",
    "    param = {\n",
    "        'objective': 'regression',\n",
    "        'metric': 'rmse',\n",
    "        # 'boosting_type': boosting_type,\n",
    "        'num_leaves': trial.suggest_int('num_leaves', 200, 1000),\n",
    "        'max_depth': trial.suggest_int('max_depth', 1, 20),\n",
    "        'learning_rate': trial.suggest_loguniform('learning_rate', 1e-4, 0.5),\n",
    "        'n_estimators': trial.suggest_int('n_estimators', 50, 5000),\n",
    "        'min_child_samples': trial.suggest_int('min_child_samples', 5, 200),\n",
    "        'subsample': trial.suggest_float('subsample', 0.25, 1.0),\n",
    "        'colsample_bytree': trial.suggest_float('colsample_bytree', 0.25, 1.0),\n",
    "        'max_bin': trial.suggest_int('max_bin', 50, 1000),\n",
    "        'reg_alpha': trial.suggest_loguniform('reg_alpha', 1e-8, 10.0),\n",
    "        'reg_lambda': trial.suggest_loguniform('reg_lambda', 1e-8, 10.0),\n",
    "        'min_split_gain': trial.suggest_float('min_split_gain', 0.1, 1.0),\n",
    "        'random_state': 42,\n",
    "        'early_stopping_rounds': 50,\n",
    "        'verbosity': -1,\n",
    "    }\n",
    "    \n",
    "    # For the DART boosting type, include dart‑specific parameters.\n",
    "\n",
    "    train_data = lgb.Dataset(X_train, label=y_train)\n",
    "    valid_data = lgb.Dataset(X_valid, label=y_valid, reference=train_data)\n",
    "    \n",
    "    # Initialize the model with these parameters\n",
    "    model = lgb.train(param, train_data, num_boost_round=100, valid_sets=[valid_data])\n",
    "    y_pred = model.predict(X_valid, num_iteration=model.best_iteration)\n",
    "    rmse = np.sqrt(mean_squared_error(y_valid, y_pred))    \n",
    "    return rmse\n",
    "\n",
    "\n",
    "study_1 = optuna.create_study(direction='minimize')\n",
    "study_1.optimize(objective, n_trials=100)"
   ]
  },
  {
   "cell_type": "code",
   "execution_count": 13,
   "metadata": {},
   "outputs": [
    {
     "data": {
      "text/html": [
       "<div>\n",
       "<style scoped>\n",
       "    .dataframe tbody tr th:only-of-type {\n",
       "        vertical-align: middle;\n",
       "    }\n",
       "\n",
       "    .dataframe tbody tr th {\n",
       "        vertical-align: top;\n",
       "    }\n",
       "\n",
       "    .dataframe thead th {\n",
       "        text-align: right;\n",
       "    }\n",
       "</style>\n",
       "<table border=\"1\" class=\"dataframe\">\n",
       "  <thead>\n",
       "    <tr style=\"text-align: right;\">\n",
       "      <th></th>\n",
       "      <th>number</th>\n",
       "      <th>value</th>\n",
       "      <th>datetime_start</th>\n",
       "      <th>datetime_complete</th>\n",
       "      <th>duration</th>\n",
       "      <th>params_boosting_type</th>\n",
       "      <th>params_colsample_bytree</th>\n",
       "      <th>params_drop_rate</th>\n",
       "      <th>params_learning_rate</th>\n",
       "      <th>params_max_bin</th>\n",
       "      <th>params_max_depth</th>\n",
       "      <th>params_min_child_samples</th>\n",
       "      <th>params_min_split_gain</th>\n",
       "      <th>params_n_estimators</th>\n",
       "      <th>params_num_leaves</th>\n",
       "      <th>params_reg_alpha</th>\n",
       "      <th>params_reg_lambda</th>\n",
       "      <th>params_subsample</th>\n",
       "      <th>state</th>\n",
       "    </tr>\n",
       "  </thead>\n",
       "  <tbody>\n",
       "    <tr>\n",
       "      <th>95</th>\n",
       "      <td>95</td>\n",
       "      <td>38.905450</td>\n",
       "      <td>2025-02-02 23:24:09.866394</td>\n",
       "      <td>2025-02-02 23:24:15.822479</td>\n",
       "      <td>0 days 00:00:05.956085</td>\n",
       "      <td>gbdt</td>\n",
       "      <td>0.332398</td>\n",
       "      <td>NaN</td>\n",
       "      <td>0.005068</td>\n",
       "      <td>926</td>\n",
       "      <td>5</td>\n",
       "      <td>30</td>\n",
       "      <td>0.650490</td>\n",
       "      <td>3441</td>\n",
       "      <td>700</td>\n",
       "      <td>4.723607</td>\n",
       "      <td>2.456838e+00</td>\n",
       "      <td>0.845381</td>\n",
       "      <td>COMPLETE</td>\n",
       "    </tr>\n",
       "    <tr>\n",
       "      <th>98</th>\n",
       "      <td>98</td>\n",
       "      <td>38.905666</td>\n",
       "      <td>2025-02-02 23:24:27.850445</td>\n",
       "      <td>2025-02-02 23:24:31.026854</td>\n",
       "      <td>0 days 00:00:03.176409</td>\n",
       "      <td>gbdt</td>\n",
       "      <td>0.332299</td>\n",
       "      <td>NaN</td>\n",
       "      <td>0.010603</td>\n",
       "      <td>819</td>\n",
       "      <td>5</td>\n",
       "      <td>37</td>\n",
       "      <td>0.645073</td>\n",
       "      <td>2565</td>\n",
       "      <td>705</td>\n",
       "      <td>1.251035</td>\n",
       "      <td>1.164912e+00</td>\n",
       "      <td>0.906303</td>\n",
       "      <td>COMPLETE</td>\n",
       "    </tr>\n",
       "    <tr>\n",
       "      <th>99</th>\n",
       "      <td>99</td>\n",
       "      <td>38.905702</td>\n",
       "      <td>2025-02-02 23:24:31.027556</td>\n",
       "      <td>2025-02-02 23:24:35.744511</td>\n",
       "      <td>0 days 00:00:04.716955</td>\n",
       "      <td>gbdt</td>\n",
       "      <td>0.340497</td>\n",
       "      <td>NaN</td>\n",
       "      <td>0.007422</td>\n",
       "      <td>799</td>\n",
       "      <td>5</td>\n",
       "      <td>36</td>\n",
       "      <td>0.658667</td>\n",
       "      <td>2602</td>\n",
       "      <td>698</td>\n",
       "      <td>4.132585</td>\n",
       "      <td>1.151869e+00</td>\n",
       "      <td>0.850854</td>\n",
       "      <td>COMPLETE</td>\n",
       "    </tr>\n",
       "    <tr>\n",
       "      <th>74</th>\n",
       "      <td>74</td>\n",
       "      <td>38.905933</td>\n",
       "      <td>2025-02-02 23:11:57.621138</td>\n",
       "      <td>2025-02-02 23:12:09.566929</td>\n",
       "      <td>0 days 00:00:11.945791</td>\n",
       "      <td>gbdt</td>\n",
       "      <td>0.312253</td>\n",
       "      <td>NaN</td>\n",
       "      <td>0.002252</td>\n",
       "      <td>974</td>\n",
       "      <td>4</td>\n",
       "      <td>27</td>\n",
       "      <td>0.560021</td>\n",
       "      <td>3595</td>\n",
       "      <td>745</td>\n",
       "      <td>5.654588</td>\n",
       "      <td>7.114641e-01</td>\n",
       "      <td>0.788073</td>\n",
       "      <td>COMPLETE</td>\n",
       "    </tr>\n",
       "    <tr>\n",
       "      <th>77</th>\n",
       "      <td>77</td>\n",
       "      <td>38.906371</td>\n",
       "      <td>2025-02-02 23:17:04.959326</td>\n",
       "      <td>2025-02-02 23:17:17.460252</td>\n",
       "      <td>0 days 00:00:12.500926</td>\n",
       "      <td>gbdt</td>\n",
       "      <td>0.280696</td>\n",
       "      <td>NaN</td>\n",
       "      <td>0.002499</td>\n",
       "      <td>883</td>\n",
       "      <td>5</td>\n",
       "      <td>30</td>\n",
       "      <td>0.632505</td>\n",
       "      <td>3360</td>\n",
       "      <td>735</td>\n",
       "      <td>4.152447</td>\n",
       "      <td>2.182133e-01</td>\n",
       "      <td>0.750337</td>\n",
       "      <td>COMPLETE</td>\n",
       "    </tr>\n",
       "    <tr>\n",
       "      <th>...</th>\n",
       "      <td>...</td>\n",
       "      <td>...</td>\n",
       "      <td>...</td>\n",
       "      <td>...</td>\n",
       "      <td>...</td>\n",
       "      <td>...</td>\n",
       "      <td>...</td>\n",
       "      <td>...</td>\n",
       "      <td>...</td>\n",
       "      <td>...</td>\n",
       "      <td>...</td>\n",
       "      <td>...</td>\n",
       "      <td>...</td>\n",
       "      <td>...</td>\n",
       "      <td>...</td>\n",
       "      <td>...</td>\n",
       "      <td>...</td>\n",
       "      <td>...</td>\n",
       "      <td>...</td>\n",
       "    </tr>\n",
       "    <tr>\n",
       "      <th>6</th>\n",
       "      <td>6</td>\n",
       "      <td>53.032265</td>\n",
       "      <td>2025-02-02 22:29:47.879299</td>\n",
       "      <td>2025-02-02 22:36:53.092748</td>\n",
       "      <td>0 days 00:07:05.213449</td>\n",
       "      <td>dart</td>\n",
       "      <td>0.995450</td>\n",
       "      <td>0.442523</td>\n",
       "      <td>0.001402</td>\n",
       "      <td>162</td>\n",
       "      <td>10</td>\n",
       "      <td>195</td>\n",
       "      <td>0.688799</td>\n",
       "      <td>1812</td>\n",
       "      <td>247</td>\n",
       "      <td>0.008998</td>\n",
       "      <td>7.218142e-06</td>\n",
       "      <td>0.722218</td>\n",
       "      <td>COMPLETE</td>\n",
       "    </tr>\n",
       "    <tr>\n",
       "      <th>1</th>\n",
       "      <td>1</td>\n",
       "      <td>54.868262</td>\n",
       "      <td>2025-02-02 22:01:37.643474</td>\n",
       "      <td>2025-02-02 22:03:00.806160</td>\n",
       "      <td>0 days 00:01:23.162686</td>\n",
       "      <td>dart</td>\n",
       "      <td>0.813550</td>\n",
       "      <td>0.289182</td>\n",
       "      <td>0.001735</td>\n",
       "      <td>109</td>\n",
       "      <td>3</td>\n",
       "      <td>116</td>\n",
       "      <td>0.745261</td>\n",
       "      <td>1426</td>\n",
       "      <td>640</td>\n",
       "      <td>0.007101</td>\n",
       "      <td>5.889920e-08</td>\n",
       "      <td>0.384319</td>\n",
       "      <td>COMPLETE</td>\n",
       "    </tr>\n",
       "    <tr>\n",
       "      <th>39</th>\n",
       "      <td>39</td>\n",
       "      <td>69.640643</td>\n",
       "      <td>2025-02-02 22:49:05.528314</td>\n",
       "      <td>2025-02-02 22:52:46.171398</td>\n",
       "      <td>0 days 00:03:40.643084</td>\n",
       "      <td>dart</td>\n",
       "      <td>0.303269</td>\n",
       "      <td>0.384219</td>\n",
       "      <td>0.000694</td>\n",
       "      <td>192</td>\n",
       "      <td>10</td>\n",
       "      <td>34</td>\n",
       "      <td>0.884639</td>\n",
       "      <td>1271</td>\n",
       "      <td>500</td>\n",
       "      <td>0.000488</td>\n",
       "      <td>5.689784e-06</td>\n",
       "      <td>0.630937</td>\n",
       "      <td>COMPLETE</td>\n",
       "    </tr>\n",
       "    <tr>\n",
       "      <th>76</th>\n",
       "      <td>76</td>\n",
       "      <td>90.602337</td>\n",
       "      <td>2025-02-02 23:12:19.653034</td>\n",
       "      <td>2025-02-02 23:17:04.958682</td>\n",
       "      <td>0 days 00:04:45.305648</td>\n",
       "      <td>dart</td>\n",
       "      <td>0.317347</td>\n",
       "      <td>0.088862</td>\n",
       "      <td>0.003573</td>\n",
       "      <td>942</td>\n",
       "      <td>4</td>\n",
       "      <td>26</td>\n",
       "      <td>0.556991</td>\n",
       "      <td>3591</td>\n",
       "      <td>679</td>\n",
       "      <td>2.040453</td>\n",
       "      <td>1.984707e+00</td>\n",
       "      <td>0.705245</td>\n",
       "      <td>COMPLETE</td>\n",
       "    </tr>\n",
       "    <tr>\n",
       "      <th>8</th>\n",
       "      <td>8</td>\n",
       "      <td>123.055026</td>\n",
       "      <td>2025-02-02 22:41:59.631466</td>\n",
       "      <td>2025-02-02 22:42:01.580993</td>\n",
       "      <td>0 days 00:00:01.949527</td>\n",
       "      <td>dart</td>\n",
       "      <td>0.596770</td>\n",
       "      <td>0.159422</td>\n",
       "      <td>0.005407</td>\n",
       "      <td>706</td>\n",
       "      <td>15</td>\n",
       "      <td>75</td>\n",
       "      <td>0.327760</td>\n",
       "      <td>62</td>\n",
       "      <td>364</td>\n",
       "      <td>0.000027</td>\n",
       "      <td>2.393888e+00</td>\n",
       "      <td>0.896802</td>\n",
       "      <td>COMPLETE</td>\n",
       "    </tr>\n",
       "  </tbody>\n",
       "</table>\n",
       "<p>100 rows × 19 columns</p>\n",
       "</div>"
      ],
      "text/plain": [
       "    number       value             datetime_start          datetime_complete  \\\n",
       "95      95   38.905450 2025-02-02 23:24:09.866394 2025-02-02 23:24:15.822479   \n",
       "98      98   38.905666 2025-02-02 23:24:27.850445 2025-02-02 23:24:31.026854   \n",
       "99      99   38.905702 2025-02-02 23:24:31.027556 2025-02-02 23:24:35.744511   \n",
       "74      74   38.905933 2025-02-02 23:11:57.621138 2025-02-02 23:12:09.566929   \n",
       "77      77   38.906371 2025-02-02 23:17:04.959326 2025-02-02 23:17:17.460252   \n",
       "..     ...         ...                        ...                        ...   \n",
       "6        6   53.032265 2025-02-02 22:29:47.879299 2025-02-02 22:36:53.092748   \n",
       "1        1   54.868262 2025-02-02 22:01:37.643474 2025-02-02 22:03:00.806160   \n",
       "39      39   69.640643 2025-02-02 22:49:05.528314 2025-02-02 22:52:46.171398   \n",
       "76      76   90.602337 2025-02-02 23:12:19.653034 2025-02-02 23:17:04.958682   \n",
       "8        8  123.055026 2025-02-02 22:41:59.631466 2025-02-02 22:42:01.580993   \n",
       "\n",
       "                 duration params_boosting_type  params_colsample_bytree  \\\n",
       "95 0 days 00:00:05.956085                 gbdt                 0.332398   \n",
       "98 0 days 00:00:03.176409                 gbdt                 0.332299   \n",
       "99 0 days 00:00:04.716955                 gbdt                 0.340497   \n",
       "74 0 days 00:00:11.945791                 gbdt                 0.312253   \n",
       "77 0 days 00:00:12.500926                 gbdt                 0.280696   \n",
       "..                    ...                  ...                      ...   \n",
       "6  0 days 00:07:05.213449                 dart                 0.995450   \n",
       "1  0 days 00:01:23.162686                 dart                 0.813550   \n",
       "39 0 days 00:03:40.643084                 dart                 0.303269   \n",
       "76 0 days 00:04:45.305648                 dart                 0.317347   \n",
       "8  0 days 00:00:01.949527                 dart                 0.596770   \n",
       "\n",
       "    params_drop_rate  params_learning_rate  params_max_bin  params_max_depth  \\\n",
       "95               NaN              0.005068             926                 5   \n",
       "98               NaN              0.010603             819                 5   \n",
       "99               NaN              0.007422             799                 5   \n",
       "74               NaN              0.002252             974                 4   \n",
       "77               NaN              0.002499             883                 5   \n",
       "..               ...                   ...             ...               ...   \n",
       "6           0.442523              0.001402             162                10   \n",
       "1           0.289182              0.001735             109                 3   \n",
       "39          0.384219              0.000694             192                10   \n",
       "76          0.088862              0.003573             942                 4   \n",
       "8           0.159422              0.005407             706                15   \n",
       "\n",
       "    params_min_child_samples  params_min_split_gain  params_n_estimators  \\\n",
       "95                        30               0.650490                 3441   \n",
       "98                        37               0.645073                 2565   \n",
       "99                        36               0.658667                 2602   \n",
       "74                        27               0.560021                 3595   \n",
       "77                        30               0.632505                 3360   \n",
       "..                       ...                    ...                  ...   \n",
       "6                        195               0.688799                 1812   \n",
       "1                        116               0.745261                 1426   \n",
       "39                        34               0.884639                 1271   \n",
       "76                        26               0.556991                 3591   \n",
       "8                         75               0.327760                   62   \n",
       "\n",
       "    params_num_leaves  params_reg_alpha  params_reg_lambda  params_subsample  \\\n",
       "95                700          4.723607       2.456838e+00          0.845381   \n",
       "98                705          1.251035       1.164912e+00          0.906303   \n",
       "99                698          4.132585       1.151869e+00          0.850854   \n",
       "74                745          5.654588       7.114641e-01          0.788073   \n",
       "77                735          4.152447       2.182133e-01          0.750337   \n",
       "..                ...               ...                ...               ...   \n",
       "6                 247          0.008998       7.218142e-06          0.722218   \n",
       "1                 640          0.007101       5.889920e-08          0.384319   \n",
       "39                500          0.000488       5.689784e-06          0.630937   \n",
       "76                679          2.040453       1.984707e+00          0.705245   \n",
       "8                 364          0.000027       2.393888e+00          0.896802   \n",
       "\n",
       "       state  \n",
       "95  COMPLETE  \n",
       "98  COMPLETE  \n",
       "99  COMPLETE  \n",
       "74  COMPLETE  \n",
       "77  COMPLETE  \n",
       "..       ...  \n",
       "6   COMPLETE  \n",
       "1   COMPLETE  \n",
       "39  COMPLETE  \n",
       "76  COMPLETE  \n",
       "8   COMPLETE  \n",
       "\n",
       "[100 rows x 19 columns]"
      ]
     },
     "execution_count": 13,
     "metadata": {},
     "output_type": "execute_result"
    }
   ],
   "source": [
    "study_1.trials_dataframe().sort_values(by='value')"
   ]
  },
  {
   "cell_type": "code",
   "execution_count": null,
   "metadata": {},
   "outputs": [
    {
     "data": {
      "text/plain": [
       "Index(['id', 'Brand', 'Material', 'Size', 'Compartments', 'Laptop Compartment',\n",
       "       'Waterproof', 'Style', 'Color', 'Weight Capacity (kg)', 'Price'],\n",
       "      dtype='object')"
      ]
     },
     "metadata": {},
     "output_type": "display_data"
    }
   ],
   "source": [
    "print(\"Best trial:\")\n",
    "best_trial = study_1.best_trial\n",
    "print(\"  RMSE: {:.4f}\".format(best_trial.value))\n",
    "print(\"  Best hyperparameters:\")\n",
    "for key, value in best_trial.params.items():\n",
    "    print(\"    {}: {}\".format(key, value))"
   ]
  }
 ],
 "metadata": {
  "kernelspec": {
   "display_name": "py311",
   "language": "python",
   "name": "python3"
  },
  "language_info": {
   "codemirror_mode": {
    "name": "ipython",
    "version": 3
   },
   "file_extension": ".py",
   "mimetype": "text/x-python",
   "name": "python",
   "nbconvert_exporter": "python",
   "pygments_lexer": "ipython3",
   "version": "3.11.10"
  }
 },
 "nbformat": 4,
 "nbformat_minor": 2
}
