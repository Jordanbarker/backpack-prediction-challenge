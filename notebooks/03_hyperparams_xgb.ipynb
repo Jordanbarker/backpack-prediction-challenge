{
 "cells": [
  {
   "cell_type": "code",
   "execution_count": 1,
   "metadata": {},
   "outputs": [],
   "source": [
    "from datetime import datetime\n",
    "import logging\n",
    "import sys\n",
    "import os\n",
    "import pandas as pd \n",
    "import numpy as np\n",
    "import seaborn as sns\n",
    "import matplotlib.pyplot as plt\n",
    "from sklearn.metrics import mean_squared_error\n",
    "from sklearn.model_selection import KFold\n",
    "from sklearn.model_selection import train_test_split, cross_val_score\n",
    "import xgboost as xgb\n",
    "import optuna\n",
    "from optuna.integration import XGBoostPruningCallback\n",
    "\n",
    "import warnings\n",
    "warnings.filterwarnings('ignore')\n",
    "\n",
    "optuna_dir = \"..//optuna\"\n",
    "folder_dir = \"//xgb\"\n",
    "\n",
    "test_df = pd.read_csv(r'..//data//test.csv')\n",
    "train_df = pd.read_csv(r'..//data//train.csv')\n",
    "train_extra_df = pd.read_csv(r'..//data//training_extra.csv')\n",
    "\n",
    "train_df = pd.concat([train_df, train_extra_df], ignore_index=True)\n",
    "\n",
    "train_df.columns = [\n",
    "    'id', 'brand', 'material', 'size', 'compartments', \n",
    "    'laptop_compartment', 'is_waterproof', 'style', 'color', \n",
    "    'weight_capacity', 'price'\n",
    "]\n",
    "test_df.columns = [\n",
    "    'id', 'brand', 'material', 'size', 'compartments', \n",
    "    'laptop_compartment', 'is_waterproof', 'style', 'color', \n",
    "    'weight_capacity',\n",
    "]\n",
    "\n",
    "cat_cols = train_df.select_dtypes(include=['object', 'category']).columns.tolist()\n",
    "\n",
    "# Convert all to be the same type\n",
    "train_df[cat_cols] = train_df[cat_cols].astype('category')\n",
    "test_df[cat_cols] = test_df[cat_cols].astype('category')\n",
    "\n",
    "target = \"price\"\n",
    "X = train_df.drop(columns=[target])\n",
    "y = train_df[target]\n",
    "\n",
    "# Only keeping important columns\n",
    "model_features = [\n",
    "    'weight_capacity', 'color', 'compartments', 'brand', 'material', 'is_waterproof'\n",
    "]\n",
    "X = X[model_features]\n",
    "\n",
    "X_train, X_valid, y_train, y_valid = train_test_split(X, y, test_size=0.2, random_state=42)"
   ]
  },
  {
   "cell_type": "code",
   "execution_count": 8,
   "metadata": {},
   "outputs": [
    {
     "name": "stderr",
     "output_type": "stream",
     "text": [
      "[I 2025-02-05 20:46:02,205] A new study created in RDB with name: 2025-02-05_20-46\n"
     ]
    },
    {
     "name": "stdout",
     "output_type": "stream",
     "text": [
      "A new study created in RDB with name: 2025-02-05_20-46\n",
      "A new study created in RDB with name: 2025-02-05_20-46\n",
      "A new study created in RDB with name: 2025-02-05_20-46\n",
      "A new study created in RDB with name: 2025-02-05_20-46\n",
      "A new study created in RDB with name: 2025-02-05_20-46\n",
      "A new study created in RDB with name: 2025-02-05_20-46\n",
      "A new study created in RDB with name: 2025-02-05_20-46\n"
     ]
    },
    {
     "name": "stderr",
     "output_type": "stream",
     "text": [
      "[I 2025-02-05 20:46:58,119] Trial 0 finished with value: 38.874651392883635 and parameters: {'colsample_bytree': 0.30368609920096834, 'learning_rate': 0.020787806406362644, 'min_child_weight': 7, 'gamma': 0.3923739691441668, 'subsample': 0.23088715928463702, 'reg_alpha': 0.8667906624916685, 'reg_lambda': 1.902405231538214e-06}. Best is trial 0 with value: 38.874651392883635.\n"
     ]
    },
    {
     "name": "stdout",
     "output_type": "stream",
     "text": [
      "Trial 0 finished with value: 38.874651392883635 and parameters: {'colsample_bytree': 0.30368609920096834, 'learning_rate': 0.020787806406362644, 'min_child_weight': 7, 'gamma': 0.3923739691441668, 'subsample': 0.23088715928463702, 'reg_alpha': 0.8667906624916685, 'reg_lambda': 1.902405231538214e-06}. Best is trial 0 with value: 38.874651392883635.\n",
      "Trial 0 finished with value: 38.874651392883635 and parameters: {'colsample_bytree': 0.30368609920096834, 'learning_rate': 0.020787806406362644, 'min_child_weight': 7, 'gamma': 0.3923739691441668, 'subsample': 0.23088715928463702, 'reg_alpha': 0.8667906624916685, 'reg_lambda': 1.902405231538214e-06}. Best is trial 0 with value: 38.874651392883635.\n",
      "Trial 0 finished with value: 38.874651392883635 and parameters: {'colsample_bytree': 0.30368609920096834, 'learning_rate': 0.020787806406362644, 'min_child_weight': 7, 'gamma': 0.3923739691441668, 'subsample': 0.23088715928463702, 'reg_alpha': 0.8667906624916685, 'reg_lambda': 1.902405231538214e-06}. Best is trial 0 with value: 38.874651392883635.\n",
      "Trial 0 finished with value: 38.874651392883635 and parameters: {'colsample_bytree': 0.30368609920096834, 'learning_rate': 0.020787806406362644, 'min_child_weight': 7, 'gamma': 0.3923739691441668, 'subsample': 0.23088715928463702, 'reg_alpha': 0.8667906624916685, 'reg_lambda': 1.902405231538214e-06}. Best is trial 0 with value: 38.874651392883635.\n",
      "Trial 0 finished with value: 38.874651392883635 and parameters: {'colsample_bytree': 0.30368609920096834, 'learning_rate': 0.020787806406362644, 'min_child_weight': 7, 'gamma': 0.3923739691441668, 'subsample': 0.23088715928463702, 'reg_alpha': 0.8667906624916685, 'reg_lambda': 1.902405231538214e-06}. Best is trial 0 with value: 38.874651392883635.\n",
      "Trial 0 finished with value: 38.874651392883635 and parameters: {'colsample_bytree': 0.30368609920096834, 'learning_rate': 0.020787806406362644, 'min_child_weight': 7, 'gamma': 0.3923739691441668, 'subsample': 0.23088715928463702, 'reg_alpha': 0.8667906624916685, 'reg_lambda': 1.902405231538214e-06}. Best is trial 0 with value: 38.874651392883635.\n",
      "Trial 0 finished with value: 38.874651392883635 and parameters: {'colsample_bytree': 0.30368609920096834, 'learning_rate': 0.020787806406362644, 'min_child_weight': 7, 'gamma': 0.3923739691441668, 'subsample': 0.23088715928463702, 'reg_alpha': 0.8667906624916685, 'reg_lambda': 1.902405231538214e-06}. Best is trial 0 with value: 38.874651392883635.\n"
     ]
    },
    {
     "name": "stderr",
     "output_type": "stream",
     "text": [
      "[I 2025-02-05 20:47:56,411] Trial 1 finished with value: 38.87586999206969 and parameters: {'colsample_bytree': 0.3161726799343499, 'learning_rate': 0.014105748310604781, 'min_child_weight': 9, 'gamma': 0.00658619391068338, 'subsample': 0.20331668662152036, 'reg_alpha': 1.0059838814075577, 'reg_lambda': 1.0335420916485014e-06}. Best is trial 0 with value: 38.874651392883635.\n"
     ]
    },
    {
     "name": "stdout",
     "output_type": "stream",
     "text": [
      "Trial 1 finished with value: 38.87586999206969 and parameters: {'colsample_bytree': 0.3161726799343499, 'learning_rate': 0.014105748310604781, 'min_child_weight': 9, 'gamma': 0.00658619391068338, 'subsample': 0.20331668662152036, 'reg_alpha': 1.0059838814075577, 'reg_lambda': 1.0335420916485014e-06}. Best is trial 0 with value: 38.874651392883635.\n",
      "Trial 1 finished with value: 38.87586999206969 and parameters: {'colsample_bytree': 0.3161726799343499, 'learning_rate': 0.014105748310604781, 'min_child_weight': 9, 'gamma': 0.00658619391068338, 'subsample': 0.20331668662152036, 'reg_alpha': 1.0059838814075577, 'reg_lambda': 1.0335420916485014e-06}. Best is trial 0 with value: 38.874651392883635.\n",
      "Trial 1 finished with value: 38.87586999206969 and parameters: {'colsample_bytree': 0.3161726799343499, 'learning_rate': 0.014105748310604781, 'min_child_weight': 9, 'gamma': 0.00658619391068338, 'subsample': 0.20331668662152036, 'reg_alpha': 1.0059838814075577, 'reg_lambda': 1.0335420916485014e-06}. Best is trial 0 with value: 38.874651392883635.\n",
      "Trial 1 finished with value: 38.87586999206969 and parameters: {'colsample_bytree': 0.3161726799343499, 'learning_rate': 0.014105748310604781, 'min_child_weight': 9, 'gamma': 0.00658619391068338, 'subsample': 0.20331668662152036, 'reg_alpha': 1.0059838814075577, 'reg_lambda': 1.0335420916485014e-06}. Best is trial 0 with value: 38.874651392883635.\n",
      "Trial 1 finished with value: 38.87586999206969 and parameters: {'colsample_bytree': 0.3161726799343499, 'learning_rate': 0.014105748310604781, 'min_child_weight': 9, 'gamma': 0.00658619391068338, 'subsample': 0.20331668662152036, 'reg_alpha': 1.0059838814075577, 'reg_lambda': 1.0335420916485014e-06}. Best is trial 0 with value: 38.874651392883635.\n",
      "Trial 1 finished with value: 38.87586999206969 and parameters: {'colsample_bytree': 0.3161726799343499, 'learning_rate': 0.014105748310604781, 'min_child_weight': 9, 'gamma': 0.00658619391068338, 'subsample': 0.20331668662152036, 'reg_alpha': 1.0059838814075577, 'reg_lambda': 1.0335420916485014e-06}. Best is trial 0 with value: 38.874651392883635.\n",
      "Trial 1 finished with value: 38.87586999206969 and parameters: {'colsample_bytree': 0.3161726799343499, 'learning_rate': 0.014105748310604781, 'min_child_weight': 9, 'gamma': 0.00658619391068338, 'subsample': 0.20331668662152036, 'reg_alpha': 1.0059838814075577, 'reg_lambda': 1.0335420916485014e-06}. Best is trial 0 with value: 38.874651392883635.\n"
     ]
    },
    {
     "name": "stderr",
     "output_type": "stream",
     "text": [
      "[I 2025-02-05 20:48:34,202] Trial 2 finished with value: 38.874506326807364 and parameters: {'colsample_bytree': 0.3099476953488047, 'learning_rate': 0.0399823387000117, 'min_child_weight': 5, 'gamma': 0.131912832436353, 'subsample': 0.2439317292636847, 'reg_alpha': 0.6640083966639134, 'reg_lambda': 1.366833174516008e-06}. Best is trial 2 with value: 38.874506326807364.\n"
     ]
    },
    {
     "name": "stdout",
     "output_type": "stream",
     "text": [
      "Trial 2 finished with value: 38.874506326807364 and parameters: {'colsample_bytree': 0.3099476953488047, 'learning_rate': 0.0399823387000117, 'min_child_weight': 5, 'gamma': 0.131912832436353, 'subsample': 0.2439317292636847, 'reg_alpha': 0.6640083966639134, 'reg_lambda': 1.366833174516008e-06}. Best is trial 2 with value: 38.874506326807364.\n",
      "Trial 2 finished with value: 38.874506326807364 and parameters: {'colsample_bytree': 0.3099476953488047, 'learning_rate': 0.0399823387000117, 'min_child_weight': 5, 'gamma': 0.131912832436353, 'subsample': 0.2439317292636847, 'reg_alpha': 0.6640083966639134, 'reg_lambda': 1.366833174516008e-06}. Best is trial 2 with value: 38.874506326807364.\n",
      "Trial 2 finished with value: 38.874506326807364 and parameters: {'colsample_bytree': 0.3099476953488047, 'learning_rate': 0.0399823387000117, 'min_child_weight': 5, 'gamma': 0.131912832436353, 'subsample': 0.2439317292636847, 'reg_alpha': 0.6640083966639134, 'reg_lambda': 1.366833174516008e-06}. Best is trial 2 with value: 38.874506326807364.\n",
      "Trial 2 finished with value: 38.874506326807364 and parameters: {'colsample_bytree': 0.3099476953488047, 'learning_rate': 0.0399823387000117, 'min_child_weight': 5, 'gamma': 0.131912832436353, 'subsample': 0.2439317292636847, 'reg_alpha': 0.6640083966639134, 'reg_lambda': 1.366833174516008e-06}. Best is trial 2 with value: 38.874506326807364.\n",
      "Trial 2 finished with value: 38.874506326807364 and parameters: {'colsample_bytree': 0.3099476953488047, 'learning_rate': 0.0399823387000117, 'min_child_weight': 5, 'gamma': 0.131912832436353, 'subsample': 0.2439317292636847, 'reg_alpha': 0.6640083966639134, 'reg_lambda': 1.366833174516008e-06}. Best is trial 2 with value: 38.874506326807364.\n",
      "Trial 2 finished with value: 38.874506326807364 and parameters: {'colsample_bytree': 0.3099476953488047, 'learning_rate': 0.0399823387000117, 'min_child_weight': 5, 'gamma': 0.131912832436353, 'subsample': 0.2439317292636847, 'reg_alpha': 0.6640083966639134, 'reg_lambda': 1.366833174516008e-06}. Best is trial 2 with value: 38.874506326807364.\n",
      "Trial 2 finished with value: 38.874506326807364 and parameters: {'colsample_bytree': 0.3099476953488047, 'learning_rate': 0.0399823387000117, 'min_child_weight': 5, 'gamma': 0.131912832436353, 'subsample': 0.2439317292636847, 'reg_alpha': 0.6640083966639134, 'reg_lambda': 1.366833174516008e-06}. Best is trial 2 with value: 38.874506326807364.\n"
     ]
    },
    {
     "name": "stderr",
     "output_type": "stream",
     "text": [
      "[I 2025-02-05 20:49:12,298] Trial 3 finished with value: 38.87456915461809 and parameters: {'colsample_bytree': 0.2655169882096654, 'learning_rate': 0.0350079168825534, 'min_child_weight': 3, 'gamma': 0.19823956420021482, 'subsample': 0.21985875263332097, 'reg_alpha': 1.224126428564959, 'reg_lambda': 1.7758550360698395e-06}. Best is trial 2 with value: 38.874506326807364.\n"
     ]
    },
    {
     "name": "stdout",
     "output_type": "stream",
     "text": [
      "Trial 3 finished with value: 38.87456915461809 and parameters: {'colsample_bytree': 0.2655169882096654, 'learning_rate': 0.0350079168825534, 'min_child_weight': 3, 'gamma': 0.19823956420021482, 'subsample': 0.21985875263332097, 'reg_alpha': 1.224126428564959, 'reg_lambda': 1.7758550360698395e-06}. Best is trial 2 with value: 38.874506326807364.\n",
      "Trial 3 finished with value: 38.87456915461809 and parameters: {'colsample_bytree': 0.2655169882096654, 'learning_rate': 0.0350079168825534, 'min_child_weight': 3, 'gamma': 0.19823956420021482, 'subsample': 0.21985875263332097, 'reg_alpha': 1.224126428564959, 'reg_lambda': 1.7758550360698395e-06}. Best is trial 2 with value: 38.874506326807364.\n",
      "Trial 3 finished with value: 38.87456915461809 and parameters: {'colsample_bytree': 0.2655169882096654, 'learning_rate': 0.0350079168825534, 'min_child_weight': 3, 'gamma': 0.19823956420021482, 'subsample': 0.21985875263332097, 'reg_alpha': 1.224126428564959, 'reg_lambda': 1.7758550360698395e-06}. Best is trial 2 with value: 38.874506326807364.\n",
      "Trial 3 finished with value: 38.87456915461809 and parameters: {'colsample_bytree': 0.2655169882096654, 'learning_rate': 0.0350079168825534, 'min_child_weight': 3, 'gamma': 0.19823956420021482, 'subsample': 0.21985875263332097, 'reg_alpha': 1.224126428564959, 'reg_lambda': 1.7758550360698395e-06}. Best is trial 2 with value: 38.874506326807364.\n",
      "Trial 3 finished with value: 38.87456915461809 and parameters: {'colsample_bytree': 0.2655169882096654, 'learning_rate': 0.0350079168825534, 'min_child_weight': 3, 'gamma': 0.19823956420021482, 'subsample': 0.21985875263332097, 'reg_alpha': 1.224126428564959, 'reg_lambda': 1.7758550360698395e-06}. Best is trial 2 with value: 38.874506326807364.\n",
      "Trial 3 finished with value: 38.87456915461809 and parameters: {'colsample_bytree': 0.2655169882096654, 'learning_rate': 0.0350079168825534, 'min_child_weight': 3, 'gamma': 0.19823956420021482, 'subsample': 0.21985875263332097, 'reg_alpha': 1.224126428564959, 'reg_lambda': 1.7758550360698395e-06}. Best is trial 2 with value: 38.874506326807364.\n",
      "Trial 3 finished with value: 38.87456915461809 and parameters: {'colsample_bytree': 0.2655169882096654, 'learning_rate': 0.0350079168825534, 'min_child_weight': 3, 'gamma': 0.19823956420021482, 'subsample': 0.21985875263332097, 'reg_alpha': 1.224126428564959, 'reg_lambda': 1.7758550360698395e-06}. Best is trial 2 with value: 38.874506326807364.\n"
     ]
    },
    {
     "name": "stderr",
     "output_type": "stream",
     "text": [
      "[I 2025-02-05 20:50:08,799] Trial 4 finished with value: 38.8753710076715 and parameters: {'colsample_bytree': 0.2758346451618959, 'learning_rate': 0.016037231975668274, 'min_child_weight': 7, 'gamma': 0.931825296012696, 'subsample': 0.22022366951526035, 'reg_alpha': 1.5953415868957417, 'reg_lambda': 4.3729052466105454e-06}. Best is trial 2 with value: 38.874506326807364.\n"
     ]
    },
    {
     "name": "stdout",
     "output_type": "stream",
     "text": [
      "Trial 4 finished with value: 38.8753710076715 and parameters: {'colsample_bytree': 0.2758346451618959, 'learning_rate': 0.016037231975668274, 'min_child_weight': 7, 'gamma': 0.931825296012696, 'subsample': 0.22022366951526035, 'reg_alpha': 1.5953415868957417, 'reg_lambda': 4.3729052466105454e-06}. Best is trial 2 with value: 38.874506326807364.\n",
      "Trial 4 finished with value: 38.8753710076715 and parameters: {'colsample_bytree': 0.2758346451618959, 'learning_rate': 0.016037231975668274, 'min_child_weight': 7, 'gamma': 0.931825296012696, 'subsample': 0.22022366951526035, 'reg_alpha': 1.5953415868957417, 'reg_lambda': 4.3729052466105454e-06}. Best is trial 2 with value: 38.874506326807364.\n",
      "Trial 4 finished with value: 38.8753710076715 and parameters: {'colsample_bytree': 0.2758346451618959, 'learning_rate': 0.016037231975668274, 'min_child_weight': 7, 'gamma': 0.931825296012696, 'subsample': 0.22022366951526035, 'reg_alpha': 1.5953415868957417, 'reg_lambda': 4.3729052466105454e-06}. Best is trial 2 with value: 38.874506326807364.\n",
      "Trial 4 finished with value: 38.8753710076715 and parameters: {'colsample_bytree': 0.2758346451618959, 'learning_rate': 0.016037231975668274, 'min_child_weight': 7, 'gamma': 0.931825296012696, 'subsample': 0.22022366951526035, 'reg_alpha': 1.5953415868957417, 'reg_lambda': 4.3729052466105454e-06}. Best is trial 2 with value: 38.874506326807364.\n",
      "Trial 4 finished with value: 38.8753710076715 and parameters: {'colsample_bytree': 0.2758346451618959, 'learning_rate': 0.016037231975668274, 'min_child_weight': 7, 'gamma': 0.931825296012696, 'subsample': 0.22022366951526035, 'reg_alpha': 1.5953415868957417, 'reg_lambda': 4.3729052466105454e-06}. Best is trial 2 with value: 38.874506326807364.\n",
      "Trial 4 finished with value: 38.8753710076715 and parameters: {'colsample_bytree': 0.2758346451618959, 'learning_rate': 0.016037231975668274, 'min_child_weight': 7, 'gamma': 0.931825296012696, 'subsample': 0.22022366951526035, 'reg_alpha': 1.5953415868957417, 'reg_lambda': 4.3729052466105454e-06}. Best is trial 2 with value: 38.874506326807364.\n",
      "Trial 4 finished with value: 38.8753710076715 and parameters: {'colsample_bytree': 0.2758346451618959, 'learning_rate': 0.016037231975668274, 'min_child_weight': 7, 'gamma': 0.931825296012696, 'subsample': 0.22022366951526035, 'reg_alpha': 1.5953415868957417, 'reg_lambda': 4.3729052466105454e-06}. Best is trial 2 with value: 38.874506326807364.\n"
     ]
    },
    {
     "name": "stderr",
     "output_type": "stream",
     "text": [
      "[I 2025-02-05 20:50:09,377] Trial 5 pruned. Trial was pruned at iteration 0.\n"
     ]
    },
    {
     "name": "stdout",
     "output_type": "stream",
     "text": [
      "Trial 5 pruned. Trial was pruned at iteration 0.\n",
      "Trial 5 pruned. Trial was pruned at iteration 0.\n",
      "Trial 5 pruned. Trial was pruned at iteration 0.\n",
      "Trial 5 pruned. Trial was pruned at iteration 0.\n",
      "Trial 5 pruned. Trial was pruned at iteration 0.\n",
      "Trial 5 pruned. Trial was pruned at iteration 0.\n",
      "Trial 5 pruned. Trial was pruned at iteration 0.\n"
     ]
    },
    {
     "name": "stderr",
     "output_type": "stream",
     "text": [
      "[I 2025-02-05 20:51:04,839] Trial 6 finished with value: 38.87436136671401 and parameters: {'colsample_bytree': 0.2509015986824897, 'learning_rate': 0.03234399066450688, 'min_child_weight': 8, 'gamma': 0.20040533985434406, 'subsample': 0.20652014685118641, 'reg_alpha': 1.79186769615207, 'reg_lambda': 2.3561373430959657e-06}. Best is trial 6 with value: 38.87436136671401.\n"
     ]
    },
    {
     "name": "stdout",
     "output_type": "stream",
     "text": [
      "Trial 6 finished with value: 38.87436136671401 and parameters: {'colsample_bytree': 0.2509015986824897, 'learning_rate': 0.03234399066450688, 'min_child_weight': 8, 'gamma': 0.20040533985434406, 'subsample': 0.20652014685118641, 'reg_alpha': 1.79186769615207, 'reg_lambda': 2.3561373430959657e-06}. Best is trial 6 with value: 38.87436136671401.\n",
      "Trial 6 finished with value: 38.87436136671401 and parameters: {'colsample_bytree': 0.2509015986824897, 'learning_rate': 0.03234399066450688, 'min_child_weight': 8, 'gamma': 0.20040533985434406, 'subsample': 0.20652014685118641, 'reg_alpha': 1.79186769615207, 'reg_lambda': 2.3561373430959657e-06}. Best is trial 6 with value: 38.87436136671401.\n",
      "Trial 6 finished with value: 38.87436136671401 and parameters: {'colsample_bytree': 0.2509015986824897, 'learning_rate': 0.03234399066450688, 'min_child_weight': 8, 'gamma': 0.20040533985434406, 'subsample': 0.20652014685118641, 'reg_alpha': 1.79186769615207, 'reg_lambda': 2.3561373430959657e-06}. Best is trial 6 with value: 38.87436136671401.\n",
      "Trial 6 finished with value: 38.87436136671401 and parameters: {'colsample_bytree': 0.2509015986824897, 'learning_rate': 0.03234399066450688, 'min_child_weight': 8, 'gamma': 0.20040533985434406, 'subsample': 0.20652014685118641, 'reg_alpha': 1.79186769615207, 'reg_lambda': 2.3561373430959657e-06}. Best is trial 6 with value: 38.87436136671401.\n",
      "Trial 6 finished with value: 38.87436136671401 and parameters: {'colsample_bytree': 0.2509015986824897, 'learning_rate': 0.03234399066450688, 'min_child_weight': 8, 'gamma': 0.20040533985434406, 'subsample': 0.20652014685118641, 'reg_alpha': 1.79186769615207, 'reg_lambda': 2.3561373430959657e-06}. Best is trial 6 with value: 38.87436136671401.\n",
      "Trial 6 finished with value: 38.87436136671401 and parameters: {'colsample_bytree': 0.2509015986824897, 'learning_rate': 0.03234399066450688, 'min_child_weight': 8, 'gamma': 0.20040533985434406, 'subsample': 0.20652014685118641, 'reg_alpha': 1.79186769615207, 'reg_lambda': 2.3561373430959657e-06}. Best is trial 6 with value: 38.87436136671401.\n",
      "Trial 6 finished with value: 38.87436136671401 and parameters: {'colsample_bytree': 0.2509015986824897, 'learning_rate': 0.03234399066450688, 'min_child_weight': 8, 'gamma': 0.20040533985434406, 'subsample': 0.20652014685118641, 'reg_alpha': 1.79186769615207, 'reg_lambda': 2.3561373430959657e-06}. Best is trial 6 with value: 38.87436136671401.\n"
     ]
    },
    {
     "name": "stderr",
     "output_type": "stream",
     "text": [
      "[I 2025-02-05 20:51:05,468] Trial 7 pruned. Trial was pruned at iteration 0.\n"
     ]
    },
    {
     "name": "stdout",
     "output_type": "stream",
     "text": [
      "Trial 7 pruned. Trial was pruned at iteration 0.\n",
      "Trial 7 pruned. Trial was pruned at iteration 0.\n",
      "Trial 7 pruned. Trial was pruned at iteration 0.\n",
      "Trial 7 pruned. Trial was pruned at iteration 0.\n",
      "Trial 7 pruned. Trial was pruned at iteration 0.\n",
      "Trial 7 pruned. Trial was pruned at iteration 0.\n",
      "Trial 7 pruned. Trial was pruned at iteration 0.\n"
     ]
    },
    {
     "name": "stderr",
     "output_type": "stream",
     "text": [
      "[I 2025-02-05 20:51:06,043] Trial 8 pruned. Trial was pruned at iteration 0.\n"
     ]
    },
    {
     "name": "stdout",
     "output_type": "stream",
     "text": [
      "Trial 8 pruned. Trial was pruned at iteration 0.\n",
      "Trial 8 pruned. Trial was pruned at iteration 0.\n",
      "Trial 8 pruned. Trial was pruned at iteration 0.\n",
      "Trial 8 pruned. Trial was pruned at iteration 0.\n",
      "Trial 8 pruned. Trial was pruned at iteration 0.\n",
      "Trial 8 pruned. Trial was pruned at iteration 0.\n",
      "Trial 8 pruned. Trial was pruned at iteration 0.\n"
     ]
    },
    {
     "name": "stderr",
     "output_type": "stream",
     "text": [
      "[I 2025-02-05 20:51:06,670] Trial 9 pruned. Trial was pruned at iteration 0.\n"
     ]
    },
    {
     "name": "stdout",
     "output_type": "stream",
     "text": [
      "Trial 9 pruned. Trial was pruned at iteration 0.\n",
      "Trial 9 pruned. Trial was pruned at iteration 0.\n",
      "Trial 9 pruned. Trial was pruned at iteration 0.\n",
      "Trial 9 pruned. Trial was pruned at iteration 0.\n",
      "Trial 9 pruned. Trial was pruned at iteration 0.\n",
      "Trial 9 pruned. Trial was pruned at iteration 0.\n",
      "Trial 9 pruned. Trial was pruned at iteration 0.\n"
     ]
    },
    {
     "name": "stderr",
     "output_type": "stream",
     "text": [
      "[I 2025-02-05 20:51:39,120] Trial 10 finished with value: 38.87308945953528 and parameters: {'colsample_bytree': 0.34925094900168585, 'learning_rate': 0.04679874242389093, 'min_child_weight': 1, 'gamma': 0.6343896552884396, 'subsample': 0.2004263556401715, 'reg_alpha': 0.5087188075106392, 'reg_lambda': 9.48841822602601e-06}. Best is trial 10 with value: 38.87308945953528.\n"
     ]
    },
    {
     "name": "stdout",
     "output_type": "stream",
     "text": [
      "Trial 10 finished with value: 38.87308945953528 and parameters: {'colsample_bytree': 0.34925094900168585, 'learning_rate': 0.04679874242389093, 'min_child_weight': 1, 'gamma': 0.6343896552884396, 'subsample': 0.2004263556401715, 'reg_alpha': 0.5087188075106392, 'reg_lambda': 9.48841822602601e-06}. Best is trial 10 with value: 38.87308945953528.\n",
      "Trial 10 finished with value: 38.87308945953528 and parameters: {'colsample_bytree': 0.34925094900168585, 'learning_rate': 0.04679874242389093, 'min_child_weight': 1, 'gamma': 0.6343896552884396, 'subsample': 0.2004263556401715, 'reg_alpha': 0.5087188075106392, 'reg_lambda': 9.48841822602601e-06}. Best is trial 10 with value: 38.87308945953528.\n",
      "Trial 10 finished with value: 38.87308945953528 and parameters: {'colsample_bytree': 0.34925094900168585, 'learning_rate': 0.04679874242389093, 'min_child_weight': 1, 'gamma': 0.6343896552884396, 'subsample': 0.2004263556401715, 'reg_alpha': 0.5087188075106392, 'reg_lambda': 9.48841822602601e-06}. Best is trial 10 with value: 38.87308945953528.\n",
      "Trial 10 finished with value: 38.87308945953528 and parameters: {'colsample_bytree': 0.34925094900168585, 'learning_rate': 0.04679874242389093, 'min_child_weight': 1, 'gamma': 0.6343896552884396, 'subsample': 0.2004263556401715, 'reg_alpha': 0.5087188075106392, 'reg_lambda': 9.48841822602601e-06}. Best is trial 10 with value: 38.87308945953528.\n",
      "Trial 10 finished with value: 38.87308945953528 and parameters: {'colsample_bytree': 0.34925094900168585, 'learning_rate': 0.04679874242389093, 'min_child_weight': 1, 'gamma': 0.6343896552884396, 'subsample': 0.2004263556401715, 'reg_alpha': 0.5087188075106392, 'reg_lambda': 9.48841822602601e-06}. Best is trial 10 with value: 38.87308945953528.\n",
      "Trial 10 finished with value: 38.87308945953528 and parameters: {'colsample_bytree': 0.34925094900168585, 'learning_rate': 0.04679874242389093, 'min_child_weight': 1, 'gamma': 0.6343896552884396, 'subsample': 0.2004263556401715, 'reg_alpha': 0.5087188075106392, 'reg_lambda': 9.48841822602601e-06}. Best is trial 10 with value: 38.87308945953528.\n",
      "Trial 10 finished with value: 38.87308945953528 and parameters: {'colsample_bytree': 0.34925094900168585, 'learning_rate': 0.04679874242389093, 'min_child_weight': 1, 'gamma': 0.6343896552884396, 'subsample': 0.2004263556401715, 'reg_alpha': 0.5087188075106392, 'reg_lambda': 9.48841822602601e-06}. Best is trial 10 with value: 38.87308945953528.\n"
     ]
    },
    {
     "name": "stderr",
     "output_type": "stream",
     "text": [
      "[I 2025-02-05 20:52:20,575] Trial 11 finished with value: 38.87257348779993 and parameters: {'colsample_bytree': 0.34975306360749536, 'learning_rate': 0.0448999521222328, 'min_child_weight': 1, 'gamma': 0.675340725863827, 'subsample': 0.20192910666748132, 'reg_alpha': 0.51331139754389, 'reg_lambda': 9.780848207671451e-06}. Best is trial 11 with value: 38.87257348779993.\n"
     ]
    },
    {
     "name": "stdout",
     "output_type": "stream",
     "text": [
      "Trial 11 finished with value: 38.87257348779993 and parameters: {'colsample_bytree': 0.34975306360749536, 'learning_rate': 0.0448999521222328, 'min_child_weight': 1, 'gamma': 0.675340725863827, 'subsample': 0.20192910666748132, 'reg_alpha': 0.51331139754389, 'reg_lambda': 9.780848207671451e-06}. Best is trial 11 with value: 38.87257348779993.\n",
      "Trial 11 finished with value: 38.87257348779993 and parameters: {'colsample_bytree': 0.34975306360749536, 'learning_rate': 0.0448999521222328, 'min_child_weight': 1, 'gamma': 0.675340725863827, 'subsample': 0.20192910666748132, 'reg_alpha': 0.51331139754389, 'reg_lambda': 9.780848207671451e-06}. Best is trial 11 with value: 38.87257348779993.\n",
      "Trial 11 finished with value: 38.87257348779993 and parameters: {'colsample_bytree': 0.34975306360749536, 'learning_rate': 0.0448999521222328, 'min_child_weight': 1, 'gamma': 0.675340725863827, 'subsample': 0.20192910666748132, 'reg_alpha': 0.51331139754389, 'reg_lambda': 9.780848207671451e-06}. Best is trial 11 with value: 38.87257348779993.\n",
      "Trial 11 finished with value: 38.87257348779993 and parameters: {'colsample_bytree': 0.34975306360749536, 'learning_rate': 0.0448999521222328, 'min_child_weight': 1, 'gamma': 0.675340725863827, 'subsample': 0.20192910666748132, 'reg_alpha': 0.51331139754389, 'reg_lambda': 9.780848207671451e-06}. Best is trial 11 with value: 38.87257348779993.\n",
      "Trial 11 finished with value: 38.87257348779993 and parameters: {'colsample_bytree': 0.34975306360749536, 'learning_rate': 0.0448999521222328, 'min_child_weight': 1, 'gamma': 0.675340725863827, 'subsample': 0.20192910666748132, 'reg_alpha': 0.51331139754389, 'reg_lambda': 9.780848207671451e-06}. Best is trial 11 with value: 38.87257348779993.\n",
      "Trial 11 finished with value: 38.87257348779993 and parameters: {'colsample_bytree': 0.34975306360749536, 'learning_rate': 0.0448999521222328, 'min_child_weight': 1, 'gamma': 0.675340725863827, 'subsample': 0.20192910666748132, 'reg_alpha': 0.51331139754389, 'reg_lambda': 9.780848207671451e-06}. Best is trial 11 with value: 38.87257348779993.\n",
      "Trial 11 finished with value: 38.87257348779993 and parameters: {'colsample_bytree': 0.34975306360749536, 'learning_rate': 0.0448999521222328, 'min_child_weight': 1, 'gamma': 0.675340725863827, 'subsample': 0.20192910666748132, 'reg_alpha': 0.51331139754389, 'reg_lambda': 9.780848207671451e-06}. Best is trial 11 with value: 38.87257348779993.\n"
     ]
    },
    {
     "name": "stderr",
     "output_type": "stream",
     "text": [
      "[I 2025-02-05 20:53:00,917] Trial 12 finished with value: 38.87309261741738 and parameters: {'colsample_bytree': 0.3489949367131863, 'learning_rate': 0.04935571848506016, 'min_child_weight': 1, 'gamma': 0.6641306714949762, 'subsample': 0.21075217310269412, 'reg_alpha': 0.5100304001423098, 'reg_lambda': 8.98570770023557e-06}. Best is trial 11 with value: 38.87257348779993.\n"
     ]
    },
    {
     "name": "stdout",
     "output_type": "stream",
     "text": [
      "Trial 12 finished with value: 38.87309261741738 and parameters: {'colsample_bytree': 0.3489949367131863, 'learning_rate': 0.04935571848506016, 'min_child_weight': 1, 'gamma': 0.6641306714949762, 'subsample': 0.21075217310269412, 'reg_alpha': 0.5100304001423098, 'reg_lambda': 8.98570770023557e-06}. Best is trial 11 with value: 38.87257348779993.\n",
      "Trial 12 finished with value: 38.87309261741738 and parameters: {'colsample_bytree': 0.3489949367131863, 'learning_rate': 0.04935571848506016, 'min_child_weight': 1, 'gamma': 0.6641306714949762, 'subsample': 0.21075217310269412, 'reg_alpha': 0.5100304001423098, 'reg_lambda': 8.98570770023557e-06}. Best is trial 11 with value: 38.87257348779993.\n",
      "Trial 12 finished with value: 38.87309261741738 and parameters: {'colsample_bytree': 0.3489949367131863, 'learning_rate': 0.04935571848506016, 'min_child_weight': 1, 'gamma': 0.6641306714949762, 'subsample': 0.21075217310269412, 'reg_alpha': 0.5100304001423098, 'reg_lambda': 8.98570770023557e-06}. Best is trial 11 with value: 38.87257348779993.\n",
      "Trial 12 finished with value: 38.87309261741738 and parameters: {'colsample_bytree': 0.3489949367131863, 'learning_rate': 0.04935571848506016, 'min_child_weight': 1, 'gamma': 0.6641306714949762, 'subsample': 0.21075217310269412, 'reg_alpha': 0.5100304001423098, 'reg_lambda': 8.98570770023557e-06}. Best is trial 11 with value: 38.87257348779993.\n",
      "Trial 12 finished with value: 38.87309261741738 and parameters: {'colsample_bytree': 0.3489949367131863, 'learning_rate': 0.04935571848506016, 'min_child_weight': 1, 'gamma': 0.6641306714949762, 'subsample': 0.21075217310269412, 'reg_alpha': 0.5100304001423098, 'reg_lambda': 8.98570770023557e-06}. Best is trial 11 with value: 38.87257348779993.\n",
      "Trial 12 finished with value: 38.87309261741738 and parameters: {'colsample_bytree': 0.3489949367131863, 'learning_rate': 0.04935571848506016, 'min_child_weight': 1, 'gamma': 0.6641306714949762, 'subsample': 0.21075217310269412, 'reg_alpha': 0.5100304001423098, 'reg_lambda': 8.98570770023557e-06}. Best is trial 11 with value: 38.87257348779993.\n",
      "Trial 12 finished with value: 38.87309261741738 and parameters: {'colsample_bytree': 0.3489949367131863, 'learning_rate': 0.04935571848506016, 'min_child_weight': 1, 'gamma': 0.6641306714949762, 'subsample': 0.21075217310269412, 'reg_alpha': 0.5100304001423098, 'reg_lambda': 8.98570770023557e-06}. Best is trial 11 with value: 38.87257348779993.\n"
     ]
    },
    {
     "name": "stderr",
     "output_type": "stream",
     "text": [
      "[I 2025-02-05 20:53:36,333] Trial 13 finished with value: 38.87315553533059 and parameters: {'colsample_bytree': 0.3490137727331027, 'learning_rate': 0.048705846800375006, 'min_child_weight': 1, 'gamma': 0.6228154383512591, 'subsample': 0.20113899964442686, 'reg_alpha': 0.5015953701895869, 'reg_lambda': 9.875604151835697e-06}. Best is trial 11 with value: 38.87257348779993.\n"
     ]
    },
    {
     "name": "stdout",
     "output_type": "stream",
     "text": [
      "Trial 13 finished with value: 38.87315553533059 and parameters: {'colsample_bytree': 0.3490137727331027, 'learning_rate': 0.048705846800375006, 'min_child_weight': 1, 'gamma': 0.6228154383512591, 'subsample': 0.20113899964442686, 'reg_alpha': 0.5015953701895869, 'reg_lambda': 9.875604151835697e-06}. Best is trial 11 with value: 38.87257348779993.\n",
      "Trial 13 finished with value: 38.87315553533059 and parameters: {'colsample_bytree': 0.3490137727331027, 'learning_rate': 0.048705846800375006, 'min_child_weight': 1, 'gamma': 0.6228154383512591, 'subsample': 0.20113899964442686, 'reg_alpha': 0.5015953701895869, 'reg_lambda': 9.875604151835697e-06}. Best is trial 11 with value: 38.87257348779993.\n",
      "Trial 13 finished with value: 38.87315553533059 and parameters: {'colsample_bytree': 0.3490137727331027, 'learning_rate': 0.048705846800375006, 'min_child_weight': 1, 'gamma': 0.6228154383512591, 'subsample': 0.20113899964442686, 'reg_alpha': 0.5015953701895869, 'reg_lambda': 9.875604151835697e-06}. Best is trial 11 with value: 38.87257348779993.\n",
      "Trial 13 finished with value: 38.87315553533059 and parameters: {'colsample_bytree': 0.3490137727331027, 'learning_rate': 0.048705846800375006, 'min_child_weight': 1, 'gamma': 0.6228154383512591, 'subsample': 0.20113899964442686, 'reg_alpha': 0.5015953701895869, 'reg_lambda': 9.875604151835697e-06}. Best is trial 11 with value: 38.87257348779993.\n",
      "Trial 13 finished with value: 38.87315553533059 and parameters: {'colsample_bytree': 0.3490137727331027, 'learning_rate': 0.048705846800375006, 'min_child_weight': 1, 'gamma': 0.6228154383512591, 'subsample': 0.20113899964442686, 'reg_alpha': 0.5015953701895869, 'reg_lambda': 9.875604151835697e-06}. Best is trial 11 with value: 38.87257348779993.\n",
      "Trial 13 finished with value: 38.87315553533059 and parameters: {'colsample_bytree': 0.3490137727331027, 'learning_rate': 0.048705846800375006, 'min_child_weight': 1, 'gamma': 0.6228154383512591, 'subsample': 0.20113899964442686, 'reg_alpha': 0.5015953701895869, 'reg_lambda': 9.875604151835697e-06}. Best is trial 11 with value: 38.87257348779993.\n",
      "Trial 13 finished with value: 38.87315553533059 and parameters: {'colsample_bytree': 0.3490137727331027, 'learning_rate': 0.048705846800375006, 'min_child_weight': 1, 'gamma': 0.6228154383512591, 'subsample': 0.20113899964442686, 'reg_alpha': 0.5015953701895869, 'reg_lambda': 9.875604151835697e-06}. Best is trial 11 with value: 38.87257348779993.\n"
     ]
    },
    {
     "name": "stderr",
     "output_type": "stream",
     "text": [
      "[I 2025-02-05 20:53:37,057] Trial 14 pruned. Trial was pruned at iteration 0.\n"
     ]
    },
    {
     "name": "stdout",
     "output_type": "stream",
     "text": [
      "Trial 14 pruned. Trial was pruned at iteration 0.\n",
      "Trial 14 pruned. Trial was pruned at iteration 0.\n",
      "Trial 14 pruned. Trial was pruned at iteration 0.\n",
      "Trial 14 pruned. Trial was pruned at iteration 0.\n",
      "Trial 14 pruned. Trial was pruned at iteration 0.\n",
      "Trial 14 pruned. Trial was pruned at iteration 0.\n",
      "Trial 14 pruned. Trial was pruned at iteration 0.\n"
     ]
    },
    {
     "name": "stderr",
     "output_type": "stream",
     "text": [
      "[I 2025-02-05 20:54:13,719] Trial 15 finished with value: 38.87450407328868 and parameters: {'colsample_bytree': 0.33153617875443797, 'learning_rate': 0.04049772956775367, 'min_child_weight': 3, 'gamma': 0.7885529374965822, 'subsample': 0.21283204321489918, 'reg_alpha': 0.6602753625770816, 'reg_lambda': 6.233062185514567e-06}. Best is trial 11 with value: 38.87257348779993.\n"
     ]
    },
    {
     "name": "stdout",
     "output_type": "stream",
     "text": [
      "Trial 15 finished with value: 38.87450407328868 and parameters: {'colsample_bytree': 0.33153617875443797, 'learning_rate': 0.04049772956775367, 'min_child_weight': 3, 'gamma': 0.7885529374965822, 'subsample': 0.21283204321489918, 'reg_alpha': 0.6602753625770816, 'reg_lambda': 6.233062185514567e-06}. Best is trial 11 with value: 38.87257348779993.\n",
      "Trial 15 finished with value: 38.87450407328868 and parameters: {'colsample_bytree': 0.33153617875443797, 'learning_rate': 0.04049772956775367, 'min_child_weight': 3, 'gamma': 0.7885529374965822, 'subsample': 0.21283204321489918, 'reg_alpha': 0.6602753625770816, 'reg_lambda': 6.233062185514567e-06}. Best is trial 11 with value: 38.87257348779993.\n",
      "Trial 15 finished with value: 38.87450407328868 and parameters: {'colsample_bytree': 0.33153617875443797, 'learning_rate': 0.04049772956775367, 'min_child_weight': 3, 'gamma': 0.7885529374965822, 'subsample': 0.21283204321489918, 'reg_alpha': 0.6602753625770816, 'reg_lambda': 6.233062185514567e-06}. Best is trial 11 with value: 38.87257348779993.\n",
      "Trial 15 finished with value: 38.87450407328868 and parameters: {'colsample_bytree': 0.33153617875443797, 'learning_rate': 0.04049772956775367, 'min_child_weight': 3, 'gamma': 0.7885529374965822, 'subsample': 0.21283204321489918, 'reg_alpha': 0.6602753625770816, 'reg_lambda': 6.233062185514567e-06}. Best is trial 11 with value: 38.87257348779993.\n",
      "Trial 15 finished with value: 38.87450407328868 and parameters: {'colsample_bytree': 0.33153617875443797, 'learning_rate': 0.04049772956775367, 'min_child_weight': 3, 'gamma': 0.7885529374965822, 'subsample': 0.21283204321489918, 'reg_alpha': 0.6602753625770816, 'reg_lambda': 6.233062185514567e-06}. Best is trial 11 with value: 38.87257348779993.\n",
      "Trial 15 finished with value: 38.87450407328868 and parameters: {'colsample_bytree': 0.33153617875443797, 'learning_rate': 0.04049772956775367, 'min_child_weight': 3, 'gamma': 0.7885529374965822, 'subsample': 0.21283204321489918, 'reg_alpha': 0.6602753625770816, 'reg_lambda': 6.233062185514567e-06}. Best is trial 11 with value: 38.87257348779993.\n",
      "Trial 15 finished with value: 38.87450407328868 and parameters: {'colsample_bytree': 0.33153617875443797, 'learning_rate': 0.04049772956775367, 'min_child_weight': 3, 'gamma': 0.7885529374965822, 'subsample': 0.21283204321489918, 'reg_alpha': 0.6602753625770816, 'reg_lambda': 6.233062185514567e-06}. Best is trial 11 with value: 38.87257348779993.\n"
     ]
    },
    {
     "name": "stderr",
     "output_type": "stream",
     "text": [
      "[I 2025-02-05 20:54:54,035] Trial 16 finished with value: 38.87282515234424 and parameters: {'colsample_bytree': 0.3339306389168153, 'learning_rate': 0.04048027834035922, 'min_child_weight': 2, 'gamma': 0.5271286006361081, 'subsample': 0.20114481009718213, 'reg_alpha': 0.7963666984155311, 'reg_lambda': 6.076220154062079e-06}. Best is trial 11 with value: 38.87257348779993.\n"
     ]
    },
    {
     "name": "stdout",
     "output_type": "stream",
     "text": [
      "Trial 16 finished with value: 38.87282515234424 and parameters: {'colsample_bytree': 0.3339306389168153, 'learning_rate': 0.04048027834035922, 'min_child_weight': 2, 'gamma': 0.5271286006361081, 'subsample': 0.20114481009718213, 'reg_alpha': 0.7963666984155311, 'reg_lambda': 6.076220154062079e-06}. Best is trial 11 with value: 38.87257348779993.\n",
      "Trial 16 finished with value: 38.87282515234424 and parameters: {'colsample_bytree': 0.3339306389168153, 'learning_rate': 0.04048027834035922, 'min_child_weight': 2, 'gamma': 0.5271286006361081, 'subsample': 0.20114481009718213, 'reg_alpha': 0.7963666984155311, 'reg_lambda': 6.076220154062079e-06}. Best is trial 11 with value: 38.87257348779993.\n",
      "Trial 16 finished with value: 38.87282515234424 and parameters: {'colsample_bytree': 0.3339306389168153, 'learning_rate': 0.04048027834035922, 'min_child_weight': 2, 'gamma': 0.5271286006361081, 'subsample': 0.20114481009718213, 'reg_alpha': 0.7963666984155311, 'reg_lambda': 6.076220154062079e-06}. Best is trial 11 with value: 38.87257348779993.\n",
      "Trial 16 finished with value: 38.87282515234424 and parameters: {'colsample_bytree': 0.3339306389168153, 'learning_rate': 0.04048027834035922, 'min_child_weight': 2, 'gamma': 0.5271286006361081, 'subsample': 0.20114481009718213, 'reg_alpha': 0.7963666984155311, 'reg_lambda': 6.076220154062079e-06}. Best is trial 11 with value: 38.87257348779993.\n",
      "Trial 16 finished with value: 38.87282515234424 and parameters: {'colsample_bytree': 0.3339306389168153, 'learning_rate': 0.04048027834035922, 'min_child_weight': 2, 'gamma': 0.5271286006361081, 'subsample': 0.20114481009718213, 'reg_alpha': 0.7963666984155311, 'reg_lambda': 6.076220154062079e-06}. Best is trial 11 with value: 38.87257348779993.\n",
      "Trial 16 finished with value: 38.87282515234424 and parameters: {'colsample_bytree': 0.3339306389168153, 'learning_rate': 0.04048027834035922, 'min_child_weight': 2, 'gamma': 0.5271286006361081, 'subsample': 0.20114481009718213, 'reg_alpha': 0.7963666984155311, 'reg_lambda': 6.076220154062079e-06}. Best is trial 11 with value: 38.87257348779993.\n",
      "Trial 16 finished with value: 38.87282515234424 and parameters: {'colsample_bytree': 0.3339306389168153, 'learning_rate': 0.04048027834035922, 'min_child_weight': 2, 'gamma': 0.5271286006361081, 'subsample': 0.20114481009718213, 'reg_alpha': 0.7963666984155311, 'reg_lambda': 6.076220154062079e-06}. Best is trial 11 with value: 38.87257348779993.\n"
     ]
    },
    {
     "name": "stderr",
     "output_type": "stream",
     "text": [
      "[I 2025-02-05 20:54:54,625] Trial 17 pruned. Trial was pruned at iteration 0.\n"
     ]
    },
    {
     "name": "stdout",
     "output_type": "stream",
     "text": [
      "Trial 17 pruned. Trial was pruned at iteration 0.\n",
      "Trial 17 pruned. Trial was pruned at iteration 0.\n",
      "Trial 17 pruned. Trial was pruned at iteration 0.\n",
      "Trial 17 pruned. Trial was pruned at iteration 0.\n",
      "Trial 17 pruned. Trial was pruned at iteration 0.\n",
      "Trial 17 pruned. Trial was pruned at iteration 0.\n",
      "Trial 17 pruned. Trial was pruned at iteration 0.\n"
     ]
    },
    {
     "name": "stderr",
     "output_type": "stream",
     "text": [
      "[I 2025-02-05 20:56:04,661] Trial 18 finished with value: 38.87170843860092 and parameters: {'colsample_bytree': 0.33784150442728167, 'learning_rate': 0.026427213059109073, 'min_child_weight': 2, 'gamma': 0.4972196374155548, 'subsample': 0.20761752317025953, 'reg_alpha': 1.3631306673374275, 'reg_lambda': 7.3157867737583415e-06}. Best is trial 18 with value: 38.87170843860092.\n"
     ]
    },
    {
     "name": "stdout",
     "output_type": "stream",
     "text": [
      "Trial 18 finished with value: 38.87170843860092 and parameters: {'colsample_bytree': 0.33784150442728167, 'learning_rate': 0.026427213059109073, 'min_child_weight': 2, 'gamma': 0.4972196374155548, 'subsample': 0.20761752317025953, 'reg_alpha': 1.3631306673374275, 'reg_lambda': 7.3157867737583415e-06}. Best is trial 18 with value: 38.87170843860092.\n",
      "Trial 18 finished with value: 38.87170843860092 and parameters: {'colsample_bytree': 0.33784150442728167, 'learning_rate': 0.026427213059109073, 'min_child_weight': 2, 'gamma': 0.4972196374155548, 'subsample': 0.20761752317025953, 'reg_alpha': 1.3631306673374275, 'reg_lambda': 7.3157867737583415e-06}. Best is trial 18 with value: 38.87170843860092.\n",
      "Trial 18 finished with value: 38.87170843860092 and parameters: {'colsample_bytree': 0.33784150442728167, 'learning_rate': 0.026427213059109073, 'min_child_weight': 2, 'gamma': 0.4972196374155548, 'subsample': 0.20761752317025953, 'reg_alpha': 1.3631306673374275, 'reg_lambda': 7.3157867737583415e-06}. Best is trial 18 with value: 38.87170843860092.\n",
      "Trial 18 finished with value: 38.87170843860092 and parameters: {'colsample_bytree': 0.33784150442728167, 'learning_rate': 0.026427213059109073, 'min_child_weight': 2, 'gamma': 0.4972196374155548, 'subsample': 0.20761752317025953, 'reg_alpha': 1.3631306673374275, 'reg_lambda': 7.3157867737583415e-06}. Best is trial 18 with value: 38.87170843860092.\n",
      "Trial 18 finished with value: 38.87170843860092 and parameters: {'colsample_bytree': 0.33784150442728167, 'learning_rate': 0.026427213059109073, 'min_child_weight': 2, 'gamma': 0.4972196374155548, 'subsample': 0.20761752317025953, 'reg_alpha': 1.3631306673374275, 'reg_lambda': 7.3157867737583415e-06}. Best is trial 18 with value: 38.87170843860092.\n",
      "Trial 18 finished with value: 38.87170843860092 and parameters: {'colsample_bytree': 0.33784150442728167, 'learning_rate': 0.026427213059109073, 'min_child_weight': 2, 'gamma': 0.4972196374155548, 'subsample': 0.20761752317025953, 'reg_alpha': 1.3631306673374275, 'reg_lambda': 7.3157867737583415e-06}. Best is trial 18 with value: 38.87170843860092.\n",
      "Trial 18 finished with value: 38.87170843860092 and parameters: {'colsample_bytree': 0.33784150442728167, 'learning_rate': 0.026427213059109073, 'min_child_weight': 2, 'gamma': 0.4972196374155548, 'subsample': 0.20761752317025953, 'reg_alpha': 1.3631306673374275, 'reg_lambda': 7.3157867737583415e-06}. Best is trial 18 with value: 38.87170843860092.\n"
     ]
    },
    {
     "name": "stderr",
     "output_type": "stream",
     "text": [
      "[I 2025-02-05 20:56:05,259] Trial 19 pruned. Trial was pruned at iteration 0.\n"
     ]
    },
    {
     "name": "stdout",
     "output_type": "stream",
     "text": [
      "Trial 19 pruned. Trial was pruned at iteration 0.\n",
      "Trial 19 pruned. Trial was pruned at iteration 0.\n",
      "Trial 19 pruned. Trial was pruned at iteration 0.\n",
      "Trial 19 pruned. Trial was pruned at iteration 0.\n",
      "Trial 19 pruned. Trial was pruned at iteration 0.\n",
      "Trial 19 pruned. Trial was pruned at iteration 0.\n",
      "Trial 19 pruned. Trial was pruned at iteration 0.\n"
     ]
    },
    {
     "name": "stderr",
     "output_type": "stream",
     "text": [
      "[I 2025-02-05 20:56:06,133] Trial 20 pruned. Trial was pruned at iteration 1.\n"
     ]
    },
    {
     "name": "stdout",
     "output_type": "stream",
     "text": [
      "Trial 20 pruned. Trial was pruned at iteration 1.\n",
      "Trial 20 pruned. Trial was pruned at iteration 1.\n",
      "Trial 20 pruned. Trial was pruned at iteration 1.\n",
      "Trial 20 pruned. Trial was pruned at iteration 1.\n",
      "Trial 20 pruned. Trial was pruned at iteration 1.\n",
      "Trial 20 pruned. Trial was pruned at iteration 1.\n",
      "Trial 20 pruned. Trial was pruned at iteration 1.\n"
     ]
    },
    {
     "name": "stderr",
     "output_type": "stream",
     "text": [
      "[I 2025-02-05 20:56:07,354] Trial 21 pruned. Trial was pruned at iteration 0.\n"
     ]
    },
    {
     "name": "stdout",
     "output_type": "stream",
     "text": [
      "Trial 21 pruned. Trial was pruned at iteration 0.\n",
      "Trial 21 pruned. Trial was pruned at iteration 0.\n",
      "Trial 21 pruned. Trial was pruned at iteration 0.\n",
      "Trial 21 pruned. Trial was pruned at iteration 0.\n",
      "Trial 21 pruned. Trial was pruned at iteration 0.\n",
      "Trial 21 pruned. Trial was pruned at iteration 0.\n",
      "Trial 21 pruned. Trial was pruned at iteration 0.\n"
     ]
    },
    {
     "name": "stderr",
     "output_type": "stream",
     "text": [
      "[I 2025-02-05 20:56:45,515] Trial 22 finished with value: 38.872631111227484 and parameters: {'colsample_bytree': 0.3400158419247132, 'learning_rate': 0.04281842813467101, 'min_child_weight': 2, 'gamma': 0.5720333884918819, 'subsample': 0.21454620138357824, 'reg_alpha': 1.1562784971864235, 'reg_lambda': 5.664374851942347e-06}. Best is trial 18 with value: 38.87170843860092.\n"
     ]
    },
    {
     "name": "stdout",
     "output_type": "stream",
     "text": [
      "Trial 22 finished with value: 38.872631111227484 and parameters: {'colsample_bytree': 0.3400158419247132, 'learning_rate': 0.04281842813467101, 'min_child_weight': 2, 'gamma': 0.5720333884918819, 'subsample': 0.21454620138357824, 'reg_alpha': 1.1562784971864235, 'reg_lambda': 5.664374851942347e-06}. Best is trial 18 with value: 38.87170843860092.\n",
      "Trial 22 finished with value: 38.872631111227484 and parameters: {'colsample_bytree': 0.3400158419247132, 'learning_rate': 0.04281842813467101, 'min_child_weight': 2, 'gamma': 0.5720333884918819, 'subsample': 0.21454620138357824, 'reg_alpha': 1.1562784971864235, 'reg_lambda': 5.664374851942347e-06}. Best is trial 18 with value: 38.87170843860092.\n",
      "Trial 22 finished with value: 38.872631111227484 and parameters: {'colsample_bytree': 0.3400158419247132, 'learning_rate': 0.04281842813467101, 'min_child_weight': 2, 'gamma': 0.5720333884918819, 'subsample': 0.21454620138357824, 'reg_alpha': 1.1562784971864235, 'reg_lambda': 5.664374851942347e-06}. Best is trial 18 with value: 38.87170843860092.\n",
      "Trial 22 finished with value: 38.872631111227484 and parameters: {'colsample_bytree': 0.3400158419247132, 'learning_rate': 0.04281842813467101, 'min_child_weight': 2, 'gamma': 0.5720333884918819, 'subsample': 0.21454620138357824, 'reg_alpha': 1.1562784971864235, 'reg_lambda': 5.664374851942347e-06}. Best is trial 18 with value: 38.87170843860092.\n",
      "Trial 22 finished with value: 38.872631111227484 and parameters: {'colsample_bytree': 0.3400158419247132, 'learning_rate': 0.04281842813467101, 'min_child_weight': 2, 'gamma': 0.5720333884918819, 'subsample': 0.21454620138357824, 'reg_alpha': 1.1562784971864235, 'reg_lambda': 5.664374851942347e-06}. Best is trial 18 with value: 38.87170843860092.\n",
      "Trial 22 finished with value: 38.872631111227484 and parameters: {'colsample_bytree': 0.3400158419247132, 'learning_rate': 0.04281842813467101, 'min_child_weight': 2, 'gamma': 0.5720333884918819, 'subsample': 0.21454620138357824, 'reg_alpha': 1.1562784971864235, 'reg_lambda': 5.664374851942347e-06}. Best is trial 18 with value: 38.87170843860092.\n",
      "Trial 22 finished with value: 38.872631111227484 and parameters: {'colsample_bytree': 0.3400158419247132, 'learning_rate': 0.04281842813467101, 'min_child_weight': 2, 'gamma': 0.5720333884918819, 'subsample': 0.21454620138357824, 'reg_alpha': 1.1562784971864235, 'reg_lambda': 5.664374851942347e-06}. Best is trial 18 with value: 38.87170843860092.\n"
     ]
    },
    {
     "name": "stderr",
     "output_type": "stream",
     "text": [
      "[I 2025-02-05 20:57:27,535] Trial 23 finished with value: 38.87273410673944 and parameters: {'colsample_bytree': 0.34088241456619534, 'learning_rate': 0.043473034862645955, 'min_child_weight': 1, 'gamma': 0.5891675183048247, 'subsample': 0.21384619911452868, 'reg_alpha': 1.1702768503115375, 'reg_lambda': 4.118615444811205e-06}. Best is trial 18 with value: 38.87170843860092.\n"
     ]
    },
    {
     "name": "stdout",
     "output_type": "stream",
     "text": [
      "Trial 23 finished with value: 38.87273410673944 and parameters: {'colsample_bytree': 0.34088241456619534, 'learning_rate': 0.043473034862645955, 'min_child_weight': 1, 'gamma': 0.5891675183048247, 'subsample': 0.21384619911452868, 'reg_alpha': 1.1702768503115375, 'reg_lambda': 4.118615444811205e-06}. Best is trial 18 with value: 38.87170843860092.\n",
      "Trial 23 finished with value: 38.87273410673944 and parameters: {'colsample_bytree': 0.34088241456619534, 'learning_rate': 0.043473034862645955, 'min_child_weight': 1, 'gamma': 0.5891675183048247, 'subsample': 0.21384619911452868, 'reg_alpha': 1.1702768503115375, 'reg_lambda': 4.118615444811205e-06}. Best is trial 18 with value: 38.87170843860092.\n",
      "Trial 23 finished with value: 38.87273410673944 and parameters: {'colsample_bytree': 0.34088241456619534, 'learning_rate': 0.043473034862645955, 'min_child_weight': 1, 'gamma': 0.5891675183048247, 'subsample': 0.21384619911452868, 'reg_alpha': 1.1702768503115375, 'reg_lambda': 4.118615444811205e-06}. Best is trial 18 with value: 38.87170843860092.\n",
      "Trial 23 finished with value: 38.87273410673944 and parameters: {'colsample_bytree': 0.34088241456619534, 'learning_rate': 0.043473034862645955, 'min_child_weight': 1, 'gamma': 0.5891675183048247, 'subsample': 0.21384619911452868, 'reg_alpha': 1.1702768503115375, 'reg_lambda': 4.118615444811205e-06}. Best is trial 18 with value: 38.87170843860092.\n",
      "Trial 23 finished with value: 38.87273410673944 and parameters: {'colsample_bytree': 0.34088241456619534, 'learning_rate': 0.043473034862645955, 'min_child_weight': 1, 'gamma': 0.5891675183048247, 'subsample': 0.21384619911452868, 'reg_alpha': 1.1702768503115375, 'reg_lambda': 4.118615444811205e-06}. Best is trial 18 with value: 38.87170843860092.\n",
      "Trial 23 finished with value: 38.87273410673944 and parameters: {'colsample_bytree': 0.34088241456619534, 'learning_rate': 0.043473034862645955, 'min_child_weight': 1, 'gamma': 0.5891675183048247, 'subsample': 0.21384619911452868, 'reg_alpha': 1.1702768503115375, 'reg_lambda': 4.118615444811205e-06}. Best is trial 18 with value: 38.87170843860092.\n",
      "Trial 23 finished with value: 38.87273410673944 and parameters: {'colsample_bytree': 0.34088241456619534, 'learning_rate': 0.043473034862645955, 'min_child_weight': 1, 'gamma': 0.5891675183048247, 'subsample': 0.21384619911452868, 'reg_alpha': 1.1702768503115375, 'reg_lambda': 4.118615444811205e-06}. Best is trial 18 with value: 38.87170843860092.\n"
     ]
    },
    {
     "name": "stderr",
     "output_type": "stream",
     "text": [
      "[I 2025-02-05 20:57:28,232] Trial 24 pruned. Trial was pruned at iteration 0.\n"
     ]
    },
    {
     "name": "stdout",
     "output_type": "stream",
     "text": [
      "Trial 24 pruned. Trial was pruned at iteration 0.\n",
      "Trial 24 pruned. Trial was pruned at iteration 0.\n",
      "Trial 24 pruned. Trial was pruned at iteration 0.\n",
      "Trial 24 pruned. Trial was pruned at iteration 0.\n",
      "Trial 24 pruned. Trial was pruned at iteration 0.\n",
      "Trial 24 pruned. Trial was pruned at iteration 0.\n",
      "Trial 24 pruned. Trial was pruned at iteration 0.\n"
     ]
    },
    {
     "name": "stderr",
     "output_type": "stream",
     "text": [
      "[I 2025-02-05 20:57:28,982] Trial 25 pruned. Trial was pruned at iteration 0.\n"
     ]
    },
    {
     "name": "stdout",
     "output_type": "stream",
     "text": [
      "Trial 25 pruned. Trial was pruned at iteration 0.\n",
      "Trial 25 pruned. Trial was pruned at iteration 0.\n",
      "Trial 25 pruned. Trial was pruned at iteration 0.\n",
      "Trial 25 pruned. Trial was pruned at iteration 0.\n",
      "Trial 25 pruned. Trial was pruned at iteration 0.\n",
      "Trial 25 pruned. Trial was pruned at iteration 0.\n",
      "Trial 25 pruned. Trial was pruned at iteration 0.\n"
     ]
    },
    {
     "name": "stderr",
     "output_type": "stream",
     "text": [
      "[I 2025-02-05 20:57:29,581] Trial 26 pruned. Trial was pruned at iteration 0.\n"
     ]
    },
    {
     "name": "stdout",
     "output_type": "stream",
     "text": [
      "Trial 26 pruned. Trial was pruned at iteration 0.\n",
      "Trial 26 pruned. Trial was pruned at iteration 0.\n",
      "Trial 26 pruned. Trial was pruned at iteration 0.\n",
      "Trial 26 pruned. Trial was pruned at iteration 0.\n",
      "Trial 26 pruned. Trial was pruned at iteration 0.\n",
      "Trial 26 pruned. Trial was pruned at iteration 0.\n",
      "Trial 26 pruned. Trial was pruned at iteration 0.\n"
     ]
    },
    {
     "name": "stderr",
     "output_type": "stream",
     "text": [
      "[I 2025-02-05 20:58:10,847] Trial 27 finished with value: 38.87202410019754 and parameters: {'colsample_bytree': 0.3407616991800236, 'learning_rate': 0.03664206430910981, 'min_child_weight': 6, 'gamma': 0.5844233449853948, 'subsample': 0.22577717085507312, 'reg_alpha': 0.8992906782601752, 'reg_lambda': 4.955374856425874e-06}. Best is trial 18 with value: 38.87170843860092.\n"
     ]
    },
    {
     "name": "stdout",
     "output_type": "stream",
     "text": [
      "Trial 27 finished with value: 38.87202410019754 and parameters: {'colsample_bytree': 0.3407616991800236, 'learning_rate': 0.03664206430910981, 'min_child_weight': 6, 'gamma': 0.5844233449853948, 'subsample': 0.22577717085507312, 'reg_alpha': 0.8992906782601752, 'reg_lambda': 4.955374856425874e-06}. Best is trial 18 with value: 38.87170843860092.\n",
      "Trial 27 finished with value: 38.87202410019754 and parameters: {'colsample_bytree': 0.3407616991800236, 'learning_rate': 0.03664206430910981, 'min_child_weight': 6, 'gamma': 0.5844233449853948, 'subsample': 0.22577717085507312, 'reg_alpha': 0.8992906782601752, 'reg_lambda': 4.955374856425874e-06}. Best is trial 18 with value: 38.87170843860092.\n",
      "Trial 27 finished with value: 38.87202410019754 and parameters: {'colsample_bytree': 0.3407616991800236, 'learning_rate': 0.03664206430910981, 'min_child_weight': 6, 'gamma': 0.5844233449853948, 'subsample': 0.22577717085507312, 'reg_alpha': 0.8992906782601752, 'reg_lambda': 4.955374856425874e-06}. Best is trial 18 with value: 38.87170843860092.\n",
      "Trial 27 finished with value: 38.87202410019754 and parameters: {'colsample_bytree': 0.3407616991800236, 'learning_rate': 0.03664206430910981, 'min_child_weight': 6, 'gamma': 0.5844233449853948, 'subsample': 0.22577717085507312, 'reg_alpha': 0.8992906782601752, 'reg_lambda': 4.955374856425874e-06}. Best is trial 18 with value: 38.87170843860092.\n",
      "Trial 27 finished with value: 38.87202410019754 and parameters: {'colsample_bytree': 0.3407616991800236, 'learning_rate': 0.03664206430910981, 'min_child_weight': 6, 'gamma': 0.5844233449853948, 'subsample': 0.22577717085507312, 'reg_alpha': 0.8992906782601752, 'reg_lambda': 4.955374856425874e-06}. Best is trial 18 with value: 38.87170843860092.\n",
      "Trial 27 finished with value: 38.87202410019754 and parameters: {'colsample_bytree': 0.3407616991800236, 'learning_rate': 0.03664206430910981, 'min_child_weight': 6, 'gamma': 0.5844233449853948, 'subsample': 0.22577717085507312, 'reg_alpha': 0.8992906782601752, 'reg_lambda': 4.955374856425874e-06}. Best is trial 18 with value: 38.87170843860092.\n",
      "Trial 27 finished with value: 38.87202410019754 and parameters: {'colsample_bytree': 0.3407616991800236, 'learning_rate': 0.03664206430910981, 'min_child_weight': 6, 'gamma': 0.5844233449853948, 'subsample': 0.22577717085507312, 'reg_alpha': 0.8992906782601752, 'reg_lambda': 4.955374856425874e-06}. Best is trial 18 with value: 38.87170843860092.\n"
     ]
    },
    {
     "name": "stderr",
     "output_type": "stream",
     "text": [
      "[I 2025-02-05 20:58:11,463] Trial 28 pruned. Trial was pruned at iteration 0.\n"
     ]
    },
    {
     "name": "stdout",
     "output_type": "stream",
     "text": [
      "Trial 28 pruned. Trial was pruned at iteration 0.\n",
      "Trial 28 pruned. Trial was pruned at iteration 0.\n",
      "Trial 28 pruned. Trial was pruned at iteration 0.\n",
      "Trial 28 pruned. Trial was pruned at iteration 0.\n",
      "Trial 28 pruned. Trial was pruned at iteration 0.\n",
      "Trial 28 pruned. Trial was pruned at iteration 0.\n",
      "Trial 28 pruned. Trial was pruned at iteration 0.\n"
     ]
    },
    {
     "name": "stderr",
     "output_type": "stream",
     "text": [
      "[I 2025-02-05 20:58:12,069] Trial 29 pruned. Trial was pruned at iteration 0.\n"
     ]
    },
    {
     "name": "stdout",
     "output_type": "stream",
     "text": [
      "Trial 29 pruned. Trial was pruned at iteration 0.\n",
      "Trial 29 pruned. Trial was pruned at iteration 0.\n",
      "Trial 29 pruned. Trial was pruned at iteration 0.\n",
      "Trial 29 pruned. Trial was pruned at iteration 0.\n",
      "Trial 29 pruned. Trial was pruned at iteration 0.\n",
      "Trial 29 pruned. Trial was pruned at iteration 0.\n",
      "Trial 29 pruned. Trial was pruned at iteration 0.\n"
     ]
    },
    {
     "name": "stderr",
     "output_type": "stream",
     "text": [
      "[I 2025-02-05 20:58:12,734] Trial 30 pruned. Trial was pruned at iteration 0.\n"
     ]
    },
    {
     "name": "stdout",
     "output_type": "stream",
     "text": [
      "Trial 30 pruned. Trial was pruned at iteration 0.\n",
      "Trial 30 pruned. Trial was pruned at iteration 0.\n",
      "Trial 30 pruned. Trial was pruned at iteration 0.\n",
      "Trial 30 pruned. Trial was pruned at iteration 0.\n",
      "Trial 30 pruned. Trial was pruned at iteration 0.\n",
      "Trial 30 pruned. Trial was pruned at iteration 0.\n",
      "Trial 30 pruned. Trial was pruned at iteration 0.\n"
     ]
    },
    {
     "name": "stderr",
     "output_type": "stream",
     "text": [
      "[I 2025-02-05 20:58:56,277] Trial 31 finished with value: 38.87228648033582 and parameters: {'colsample_bytree': 0.3389486955761413, 'learning_rate': 0.04393530071667737, 'min_child_weight': 5, 'gamma': 0.5652818438208351, 'subsample': 0.22419365689131285, 'reg_alpha': 1.2782895739977456, 'reg_lambda': 5.283901138416624e-06}. Best is trial 18 with value: 38.87170843860092.\n"
     ]
    },
    {
     "name": "stdout",
     "output_type": "stream",
     "text": [
      "Trial 31 finished with value: 38.87228648033582 and parameters: {'colsample_bytree': 0.3389486955761413, 'learning_rate': 0.04393530071667737, 'min_child_weight': 5, 'gamma': 0.5652818438208351, 'subsample': 0.22419365689131285, 'reg_alpha': 1.2782895739977456, 'reg_lambda': 5.283901138416624e-06}. Best is trial 18 with value: 38.87170843860092.\n",
      "Trial 31 finished with value: 38.87228648033582 and parameters: {'colsample_bytree': 0.3389486955761413, 'learning_rate': 0.04393530071667737, 'min_child_weight': 5, 'gamma': 0.5652818438208351, 'subsample': 0.22419365689131285, 'reg_alpha': 1.2782895739977456, 'reg_lambda': 5.283901138416624e-06}. Best is trial 18 with value: 38.87170843860092.\n",
      "Trial 31 finished with value: 38.87228648033582 and parameters: {'colsample_bytree': 0.3389486955761413, 'learning_rate': 0.04393530071667737, 'min_child_weight': 5, 'gamma': 0.5652818438208351, 'subsample': 0.22419365689131285, 'reg_alpha': 1.2782895739977456, 'reg_lambda': 5.283901138416624e-06}. Best is trial 18 with value: 38.87170843860092.\n",
      "Trial 31 finished with value: 38.87228648033582 and parameters: {'colsample_bytree': 0.3389486955761413, 'learning_rate': 0.04393530071667737, 'min_child_weight': 5, 'gamma': 0.5652818438208351, 'subsample': 0.22419365689131285, 'reg_alpha': 1.2782895739977456, 'reg_lambda': 5.283901138416624e-06}. Best is trial 18 with value: 38.87170843860092.\n",
      "Trial 31 finished with value: 38.87228648033582 and parameters: {'colsample_bytree': 0.3389486955761413, 'learning_rate': 0.04393530071667737, 'min_child_weight': 5, 'gamma': 0.5652818438208351, 'subsample': 0.22419365689131285, 'reg_alpha': 1.2782895739977456, 'reg_lambda': 5.283901138416624e-06}. Best is trial 18 with value: 38.87170843860092.\n",
      "Trial 31 finished with value: 38.87228648033582 and parameters: {'colsample_bytree': 0.3389486955761413, 'learning_rate': 0.04393530071667737, 'min_child_weight': 5, 'gamma': 0.5652818438208351, 'subsample': 0.22419365689131285, 'reg_alpha': 1.2782895739977456, 'reg_lambda': 5.283901138416624e-06}. Best is trial 18 with value: 38.87170843860092.\n",
      "Trial 31 finished with value: 38.87228648033582 and parameters: {'colsample_bytree': 0.3389486955761413, 'learning_rate': 0.04393530071667737, 'min_child_weight': 5, 'gamma': 0.5652818438208351, 'subsample': 0.22419365689131285, 'reg_alpha': 1.2782895739977456, 'reg_lambda': 5.283901138416624e-06}. Best is trial 18 with value: 38.87170843860092.\n"
     ]
    },
    {
     "name": "stderr",
     "output_type": "stream",
     "text": [
      "[I 2025-02-05 20:58:57,161] Trial 32 pruned. Trial was pruned at iteration 0.\n"
     ]
    },
    {
     "name": "stdout",
     "output_type": "stream",
     "text": [
      "Trial 32 pruned. Trial was pruned at iteration 0.\n",
      "Trial 32 pruned. Trial was pruned at iteration 0.\n",
      "Trial 32 pruned. Trial was pruned at iteration 0.\n",
      "Trial 32 pruned. Trial was pruned at iteration 0.\n",
      "Trial 32 pruned. Trial was pruned at iteration 0.\n",
      "Trial 32 pruned. Trial was pruned at iteration 0.\n",
      "Trial 32 pruned. Trial was pruned at iteration 0.\n"
     ]
    },
    {
     "name": "stderr",
     "output_type": "stream",
     "text": [
      "[I 2025-02-05 20:58:58,114] Trial 33 pruned. Trial was pruned at iteration 0.\n"
     ]
    },
    {
     "name": "stdout",
     "output_type": "stream",
     "text": [
      "Trial 33 pruned. Trial was pruned at iteration 0.\n",
      "Trial 33 pruned. Trial was pruned at iteration 0.\n",
      "Trial 33 pruned. Trial was pruned at iteration 0.\n",
      "Trial 33 pruned. Trial was pruned at iteration 0.\n",
      "Trial 33 pruned. Trial was pruned at iteration 0.\n",
      "Trial 33 pruned. Trial was pruned at iteration 0.\n",
      "Trial 33 pruned. Trial was pruned at iteration 0.\n"
     ]
    },
    {
     "name": "stderr",
     "output_type": "stream",
     "text": [
      "[I 2025-02-05 20:58:58,865] Trial 34 pruned. Trial was pruned at iteration 0.\n"
     ]
    },
    {
     "name": "stdout",
     "output_type": "stream",
     "text": [
      "Trial 34 pruned. Trial was pruned at iteration 0.\n",
      "Trial 34 pruned. Trial was pruned at iteration 0.\n",
      "Trial 34 pruned. Trial was pruned at iteration 0.\n",
      "Trial 34 pruned. Trial was pruned at iteration 0.\n",
      "Trial 34 pruned. Trial was pruned at iteration 0.\n",
      "Trial 34 pruned. Trial was pruned at iteration 0.\n",
      "Trial 34 pruned. Trial was pruned at iteration 0.\n"
     ]
    },
    {
     "name": "stderr",
     "output_type": "stream",
     "text": [
      "[I 2025-02-05 20:58:59,600] Trial 35 pruned. Trial was pruned at iteration 0.\n"
     ]
    },
    {
     "name": "stdout",
     "output_type": "stream",
     "text": [
      "Trial 35 pruned. Trial was pruned at iteration 0.\n",
      "Trial 35 pruned. Trial was pruned at iteration 0.\n",
      "Trial 35 pruned. Trial was pruned at iteration 0.\n",
      "Trial 35 pruned. Trial was pruned at iteration 0.\n",
      "Trial 35 pruned. Trial was pruned at iteration 0.\n",
      "Trial 35 pruned. Trial was pruned at iteration 0.\n",
      "Trial 35 pruned. Trial was pruned at iteration 0.\n"
     ]
    },
    {
     "name": "stderr",
     "output_type": "stream",
     "text": [
      "[I 2025-02-05 20:59:00,240] Trial 36 pruned. Trial was pruned at iteration 0.\n"
     ]
    },
    {
     "name": "stdout",
     "output_type": "stream",
     "text": [
      "Trial 36 pruned. Trial was pruned at iteration 0.\n",
      "Trial 36 pruned. Trial was pruned at iteration 0.\n",
      "Trial 36 pruned. Trial was pruned at iteration 0.\n",
      "Trial 36 pruned. Trial was pruned at iteration 0.\n",
      "Trial 36 pruned. Trial was pruned at iteration 0.\n",
      "Trial 36 pruned. Trial was pruned at iteration 0.\n",
      "Trial 36 pruned. Trial was pruned at iteration 0.\n"
     ]
    },
    {
     "name": "stderr",
     "output_type": "stream",
     "text": [
      "[I 2025-02-05 20:59:39,979] Trial 37 finished with value: 38.87250794256928 and parameters: {'colsample_bytree': 0.3460824806062526, 'learning_rate': 0.041926477313848076, 'min_child_weight': 7, 'gamma': 0.04801101708199551, 'subsample': 0.2199691979297318, 'reg_alpha': 0.9392899299442745, 'reg_lambda': 1.022253358064308e-06}. Best is trial 18 with value: 38.87170843860092.\n"
     ]
    },
    {
     "name": "stdout",
     "output_type": "stream",
     "text": [
      "Trial 37 finished with value: 38.87250794256928 and parameters: {'colsample_bytree': 0.3460824806062526, 'learning_rate': 0.041926477313848076, 'min_child_weight': 7, 'gamma': 0.04801101708199551, 'subsample': 0.2199691979297318, 'reg_alpha': 0.9392899299442745, 'reg_lambda': 1.022253358064308e-06}. Best is trial 18 with value: 38.87170843860092.\n",
      "Trial 37 finished with value: 38.87250794256928 and parameters: {'colsample_bytree': 0.3460824806062526, 'learning_rate': 0.041926477313848076, 'min_child_weight': 7, 'gamma': 0.04801101708199551, 'subsample': 0.2199691979297318, 'reg_alpha': 0.9392899299442745, 'reg_lambda': 1.022253358064308e-06}. Best is trial 18 with value: 38.87170843860092.\n",
      "Trial 37 finished with value: 38.87250794256928 and parameters: {'colsample_bytree': 0.3460824806062526, 'learning_rate': 0.041926477313848076, 'min_child_weight': 7, 'gamma': 0.04801101708199551, 'subsample': 0.2199691979297318, 'reg_alpha': 0.9392899299442745, 'reg_lambda': 1.022253358064308e-06}. Best is trial 18 with value: 38.87170843860092.\n",
      "Trial 37 finished with value: 38.87250794256928 and parameters: {'colsample_bytree': 0.3460824806062526, 'learning_rate': 0.041926477313848076, 'min_child_weight': 7, 'gamma': 0.04801101708199551, 'subsample': 0.2199691979297318, 'reg_alpha': 0.9392899299442745, 'reg_lambda': 1.022253358064308e-06}. Best is trial 18 with value: 38.87170843860092.\n",
      "Trial 37 finished with value: 38.87250794256928 and parameters: {'colsample_bytree': 0.3460824806062526, 'learning_rate': 0.041926477313848076, 'min_child_weight': 7, 'gamma': 0.04801101708199551, 'subsample': 0.2199691979297318, 'reg_alpha': 0.9392899299442745, 'reg_lambda': 1.022253358064308e-06}. Best is trial 18 with value: 38.87170843860092.\n",
      "Trial 37 finished with value: 38.87250794256928 and parameters: {'colsample_bytree': 0.3460824806062526, 'learning_rate': 0.041926477313848076, 'min_child_weight': 7, 'gamma': 0.04801101708199551, 'subsample': 0.2199691979297318, 'reg_alpha': 0.9392899299442745, 'reg_lambda': 1.022253358064308e-06}. Best is trial 18 with value: 38.87170843860092.\n",
      "Trial 37 finished with value: 38.87250794256928 and parameters: {'colsample_bytree': 0.3460824806062526, 'learning_rate': 0.041926477313848076, 'min_child_weight': 7, 'gamma': 0.04801101708199551, 'subsample': 0.2199691979297318, 'reg_alpha': 0.9392899299442745, 'reg_lambda': 1.022253358064308e-06}. Best is trial 18 with value: 38.87170843860092.\n"
     ]
    },
    {
     "name": "stderr",
     "output_type": "stream",
     "text": [
      "[I 2025-02-05 20:59:40,599] Trial 38 pruned. Trial was pruned at iteration 0.\n"
     ]
    },
    {
     "name": "stdout",
     "output_type": "stream",
     "text": [
      "Trial 38 pruned. Trial was pruned at iteration 0.\n",
      "Trial 38 pruned. Trial was pruned at iteration 0.\n",
      "Trial 38 pruned. Trial was pruned at iteration 0.\n",
      "Trial 38 pruned. Trial was pruned at iteration 0.\n",
      "Trial 38 pruned. Trial was pruned at iteration 0.\n",
      "Trial 38 pruned. Trial was pruned at iteration 0.\n",
      "Trial 38 pruned. Trial was pruned at iteration 0.\n"
     ]
    },
    {
     "name": "stderr",
     "output_type": "stream",
     "text": [
      "[I 2025-02-05 20:59:41,232] Trial 39 pruned. Trial was pruned at iteration 0.\n"
     ]
    },
    {
     "name": "stdout",
     "output_type": "stream",
     "text": [
      "Trial 39 pruned. Trial was pruned at iteration 0.\n",
      "Trial 39 pruned. Trial was pruned at iteration 0.\n",
      "Trial 39 pruned. Trial was pruned at iteration 0.\n",
      "Trial 39 pruned. Trial was pruned at iteration 0.\n",
      "Trial 39 pruned. Trial was pruned at iteration 0.\n",
      "Trial 39 pruned. Trial was pruned at iteration 0.\n",
      "Trial 39 pruned. Trial was pruned at iteration 0.\n"
     ]
    },
    {
     "name": "stderr",
     "output_type": "stream",
     "text": [
      "[I 2025-02-05 20:59:41,906] Trial 40 pruned. Trial was pruned at iteration 0.\n"
     ]
    },
    {
     "name": "stdout",
     "output_type": "stream",
     "text": [
      "Trial 40 pruned. Trial was pruned at iteration 0.\n",
      "Trial 40 pruned. Trial was pruned at iteration 0.\n",
      "Trial 40 pruned. Trial was pruned at iteration 0.\n",
      "Trial 40 pruned. Trial was pruned at iteration 0.\n",
      "Trial 40 pruned. Trial was pruned at iteration 0.\n",
      "Trial 40 pruned. Trial was pruned at iteration 0.\n",
      "Trial 40 pruned. Trial was pruned at iteration 0.\n"
     ]
    },
    {
     "name": "stderr",
     "output_type": "stream",
     "text": [
      "[I 2025-02-05 21:00:24,807] Trial 41 finished with value: 38.87254700748433 and parameters: {'colsample_bytree': 0.3459977588463764, 'learning_rate': 0.04256275601524342, 'min_child_weight': 7, 'gamma': 0.2714783425058982, 'subsample': 0.22055467032772075, 'reg_alpha': 0.9625878677693824, 'reg_lambda': 1.425630317458161e-06}. Best is trial 18 with value: 38.87170843860092.\n"
     ]
    },
    {
     "name": "stdout",
     "output_type": "stream",
     "text": [
      "Trial 41 finished with value: 38.87254700748433 and parameters: {'colsample_bytree': 0.3459977588463764, 'learning_rate': 0.04256275601524342, 'min_child_weight': 7, 'gamma': 0.2714783425058982, 'subsample': 0.22055467032772075, 'reg_alpha': 0.9625878677693824, 'reg_lambda': 1.425630317458161e-06}. Best is trial 18 with value: 38.87170843860092.\n",
      "Trial 41 finished with value: 38.87254700748433 and parameters: {'colsample_bytree': 0.3459977588463764, 'learning_rate': 0.04256275601524342, 'min_child_weight': 7, 'gamma': 0.2714783425058982, 'subsample': 0.22055467032772075, 'reg_alpha': 0.9625878677693824, 'reg_lambda': 1.425630317458161e-06}. Best is trial 18 with value: 38.87170843860092.\n",
      "Trial 41 finished with value: 38.87254700748433 and parameters: {'colsample_bytree': 0.3459977588463764, 'learning_rate': 0.04256275601524342, 'min_child_weight': 7, 'gamma': 0.2714783425058982, 'subsample': 0.22055467032772075, 'reg_alpha': 0.9625878677693824, 'reg_lambda': 1.425630317458161e-06}. Best is trial 18 with value: 38.87170843860092.\n",
      "Trial 41 finished with value: 38.87254700748433 and parameters: {'colsample_bytree': 0.3459977588463764, 'learning_rate': 0.04256275601524342, 'min_child_weight': 7, 'gamma': 0.2714783425058982, 'subsample': 0.22055467032772075, 'reg_alpha': 0.9625878677693824, 'reg_lambda': 1.425630317458161e-06}. Best is trial 18 with value: 38.87170843860092.\n",
      "Trial 41 finished with value: 38.87254700748433 and parameters: {'colsample_bytree': 0.3459977588463764, 'learning_rate': 0.04256275601524342, 'min_child_weight': 7, 'gamma': 0.2714783425058982, 'subsample': 0.22055467032772075, 'reg_alpha': 0.9625878677693824, 'reg_lambda': 1.425630317458161e-06}. Best is trial 18 with value: 38.87170843860092.\n",
      "Trial 41 finished with value: 38.87254700748433 and parameters: {'colsample_bytree': 0.3459977588463764, 'learning_rate': 0.04256275601524342, 'min_child_weight': 7, 'gamma': 0.2714783425058982, 'subsample': 0.22055467032772075, 'reg_alpha': 0.9625878677693824, 'reg_lambda': 1.425630317458161e-06}. Best is trial 18 with value: 38.87170843860092.\n",
      "Trial 41 finished with value: 38.87254700748433 and parameters: {'colsample_bytree': 0.3459977588463764, 'learning_rate': 0.04256275601524342, 'min_child_weight': 7, 'gamma': 0.2714783425058982, 'subsample': 0.22055467032772075, 'reg_alpha': 0.9625878677693824, 'reg_lambda': 1.425630317458161e-06}. Best is trial 18 with value: 38.87170843860092.\n"
     ]
    },
    {
     "name": "stderr",
     "output_type": "stream",
     "text": [
      "[I 2025-02-05 21:00:56,731] Trial 42 pruned. Trial was pruned at iteration 244.\n"
     ]
    },
    {
     "name": "stdout",
     "output_type": "stream",
     "text": [
      "Trial 42 pruned. Trial was pruned at iteration 244.\n",
      "Trial 42 pruned. Trial was pruned at iteration 244.\n",
      "Trial 42 pruned. Trial was pruned at iteration 244.\n",
      "Trial 42 pruned. Trial was pruned at iteration 244.\n",
      "Trial 42 pruned. Trial was pruned at iteration 244.\n",
      "Trial 42 pruned. Trial was pruned at iteration 244.\n",
      "Trial 42 pruned. Trial was pruned at iteration 244.\n"
     ]
    },
    {
     "name": "stderr",
     "output_type": "stream",
     "text": [
      "[I 2025-02-05 21:00:57,393] Trial 43 pruned. Trial was pruned at iteration 0.\n"
     ]
    },
    {
     "name": "stdout",
     "output_type": "stream",
     "text": [
      "Trial 43 pruned. Trial was pruned at iteration 0.\n",
      "Trial 43 pruned. Trial was pruned at iteration 0.\n",
      "Trial 43 pruned. Trial was pruned at iteration 0.\n",
      "Trial 43 pruned. Trial was pruned at iteration 0.\n",
      "Trial 43 pruned. Trial was pruned at iteration 0.\n",
      "Trial 43 pruned. Trial was pruned at iteration 0.\n",
      "Trial 43 pruned. Trial was pruned at iteration 0.\n"
     ]
    },
    {
     "name": "stderr",
     "output_type": "stream",
     "text": [
      "[I 2025-02-05 21:00:58,177] Trial 44 pruned. Trial was pruned at iteration 1.\n"
     ]
    },
    {
     "name": "stdout",
     "output_type": "stream",
     "text": [
      "Trial 44 pruned. Trial was pruned at iteration 1.\n",
      "Trial 44 pruned. Trial was pruned at iteration 1.\n",
      "Trial 44 pruned. Trial was pruned at iteration 1.\n",
      "Trial 44 pruned. Trial was pruned at iteration 1.\n",
      "Trial 44 pruned. Trial was pruned at iteration 1.\n",
      "Trial 44 pruned. Trial was pruned at iteration 1.\n",
      "Trial 44 pruned. Trial was pruned at iteration 1.\n"
     ]
    },
    {
     "name": "stderr",
     "output_type": "stream",
     "text": [
      "[I 2025-02-05 21:00:58,794] Trial 45 pruned. Trial was pruned at iteration 0.\n"
     ]
    },
    {
     "name": "stdout",
     "output_type": "stream",
     "text": [
      "Trial 45 pruned. Trial was pruned at iteration 0.\n",
      "Trial 45 pruned. Trial was pruned at iteration 0.\n",
      "Trial 45 pruned. Trial was pruned at iteration 0.\n",
      "Trial 45 pruned. Trial was pruned at iteration 0.\n",
      "Trial 45 pruned. Trial was pruned at iteration 0.\n",
      "Trial 45 pruned. Trial was pruned at iteration 0.\n",
      "Trial 45 pruned. Trial was pruned at iteration 0.\n"
     ]
    },
    {
     "name": "stderr",
     "output_type": "stream",
     "text": [
      "[I 2025-02-05 21:00:59,375] Trial 46 pruned. Trial was pruned at iteration 0.\n"
     ]
    },
    {
     "name": "stdout",
     "output_type": "stream",
     "text": [
      "Trial 46 pruned. Trial was pruned at iteration 0.\n",
      "Trial 46 pruned. Trial was pruned at iteration 0.\n",
      "Trial 46 pruned. Trial was pruned at iteration 0.\n",
      "Trial 46 pruned. Trial was pruned at iteration 0.\n",
      "Trial 46 pruned. Trial was pruned at iteration 0.\n",
      "Trial 46 pruned. Trial was pruned at iteration 0.\n",
      "Trial 46 pruned. Trial was pruned at iteration 0.\n"
     ]
    },
    {
     "name": "stderr",
     "output_type": "stream",
     "text": [
      "[I 2025-02-05 21:01:00,023] Trial 47 pruned. Trial was pruned at iteration 0.\n"
     ]
    },
    {
     "name": "stdout",
     "output_type": "stream",
     "text": [
      "Trial 47 pruned. Trial was pruned at iteration 0.\n",
      "Trial 47 pruned. Trial was pruned at iteration 0.\n",
      "Trial 47 pruned. Trial was pruned at iteration 0.\n",
      "Trial 47 pruned. Trial was pruned at iteration 0.\n",
      "Trial 47 pruned. Trial was pruned at iteration 0.\n",
      "Trial 47 pruned. Trial was pruned at iteration 0.\n",
      "Trial 47 pruned. Trial was pruned at iteration 0.\n"
     ]
    },
    {
     "name": "stderr",
     "output_type": "stream",
     "text": [
      "[I 2025-02-05 21:01:00,642] Trial 48 pruned. Trial was pruned at iteration 0.\n"
     ]
    },
    {
     "name": "stdout",
     "output_type": "stream",
     "text": [
      "Trial 48 pruned. Trial was pruned at iteration 0.\n",
      "Trial 48 pruned. Trial was pruned at iteration 0.\n",
      "Trial 48 pruned. Trial was pruned at iteration 0.\n",
      "Trial 48 pruned. Trial was pruned at iteration 0.\n",
      "Trial 48 pruned. Trial was pruned at iteration 0.\n",
      "Trial 48 pruned. Trial was pruned at iteration 0.\n",
      "Trial 48 pruned. Trial was pruned at iteration 0.\n"
     ]
    },
    {
     "name": "stderr",
     "output_type": "stream",
     "text": [
      "[I 2025-02-05 21:01:01,273] Trial 49 pruned. Trial was pruned at iteration 0.\n"
     ]
    },
    {
     "name": "stdout",
     "output_type": "stream",
     "text": [
      "Trial 49 pruned. Trial was pruned at iteration 0.\n",
      "Trial 49 pruned. Trial was pruned at iteration 0.\n",
      "Trial 49 pruned. Trial was pruned at iteration 0.\n",
      "Trial 49 pruned. Trial was pruned at iteration 0.\n",
      "Trial 49 pruned. Trial was pruned at iteration 0.\n",
      "Trial 49 pruned. Trial was pruned at iteration 0.\n",
      "Trial 49 pruned. Trial was pruned at iteration 0.\n"
     ]
    }
   ],
   "source": [
    "def objective(trial):\n",
    "    param = {\n",
    "        \"objective\": \"reg:squarederror\",\n",
    "        \"eval_metric\": \"rmse\",\n",
    "        # \"grow_policy\", trial.suggest_categorical(\"grow_policy\", [\"depthwise\", \"lossguide\"]),\n",
    "        # \"colsample_bytree\": trial.suggest_float(\"colsample_bytree\", 0.25, 0.35),\n",
    "        \"colsample_bytree\": trial.suggest_float(\"colsample_bytree\", 0.2, 1.0),\n",
    "\n",
    "        \"learning_rate\": trial.suggest_loguniform(\"learning_rate\", 0.01, 0.05),\n",
    "        \"max_depth\": trial.suggest_int(\"max_depth\", 3, 14),\n",
    "        \"min_child_weight\": trial.suggest_int(\"min_child_weight\", 1, 10),\n",
    "        \"gamma\": trial.suggest_float(\"gamma\", 0, 1),\n",
    "        # \"subsample\": trial.suggest_float(\"subsample\", 0.2, 0.25),\n",
    "        \"subsample\": trial.suggest_float(\"subsample\", 0.2, 1.0),\n",
    "        \"reg_alpha\": trial.suggest_loguniform(\"reg_alpha\", 0.5, 2.0),\n",
    "        \"reg_lambda\": trial.suggest_loguniform(\"reg_lambda\", 1e-6, 1),\n",
    "        \"colsample_bytree\": trial.suggest_float(\"colsample_bytree\", 0.2, 1.0),\n",
    "\n",
    "        \"seed\": 42,\n",
    "        \"verbosity\": 0,\n",
    "    }\n",
    "    \n",
    "    dtrain = xgb.DMatrix(X_train, label=y_train, enable_categorical=True)\n",
    "    dvalid = xgb.DMatrix(X_valid, label=y_valid, enable_categorical=True)\n",
    "    pruning_callback = XGBoostPruningCallback(trial, observation_key=\"validation_0-rmse\")    \n",
    "    bst = xgb.train(\n",
    "        params=param,\n",
    "        dtrain=dtrain,\n",
    "        num_boost_round=700,\n",
    "        evals=[(dtrain, \"train\"), (dvalid, \"validation_0\")],\n",
    "        early_stopping_rounds=50,\n",
    "        verbose_eval=False,\n",
    "        callbacks=[pruning_callback]\n",
    "    )\n",
    "    y_pred = bst.predict(dvalid)\n",
    "    rmse = np.sqrt(mean_squared_error(y_valid, y_pred))\n",
    "    return rmse\n",
    "\n",
    "# Set up logging for Optuna\n",
    "optuna.logging.get_logger(\"optuna\").addHandler(logging.StreamHandler(sys.stdout))\n",
    "\n",
    "# Create a study (using a SQLite database for persistence)\n",
    "study_name = datetime.now().strftime(\"%Y-%m-%d_%H-%M\")\n",
    "storage_name = f\"sqlite:///{os.path.join(optuna_dir, folder_dir, study_name)}.db\"\n",
    "study = optuna.create_study(study_name=study_name, storage=storage_name, direction=\"minimize\")\n",
    "\n",
    "# Run the optimization for 50 trials (adjust as needed)\n",
    "study.optimize(objective, n_trials=50)"
   ]
  },
  {
   "cell_type": "code",
   "execution_count": null,
   "metadata": {},
   "outputs": [],
   "source": []
  }
 ],
 "metadata": {
  "kernelspec": {
   "display_name": "py311",
   "language": "python",
   "name": "python3"
  },
  "language_info": {
   "codemirror_mode": {
    "name": "ipython",
    "version": 3
   },
   "file_extension": ".py",
   "mimetype": "text/x-python",
   "name": "python",
   "nbconvert_exporter": "python",
   "pygments_lexer": "ipython3",
   "version": "3.11.10"
  }
 },
 "nbformat": 4,
 "nbformat_minor": 2
}
