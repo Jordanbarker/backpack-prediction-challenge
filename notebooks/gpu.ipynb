{
 "cells": [
  {
   "cell_type": "code",
   "execution_count": 3,
   "metadata": {},
   "outputs": [],
   "source": [
    "from datetime import datetime\n",
    "import logging\n",
    "import sys\n",
    "import os\n",
    "import pandas as pd \n",
    "import numpy as np\n",
    "import seaborn as sns\n",
    "import matplotlib.pyplot as plt\n",
    "from sklearn.metrics import mean_squared_error\n",
    "from sklearn.model_selection import KFold\n",
    "from sklearn.model_selection import train_test_split, cross_val_score\n",
    "import lightgbm as lgb\n",
    "import optuna\n",
    "from optuna.integration import LightGBMPruningCallback\n",
    "\n",
    "import warnings\n",
    "warnings.filterwarnings('ignore')\n",
    "\n",
    "optuna_dir = \"..//optuna\"\n",
    "\n",
    "test_df = pd.read_csv(r'..//data//test.csv')\n",
    "train_df = pd.read_csv(r'..//data//train.csv')\n",
    "train_extra_df = pd.read_csv(r'..//data//training_extra.csv')\n",
    "train_df = pd.concat([train_df, train_extra_df], ignore_index=True)\n",
    "\n",
    "def prepare_data(df: pd.DataFrame, is_train: bool = True):\n",
    "    \"\"\"\n",
    "    Prepares the dataset for training or testing by renaming columns, handling missing values,\n",
    "    converting categorical and numerical features, and creating new features.\n",
    "    \n",
    "    Args:\n",
    "        df (pd.DataFrame): The input dataframe (train or test).\n",
    "        is_train (bool): Indicates if the dataframe is training data (default is True).\n",
    "        \n",
    "    Returns:\n",
    "        pd.DataFrame: The processed dataframe.\n",
    "    \"\"\"\n",
    "    \n",
    "    # Define the column names\n",
    "    columns = [\n",
    "        'id', 'brand', 'material', 'size', 'compartments', \n",
    "        'laptop_compartment', 'is_waterproof', 'style', 'color', \n",
    "        'weight_capacity'\n",
    "    ]\n",
    "    \n",
    "    if is_train:\n",
    "        columns.append('price')\n",
    "    \n",
    "    df.columns = columns\n",
    "    df = df.drop(columns='id')\n",
    "    \n",
    "    # Define the mapping for Size conversion\n",
    "    size_mapping = {\"Small\": 1, \"Medium\": 2, \"Large\": 3}\n",
    "    df[\"size_int\"] = df[\"size\"].map(size_mapping).fillna(0).astype(int)\n",
    "    \n",
    "    # Handle weight capacity\n",
    "    df['weight_capacity'] = df['weight_capacity'].fillna(0)\n",
    "    df['weight_capacity_int'] = df['weight_capacity'].astype(int)\n",
    "    df['weight_capacity_size'] = df['weight_capacity'] * df['size_int']\n",
    "    \n",
    "    # Convert categorical columns\n",
    "    df['compartments'] = df['compartments'].astype('category')\n",
    "    cat_cols = df.select_dtypes(include=['object', 'category']).columns.tolist()\n",
    "    df[cat_cols] = df[cat_cols].astype('category')\n",
    "    \n",
    "    # Convert boolean columns to integer type\n",
    "    df['laptop_compartment'] = df['laptop_compartment'].cat.codes.fillna(-1).astype(int)\n",
    "    df['is_waterproof'] = df['is_waterproof'].cat.codes.fillna(-1).astype(int)\n",
    "    \n",
    "    return df\n",
    "\n",
    "# Apply function to train and test datasets\n",
    "train_df = prepare_data(train_df, is_train=True)\n",
    "test_df = prepare_data(test_df, is_train=False)\n",
    "\n",
    "numeric_cols = ['weight_capacity', 'weight_capacity_int', 'weight_capacity_size', 'size_int', 'is_waterproof']\n",
    "cat_cols = ['brand', 'material', 'compartments', 'color']\n",
    "target = 'price'\n",
    "model_features = [\n",
    "    'weight_capacity', 'weight_capacity_int', 'weight_capacity_size', 'size_int', 'color', 'compartments', 'brand', 'material', 'is_waterproof'\n",
    "]\n",
    "\n",
    "X = train_df[model_features].copy()\n",
    "y = train_df[target]\n",
    "\n",
    "X_train, X_valid, y_train, y_valid = train_test_split(X, y, test_size=0.2, random_state=42)"
   ]
  },
  {
   "cell_type": "code",
   "execution_count": 13,
   "metadata": {},
   "outputs": [
    {
     "name": "stderr",
     "output_type": "stream",
     "text": [
      "[I 2025-02-06 18:48:42,229] A new study created in RDB with name: 2025-02-06_18-48\n"
     ]
    },
    {
     "name": "stdout",
     "output_type": "stream",
     "text": [
      "A new study created in RDB with name: 2025-02-06_18-48\n",
      "A new study created in RDB with name: 2025-02-06_18-48\n",
      "A new study created in RDB with name: 2025-02-06_18-48\n",
      "A new study created in RDB with name: 2025-02-06_18-48\n",
      "A new study created in RDB with name: 2025-02-06_18-48\n",
      "A new study created in RDB with name: 2025-02-06_18-48\n",
      "A new study created in RDB with name: 2025-02-06_18-48\n",
      "A new study created in RDB with name: 2025-02-06_18-48\n"
     ]
    },
    {
     "name": "stderr",
     "output_type": "stream",
     "text": [
      "1 warning generated.\n",
      "1 warning generated.\n",
      "1 warning generated.\n",
      "1 warning generated.\n",
      "1 warning generated.\n",
      "1 warning generated.\n",
      "1 warning generated.\n",
      "1 warning generated.\n",
      "1 warning generated.\n",
      "1 warning generated.\n",
      "1 warning generated.\n",
      "1 warning generated.\n",
      "1 warning generated.\n",
      "1 warning generated.\n",
      "1 warning generated.\n",
      "1 warning generated.\n",
      "1 warning generated.\n",
      "1 warning generated.\n",
      "1 warning generated.\n",
      "1 warning generated.\n",
      "1 warning generated.\n",
      "1 warning generated.\n",
      "1 warning generated.\n",
      "1 warning generated.\n",
      "1 warning generated.\n",
      "1 warning generated.\n",
      "1 warning generated.\n",
      "1 warning generated.\n",
      "1 warning generated.\n",
      "1 warning generated.\n",
      "1 warning generated.\n",
      "1 warning generated.\n",
      "1 warning generated.\n",
      "[I 2025-02-06 18:49:59,981] Trial 0 finished with value: 38.8618140106832 and parameters: {'colsample_bytree': 0.3076890315525387, 'learning_rate': 0.037906550523780676, 'max_bin': 68, 'min_child_samples': 64, 'n_estimators': 13795, 'num_leaves': 1065, 'reg_alpha': 0.7525889942243095, 'reg_lambda': 3.669202165080383e-06, 'subsample': 0.24782301432445766}. Best is trial 0 with value: 38.8618140106832.\n"
     ]
    },
    {
     "name": "stdout",
     "output_type": "stream",
     "text": [
      "Trial 0 finished with value: 38.8618140106832 and parameters: {'colsample_bytree': 0.3076890315525387, 'learning_rate': 0.037906550523780676, 'max_bin': 68, 'min_child_samples': 64, 'n_estimators': 13795, 'num_leaves': 1065, 'reg_alpha': 0.7525889942243095, 'reg_lambda': 3.669202165080383e-06, 'subsample': 0.24782301432445766}. Best is trial 0 with value: 38.8618140106832.\n",
      "Trial 0 finished with value: 38.8618140106832 and parameters: {'colsample_bytree': 0.3076890315525387, 'learning_rate': 0.037906550523780676, 'max_bin': 68, 'min_child_samples': 64, 'n_estimators': 13795, 'num_leaves': 1065, 'reg_alpha': 0.7525889942243095, 'reg_lambda': 3.669202165080383e-06, 'subsample': 0.24782301432445766}. Best is trial 0 with value: 38.8618140106832.\n",
      "Trial 0 finished with value: 38.8618140106832 and parameters: {'colsample_bytree': 0.3076890315525387, 'learning_rate': 0.037906550523780676, 'max_bin': 68, 'min_child_samples': 64, 'n_estimators': 13795, 'num_leaves': 1065, 'reg_alpha': 0.7525889942243095, 'reg_lambda': 3.669202165080383e-06, 'subsample': 0.24782301432445766}. Best is trial 0 with value: 38.8618140106832.\n",
      "Trial 0 finished with value: 38.8618140106832 and parameters: {'colsample_bytree': 0.3076890315525387, 'learning_rate': 0.037906550523780676, 'max_bin': 68, 'min_child_samples': 64, 'n_estimators': 13795, 'num_leaves': 1065, 'reg_alpha': 0.7525889942243095, 'reg_lambda': 3.669202165080383e-06, 'subsample': 0.24782301432445766}. Best is trial 0 with value: 38.8618140106832.\n",
      "Trial 0 finished with value: 38.8618140106832 and parameters: {'colsample_bytree': 0.3076890315525387, 'learning_rate': 0.037906550523780676, 'max_bin': 68, 'min_child_samples': 64, 'n_estimators': 13795, 'num_leaves': 1065, 'reg_alpha': 0.7525889942243095, 'reg_lambda': 3.669202165080383e-06, 'subsample': 0.24782301432445766}. Best is trial 0 with value: 38.8618140106832.\n",
      "Trial 0 finished with value: 38.8618140106832 and parameters: {'colsample_bytree': 0.3076890315525387, 'learning_rate': 0.037906550523780676, 'max_bin': 68, 'min_child_samples': 64, 'n_estimators': 13795, 'num_leaves': 1065, 'reg_alpha': 0.7525889942243095, 'reg_lambda': 3.669202165080383e-06, 'subsample': 0.24782301432445766}. Best is trial 0 with value: 38.8618140106832.\n",
      "Trial 0 finished with value: 38.8618140106832 and parameters: {'colsample_bytree': 0.3076890315525387, 'learning_rate': 0.037906550523780676, 'max_bin': 68, 'min_child_samples': 64, 'n_estimators': 13795, 'num_leaves': 1065, 'reg_alpha': 0.7525889942243095, 'reg_lambda': 3.669202165080383e-06, 'subsample': 0.24782301432445766}. Best is trial 0 with value: 38.8618140106832.\n",
      "Trial 0 finished with value: 38.8618140106832 and parameters: {'colsample_bytree': 0.3076890315525387, 'learning_rate': 0.037906550523780676, 'max_bin': 68, 'min_child_samples': 64, 'n_estimators': 13795, 'num_leaves': 1065, 'reg_alpha': 0.7525889942243095, 'reg_lambda': 3.669202165080383e-06, 'subsample': 0.24782301432445766}. Best is trial 0 with value: 38.8618140106832.\n"
     ]
    },
    {
     "name": "stderr",
     "output_type": "stream",
     "text": [
      "[I 2025-02-06 18:52:11,309] Trial 1 finished with value: 38.86449198445021 and parameters: {'colsample_bytree': 0.33653672720557387, 'learning_rate': 0.020797017333403188, 'max_bin': 41, 'min_child_samples': 59, 'n_estimators': 12684, 'num_leaves': 1177, 'reg_alpha': 0.6269563443648634, 'reg_lambda': 1.3329655311093293e-06, 'subsample': 0.24757076963868546}. Best is trial 0 with value: 38.8618140106832.\n"
     ]
    },
    {
     "name": "stdout",
     "output_type": "stream",
     "text": [
      "Trial 1 finished with value: 38.86449198445021 and parameters: {'colsample_bytree': 0.33653672720557387, 'learning_rate': 0.020797017333403188, 'max_bin': 41, 'min_child_samples': 59, 'n_estimators': 12684, 'num_leaves': 1177, 'reg_alpha': 0.6269563443648634, 'reg_lambda': 1.3329655311093293e-06, 'subsample': 0.24757076963868546}. Best is trial 0 with value: 38.8618140106832.\n",
      "Trial 1 finished with value: 38.86449198445021 and parameters: {'colsample_bytree': 0.33653672720557387, 'learning_rate': 0.020797017333403188, 'max_bin': 41, 'min_child_samples': 59, 'n_estimators': 12684, 'num_leaves': 1177, 'reg_alpha': 0.6269563443648634, 'reg_lambda': 1.3329655311093293e-06, 'subsample': 0.24757076963868546}. Best is trial 0 with value: 38.8618140106832.\n",
      "Trial 1 finished with value: 38.86449198445021 and parameters: {'colsample_bytree': 0.33653672720557387, 'learning_rate': 0.020797017333403188, 'max_bin': 41, 'min_child_samples': 59, 'n_estimators': 12684, 'num_leaves': 1177, 'reg_alpha': 0.6269563443648634, 'reg_lambda': 1.3329655311093293e-06, 'subsample': 0.24757076963868546}. Best is trial 0 with value: 38.8618140106832.\n",
      "Trial 1 finished with value: 38.86449198445021 and parameters: {'colsample_bytree': 0.33653672720557387, 'learning_rate': 0.020797017333403188, 'max_bin': 41, 'min_child_samples': 59, 'n_estimators': 12684, 'num_leaves': 1177, 'reg_alpha': 0.6269563443648634, 'reg_lambda': 1.3329655311093293e-06, 'subsample': 0.24757076963868546}. Best is trial 0 with value: 38.8618140106832.\n",
      "Trial 1 finished with value: 38.86449198445021 and parameters: {'colsample_bytree': 0.33653672720557387, 'learning_rate': 0.020797017333403188, 'max_bin': 41, 'min_child_samples': 59, 'n_estimators': 12684, 'num_leaves': 1177, 'reg_alpha': 0.6269563443648634, 'reg_lambda': 1.3329655311093293e-06, 'subsample': 0.24757076963868546}. Best is trial 0 with value: 38.8618140106832.\n",
      "Trial 1 finished with value: 38.86449198445021 and parameters: {'colsample_bytree': 0.33653672720557387, 'learning_rate': 0.020797017333403188, 'max_bin': 41, 'min_child_samples': 59, 'n_estimators': 12684, 'num_leaves': 1177, 'reg_alpha': 0.6269563443648634, 'reg_lambda': 1.3329655311093293e-06, 'subsample': 0.24757076963868546}. Best is trial 0 with value: 38.8618140106832.\n",
      "Trial 1 finished with value: 38.86449198445021 and parameters: {'colsample_bytree': 0.33653672720557387, 'learning_rate': 0.020797017333403188, 'max_bin': 41, 'min_child_samples': 59, 'n_estimators': 12684, 'num_leaves': 1177, 'reg_alpha': 0.6269563443648634, 'reg_lambda': 1.3329655311093293e-06, 'subsample': 0.24757076963868546}. Best is trial 0 with value: 38.8618140106832.\n",
      "Trial 1 finished with value: 38.86449198445021 and parameters: {'colsample_bytree': 0.33653672720557387, 'learning_rate': 0.020797017333403188, 'max_bin': 41, 'min_child_samples': 59, 'n_estimators': 12684, 'num_leaves': 1177, 'reg_alpha': 0.6269563443648634, 'reg_lambda': 1.3329655311093293e-06, 'subsample': 0.24757076963868546}. Best is trial 0 with value: 38.8618140106832.\n"
     ]
    },
    {
     "name": "stderr",
     "output_type": "stream",
     "text": [
      "[I 2025-02-06 18:54:55,140] Trial 2 finished with value: 38.85841891030541 and parameters: {'colsample_bytree': 0.33039495723083045, 'learning_rate': 0.014025504826753594, 'max_bin': 232, 'min_child_samples': 68, 'n_estimators': 9322, 'num_leaves': 1055, 'reg_alpha': 0.8051639877813248, 'reg_lambda': 4.81035513321647e-06, 'subsample': 0.21005032727662684}. Best is trial 2 with value: 38.85841891030541.\n"
     ]
    },
    {
     "name": "stdout",
     "output_type": "stream",
     "text": [
      "Trial 2 finished with value: 38.85841891030541 and parameters: {'colsample_bytree': 0.33039495723083045, 'learning_rate': 0.014025504826753594, 'max_bin': 232, 'min_child_samples': 68, 'n_estimators': 9322, 'num_leaves': 1055, 'reg_alpha': 0.8051639877813248, 'reg_lambda': 4.81035513321647e-06, 'subsample': 0.21005032727662684}. Best is trial 2 with value: 38.85841891030541.\n",
      "Trial 2 finished with value: 38.85841891030541 and parameters: {'colsample_bytree': 0.33039495723083045, 'learning_rate': 0.014025504826753594, 'max_bin': 232, 'min_child_samples': 68, 'n_estimators': 9322, 'num_leaves': 1055, 'reg_alpha': 0.8051639877813248, 'reg_lambda': 4.81035513321647e-06, 'subsample': 0.21005032727662684}. Best is trial 2 with value: 38.85841891030541.\n",
      "Trial 2 finished with value: 38.85841891030541 and parameters: {'colsample_bytree': 0.33039495723083045, 'learning_rate': 0.014025504826753594, 'max_bin': 232, 'min_child_samples': 68, 'n_estimators': 9322, 'num_leaves': 1055, 'reg_alpha': 0.8051639877813248, 'reg_lambda': 4.81035513321647e-06, 'subsample': 0.21005032727662684}. Best is trial 2 with value: 38.85841891030541.\n",
      "Trial 2 finished with value: 38.85841891030541 and parameters: {'colsample_bytree': 0.33039495723083045, 'learning_rate': 0.014025504826753594, 'max_bin': 232, 'min_child_samples': 68, 'n_estimators': 9322, 'num_leaves': 1055, 'reg_alpha': 0.8051639877813248, 'reg_lambda': 4.81035513321647e-06, 'subsample': 0.21005032727662684}. Best is trial 2 with value: 38.85841891030541.\n",
      "Trial 2 finished with value: 38.85841891030541 and parameters: {'colsample_bytree': 0.33039495723083045, 'learning_rate': 0.014025504826753594, 'max_bin': 232, 'min_child_samples': 68, 'n_estimators': 9322, 'num_leaves': 1055, 'reg_alpha': 0.8051639877813248, 'reg_lambda': 4.81035513321647e-06, 'subsample': 0.21005032727662684}. Best is trial 2 with value: 38.85841891030541.\n",
      "Trial 2 finished with value: 38.85841891030541 and parameters: {'colsample_bytree': 0.33039495723083045, 'learning_rate': 0.014025504826753594, 'max_bin': 232, 'min_child_samples': 68, 'n_estimators': 9322, 'num_leaves': 1055, 'reg_alpha': 0.8051639877813248, 'reg_lambda': 4.81035513321647e-06, 'subsample': 0.21005032727662684}. Best is trial 2 with value: 38.85841891030541.\n",
      "Trial 2 finished with value: 38.85841891030541 and parameters: {'colsample_bytree': 0.33039495723083045, 'learning_rate': 0.014025504826753594, 'max_bin': 232, 'min_child_samples': 68, 'n_estimators': 9322, 'num_leaves': 1055, 'reg_alpha': 0.8051639877813248, 'reg_lambda': 4.81035513321647e-06, 'subsample': 0.21005032727662684}. Best is trial 2 with value: 38.85841891030541.\n",
      "Trial 2 finished with value: 38.85841891030541 and parameters: {'colsample_bytree': 0.33039495723083045, 'learning_rate': 0.014025504826753594, 'max_bin': 232, 'min_child_samples': 68, 'n_estimators': 9322, 'num_leaves': 1055, 'reg_alpha': 0.8051639877813248, 'reg_lambda': 4.81035513321647e-06, 'subsample': 0.21005032727662684}. Best is trial 2 with value: 38.85841891030541.\n"
     ]
    },
    {
     "name": "stderr",
     "output_type": "stream",
     "text": [
      "[I 2025-02-06 18:55:54,743] Trial 3 finished with value: 38.8612606618838 and parameters: {'colsample_bytree': 0.34039087718709504, 'learning_rate': 0.03868184700495186, 'max_bin': 99, 'min_child_samples': 52, 'n_estimators': 9465, 'num_leaves': 952, 'reg_alpha': 0.8872492699671036, 'reg_lambda': 2.117599847034707e-06, 'subsample': 0.23574370905988049}. Best is trial 2 with value: 38.85841891030541.\n"
     ]
    },
    {
     "name": "stdout",
     "output_type": "stream",
     "text": [
      "Trial 3 finished with value: 38.8612606618838 and parameters: {'colsample_bytree': 0.34039087718709504, 'learning_rate': 0.03868184700495186, 'max_bin': 99, 'min_child_samples': 52, 'n_estimators': 9465, 'num_leaves': 952, 'reg_alpha': 0.8872492699671036, 'reg_lambda': 2.117599847034707e-06, 'subsample': 0.23574370905988049}. Best is trial 2 with value: 38.85841891030541.\n",
      "Trial 3 finished with value: 38.8612606618838 and parameters: {'colsample_bytree': 0.34039087718709504, 'learning_rate': 0.03868184700495186, 'max_bin': 99, 'min_child_samples': 52, 'n_estimators': 9465, 'num_leaves': 952, 'reg_alpha': 0.8872492699671036, 'reg_lambda': 2.117599847034707e-06, 'subsample': 0.23574370905988049}. Best is trial 2 with value: 38.85841891030541.\n",
      "Trial 3 finished with value: 38.8612606618838 and parameters: {'colsample_bytree': 0.34039087718709504, 'learning_rate': 0.03868184700495186, 'max_bin': 99, 'min_child_samples': 52, 'n_estimators': 9465, 'num_leaves': 952, 'reg_alpha': 0.8872492699671036, 'reg_lambda': 2.117599847034707e-06, 'subsample': 0.23574370905988049}. Best is trial 2 with value: 38.85841891030541.\n",
      "Trial 3 finished with value: 38.8612606618838 and parameters: {'colsample_bytree': 0.34039087718709504, 'learning_rate': 0.03868184700495186, 'max_bin': 99, 'min_child_samples': 52, 'n_estimators': 9465, 'num_leaves': 952, 'reg_alpha': 0.8872492699671036, 'reg_lambda': 2.117599847034707e-06, 'subsample': 0.23574370905988049}. Best is trial 2 with value: 38.85841891030541.\n",
      "Trial 3 finished with value: 38.8612606618838 and parameters: {'colsample_bytree': 0.34039087718709504, 'learning_rate': 0.03868184700495186, 'max_bin': 99, 'min_child_samples': 52, 'n_estimators': 9465, 'num_leaves': 952, 'reg_alpha': 0.8872492699671036, 'reg_lambda': 2.117599847034707e-06, 'subsample': 0.23574370905988049}. Best is trial 2 with value: 38.85841891030541.\n",
      "Trial 3 finished with value: 38.8612606618838 and parameters: {'colsample_bytree': 0.34039087718709504, 'learning_rate': 0.03868184700495186, 'max_bin': 99, 'min_child_samples': 52, 'n_estimators': 9465, 'num_leaves': 952, 'reg_alpha': 0.8872492699671036, 'reg_lambda': 2.117599847034707e-06, 'subsample': 0.23574370905988049}. Best is trial 2 with value: 38.85841891030541.\n",
      "Trial 3 finished with value: 38.8612606618838 and parameters: {'colsample_bytree': 0.34039087718709504, 'learning_rate': 0.03868184700495186, 'max_bin': 99, 'min_child_samples': 52, 'n_estimators': 9465, 'num_leaves': 952, 'reg_alpha': 0.8872492699671036, 'reg_lambda': 2.117599847034707e-06, 'subsample': 0.23574370905988049}. Best is trial 2 with value: 38.85841891030541.\n",
      "Trial 3 finished with value: 38.8612606618838 and parameters: {'colsample_bytree': 0.34039087718709504, 'learning_rate': 0.03868184700495186, 'max_bin': 99, 'min_child_samples': 52, 'n_estimators': 9465, 'num_leaves': 952, 'reg_alpha': 0.8872492699671036, 'reg_lambda': 2.117599847034707e-06, 'subsample': 0.23574370905988049}. Best is trial 2 with value: 38.85841891030541.\n"
     ]
    },
    {
     "name": "stderr",
     "output_type": "stream",
     "text": [
      "[I 2025-02-06 18:57:28,539] Trial 4 finished with value: 38.85784004434538 and parameters: {'colsample_bytree': 0.2865280823570319, 'learning_rate': 0.027356681344864183, 'max_bin': 223, 'min_child_samples': 64, 'n_estimators': 11240, 'num_leaves': 1081, 'reg_alpha': 0.8138941880283338, 'reg_lambda': 2.6770506355416068e-06, 'subsample': 0.20367375552427938}. Best is trial 4 with value: 38.85784004434538.\n"
     ]
    },
    {
     "name": "stdout",
     "output_type": "stream",
     "text": [
      "Trial 4 finished with value: 38.85784004434538 and parameters: {'colsample_bytree': 0.2865280823570319, 'learning_rate': 0.027356681344864183, 'max_bin': 223, 'min_child_samples': 64, 'n_estimators': 11240, 'num_leaves': 1081, 'reg_alpha': 0.8138941880283338, 'reg_lambda': 2.6770506355416068e-06, 'subsample': 0.20367375552427938}. Best is trial 4 with value: 38.85784004434538.\n",
      "Trial 4 finished with value: 38.85784004434538 and parameters: {'colsample_bytree': 0.2865280823570319, 'learning_rate': 0.027356681344864183, 'max_bin': 223, 'min_child_samples': 64, 'n_estimators': 11240, 'num_leaves': 1081, 'reg_alpha': 0.8138941880283338, 'reg_lambda': 2.6770506355416068e-06, 'subsample': 0.20367375552427938}. Best is trial 4 with value: 38.85784004434538.\n",
      "Trial 4 finished with value: 38.85784004434538 and parameters: {'colsample_bytree': 0.2865280823570319, 'learning_rate': 0.027356681344864183, 'max_bin': 223, 'min_child_samples': 64, 'n_estimators': 11240, 'num_leaves': 1081, 'reg_alpha': 0.8138941880283338, 'reg_lambda': 2.6770506355416068e-06, 'subsample': 0.20367375552427938}. Best is trial 4 with value: 38.85784004434538.\n",
      "Trial 4 finished with value: 38.85784004434538 and parameters: {'colsample_bytree': 0.2865280823570319, 'learning_rate': 0.027356681344864183, 'max_bin': 223, 'min_child_samples': 64, 'n_estimators': 11240, 'num_leaves': 1081, 'reg_alpha': 0.8138941880283338, 'reg_lambda': 2.6770506355416068e-06, 'subsample': 0.20367375552427938}. Best is trial 4 with value: 38.85784004434538.\n",
      "Trial 4 finished with value: 38.85784004434538 and parameters: {'colsample_bytree': 0.2865280823570319, 'learning_rate': 0.027356681344864183, 'max_bin': 223, 'min_child_samples': 64, 'n_estimators': 11240, 'num_leaves': 1081, 'reg_alpha': 0.8138941880283338, 'reg_lambda': 2.6770506355416068e-06, 'subsample': 0.20367375552427938}. Best is trial 4 with value: 38.85784004434538.\n",
      "Trial 4 finished with value: 38.85784004434538 and parameters: {'colsample_bytree': 0.2865280823570319, 'learning_rate': 0.027356681344864183, 'max_bin': 223, 'min_child_samples': 64, 'n_estimators': 11240, 'num_leaves': 1081, 'reg_alpha': 0.8138941880283338, 'reg_lambda': 2.6770506355416068e-06, 'subsample': 0.20367375552427938}. Best is trial 4 with value: 38.85784004434538.\n",
      "Trial 4 finished with value: 38.85784004434538 and parameters: {'colsample_bytree': 0.2865280823570319, 'learning_rate': 0.027356681344864183, 'max_bin': 223, 'min_child_samples': 64, 'n_estimators': 11240, 'num_leaves': 1081, 'reg_alpha': 0.8138941880283338, 'reg_lambda': 2.6770506355416068e-06, 'subsample': 0.20367375552427938}. Best is trial 4 with value: 38.85784004434538.\n",
      "Trial 4 finished with value: 38.85784004434538 and parameters: {'colsample_bytree': 0.2865280823570319, 'learning_rate': 0.027356681344864183, 'max_bin': 223, 'min_child_samples': 64, 'n_estimators': 11240, 'num_leaves': 1081, 'reg_alpha': 0.8138941880283338, 'reg_lambda': 2.6770506355416068e-06, 'subsample': 0.20367375552427938}. Best is trial 4 with value: 38.85784004434538.\n"
     ]
    },
    {
     "name": "stderr",
     "output_type": "stream",
     "text": [
      "[I 2025-02-06 18:58:23,145] Trial 5 finished with value: 38.859309492969125 and parameters: {'colsample_bytree': 0.3266718604999008, 'learning_rate': 0.042523163209591576, 'max_bin': 181, 'min_child_samples': 63, 'n_estimators': 10639, 'num_leaves': 919, 'reg_alpha': 1.5308344714423971, 'reg_lambda': 1.8177697275649885e-06, 'subsample': 0.20822250340140444}. Best is trial 4 with value: 38.85784004434538.\n"
     ]
    },
    {
     "name": "stdout",
     "output_type": "stream",
     "text": [
      "Trial 5 finished with value: 38.859309492969125 and parameters: {'colsample_bytree': 0.3266718604999008, 'learning_rate': 0.042523163209591576, 'max_bin': 181, 'min_child_samples': 63, 'n_estimators': 10639, 'num_leaves': 919, 'reg_alpha': 1.5308344714423971, 'reg_lambda': 1.8177697275649885e-06, 'subsample': 0.20822250340140444}. Best is trial 4 with value: 38.85784004434538.\n",
      "Trial 5 finished with value: 38.859309492969125 and parameters: {'colsample_bytree': 0.3266718604999008, 'learning_rate': 0.042523163209591576, 'max_bin': 181, 'min_child_samples': 63, 'n_estimators': 10639, 'num_leaves': 919, 'reg_alpha': 1.5308344714423971, 'reg_lambda': 1.8177697275649885e-06, 'subsample': 0.20822250340140444}. Best is trial 4 with value: 38.85784004434538.\n",
      "Trial 5 finished with value: 38.859309492969125 and parameters: {'colsample_bytree': 0.3266718604999008, 'learning_rate': 0.042523163209591576, 'max_bin': 181, 'min_child_samples': 63, 'n_estimators': 10639, 'num_leaves': 919, 'reg_alpha': 1.5308344714423971, 'reg_lambda': 1.8177697275649885e-06, 'subsample': 0.20822250340140444}. Best is trial 4 with value: 38.85784004434538.\n",
      "Trial 5 finished with value: 38.859309492969125 and parameters: {'colsample_bytree': 0.3266718604999008, 'learning_rate': 0.042523163209591576, 'max_bin': 181, 'min_child_samples': 63, 'n_estimators': 10639, 'num_leaves': 919, 'reg_alpha': 1.5308344714423971, 'reg_lambda': 1.8177697275649885e-06, 'subsample': 0.20822250340140444}. Best is trial 4 with value: 38.85784004434538.\n",
      "Trial 5 finished with value: 38.859309492969125 and parameters: {'colsample_bytree': 0.3266718604999008, 'learning_rate': 0.042523163209591576, 'max_bin': 181, 'min_child_samples': 63, 'n_estimators': 10639, 'num_leaves': 919, 'reg_alpha': 1.5308344714423971, 'reg_lambda': 1.8177697275649885e-06, 'subsample': 0.20822250340140444}. Best is trial 4 with value: 38.85784004434538.\n",
      "Trial 5 finished with value: 38.859309492969125 and parameters: {'colsample_bytree': 0.3266718604999008, 'learning_rate': 0.042523163209591576, 'max_bin': 181, 'min_child_samples': 63, 'n_estimators': 10639, 'num_leaves': 919, 'reg_alpha': 1.5308344714423971, 'reg_lambda': 1.8177697275649885e-06, 'subsample': 0.20822250340140444}. Best is trial 4 with value: 38.85784004434538.\n",
      "Trial 5 finished with value: 38.859309492969125 and parameters: {'colsample_bytree': 0.3266718604999008, 'learning_rate': 0.042523163209591576, 'max_bin': 181, 'min_child_samples': 63, 'n_estimators': 10639, 'num_leaves': 919, 'reg_alpha': 1.5308344714423971, 'reg_lambda': 1.8177697275649885e-06, 'subsample': 0.20822250340140444}. Best is trial 4 with value: 38.85784004434538.\n",
      "Trial 5 finished with value: 38.859309492969125 and parameters: {'colsample_bytree': 0.3266718604999008, 'learning_rate': 0.042523163209591576, 'max_bin': 181, 'min_child_samples': 63, 'n_estimators': 10639, 'num_leaves': 919, 'reg_alpha': 1.5308344714423971, 'reg_lambda': 1.8177697275649885e-06, 'subsample': 0.20822250340140444}. Best is trial 4 with value: 38.85784004434538.\n"
     ]
    },
    {
     "name": "stderr",
     "output_type": "stream",
     "text": [
      "[I 2025-02-06 18:58:24,007] Trial 6 pruned. Trial was pruned at iteration 0.\n"
     ]
    },
    {
     "name": "stdout",
     "output_type": "stream",
     "text": [
      "Trial 6 pruned. Trial was pruned at iteration 0.\n",
      "Trial 6 pruned. Trial was pruned at iteration 0.\n",
      "Trial 6 pruned. Trial was pruned at iteration 0.\n",
      "Trial 6 pruned. Trial was pruned at iteration 0.\n",
      "Trial 6 pruned. Trial was pruned at iteration 0.\n",
      "Trial 6 pruned. Trial was pruned at iteration 0.\n",
      "Trial 6 pruned. Trial was pruned at iteration 0.\n",
      "Trial 6 pruned. Trial was pruned at iteration 0.\n"
     ]
    },
    {
     "name": "stderr",
     "output_type": "stream",
     "text": [
      "[I 2025-02-06 18:58:24,919] Trial 7 pruned. Trial was pruned at iteration 0.\n"
     ]
    },
    {
     "name": "stdout",
     "output_type": "stream",
     "text": [
      "Trial 7 pruned. Trial was pruned at iteration 0.\n",
      "Trial 7 pruned. Trial was pruned at iteration 0.\n",
      "Trial 7 pruned. Trial was pruned at iteration 0.\n",
      "Trial 7 pruned. Trial was pruned at iteration 0.\n",
      "Trial 7 pruned. Trial was pruned at iteration 0.\n",
      "Trial 7 pruned. Trial was pruned at iteration 0.\n",
      "Trial 7 pruned. Trial was pruned at iteration 0.\n",
      "Trial 7 pruned. Trial was pruned at iteration 0.\n"
     ]
    },
    {
     "name": "stderr",
     "output_type": "stream",
     "text": [
      "[I 2025-02-06 18:58:25,737] Trial 8 pruned. Trial was pruned at iteration 0.\n"
     ]
    },
    {
     "name": "stdout",
     "output_type": "stream",
     "text": [
      "Trial 8 pruned. Trial was pruned at iteration 0.\n",
      "Trial 8 pruned. Trial was pruned at iteration 0.\n",
      "Trial 8 pruned. Trial was pruned at iteration 0.\n",
      "Trial 8 pruned. Trial was pruned at iteration 0.\n",
      "Trial 8 pruned. Trial was pruned at iteration 0.\n",
      "Trial 8 pruned. Trial was pruned at iteration 0.\n",
      "Trial 8 pruned. Trial was pruned at iteration 0.\n",
      "Trial 8 pruned. Trial was pruned at iteration 0.\n"
     ]
    },
    {
     "name": "stderr",
     "output_type": "stream",
     "text": [
      "[I 2025-02-06 18:58:26,548] Trial 9 pruned. Trial was pruned at iteration 0.\n"
     ]
    },
    {
     "name": "stdout",
     "output_type": "stream",
     "text": [
      "Trial 9 pruned. Trial was pruned at iteration 0.\n",
      "Trial 9 pruned. Trial was pruned at iteration 0.\n",
      "Trial 9 pruned. Trial was pruned at iteration 0.\n",
      "Trial 9 pruned. Trial was pruned at iteration 0.\n",
      "Trial 9 pruned. Trial was pruned at iteration 0.\n",
      "Trial 9 pruned. Trial was pruned at iteration 0.\n",
      "Trial 9 pruned. Trial was pruned at iteration 0.\n",
      "Trial 9 pruned. Trial was pruned at iteration 0.\n"
     ]
    },
    {
     "name": "stderr",
     "output_type": "stream",
     "text": [
      "[I 2025-02-06 18:58:27,352] Trial 10 pruned. Trial was pruned at iteration 0.\n"
     ]
    },
    {
     "name": "stdout",
     "output_type": "stream",
     "text": [
      "Trial 10 pruned. Trial was pruned at iteration 0.\n",
      "Trial 10 pruned. Trial was pruned at iteration 0.\n",
      "Trial 10 pruned. Trial was pruned at iteration 0.\n",
      "Trial 10 pruned. Trial was pruned at iteration 0.\n",
      "Trial 10 pruned. Trial was pruned at iteration 0.\n",
      "Trial 10 pruned. Trial was pruned at iteration 0.\n",
      "Trial 10 pruned. Trial was pruned at iteration 0.\n",
      "Trial 10 pruned. Trial was pruned at iteration 0.\n"
     ]
    },
    {
     "name": "stderr",
     "output_type": "stream",
     "text": [
      "[I 2025-02-06 18:58:28,166] Trial 11 pruned. Trial was pruned at iteration 0.\n"
     ]
    },
    {
     "name": "stdout",
     "output_type": "stream",
     "text": [
      "Trial 11 pruned. Trial was pruned at iteration 0.\n",
      "Trial 11 pruned. Trial was pruned at iteration 0.\n",
      "Trial 11 pruned. Trial was pruned at iteration 0.\n",
      "Trial 11 pruned. Trial was pruned at iteration 0.\n",
      "Trial 11 pruned. Trial was pruned at iteration 0.\n",
      "Trial 11 pruned. Trial was pruned at iteration 0.\n",
      "Trial 11 pruned. Trial was pruned at iteration 0.\n",
      "Trial 11 pruned. Trial was pruned at iteration 0.\n"
     ]
    },
    {
     "name": "stderr",
     "output_type": "stream",
     "text": [
      "[I 2025-02-06 18:58:29,178] Trial 12 pruned. Trial was pruned at iteration 0.\n"
     ]
    },
    {
     "name": "stdout",
     "output_type": "stream",
     "text": [
      "Trial 12 pruned. Trial was pruned at iteration 0.\n",
      "Trial 12 pruned. Trial was pruned at iteration 0.\n",
      "Trial 12 pruned. Trial was pruned at iteration 0.\n",
      "Trial 12 pruned. Trial was pruned at iteration 0.\n",
      "Trial 12 pruned. Trial was pruned at iteration 0.\n",
      "Trial 12 pruned. Trial was pruned at iteration 0.\n",
      "Trial 12 pruned. Trial was pruned at iteration 0.\n",
      "Trial 12 pruned. Trial was pruned at iteration 0.\n"
     ]
    },
    {
     "name": "stderr",
     "output_type": "stream",
     "text": [
      "[I 2025-02-06 18:58:30,109] Trial 13 pruned. Trial was pruned at iteration 0.\n"
     ]
    },
    {
     "name": "stdout",
     "output_type": "stream",
     "text": [
      "Trial 13 pruned. Trial was pruned at iteration 0.\n",
      "Trial 13 pruned. Trial was pruned at iteration 0.\n",
      "Trial 13 pruned. Trial was pruned at iteration 0.\n",
      "Trial 13 pruned. Trial was pruned at iteration 0.\n",
      "Trial 13 pruned. Trial was pruned at iteration 0.\n",
      "Trial 13 pruned. Trial was pruned at iteration 0.\n",
      "Trial 13 pruned. Trial was pruned at iteration 0.\n",
      "Trial 13 pruned. Trial was pruned at iteration 0.\n"
     ]
    },
    {
     "name": "stderr",
     "output_type": "stream",
     "text": [
      "[I 2025-02-06 18:58:31,621] Trial 14 pruned. Trial was pruned at iteration 0.\n"
     ]
    },
    {
     "name": "stdout",
     "output_type": "stream",
     "text": [
      "Trial 14 pruned. Trial was pruned at iteration 0.\n",
      "Trial 14 pruned. Trial was pruned at iteration 0.\n",
      "Trial 14 pruned. Trial was pruned at iteration 0.\n",
      "Trial 14 pruned. Trial was pruned at iteration 0.\n",
      "Trial 14 pruned. Trial was pruned at iteration 0.\n",
      "Trial 14 pruned. Trial was pruned at iteration 0.\n",
      "Trial 14 pruned. Trial was pruned at iteration 0.\n",
      "Trial 14 pruned. Trial was pruned at iteration 0.\n"
     ]
    },
    {
     "name": "stderr",
     "output_type": "stream",
     "text": [
      "[I 2025-02-06 18:58:32,460] Trial 15 pruned. Trial was pruned at iteration 0.\n"
     ]
    },
    {
     "name": "stdout",
     "output_type": "stream",
     "text": [
      "Trial 15 pruned. Trial was pruned at iteration 0.\n",
      "Trial 15 pruned. Trial was pruned at iteration 0.\n",
      "Trial 15 pruned. Trial was pruned at iteration 0.\n",
      "Trial 15 pruned. Trial was pruned at iteration 0.\n",
      "Trial 15 pruned. Trial was pruned at iteration 0.\n",
      "Trial 15 pruned. Trial was pruned at iteration 0.\n",
      "Trial 15 pruned. Trial was pruned at iteration 0.\n",
      "Trial 15 pruned. Trial was pruned at iteration 0.\n"
     ]
    },
    {
     "name": "stderr",
     "output_type": "stream",
     "text": [
      "[I 2025-02-06 18:58:33,340] Trial 16 pruned. Trial was pruned at iteration 0.\n"
     ]
    },
    {
     "name": "stdout",
     "output_type": "stream",
     "text": [
      "Trial 16 pruned. Trial was pruned at iteration 0.\n",
      "Trial 16 pruned. Trial was pruned at iteration 0.\n",
      "Trial 16 pruned. Trial was pruned at iteration 0.\n",
      "Trial 16 pruned. Trial was pruned at iteration 0.\n",
      "Trial 16 pruned. Trial was pruned at iteration 0.\n",
      "Trial 16 pruned. Trial was pruned at iteration 0.\n",
      "Trial 16 pruned. Trial was pruned at iteration 0.\n",
      "Trial 16 pruned. Trial was pruned at iteration 0.\n"
     ]
    },
    {
     "name": "stderr",
     "output_type": "stream",
     "text": [
      "[I 2025-02-06 18:58:34,212] Trial 17 pruned. Trial was pruned at iteration 0.\n"
     ]
    },
    {
     "name": "stdout",
     "output_type": "stream",
     "text": [
      "Trial 17 pruned. Trial was pruned at iteration 0.\n",
      "Trial 17 pruned. Trial was pruned at iteration 0.\n",
      "Trial 17 pruned. Trial was pruned at iteration 0.\n",
      "Trial 17 pruned. Trial was pruned at iteration 0.\n",
      "Trial 17 pruned. Trial was pruned at iteration 0.\n",
      "Trial 17 pruned. Trial was pruned at iteration 0.\n",
      "Trial 17 pruned. Trial was pruned at iteration 0.\n",
      "Trial 17 pruned. Trial was pruned at iteration 0.\n"
     ]
    },
    {
     "name": "stderr",
     "output_type": "stream",
     "text": [
      "[I 2025-02-06 18:58:35,294] Trial 18 pruned. Trial was pruned at iteration 0.\n"
     ]
    },
    {
     "name": "stdout",
     "output_type": "stream",
     "text": [
      "Trial 18 pruned. Trial was pruned at iteration 0.\n",
      "Trial 18 pruned. Trial was pruned at iteration 0.\n",
      "Trial 18 pruned. Trial was pruned at iteration 0.\n",
      "Trial 18 pruned. Trial was pruned at iteration 0.\n",
      "Trial 18 pruned. Trial was pruned at iteration 0.\n",
      "Trial 18 pruned. Trial was pruned at iteration 0.\n",
      "Trial 18 pruned. Trial was pruned at iteration 0.\n",
      "Trial 18 pruned. Trial was pruned at iteration 0.\n"
     ]
    },
    {
     "name": "stderr",
     "output_type": "stream",
     "text": [
      "[I 2025-02-06 18:58:36,171] Trial 19 pruned. Trial was pruned at iteration 0.\n"
     ]
    },
    {
     "name": "stdout",
     "output_type": "stream",
     "text": [
      "Trial 19 pruned. Trial was pruned at iteration 0.\n",
      "Trial 19 pruned. Trial was pruned at iteration 0.\n",
      "Trial 19 pruned. Trial was pruned at iteration 0.\n",
      "Trial 19 pruned. Trial was pruned at iteration 0.\n",
      "Trial 19 pruned. Trial was pruned at iteration 0.\n",
      "Trial 19 pruned. Trial was pruned at iteration 0.\n",
      "Trial 19 pruned. Trial was pruned at iteration 0.\n",
      "Trial 19 pruned. Trial was pruned at iteration 0.\n"
     ]
    },
    {
     "name": "stderr",
     "output_type": "stream",
     "text": [
      "1 warning generated.\n",
      "1 warning generated.\n",
      "1 warning generated.\n",
      "1 warning generated.\n",
      "1 warning generated.\n",
      "1 warning generated.\n",
      "1 warning generated.\n",
      "1 warning generated.\n",
      "1 warning generated.\n",
      "1 warning generated.\n",
      "1 warning generated.\n",
      "1 warning generated.\n",
      "1 warning generated.\n",
      "1 warning generated.\n",
      "1 warning generated.\n",
      "1 warning generated.\n",
      "1 warning generated.\n",
      "1 warning generated.\n",
      "1 warning generated.\n",
      "1 warning generated.\n",
      "1 warning generated.\n",
      "1 warning generated.\n",
      "1 warning generated.\n",
      "1 warning generated.\n",
      "1 warning generated.\n",
      "1 warning generated.\n",
      "1 warning generated.\n",
      "1 warning generated.\n",
      "1 warning generated.\n",
      "1 warning generated.\n",
      "1 warning generated.\n",
      "1 warning generated.\n",
      "1 warning generated.\n",
      "[I 2025-02-06 18:58:40,615] Trial 20 pruned. Trial was pruned at iteration 0.\n"
     ]
    },
    {
     "name": "stdout",
     "output_type": "stream",
     "text": [
      "Trial 20 pruned. Trial was pruned at iteration 0.\n",
      "Trial 20 pruned. Trial was pruned at iteration 0.\n",
      "Trial 20 pruned. Trial was pruned at iteration 0.\n",
      "Trial 20 pruned. Trial was pruned at iteration 0.\n",
      "Trial 20 pruned. Trial was pruned at iteration 0.\n",
      "Trial 20 pruned. Trial was pruned at iteration 0.\n",
      "Trial 20 pruned. Trial was pruned at iteration 0.\n",
      "Trial 20 pruned. Trial was pruned at iteration 0.\n"
     ]
    },
    {
     "name": "stderr",
     "output_type": "stream",
     "text": [
      "[I 2025-02-06 18:59:43,480] Trial 21 finished with value: 38.860250402218725 and parameters: {'colsample_bytree': 0.32637757949277296, 'learning_rate': 0.0488167720538707, 'max_bin': 173, 'min_child_samples': 64, 'n_estimators': 10646, 'num_leaves': 907, 'reg_alpha': 1.5906500042168419, 'reg_lambda': 1.82532666653069e-06, 'subsample': 0.20493972556892293}. Best is trial 4 with value: 38.85784004434538.\n"
     ]
    },
    {
     "name": "stdout",
     "output_type": "stream",
     "text": [
      "Trial 21 finished with value: 38.860250402218725 and parameters: {'colsample_bytree': 0.32637757949277296, 'learning_rate': 0.0488167720538707, 'max_bin': 173, 'min_child_samples': 64, 'n_estimators': 10646, 'num_leaves': 907, 'reg_alpha': 1.5906500042168419, 'reg_lambda': 1.82532666653069e-06, 'subsample': 0.20493972556892293}. Best is trial 4 with value: 38.85784004434538.\n",
      "Trial 21 finished with value: 38.860250402218725 and parameters: {'colsample_bytree': 0.32637757949277296, 'learning_rate': 0.0488167720538707, 'max_bin': 173, 'min_child_samples': 64, 'n_estimators': 10646, 'num_leaves': 907, 'reg_alpha': 1.5906500042168419, 'reg_lambda': 1.82532666653069e-06, 'subsample': 0.20493972556892293}. Best is trial 4 with value: 38.85784004434538.\n",
      "Trial 21 finished with value: 38.860250402218725 and parameters: {'colsample_bytree': 0.32637757949277296, 'learning_rate': 0.0488167720538707, 'max_bin': 173, 'min_child_samples': 64, 'n_estimators': 10646, 'num_leaves': 907, 'reg_alpha': 1.5906500042168419, 'reg_lambda': 1.82532666653069e-06, 'subsample': 0.20493972556892293}. Best is trial 4 with value: 38.85784004434538.\n",
      "Trial 21 finished with value: 38.860250402218725 and parameters: {'colsample_bytree': 0.32637757949277296, 'learning_rate': 0.0488167720538707, 'max_bin': 173, 'min_child_samples': 64, 'n_estimators': 10646, 'num_leaves': 907, 'reg_alpha': 1.5906500042168419, 'reg_lambda': 1.82532666653069e-06, 'subsample': 0.20493972556892293}. Best is trial 4 with value: 38.85784004434538.\n",
      "Trial 21 finished with value: 38.860250402218725 and parameters: {'colsample_bytree': 0.32637757949277296, 'learning_rate': 0.0488167720538707, 'max_bin': 173, 'min_child_samples': 64, 'n_estimators': 10646, 'num_leaves': 907, 'reg_alpha': 1.5906500042168419, 'reg_lambda': 1.82532666653069e-06, 'subsample': 0.20493972556892293}. Best is trial 4 with value: 38.85784004434538.\n",
      "Trial 21 finished with value: 38.860250402218725 and parameters: {'colsample_bytree': 0.32637757949277296, 'learning_rate': 0.0488167720538707, 'max_bin': 173, 'min_child_samples': 64, 'n_estimators': 10646, 'num_leaves': 907, 'reg_alpha': 1.5906500042168419, 'reg_lambda': 1.82532666653069e-06, 'subsample': 0.20493972556892293}. Best is trial 4 with value: 38.85784004434538.\n",
      "Trial 21 finished with value: 38.860250402218725 and parameters: {'colsample_bytree': 0.32637757949277296, 'learning_rate': 0.0488167720538707, 'max_bin': 173, 'min_child_samples': 64, 'n_estimators': 10646, 'num_leaves': 907, 'reg_alpha': 1.5906500042168419, 'reg_lambda': 1.82532666653069e-06, 'subsample': 0.20493972556892293}. Best is trial 4 with value: 38.85784004434538.\n",
      "Trial 21 finished with value: 38.860250402218725 and parameters: {'colsample_bytree': 0.32637757949277296, 'learning_rate': 0.0488167720538707, 'max_bin': 173, 'min_child_samples': 64, 'n_estimators': 10646, 'num_leaves': 907, 'reg_alpha': 1.5906500042168419, 'reg_lambda': 1.82532666653069e-06, 'subsample': 0.20493972556892293}. Best is trial 4 with value: 38.85784004434538.\n"
     ]
    },
    {
     "name": "stderr",
     "output_type": "stream",
     "text": [
      "[I 2025-02-06 18:59:44,415] Trial 22 pruned. Trial was pruned at iteration 0.\n"
     ]
    },
    {
     "name": "stdout",
     "output_type": "stream",
     "text": [
      "Trial 22 pruned. Trial was pruned at iteration 0.\n",
      "Trial 22 pruned. Trial was pruned at iteration 0.\n",
      "Trial 22 pruned. Trial was pruned at iteration 0.\n",
      "Trial 22 pruned. Trial was pruned at iteration 0.\n",
      "Trial 22 pruned. Trial was pruned at iteration 0.\n",
      "Trial 22 pruned. Trial was pruned at iteration 0.\n",
      "Trial 22 pruned. Trial was pruned at iteration 0.\n",
      "Trial 22 pruned. Trial was pruned at iteration 0.\n"
     ]
    },
    {
     "name": "stderr",
     "output_type": "stream",
     "text": [
      "[I 2025-02-06 19:00:58,260] Trial 23 finished with value: 38.858117485424614 and parameters: {'colsample_bytree': 0.3482598455446231, 'learning_rate': 0.04141545446196841, 'max_bin': 231, 'min_child_samples': 67, 'n_estimators': 10206, 'num_leaves': 996, 'reg_alpha': 1.9103510601613627, 'reg_lambda': 2.2522087395526672e-06, 'subsample': 0.20652427617702976}. Best is trial 4 with value: 38.85784004434538.\n"
     ]
    },
    {
     "name": "stdout",
     "output_type": "stream",
     "text": [
      "Trial 23 finished with value: 38.858117485424614 and parameters: {'colsample_bytree': 0.3482598455446231, 'learning_rate': 0.04141545446196841, 'max_bin': 231, 'min_child_samples': 67, 'n_estimators': 10206, 'num_leaves': 996, 'reg_alpha': 1.9103510601613627, 'reg_lambda': 2.2522087395526672e-06, 'subsample': 0.20652427617702976}. Best is trial 4 with value: 38.85784004434538.\n",
      "Trial 23 finished with value: 38.858117485424614 and parameters: {'colsample_bytree': 0.3482598455446231, 'learning_rate': 0.04141545446196841, 'max_bin': 231, 'min_child_samples': 67, 'n_estimators': 10206, 'num_leaves': 996, 'reg_alpha': 1.9103510601613627, 'reg_lambda': 2.2522087395526672e-06, 'subsample': 0.20652427617702976}. Best is trial 4 with value: 38.85784004434538.\n",
      "Trial 23 finished with value: 38.858117485424614 and parameters: {'colsample_bytree': 0.3482598455446231, 'learning_rate': 0.04141545446196841, 'max_bin': 231, 'min_child_samples': 67, 'n_estimators': 10206, 'num_leaves': 996, 'reg_alpha': 1.9103510601613627, 'reg_lambda': 2.2522087395526672e-06, 'subsample': 0.20652427617702976}. Best is trial 4 with value: 38.85784004434538.\n",
      "Trial 23 finished with value: 38.858117485424614 and parameters: {'colsample_bytree': 0.3482598455446231, 'learning_rate': 0.04141545446196841, 'max_bin': 231, 'min_child_samples': 67, 'n_estimators': 10206, 'num_leaves': 996, 'reg_alpha': 1.9103510601613627, 'reg_lambda': 2.2522087395526672e-06, 'subsample': 0.20652427617702976}. Best is trial 4 with value: 38.85784004434538.\n",
      "Trial 23 finished with value: 38.858117485424614 and parameters: {'colsample_bytree': 0.3482598455446231, 'learning_rate': 0.04141545446196841, 'max_bin': 231, 'min_child_samples': 67, 'n_estimators': 10206, 'num_leaves': 996, 'reg_alpha': 1.9103510601613627, 'reg_lambda': 2.2522087395526672e-06, 'subsample': 0.20652427617702976}. Best is trial 4 with value: 38.85784004434538.\n",
      "Trial 23 finished with value: 38.858117485424614 and parameters: {'colsample_bytree': 0.3482598455446231, 'learning_rate': 0.04141545446196841, 'max_bin': 231, 'min_child_samples': 67, 'n_estimators': 10206, 'num_leaves': 996, 'reg_alpha': 1.9103510601613627, 'reg_lambda': 2.2522087395526672e-06, 'subsample': 0.20652427617702976}. Best is trial 4 with value: 38.85784004434538.\n",
      "Trial 23 finished with value: 38.858117485424614 and parameters: {'colsample_bytree': 0.3482598455446231, 'learning_rate': 0.04141545446196841, 'max_bin': 231, 'min_child_samples': 67, 'n_estimators': 10206, 'num_leaves': 996, 'reg_alpha': 1.9103510601613627, 'reg_lambda': 2.2522087395526672e-06, 'subsample': 0.20652427617702976}. Best is trial 4 with value: 38.85784004434538.\n",
      "Trial 23 finished with value: 38.858117485424614 and parameters: {'colsample_bytree': 0.3482598455446231, 'learning_rate': 0.04141545446196841, 'max_bin': 231, 'min_child_samples': 67, 'n_estimators': 10206, 'num_leaves': 996, 'reg_alpha': 1.9103510601613627, 'reg_lambda': 2.2522087395526672e-06, 'subsample': 0.20652427617702976}. Best is trial 4 with value: 38.85784004434538.\n"
     ]
    },
    {
     "name": "stderr",
     "output_type": "stream",
     "text": [
      "[I 2025-02-06 19:00:59,193] Trial 24 pruned. Trial was pruned at iteration 0.\n"
     ]
    },
    {
     "name": "stdout",
     "output_type": "stream",
     "text": [
      "Trial 24 pruned. Trial was pruned at iteration 0.\n",
      "Trial 24 pruned. Trial was pruned at iteration 0.\n",
      "Trial 24 pruned. Trial was pruned at iteration 0.\n",
      "Trial 24 pruned. Trial was pruned at iteration 0.\n",
      "Trial 24 pruned. Trial was pruned at iteration 0.\n",
      "Trial 24 pruned. Trial was pruned at iteration 0.\n",
      "Trial 24 pruned. Trial was pruned at iteration 0.\n",
      "Trial 24 pruned. Trial was pruned at iteration 0.\n"
     ]
    },
    {
     "name": "stderr",
     "output_type": "stream",
     "text": [
      "[I 2025-02-06 19:01:00,065] Trial 25 pruned. Trial was pruned at iteration 0.\n"
     ]
    },
    {
     "name": "stdout",
     "output_type": "stream",
     "text": [
      "Trial 25 pruned. Trial was pruned at iteration 0.\n",
      "Trial 25 pruned. Trial was pruned at iteration 0.\n",
      "Trial 25 pruned. Trial was pruned at iteration 0.\n",
      "Trial 25 pruned. Trial was pruned at iteration 0.\n",
      "Trial 25 pruned. Trial was pruned at iteration 0.\n",
      "Trial 25 pruned. Trial was pruned at iteration 0.\n",
      "Trial 25 pruned. Trial was pruned at iteration 0.\n",
      "Trial 25 pruned. Trial was pruned at iteration 0.\n"
     ]
    },
    {
     "name": "stderr",
     "output_type": "stream",
     "text": [
      "[I 2025-02-06 19:01:00,936] Trial 26 pruned. Trial was pruned at iteration 0.\n"
     ]
    },
    {
     "name": "stdout",
     "output_type": "stream",
     "text": [
      "Trial 26 pruned. Trial was pruned at iteration 0.\n",
      "Trial 26 pruned. Trial was pruned at iteration 0.\n",
      "Trial 26 pruned. Trial was pruned at iteration 0.\n",
      "Trial 26 pruned. Trial was pruned at iteration 0.\n",
      "Trial 26 pruned. Trial was pruned at iteration 0.\n",
      "Trial 26 pruned. Trial was pruned at iteration 0.\n",
      "Trial 26 pruned. Trial was pruned at iteration 0.\n",
      "Trial 26 pruned. Trial was pruned at iteration 0.\n"
     ]
    },
    {
     "name": "stderr",
     "output_type": "stream",
     "text": [
      "[I 2025-02-06 19:01:01,840] Trial 27 pruned. Trial was pruned at iteration 0.\n"
     ]
    },
    {
     "name": "stdout",
     "output_type": "stream",
     "text": [
      "Trial 27 pruned. Trial was pruned at iteration 0.\n",
      "Trial 27 pruned. Trial was pruned at iteration 0.\n",
      "Trial 27 pruned. Trial was pruned at iteration 0.\n",
      "Trial 27 pruned. Trial was pruned at iteration 0.\n",
      "Trial 27 pruned. Trial was pruned at iteration 0.\n",
      "Trial 27 pruned. Trial was pruned at iteration 0.\n",
      "Trial 27 pruned. Trial was pruned at iteration 0.\n",
      "Trial 27 pruned. Trial was pruned at iteration 0.\n"
     ]
    },
    {
     "name": "stderr",
     "output_type": "stream",
     "text": [
      "[I 2025-02-06 19:01:02,697] Trial 28 pruned. Trial was pruned at iteration 0.\n"
     ]
    },
    {
     "name": "stdout",
     "output_type": "stream",
     "text": [
      "Trial 28 pruned. Trial was pruned at iteration 0.\n",
      "Trial 28 pruned. Trial was pruned at iteration 0.\n",
      "Trial 28 pruned. Trial was pruned at iteration 0.\n",
      "Trial 28 pruned. Trial was pruned at iteration 0.\n",
      "Trial 28 pruned. Trial was pruned at iteration 0.\n",
      "Trial 28 pruned. Trial was pruned at iteration 0.\n",
      "Trial 28 pruned. Trial was pruned at iteration 0.\n",
      "Trial 28 pruned. Trial was pruned at iteration 0.\n"
     ]
    },
    {
     "name": "stderr",
     "output_type": "stream",
     "text": [
      "[I 2025-02-06 19:01:56,721] Trial 29 finished with value: 38.857582899749474 and parameters: {'colsample_bytree': 0.308014104198063, 'learning_rate': 0.04253571753456445, 'max_bin': 246, 'min_child_samples': 66, 'n_estimators': 11843, 'num_leaves': 1053, 'reg_alpha': 0.7590273708230167, 'reg_lambda': 3.703669544705082e-06, 'subsample': 0.21770531223182626}. Best is trial 29 with value: 38.857582899749474.\n"
     ]
    },
    {
     "name": "stdout",
     "output_type": "stream",
     "text": [
      "Trial 29 finished with value: 38.857582899749474 and parameters: {'colsample_bytree': 0.308014104198063, 'learning_rate': 0.04253571753456445, 'max_bin': 246, 'min_child_samples': 66, 'n_estimators': 11843, 'num_leaves': 1053, 'reg_alpha': 0.7590273708230167, 'reg_lambda': 3.703669544705082e-06, 'subsample': 0.21770531223182626}. Best is trial 29 with value: 38.857582899749474.\n",
      "Trial 29 finished with value: 38.857582899749474 and parameters: {'colsample_bytree': 0.308014104198063, 'learning_rate': 0.04253571753456445, 'max_bin': 246, 'min_child_samples': 66, 'n_estimators': 11843, 'num_leaves': 1053, 'reg_alpha': 0.7590273708230167, 'reg_lambda': 3.703669544705082e-06, 'subsample': 0.21770531223182626}. Best is trial 29 with value: 38.857582899749474.\n",
      "Trial 29 finished with value: 38.857582899749474 and parameters: {'colsample_bytree': 0.308014104198063, 'learning_rate': 0.04253571753456445, 'max_bin': 246, 'min_child_samples': 66, 'n_estimators': 11843, 'num_leaves': 1053, 'reg_alpha': 0.7590273708230167, 'reg_lambda': 3.703669544705082e-06, 'subsample': 0.21770531223182626}. Best is trial 29 with value: 38.857582899749474.\n",
      "Trial 29 finished with value: 38.857582899749474 and parameters: {'colsample_bytree': 0.308014104198063, 'learning_rate': 0.04253571753456445, 'max_bin': 246, 'min_child_samples': 66, 'n_estimators': 11843, 'num_leaves': 1053, 'reg_alpha': 0.7590273708230167, 'reg_lambda': 3.703669544705082e-06, 'subsample': 0.21770531223182626}. Best is trial 29 with value: 38.857582899749474.\n",
      "Trial 29 finished with value: 38.857582899749474 and parameters: {'colsample_bytree': 0.308014104198063, 'learning_rate': 0.04253571753456445, 'max_bin': 246, 'min_child_samples': 66, 'n_estimators': 11843, 'num_leaves': 1053, 'reg_alpha': 0.7590273708230167, 'reg_lambda': 3.703669544705082e-06, 'subsample': 0.21770531223182626}. Best is trial 29 with value: 38.857582899749474.\n",
      "Trial 29 finished with value: 38.857582899749474 and parameters: {'colsample_bytree': 0.308014104198063, 'learning_rate': 0.04253571753456445, 'max_bin': 246, 'min_child_samples': 66, 'n_estimators': 11843, 'num_leaves': 1053, 'reg_alpha': 0.7590273708230167, 'reg_lambda': 3.703669544705082e-06, 'subsample': 0.21770531223182626}. Best is trial 29 with value: 38.857582899749474.\n",
      "Trial 29 finished with value: 38.857582899749474 and parameters: {'colsample_bytree': 0.308014104198063, 'learning_rate': 0.04253571753456445, 'max_bin': 246, 'min_child_samples': 66, 'n_estimators': 11843, 'num_leaves': 1053, 'reg_alpha': 0.7590273708230167, 'reg_lambda': 3.703669544705082e-06, 'subsample': 0.21770531223182626}. Best is trial 29 with value: 38.857582899749474.\n",
      "Trial 29 finished with value: 38.857582899749474 and parameters: {'colsample_bytree': 0.308014104198063, 'learning_rate': 0.04253571753456445, 'max_bin': 246, 'min_child_samples': 66, 'n_estimators': 11843, 'num_leaves': 1053, 'reg_alpha': 0.7590273708230167, 'reg_lambda': 3.703669544705082e-06, 'subsample': 0.21770531223182626}. Best is trial 29 with value: 38.857582899749474.\n"
     ]
    },
    {
     "name": "stderr",
     "output_type": "stream",
     "text": [
      "[I 2025-02-06 19:01:57,575] Trial 30 pruned. Trial was pruned at iteration 0.\n"
     ]
    },
    {
     "name": "stdout",
     "output_type": "stream",
     "text": [
      "Trial 30 pruned. Trial was pruned at iteration 0.\n",
      "Trial 30 pruned. Trial was pruned at iteration 0.\n",
      "Trial 30 pruned. Trial was pruned at iteration 0.\n",
      "Trial 30 pruned. Trial was pruned at iteration 0.\n",
      "Trial 30 pruned. Trial was pruned at iteration 0.\n",
      "Trial 30 pruned. Trial was pruned at iteration 0.\n",
      "Trial 30 pruned. Trial was pruned at iteration 0.\n",
      "Trial 30 pruned. Trial was pruned at iteration 0.\n"
     ]
    },
    {
     "name": "stderr",
     "output_type": "stream",
     "text": [
      "[I 2025-02-06 19:02:59,234] Trial 31 finished with value: 38.85861184601232 and parameters: {'colsample_bytree': 0.30671306392248726, 'learning_rate': 0.039447224717376585, 'max_bin': 241, 'min_child_samples': 61, 'n_estimators': 13155, 'num_leaves': 1054, 'reg_alpha': 0.8030118231300845, 'reg_lambda': 2.8411224795666203e-06, 'subsample': 0.21274667466148175}. Best is trial 29 with value: 38.857582899749474.\n"
     ]
    },
    {
     "name": "stdout",
     "output_type": "stream",
     "text": [
      "Trial 31 finished with value: 38.85861184601232 and parameters: {'colsample_bytree': 0.30671306392248726, 'learning_rate': 0.039447224717376585, 'max_bin': 241, 'min_child_samples': 61, 'n_estimators': 13155, 'num_leaves': 1054, 'reg_alpha': 0.8030118231300845, 'reg_lambda': 2.8411224795666203e-06, 'subsample': 0.21274667466148175}. Best is trial 29 with value: 38.857582899749474.\n",
      "Trial 31 finished with value: 38.85861184601232 and parameters: {'colsample_bytree': 0.30671306392248726, 'learning_rate': 0.039447224717376585, 'max_bin': 241, 'min_child_samples': 61, 'n_estimators': 13155, 'num_leaves': 1054, 'reg_alpha': 0.8030118231300845, 'reg_lambda': 2.8411224795666203e-06, 'subsample': 0.21274667466148175}. Best is trial 29 with value: 38.857582899749474.\n",
      "Trial 31 finished with value: 38.85861184601232 and parameters: {'colsample_bytree': 0.30671306392248726, 'learning_rate': 0.039447224717376585, 'max_bin': 241, 'min_child_samples': 61, 'n_estimators': 13155, 'num_leaves': 1054, 'reg_alpha': 0.8030118231300845, 'reg_lambda': 2.8411224795666203e-06, 'subsample': 0.21274667466148175}. Best is trial 29 with value: 38.857582899749474.\n",
      "Trial 31 finished with value: 38.85861184601232 and parameters: {'colsample_bytree': 0.30671306392248726, 'learning_rate': 0.039447224717376585, 'max_bin': 241, 'min_child_samples': 61, 'n_estimators': 13155, 'num_leaves': 1054, 'reg_alpha': 0.8030118231300845, 'reg_lambda': 2.8411224795666203e-06, 'subsample': 0.21274667466148175}. Best is trial 29 with value: 38.857582899749474.\n",
      "Trial 31 finished with value: 38.85861184601232 and parameters: {'colsample_bytree': 0.30671306392248726, 'learning_rate': 0.039447224717376585, 'max_bin': 241, 'min_child_samples': 61, 'n_estimators': 13155, 'num_leaves': 1054, 'reg_alpha': 0.8030118231300845, 'reg_lambda': 2.8411224795666203e-06, 'subsample': 0.21274667466148175}. Best is trial 29 with value: 38.857582899749474.\n",
      "Trial 31 finished with value: 38.85861184601232 and parameters: {'colsample_bytree': 0.30671306392248726, 'learning_rate': 0.039447224717376585, 'max_bin': 241, 'min_child_samples': 61, 'n_estimators': 13155, 'num_leaves': 1054, 'reg_alpha': 0.8030118231300845, 'reg_lambda': 2.8411224795666203e-06, 'subsample': 0.21274667466148175}. Best is trial 29 with value: 38.857582899749474.\n",
      "Trial 31 finished with value: 38.85861184601232 and parameters: {'colsample_bytree': 0.30671306392248726, 'learning_rate': 0.039447224717376585, 'max_bin': 241, 'min_child_samples': 61, 'n_estimators': 13155, 'num_leaves': 1054, 'reg_alpha': 0.8030118231300845, 'reg_lambda': 2.8411224795666203e-06, 'subsample': 0.21274667466148175}. Best is trial 29 with value: 38.857582899749474.\n",
      "Trial 31 finished with value: 38.85861184601232 and parameters: {'colsample_bytree': 0.30671306392248726, 'learning_rate': 0.039447224717376585, 'max_bin': 241, 'min_child_samples': 61, 'n_estimators': 13155, 'num_leaves': 1054, 'reg_alpha': 0.8030118231300845, 'reg_lambda': 2.8411224795666203e-06, 'subsample': 0.21274667466148175}. Best is trial 29 with value: 38.857582899749474.\n"
     ]
    },
    {
     "name": "stderr",
     "output_type": "stream",
     "text": [
      "[I 2025-02-06 19:03:59,911] Trial 32 finished with value: 38.85884417580077 and parameters: {'colsample_bytree': 0.3398825783204245, 'learning_rate': 0.04388716867475406, 'max_bin': 222, 'min_child_samples': 69, 'n_estimators': 12001, 'num_leaves': 1062, 'reg_alpha': 0.7342290967601215, 'reg_lambda': 4.786015101264032e-06, 'subsample': 0.20979590581340726}. Best is trial 29 with value: 38.857582899749474.\n"
     ]
    },
    {
     "name": "stdout",
     "output_type": "stream",
     "text": [
      "Trial 32 finished with value: 38.85884417580077 and parameters: {'colsample_bytree': 0.3398825783204245, 'learning_rate': 0.04388716867475406, 'max_bin': 222, 'min_child_samples': 69, 'n_estimators': 12001, 'num_leaves': 1062, 'reg_alpha': 0.7342290967601215, 'reg_lambda': 4.786015101264032e-06, 'subsample': 0.20979590581340726}. Best is trial 29 with value: 38.857582899749474.\n",
      "Trial 32 finished with value: 38.85884417580077 and parameters: {'colsample_bytree': 0.3398825783204245, 'learning_rate': 0.04388716867475406, 'max_bin': 222, 'min_child_samples': 69, 'n_estimators': 12001, 'num_leaves': 1062, 'reg_alpha': 0.7342290967601215, 'reg_lambda': 4.786015101264032e-06, 'subsample': 0.20979590581340726}. Best is trial 29 with value: 38.857582899749474.\n",
      "Trial 32 finished with value: 38.85884417580077 and parameters: {'colsample_bytree': 0.3398825783204245, 'learning_rate': 0.04388716867475406, 'max_bin': 222, 'min_child_samples': 69, 'n_estimators': 12001, 'num_leaves': 1062, 'reg_alpha': 0.7342290967601215, 'reg_lambda': 4.786015101264032e-06, 'subsample': 0.20979590581340726}. Best is trial 29 with value: 38.857582899749474.\n",
      "Trial 32 finished with value: 38.85884417580077 and parameters: {'colsample_bytree': 0.3398825783204245, 'learning_rate': 0.04388716867475406, 'max_bin': 222, 'min_child_samples': 69, 'n_estimators': 12001, 'num_leaves': 1062, 'reg_alpha': 0.7342290967601215, 'reg_lambda': 4.786015101264032e-06, 'subsample': 0.20979590581340726}. Best is trial 29 with value: 38.857582899749474.\n",
      "Trial 32 finished with value: 38.85884417580077 and parameters: {'colsample_bytree': 0.3398825783204245, 'learning_rate': 0.04388716867475406, 'max_bin': 222, 'min_child_samples': 69, 'n_estimators': 12001, 'num_leaves': 1062, 'reg_alpha': 0.7342290967601215, 'reg_lambda': 4.786015101264032e-06, 'subsample': 0.20979590581340726}. Best is trial 29 with value: 38.857582899749474.\n",
      "Trial 32 finished with value: 38.85884417580077 and parameters: {'colsample_bytree': 0.3398825783204245, 'learning_rate': 0.04388716867475406, 'max_bin': 222, 'min_child_samples': 69, 'n_estimators': 12001, 'num_leaves': 1062, 'reg_alpha': 0.7342290967601215, 'reg_lambda': 4.786015101264032e-06, 'subsample': 0.20979590581340726}. Best is trial 29 with value: 38.857582899749474.\n",
      "Trial 32 finished with value: 38.85884417580077 and parameters: {'colsample_bytree': 0.3398825783204245, 'learning_rate': 0.04388716867475406, 'max_bin': 222, 'min_child_samples': 69, 'n_estimators': 12001, 'num_leaves': 1062, 'reg_alpha': 0.7342290967601215, 'reg_lambda': 4.786015101264032e-06, 'subsample': 0.20979590581340726}. Best is trial 29 with value: 38.857582899749474.\n",
      "Trial 32 finished with value: 38.85884417580077 and parameters: {'colsample_bytree': 0.3398825783204245, 'learning_rate': 0.04388716867475406, 'max_bin': 222, 'min_child_samples': 69, 'n_estimators': 12001, 'num_leaves': 1062, 'reg_alpha': 0.7342290967601215, 'reg_lambda': 4.786015101264032e-06, 'subsample': 0.20979590581340726}. Best is trial 29 with value: 38.857582899749474.\n"
     ]
    },
    {
     "name": "stderr",
     "output_type": "stream",
     "text": [
      "[I 2025-02-06 19:04:00,993] Trial 33 pruned. Trial was pruned at iteration 0.\n"
     ]
    },
    {
     "name": "stdout",
     "output_type": "stream",
     "text": [
      "Trial 33 pruned. Trial was pruned at iteration 0.\n",
      "Trial 33 pruned. Trial was pruned at iteration 0.\n",
      "Trial 33 pruned. Trial was pruned at iteration 0.\n",
      "Trial 33 pruned. Trial was pruned at iteration 0.\n",
      "Trial 33 pruned. Trial was pruned at iteration 0.\n",
      "Trial 33 pruned. Trial was pruned at iteration 0.\n",
      "Trial 33 pruned. Trial was pruned at iteration 0.\n",
      "Trial 33 pruned. Trial was pruned at iteration 0.\n"
     ]
    },
    {
     "name": "stderr",
     "output_type": "stream",
     "text": [
      "[I 2025-02-06 19:04:01,906] Trial 34 pruned. Trial was pruned at iteration 0.\n"
     ]
    },
    {
     "name": "stdout",
     "output_type": "stream",
     "text": [
      "Trial 34 pruned. Trial was pruned at iteration 0.\n",
      "Trial 34 pruned. Trial was pruned at iteration 0.\n",
      "Trial 34 pruned. Trial was pruned at iteration 0.\n",
      "Trial 34 pruned. Trial was pruned at iteration 0.\n",
      "Trial 34 pruned. Trial was pruned at iteration 0.\n",
      "Trial 34 pruned. Trial was pruned at iteration 0.\n",
      "Trial 34 pruned. Trial was pruned at iteration 0.\n",
      "Trial 34 pruned. Trial was pruned at iteration 0.\n"
     ]
    },
    {
     "name": "stderr",
     "output_type": "stream",
     "text": [
      "[I 2025-02-06 19:04:49,655] Trial 35 finished with value: 38.85787088112697 and parameters: {'colsample_bytree': 0.2918725647694443, 'learning_rate': 0.04610086949078046, 'max_bin': 195, 'min_child_samples': 61, 'n_estimators': 12564, 'num_leaves': 966, 'reg_alpha': 0.8851438165137947, 'reg_lambda': 3.788517125239807e-06, 'subsample': 0.20856627345487647}. Best is trial 29 with value: 38.857582899749474.\n"
     ]
    },
    {
     "name": "stdout",
     "output_type": "stream",
     "text": [
      "Trial 35 finished with value: 38.85787088112697 and parameters: {'colsample_bytree': 0.2918725647694443, 'learning_rate': 0.04610086949078046, 'max_bin': 195, 'min_child_samples': 61, 'n_estimators': 12564, 'num_leaves': 966, 'reg_alpha': 0.8851438165137947, 'reg_lambda': 3.788517125239807e-06, 'subsample': 0.20856627345487647}. Best is trial 29 with value: 38.857582899749474.\n",
      "Trial 35 finished with value: 38.85787088112697 and parameters: {'colsample_bytree': 0.2918725647694443, 'learning_rate': 0.04610086949078046, 'max_bin': 195, 'min_child_samples': 61, 'n_estimators': 12564, 'num_leaves': 966, 'reg_alpha': 0.8851438165137947, 'reg_lambda': 3.788517125239807e-06, 'subsample': 0.20856627345487647}. Best is trial 29 with value: 38.857582899749474.\n",
      "Trial 35 finished with value: 38.85787088112697 and parameters: {'colsample_bytree': 0.2918725647694443, 'learning_rate': 0.04610086949078046, 'max_bin': 195, 'min_child_samples': 61, 'n_estimators': 12564, 'num_leaves': 966, 'reg_alpha': 0.8851438165137947, 'reg_lambda': 3.788517125239807e-06, 'subsample': 0.20856627345487647}. Best is trial 29 with value: 38.857582899749474.\n",
      "Trial 35 finished with value: 38.85787088112697 and parameters: {'colsample_bytree': 0.2918725647694443, 'learning_rate': 0.04610086949078046, 'max_bin': 195, 'min_child_samples': 61, 'n_estimators': 12564, 'num_leaves': 966, 'reg_alpha': 0.8851438165137947, 'reg_lambda': 3.788517125239807e-06, 'subsample': 0.20856627345487647}. Best is trial 29 with value: 38.857582899749474.\n",
      "Trial 35 finished with value: 38.85787088112697 and parameters: {'colsample_bytree': 0.2918725647694443, 'learning_rate': 0.04610086949078046, 'max_bin': 195, 'min_child_samples': 61, 'n_estimators': 12564, 'num_leaves': 966, 'reg_alpha': 0.8851438165137947, 'reg_lambda': 3.788517125239807e-06, 'subsample': 0.20856627345487647}. Best is trial 29 with value: 38.857582899749474.\n",
      "Trial 35 finished with value: 38.85787088112697 and parameters: {'colsample_bytree': 0.2918725647694443, 'learning_rate': 0.04610086949078046, 'max_bin': 195, 'min_child_samples': 61, 'n_estimators': 12564, 'num_leaves': 966, 'reg_alpha': 0.8851438165137947, 'reg_lambda': 3.788517125239807e-06, 'subsample': 0.20856627345487647}. Best is trial 29 with value: 38.857582899749474.\n",
      "Trial 35 finished with value: 38.85787088112697 and parameters: {'colsample_bytree': 0.2918725647694443, 'learning_rate': 0.04610086949078046, 'max_bin': 195, 'min_child_samples': 61, 'n_estimators': 12564, 'num_leaves': 966, 'reg_alpha': 0.8851438165137947, 'reg_lambda': 3.788517125239807e-06, 'subsample': 0.20856627345487647}. Best is trial 29 with value: 38.857582899749474.\n",
      "Trial 35 finished with value: 38.85787088112697 and parameters: {'colsample_bytree': 0.2918725647694443, 'learning_rate': 0.04610086949078046, 'max_bin': 195, 'min_child_samples': 61, 'n_estimators': 12564, 'num_leaves': 966, 'reg_alpha': 0.8851438165137947, 'reg_lambda': 3.788517125239807e-06, 'subsample': 0.20856627345487647}. Best is trial 29 with value: 38.857582899749474.\n"
     ]
    },
    {
     "name": "stderr",
     "output_type": "stream",
     "text": [
      "[I 2025-02-06 19:05:02,707] Trial 36 pruned. Trial was pruned at iteration 61.\n"
     ]
    },
    {
     "name": "stdout",
     "output_type": "stream",
     "text": [
      "Trial 36 pruned. Trial was pruned at iteration 61.\n",
      "Trial 36 pruned. Trial was pruned at iteration 61.\n",
      "Trial 36 pruned. Trial was pruned at iteration 61.\n",
      "Trial 36 pruned. Trial was pruned at iteration 61.\n",
      "Trial 36 pruned. Trial was pruned at iteration 61.\n",
      "Trial 36 pruned. Trial was pruned at iteration 61.\n",
      "Trial 36 pruned. Trial was pruned at iteration 61.\n",
      "Trial 36 pruned. Trial was pruned at iteration 61.\n"
     ]
    },
    {
     "name": "stderr",
     "output_type": "stream",
     "text": [
      "[I 2025-02-06 19:05:03,499] Trial 37 pruned. Trial was pruned at iteration 0.\n"
     ]
    },
    {
     "name": "stdout",
     "output_type": "stream",
     "text": [
      "Trial 37 pruned. Trial was pruned at iteration 0.\n",
      "Trial 37 pruned. Trial was pruned at iteration 0.\n",
      "Trial 37 pruned. Trial was pruned at iteration 0.\n",
      "Trial 37 pruned. Trial was pruned at iteration 0.\n",
      "Trial 37 pruned. Trial was pruned at iteration 0.\n",
      "Trial 37 pruned. Trial was pruned at iteration 0.\n",
      "Trial 37 pruned. Trial was pruned at iteration 0.\n",
      "Trial 37 pruned. Trial was pruned at iteration 0.\n"
     ]
    },
    {
     "name": "stderr",
     "output_type": "stream",
     "text": [
      "[I 2025-02-06 19:05:04,297] Trial 38 pruned. Trial was pruned at iteration 0.\n"
     ]
    },
    {
     "name": "stdout",
     "output_type": "stream",
     "text": [
      "Trial 38 pruned. Trial was pruned at iteration 0.\n",
      "Trial 38 pruned. Trial was pruned at iteration 0.\n",
      "Trial 38 pruned. Trial was pruned at iteration 0.\n",
      "Trial 38 pruned. Trial was pruned at iteration 0.\n",
      "Trial 38 pruned. Trial was pruned at iteration 0.\n",
      "Trial 38 pruned. Trial was pruned at iteration 0.\n",
      "Trial 38 pruned. Trial was pruned at iteration 0.\n",
      "Trial 38 pruned. Trial was pruned at iteration 0.\n"
     ]
    },
    {
     "name": "stderr",
     "output_type": "stream",
     "text": [
      "[I 2025-02-06 19:05:05,499] Trial 39 pruned. Trial was pruned at iteration 0.\n"
     ]
    },
    {
     "name": "stdout",
     "output_type": "stream",
     "text": [
      "Trial 39 pruned. Trial was pruned at iteration 0.\n",
      "Trial 39 pruned. Trial was pruned at iteration 0.\n",
      "Trial 39 pruned. Trial was pruned at iteration 0.\n",
      "Trial 39 pruned. Trial was pruned at iteration 0.\n",
      "Trial 39 pruned. Trial was pruned at iteration 0.\n",
      "Trial 39 pruned. Trial was pruned at iteration 0.\n",
      "Trial 39 pruned. Trial was pruned at iteration 0.\n",
      "Trial 39 pruned. Trial was pruned at iteration 0.\n"
     ]
    },
    {
     "name": "stderr",
     "output_type": "stream",
     "text": [
      "[I 2025-02-06 19:05:06,469] Trial 40 pruned. Trial was pruned at iteration 0.\n"
     ]
    },
    {
     "name": "stdout",
     "output_type": "stream",
     "text": [
      "Trial 40 pruned. Trial was pruned at iteration 0.\n",
      "Trial 40 pruned. Trial was pruned at iteration 0.\n",
      "Trial 40 pruned. Trial was pruned at iteration 0.\n",
      "Trial 40 pruned. Trial was pruned at iteration 0.\n",
      "Trial 40 pruned. Trial was pruned at iteration 0.\n",
      "Trial 40 pruned. Trial was pruned at iteration 0.\n",
      "Trial 40 pruned. Trial was pruned at iteration 0.\n",
      "Trial 40 pruned. Trial was pruned at iteration 0.\n"
     ]
    },
    {
     "name": "stderr",
     "output_type": "stream",
     "text": [
      "[I 2025-02-06 19:05:07,371] Trial 41 pruned. Trial was pruned at iteration 0.\n"
     ]
    },
    {
     "name": "stdout",
     "output_type": "stream",
     "text": [
      "Trial 41 pruned. Trial was pruned at iteration 0.\n",
      "Trial 41 pruned. Trial was pruned at iteration 0.\n",
      "Trial 41 pruned. Trial was pruned at iteration 0.\n",
      "Trial 41 pruned. Trial was pruned at iteration 0.\n",
      "Trial 41 pruned. Trial was pruned at iteration 0.\n",
      "Trial 41 pruned. Trial was pruned at iteration 0.\n",
      "Trial 41 pruned. Trial was pruned at iteration 0.\n",
      "Trial 41 pruned. Trial was pruned at iteration 0.\n"
     ]
    },
    {
     "name": "stderr",
     "output_type": "stream",
     "text": [
      "[I 2025-02-06 19:05:08,637] Trial 42 pruned. Trial was pruned at iteration 1.\n"
     ]
    },
    {
     "name": "stdout",
     "output_type": "stream",
     "text": [
      "Trial 42 pruned. Trial was pruned at iteration 1.\n",
      "Trial 42 pruned. Trial was pruned at iteration 1.\n",
      "Trial 42 pruned. Trial was pruned at iteration 1.\n",
      "Trial 42 pruned. Trial was pruned at iteration 1.\n",
      "Trial 42 pruned. Trial was pruned at iteration 1.\n",
      "Trial 42 pruned. Trial was pruned at iteration 1.\n",
      "Trial 42 pruned. Trial was pruned at iteration 1.\n",
      "Trial 42 pruned. Trial was pruned at iteration 1.\n"
     ]
    },
    {
     "name": "stderr",
     "output_type": "stream",
     "text": [
      "[I 2025-02-06 19:05:09,543] Trial 43 pruned. Trial was pruned at iteration 0.\n"
     ]
    },
    {
     "name": "stdout",
     "output_type": "stream",
     "text": [
      "Trial 43 pruned. Trial was pruned at iteration 0.\n",
      "Trial 43 pruned. Trial was pruned at iteration 0.\n",
      "Trial 43 pruned. Trial was pruned at iteration 0.\n",
      "Trial 43 pruned. Trial was pruned at iteration 0.\n",
      "Trial 43 pruned. Trial was pruned at iteration 0.\n",
      "Trial 43 pruned. Trial was pruned at iteration 0.\n",
      "Trial 43 pruned. Trial was pruned at iteration 0.\n",
      "Trial 43 pruned. Trial was pruned at iteration 0.\n"
     ]
    },
    {
     "name": "stderr",
     "output_type": "stream",
     "text": [
      "[I 2025-02-06 19:05:10,384] Trial 44 pruned. Trial was pruned at iteration 0.\n"
     ]
    },
    {
     "name": "stdout",
     "output_type": "stream",
     "text": [
      "Trial 44 pruned. Trial was pruned at iteration 0.\n",
      "Trial 44 pruned. Trial was pruned at iteration 0.\n",
      "Trial 44 pruned. Trial was pruned at iteration 0.\n",
      "Trial 44 pruned. Trial was pruned at iteration 0.\n",
      "Trial 44 pruned. Trial was pruned at iteration 0.\n",
      "Trial 44 pruned. Trial was pruned at iteration 0.\n",
      "Trial 44 pruned. Trial was pruned at iteration 0.\n",
      "Trial 44 pruned. Trial was pruned at iteration 0.\n"
     ]
    },
    {
     "name": "stderr",
     "output_type": "stream",
     "text": [
      "[I 2025-02-06 19:05:57,209] Trial 45 finished with value: 38.85725023088483 and parameters: {'colsample_bytree': 0.3040564925674231, 'learning_rate': 0.04639446549720477, 'max_bin': 248, 'min_child_samples': 66, 'n_estimators': 9937, 'num_leaves': 997, 'reg_alpha': 1.0658581751731575, 'reg_lambda': 2.7088587907584674e-06, 'subsample': 0.20213272878737357}. Best is trial 45 with value: 38.85725023088483.\n"
     ]
    },
    {
     "name": "stdout",
     "output_type": "stream",
     "text": [
      "Trial 45 finished with value: 38.85725023088483 and parameters: {'colsample_bytree': 0.3040564925674231, 'learning_rate': 0.04639446549720477, 'max_bin': 248, 'min_child_samples': 66, 'n_estimators': 9937, 'num_leaves': 997, 'reg_alpha': 1.0658581751731575, 'reg_lambda': 2.7088587907584674e-06, 'subsample': 0.20213272878737357}. Best is trial 45 with value: 38.85725023088483.\n",
      "Trial 45 finished with value: 38.85725023088483 and parameters: {'colsample_bytree': 0.3040564925674231, 'learning_rate': 0.04639446549720477, 'max_bin': 248, 'min_child_samples': 66, 'n_estimators': 9937, 'num_leaves': 997, 'reg_alpha': 1.0658581751731575, 'reg_lambda': 2.7088587907584674e-06, 'subsample': 0.20213272878737357}. Best is trial 45 with value: 38.85725023088483.\n",
      "Trial 45 finished with value: 38.85725023088483 and parameters: {'colsample_bytree': 0.3040564925674231, 'learning_rate': 0.04639446549720477, 'max_bin': 248, 'min_child_samples': 66, 'n_estimators': 9937, 'num_leaves': 997, 'reg_alpha': 1.0658581751731575, 'reg_lambda': 2.7088587907584674e-06, 'subsample': 0.20213272878737357}. Best is trial 45 with value: 38.85725023088483.\n",
      "Trial 45 finished with value: 38.85725023088483 and parameters: {'colsample_bytree': 0.3040564925674231, 'learning_rate': 0.04639446549720477, 'max_bin': 248, 'min_child_samples': 66, 'n_estimators': 9937, 'num_leaves': 997, 'reg_alpha': 1.0658581751731575, 'reg_lambda': 2.7088587907584674e-06, 'subsample': 0.20213272878737357}. Best is trial 45 with value: 38.85725023088483.\n",
      "Trial 45 finished with value: 38.85725023088483 and parameters: {'colsample_bytree': 0.3040564925674231, 'learning_rate': 0.04639446549720477, 'max_bin': 248, 'min_child_samples': 66, 'n_estimators': 9937, 'num_leaves': 997, 'reg_alpha': 1.0658581751731575, 'reg_lambda': 2.7088587907584674e-06, 'subsample': 0.20213272878737357}. Best is trial 45 with value: 38.85725023088483.\n",
      "Trial 45 finished with value: 38.85725023088483 and parameters: {'colsample_bytree': 0.3040564925674231, 'learning_rate': 0.04639446549720477, 'max_bin': 248, 'min_child_samples': 66, 'n_estimators': 9937, 'num_leaves': 997, 'reg_alpha': 1.0658581751731575, 'reg_lambda': 2.7088587907584674e-06, 'subsample': 0.20213272878737357}. Best is trial 45 with value: 38.85725023088483.\n",
      "Trial 45 finished with value: 38.85725023088483 and parameters: {'colsample_bytree': 0.3040564925674231, 'learning_rate': 0.04639446549720477, 'max_bin': 248, 'min_child_samples': 66, 'n_estimators': 9937, 'num_leaves': 997, 'reg_alpha': 1.0658581751731575, 'reg_lambda': 2.7088587907584674e-06, 'subsample': 0.20213272878737357}. Best is trial 45 with value: 38.85725023088483.\n",
      "Trial 45 finished with value: 38.85725023088483 and parameters: {'colsample_bytree': 0.3040564925674231, 'learning_rate': 0.04639446549720477, 'max_bin': 248, 'min_child_samples': 66, 'n_estimators': 9937, 'num_leaves': 997, 'reg_alpha': 1.0658581751731575, 'reg_lambda': 2.7088587907584674e-06, 'subsample': 0.20213272878737357}. Best is trial 45 with value: 38.85725023088483.\n"
     ]
    },
    {
     "name": "stderr",
     "output_type": "stream",
     "text": [
      "[I 2025-02-06 19:06:44,620] Trial 46 finished with value: 38.85742655016177 and parameters: {'colsample_bytree': 0.3015649744008854, 'learning_rate': 0.04665521920144208, 'max_bin': 255, 'min_child_samples': 65, 'n_estimators': 10996, 'num_leaves': 1000, 'reg_alpha': 1.239246399789409, 'reg_lambda': 2.1223108433401367e-06, 'subsample': 0.20209451071765197}. Best is trial 45 with value: 38.85725023088483.\n"
     ]
    },
    {
     "name": "stdout",
     "output_type": "stream",
     "text": [
      "Trial 46 finished with value: 38.85742655016177 and parameters: {'colsample_bytree': 0.3015649744008854, 'learning_rate': 0.04665521920144208, 'max_bin': 255, 'min_child_samples': 65, 'n_estimators': 10996, 'num_leaves': 1000, 'reg_alpha': 1.239246399789409, 'reg_lambda': 2.1223108433401367e-06, 'subsample': 0.20209451071765197}. Best is trial 45 with value: 38.85725023088483.\n",
      "Trial 46 finished with value: 38.85742655016177 and parameters: {'colsample_bytree': 0.3015649744008854, 'learning_rate': 0.04665521920144208, 'max_bin': 255, 'min_child_samples': 65, 'n_estimators': 10996, 'num_leaves': 1000, 'reg_alpha': 1.239246399789409, 'reg_lambda': 2.1223108433401367e-06, 'subsample': 0.20209451071765197}. Best is trial 45 with value: 38.85725023088483.\n",
      "Trial 46 finished with value: 38.85742655016177 and parameters: {'colsample_bytree': 0.3015649744008854, 'learning_rate': 0.04665521920144208, 'max_bin': 255, 'min_child_samples': 65, 'n_estimators': 10996, 'num_leaves': 1000, 'reg_alpha': 1.239246399789409, 'reg_lambda': 2.1223108433401367e-06, 'subsample': 0.20209451071765197}. Best is trial 45 with value: 38.85725023088483.\n",
      "Trial 46 finished with value: 38.85742655016177 and parameters: {'colsample_bytree': 0.3015649744008854, 'learning_rate': 0.04665521920144208, 'max_bin': 255, 'min_child_samples': 65, 'n_estimators': 10996, 'num_leaves': 1000, 'reg_alpha': 1.239246399789409, 'reg_lambda': 2.1223108433401367e-06, 'subsample': 0.20209451071765197}. Best is trial 45 with value: 38.85725023088483.\n",
      "Trial 46 finished with value: 38.85742655016177 and parameters: {'colsample_bytree': 0.3015649744008854, 'learning_rate': 0.04665521920144208, 'max_bin': 255, 'min_child_samples': 65, 'n_estimators': 10996, 'num_leaves': 1000, 'reg_alpha': 1.239246399789409, 'reg_lambda': 2.1223108433401367e-06, 'subsample': 0.20209451071765197}. Best is trial 45 with value: 38.85725023088483.\n",
      "Trial 46 finished with value: 38.85742655016177 and parameters: {'colsample_bytree': 0.3015649744008854, 'learning_rate': 0.04665521920144208, 'max_bin': 255, 'min_child_samples': 65, 'n_estimators': 10996, 'num_leaves': 1000, 'reg_alpha': 1.239246399789409, 'reg_lambda': 2.1223108433401367e-06, 'subsample': 0.20209451071765197}. Best is trial 45 with value: 38.85725023088483.\n",
      "Trial 46 finished with value: 38.85742655016177 and parameters: {'colsample_bytree': 0.3015649744008854, 'learning_rate': 0.04665521920144208, 'max_bin': 255, 'min_child_samples': 65, 'n_estimators': 10996, 'num_leaves': 1000, 'reg_alpha': 1.239246399789409, 'reg_lambda': 2.1223108433401367e-06, 'subsample': 0.20209451071765197}. Best is trial 45 with value: 38.85725023088483.\n",
      "Trial 46 finished with value: 38.85742655016177 and parameters: {'colsample_bytree': 0.3015649744008854, 'learning_rate': 0.04665521920144208, 'max_bin': 255, 'min_child_samples': 65, 'n_estimators': 10996, 'num_leaves': 1000, 'reg_alpha': 1.239246399789409, 'reg_lambda': 2.1223108433401367e-06, 'subsample': 0.20209451071765197}. Best is trial 45 with value: 38.85725023088483.\n"
     ]
    },
    {
     "name": "stderr",
     "output_type": "stream",
     "text": [
      "[I 2025-02-06 19:07:37,550] Trial 47 finished with value: 38.85852641200999 and parameters: {'colsample_bytree': 0.302829966228656, 'learning_rate': 0.046850138627281275, 'max_bin': 242, 'min_child_samples': 59, 'n_estimators': 11200, 'num_leaves': 939, 'reg_alpha': 1.2230148171242843, 'reg_lambda': 2.9328530308219802e-06, 'subsample': 0.20027158027653472}. Best is trial 45 with value: 38.85725023088483.\n"
     ]
    },
    {
     "name": "stdout",
     "output_type": "stream",
     "text": [
      "Trial 47 finished with value: 38.85852641200999 and parameters: {'colsample_bytree': 0.302829966228656, 'learning_rate': 0.046850138627281275, 'max_bin': 242, 'min_child_samples': 59, 'n_estimators': 11200, 'num_leaves': 939, 'reg_alpha': 1.2230148171242843, 'reg_lambda': 2.9328530308219802e-06, 'subsample': 0.20027158027653472}. Best is trial 45 with value: 38.85725023088483.\n",
      "Trial 47 finished with value: 38.85852641200999 and parameters: {'colsample_bytree': 0.302829966228656, 'learning_rate': 0.046850138627281275, 'max_bin': 242, 'min_child_samples': 59, 'n_estimators': 11200, 'num_leaves': 939, 'reg_alpha': 1.2230148171242843, 'reg_lambda': 2.9328530308219802e-06, 'subsample': 0.20027158027653472}. Best is trial 45 with value: 38.85725023088483.\n",
      "Trial 47 finished with value: 38.85852641200999 and parameters: {'colsample_bytree': 0.302829966228656, 'learning_rate': 0.046850138627281275, 'max_bin': 242, 'min_child_samples': 59, 'n_estimators': 11200, 'num_leaves': 939, 'reg_alpha': 1.2230148171242843, 'reg_lambda': 2.9328530308219802e-06, 'subsample': 0.20027158027653472}. Best is trial 45 with value: 38.85725023088483.\n",
      "Trial 47 finished with value: 38.85852641200999 and parameters: {'colsample_bytree': 0.302829966228656, 'learning_rate': 0.046850138627281275, 'max_bin': 242, 'min_child_samples': 59, 'n_estimators': 11200, 'num_leaves': 939, 'reg_alpha': 1.2230148171242843, 'reg_lambda': 2.9328530308219802e-06, 'subsample': 0.20027158027653472}. Best is trial 45 with value: 38.85725023088483.\n",
      "Trial 47 finished with value: 38.85852641200999 and parameters: {'colsample_bytree': 0.302829966228656, 'learning_rate': 0.046850138627281275, 'max_bin': 242, 'min_child_samples': 59, 'n_estimators': 11200, 'num_leaves': 939, 'reg_alpha': 1.2230148171242843, 'reg_lambda': 2.9328530308219802e-06, 'subsample': 0.20027158027653472}. Best is trial 45 with value: 38.85725023088483.\n",
      "Trial 47 finished with value: 38.85852641200999 and parameters: {'colsample_bytree': 0.302829966228656, 'learning_rate': 0.046850138627281275, 'max_bin': 242, 'min_child_samples': 59, 'n_estimators': 11200, 'num_leaves': 939, 'reg_alpha': 1.2230148171242843, 'reg_lambda': 2.9328530308219802e-06, 'subsample': 0.20027158027653472}. Best is trial 45 with value: 38.85725023088483.\n",
      "Trial 47 finished with value: 38.85852641200999 and parameters: {'colsample_bytree': 0.302829966228656, 'learning_rate': 0.046850138627281275, 'max_bin': 242, 'min_child_samples': 59, 'n_estimators': 11200, 'num_leaves': 939, 'reg_alpha': 1.2230148171242843, 'reg_lambda': 2.9328530308219802e-06, 'subsample': 0.20027158027653472}. Best is trial 45 with value: 38.85725023088483.\n",
      "Trial 47 finished with value: 38.85852641200999 and parameters: {'colsample_bytree': 0.302829966228656, 'learning_rate': 0.046850138627281275, 'max_bin': 242, 'min_child_samples': 59, 'n_estimators': 11200, 'num_leaves': 939, 'reg_alpha': 1.2230148171242843, 'reg_lambda': 2.9328530308219802e-06, 'subsample': 0.20027158027653472}. Best is trial 45 with value: 38.85725023088483.\n"
     ]
    },
    {
     "name": "stderr",
     "output_type": "stream",
     "text": [
      "[I 2025-02-06 19:08:32,211] Trial 48 finished with value: 38.85827406792398 and parameters: {'colsample_bytree': 0.2976222212818758, 'learning_rate': 0.04673218139259328, 'max_bin': 251, 'min_child_samples': 64, 'n_estimators': 10912, 'num_leaves': 971, 'reg_alpha': 1.2702519317930194, 'reg_lambda': 2.0424857064709736e-06, 'subsample': 0.20272270489772107}. Best is trial 45 with value: 38.85725023088483.\n"
     ]
    },
    {
     "name": "stdout",
     "output_type": "stream",
     "text": [
      "Trial 48 finished with value: 38.85827406792398 and parameters: {'colsample_bytree': 0.2976222212818758, 'learning_rate': 0.04673218139259328, 'max_bin': 251, 'min_child_samples': 64, 'n_estimators': 10912, 'num_leaves': 971, 'reg_alpha': 1.2702519317930194, 'reg_lambda': 2.0424857064709736e-06, 'subsample': 0.20272270489772107}. Best is trial 45 with value: 38.85725023088483.\n",
      "Trial 48 finished with value: 38.85827406792398 and parameters: {'colsample_bytree': 0.2976222212818758, 'learning_rate': 0.04673218139259328, 'max_bin': 251, 'min_child_samples': 64, 'n_estimators': 10912, 'num_leaves': 971, 'reg_alpha': 1.2702519317930194, 'reg_lambda': 2.0424857064709736e-06, 'subsample': 0.20272270489772107}. Best is trial 45 with value: 38.85725023088483.\n",
      "Trial 48 finished with value: 38.85827406792398 and parameters: {'colsample_bytree': 0.2976222212818758, 'learning_rate': 0.04673218139259328, 'max_bin': 251, 'min_child_samples': 64, 'n_estimators': 10912, 'num_leaves': 971, 'reg_alpha': 1.2702519317930194, 'reg_lambda': 2.0424857064709736e-06, 'subsample': 0.20272270489772107}. Best is trial 45 with value: 38.85725023088483.\n",
      "Trial 48 finished with value: 38.85827406792398 and parameters: {'colsample_bytree': 0.2976222212818758, 'learning_rate': 0.04673218139259328, 'max_bin': 251, 'min_child_samples': 64, 'n_estimators': 10912, 'num_leaves': 971, 'reg_alpha': 1.2702519317930194, 'reg_lambda': 2.0424857064709736e-06, 'subsample': 0.20272270489772107}. Best is trial 45 with value: 38.85725023088483.\n",
      "Trial 48 finished with value: 38.85827406792398 and parameters: {'colsample_bytree': 0.2976222212818758, 'learning_rate': 0.04673218139259328, 'max_bin': 251, 'min_child_samples': 64, 'n_estimators': 10912, 'num_leaves': 971, 'reg_alpha': 1.2702519317930194, 'reg_lambda': 2.0424857064709736e-06, 'subsample': 0.20272270489772107}. Best is trial 45 with value: 38.85725023088483.\n",
      "Trial 48 finished with value: 38.85827406792398 and parameters: {'colsample_bytree': 0.2976222212818758, 'learning_rate': 0.04673218139259328, 'max_bin': 251, 'min_child_samples': 64, 'n_estimators': 10912, 'num_leaves': 971, 'reg_alpha': 1.2702519317930194, 'reg_lambda': 2.0424857064709736e-06, 'subsample': 0.20272270489772107}. Best is trial 45 with value: 38.85725023088483.\n",
      "Trial 48 finished with value: 38.85827406792398 and parameters: {'colsample_bytree': 0.2976222212818758, 'learning_rate': 0.04673218139259328, 'max_bin': 251, 'min_child_samples': 64, 'n_estimators': 10912, 'num_leaves': 971, 'reg_alpha': 1.2702519317930194, 'reg_lambda': 2.0424857064709736e-06, 'subsample': 0.20272270489772107}. Best is trial 45 with value: 38.85725023088483.\n",
      "Trial 48 finished with value: 38.85827406792398 and parameters: {'colsample_bytree': 0.2976222212818758, 'learning_rate': 0.04673218139259328, 'max_bin': 251, 'min_child_samples': 64, 'n_estimators': 10912, 'num_leaves': 971, 'reg_alpha': 1.2702519317930194, 'reg_lambda': 2.0424857064709736e-06, 'subsample': 0.20272270489772107}. Best is trial 45 with value: 38.85725023088483.\n"
     ]
    },
    {
     "name": "stderr",
     "output_type": "stream",
     "text": [
      "[I 2025-02-06 19:09:19,169] Trial 49 finished with value: 38.85691610847639 and parameters: {'colsample_bytree': 0.3038806818979098, 'learning_rate': 0.04910535343913768, 'max_bin': 248, 'min_child_samples': 54, 'n_estimators': 12706, 'num_leaves': 969, 'reg_alpha': 1.0950209614784265, 'reg_lambda': 3.3987112639724684e-06, 'subsample': 0.20218589684713104}. Best is trial 49 with value: 38.85691610847639.\n"
     ]
    },
    {
     "name": "stdout",
     "output_type": "stream",
     "text": [
      "Trial 49 finished with value: 38.85691610847639 and parameters: {'colsample_bytree': 0.3038806818979098, 'learning_rate': 0.04910535343913768, 'max_bin': 248, 'min_child_samples': 54, 'n_estimators': 12706, 'num_leaves': 969, 'reg_alpha': 1.0950209614784265, 'reg_lambda': 3.3987112639724684e-06, 'subsample': 0.20218589684713104}. Best is trial 49 with value: 38.85691610847639.\n",
      "Trial 49 finished with value: 38.85691610847639 and parameters: {'colsample_bytree': 0.3038806818979098, 'learning_rate': 0.04910535343913768, 'max_bin': 248, 'min_child_samples': 54, 'n_estimators': 12706, 'num_leaves': 969, 'reg_alpha': 1.0950209614784265, 'reg_lambda': 3.3987112639724684e-06, 'subsample': 0.20218589684713104}. Best is trial 49 with value: 38.85691610847639.\n",
      "Trial 49 finished with value: 38.85691610847639 and parameters: {'colsample_bytree': 0.3038806818979098, 'learning_rate': 0.04910535343913768, 'max_bin': 248, 'min_child_samples': 54, 'n_estimators': 12706, 'num_leaves': 969, 'reg_alpha': 1.0950209614784265, 'reg_lambda': 3.3987112639724684e-06, 'subsample': 0.20218589684713104}. Best is trial 49 with value: 38.85691610847639.\n",
      "Trial 49 finished with value: 38.85691610847639 and parameters: {'colsample_bytree': 0.3038806818979098, 'learning_rate': 0.04910535343913768, 'max_bin': 248, 'min_child_samples': 54, 'n_estimators': 12706, 'num_leaves': 969, 'reg_alpha': 1.0950209614784265, 'reg_lambda': 3.3987112639724684e-06, 'subsample': 0.20218589684713104}. Best is trial 49 with value: 38.85691610847639.\n",
      "Trial 49 finished with value: 38.85691610847639 and parameters: {'colsample_bytree': 0.3038806818979098, 'learning_rate': 0.04910535343913768, 'max_bin': 248, 'min_child_samples': 54, 'n_estimators': 12706, 'num_leaves': 969, 'reg_alpha': 1.0950209614784265, 'reg_lambda': 3.3987112639724684e-06, 'subsample': 0.20218589684713104}. Best is trial 49 with value: 38.85691610847639.\n",
      "Trial 49 finished with value: 38.85691610847639 and parameters: {'colsample_bytree': 0.3038806818979098, 'learning_rate': 0.04910535343913768, 'max_bin': 248, 'min_child_samples': 54, 'n_estimators': 12706, 'num_leaves': 969, 'reg_alpha': 1.0950209614784265, 'reg_lambda': 3.3987112639724684e-06, 'subsample': 0.20218589684713104}. Best is trial 49 with value: 38.85691610847639.\n",
      "Trial 49 finished with value: 38.85691610847639 and parameters: {'colsample_bytree': 0.3038806818979098, 'learning_rate': 0.04910535343913768, 'max_bin': 248, 'min_child_samples': 54, 'n_estimators': 12706, 'num_leaves': 969, 'reg_alpha': 1.0950209614784265, 'reg_lambda': 3.3987112639724684e-06, 'subsample': 0.20218589684713104}. Best is trial 49 with value: 38.85691610847639.\n",
      "Trial 49 finished with value: 38.85691610847639 and parameters: {'colsample_bytree': 0.3038806818979098, 'learning_rate': 0.04910535343913768, 'max_bin': 248, 'min_child_samples': 54, 'n_estimators': 12706, 'num_leaves': 969, 'reg_alpha': 1.0950209614784265, 'reg_lambda': 3.3987112639724684e-06, 'subsample': 0.20218589684713104}. Best is trial 49 with value: 38.85691610847639.\n"
     ]
    }
   ],
   "source": [
    "def objective(trial):    \n",
    "    # Define the hyperparameter search space\n",
    "    param = {\n",
    "        'objective': 'regression',\n",
    "        'metric': 'rmse',\n",
    "        'colsample_bytree': trial.suggest_float('colsample_bytree', 0.25, .35),\n",
    "        'learning_rate': trial.suggest_loguniform('learning_rate', .01, 0.05),\n",
    "        'max_bin': trial.suggest_int('max_bin', 10, 255),\n",
    "        # 'max_bin': trial.suggest_int('max_bin', 100000, 130000),\n",
    "        'max_depth': 10,\n",
    "        'min_child_samples': trial.suggest_int('min_child_samples', 40, 80),\n",
    "        'min_split_gain': 0.5,\n",
    "        'n_estimators': trial.suggest_int('n_estimators', 9000, 15000),\n",
    "        'num_leaves': trial.suggest_int('num_leaves', 900, 1200),\n",
    "        'reg_alpha': trial.suggest_loguniform('reg_alpha', 0.5, 2.0),\n",
    "        'reg_lambda': trial.suggest_loguniform('reg_lambda', 0.000001, 0.00001),\n",
    "        'subsample': trial.suggest_float('subsample', 0.2, 0.25),\n",
    "        'random_state': 42,\n",
    "        'early_stopping_rounds': 50,\n",
    "        'verbosity': -1,\n",
    "        'device': 'gpu'\n",
    "    }\n",
    "    \n",
    "    train_data = lgb.Dataset(X_train, label=y_train)\n",
    "    valid_data = lgb.Dataset(X_valid, label=y_valid, reference=train_data)\n",
    "    \n",
    "    # Initialize the model with these parameters\n",
    "    model = lgb.train(\n",
    "        params=param,\n",
    "        train_set=train_data,\n",
    "        num_boost_round=700,\n",
    "        valid_sets=[train_data, valid_data],\n",
    "        valid_names=['train_0', 'valid_0'],\n",
    "        callbacks=[\n",
    "            LightGBMPruningCallback(trial, \"rmse\", valid_name=\"valid_0\"),\n",
    "            lgb.log_evaluation(-1)                   # Suppress training logs\n",
    "        ]\n",
    "    )\n",
    "    y_pred = model.predict(X_valid, num_iteration=model.best_iteration)\n",
    "    rmse = np.sqrt(mean_squared_error(y_valid, y_pred))    \n",
    "    return rmse\n",
    "\n",
    "optuna.logging.get_logger(\"optuna\").addHandler(logging.StreamHandler(sys.stdout))\n",
    "study_name = datetime.now().strftime(\"%Y-%m-%d_%H-%M\")\n",
    "storage_name = f\"sqlite:///db.sqlite3\"\n",
    "# storage_name = f\"sqlite:///{os.path.join(optuna_dir, study_name)}.db\"\n",
    "\n",
    "study = optuna.create_study(study_name=study_name, storage=storage_name, direction='minimize')\n",
    "study.optimize(objective, n_trials=50)"
   ]
  },
  {
   "cell_type": "code",
   "execution_count": null,
   "metadata": {},
   "outputs": [
    {
     "name": "stderr",
     "output_type": "stream",
     "text": [
      "[I 2025-02-06 19:24:16,122] A new study created in RDB with name: 2025-02-06_19-24\n"
     ]
    },
    {
     "name": "stdout",
     "output_type": "stream",
     "text": [
      "A new study created in RDB with name: 2025-02-06_19-24\n",
      "A new study created in RDB with name: 2025-02-06_19-24\n",
      "A new study created in RDB with name: 2025-02-06_19-24\n",
      "A new study created in RDB with name: 2025-02-06_19-24\n",
      "A new study created in RDB with name: 2025-02-06_19-24\n",
      "A new study created in RDB with name: 2025-02-06_19-24\n",
      "A new study created in RDB with name: 2025-02-06_19-24\n",
      "A new study created in RDB with name: 2025-02-06_19-24\n",
      "A new study created in RDB with name: 2025-02-06_19-24\n",
      "A new study created in RDB with name: 2025-02-06_19-24\n"
     ]
    },
    {
     "name": "stderr",
     "output_type": "stream",
     "text": [
      "[I 2025-02-06 19:25:38,879] Trial 0 finished with value: 38.870183284791956 and parameters: {'colsample_bytree': 0.28108894492242603, 'learning_rate': 0.03455068884319494, 'min_child_samples': 52, 'n_estimators': 9765, 'num_leaves': 210, 'reg_alpha': 1.0444621954128397, 'reg_lambda': 1.1007173111635054e-06, 'subsample': 0.2432732155329544}. Best is trial 0 with value: 38.870183284791956.\n"
     ]
    },
    {
     "name": "stdout",
     "output_type": "stream",
     "text": [
      "Trial 0 finished with value: 38.870183284791956 and parameters: {'colsample_bytree': 0.28108894492242603, 'learning_rate': 0.03455068884319494, 'min_child_samples': 52, 'n_estimators': 9765, 'num_leaves': 210, 'reg_alpha': 1.0444621954128397, 'reg_lambda': 1.1007173111635054e-06, 'subsample': 0.2432732155329544}. Best is trial 0 with value: 38.870183284791956.\n",
      "Trial 0 finished with value: 38.870183284791956 and parameters: {'colsample_bytree': 0.28108894492242603, 'learning_rate': 0.03455068884319494, 'min_child_samples': 52, 'n_estimators': 9765, 'num_leaves': 210, 'reg_alpha': 1.0444621954128397, 'reg_lambda': 1.1007173111635054e-06, 'subsample': 0.2432732155329544}. Best is trial 0 with value: 38.870183284791956.\n",
      "Trial 0 finished with value: 38.870183284791956 and parameters: {'colsample_bytree': 0.28108894492242603, 'learning_rate': 0.03455068884319494, 'min_child_samples': 52, 'n_estimators': 9765, 'num_leaves': 210, 'reg_alpha': 1.0444621954128397, 'reg_lambda': 1.1007173111635054e-06, 'subsample': 0.2432732155329544}. Best is trial 0 with value: 38.870183284791956.\n",
      "Trial 0 finished with value: 38.870183284791956 and parameters: {'colsample_bytree': 0.28108894492242603, 'learning_rate': 0.03455068884319494, 'min_child_samples': 52, 'n_estimators': 9765, 'num_leaves': 210, 'reg_alpha': 1.0444621954128397, 'reg_lambda': 1.1007173111635054e-06, 'subsample': 0.2432732155329544}. Best is trial 0 with value: 38.870183284791956.\n",
      "Trial 0 finished with value: 38.870183284791956 and parameters: {'colsample_bytree': 0.28108894492242603, 'learning_rate': 0.03455068884319494, 'min_child_samples': 52, 'n_estimators': 9765, 'num_leaves': 210, 'reg_alpha': 1.0444621954128397, 'reg_lambda': 1.1007173111635054e-06, 'subsample': 0.2432732155329544}. Best is trial 0 with value: 38.870183284791956.\n",
      "Trial 0 finished with value: 38.870183284791956 and parameters: {'colsample_bytree': 0.28108894492242603, 'learning_rate': 0.03455068884319494, 'min_child_samples': 52, 'n_estimators': 9765, 'num_leaves': 210, 'reg_alpha': 1.0444621954128397, 'reg_lambda': 1.1007173111635054e-06, 'subsample': 0.2432732155329544}. Best is trial 0 with value: 38.870183284791956.\n",
      "Trial 0 finished with value: 38.870183284791956 and parameters: {'colsample_bytree': 0.28108894492242603, 'learning_rate': 0.03455068884319494, 'min_child_samples': 52, 'n_estimators': 9765, 'num_leaves': 210, 'reg_alpha': 1.0444621954128397, 'reg_lambda': 1.1007173111635054e-06, 'subsample': 0.2432732155329544}. Best is trial 0 with value: 38.870183284791956.\n",
      "Trial 0 finished with value: 38.870183284791956 and parameters: {'colsample_bytree': 0.28108894492242603, 'learning_rate': 0.03455068884319494, 'min_child_samples': 52, 'n_estimators': 9765, 'num_leaves': 210, 'reg_alpha': 1.0444621954128397, 'reg_lambda': 1.1007173111635054e-06, 'subsample': 0.2432732155329544}. Best is trial 0 with value: 38.870183284791956.\n",
      "Trial 0 finished with value: 38.870183284791956 and parameters: {'colsample_bytree': 0.28108894492242603, 'learning_rate': 0.03455068884319494, 'min_child_samples': 52, 'n_estimators': 9765, 'num_leaves': 210, 'reg_alpha': 1.0444621954128397, 'reg_lambda': 1.1007173111635054e-06, 'subsample': 0.2432732155329544}. Best is trial 0 with value: 38.870183284791956.\n",
      "Trial 0 finished with value: 38.870183284791956 and parameters: {'colsample_bytree': 0.28108894492242603, 'learning_rate': 0.03455068884319494, 'min_child_samples': 52, 'n_estimators': 9765, 'num_leaves': 210, 'reg_alpha': 1.0444621954128397, 'reg_lambda': 1.1007173111635054e-06, 'subsample': 0.2432732155329544}. Best is trial 0 with value: 38.870183284791956.\n"
     ]
    },
    {
     "name": "stderr",
     "output_type": "stream",
     "text": [
      "[I 2025-02-06 19:29:56,943] Trial 1 finished with value: 38.872584345442554 and parameters: {'colsample_bytree': 0.2717989756008757, 'learning_rate': 0.014081584932282974, 'min_child_samples': 54, 'n_estimators': 10326, 'num_leaves': 93, 'reg_alpha': 0.8423340985618515, 'reg_lambda': 1.2099457162165117e-06, 'subsample': 0.2425554989765521}. Best is trial 0 with value: 38.870183284791956.\n"
     ]
    },
    {
     "name": "stdout",
     "output_type": "stream",
     "text": [
      "Trial 1 finished with value: 38.872584345442554 and parameters: {'colsample_bytree': 0.2717989756008757, 'learning_rate': 0.014081584932282974, 'min_child_samples': 54, 'n_estimators': 10326, 'num_leaves': 93, 'reg_alpha': 0.8423340985618515, 'reg_lambda': 1.2099457162165117e-06, 'subsample': 0.2425554989765521}. Best is trial 0 with value: 38.870183284791956.\n",
      "Trial 1 finished with value: 38.872584345442554 and parameters: {'colsample_bytree': 0.2717989756008757, 'learning_rate': 0.014081584932282974, 'min_child_samples': 54, 'n_estimators': 10326, 'num_leaves': 93, 'reg_alpha': 0.8423340985618515, 'reg_lambda': 1.2099457162165117e-06, 'subsample': 0.2425554989765521}. Best is trial 0 with value: 38.870183284791956.\n",
      "Trial 1 finished with value: 38.872584345442554 and parameters: {'colsample_bytree': 0.2717989756008757, 'learning_rate': 0.014081584932282974, 'min_child_samples': 54, 'n_estimators': 10326, 'num_leaves': 93, 'reg_alpha': 0.8423340985618515, 'reg_lambda': 1.2099457162165117e-06, 'subsample': 0.2425554989765521}. Best is trial 0 with value: 38.870183284791956.\n",
      "Trial 1 finished with value: 38.872584345442554 and parameters: {'colsample_bytree': 0.2717989756008757, 'learning_rate': 0.014081584932282974, 'min_child_samples': 54, 'n_estimators': 10326, 'num_leaves': 93, 'reg_alpha': 0.8423340985618515, 'reg_lambda': 1.2099457162165117e-06, 'subsample': 0.2425554989765521}. Best is trial 0 with value: 38.870183284791956.\n",
      "Trial 1 finished with value: 38.872584345442554 and parameters: {'colsample_bytree': 0.2717989756008757, 'learning_rate': 0.014081584932282974, 'min_child_samples': 54, 'n_estimators': 10326, 'num_leaves': 93, 'reg_alpha': 0.8423340985618515, 'reg_lambda': 1.2099457162165117e-06, 'subsample': 0.2425554989765521}. Best is trial 0 with value: 38.870183284791956.\n",
      "Trial 1 finished with value: 38.872584345442554 and parameters: {'colsample_bytree': 0.2717989756008757, 'learning_rate': 0.014081584932282974, 'min_child_samples': 54, 'n_estimators': 10326, 'num_leaves': 93, 'reg_alpha': 0.8423340985618515, 'reg_lambda': 1.2099457162165117e-06, 'subsample': 0.2425554989765521}. Best is trial 0 with value: 38.870183284791956.\n",
      "Trial 1 finished with value: 38.872584345442554 and parameters: {'colsample_bytree': 0.2717989756008757, 'learning_rate': 0.014081584932282974, 'min_child_samples': 54, 'n_estimators': 10326, 'num_leaves': 93, 'reg_alpha': 0.8423340985618515, 'reg_lambda': 1.2099457162165117e-06, 'subsample': 0.2425554989765521}. Best is trial 0 with value: 38.870183284791956.\n",
      "Trial 1 finished with value: 38.872584345442554 and parameters: {'colsample_bytree': 0.2717989756008757, 'learning_rate': 0.014081584932282974, 'min_child_samples': 54, 'n_estimators': 10326, 'num_leaves': 93, 'reg_alpha': 0.8423340985618515, 'reg_lambda': 1.2099457162165117e-06, 'subsample': 0.2425554989765521}. Best is trial 0 with value: 38.870183284791956.\n",
      "Trial 1 finished with value: 38.872584345442554 and parameters: {'colsample_bytree': 0.2717989756008757, 'learning_rate': 0.014081584932282974, 'min_child_samples': 54, 'n_estimators': 10326, 'num_leaves': 93, 'reg_alpha': 0.8423340985618515, 'reg_lambda': 1.2099457162165117e-06, 'subsample': 0.2425554989765521}. Best is trial 0 with value: 38.870183284791956.\n",
      "Trial 1 finished with value: 38.872584345442554 and parameters: {'colsample_bytree': 0.2717989756008757, 'learning_rate': 0.014081584932282974, 'min_child_samples': 54, 'n_estimators': 10326, 'num_leaves': 93, 'reg_alpha': 0.8423340985618515, 'reg_lambda': 1.2099457162165117e-06, 'subsample': 0.2425554989765521}. Best is trial 0 with value: 38.870183284791956.\n"
     ]
    },
    {
     "name": "stderr",
     "output_type": "stream",
     "text": [
      "[I 2025-02-06 19:32:30,793] Trial 2 finished with value: 38.87029695084536 and parameters: {'colsample_bytree': 0.3252435447034932, 'learning_rate': 0.01550184603527303, 'min_child_samples': 76, 'n_estimators': 14844, 'num_leaves': 215, 'reg_alpha': 1.3941407802106336, 'reg_lambda': 1.9814835101698497e-06, 'subsample': 0.20417302553560526}. Best is trial 0 with value: 38.870183284791956.\n"
     ]
    },
    {
     "name": "stdout",
     "output_type": "stream",
     "text": [
      "Trial 2 finished with value: 38.87029695084536 and parameters: {'colsample_bytree': 0.3252435447034932, 'learning_rate': 0.01550184603527303, 'min_child_samples': 76, 'n_estimators': 14844, 'num_leaves': 215, 'reg_alpha': 1.3941407802106336, 'reg_lambda': 1.9814835101698497e-06, 'subsample': 0.20417302553560526}. Best is trial 0 with value: 38.870183284791956.\n",
      "Trial 2 finished with value: 38.87029695084536 and parameters: {'colsample_bytree': 0.3252435447034932, 'learning_rate': 0.01550184603527303, 'min_child_samples': 76, 'n_estimators': 14844, 'num_leaves': 215, 'reg_alpha': 1.3941407802106336, 'reg_lambda': 1.9814835101698497e-06, 'subsample': 0.20417302553560526}. Best is trial 0 with value: 38.870183284791956.\n",
      "Trial 2 finished with value: 38.87029695084536 and parameters: {'colsample_bytree': 0.3252435447034932, 'learning_rate': 0.01550184603527303, 'min_child_samples': 76, 'n_estimators': 14844, 'num_leaves': 215, 'reg_alpha': 1.3941407802106336, 'reg_lambda': 1.9814835101698497e-06, 'subsample': 0.20417302553560526}. Best is trial 0 with value: 38.870183284791956.\n",
      "Trial 2 finished with value: 38.87029695084536 and parameters: {'colsample_bytree': 0.3252435447034932, 'learning_rate': 0.01550184603527303, 'min_child_samples': 76, 'n_estimators': 14844, 'num_leaves': 215, 'reg_alpha': 1.3941407802106336, 'reg_lambda': 1.9814835101698497e-06, 'subsample': 0.20417302553560526}. Best is trial 0 with value: 38.870183284791956.\n",
      "Trial 2 finished with value: 38.87029695084536 and parameters: {'colsample_bytree': 0.3252435447034932, 'learning_rate': 0.01550184603527303, 'min_child_samples': 76, 'n_estimators': 14844, 'num_leaves': 215, 'reg_alpha': 1.3941407802106336, 'reg_lambda': 1.9814835101698497e-06, 'subsample': 0.20417302553560526}. Best is trial 0 with value: 38.870183284791956.\n",
      "Trial 2 finished with value: 38.87029695084536 and parameters: {'colsample_bytree': 0.3252435447034932, 'learning_rate': 0.01550184603527303, 'min_child_samples': 76, 'n_estimators': 14844, 'num_leaves': 215, 'reg_alpha': 1.3941407802106336, 'reg_lambda': 1.9814835101698497e-06, 'subsample': 0.20417302553560526}. Best is trial 0 with value: 38.870183284791956.\n",
      "Trial 2 finished with value: 38.87029695084536 and parameters: {'colsample_bytree': 0.3252435447034932, 'learning_rate': 0.01550184603527303, 'min_child_samples': 76, 'n_estimators': 14844, 'num_leaves': 215, 'reg_alpha': 1.3941407802106336, 'reg_lambda': 1.9814835101698497e-06, 'subsample': 0.20417302553560526}. Best is trial 0 with value: 38.870183284791956.\n",
      "Trial 2 finished with value: 38.87029695084536 and parameters: {'colsample_bytree': 0.3252435447034932, 'learning_rate': 0.01550184603527303, 'min_child_samples': 76, 'n_estimators': 14844, 'num_leaves': 215, 'reg_alpha': 1.3941407802106336, 'reg_lambda': 1.9814835101698497e-06, 'subsample': 0.20417302553560526}. Best is trial 0 with value: 38.870183284791956.\n",
      "Trial 2 finished with value: 38.87029695084536 and parameters: {'colsample_bytree': 0.3252435447034932, 'learning_rate': 0.01550184603527303, 'min_child_samples': 76, 'n_estimators': 14844, 'num_leaves': 215, 'reg_alpha': 1.3941407802106336, 'reg_lambda': 1.9814835101698497e-06, 'subsample': 0.20417302553560526}. Best is trial 0 with value: 38.870183284791956.\n",
      "Trial 2 finished with value: 38.87029695084536 and parameters: {'colsample_bytree': 0.3252435447034932, 'learning_rate': 0.01550184603527303, 'min_child_samples': 76, 'n_estimators': 14844, 'num_leaves': 215, 'reg_alpha': 1.3941407802106336, 'reg_lambda': 1.9814835101698497e-06, 'subsample': 0.20417302553560526}. Best is trial 0 with value: 38.870183284791956.\n"
     ]
    },
    {
     "name": "stderr",
     "output_type": "stream",
     "text": [
      "[I 2025-02-06 19:40:05,674] Trial 3 finished with value: 38.87239073961826 and parameters: {'colsample_bytree': 0.2574164568489684, 'learning_rate': 0.011352271275635185, 'min_child_samples': 80, 'n_estimators': 14344, 'num_leaves': 131, 'reg_alpha': 1.6580082779149328, 'reg_lambda': 2.132182624379245e-06, 'subsample': 0.21763216779691075}. Best is trial 0 with value: 38.870183284791956.\n"
     ]
    },
    {
     "name": "stdout",
     "output_type": "stream",
     "text": [
      "Trial 3 finished with value: 38.87239073961826 and parameters: {'colsample_bytree': 0.2574164568489684, 'learning_rate': 0.011352271275635185, 'min_child_samples': 80, 'n_estimators': 14344, 'num_leaves': 131, 'reg_alpha': 1.6580082779149328, 'reg_lambda': 2.132182624379245e-06, 'subsample': 0.21763216779691075}. Best is trial 0 with value: 38.870183284791956.\n",
      "Trial 3 finished with value: 38.87239073961826 and parameters: {'colsample_bytree': 0.2574164568489684, 'learning_rate': 0.011352271275635185, 'min_child_samples': 80, 'n_estimators': 14344, 'num_leaves': 131, 'reg_alpha': 1.6580082779149328, 'reg_lambda': 2.132182624379245e-06, 'subsample': 0.21763216779691075}. Best is trial 0 with value: 38.870183284791956.\n",
      "Trial 3 finished with value: 38.87239073961826 and parameters: {'colsample_bytree': 0.2574164568489684, 'learning_rate': 0.011352271275635185, 'min_child_samples': 80, 'n_estimators': 14344, 'num_leaves': 131, 'reg_alpha': 1.6580082779149328, 'reg_lambda': 2.132182624379245e-06, 'subsample': 0.21763216779691075}. Best is trial 0 with value: 38.870183284791956.\n",
      "Trial 3 finished with value: 38.87239073961826 and parameters: {'colsample_bytree': 0.2574164568489684, 'learning_rate': 0.011352271275635185, 'min_child_samples': 80, 'n_estimators': 14344, 'num_leaves': 131, 'reg_alpha': 1.6580082779149328, 'reg_lambda': 2.132182624379245e-06, 'subsample': 0.21763216779691075}. Best is trial 0 with value: 38.870183284791956.\n",
      "Trial 3 finished with value: 38.87239073961826 and parameters: {'colsample_bytree': 0.2574164568489684, 'learning_rate': 0.011352271275635185, 'min_child_samples': 80, 'n_estimators': 14344, 'num_leaves': 131, 'reg_alpha': 1.6580082779149328, 'reg_lambda': 2.132182624379245e-06, 'subsample': 0.21763216779691075}. Best is trial 0 with value: 38.870183284791956.\n",
      "Trial 3 finished with value: 38.87239073961826 and parameters: {'colsample_bytree': 0.2574164568489684, 'learning_rate': 0.011352271275635185, 'min_child_samples': 80, 'n_estimators': 14344, 'num_leaves': 131, 'reg_alpha': 1.6580082779149328, 'reg_lambda': 2.132182624379245e-06, 'subsample': 0.21763216779691075}. Best is trial 0 with value: 38.870183284791956.\n",
      "Trial 3 finished with value: 38.87239073961826 and parameters: {'colsample_bytree': 0.2574164568489684, 'learning_rate': 0.011352271275635185, 'min_child_samples': 80, 'n_estimators': 14344, 'num_leaves': 131, 'reg_alpha': 1.6580082779149328, 'reg_lambda': 2.132182624379245e-06, 'subsample': 0.21763216779691075}. Best is trial 0 with value: 38.870183284791956.\n",
      "Trial 3 finished with value: 38.87239073961826 and parameters: {'colsample_bytree': 0.2574164568489684, 'learning_rate': 0.011352271275635185, 'min_child_samples': 80, 'n_estimators': 14344, 'num_leaves': 131, 'reg_alpha': 1.6580082779149328, 'reg_lambda': 2.132182624379245e-06, 'subsample': 0.21763216779691075}. Best is trial 0 with value: 38.870183284791956.\n",
      "Trial 3 finished with value: 38.87239073961826 and parameters: {'colsample_bytree': 0.2574164568489684, 'learning_rate': 0.011352271275635185, 'min_child_samples': 80, 'n_estimators': 14344, 'num_leaves': 131, 'reg_alpha': 1.6580082779149328, 'reg_lambda': 2.132182624379245e-06, 'subsample': 0.21763216779691075}. Best is trial 0 with value: 38.870183284791956.\n",
      "Trial 3 finished with value: 38.87239073961826 and parameters: {'colsample_bytree': 0.2574164568489684, 'learning_rate': 0.011352271275635185, 'min_child_samples': 80, 'n_estimators': 14344, 'num_leaves': 131, 'reg_alpha': 1.6580082779149328, 'reg_lambda': 2.132182624379245e-06, 'subsample': 0.21763216779691075}. Best is trial 0 with value: 38.870183284791956.\n"
     ]
    },
    {
     "name": "stderr",
     "output_type": "stream",
     "text": [
      "[I 2025-02-06 19:43:11,839] Trial 4 finished with value: 38.870222555622036 and parameters: {'colsample_bytree': 0.3360644720080312, 'learning_rate': 0.012977760064146545, 'min_child_samples': 65, 'n_estimators': 10224, 'num_leaves': 216, 'reg_alpha': 0.7774124098034619, 'reg_lambda': 1.3544455722882136e-06, 'subsample': 0.24303841027630793}. Best is trial 0 with value: 38.870183284791956.\n"
     ]
    },
    {
     "name": "stdout",
     "output_type": "stream",
     "text": [
      "Trial 4 finished with value: 38.870222555622036 and parameters: {'colsample_bytree': 0.3360644720080312, 'learning_rate': 0.012977760064146545, 'min_child_samples': 65, 'n_estimators': 10224, 'num_leaves': 216, 'reg_alpha': 0.7774124098034619, 'reg_lambda': 1.3544455722882136e-06, 'subsample': 0.24303841027630793}. Best is trial 0 with value: 38.870183284791956.\n",
      "Trial 4 finished with value: 38.870222555622036 and parameters: {'colsample_bytree': 0.3360644720080312, 'learning_rate': 0.012977760064146545, 'min_child_samples': 65, 'n_estimators': 10224, 'num_leaves': 216, 'reg_alpha': 0.7774124098034619, 'reg_lambda': 1.3544455722882136e-06, 'subsample': 0.24303841027630793}. Best is trial 0 with value: 38.870183284791956.\n",
      "Trial 4 finished with value: 38.870222555622036 and parameters: {'colsample_bytree': 0.3360644720080312, 'learning_rate': 0.012977760064146545, 'min_child_samples': 65, 'n_estimators': 10224, 'num_leaves': 216, 'reg_alpha': 0.7774124098034619, 'reg_lambda': 1.3544455722882136e-06, 'subsample': 0.24303841027630793}. Best is trial 0 with value: 38.870183284791956.\n",
      "Trial 4 finished with value: 38.870222555622036 and parameters: {'colsample_bytree': 0.3360644720080312, 'learning_rate': 0.012977760064146545, 'min_child_samples': 65, 'n_estimators': 10224, 'num_leaves': 216, 'reg_alpha': 0.7774124098034619, 'reg_lambda': 1.3544455722882136e-06, 'subsample': 0.24303841027630793}. Best is trial 0 with value: 38.870183284791956.\n",
      "Trial 4 finished with value: 38.870222555622036 and parameters: {'colsample_bytree': 0.3360644720080312, 'learning_rate': 0.012977760064146545, 'min_child_samples': 65, 'n_estimators': 10224, 'num_leaves': 216, 'reg_alpha': 0.7774124098034619, 'reg_lambda': 1.3544455722882136e-06, 'subsample': 0.24303841027630793}. Best is trial 0 with value: 38.870183284791956.\n",
      "Trial 4 finished with value: 38.870222555622036 and parameters: {'colsample_bytree': 0.3360644720080312, 'learning_rate': 0.012977760064146545, 'min_child_samples': 65, 'n_estimators': 10224, 'num_leaves': 216, 'reg_alpha': 0.7774124098034619, 'reg_lambda': 1.3544455722882136e-06, 'subsample': 0.24303841027630793}. Best is trial 0 with value: 38.870183284791956.\n",
      "Trial 4 finished with value: 38.870222555622036 and parameters: {'colsample_bytree': 0.3360644720080312, 'learning_rate': 0.012977760064146545, 'min_child_samples': 65, 'n_estimators': 10224, 'num_leaves': 216, 'reg_alpha': 0.7774124098034619, 'reg_lambda': 1.3544455722882136e-06, 'subsample': 0.24303841027630793}. Best is trial 0 with value: 38.870183284791956.\n",
      "Trial 4 finished with value: 38.870222555622036 and parameters: {'colsample_bytree': 0.3360644720080312, 'learning_rate': 0.012977760064146545, 'min_child_samples': 65, 'n_estimators': 10224, 'num_leaves': 216, 'reg_alpha': 0.7774124098034619, 'reg_lambda': 1.3544455722882136e-06, 'subsample': 0.24303841027630793}. Best is trial 0 with value: 38.870183284791956.\n",
      "Trial 4 finished with value: 38.870222555622036 and parameters: {'colsample_bytree': 0.3360644720080312, 'learning_rate': 0.012977760064146545, 'min_child_samples': 65, 'n_estimators': 10224, 'num_leaves': 216, 'reg_alpha': 0.7774124098034619, 'reg_lambda': 1.3544455722882136e-06, 'subsample': 0.24303841027630793}. Best is trial 0 with value: 38.870183284791956.\n",
      "Trial 4 finished with value: 38.870222555622036 and parameters: {'colsample_bytree': 0.3360644720080312, 'learning_rate': 0.012977760064146545, 'min_child_samples': 65, 'n_estimators': 10224, 'num_leaves': 216, 'reg_alpha': 0.7774124098034619, 'reg_lambda': 1.3544455722882136e-06, 'subsample': 0.24303841027630793}. Best is trial 0 with value: 38.870183284791956.\n"
     ]
    },
    {
     "name": "stderr",
     "output_type": "stream",
     "text": [
      "[I 2025-02-06 19:45:10,669] Trial 5 finished with value: 38.86956811475801 and parameters: {'colsample_bytree': 0.2855797140663836, 'learning_rate': 0.01703546925895099, 'min_child_samples': 61, 'n_estimators': 13431, 'num_leaves': 117, 'reg_alpha': 0.9931326053151964, 'reg_lambda': 1.5635856857815012e-06, 'subsample': 0.2271786158239115}. Best is trial 5 with value: 38.86956811475801.\n"
     ]
    },
    {
     "name": "stdout",
     "output_type": "stream",
     "text": [
      "Trial 5 finished with value: 38.86956811475801 and parameters: {'colsample_bytree': 0.2855797140663836, 'learning_rate': 0.01703546925895099, 'min_child_samples': 61, 'n_estimators': 13431, 'num_leaves': 117, 'reg_alpha': 0.9931326053151964, 'reg_lambda': 1.5635856857815012e-06, 'subsample': 0.2271786158239115}. Best is trial 5 with value: 38.86956811475801.\n",
      "Trial 5 finished with value: 38.86956811475801 and parameters: {'colsample_bytree': 0.2855797140663836, 'learning_rate': 0.01703546925895099, 'min_child_samples': 61, 'n_estimators': 13431, 'num_leaves': 117, 'reg_alpha': 0.9931326053151964, 'reg_lambda': 1.5635856857815012e-06, 'subsample': 0.2271786158239115}. Best is trial 5 with value: 38.86956811475801.\n",
      "Trial 5 finished with value: 38.86956811475801 and parameters: {'colsample_bytree': 0.2855797140663836, 'learning_rate': 0.01703546925895099, 'min_child_samples': 61, 'n_estimators': 13431, 'num_leaves': 117, 'reg_alpha': 0.9931326053151964, 'reg_lambda': 1.5635856857815012e-06, 'subsample': 0.2271786158239115}. Best is trial 5 with value: 38.86956811475801.\n",
      "Trial 5 finished with value: 38.86956811475801 and parameters: {'colsample_bytree': 0.2855797140663836, 'learning_rate': 0.01703546925895099, 'min_child_samples': 61, 'n_estimators': 13431, 'num_leaves': 117, 'reg_alpha': 0.9931326053151964, 'reg_lambda': 1.5635856857815012e-06, 'subsample': 0.2271786158239115}. Best is trial 5 with value: 38.86956811475801.\n",
      "Trial 5 finished with value: 38.86956811475801 and parameters: {'colsample_bytree': 0.2855797140663836, 'learning_rate': 0.01703546925895099, 'min_child_samples': 61, 'n_estimators': 13431, 'num_leaves': 117, 'reg_alpha': 0.9931326053151964, 'reg_lambda': 1.5635856857815012e-06, 'subsample': 0.2271786158239115}. Best is trial 5 with value: 38.86956811475801.\n",
      "Trial 5 finished with value: 38.86956811475801 and parameters: {'colsample_bytree': 0.2855797140663836, 'learning_rate': 0.01703546925895099, 'min_child_samples': 61, 'n_estimators': 13431, 'num_leaves': 117, 'reg_alpha': 0.9931326053151964, 'reg_lambda': 1.5635856857815012e-06, 'subsample': 0.2271786158239115}. Best is trial 5 with value: 38.86956811475801.\n",
      "Trial 5 finished with value: 38.86956811475801 and parameters: {'colsample_bytree': 0.2855797140663836, 'learning_rate': 0.01703546925895099, 'min_child_samples': 61, 'n_estimators': 13431, 'num_leaves': 117, 'reg_alpha': 0.9931326053151964, 'reg_lambda': 1.5635856857815012e-06, 'subsample': 0.2271786158239115}. Best is trial 5 with value: 38.86956811475801.\n",
      "Trial 5 finished with value: 38.86956811475801 and parameters: {'colsample_bytree': 0.2855797140663836, 'learning_rate': 0.01703546925895099, 'min_child_samples': 61, 'n_estimators': 13431, 'num_leaves': 117, 'reg_alpha': 0.9931326053151964, 'reg_lambda': 1.5635856857815012e-06, 'subsample': 0.2271786158239115}. Best is trial 5 with value: 38.86956811475801.\n",
      "Trial 5 finished with value: 38.86956811475801 and parameters: {'colsample_bytree': 0.2855797140663836, 'learning_rate': 0.01703546925895099, 'min_child_samples': 61, 'n_estimators': 13431, 'num_leaves': 117, 'reg_alpha': 0.9931326053151964, 'reg_lambda': 1.5635856857815012e-06, 'subsample': 0.2271786158239115}. Best is trial 5 with value: 38.86956811475801.\n",
      "Trial 5 finished with value: 38.86956811475801 and parameters: {'colsample_bytree': 0.2855797140663836, 'learning_rate': 0.01703546925895099, 'min_child_samples': 61, 'n_estimators': 13431, 'num_leaves': 117, 'reg_alpha': 0.9931326053151964, 'reg_lambda': 1.5635856857815012e-06, 'subsample': 0.2271786158239115}. Best is trial 5 with value: 38.86956811475801.\n"
     ]
    },
    {
     "name": "stderr",
     "output_type": "stream",
     "text": [
      "[I 2025-02-06 19:47:24,604] Trial 6 finished with value: 38.86990387531165 and parameters: {'colsample_bytree': 0.3382889086576948, 'learning_rate': 0.01850170615087933, 'min_child_samples': 80, 'n_estimators': 14356, 'num_leaves': 136, 'reg_alpha': 1.5828810401797366, 'reg_lambda': 1.4522117817991376e-06, 'subsample': 0.24303859324057753}. Best is trial 5 with value: 38.86956811475801.\n"
     ]
    },
    {
     "name": "stdout",
     "output_type": "stream",
     "text": [
      "Trial 6 finished with value: 38.86990387531165 and parameters: {'colsample_bytree': 0.3382889086576948, 'learning_rate': 0.01850170615087933, 'min_child_samples': 80, 'n_estimators': 14356, 'num_leaves': 136, 'reg_alpha': 1.5828810401797366, 'reg_lambda': 1.4522117817991376e-06, 'subsample': 0.24303859324057753}. Best is trial 5 with value: 38.86956811475801.\n",
      "Trial 6 finished with value: 38.86990387531165 and parameters: {'colsample_bytree': 0.3382889086576948, 'learning_rate': 0.01850170615087933, 'min_child_samples': 80, 'n_estimators': 14356, 'num_leaves': 136, 'reg_alpha': 1.5828810401797366, 'reg_lambda': 1.4522117817991376e-06, 'subsample': 0.24303859324057753}. Best is trial 5 with value: 38.86956811475801.\n",
      "Trial 6 finished with value: 38.86990387531165 and parameters: {'colsample_bytree': 0.3382889086576948, 'learning_rate': 0.01850170615087933, 'min_child_samples': 80, 'n_estimators': 14356, 'num_leaves': 136, 'reg_alpha': 1.5828810401797366, 'reg_lambda': 1.4522117817991376e-06, 'subsample': 0.24303859324057753}. Best is trial 5 with value: 38.86956811475801.\n",
      "Trial 6 finished with value: 38.86990387531165 and parameters: {'colsample_bytree': 0.3382889086576948, 'learning_rate': 0.01850170615087933, 'min_child_samples': 80, 'n_estimators': 14356, 'num_leaves': 136, 'reg_alpha': 1.5828810401797366, 'reg_lambda': 1.4522117817991376e-06, 'subsample': 0.24303859324057753}. Best is trial 5 with value: 38.86956811475801.\n",
      "Trial 6 finished with value: 38.86990387531165 and parameters: {'colsample_bytree': 0.3382889086576948, 'learning_rate': 0.01850170615087933, 'min_child_samples': 80, 'n_estimators': 14356, 'num_leaves': 136, 'reg_alpha': 1.5828810401797366, 'reg_lambda': 1.4522117817991376e-06, 'subsample': 0.24303859324057753}. Best is trial 5 with value: 38.86956811475801.\n",
      "Trial 6 finished with value: 38.86990387531165 and parameters: {'colsample_bytree': 0.3382889086576948, 'learning_rate': 0.01850170615087933, 'min_child_samples': 80, 'n_estimators': 14356, 'num_leaves': 136, 'reg_alpha': 1.5828810401797366, 'reg_lambda': 1.4522117817991376e-06, 'subsample': 0.24303859324057753}. Best is trial 5 with value: 38.86956811475801.\n",
      "Trial 6 finished with value: 38.86990387531165 and parameters: {'colsample_bytree': 0.3382889086576948, 'learning_rate': 0.01850170615087933, 'min_child_samples': 80, 'n_estimators': 14356, 'num_leaves': 136, 'reg_alpha': 1.5828810401797366, 'reg_lambda': 1.4522117817991376e-06, 'subsample': 0.24303859324057753}. Best is trial 5 with value: 38.86956811475801.\n",
      "Trial 6 finished with value: 38.86990387531165 and parameters: {'colsample_bytree': 0.3382889086576948, 'learning_rate': 0.01850170615087933, 'min_child_samples': 80, 'n_estimators': 14356, 'num_leaves': 136, 'reg_alpha': 1.5828810401797366, 'reg_lambda': 1.4522117817991376e-06, 'subsample': 0.24303859324057753}. Best is trial 5 with value: 38.86956811475801.\n",
      "Trial 6 finished with value: 38.86990387531165 and parameters: {'colsample_bytree': 0.3382889086576948, 'learning_rate': 0.01850170615087933, 'min_child_samples': 80, 'n_estimators': 14356, 'num_leaves': 136, 'reg_alpha': 1.5828810401797366, 'reg_lambda': 1.4522117817991376e-06, 'subsample': 0.24303859324057753}. Best is trial 5 with value: 38.86956811475801.\n",
      "Trial 6 finished with value: 38.86990387531165 and parameters: {'colsample_bytree': 0.3382889086576948, 'learning_rate': 0.01850170615087933, 'min_child_samples': 80, 'n_estimators': 14356, 'num_leaves': 136, 'reg_alpha': 1.5828810401797366, 'reg_lambda': 1.4522117817991376e-06, 'subsample': 0.24303859324057753}. Best is trial 5 with value: 38.86956811475801.\n"
     ]
    },
    {
     "name": "stderr",
     "output_type": "stream",
     "text": [
      "[I 2025-02-06 19:49:05,479] Trial 7 finished with value: 38.87009747149695 and parameters: {'colsample_bytree': 0.3414681510195444, 'learning_rate': 0.024922121753655536, 'min_child_samples': 66, 'n_estimators': 9261, 'num_leaves': 168, 'reg_alpha': 0.7054326587024016, 'reg_lambda': 3.2305992057792923e-06, 'subsample': 0.22180355786552444}. Best is trial 5 with value: 38.86956811475801.\n"
     ]
    },
    {
     "name": "stdout",
     "output_type": "stream",
     "text": [
      "Trial 7 finished with value: 38.87009747149695 and parameters: {'colsample_bytree': 0.3414681510195444, 'learning_rate': 0.024922121753655536, 'min_child_samples': 66, 'n_estimators': 9261, 'num_leaves': 168, 'reg_alpha': 0.7054326587024016, 'reg_lambda': 3.2305992057792923e-06, 'subsample': 0.22180355786552444}. Best is trial 5 with value: 38.86956811475801.\n",
      "Trial 7 finished with value: 38.87009747149695 and parameters: {'colsample_bytree': 0.3414681510195444, 'learning_rate': 0.024922121753655536, 'min_child_samples': 66, 'n_estimators': 9261, 'num_leaves': 168, 'reg_alpha': 0.7054326587024016, 'reg_lambda': 3.2305992057792923e-06, 'subsample': 0.22180355786552444}. Best is trial 5 with value: 38.86956811475801.\n",
      "Trial 7 finished with value: 38.87009747149695 and parameters: {'colsample_bytree': 0.3414681510195444, 'learning_rate': 0.024922121753655536, 'min_child_samples': 66, 'n_estimators': 9261, 'num_leaves': 168, 'reg_alpha': 0.7054326587024016, 'reg_lambda': 3.2305992057792923e-06, 'subsample': 0.22180355786552444}. Best is trial 5 with value: 38.86956811475801.\n",
      "Trial 7 finished with value: 38.87009747149695 and parameters: {'colsample_bytree': 0.3414681510195444, 'learning_rate': 0.024922121753655536, 'min_child_samples': 66, 'n_estimators': 9261, 'num_leaves': 168, 'reg_alpha': 0.7054326587024016, 'reg_lambda': 3.2305992057792923e-06, 'subsample': 0.22180355786552444}. Best is trial 5 with value: 38.86956811475801.\n",
      "Trial 7 finished with value: 38.87009747149695 and parameters: {'colsample_bytree': 0.3414681510195444, 'learning_rate': 0.024922121753655536, 'min_child_samples': 66, 'n_estimators': 9261, 'num_leaves': 168, 'reg_alpha': 0.7054326587024016, 'reg_lambda': 3.2305992057792923e-06, 'subsample': 0.22180355786552444}. Best is trial 5 with value: 38.86956811475801.\n",
      "Trial 7 finished with value: 38.87009747149695 and parameters: {'colsample_bytree': 0.3414681510195444, 'learning_rate': 0.024922121753655536, 'min_child_samples': 66, 'n_estimators': 9261, 'num_leaves': 168, 'reg_alpha': 0.7054326587024016, 'reg_lambda': 3.2305992057792923e-06, 'subsample': 0.22180355786552444}. Best is trial 5 with value: 38.86956811475801.\n",
      "Trial 7 finished with value: 38.87009747149695 and parameters: {'colsample_bytree': 0.3414681510195444, 'learning_rate': 0.024922121753655536, 'min_child_samples': 66, 'n_estimators': 9261, 'num_leaves': 168, 'reg_alpha': 0.7054326587024016, 'reg_lambda': 3.2305992057792923e-06, 'subsample': 0.22180355786552444}. Best is trial 5 with value: 38.86956811475801.\n",
      "Trial 7 finished with value: 38.87009747149695 and parameters: {'colsample_bytree': 0.3414681510195444, 'learning_rate': 0.024922121753655536, 'min_child_samples': 66, 'n_estimators': 9261, 'num_leaves': 168, 'reg_alpha': 0.7054326587024016, 'reg_lambda': 3.2305992057792923e-06, 'subsample': 0.22180355786552444}. Best is trial 5 with value: 38.86956811475801.\n",
      "Trial 7 finished with value: 38.87009747149695 and parameters: {'colsample_bytree': 0.3414681510195444, 'learning_rate': 0.024922121753655536, 'min_child_samples': 66, 'n_estimators': 9261, 'num_leaves': 168, 'reg_alpha': 0.7054326587024016, 'reg_lambda': 3.2305992057792923e-06, 'subsample': 0.22180355786552444}. Best is trial 5 with value: 38.86956811475801.\n",
      "Trial 7 finished with value: 38.87009747149695 and parameters: {'colsample_bytree': 0.3414681510195444, 'learning_rate': 0.024922121753655536, 'min_child_samples': 66, 'n_estimators': 9261, 'num_leaves': 168, 'reg_alpha': 0.7054326587024016, 'reg_lambda': 3.2305992057792923e-06, 'subsample': 0.22180355786552444}. Best is trial 5 with value: 38.86956811475801.\n"
     ]
    },
    {
     "name": "stderr",
     "output_type": "stream",
     "text": [
      "[I 2025-02-06 19:50:14,881] Trial 8 finished with value: 38.86927934584955 and parameters: {'colsample_bytree': 0.34895552584540823, 'learning_rate': 0.030735815791778653, 'min_child_samples': 42, 'n_estimators': 11630, 'num_leaves': 96, 'reg_alpha': 1.355168604238008, 'reg_lambda': 1.8691613937907225e-06, 'subsample': 0.2199922035427787}. Best is trial 8 with value: 38.86927934584955.\n"
     ]
    },
    {
     "name": "stdout",
     "output_type": "stream",
     "text": [
      "Trial 8 finished with value: 38.86927934584955 and parameters: {'colsample_bytree': 0.34895552584540823, 'learning_rate': 0.030735815791778653, 'min_child_samples': 42, 'n_estimators': 11630, 'num_leaves': 96, 'reg_alpha': 1.355168604238008, 'reg_lambda': 1.8691613937907225e-06, 'subsample': 0.2199922035427787}. Best is trial 8 with value: 38.86927934584955.\n",
      "Trial 8 finished with value: 38.86927934584955 and parameters: {'colsample_bytree': 0.34895552584540823, 'learning_rate': 0.030735815791778653, 'min_child_samples': 42, 'n_estimators': 11630, 'num_leaves': 96, 'reg_alpha': 1.355168604238008, 'reg_lambda': 1.8691613937907225e-06, 'subsample': 0.2199922035427787}. Best is trial 8 with value: 38.86927934584955.\n",
      "Trial 8 finished with value: 38.86927934584955 and parameters: {'colsample_bytree': 0.34895552584540823, 'learning_rate': 0.030735815791778653, 'min_child_samples': 42, 'n_estimators': 11630, 'num_leaves': 96, 'reg_alpha': 1.355168604238008, 'reg_lambda': 1.8691613937907225e-06, 'subsample': 0.2199922035427787}. Best is trial 8 with value: 38.86927934584955.\n",
      "Trial 8 finished with value: 38.86927934584955 and parameters: {'colsample_bytree': 0.34895552584540823, 'learning_rate': 0.030735815791778653, 'min_child_samples': 42, 'n_estimators': 11630, 'num_leaves': 96, 'reg_alpha': 1.355168604238008, 'reg_lambda': 1.8691613937907225e-06, 'subsample': 0.2199922035427787}. Best is trial 8 with value: 38.86927934584955.\n",
      "Trial 8 finished with value: 38.86927934584955 and parameters: {'colsample_bytree': 0.34895552584540823, 'learning_rate': 0.030735815791778653, 'min_child_samples': 42, 'n_estimators': 11630, 'num_leaves': 96, 'reg_alpha': 1.355168604238008, 'reg_lambda': 1.8691613937907225e-06, 'subsample': 0.2199922035427787}. Best is trial 8 with value: 38.86927934584955.\n",
      "Trial 8 finished with value: 38.86927934584955 and parameters: {'colsample_bytree': 0.34895552584540823, 'learning_rate': 0.030735815791778653, 'min_child_samples': 42, 'n_estimators': 11630, 'num_leaves': 96, 'reg_alpha': 1.355168604238008, 'reg_lambda': 1.8691613937907225e-06, 'subsample': 0.2199922035427787}. Best is trial 8 with value: 38.86927934584955.\n",
      "Trial 8 finished with value: 38.86927934584955 and parameters: {'colsample_bytree': 0.34895552584540823, 'learning_rate': 0.030735815791778653, 'min_child_samples': 42, 'n_estimators': 11630, 'num_leaves': 96, 'reg_alpha': 1.355168604238008, 'reg_lambda': 1.8691613937907225e-06, 'subsample': 0.2199922035427787}. Best is trial 8 with value: 38.86927934584955.\n",
      "Trial 8 finished with value: 38.86927934584955 and parameters: {'colsample_bytree': 0.34895552584540823, 'learning_rate': 0.030735815791778653, 'min_child_samples': 42, 'n_estimators': 11630, 'num_leaves': 96, 'reg_alpha': 1.355168604238008, 'reg_lambda': 1.8691613937907225e-06, 'subsample': 0.2199922035427787}. Best is trial 8 with value: 38.86927934584955.\n",
      "Trial 8 finished with value: 38.86927934584955 and parameters: {'colsample_bytree': 0.34895552584540823, 'learning_rate': 0.030735815791778653, 'min_child_samples': 42, 'n_estimators': 11630, 'num_leaves': 96, 'reg_alpha': 1.355168604238008, 'reg_lambda': 1.8691613937907225e-06, 'subsample': 0.2199922035427787}. Best is trial 8 with value: 38.86927934584955.\n",
      "Trial 8 finished with value: 38.86927934584955 and parameters: {'colsample_bytree': 0.34895552584540823, 'learning_rate': 0.030735815791778653, 'min_child_samples': 42, 'n_estimators': 11630, 'num_leaves': 96, 'reg_alpha': 1.355168604238008, 'reg_lambda': 1.8691613937907225e-06, 'subsample': 0.2199922035427787}. Best is trial 8 with value: 38.86927934584955.\n"
     ]
    },
    {
     "name": "stderr",
     "output_type": "stream",
     "text": [
      "[I 2025-02-06 19:50:16,206] Trial 9 pruned. Trial was pruned at iteration 0.\n"
     ]
    },
    {
     "name": "stdout",
     "output_type": "stream",
     "text": [
      "Trial 9 pruned. Trial was pruned at iteration 0.\n",
      "Trial 9 pruned. Trial was pruned at iteration 0.\n",
      "Trial 9 pruned. Trial was pruned at iteration 0.\n",
      "Trial 9 pruned. Trial was pruned at iteration 0.\n",
      "Trial 9 pruned. Trial was pruned at iteration 0.\n",
      "Trial 9 pruned. Trial was pruned at iteration 0.\n",
      "Trial 9 pruned. Trial was pruned at iteration 0.\n",
      "Trial 9 pruned. Trial was pruned at iteration 0.\n",
      "Trial 9 pruned. Trial was pruned at iteration 0.\n",
      "Trial 9 pruned. Trial was pruned at iteration 0.\n"
     ]
    },
    {
     "name": "stderr",
     "output_type": "stream",
     "text": [
      "[I 2025-02-06 19:51:02,857] Trial 10 finished with value: 38.86899840522178 and parameters: {'colsample_bytree': 0.3101352489709401, 'learning_rate': 0.04476389806266898, 'min_child_samples': 40, 'n_estimators': 11744, 'num_leaves': 84, 'reg_alpha': 0.5006525550575334, 'reg_lambda': 9.696911666884795e-06, 'subsample': 0.20976132585164703}. Best is trial 10 with value: 38.86899840522178.\n"
     ]
    },
    {
     "name": "stdout",
     "output_type": "stream",
     "text": [
      "Trial 10 finished with value: 38.86899840522178 and parameters: {'colsample_bytree': 0.3101352489709401, 'learning_rate': 0.04476389806266898, 'min_child_samples': 40, 'n_estimators': 11744, 'num_leaves': 84, 'reg_alpha': 0.5006525550575334, 'reg_lambda': 9.696911666884795e-06, 'subsample': 0.20976132585164703}. Best is trial 10 with value: 38.86899840522178.\n",
      "Trial 10 finished with value: 38.86899840522178 and parameters: {'colsample_bytree': 0.3101352489709401, 'learning_rate': 0.04476389806266898, 'min_child_samples': 40, 'n_estimators': 11744, 'num_leaves': 84, 'reg_alpha': 0.5006525550575334, 'reg_lambda': 9.696911666884795e-06, 'subsample': 0.20976132585164703}. Best is trial 10 with value: 38.86899840522178.\n",
      "Trial 10 finished with value: 38.86899840522178 and parameters: {'colsample_bytree': 0.3101352489709401, 'learning_rate': 0.04476389806266898, 'min_child_samples': 40, 'n_estimators': 11744, 'num_leaves': 84, 'reg_alpha': 0.5006525550575334, 'reg_lambda': 9.696911666884795e-06, 'subsample': 0.20976132585164703}. Best is trial 10 with value: 38.86899840522178.\n",
      "Trial 10 finished with value: 38.86899840522178 and parameters: {'colsample_bytree': 0.3101352489709401, 'learning_rate': 0.04476389806266898, 'min_child_samples': 40, 'n_estimators': 11744, 'num_leaves': 84, 'reg_alpha': 0.5006525550575334, 'reg_lambda': 9.696911666884795e-06, 'subsample': 0.20976132585164703}. Best is trial 10 with value: 38.86899840522178.\n",
      "Trial 10 finished with value: 38.86899840522178 and parameters: {'colsample_bytree': 0.3101352489709401, 'learning_rate': 0.04476389806266898, 'min_child_samples': 40, 'n_estimators': 11744, 'num_leaves': 84, 'reg_alpha': 0.5006525550575334, 'reg_lambda': 9.696911666884795e-06, 'subsample': 0.20976132585164703}. Best is trial 10 with value: 38.86899840522178.\n",
      "Trial 10 finished with value: 38.86899840522178 and parameters: {'colsample_bytree': 0.3101352489709401, 'learning_rate': 0.04476389806266898, 'min_child_samples': 40, 'n_estimators': 11744, 'num_leaves': 84, 'reg_alpha': 0.5006525550575334, 'reg_lambda': 9.696911666884795e-06, 'subsample': 0.20976132585164703}. Best is trial 10 with value: 38.86899840522178.\n",
      "Trial 10 finished with value: 38.86899840522178 and parameters: {'colsample_bytree': 0.3101352489709401, 'learning_rate': 0.04476389806266898, 'min_child_samples': 40, 'n_estimators': 11744, 'num_leaves': 84, 'reg_alpha': 0.5006525550575334, 'reg_lambda': 9.696911666884795e-06, 'subsample': 0.20976132585164703}. Best is trial 10 with value: 38.86899840522178.\n",
      "Trial 10 finished with value: 38.86899840522178 and parameters: {'colsample_bytree': 0.3101352489709401, 'learning_rate': 0.04476389806266898, 'min_child_samples': 40, 'n_estimators': 11744, 'num_leaves': 84, 'reg_alpha': 0.5006525550575334, 'reg_lambda': 9.696911666884795e-06, 'subsample': 0.20976132585164703}. Best is trial 10 with value: 38.86899840522178.\n",
      "Trial 10 finished with value: 38.86899840522178 and parameters: {'colsample_bytree': 0.3101352489709401, 'learning_rate': 0.04476389806266898, 'min_child_samples': 40, 'n_estimators': 11744, 'num_leaves': 84, 'reg_alpha': 0.5006525550575334, 'reg_lambda': 9.696911666884795e-06, 'subsample': 0.20976132585164703}. Best is trial 10 with value: 38.86899840522178.\n",
      "Trial 10 finished with value: 38.86899840522178 and parameters: {'colsample_bytree': 0.3101352489709401, 'learning_rate': 0.04476389806266898, 'min_child_samples': 40, 'n_estimators': 11744, 'num_leaves': 84, 'reg_alpha': 0.5006525550575334, 'reg_lambda': 9.696911666884795e-06, 'subsample': 0.20976132585164703}. Best is trial 10 with value: 38.86899840522178.\n"
     ]
    },
    {
     "name": "stderr",
     "output_type": "stream",
     "text": [
      "[I 2025-02-06 19:51:53,155] Trial 11 finished with value: 38.86897078968116 and parameters: {'colsample_bytree': 0.31090404297876895, 'learning_rate': 0.04870574269389363, 'min_child_samples': 41, 'n_estimators': 11571, 'num_leaves': 66, 'reg_alpha': 0.513062582629134, 'reg_lambda': 9.343380471568075e-06, 'subsample': 0.20942186036700142}. Best is trial 11 with value: 38.86897078968116.\n"
     ]
    },
    {
     "name": "stdout",
     "output_type": "stream",
     "text": [
      "Trial 11 finished with value: 38.86897078968116 and parameters: {'colsample_bytree': 0.31090404297876895, 'learning_rate': 0.04870574269389363, 'min_child_samples': 41, 'n_estimators': 11571, 'num_leaves': 66, 'reg_alpha': 0.513062582629134, 'reg_lambda': 9.343380471568075e-06, 'subsample': 0.20942186036700142}. Best is trial 11 with value: 38.86897078968116.\n",
      "Trial 11 finished with value: 38.86897078968116 and parameters: {'colsample_bytree': 0.31090404297876895, 'learning_rate': 0.04870574269389363, 'min_child_samples': 41, 'n_estimators': 11571, 'num_leaves': 66, 'reg_alpha': 0.513062582629134, 'reg_lambda': 9.343380471568075e-06, 'subsample': 0.20942186036700142}. Best is trial 11 with value: 38.86897078968116.\n",
      "Trial 11 finished with value: 38.86897078968116 and parameters: {'colsample_bytree': 0.31090404297876895, 'learning_rate': 0.04870574269389363, 'min_child_samples': 41, 'n_estimators': 11571, 'num_leaves': 66, 'reg_alpha': 0.513062582629134, 'reg_lambda': 9.343380471568075e-06, 'subsample': 0.20942186036700142}. Best is trial 11 with value: 38.86897078968116.\n",
      "Trial 11 finished with value: 38.86897078968116 and parameters: {'colsample_bytree': 0.31090404297876895, 'learning_rate': 0.04870574269389363, 'min_child_samples': 41, 'n_estimators': 11571, 'num_leaves': 66, 'reg_alpha': 0.513062582629134, 'reg_lambda': 9.343380471568075e-06, 'subsample': 0.20942186036700142}. Best is trial 11 with value: 38.86897078968116.\n",
      "Trial 11 finished with value: 38.86897078968116 and parameters: {'colsample_bytree': 0.31090404297876895, 'learning_rate': 0.04870574269389363, 'min_child_samples': 41, 'n_estimators': 11571, 'num_leaves': 66, 'reg_alpha': 0.513062582629134, 'reg_lambda': 9.343380471568075e-06, 'subsample': 0.20942186036700142}. Best is trial 11 with value: 38.86897078968116.\n",
      "Trial 11 finished with value: 38.86897078968116 and parameters: {'colsample_bytree': 0.31090404297876895, 'learning_rate': 0.04870574269389363, 'min_child_samples': 41, 'n_estimators': 11571, 'num_leaves': 66, 'reg_alpha': 0.513062582629134, 'reg_lambda': 9.343380471568075e-06, 'subsample': 0.20942186036700142}. Best is trial 11 with value: 38.86897078968116.\n",
      "Trial 11 finished with value: 38.86897078968116 and parameters: {'colsample_bytree': 0.31090404297876895, 'learning_rate': 0.04870574269389363, 'min_child_samples': 41, 'n_estimators': 11571, 'num_leaves': 66, 'reg_alpha': 0.513062582629134, 'reg_lambda': 9.343380471568075e-06, 'subsample': 0.20942186036700142}. Best is trial 11 with value: 38.86897078968116.\n",
      "Trial 11 finished with value: 38.86897078968116 and parameters: {'colsample_bytree': 0.31090404297876895, 'learning_rate': 0.04870574269389363, 'min_child_samples': 41, 'n_estimators': 11571, 'num_leaves': 66, 'reg_alpha': 0.513062582629134, 'reg_lambda': 9.343380471568075e-06, 'subsample': 0.20942186036700142}. Best is trial 11 with value: 38.86897078968116.\n",
      "Trial 11 finished with value: 38.86897078968116 and parameters: {'colsample_bytree': 0.31090404297876895, 'learning_rate': 0.04870574269389363, 'min_child_samples': 41, 'n_estimators': 11571, 'num_leaves': 66, 'reg_alpha': 0.513062582629134, 'reg_lambda': 9.343380471568075e-06, 'subsample': 0.20942186036700142}. Best is trial 11 with value: 38.86897078968116.\n",
      "Trial 11 finished with value: 38.86897078968116 and parameters: {'colsample_bytree': 0.31090404297876895, 'learning_rate': 0.04870574269389363, 'min_child_samples': 41, 'n_estimators': 11571, 'num_leaves': 66, 'reg_alpha': 0.513062582629134, 'reg_lambda': 9.343380471568075e-06, 'subsample': 0.20942186036700142}. Best is trial 11 with value: 38.86897078968116.\n"
     ]
    },
    {
     "name": "stderr",
     "output_type": "stream",
     "text": [
      "[I 2025-02-06 19:52:40,503] Trial 12 finished with value: 38.86882873485208 and parameters: {'colsample_bytree': 0.312820615453398, 'learning_rate': 0.04997787567366061, 'min_child_samples': 40, 'n_estimators': 11708, 'num_leaves': 65, 'reg_alpha': 0.5096167261283244, 'reg_lambda': 9.914849656144343e-06, 'subsample': 0.20417857285875643}. Best is trial 12 with value: 38.86882873485208.\n"
     ]
    },
    {
     "name": "stdout",
     "output_type": "stream",
     "text": [
      "Trial 12 finished with value: 38.86882873485208 and parameters: {'colsample_bytree': 0.312820615453398, 'learning_rate': 0.04997787567366061, 'min_child_samples': 40, 'n_estimators': 11708, 'num_leaves': 65, 'reg_alpha': 0.5096167261283244, 'reg_lambda': 9.914849656144343e-06, 'subsample': 0.20417857285875643}. Best is trial 12 with value: 38.86882873485208.\n",
      "Trial 12 finished with value: 38.86882873485208 and parameters: {'colsample_bytree': 0.312820615453398, 'learning_rate': 0.04997787567366061, 'min_child_samples': 40, 'n_estimators': 11708, 'num_leaves': 65, 'reg_alpha': 0.5096167261283244, 'reg_lambda': 9.914849656144343e-06, 'subsample': 0.20417857285875643}. Best is trial 12 with value: 38.86882873485208.\n",
      "Trial 12 finished with value: 38.86882873485208 and parameters: {'colsample_bytree': 0.312820615453398, 'learning_rate': 0.04997787567366061, 'min_child_samples': 40, 'n_estimators': 11708, 'num_leaves': 65, 'reg_alpha': 0.5096167261283244, 'reg_lambda': 9.914849656144343e-06, 'subsample': 0.20417857285875643}. Best is trial 12 with value: 38.86882873485208.\n",
      "Trial 12 finished with value: 38.86882873485208 and parameters: {'colsample_bytree': 0.312820615453398, 'learning_rate': 0.04997787567366061, 'min_child_samples': 40, 'n_estimators': 11708, 'num_leaves': 65, 'reg_alpha': 0.5096167261283244, 'reg_lambda': 9.914849656144343e-06, 'subsample': 0.20417857285875643}. Best is trial 12 with value: 38.86882873485208.\n",
      "Trial 12 finished with value: 38.86882873485208 and parameters: {'colsample_bytree': 0.312820615453398, 'learning_rate': 0.04997787567366061, 'min_child_samples': 40, 'n_estimators': 11708, 'num_leaves': 65, 'reg_alpha': 0.5096167261283244, 'reg_lambda': 9.914849656144343e-06, 'subsample': 0.20417857285875643}. Best is trial 12 with value: 38.86882873485208.\n",
      "Trial 12 finished with value: 38.86882873485208 and parameters: {'colsample_bytree': 0.312820615453398, 'learning_rate': 0.04997787567366061, 'min_child_samples': 40, 'n_estimators': 11708, 'num_leaves': 65, 'reg_alpha': 0.5096167261283244, 'reg_lambda': 9.914849656144343e-06, 'subsample': 0.20417857285875643}. Best is trial 12 with value: 38.86882873485208.\n",
      "Trial 12 finished with value: 38.86882873485208 and parameters: {'colsample_bytree': 0.312820615453398, 'learning_rate': 0.04997787567366061, 'min_child_samples': 40, 'n_estimators': 11708, 'num_leaves': 65, 'reg_alpha': 0.5096167261283244, 'reg_lambda': 9.914849656144343e-06, 'subsample': 0.20417857285875643}. Best is trial 12 with value: 38.86882873485208.\n",
      "Trial 12 finished with value: 38.86882873485208 and parameters: {'colsample_bytree': 0.312820615453398, 'learning_rate': 0.04997787567366061, 'min_child_samples': 40, 'n_estimators': 11708, 'num_leaves': 65, 'reg_alpha': 0.5096167261283244, 'reg_lambda': 9.914849656144343e-06, 'subsample': 0.20417857285875643}. Best is trial 12 with value: 38.86882873485208.\n",
      "Trial 12 finished with value: 38.86882873485208 and parameters: {'colsample_bytree': 0.312820615453398, 'learning_rate': 0.04997787567366061, 'min_child_samples': 40, 'n_estimators': 11708, 'num_leaves': 65, 'reg_alpha': 0.5096167261283244, 'reg_lambda': 9.914849656144343e-06, 'subsample': 0.20417857285875643}. Best is trial 12 with value: 38.86882873485208.\n",
      "Trial 12 finished with value: 38.86882873485208 and parameters: {'colsample_bytree': 0.312820615453398, 'learning_rate': 0.04997787567366061, 'min_child_samples': 40, 'n_estimators': 11708, 'num_leaves': 65, 'reg_alpha': 0.5096167261283244, 'reg_lambda': 9.914849656144343e-06, 'subsample': 0.20417857285875643}. Best is trial 12 with value: 38.86882873485208.\n"
     ]
    },
    {
     "name": "stderr",
     "output_type": "stream",
     "text": [
      "[I 2025-02-06 19:53:16,232] Trial 13 finished with value: 38.868956790336796 and parameters: {'colsample_bytree': 0.30871926514223286, 'learning_rate': 0.04875709857535157, 'min_child_samples': 48, 'n_estimators': 12690, 'num_leaves': 64, 'reg_alpha': 0.5114206360688548, 'reg_lambda': 9.529522136578858e-06, 'subsample': 0.2001600460759125}. Best is trial 12 with value: 38.86882873485208.\n"
     ]
    },
    {
     "name": "stdout",
     "output_type": "stream",
     "text": [
      "Trial 13 finished with value: 38.868956790336796 and parameters: {'colsample_bytree': 0.30871926514223286, 'learning_rate': 0.04875709857535157, 'min_child_samples': 48, 'n_estimators': 12690, 'num_leaves': 64, 'reg_alpha': 0.5114206360688548, 'reg_lambda': 9.529522136578858e-06, 'subsample': 0.2001600460759125}. Best is trial 12 with value: 38.86882873485208.\n",
      "Trial 13 finished with value: 38.868956790336796 and parameters: {'colsample_bytree': 0.30871926514223286, 'learning_rate': 0.04875709857535157, 'min_child_samples': 48, 'n_estimators': 12690, 'num_leaves': 64, 'reg_alpha': 0.5114206360688548, 'reg_lambda': 9.529522136578858e-06, 'subsample': 0.2001600460759125}. Best is trial 12 with value: 38.86882873485208.\n",
      "Trial 13 finished with value: 38.868956790336796 and parameters: {'colsample_bytree': 0.30871926514223286, 'learning_rate': 0.04875709857535157, 'min_child_samples': 48, 'n_estimators': 12690, 'num_leaves': 64, 'reg_alpha': 0.5114206360688548, 'reg_lambda': 9.529522136578858e-06, 'subsample': 0.2001600460759125}. Best is trial 12 with value: 38.86882873485208.\n",
      "Trial 13 finished with value: 38.868956790336796 and parameters: {'colsample_bytree': 0.30871926514223286, 'learning_rate': 0.04875709857535157, 'min_child_samples': 48, 'n_estimators': 12690, 'num_leaves': 64, 'reg_alpha': 0.5114206360688548, 'reg_lambda': 9.529522136578858e-06, 'subsample': 0.2001600460759125}. Best is trial 12 with value: 38.86882873485208.\n",
      "Trial 13 finished with value: 38.868956790336796 and parameters: {'colsample_bytree': 0.30871926514223286, 'learning_rate': 0.04875709857535157, 'min_child_samples': 48, 'n_estimators': 12690, 'num_leaves': 64, 'reg_alpha': 0.5114206360688548, 'reg_lambda': 9.529522136578858e-06, 'subsample': 0.2001600460759125}. Best is trial 12 with value: 38.86882873485208.\n",
      "Trial 13 finished with value: 38.868956790336796 and parameters: {'colsample_bytree': 0.30871926514223286, 'learning_rate': 0.04875709857535157, 'min_child_samples': 48, 'n_estimators': 12690, 'num_leaves': 64, 'reg_alpha': 0.5114206360688548, 'reg_lambda': 9.529522136578858e-06, 'subsample': 0.2001600460759125}. Best is trial 12 with value: 38.86882873485208.\n",
      "Trial 13 finished with value: 38.868956790336796 and parameters: {'colsample_bytree': 0.30871926514223286, 'learning_rate': 0.04875709857535157, 'min_child_samples': 48, 'n_estimators': 12690, 'num_leaves': 64, 'reg_alpha': 0.5114206360688548, 'reg_lambda': 9.529522136578858e-06, 'subsample': 0.2001600460759125}. Best is trial 12 with value: 38.86882873485208.\n",
      "Trial 13 finished with value: 38.868956790336796 and parameters: {'colsample_bytree': 0.30871926514223286, 'learning_rate': 0.04875709857535157, 'min_child_samples': 48, 'n_estimators': 12690, 'num_leaves': 64, 'reg_alpha': 0.5114206360688548, 'reg_lambda': 9.529522136578858e-06, 'subsample': 0.2001600460759125}. Best is trial 12 with value: 38.86882873485208.\n",
      "Trial 13 finished with value: 38.868956790336796 and parameters: {'colsample_bytree': 0.30871926514223286, 'learning_rate': 0.04875709857535157, 'min_child_samples': 48, 'n_estimators': 12690, 'num_leaves': 64, 'reg_alpha': 0.5114206360688548, 'reg_lambda': 9.529522136578858e-06, 'subsample': 0.2001600460759125}. Best is trial 12 with value: 38.86882873485208.\n",
      "Trial 13 finished with value: 38.868956790336796 and parameters: {'colsample_bytree': 0.30871926514223286, 'learning_rate': 0.04875709857535157, 'min_child_samples': 48, 'n_estimators': 12690, 'num_leaves': 64, 'reg_alpha': 0.5114206360688548, 'reg_lambda': 9.529522136578858e-06, 'subsample': 0.2001600460759125}. Best is trial 12 with value: 38.86882873485208.\n"
     ]
    },
    {
     "name": "stderr",
     "output_type": "stream",
     "text": [
      "[I 2025-02-06 19:54:16,407] Trial 14 finished with value: 38.870191084363064 and parameters: {'colsample_bytree': 0.2986982854470444, 'learning_rate': 0.03846128560669584, 'min_child_samples': 48, 'n_estimators': 12854, 'num_leaves': 255, 'reg_alpha': 0.6198921254608553, 'reg_lambda': 6.8207158689113585e-06, 'subsample': 0.20130416873583556}. Best is trial 12 with value: 38.86882873485208.\n"
     ]
    },
    {
     "name": "stdout",
     "output_type": "stream",
     "text": [
      "Trial 14 finished with value: 38.870191084363064 and parameters: {'colsample_bytree': 0.2986982854470444, 'learning_rate': 0.03846128560669584, 'min_child_samples': 48, 'n_estimators': 12854, 'num_leaves': 255, 'reg_alpha': 0.6198921254608553, 'reg_lambda': 6.8207158689113585e-06, 'subsample': 0.20130416873583556}. Best is trial 12 with value: 38.86882873485208.\n",
      "Trial 14 finished with value: 38.870191084363064 and parameters: {'colsample_bytree': 0.2986982854470444, 'learning_rate': 0.03846128560669584, 'min_child_samples': 48, 'n_estimators': 12854, 'num_leaves': 255, 'reg_alpha': 0.6198921254608553, 'reg_lambda': 6.8207158689113585e-06, 'subsample': 0.20130416873583556}. Best is trial 12 with value: 38.86882873485208.\n",
      "Trial 14 finished with value: 38.870191084363064 and parameters: {'colsample_bytree': 0.2986982854470444, 'learning_rate': 0.03846128560669584, 'min_child_samples': 48, 'n_estimators': 12854, 'num_leaves': 255, 'reg_alpha': 0.6198921254608553, 'reg_lambda': 6.8207158689113585e-06, 'subsample': 0.20130416873583556}. Best is trial 12 with value: 38.86882873485208.\n",
      "Trial 14 finished with value: 38.870191084363064 and parameters: {'colsample_bytree': 0.2986982854470444, 'learning_rate': 0.03846128560669584, 'min_child_samples': 48, 'n_estimators': 12854, 'num_leaves': 255, 'reg_alpha': 0.6198921254608553, 'reg_lambda': 6.8207158689113585e-06, 'subsample': 0.20130416873583556}. Best is trial 12 with value: 38.86882873485208.\n",
      "Trial 14 finished with value: 38.870191084363064 and parameters: {'colsample_bytree': 0.2986982854470444, 'learning_rate': 0.03846128560669584, 'min_child_samples': 48, 'n_estimators': 12854, 'num_leaves': 255, 'reg_alpha': 0.6198921254608553, 'reg_lambda': 6.8207158689113585e-06, 'subsample': 0.20130416873583556}. Best is trial 12 with value: 38.86882873485208.\n",
      "Trial 14 finished with value: 38.870191084363064 and parameters: {'colsample_bytree': 0.2986982854470444, 'learning_rate': 0.03846128560669584, 'min_child_samples': 48, 'n_estimators': 12854, 'num_leaves': 255, 'reg_alpha': 0.6198921254608553, 'reg_lambda': 6.8207158689113585e-06, 'subsample': 0.20130416873583556}. Best is trial 12 with value: 38.86882873485208.\n",
      "Trial 14 finished with value: 38.870191084363064 and parameters: {'colsample_bytree': 0.2986982854470444, 'learning_rate': 0.03846128560669584, 'min_child_samples': 48, 'n_estimators': 12854, 'num_leaves': 255, 'reg_alpha': 0.6198921254608553, 'reg_lambda': 6.8207158689113585e-06, 'subsample': 0.20130416873583556}. Best is trial 12 with value: 38.86882873485208.\n",
      "Trial 14 finished with value: 38.870191084363064 and parameters: {'colsample_bytree': 0.2986982854470444, 'learning_rate': 0.03846128560669584, 'min_child_samples': 48, 'n_estimators': 12854, 'num_leaves': 255, 'reg_alpha': 0.6198921254608553, 'reg_lambda': 6.8207158689113585e-06, 'subsample': 0.20130416873583556}. Best is trial 12 with value: 38.86882873485208.\n",
      "Trial 14 finished with value: 38.870191084363064 and parameters: {'colsample_bytree': 0.2986982854470444, 'learning_rate': 0.03846128560669584, 'min_child_samples': 48, 'n_estimators': 12854, 'num_leaves': 255, 'reg_alpha': 0.6198921254608553, 'reg_lambda': 6.8207158689113585e-06, 'subsample': 0.20130416873583556}. Best is trial 12 with value: 38.86882873485208.\n",
      "Trial 14 finished with value: 38.870191084363064 and parameters: {'colsample_bytree': 0.2986982854470444, 'learning_rate': 0.03846128560669584, 'min_child_samples': 48, 'n_estimators': 12854, 'num_leaves': 255, 'reg_alpha': 0.6198921254608553, 'reg_lambda': 6.8207158689113585e-06, 'subsample': 0.20130416873583556}. Best is trial 12 with value: 38.86882873485208.\n"
     ]
    },
    {
     "name": "stderr",
     "output_type": "stream",
     "text": [
      "[I 2025-02-06 19:54:17,266] Trial 15 pruned. Trial was pruned at iteration 0.\n"
     ]
    },
    {
     "name": "stdout",
     "output_type": "stream",
     "text": [
      "Trial 15 pruned. Trial was pruned at iteration 0.\n",
      "Trial 15 pruned. Trial was pruned at iteration 0.\n",
      "Trial 15 pruned. Trial was pruned at iteration 0.\n",
      "Trial 15 pruned. Trial was pruned at iteration 0.\n",
      "Trial 15 pruned. Trial was pruned at iteration 0.\n",
      "Trial 15 pruned. Trial was pruned at iteration 0.\n",
      "Trial 15 pruned. Trial was pruned at iteration 0.\n",
      "Trial 15 pruned. Trial was pruned at iteration 0.\n",
      "Trial 15 pruned. Trial was pruned at iteration 0.\n",
      "Trial 15 pruned. Trial was pruned at iteration 0.\n"
     ]
    },
    {
     "name": "stderr",
     "output_type": "stream",
     "text": [
      "[I 2025-02-06 19:55:17,487] Trial 16 finished with value: 38.86984202012858 and parameters: {'colsample_bytree': 0.296763707413369, 'learning_rate': 0.04131413623873854, 'min_child_samples': 46, 'n_estimators': 10837, 'num_leaves': 166, 'reg_alpha': 0.5996472030710476, 'reg_lambda': 7.242010455398707e-06, 'subsample': 0.20055451182048592}. Best is trial 12 with value: 38.86882873485208.\n"
     ]
    },
    {
     "name": "stdout",
     "output_type": "stream",
     "text": [
      "Trial 16 finished with value: 38.86984202012858 and parameters: {'colsample_bytree': 0.296763707413369, 'learning_rate': 0.04131413623873854, 'min_child_samples': 46, 'n_estimators': 10837, 'num_leaves': 166, 'reg_alpha': 0.5996472030710476, 'reg_lambda': 7.242010455398707e-06, 'subsample': 0.20055451182048592}. Best is trial 12 with value: 38.86882873485208.\n",
      "Trial 16 finished with value: 38.86984202012858 and parameters: {'colsample_bytree': 0.296763707413369, 'learning_rate': 0.04131413623873854, 'min_child_samples': 46, 'n_estimators': 10837, 'num_leaves': 166, 'reg_alpha': 0.5996472030710476, 'reg_lambda': 7.242010455398707e-06, 'subsample': 0.20055451182048592}. Best is trial 12 with value: 38.86882873485208.\n",
      "Trial 16 finished with value: 38.86984202012858 and parameters: {'colsample_bytree': 0.296763707413369, 'learning_rate': 0.04131413623873854, 'min_child_samples': 46, 'n_estimators': 10837, 'num_leaves': 166, 'reg_alpha': 0.5996472030710476, 'reg_lambda': 7.242010455398707e-06, 'subsample': 0.20055451182048592}. Best is trial 12 with value: 38.86882873485208.\n",
      "Trial 16 finished with value: 38.86984202012858 and parameters: {'colsample_bytree': 0.296763707413369, 'learning_rate': 0.04131413623873854, 'min_child_samples': 46, 'n_estimators': 10837, 'num_leaves': 166, 'reg_alpha': 0.5996472030710476, 'reg_lambda': 7.242010455398707e-06, 'subsample': 0.20055451182048592}. Best is trial 12 with value: 38.86882873485208.\n",
      "Trial 16 finished with value: 38.86984202012858 and parameters: {'colsample_bytree': 0.296763707413369, 'learning_rate': 0.04131413623873854, 'min_child_samples': 46, 'n_estimators': 10837, 'num_leaves': 166, 'reg_alpha': 0.5996472030710476, 'reg_lambda': 7.242010455398707e-06, 'subsample': 0.20055451182048592}. Best is trial 12 with value: 38.86882873485208.\n",
      "Trial 16 finished with value: 38.86984202012858 and parameters: {'colsample_bytree': 0.296763707413369, 'learning_rate': 0.04131413623873854, 'min_child_samples': 46, 'n_estimators': 10837, 'num_leaves': 166, 'reg_alpha': 0.5996472030710476, 'reg_lambda': 7.242010455398707e-06, 'subsample': 0.20055451182048592}. Best is trial 12 with value: 38.86882873485208.\n",
      "Trial 16 finished with value: 38.86984202012858 and parameters: {'colsample_bytree': 0.296763707413369, 'learning_rate': 0.04131413623873854, 'min_child_samples': 46, 'n_estimators': 10837, 'num_leaves': 166, 'reg_alpha': 0.5996472030710476, 'reg_lambda': 7.242010455398707e-06, 'subsample': 0.20055451182048592}. Best is trial 12 with value: 38.86882873485208.\n",
      "Trial 16 finished with value: 38.86984202012858 and parameters: {'colsample_bytree': 0.296763707413369, 'learning_rate': 0.04131413623873854, 'min_child_samples': 46, 'n_estimators': 10837, 'num_leaves': 166, 'reg_alpha': 0.5996472030710476, 'reg_lambda': 7.242010455398707e-06, 'subsample': 0.20055451182048592}. Best is trial 12 with value: 38.86882873485208.\n",
      "Trial 16 finished with value: 38.86984202012858 and parameters: {'colsample_bytree': 0.296763707413369, 'learning_rate': 0.04131413623873854, 'min_child_samples': 46, 'n_estimators': 10837, 'num_leaves': 166, 'reg_alpha': 0.5996472030710476, 'reg_lambda': 7.242010455398707e-06, 'subsample': 0.20055451182048592}. Best is trial 12 with value: 38.86882873485208.\n",
      "Trial 16 finished with value: 38.86984202012858 and parameters: {'colsample_bytree': 0.296763707413369, 'learning_rate': 0.04131413623873854, 'min_child_samples': 46, 'n_estimators': 10837, 'num_leaves': 166, 'reg_alpha': 0.5996472030710476, 'reg_lambda': 7.242010455398707e-06, 'subsample': 0.20055451182048592}. Best is trial 12 with value: 38.86882873485208.\n"
     ]
    },
    {
     "name": "stderr",
     "output_type": "stream",
     "text": [
      "[I 2025-02-06 19:56:06,819] Trial 17 finished with value: 38.869172118499435 and parameters: {'colsample_bytree': 0.323256884229306, 'learning_rate': 0.048978825378835966, 'min_child_samples': 56, 'n_estimators': 11032, 'num_leaves': 100, 'reg_alpha': 0.9655242681494484, 'reg_lambda': 4.0440528970391e-06, 'subsample': 0.20586653365227495}. Best is trial 12 with value: 38.86882873485208.\n"
     ]
    },
    {
     "name": "stdout",
     "output_type": "stream",
     "text": [
      "Trial 17 finished with value: 38.869172118499435 and parameters: {'colsample_bytree': 0.323256884229306, 'learning_rate': 0.048978825378835966, 'min_child_samples': 56, 'n_estimators': 11032, 'num_leaves': 100, 'reg_alpha': 0.9655242681494484, 'reg_lambda': 4.0440528970391e-06, 'subsample': 0.20586653365227495}. Best is trial 12 with value: 38.86882873485208.\n",
      "Trial 17 finished with value: 38.869172118499435 and parameters: {'colsample_bytree': 0.323256884229306, 'learning_rate': 0.048978825378835966, 'min_child_samples': 56, 'n_estimators': 11032, 'num_leaves': 100, 'reg_alpha': 0.9655242681494484, 'reg_lambda': 4.0440528970391e-06, 'subsample': 0.20586653365227495}. Best is trial 12 with value: 38.86882873485208.\n",
      "Trial 17 finished with value: 38.869172118499435 and parameters: {'colsample_bytree': 0.323256884229306, 'learning_rate': 0.048978825378835966, 'min_child_samples': 56, 'n_estimators': 11032, 'num_leaves': 100, 'reg_alpha': 0.9655242681494484, 'reg_lambda': 4.0440528970391e-06, 'subsample': 0.20586653365227495}. Best is trial 12 with value: 38.86882873485208.\n",
      "Trial 17 finished with value: 38.869172118499435 and parameters: {'colsample_bytree': 0.323256884229306, 'learning_rate': 0.048978825378835966, 'min_child_samples': 56, 'n_estimators': 11032, 'num_leaves': 100, 'reg_alpha': 0.9655242681494484, 'reg_lambda': 4.0440528970391e-06, 'subsample': 0.20586653365227495}. Best is trial 12 with value: 38.86882873485208.\n",
      "Trial 17 finished with value: 38.869172118499435 and parameters: {'colsample_bytree': 0.323256884229306, 'learning_rate': 0.048978825378835966, 'min_child_samples': 56, 'n_estimators': 11032, 'num_leaves': 100, 'reg_alpha': 0.9655242681494484, 'reg_lambda': 4.0440528970391e-06, 'subsample': 0.20586653365227495}. Best is trial 12 with value: 38.86882873485208.\n",
      "Trial 17 finished with value: 38.869172118499435 and parameters: {'colsample_bytree': 0.323256884229306, 'learning_rate': 0.048978825378835966, 'min_child_samples': 56, 'n_estimators': 11032, 'num_leaves': 100, 'reg_alpha': 0.9655242681494484, 'reg_lambda': 4.0440528970391e-06, 'subsample': 0.20586653365227495}. Best is trial 12 with value: 38.86882873485208.\n",
      "Trial 17 finished with value: 38.869172118499435 and parameters: {'colsample_bytree': 0.323256884229306, 'learning_rate': 0.048978825378835966, 'min_child_samples': 56, 'n_estimators': 11032, 'num_leaves': 100, 'reg_alpha': 0.9655242681494484, 'reg_lambda': 4.0440528970391e-06, 'subsample': 0.20586653365227495}. Best is trial 12 with value: 38.86882873485208.\n",
      "Trial 17 finished with value: 38.869172118499435 and parameters: {'colsample_bytree': 0.323256884229306, 'learning_rate': 0.048978825378835966, 'min_child_samples': 56, 'n_estimators': 11032, 'num_leaves': 100, 'reg_alpha': 0.9655242681494484, 'reg_lambda': 4.0440528970391e-06, 'subsample': 0.20586653365227495}. Best is trial 12 with value: 38.86882873485208.\n",
      "Trial 17 finished with value: 38.869172118499435 and parameters: {'colsample_bytree': 0.323256884229306, 'learning_rate': 0.048978825378835966, 'min_child_samples': 56, 'n_estimators': 11032, 'num_leaves': 100, 'reg_alpha': 0.9655242681494484, 'reg_lambda': 4.0440528970391e-06, 'subsample': 0.20586653365227495}. Best is trial 12 with value: 38.86882873485208.\n",
      "Trial 17 finished with value: 38.869172118499435 and parameters: {'colsample_bytree': 0.323256884229306, 'learning_rate': 0.048978825378835966, 'min_child_samples': 56, 'n_estimators': 11032, 'num_leaves': 100, 'reg_alpha': 0.9655242681494484, 'reg_lambda': 4.0440528970391e-06, 'subsample': 0.20586653365227495}. Best is trial 12 with value: 38.86882873485208.\n"
     ]
    },
    {
     "name": "stderr",
     "output_type": "stream",
     "text": [
      "[I 2025-02-06 19:57:25,063] Trial 18 finished with value: 38.86985007792853 and parameters: {'colsample_bytree': 0.30488884147822953, 'learning_rate': 0.034126099924350534, 'min_child_samples': 45, 'n_estimators': 12652, 'num_leaves': 145, 'reg_alpha': 0.6923934348909634, 'reg_lambda': 7.014107083896201e-06, 'subsample': 0.21504810942951158}. Best is trial 12 with value: 38.86882873485208.\n"
     ]
    },
    {
     "name": "stdout",
     "output_type": "stream",
     "text": [
      "Trial 18 finished with value: 38.86985007792853 and parameters: {'colsample_bytree': 0.30488884147822953, 'learning_rate': 0.034126099924350534, 'min_child_samples': 45, 'n_estimators': 12652, 'num_leaves': 145, 'reg_alpha': 0.6923934348909634, 'reg_lambda': 7.014107083896201e-06, 'subsample': 0.21504810942951158}. Best is trial 12 with value: 38.86882873485208.\n",
      "Trial 18 finished with value: 38.86985007792853 and parameters: {'colsample_bytree': 0.30488884147822953, 'learning_rate': 0.034126099924350534, 'min_child_samples': 45, 'n_estimators': 12652, 'num_leaves': 145, 'reg_alpha': 0.6923934348909634, 'reg_lambda': 7.014107083896201e-06, 'subsample': 0.21504810942951158}. Best is trial 12 with value: 38.86882873485208.\n",
      "Trial 18 finished with value: 38.86985007792853 and parameters: {'colsample_bytree': 0.30488884147822953, 'learning_rate': 0.034126099924350534, 'min_child_samples': 45, 'n_estimators': 12652, 'num_leaves': 145, 'reg_alpha': 0.6923934348909634, 'reg_lambda': 7.014107083896201e-06, 'subsample': 0.21504810942951158}. Best is trial 12 with value: 38.86882873485208.\n",
      "Trial 18 finished with value: 38.86985007792853 and parameters: {'colsample_bytree': 0.30488884147822953, 'learning_rate': 0.034126099924350534, 'min_child_samples': 45, 'n_estimators': 12652, 'num_leaves': 145, 'reg_alpha': 0.6923934348909634, 'reg_lambda': 7.014107083896201e-06, 'subsample': 0.21504810942951158}. Best is trial 12 with value: 38.86882873485208.\n",
      "Trial 18 finished with value: 38.86985007792853 and parameters: {'colsample_bytree': 0.30488884147822953, 'learning_rate': 0.034126099924350534, 'min_child_samples': 45, 'n_estimators': 12652, 'num_leaves': 145, 'reg_alpha': 0.6923934348909634, 'reg_lambda': 7.014107083896201e-06, 'subsample': 0.21504810942951158}. Best is trial 12 with value: 38.86882873485208.\n",
      "Trial 18 finished with value: 38.86985007792853 and parameters: {'colsample_bytree': 0.30488884147822953, 'learning_rate': 0.034126099924350534, 'min_child_samples': 45, 'n_estimators': 12652, 'num_leaves': 145, 'reg_alpha': 0.6923934348909634, 'reg_lambda': 7.014107083896201e-06, 'subsample': 0.21504810942951158}. Best is trial 12 with value: 38.86882873485208.\n",
      "Trial 18 finished with value: 38.86985007792853 and parameters: {'colsample_bytree': 0.30488884147822953, 'learning_rate': 0.034126099924350534, 'min_child_samples': 45, 'n_estimators': 12652, 'num_leaves': 145, 'reg_alpha': 0.6923934348909634, 'reg_lambda': 7.014107083896201e-06, 'subsample': 0.21504810942951158}. Best is trial 12 with value: 38.86882873485208.\n",
      "Trial 18 finished with value: 38.86985007792853 and parameters: {'colsample_bytree': 0.30488884147822953, 'learning_rate': 0.034126099924350534, 'min_child_samples': 45, 'n_estimators': 12652, 'num_leaves': 145, 'reg_alpha': 0.6923934348909634, 'reg_lambda': 7.014107083896201e-06, 'subsample': 0.21504810942951158}. Best is trial 12 with value: 38.86882873485208.\n",
      "Trial 18 finished with value: 38.86985007792853 and parameters: {'colsample_bytree': 0.30488884147822953, 'learning_rate': 0.034126099924350534, 'min_child_samples': 45, 'n_estimators': 12652, 'num_leaves': 145, 'reg_alpha': 0.6923934348909634, 'reg_lambda': 7.014107083896201e-06, 'subsample': 0.21504810942951158}. Best is trial 12 with value: 38.86882873485208.\n",
      "Trial 18 finished with value: 38.86985007792853 and parameters: {'colsample_bytree': 0.30488884147822953, 'learning_rate': 0.034126099924350534, 'min_child_samples': 45, 'n_estimators': 12652, 'num_leaves': 145, 'reg_alpha': 0.6923934348909634, 'reg_lambda': 7.014107083896201e-06, 'subsample': 0.21504810942951158}. Best is trial 12 with value: 38.86882873485208.\n"
     ]
    },
    {
     "name": "stderr",
     "output_type": "stream",
     "text": [
      "[I 2025-02-06 19:57:25,942] Trial 19 pruned. Trial was pruned at iteration 0.\n"
     ]
    },
    {
     "name": "stdout",
     "output_type": "stream",
     "text": [
      "Trial 19 pruned. Trial was pruned at iteration 0.\n",
      "Trial 19 pruned. Trial was pruned at iteration 0.\n",
      "Trial 19 pruned. Trial was pruned at iteration 0.\n",
      "Trial 19 pruned. Trial was pruned at iteration 0.\n",
      "Trial 19 pruned. Trial was pruned at iteration 0.\n",
      "Trial 19 pruned. Trial was pruned at iteration 0.\n",
      "Trial 19 pruned. Trial was pruned at iteration 0.\n",
      "Trial 19 pruned. Trial was pruned at iteration 0.\n",
      "Trial 19 pruned. Trial was pruned at iteration 0.\n",
      "Trial 19 pruned. Trial was pruned at iteration 0.\n"
     ]
    },
    {
     "name": "stderr",
     "output_type": "stream",
     "text": [
      "[I 2025-02-06 19:57:26,824] Trial 20 pruned. Trial was pruned at iteration 0.\n"
     ]
    },
    {
     "name": "stdout",
     "output_type": "stream",
     "text": [
      "Trial 20 pruned. Trial was pruned at iteration 0.\n",
      "Trial 20 pruned. Trial was pruned at iteration 0.\n",
      "Trial 20 pruned. Trial was pruned at iteration 0.\n",
      "Trial 20 pruned. Trial was pruned at iteration 0.\n",
      "Trial 20 pruned. Trial was pruned at iteration 0.\n",
      "Trial 20 pruned. Trial was pruned at iteration 0.\n",
      "Trial 20 pruned. Trial was pruned at iteration 0.\n",
      "Trial 20 pruned. Trial was pruned at iteration 0.\n",
      "Trial 20 pruned. Trial was pruned at iteration 0.\n",
      "Trial 20 pruned. Trial was pruned at iteration 0.\n"
     ]
    },
    {
     "name": "stderr",
     "output_type": "stream",
     "text": [
      "[I 2025-02-06 19:58:08,864] Trial 21 finished with value: 38.86894327872311 and parameters: {'colsample_bytree': 0.30833743052975904, 'learning_rate': 0.049048567123161184, 'min_child_samples': 40, 'n_estimators': 11318, 'num_leaves': 65, 'reg_alpha': 0.5084742990897266, 'reg_lambda': 9.988526398325152e-06, 'subsample': 0.21093323617961882}. Best is trial 12 with value: 38.86882873485208.\n"
     ]
    },
    {
     "name": "stdout",
     "output_type": "stream",
     "text": [
      "Trial 21 finished with value: 38.86894327872311 and parameters: {'colsample_bytree': 0.30833743052975904, 'learning_rate': 0.049048567123161184, 'min_child_samples': 40, 'n_estimators': 11318, 'num_leaves': 65, 'reg_alpha': 0.5084742990897266, 'reg_lambda': 9.988526398325152e-06, 'subsample': 0.21093323617961882}. Best is trial 12 with value: 38.86882873485208.\n",
      "Trial 21 finished with value: 38.86894327872311 and parameters: {'colsample_bytree': 0.30833743052975904, 'learning_rate': 0.049048567123161184, 'min_child_samples': 40, 'n_estimators': 11318, 'num_leaves': 65, 'reg_alpha': 0.5084742990897266, 'reg_lambda': 9.988526398325152e-06, 'subsample': 0.21093323617961882}. Best is trial 12 with value: 38.86882873485208.\n",
      "Trial 21 finished with value: 38.86894327872311 and parameters: {'colsample_bytree': 0.30833743052975904, 'learning_rate': 0.049048567123161184, 'min_child_samples': 40, 'n_estimators': 11318, 'num_leaves': 65, 'reg_alpha': 0.5084742990897266, 'reg_lambda': 9.988526398325152e-06, 'subsample': 0.21093323617961882}. Best is trial 12 with value: 38.86882873485208.\n",
      "Trial 21 finished with value: 38.86894327872311 and parameters: {'colsample_bytree': 0.30833743052975904, 'learning_rate': 0.049048567123161184, 'min_child_samples': 40, 'n_estimators': 11318, 'num_leaves': 65, 'reg_alpha': 0.5084742990897266, 'reg_lambda': 9.988526398325152e-06, 'subsample': 0.21093323617961882}. Best is trial 12 with value: 38.86882873485208.\n",
      "Trial 21 finished with value: 38.86894327872311 and parameters: {'colsample_bytree': 0.30833743052975904, 'learning_rate': 0.049048567123161184, 'min_child_samples': 40, 'n_estimators': 11318, 'num_leaves': 65, 'reg_alpha': 0.5084742990897266, 'reg_lambda': 9.988526398325152e-06, 'subsample': 0.21093323617961882}. Best is trial 12 with value: 38.86882873485208.\n",
      "Trial 21 finished with value: 38.86894327872311 and parameters: {'colsample_bytree': 0.30833743052975904, 'learning_rate': 0.049048567123161184, 'min_child_samples': 40, 'n_estimators': 11318, 'num_leaves': 65, 'reg_alpha': 0.5084742990897266, 'reg_lambda': 9.988526398325152e-06, 'subsample': 0.21093323617961882}. Best is trial 12 with value: 38.86882873485208.\n",
      "Trial 21 finished with value: 38.86894327872311 and parameters: {'colsample_bytree': 0.30833743052975904, 'learning_rate': 0.049048567123161184, 'min_child_samples': 40, 'n_estimators': 11318, 'num_leaves': 65, 'reg_alpha': 0.5084742990897266, 'reg_lambda': 9.988526398325152e-06, 'subsample': 0.21093323617961882}. Best is trial 12 with value: 38.86882873485208.\n",
      "Trial 21 finished with value: 38.86894327872311 and parameters: {'colsample_bytree': 0.30833743052975904, 'learning_rate': 0.049048567123161184, 'min_child_samples': 40, 'n_estimators': 11318, 'num_leaves': 65, 'reg_alpha': 0.5084742990897266, 'reg_lambda': 9.988526398325152e-06, 'subsample': 0.21093323617961882}. Best is trial 12 with value: 38.86882873485208.\n",
      "Trial 21 finished with value: 38.86894327872311 and parameters: {'colsample_bytree': 0.30833743052975904, 'learning_rate': 0.049048567123161184, 'min_child_samples': 40, 'n_estimators': 11318, 'num_leaves': 65, 'reg_alpha': 0.5084742990897266, 'reg_lambda': 9.988526398325152e-06, 'subsample': 0.21093323617961882}. Best is trial 12 with value: 38.86882873485208.\n",
      "Trial 21 finished with value: 38.86894327872311 and parameters: {'colsample_bytree': 0.30833743052975904, 'learning_rate': 0.049048567123161184, 'min_child_samples': 40, 'n_estimators': 11318, 'num_leaves': 65, 'reg_alpha': 0.5084742990897266, 'reg_lambda': 9.988526398325152e-06, 'subsample': 0.21093323617961882}. Best is trial 12 with value: 38.86882873485208.\n"
     ]
    },
    {
     "name": "stderr",
     "output_type": "stream",
     "text": [
      "[I 2025-02-06 19:59:05,332] Trial 22 finished with value: 38.86910017430096 and parameters: {'colsample_bytree': 0.3267220615587648, 'learning_rate': 0.04130330389546588, 'min_child_samples': 50, 'n_estimators': 10980, 'num_leaves': 79, 'reg_alpha': 0.5006039324304038, 'reg_lambda': 5.471295478127805e-06, 'subsample': 0.21289092691545394}. Best is trial 12 with value: 38.86882873485208.\n"
     ]
    },
    {
     "name": "stdout",
     "output_type": "stream",
     "text": [
      "Trial 22 finished with value: 38.86910017430096 and parameters: {'colsample_bytree': 0.3267220615587648, 'learning_rate': 0.04130330389546588, 'min_child_samples': 50, 'n_estimators': 10980, 'num_leaves': 79, 'reg_alpha': 0.5006039324304038, 'reg_lambda': 5.471295478127805e-06, 'subsample': 0.21289092691545394}. Best is trial 12 with value: 38.86882873485208.\n",
      "Trial 22 finished with value: 38.86910017430096 and parameters: {'colsample_bytree': 0.3267220615587648, 'learning_rate': 0.04130330389546588, 'min_child_samples': 50, 'n_estimators': 10980, 'num_leaves': 79, 'reg_alpha': 0.5006039324304038, 'reg_lambda': 5.471295478127805e-06, 'subsample': 0.21289092691545394}. Best is trial 12 with value: 38.86882873485208.\n",
      "Trial 22 finished with value: 38.86910017430096 and parameters: {'colsample_bytree': 0.3267220615587648, 'learning_rate': 0.04130330389546588, 'min_child_samples': 50, 'n_estimators': 10980, 'num_leaves': 79, 'reg_alpha': 0.5006039324304038, 'reg_lambda': 5.471295478127805e-06, 'subsample': 0.21289092691545394}. Best is trial 12 with value: 38.86882873485208.\n",
      "Trial 22 finished with value: 38.86910017430096 and parameters: {'colsample_bytree': 0.3267220615587648, 'learning_rate': 0.04130330389546588, 'min_child_samples': 50, 'n_estimators': 10980, 'num_leaves': 79, 'reg_alpha': 0.5006039324304038, 'reg_lambda': 5.471295478127805e-06, 'subsample': 0.21289092691545394}. Best is trial 12 with value: 38.86882873485208.\n",
      "Trial 22 finished with value: 38.86910017430096 and parameters: {'colsample_bytree': 0.3267220615587648, 'learning_rate': 0.04130330389546588, 'min_child_samples': 50, 'n_estimators': 10980, 'num_leaves': 79, 'reg_alpha': 0.5006039324304038, 'reg_lambda': 5.471295478127805e-06, 'subsample': 0.21289092691545394}. Best is trial 12 with value: 38.86882873485208.\n",
      "Trial 22 finished with value: 38.86910017430096 and parameters: {'colsample_bytree': 0.3267220615587648, 'learning_rate': 0.04130330389546588, 'min_child_samples': 50, 'n_estimators': 10980, 'num_leaves': 79, 'reg_alpha': 0.5006039324304038, 'reg_lambda': 5.471295478127805e-06, 'subsample': 0.21289092691545394}. Best is trial 12 with value: 38.86882873485208.\n",
      "Trial 22 finished with value: 38.86910017430096 and parameters: {'colsample_bytree': 0.3267220615587648, 'learning_rate': 0.04130330389546588, 'min_child_samples': 50, 'n_estimators': 10980, 'num_leaves': 79, 'reg_alpha': 0.5006039324304038, 'reg_lambda': 5.471295478127805e-06, 'subsample': 0.21289092691545394}. Best is trial 12 with value: 38.86882873485208.\n",
      "Trial 22 finished with value: 38.86910017430096 and parameters: {'colsample_bytree': 0.3267220615587648, 'learning_rate': 0.04130330389546588, 'min_child_samples': 50, 'n_estimators': 10980, 'num_leaves': 79, 'reg_alpha': 0.5006039324304038, 'reg_lambda': 5.471295478127805e-06, 'subsample': 0.21289092691545394}. Best is trial 12 with value: 38.86882873485208.\n",
      "Trial 22 finished with value: 38.86910017430096 and parameters: {'colsample_bytree': 0.3267220615587648, 'learning_rate': 0.04130330389546588, 'min_child_samples': 50, 'n_estimators': 10980, 'num_leaves': 79, 'reg_alpha': 0.5006039324304038, 'reg_lambda': 5.471295478127805e-06, 'subsample': 0.21289092691545394}. Best is trial 12 with value: 38.86882873485208.\n",
      "Trial 22 finished with value: 38.86910017430096 and parameters: {'colsample_bytree': 0.3267220615587648, 'learning_rate': 0.04130330389546588, 'min_child_samples': 50, 'n_estimators': 10980, 'num_leaves': 79, 'reg_alpha': 0.5006039324304038, 'reg_lambda': 5.471295478127805e-06, 'subsample': 0.21289092691545394}. Best is trial 12 with value: 38.86882873485208.\n"
     ]
    },
    {
     "name": "stderr",
     "output_type": "stream",
     "text": [
      "[I 2025-02-06 20:00:01,886] Trial 23 finished with value: 38.86931275926198 and parameters: {'colsample_bytree': 0.3029218922662158, 'learning_rate': 0.04989739424590577, 'min_child_samples': 40, 'n_estimators': 12236, 'num_leaves': 109, 'reg_alpha': 0.6575408062194431, 'reg_lambda': 9.965686134681435e-06, 'subsample': 0.2000720379706069}. Best is trial 12 with value: 38.86882873485208.\n"
     ]
    },
    {
     "name": "stdout",
     "output_type": "stream",
     "text": [
      "Trial 23 finished with value: 38.86931275926198 and parameters: {'colsample_bytree': 0.3029218922662158, 'learning_rate': 0.04989739424590577, 'min_child_samples': 40, 'n_estimators': 12236, 'num_leaves': 109, 'reg_alpha': 0.6575408062194431, 'reg_lambda': 9.965686134681435e-06, 'subsample': 0.2000720379706069}. Best is trial 12 with value: 38.86882873485208.\n",
      "Trial 23 finished with value: 38.86931275926198 and parameters: {'colsample_bytree': 0.3029218922662158, 'learning_rate': 0.04989739424590577, 'min_child_samples': 40, 'n_estimators': 12236, 'num_leaves': 109, 'reg_alpha': 0.6575408062194431, 'reg_lambda': 9.965686134681435e-06, 'subsample': 0.2000720379706069}. Best is trial 12 with value: 38.86882873485208.\n",
      "Trial 23 finished with value: 38.86931275926198 and parameters: {'colsample_bytree': 0.3029218922662158, 'learning_rate': 0.04989739424590577, 'min_child_samples': 40, 'n_estimators': 12236, 'num_leaves': 109, 'reg_alpha': 0.6575408062194431, 'reg_lambda': 9.965686134681435e-06, 'subsample': 0.2000720379706069}. Best is trial 12 with value: 38.86882873485208.\n",
      "Trial 23 finished with value: 38.86931275926198 and parameters: {'colsample_bytree': 0.3029218922662158, 'learning_rate': 0.04989739424590577, 'min_child_samples': 40, 'n_estimators': 12236, 'num_leaves': 109, 'reg_alpha': 0.6575408062194431, 'reg_lambda': 9.965686134681435e-06, 'subsample': 0.2000720379706069}. Best is trial 12 with value: 38.86882873485208.\n",
      "Trial 23 finished with value: 38.86931275926198 and parameters: {'colsample_bytree': 0.3029218922662158, 'learning_rate': 0.04989739424590577, 'min_child_samples': 40, 'n_estimators': 12236, 'num_leaves': 109, 'reg_alpha': 0.6575408062194431, 'reg_lambda': 9.965686134681435e-06, 'subsample': 0.2000720379706069}. Best is trial 12 with value: 38.86882873485208.\n",
      "Trial 23 finished with value: 38.86931275926198 and parameters: {'colsample_bytree': 0.3029218922662158, 'learning_rate': 0.04989739424590577, 'min_child_samples': 40, 'n_estimators': 12236, 'num_leaves': 109, 'reg_alpha': 0.6575408062194431, 'reg_lambda': 9.965686134681435e-06, 'subsample': 0.2000720379706069}. Best is trial 12 with value: 38.86882873485208.\n",
      "Trial 23 finished with value: 38.86931275926198 and parameters: {'colsample_bytree': 0.3029218922662158, 'learning_rate': 0.04989739424590577, 'min_child_samples': 40, 'n_estimators': 12236, 'num_leaves': 109, 'reg_alpha': 0.6575408062194431, 'reg_lambda': 9.965686134681435e-06, 'subsample': 0.2000720379706069}. Best is trial 12 with value: 38.86882873485208.\n",
      "Trial 23 finished with value: 38.86931275926198 and parameters: {'colsample_bytree': 0.3029218922662158, 'learning_rate': 0.04989739424590577, 'min_child_samples': 40, 'n_estimators': 12236, 'num_leaves': 109, 'reg_alpha': 0.6575408062194431, 'reg_lambda': 9.965686134681435e-06, 'subsample': 0.2000720379706069}. Best is trial 12 with value: 38.86882873485208.\n",
      "Trial 23 finished with value: 38.86931275926198 and parameters: {'colsample_bytree': 0.3029218922662158, 'learning_rate': 0.04989739424590577, 'min_child_samples': 40, 'n_estimators': 12236, 'num_leaves': 109, 'reg_alpha': 0.6575408062194431, 'reg_lambda': 9.965686134681435e-06, 'subsample': 0.2000720379706069}. Best is trial 12 with value: 38.86882873485208.\n",
      "Trial 23 finished with value: 38.86931275926198 and parameters: {'colsample_bytree': 0.3029218922662158, 'learning_rate': 0.04989739424590577, 'min_child_samples': 40, 'n_estimators': 12236, 'num_leaves': 109, 'reg_alpha': 0.6575408062194431, 'reg_lambda': 9.965686134681435e-06, 'subsample': 0.2000720379706069}. Best is trial 12 with value: 38.86882873485208.\n"
     ]
    },
    {
     "name": "stderr",
     "output_type": "stream",
     "text": [
      "[I 2025-02-06 20:00:02,784] Trial 24 pruned. Trial was pruned at iteration 0.\n"
     ]
    },
    {
     "name": "stdout",
     "output_type": "stream",
     "text": [
      "Trial 24 pruned. Trial was pruned at iteration 0.\n",
      "Trial 24 pruned. Trial was pruned at iteration 0.\n",
      "Trial 24 pruned. Trial was pruned at iteration 0.\n",
      "Trial 24 pruned. Trial was pruned at iteration 0.\n",
      "Trial 24 pruned. Trial was pruned at iteration 0.\n",
      "Trial 24 pruned. Trial was pruned at iteration 0.\n",
      "Trial 24 pruned. Trial was pruned at iteration 0.\n",
      "Trial 24 pruned. Trial was pruned at iteration 0.\n",
      "Trial 24 pruned. Trial was pruned at iteration 0.\n",
      "Trial 24 pruned. Trial was pruned at iteration 0.\n"
     ]
    },
    {
     "name": "stderr",
     "output_type": "stream",
     "text": [
      "[I 2025-02-06 20:00:53,242] Trial 25 finished with value: 38.869334681864174 and parameters: {'colsample_bytree': 0.2921944987519015, 'learning_rate': 0.043260430787883886, 'min_child_samples': 47, 'n_estimators': 11232, 'num_leaves': 106, 'reg_alpha': 1.9373989136788976, 'reg_lambda': 5.839104614287819e-06, 'subsample': 0.20803454670447247}. Best is trial 12 with value: 38.86882873485208.\n"
     ]
    },
    {
     "name": "stdout",
     "output_type": "stream",
     "text": [
      "Trial 25 finished with value: 38.869334681864174 and parameters: {'colsample_bytree': 0.2921944987519015, 'learning_rate': 0.043260430787883886, 'min_child_samples': 47, 'n_estimators': 11232, 'num_leaves': 106, 'reg_alpha': 1.9373989136788976, 'reg_lambda': 5.839104614287819e-06, 'subsample': 0.20803454670447247}. Best is trial 12 with value: 38.86882873485208.\n",
      "Trial 25 finished with value: 38.869334681864174 and parameters: {'colsample_bytree': 0.2921944987519015, 'learning_rate': 0.043260430787883886, 'min_child_samples': 47, 'n_estimators': 11232, 'num_leaves': 106, 'reg_alpha': 1.9373989136788976, 'reg_lambda': 5.839104614287819e-06, 'subsample': 0.20803454670447247}. Best is trial 12 with value: 38.86882873485208.\n",
      "Trial 25 finished with value: 38.869334681864174 and parameters: {'colsample_bytree': 0.2921944987519015, 'learning_rate': 0.043260430787883886, 'min_child_samples': 47, 'n_estimators': 11232, 'num_leaves': 106, 'reg_alpha': 1.9373989136788976, 'reg_lambda': 5.839104614287819e-06, 'subsample': 0.20803454670447247}. Best is trial 12 with value: 38.86882873485208.\n",
      "Trial 25 finished with value: 38.869334681864174 and parameters: {'colsample_bytree': 0.2921944987519015, 'learning_rate': 0.043260430787883886, 'min_child_samples': 47, 'n_estimators': 11232, 'num_leaves': 106, 'reg_alpha': 1.9373989136788976, 'reg_lambda': 5.839104614287819e-06, 'subsample': 0.20803454670447247}. Best is trial 12 with value: 38.86882873485208.\n",
      "Trial 25 finished with value: 38.869334681864174 and parameters: {'colsample_bytree': 0.2921944987519015, 'learning_rate': 0.043260430787883886, 'min_child_samples': 47, 'n_estimators': 11232, 'num_leaves': 106, 'reg_alpha': 1.9373989136788976, 'reg_lambda': 5.839104614287819e-06, 'subsample': 0.20803454670447247}. Best is trial 12 with value: 38.86882873485208.\n",
      "Trial 25 finished with value: 38.869334681864174 and parameters: {'colsample_bytree': 0.2921944987519015, 'learning_rate': 0.043260430787883886, 'min_child_samples': 47, 'n_estimators': 11232, 'num_leaves': 106, 'reg_alpha': 1.9373989136788976, 'reg_lambda': 5.839104614287819e-06, 'subsample': 0.20803454670447247}. Best is trial 12 with value: 38.86882873485208.\n",
      "Trial 25 finished with value: 38.869334681864174 and parameters: {'colsample_bytree': 0.2921944987519015, 'learning_rate': 0.043260430787883886, 'min_child_samples': 47, 'n_estimators': 11232, 'num_leaves': 106, 'reg_alpha': 1.9373989136788976, 'reg_lambda': 5.839104614287819e-06, 'subsample': 0.20803454670447247}. Best is trial 12 with value: 38.86882873485208.\n",
      "Trial 25 finished with value: 38.869334681864174 and parameters: {'colsample_bytree': 0.2921944987519015, 'learning_rate': 0.043260430787883886, 'min_child_samples': 47, 'n_estimators': 11232, 'num_leaves': 106, 'reg_alpha': 1.9373989136788976, 'reg_lambda': 5.839104614287819e-06, 'subsample': 0.20803454670447247}. Best is trial 12 with value: 38.86882873485208.\n",
      "Trial 25 finished with value: 38.869334681864174 and parameters: {'colsample_bytree': 0.2921944987519015, 'learning_rate': 0.043260430787883886, 'min_child_samples': 47, 'n_estimators': 11232, 'num_leaves': 106, 'reg_alpha': 1.9373989136788976, 'reg_lambda': 5.839104614287819e-06, 'subsample': 0.20803454670447247}. Best is trial 12 with value: 38.86882873485208.\n",
      "Trial 25 finished with value: 38.869334681864174 and parameters: {'colsample_bytree': 0.2921944987519015, 'learning_rate': 0.043260430787883886, 'min_child_samples': 47, 'n_estimators': 11232, 'num_leaves': 106, 'reg_alpha': 1.9373989136788976, 'reg_lambda': 5.839104614287819e-06, 'subsample': 0.20803454670447247}. Best is trial 12 with value: 38.86882873485208.\n"
     ]
    },
    {
     "name": "stderr",
     "output_type": "stream",
     "text": [
      "[I 2025-02-06 20:00:54,114] Trial 26 pruned. Trial was pruned at iteration 0.\n"
     ]
    },
    {
     "name": "stdout",
     "output_type": "stream",
     "text": [
      "Trial 26 pruned. Trial was pruned at iteration 0.\n",
      "Trial 26 pruned. Trial was pruned at iteration 0.\n",
      "Trial 26 pruned. Trial was pruned at iteration 0.\n",
      "Trial 26 pruned. Trial was pruned at iteration 0.\n",
      "Trial 26 pruned. Trial was pruned at iteration 0.\n",
      "Trial 26 pruned. Trial was pruned at iteration 0.\n",
      "Trial 26 pruned. Trial was pruned at iteration 0.\n",
      "Trial 26 pruned. Trial was pruned at iteration 0.\n",
      "Trial 26 pruned. Trial was pruned at iteration 0.\n",
      "Trial 26 pruned. Trial was pruned at iteration 0.\n"
     ]
    },
    {
     "name": "stderr",
     "output_type": "stream",
     "text": [
      "[I 2025-02-06 20:00:54,935] Trial 27 pruned. Trial was pruned at iteration 0.\n"
     ]
    },
    {
     "name": "stdout",
     "output_type": "stream",
     "text": [
      "Trial 27 pruned. Trial was pruned at iteration 0.\n",
      "Trial 27 pruned. Trial was pruned at iteration 0.\n",
      "Trial 27 pruned. Trial was pruned at iteration 0.\n",
      "Trial 27 pruned. Trial was pruned at iteration 0.\n",
      "Trial 27 pruned. Trial was pruned at iteration 0.\n",
      "Trial 27 pruned. Trial was pruned at iteration 0.\n",
      "Trial 27 pruned. Trial was pruned at iteration 0.\n",
      "Trial 27 pruned. Trial was pruned at iteration 0.\n",
      "Trial 27 pruned. Trial was pruned at iteration 0.\n",
      "Trial 27 pruned. Trial was pruned at iteration 0.\n"
     ]
    },
    {
     "name": "stderr",
     "output_type": "stream",
     "text": [
      "[I 2025-02-06 20:01:41,097] Trial 28 finished with value: 38.86900904421667 and parameters: {'colsample_bytree': 0.3170952768898843, 'learning_rate': 0.04464416572583642, 'min_child_samples': 42, 'n_estimators': 11857, 'num_leaves': 88, 'reg_alpha': 0.6483729104769397, 'reg_lambda': 4.120997351330056e-06, 'subsample': 0.20311222543442312}. Best is trial 12 with value: 38.86882873485208.\n"
     ]
    },
    {
     "name": "stdout",
     "output_type": "stream",
     "text": [
      "Trial 28 finished with value: 38.86900904421667 and parameters: {'colsample_bytree': 0.3170952768898843, 'learning_rate': 0.04464416572583642, 'min_child_samples': 42, 'n_estimators': 11857, 'num_leaves': 88, 'reg_alpha': 0.6483729104769397, 'reg_lambda': 4.120997351330056e-06, 'subsample': 0.20311222543442312}. Best is trial 12 with value: 38.86882873485208.\n",
      "Trial 28 finished with value: 38.86900904421667 and parameters: {'colsample_bytree': 0.3170952768898843, 'learning_rate': 0.04464416572583642, 'min_child_samples': 42, 'n_estimators': 11857, 'num_leaves': 88, 'reg_alpha': 0.6483729104769397, 'reg_lambda': 4.120997351330056e-06, 'subsample': 0.20311222543442312}. Best is trial 12 with value: 38.86882873485208.\n",
      "Trial 28 finished with value: 38.86900904421667 and parameters: {'colsample_bytree': 0.3170952768898843, 'learning_rate': 0.04464416572583642, 'min_child_samples': 42, 'n_estimators': 11857, 'num_leaves': 88, 'reg_alpha': 0.6483729104769397, 'reg_lambda': 4.120997351330056e-06, 'subsample': 0.20311222543442312}. Best is trial 12 with value: 38.86882873485208.\n",
      "Trial 28 finished with value: 38.86900904421667 and parameters: {'colsample_bytree': 0.3170952768898843, 'learning_rate': 0.04464416572583642, 'min_child_samples': 42, 'n_estimators': 11857, 'num_leaves': 88, 'reg_alpha': 0.6483729104769397, 'reg_lambda': 4.120997351330056e-06, 'subsample': 0.20311222543442312}. Best is trial 12 with value: 38.86882873485208.\n",
      "Trial 28 finished with value: 38.86900904421667 and parameters: {'colsample_bytree': 0.3170952768898843, 'learning_rate': 0.04464416572583642, 'min_child_samples': 42, 'n_estimators': 11857, 'num_leaves': 88, 'reg_alpha': 0.6483729104769397, 'reg_lambda': 4.120997351330056e-06, 'subsample': 0.20311222543442312}. Best is trial 12 with value: 38.86882873485208.\n",
      "Trial 28 finished with value: 38.86900904421667 and parameters: {'colsample_bytree': 0.3170952768898843, 'learning_rate': 0.04464416572583642, 'min_child_samples': 42, 'n_estimators': 11857, 'num_leaves': 88, 'reg_alpha': 0.6483729104769397, 'reg_lambda': 4.120997351330056e-06, 'subsample': 0.20311222543442312}. Best is trial 12 with value: 38.86882873485208.\n",
      "Trial 28 finished with value: 38.86900904421667 and parameters: {'colsample_bytree': 0.3170952768898843, 'learning_rate': 0.04464416572583642, 'min_child_samples': 42, 'n_estimators': 11857, 'num_leaves': 88, 'reg_alpha': 0.6483729104769397, 'reg_lambda': 4.120997351330056e-06, 'subsample': 0.20311222543442312}. Best is trial 12 with value: 38.86882873485208.\n",
      "Trial 28 finished with value: 38.86900904421667 and parameters: {'colsample_bytree': 0.3170952768898843, 'learning_rate': 0.04464416572583642, 'min_child_samples': 42, 'n_estimators': 11857, 'num_leaves': 88, 'reg_alpha': 0.6483729104769397, 'reg_lambda': 4.120997351330056e-06, 'subsample': 0.20311222543442312}. Best is trial 12 with value: 38.86882873485208.\n",
      "Trial 28 finished with value: 38.86900904421667 and parameters: {'colsample_bytree': 0.3170952768898843, 'learning_rate': 0.04464416572583642, 'min_child_samples': 42, 'n_estimators': 11857, 'num_leaves': 88, 'reg_alpha': 0.6483729104769397, 'reg_lambda': 4.120997351330056e-06, 'subsample': 0.20311222543442312}. Best is trial 12 with value: 38.86882873485208.\n",
      "Trial 28 finished with value: 38.86900904421667 and parameters: {'colsample_bytree': 0.3170952768898843, 'learning_rate': 0.04464416572583642, 'min_child_samples': 42, 'n_estimators': 11857, 'num_leaves': 88, 'reg_alpha': 0.6483729104769397, 'reg_lambda': 4.120997351330056e-06, 'subsample': 0.20311222543442312}. Best is trial 12 with value: 38.86882873485208.\n"
     ]
    },
    {
     "name": "stderr",
     "output_type": "stream",
     "text": [
      "[I 2025-02-06 20:01:41,938] Trial 29 pruned. Trial was pruned at iteration 0.\n"
     ]
    },
    {
     "name": "stdout",
     "output_type": "stream",
     "text": [
      "Trial 29 pruned. Trial was pruned at iteration 0.\n",
      "Trial 29 pruned. Trial was pruned at iteration 0.\n",
      "Trial 29 pruned. Trial was pruned at iteration 0.\n",
      "Trial 29 pruned. Trial was pruned at iteration 0.\n",
      "Trial 29 pruned. Trial was pruned at iteration 0.\n",
      "Trial 29 pruned. Trial was pruned at iteration 0.\n",
      "Trial 29 pruned. Trial was pruned at iteration 0.\n",
      "Trial 29 pruned. Trial was pruned at iteration 0.\n",
      "Trial 29 pruned. Trial was pruned at iteration 0.\n",
      "Trial 29 pruned. Trial was pruned at iteration 0.\n"
     ]
    },
    {
     "name": "stderr",
     "output_type": "stream",
     "text": [
      "[I 2025-02-06 20:01:42,802] Trial 30 pruned. Trial was pruned at iteration 0.\n"
     ]
    },
    {
     "name": "stdout",
     "output_type": "stream",
     "text": [
      "Trial 30 pruned. Trial was pruned at iteration 0.\n",
      "Trial 30 pruned. Trial was pruned at iteration 0.\n",
      "Trial 30 pruned. Trial was pruned at iteration 0.\n",
      "Trial 30 pruned. Trial was pruned at iteration 0.\n",
      "Trial 30 pruned. Trial was pruned at iteration 0.\n",
      "Trial 30 pruned. Trial was pruned at iteration 0.\n",
      "Trial 30 pruned. Trial was pruned at iteration 0.\n",
      "Trial 30 pruned. Trial was pruned at iteration 0.\n",
      "Trial 30 pruned. Trial was pruned at iteration 0.\n",
      "Trial 30 pruned. Trial was pruned at iteration 0.\n"
     ]
    },
    {
     "name": "stderr",
     "output_type": "stream",
     "text": [
      "[I 2025-02-06 20:02:26,151] Trial 31 finished with value: 38.8689139592436 and parameters: {'colsample_bytree': 0.3051487739158279, 'learning_rate': 0.04996319611235987, 'min_child_samples': 40, 'n_estimators': 11570, 'num_leaves': 76, 'reg_alpha': 0.5110833699593605, 'reg_lambda': 8.513664168581868e-06, 'subsample': 0.20863505142562003}. Best is trial 12 with value: 38.86882873485208.\n"
     ]
    },
    {
     "name": "stdout",
     "output_type": "stream",
     "text": [
      "Trial 31 finished with value: 38.8689139592436 and parameters: {'colsample_bytree': 0.3051487739158279, 'learning_rate': 0.04996319611235987, 'min_child_samples': 40, 'n_estimators': 11570, 'num_leaves': 76, 'reg_alpha': 0.5110833699593605, 'reg_lambda': 8.513664168581868e-06, 'subsample': 0.20863505142562003}. Best is trial 12 with value: 38.86882873485208.\n",
      "Trial 31 finished with value: 38.8689139592436 and parameters: {'colsample_bytree': 0.3051487739158279, 'learning_rate': 0.04996319611235987, 'min_child_samples': 40, 'n_estimators': 11570, 'num_leaves': 76, 'reg_alpha': 0.5110833699593605, 'reg_lambda': 8.513664168581868e-06, 'subsample': 0.20863505142562003}. Best is trial 12 with value: 38.86882873485208.\n",
      "Trial 31 finished with value: 38.8689139592436 and parameters: {'colsample_bytree': 0.3051487739158279, 'learning_rate': 0.04996319611235987, 'min_child_samples': 40, 'n_estimators': 11570, 'num_leaves': 76, 'reg_alpha': 0.5110833699593605, 'reg_lambda': 8.513664168581868e-06, 'subsample': 0.20863505142562003}. Best is trial 12 with value: 38.86882873485208.\n",
      "Trial 31 finished with value: 38.8689139592436 and parameters: {'colsample_bytree': 0.3051487739158279, 'learning_rate': 0.04996319611235987, 'min_child_samples': 40, 'n_estimators': 11570, 'num_leaves': 76, 'reg_alpha': 0.5110833699593605, 'reg_lambda': 8.513664168581868e-06, 'subsample': 0.20863505142562003}. Best is trial 12 with value: 38.86882873485208.\n",
      "Trial 31 finished with value: 38.8689139592436 and parameters: {'colsample_bytree': 0.3051487739158279, 'learning_rate': 0.04996319611235987, 'min_child_samples': 40, 'n_estimators': 11570, 'num_leaves': 76, 'reg_alpha': 0.5110833699593605, 'reg_lambda': 8.513664168581868e-06, 'subsample': 0.20863505142562003}. Best is trial 12 with value: 38.86882873485208.\n",
      "Trial 31 finished with value: 38.8689139592436 and parameters: {'colsample_bytree': 0.3051487739158279, 'learning_rate': 0.04996319611235987, 'min_child_samples': 40, 'n_estimators': 11570, 'num_leaves': 76, 'reg_alpha': 0.5110833699593605, 'reg_lambda': 8.513664168581868e-06, 'subsample': 0.20863505142562003}. Best is trial 12 with value: 38.86882873485208.\n",
      "Trial 31 finished with value: 38.8689139592436 and parameters: {'colsample_bytree': 0.3051487739158279, 'learning_rate': 0.04996319611235987, 'min_child_samples': 40, 'n_estimators': 11570, 'num_leaves': 76, 'reg_alpha': 0.5110833699593605, 'reg_lambda': 8.513664168581868e-06, 'subsample': 0.20863505142562003}. Best is trial 12 with value: 38.86882873485208.\n",
      "Trial 31 finished with value: 38.8689139592436 and parameters: {'colsample_bytree': 0.3051487739158279, 'learning_rate': 0.04996319611235987, 'min_child_samples': 40, 'n_estimators': 11570, 'num_leaves': 76, 'reg_alpha': 0.5110833699593605, 'reg_lambda': 8.513664168581868e-06, 'subsample': 0.20863505142562003}. Best is trial 12 with value: 38.86882873485208.\n",
      "Trial 31 finished with value: 38.8689139592436 and parameters: {'colsample_bytree': 0.3051487739158279, 'learning_rate': 0.04996319611235987, 'min_child_samples': 40, 'n_estimators': 11570, 'num_leaves': 76, 'reg_alpha': 0.5110833699593605, 'reg_lambda': 8.513664168581868e-06, 'subsample': 0.20863505142562003}. Best is trial 12 with value: 38.86882873485208.\n",
      "Trial 31 finished with value: 38.8689139592436 and parameters: {'colsample_bytree': 0.3051487739158279, 'learning_rate': 0.04996319611235987, 'min_child_samples': 40, 'n_estimators': 11570, 'num_leaves': 76, 'reg_alpha': 0.5110833699593605, 'reg_lambda': 8.513664168581868e-06, 'subsample': 0.20863505142562003}. Best is trial 12 with value: 38.86882873485208.\n"
     ]
    },
    {
     "name": "stderr",
     "output_type": "stream",
     "text": [
      "[I 2025-02-06 20:02:27,017] Trial 32 pruned. Trial was pruned at iteration 0.\n"
     ]
    },
    {
     "name": "stdout",
     "output_type": "stream",
     "text": [
      "Trial 32 pruned. Trial was pruned at iteration 0.\n",
      "Trial 32 pruned. Trial was pruned at iteration 0.\n",
      "Trial 32 pruned. Trial was pruned at iteration 0.\n",
      "Trial 32 pruned. Trial was pruned at iteration 0.\n",
      "Trial 32 pruned. Trial was pruned at iteration 0.\n",
      "Trial 32 pruned. Trial was pruned at iteration 0.\n",
      "Trial 32 pruned. Trial was pruned at iteration 0.\n",
      "Trial 32 pruned. Trial was pruned at iteration 0.\n",
      "Trial 32 pruned. Trial was pruned at iteration 0.\n",
      "Trial 32 pruned. Trial was pruned at iteration 0.\n"
     ]
    },
    {
     "name": "stderr",
     "output_type": "stream",
     "text": [
      "[I 2025-02-06 20:03:14,419] Trial 33 finished with value: 38.86912150605068 and parameters: {'colsample_bytree': 0.2927615489206353, 'learning_rate': 0.0450481536509261, 'min_child_samples': 53, 'n_estimators': 12215, 'num_leaves': 96, 'reg_alpha': 0.5923094521823341, 'reg_lambda': 9.978465517385099e-06, 'subsample': 0.2034797071128883}. Best is trial 12 with value: 38.86882873485208.\n"
     ]
    },
    {
     "name": "stdout",
     "output_type": "stream",
     "text": [
      "Trial 33 finished with value: 38.86912150605068 and parameters: {'colsample_bytree': 0.2927615489206353, 'learning_rate': 0.0450481536509261, 'min_child_samples': 53, 'n_estimators': 12215, 'num_leaves': 96, 'reg_alpha': 0.5923094521823341, 'reg_lambda': 9.978465517385099e-06, 'subsample': 0.2034797071128883}. Best is trial 12 with value: 38.86882873485208.\n",
      "Trial 33 finished with value: 38.86912150605068 and parameters: {'colsample_bytree': 0.2927615489206353, 'learning_rate': 0.0450481536509261, 'min_child_samples': 53, 'n_estimators': 12215, 'num_leaves': 96, 'reg_alpha': 0.5923094521823341, 'reg_lambda': 9.978465517385099e-06, 'subsample': 0.2034797071128883}. Best is trial 12 with value: 38.86882873485208.\n",
      "Trial 33 finished with value: 38.86912150605068 and parameters: {'colsample_bytree': 0.2927615489206353, 'learning_rate': 0.0450481536509261, 'min_child_samples': 53, 'n_estimators': 12215, 'num_leaves': 96, 'reg_alpha': 0.5923094521823341, 'reg_lambda': 9.978465517385099e-06, 'subsample': 0.2034797071128883}. Best is trial 12 with value: 38.86882873485208.\n",
      "Trial 33 finished with value: 38.86912150605068 and parameters: {'colsample_bytree': 0.2927615489206353, 'learning_rate': 0.0450481536509261, 'min_child_samples': 53, 'n_estimators': 12215, 'num_leaves': 96, 'reg_alpha': 0.5923094521823341, 'reg_lambda': 9.978465517385099e-06, 'subsample': 0.2034797071128883}. Best is trial 12 with value: 38.86882873485208.\n",
      "Trial 33 finished with value: 38.86912150605068 and parameters: {'colsample_bytree': 0.2927615489206353, 'learning_rate': 0.0450481536509261, 'min_child_samples': 53, 'n_estimators': 12215, 'num_leaves': 96, 'reg_alpha': 0.5923094521823341, 'reg_lambda': 9.978465517385099e-06, 'subsample': 0.2034797071128883}. Best is trial 12 with value: 38.86882873485208.\n",
      "Trial 33 finished with value: 38.86912150605068 and parameters: {'colsample_bytree': 0.2927615489206353, 'learning_rate': 0.0450481536509261, 'min_child_samples': 53, 'n_estimators': 12215, 'num_leaves': 96, 'reg_alpha': 0.5923094521823341, 'reg_lambda': 9.978465517385099e-06, 'subsample': 0.2034797071128883}. Best is trial 12 with value: 38.86882873485208.\n",
      "Trial 33 finished with value: 38.86912150605068 and parameters: {'colsample_bytree': 0.2927615489206353, 'learning_rate': 0.0450481536509261, 'min_child_samples': 53, 'n_estimators': 12215, 'num_leaves': 96, 'reg_alpha': 0.5923094521823341, 'reg_lambda': 9.978465517385099e-06, 'subsample': 0.2034797071128883}. Best is trial 12 with value: 38.86882873485208.\n",
      "Trial 33 finished with value: 38.86912150605068 and parameters: {'colsample_bytree': 0.2927615489206353, 'learning_rate': 0.0450481536509261, 'min_child_samples': 53, 'n_estimators': 12215, 'num_leaves': 96, 'reg_alpha': 0.5923094521823341, 'reg_lambda': 9.978465517385099e-06, 'subsample': 0.2034797071128883}. Best is trial 12 with value: 38.86882873485208.\n",
      "Trial 33 finished with value: 38.86912150605068 and parameters: {'colsample_bytree': 0.2927615489206353, 'learning_rate': 0.0450481536509261, 'min_child_samples': 53, 'n_estimators': 12215, 'num_leaves': 96, 'reg_alpha': 0.5923094521823341, 'reg_lambda': 9.978465517385099e-06, 'subsample': 0.2034797071128883}. Best is trial 12 with value: 38.86882873485208.\n",
      "Trial 33 finished with value: 38.86912150605068 and parameters: {'colsample_bytree': 0.2927615489206353, 'learning_rate': 0.0450481536509261, 'min_child_samples': 53, 'n_estimators': 12215, 'num_leaves': 96, 'reg_alpha': 0.5923094521823341, 'reg_lambda': 9.978465517385099e-06, 'subsample': 0.2034797071128883}. Best is trial 12 with value: 38.86882873485208.\n"
     ]
    },
    {
     "name": "stderr",
     "output_type": "stream",
     "text": [
      "[I 2025-02-06 20:03:15,206] Trial 34 pruned. Trial was pruned at iteration 0.\n"
     ]
    },
    {
     "name": "stdout",
     "output_type": "stream",
     "text": [
      "Trial 34 pruned. Trial was pruned at iteration 0.\n",
      "Trial 34 pruned. Trial was pruned at iteration 0.\n",
      "Trial 34 pruned. Trial was pruned at iteration 0.\n",
      "Trial 34 pruned. Trial was pruned at iteration 0.\n",
      "Trial 34 pruned. Trial was pruned at iteration 0.\n",
      "Trial 34 pruned. Trial was pruned at iteration 0.\n",
      "Trial 34 pruned. Trial was pruned at iteration 0.\n",
      "Trial 34 pruned. Trial was pruned at iteration 0.\n",
      "Trial 34 pruned. Trial was pruned at iteration 0.\n",
      "Trial 34 pruned. Trial was pruned at iteration 0.\n"
     ]
    },
    {
     "name": "stderr",
     "output_type": "stream",
     "text": [
      "[I 2025-02-06 20:03:16,281] Trial 35 pruned. Trial was pruned at iteration 0.\n"
     ]
    },
    {
     "name": "stdout",
     "output_type": "stream",
     "text": [
      "Trial 35 pruned. Trial was pruned at iteration 0.\n",
      "Trial 35 pruned. Trial was pruned at iteration 0.\n",
      "Trial 35 pruned. Trial was pruned at iteration 0.\n",
      "Trial 35 pruned. Trial was pruned at iteration 0.\n",
      "Trial 35 pruned. Trial was pruned at iteration 0.\n",
      "Trial 35 pruned. Trial was pruned at iteration 0.\n",
      "Trial 35 pruned. Trial was pruned at iteration 0.\n",
      "Trial 35 pruned. Trial was pruned at iteration 0.\n",
      "Trial 35 pruned. Trial was pruned at iteration 0.\n",
      "Trial 35 pruned. Trial was pruned at iteration 0.\n"
     ]
    },
    {
     "name": "stderr",
     "output_type": "stream",
     "text": [
      "[I 2025-02-06 20:03:57,692] Trial 36 pruned. Trial was pruned at iteration 221.\n"
     ]
    },
    {
     "name": "stdout",
     "output_type": "stream",
     "text": [
      "Trial 36 pruned. Trial was pruned at iteration 221.\n",
      "Trial 36 pruned. Trial was pruned at iteration 221.\n",
      "Trial 36 pruned. Trial was pruned at iteration 221.\n",
      "Trial 36 pruned. Trial was pruned at iteration 221.\n",
      "Trial 36 pruned. Trial was pruned at iteration 221.\n",
      "Trial 36 pruned. Trial was pruned at iteration 221.\n",
      "Trial 36 pruned. Trial was pruned at iteration 221.\n",
      "Trial 36 pruned. Trial was pruned at iteration 221.\n",
      "Trial 36 pruned. Trial was pruned at iteration 221.\n",
      "Trial 36 pruned. Trial was pruned at iteration 221.\n"
     ]
    },
    {
     "name": "stderr",
     "output_type": "stream",
     "text": [
      "[I 2025-02-06 20:03:58,809] Trial 37 pruned. Trial was pruned at iteration 0.\n"
     ]
    },
    {
     "name": "stdout",
     "output_type": "stream",
     "text": [
      "Trial 37 pruned. Trial was pruned at iteration 0.\n",
      "Trial 37 pruned. Trial was pruned at iteration 0.\n",
      "Trial 37 pruned. Trial was pruned at iteration 0.\n",
      "Trial 37 pruned. Trial was pruned at iteration 0.\n",
      "Trial 37 pruned. Trial was pruned at iteration 0.\n",
      "Trial 37 pruned. Trial was pruned at iteration 0.\n",
      "Trial 37 pruned. Trial was pruned at iteration 0.\n",
      "Trial 37 pruned. Trial was pruned at iteration 0.\n",
      "Trial 37 pruned. Trial was pruned at iteration 0.\n",
      "Trial 37 pruned. Trial was pruned at iteration 0.\n"
     ]
    },
    {
     "name": "stderr",
     "output_type": "stream",
     "text": [
      "[I 2025-02-06 20:04:00,188] Trial 38 pruned. Trial was pruned at iteration 0.\n"
     ]
    },
    {
     "name": "stdout",
     "output_type": "stream",
     "text": [
      "Trial 38 pruned. Trial was pruned at iteration 0.\n",
      "Trial 38 pruned. Trial was pruned at iteration 0.\n",
      "Trial 38 pruned. Trial was pruned at iteration 0.\n",
      "Trial 38 pruned. Trial was pruned at iteration 0.\n",
      "Trial 38 pruned. Trial was pruned at iteration 0.\n",
      "Trial 38 pruned. Trial was pruned at iteration 0.\n",
      "Trial 38 pruned. Trial was pruned at iteration 0.\n",
      "Trial 38 pruned. Trial was pruned at iteration 0.\n",
      "Trial 38 pruned. Trial was pruned at iteration 0.\n",
      "Trial 38 pruned. Trial was pruned at iteration 0.\n"
     ]
    },
    {
     "name": "stderr",
     "output_type": "stream",
     "text": [
      "[I 2025-02-06 20:04:34,882] Trial 39 pruned. Trial was pruned at iteration 162.\n"
     ]
    },
    {
     "name": "stdout",
     "output_type": "stream",
     "text": [
      "Trial 39 pruned. Trial was pruned at iteration 162.\n",
      "Trial 39 pruned. Trial was pruned at iteration 162.\n",
      "Trial 39 pruned. Trial was pruned at iteration 162.\n",
      "Trial 39 pruned. Trial was pruned at iteration 162.\n",
      "Trial 39 pruned. Trial was pruned at iteration 162.\n",
      "Trial 39 pruned. Trial was pruned at iteration 162.\n",
      "Trial 39 pruned. Trial was pruned at iteration 162.\n",
      "Trial 39 pruned. Trial was pruned at iteration 162.\n",
      "Trial 39 pruned. Trial was pruned at iteration 162.\n",
      "Trial 39 pruned. Trial was pruned at iteration 162.\n"
     ]
    },
    {
     "name": "stderr",
     "output_type": "stream",
     "text": [
      "[I 2025-02-06 20:04:35,698] Trial 40 pruned. Trial was pruned at iteration 0.\n"
     ]
    },
    {
     "name": "stdout",
     "output_type": "stream",
     "text": [
      "Trial 40 pruned. Trial was pruned at iteration 0.\n",
      "Trial 40 pruned. Trial was pruned at iteration 0.\n",
      "Trial 40 pruned. Trial was pruned at iteration 0.\n",
      "Trial 40 pruned. Trial was pruned at iteration 0.\n",
      "Trial 40 pruned. Trial was pruned at iteration 0.\n",
      "Trial 40 pruned. Trial was pruned at iteration 0.\n",
      "Trial 40 pruned. Trial was pruned at iteration 0.\n",
      "Trial 40 pruned. Trial was pruned at iteration 0.\n",
      "Trial 40 pruned. Trial was pruned at iteration 0.\n",
      "Trial 40 pruned. Trial was pruned at iteration 0.\n"
     ]
    },
    {
     "name": "stderr",
     "output_type": "stream",
     "text": [
      "[I 2025-02-06 20:05:18,647] Trial 41 finished with value: 38.86877562377834 and parameters: {'colsample_bytree': 0.3067921041317024, 'learning_rate': 0.04921486471573142, 'min_child_samples': 40, 'n_estimators': 11543, 'num_leaves': 65, 'reg_alpha': 0.5021276628053749, 'reg_lambda': 9.30773372460926e-06, 'subsample': 0.20939300264936297}. Best is trial 41 with value: 38.86877562377834.\n"
     ]
    },
    {
     "name": "stdout",
     "output_type": "stream",
     "text": [
      "Trial 41 finished with value: 38.86877562377834 and parameters: {'colsample_bytree': 0.3067921041317024, 'learning_rate': 0.04921486471573142, 'min_child_samples': 40, 'n_estimators': 11543, 'num_leaves': 65, 'reg_alpha': 0.5021276628053749, 'reg_lambda': 9.30773372460926e-06, 'subsample': 0.20939300264936297}. Best is trial 41 with value: 38.86877562377834.\n",
      "Trial 41 finished with value: 38.86877562377834 and parameters: {'colsample_bytree': 0.3067921041317024, 'learning_rate': 0.04921486471573142, 'min_child_samples': 40, 'n_estimators': 11543, 'num_leaves': 65, 'reg_alpha': 0.5021276628053749, 'reg_lambda': 9.30773372460926e-06, 'subsample': 0.20939300264936297}. Best is trial 41 with value: 38.86877562377834.\n",
      "Trial 41 finished with value: 38.86877562377834 and parameters: {'colsample_bytree': 0.3067921041317024, 'learning_rate': 0.04921486471573142, 'min_child_samples': 40, 'n_estimators': 11543, 'num_leaves': 65, 'reg_alpha': 0.5021276628053749, 'reg_lambda': 9.30773372460926e-06, 'subsample': 0.20939300264936297}. Best is trial 41 with value: 38.86877562377834.\n",
      "Trial 41 finished with value: 38.86877562377834 and parameters: {'colsample_bytree': 0.3067921041317024, 'learning_rate': 0.04921486471573142, 'min_child_samples': 40, 'n_estimators': 11543, 'num_leaves': 65, 'reg_alpha': 0.5021276628053749, 'reg_lambda': 9.30773372460926e-06, 'subsample': 0.20939300264936297}. Best is trial 41 with value: 38.86877562377834.\n",
      "Trial 41 finished with value: 38.86877562377834 and parameters: {'colsample_bytree': 0.3067921041317024, 'learning_rate': 0.04921486471573142, 'min_child_samples': 40, 'n_estimators': 11543, 'num_leaves': 65, 'reg_alpha': 0.5021276628053749, 'reg_lambda': 9.30773372460926e-06, 'subsample': 0.20939300264936297}. Best is trial 41 with value: 38.86877562377834.\n",
      "Trial 41 finished with value: 38.86877562377834 and parameters: {'colsample_bytree': 0.3067921041317024, 'learning_rate': 0.04921486471573142, 'min_child_samples': 40, 'n_estimators': 11543, 'num_leaves': 65, 'reg_alpha': 0.5021276628053749, 'reg_lambda': 9.30773372460926e-06, 'subsample': 0.20939300264936297}. Best is trial 41 with value: 38.86877562377834.\n",
      "Trial 41 finished with value: 38.86877562377834 and parameters: {'colsample_bytree': 0.3067921041317024, 'learning_rate': 0.04921486471573142, 'min_child_samples': 40, 'n_estimators': 11543, 'num_leaves': 65, 'reg_alpha': 0.5021276628053749, 'reg_lambda': 9.30773372460926e-06, 'subsample': 0.20939300264936297}. Best is trial 41 with value: 38.86877562377834.\n",
      "Trial 41 finished with value: 38.86877562377834 and parameters: {'colsample_bytree': 0.3067921041317024, 'learning_rate': 0.04921486471573142, 'min_child_samples': 40, 'n_estimators': 11543, 'num_leaves': 65, 'reg_alpha': 0.5021276628053749, 'reg_lambda': 9.30773372460926e-06, 'subsample': 0.20939300264936297}. Best is trial 41 with value: 38.86877562377834.\n",
      "Trial 41 finished with value: 38.86877562377834 and parameters: {'colsample_bytree': 0.3067921041317024, 'learning_rate': 0.04921486471573142, 'min_child_samples': 40, 'n_estimators': 11543, 'num_leaves': 65, 'reg_alpha': 0.5021276628053749, 'reg_lambda': 9.30773372460926e-06, 'subsample': 0.20939300264936297}. Best is trial 41 with value: 38.86877562377834.\n",
      "Trial 41 finished with value: 38.86877562377834 and parameters: {'colsample_bytree': 0.3067921041317024, 'learning_rate': 0.04921486471573142, 'min_child_samples': 40, 'n_estimators': 11543, 'num_leaves': 65, 'reg_alpha': 0.5021276628053749, 'reg_lambda': 9.30773372460926e-06, 'subsample': 0.20939300264936297}. Best is trial 41 with value: 38.86877562377834.\n"
     ]
    },
    {
     "name": "stderr",
     "output_type": "stream",
     "text": [
      "[I 2025-02-06 20:06:18,357] Trial 42 finished with value: 38.868867893542344 and parameters: {'colsample_bytree': 0.3072792705275417, 'learning_rate': 0.04970109969986796, 'min_child_samples': 40, 'n_estimators': 11571, 'num_leaves': 64, 'reg_alpha': 0.5192554922210004, 'reg_lambda': 7.544504783451035e-06, 'subsample': 0.2121758526288579}. Best is trial 41 with value: 38.86877562377834.\n"
     ]
    },
    {
     "name": "stdout",
     "output_type": "stream",
     "text": [
      "Trial 42 finished with value: 38.868867893542344 and parameters: {'colsample_bytree': 0.3072792705275417, 'learning_rate': 0.04970109969986796, 'min_child_samples': 40, 'n_estimators': 11571, 'num_leaves': 64, 'reg_alpha': 0.5192554922210004, 'reg_lambda': 7.544504783451035e-06, 'subsample': 0.2121758526288579}. Best is trial 41 with value: 38.86877562377834.\n",
      "Trial 42 finished with value: 38.868867893542344 and parameters: {'colsample_bytree': 0.3072792705275417, 'learning_rate': 0.04970109969986796, 'min_child_samples': 40, 'n_estimators': 11571, 'num_leaves': 64, 'reg_alpha': 0.5192554922210004, 'reg_lambda': 7.544504783451035e-06, 'subsample': 0.2121758526288579}. Best is trial 41 with value: 38.86877562377834.\n",
      "Trial 42 finished with value: 38.868867893542344 and parameters: {'colsample_bytree': 0.3072792705275417, 'learning_rate': 0.04970109969986796, 'min_child_samples': 40, 'n_estimators': 11571, 'num_leaves': 64, 'reg_alpha': 0.5192554922210004, 'reg_lambda': 7.544504783451035e-06, 'subsample': 0.2121758526288579}. Best is trial 41 with value: 38.86877562377834.\n",
      "Trial 42 finished with value: 38.868867893542344 and parameters: {'colsample_bytree': 0.3072792705275417, 'learning_rate': 0.04970109969986796, 'min_child_samples': 40, 'n_estimators': 11571, 'num_leaves': 64, 'reg_alpha': 0.5192554922210004, 'reg_lambda': 7.544504783451035e-06, 'subsample': 0.2121758526288579}. Best is trial 41 with value: 38.86877562377834.\n",
      "Trial 42 finished with value: 38.868867893542344 and parameters: {'colsample_bytree': 0.3072792705275417, 'learning_rate': 0.04970109969986796, 'min_child_samples': 40, 'n_estimators': 11571, 'num_leaves': 64, 'reg_alpha': 0.5192554922210004, 'reg_lambda': 7.544504783451035e-06, 'subsample': 0.2121758526288579}. Best is trial 41 with value: 38.86877562377834.\n",
      "Trial 42 finished with value: 38.868867893542344 and parameters: {'colsample_bytree': 0.3072792705275417, 'learning_rate': 0.04970109969986796, 'min_child_samples': 40, 'n_estimators': 11571, 'num_leaves': 64, 'reg_alpha': 0.5192554922210004, 'reg_lambda': 7.544504783451035e-06, 'subsample': 0.2121758526288579}. Best is trial 41 with value: 38.86877562377834.\n",
      "Trial 42 finished with value: 38.868867893542344 and parameters: {'colsample_bytree': 0.3072792705275417, 'learning_rate': 0.04970109969986796, 'min_child_samples': 40, 'n_estimators': 11571, 'num_leaves': 64, 'reg_alpha': 0.5192554922210004, 'reg_lambda': 7.544504783451035e-06, 'subsample': 0.2121758526288579}. Best is trial 41 with value: 38.86877562377834.\n",
      "Trial 42 finished with value: 38.868867893542344 and parameters: {'colsample_bytree': 0.3072792705275417, 'learning_rate': 0.04970109969986796, 'min_child_samples': 40, 'n_estimators': 11571, 'num_leaves': 64, 'reg_alpha': 0.5192554922210004, 'reg_lambda': 7.544504783451035e-06, 'subsample': 0.2121758526288579}. Best is trial 41 with value: 38.86877562377834.\n",
      "Trial 42 finished with value: 38.868867893542344 and parameters: {'colsample_bytree': 0.3072792705275417, 'learning_rate': 0.04970109969986796, 'min_child_samples': 40, 'n_estimators': 11571, 'num_leaves': 64, 'reg_alpha': 0.5192554922210004, 'reg_lambda': 7.544504783451035e-06, 'subsample': 0.2121758526288579}. Best is trial 41 with value: 38.86877562377834.\n",
      "Trial 42 finished with value: 38.868867893542344 and parameters: {'colsample_bytree': 0.3072792705275417, 'learning_rate': 0.04970109969986796, 'min_child_samples': 40, 'n_estimators': 11571, 'num_leaves': 64, 'reg_alpha': 0.5192554922210004, 'reg_lambda': 7.544504783451035e-06, 'subsample': 0.2121758526288579}. Best is trial 41 with value: 38.86877562377834.\n"
     ]
    },
    {
     "name": "stderr",
     "output_type": "stream",
     "text": [
      "[I 2025-02-06 20:06:20,083] Trial 43 pruned. Trial was pruned at iteration 2.\n"
     ]
    },
    {
     "name": "stdout",
     "output_type": "stream",
     "text": [
      "Trial 43 pruned. Trial was pruned at iteration 2.\n",
      "Trial 43 pruned. Trial was pruned at iteration 2.\n",
      "Trial 43 pruned. Trial was pruned at iteration 2.\n",
      "Trial 43 pruned. Trial was pruned at iteration 2.\n",
      "Trial 43 pruned. Trial was pruned at iteration 2.\n",
      "Trial 43 pruned. Trial was pruned at iteration 2.\n",
      "Trial 43 pruned. Trial was pruned at iteration 2.\n",
      "Trial 43 pruned. Trial was pruned at iteration 2.\n",
      "Trial 43 pruned. Trial was pruned at iteration 2.\n",
      "Trial 43 pruned. Trial was pruned at iteration 2.\n"
     ]
    },
    {
     "name": "stderr",
     "output_type": "stream",
     "text": [
      "[I 2025-02-06 20:07:08,097] Trial 44 finished with value: 38.86912911272556 and parameters: {'colsample_bytree': 0.31269899985238375, 'learning_rate': 0.046436192058138405, 'min_child_samples': 42, 'n_estimators': 11300, 'num_leaves': 101, 'reg_alpha': 0.5011632958130995, 'reg_lambda': 8.62931737423066e-06, 'subsample': 0.2212334142566487}. Best is trial 41 with value: 38.86877562377834.\n"
     ]
    },
    {
     "name": "stdout",
     "output_type": "stream",
     "text": [
      "Trial 44 finished with value: 38.86912911272556 and parameters: {'colsample_bytree': 0.31269899985238375, 'learning_rate': 0.046436192058138405, 'min_child_samples': 42, 'n_estimators': 11300, 'num_leaves': 101, 'reg_alpha': 0.5011632958130995, 'reg_lambda': 8.62931737423066e-06, 'subsample': 0.2212334142566487}. Best is trial 41 with value: 38.86877562377834.\n",
      "Trial 44 finished with value: 38.86912911272556 and parameters: {'colsample_bytree': 0.31269899985238375, 'learning_rate': 0.046436192058138405, 'min_child_samples': 42, 'n_estimators': 11300, 'num_leaves': 101, 'reg_alpha': 0.5011632958130995, 'reg_lambda': 8.62931737423066e-06, 'subsample': 0.2212334142566487}. Best is trial 41 with value: 38.86877562377834.\n",
      "Trial 44 finished with value: 38.86912911272556 and parameters: {'colsample_bytree': 0.31269899985238375, 'learning_rate': 0.046436192058138405, 'min_child_samples': 42, 'n_estimators': 11300, 'num_leaves': 101, 'reg_alpha': 0.5011632958130995, 'reg_lambda': 8.62931737423066e-06, 'subsample': 0.2212334142566487}. Best is trial 41 with value: 38.86877562377834.\n",
      "Trial 44 finished with value: 38.86912911272556 and parameters: {'colsample_bytree': 0.31269899985238375, 'learning_rate': 0.046436192058138405, 'min_child_samples': 42, 'n_estimators': 11300, 'num_leaves': 101, 'reg_alpha': 0.5011632958130995, 'reg_lambda': 8.62931737423066e-06, 'subsample': 0.2212334142566487}. Best is trial 41 with value: 38.86877562377834.\n",
      "Trial 44 finished with value: 38.86912911272556 and parameters: {'colsample_bytree': 0.31269899985238375, 'learning_rate': 0.046436192058138405, 'min_child_samples': 42, 'n_estimators': 11300, 'num_leaves': 101, 'reg_alpha': 0.5011632958130995, 'reg_lambda': 8.62931737423066e-06, 'subsample': 0.2212334142566487}. Best is trial 41 with value: 38.86877562377834.\n",
      "Trial 44 finished with value: 38.86912911272556 and parameters: {'colsample_bytree': 0.31269899985238375, 'learning_rate': 0.046436192058138405, 'min_child_samples': 42, 'n_estimators': 11300, 'num_leaves': 101, 'reg_alpha': 0.5011632958130995, 'reg_lambda': 8.62931737423066e-06, 'subsample': 0.2212334142566487}. Best is trial 41 with value: 38.86877562377834.\n",
      "Trial 44 finished with value: 38.86912911272556 and parameters: {'colsample_bytree': 0.31269899985238375, 'learning_rate': 0.046436192058138405, 'min_child_samples': 42, 'n_estimators': 11300, 'num_leaves': 101, 'reg_alpha': 0.5011632958130995, 'reg_lambda': 8.62931737423066e-06, 'subsample': 0.2212334142566487}. Best is trial 41 with value: 38.86877562377834.\n",
      "Trial 44 finished with value: 38.86912911272556 and parameters: {'colsample_bytree': 0.31269899985238375, 'learning_rate': 0.046436192058138405, 'min_child_samples': 42, 'n_estimators': 11300, 'num_leaves': 101, 'reg_alpha': 0.5011632958130995, 'reg_lambda': 8.62931737423066e-06, 'subsample': 0.2212334142566487}. Best is trial 41 with value: 38.86877562377834.\n",
      "Trial 44 finished with value: 38.86912911272556 and parameters: {'colsample_bytree': 0.31269899985238375, 'learning_rate': 0.046436192058138405, 'min_child_samples': 42, 'n_estimators': 11300, 'num_leaves': 101, 'reg_alpha': 0.5011632958130995, 'reg_lambda': 8.62931737423066e-06, 'subsample': 0.2212334142566487}. Best is trial 41 with value: 38.86877562377834.\n",
      "Trial 44 finished with value: 38.86912911272556 and parameters: {'colsample_bytree': 0.31269899985238375, 'learning_rate': 0.046436192058138405, 'min_child_samples': 42, 'n_estimators': 11300, 'num_leaves': 101, 'reg_alpha': 0.5011632958130995, 'reg_lambda': 8.62931737423066e-06, 'subsample': 0.2212334142566487}. Best is trial 41 with value: 38.86877562377834.\n"
     ]
    },
    {
     "name": "stderr",
     "output_type": "stream",
     "text": [
      "[I 2025-02-06 20:07:09,376] Trial 45 pruned. Trial was pruned at iteration 0.\n"
     ]
    },
    {
     "name": "stdout",
     "output_type": "stream",
     "text": [
      "Trial 45 pruned. Trial was pruned at iteration 0.\n",
      "Trial 45 pruned. Trial was pruned at iteration 0.\n",
      "Trial 45 pruned. Trial was pruned at iteration 0.\n",
      "Trial 45 pruned. Trial was pruned at iteration 0.\n",
      "Trial 45 pruned. Trial was pruned at iteration 0.\n",
      "Trial 45 pruned. Trial was pruned at iteration 0.\n",
      "Trial 45 pruned. Trial was pruned at iteration 0.\n",
      "Trial 45 pruned. Trial was pruned at iteration 0.\n",
      "Trial 45 pruned. Trial was pruned at iteration 0.\n",
      "Trial 45 pruned. Trial was pruned at iteration 0.\n"
     ]
    },
    {
     "name": "stderr",
     "output_type": "stream",
     "text": [
      "[I 2025-02-06 20:07:10,630] Trial 46 pruned. Trial was pruned at iteration 0.\n"
     ]
    },
    {
     "name": "stdout",
     "output_type": "stream",
     "text": [
      "Trial 46 pruned. Trial was pruned at iteration 0.\n",
      "Trial 46 pruned. Trial was pruned at iteration 0.\n",
      "Trial 46 pruned. Trial was pruned at iteration 0.\n",
      "Trial 46 pruned. Trial was pruned at iteration 0.\n",
      "Trial 46 pruned. Trial was pruned at iteration 0.\n",
      "Trial 46 pruned. Trial was pruned at iteration 0.\n",
      "Trial 46 pruned. Trial was pruned at iteration 0.\n",
      "Trial 46 pruned. Trial was pruned at iteration 0.\n",
      "Trial 46 pruned. Trial was pruned at iteration 0.\n",
      "Trial 46 pruned. Trial was pruned at iteration 0.\n"
     ]
    },
    {
     "name": "stderr",
     "output_type": "stream",
     "text": [
      "[I 2025-02-06 20:07:49,212] Trial 47 pruned. Trial was pruned at iteration 185.\n"
     ]
    },
    {
     "name": "stdout",
     "output_type": "stream",
     "text": [
      "Trial 47 pruned. Trial was pruned at iteration 185.\n",
      "Trial 47 pruned. Trial was pruned at iteration 185.\n",
      "Trial 47 pruned. Trial was pruned at iteration 185.\n",
      "Trial 47 pruned. Trial was pruned at iteration 185.\n",
      "Trial 47 pruned. Trial was pruned at iteration 185.\n",
      "Trial 47 pruned. Trial was pruned at iteration 185.\n",
      "Trial 47 pruned. Trial was pruned at iteration 185.\n",
      "Trial 47 pruned. Trial was pruned at iteration 185.\n",
      "Trial 47 pruned. Trial was pruned at iteration 185.\n",
      "Trial 47 pruned. Trial was pruned at iteration 185.\n"
     ]
    },
    {
     "name": "stderr",
     "output_type": "stream",
     "text": [
      "[I 2025-02-06 20:07:50,057] Trial 48 pruned. Trial was pruned at iteration 0.\n"
     ]
    },
    {
     "name": "stdout",
     "output_type": "stream",
     "text": [
      "Trial 48 pruned. Trial was pruned at iteration 0.\n",
      "Trial 48 pruned. Trial was pruned at iteration 0.\n",
      "Trial 48 pruned. Trial was pruned at iteration 0.\n",
      "Trial 48 pruned. Trial was pruned at iteration 0.\n",
      "Trial 48 pruned. Trial was pruned at iteration 0.\n",
      "Trial 48 pruned. Trial was pruned at iteration 0.\n",
      "Trial 48 pruned. Trial was pruned at iteration 0.\n",
      "Trial 48 pruned. Trial was pruned at iteration 0.\n",
      "Trial 48 pruned. Trial was pruned at iteration 0.\n",
      "Trial 48 pruned. Trial was pruned at iteration 0.\n"
     ]
    },
    {
     "name": "stderr",
     "output_type": "stream",
     "text": [
      "[I 2025-02-06 20:07:50,964] Trial 49 pruned. Trial was pruned at iteration 0.\n"
     ]
    },
    {
     "name": "stdout",
     "output_type": "stream",
     "text": [
      "Trial 49 pruned. Trial was pruned at iteration 0.\n",
      "Trial 49 pruned. Trial was pruned at iteration 0.\n",
      "Trial 49 pruned. Trial was pruned at iteration 0.\n",
      "Trial 49 pruned. Trial was pruned at iteration 0.\n",
      "Trial 49 pruned. Trial was pruned at iteration 0.\n",
      "Trial 49 pruned. Trial was pruned at iteration 0.\n",
      "Trial 49 pruned. Trial was pruned at iteration 0.\n",
      "Trial 49 pruned. Trial was pruned at iteration 0.\n",
      "Trial 49 pruned. Trial was pruned at iteration 0.\n",
      "Trial 49 pruned. Trial was pruned at iteration 0.\n"
     ]
    }
   ],
   "source": [
    "def objective(trial):    \n",
    "    # Define the hyperparameter search space\n",
    "    param = {\n",
    "        'objective': 'regression',\n",
    "        'metric': 'rmse',\n",
    "        'colsample_bytree': trial.suggest_float('colsample_bytree', 0.25, .35),\n",
    "        'learning_rate': trial.suggest_loguniform('learning_rate', .01, 0.05),\n",
    "        'max_bin': 15,\n",
    "        # 'max_bin': trial.suggest_int('max_bin', 100000, 130000),\n",
    "        'max_depth': 10,\n",
    "        'min_child_samples': trial.suggest_int('min_child_samples', 40, 80),\n",
    "        'min_split_gain': 0.5,\n",
    "        'n_estimators': trial.suggest_int('n_estimators', 9000, 15000),\n",
    "        'num_leaves': trial.suggest_int('num_leaves', 64, 256),\n",
    "        'reg_alpha': trial.suggest_loguniform('reg_alpha', 0.5, 2.0),\n",
    "        'reg_lambda': trial.suggest_loguniform('reg_lambda', 0.000001, 0.00001),\n",
    "        'subsample': trial.suggest_float('subsample', 0.2, 0.25),\n",
    "        'random_state': 42,\n",
    "        'early_stopping_rounds': 50,\n",
    "        'verbosity': -1,\n",
    "        'device': 'gpu',\n",
    "        'gpu_use_dp': False,\n",
    "    }\n",
    "    \n",
    "    train_data = lgb.Dataset(X_train, label=y_train)\n",
    "    valid_data = lgb.Dataset(X_valid, label=y_valid, reference=train_data)\n",
    "    \n",
    "    # Initialize the model with these parameters\n",
    "    model = lgb.train(\n",
    "        params=param,\n",
    "        train_set=train_data,\n",
    "        num_boost_round=700,\n",
    "        valid_sets=[train_data, valid_data],\n",
    "        valid_names=['train_0', 'valid_0'],\n",
    "        callbacks=[\n",
    "            LightGBMPruningCallback(trial, \"rmse\", valid_name=\"valid_0\"),\n",
    "            lgb.log_evaluation(-1)                   # Suppress training logs\n",
    "        ]\n",
    "    )\n",
    "    y_pred = model.predict(X_valid, num_iteration=model.best_iteration)\n",
    "    rmse = np.sqrt(mean_squared_error(y_valid, y_pred))    \n",
    "    return rmse\n",
    "\n",
    "optuna.logging.get_logger(\"optuna\").addHandler(logging.StreamHandler(sys.stdout))\n",
    "study_name = datetime.now().strftime(\"%Y-%m-%d_%H-%M\")\n",
    "storage_name = f\"sqlite:///db.sqlite3\"\n",
    "# storage_name = f\"sqlite:///{os.path.join(optuna_dir, study_name)}.db\"\n",
    "\n",
    "study = optuna.create_study(study_name=study_name, storage=storage_name, direction='minimize')\n",
    "study.optimize(objective, n_trials=50)"
   ]
  },
  {
   "cell_type": "code",
   "execution_count": 17,
   "metadata": {},
   "outputs": [
    {
     "name": "stderr",
     "output_type": "stream",
     "text": [
      "[I 2025-02-06 20:09:45,765] A new study created in RDB with name: 2025-02-06_20-09\n"
     ]
    },
    {
     "name": "stdout",
     "output_type": "stream",
     "text": [
      "A new study created in RDB with name: 2025-02-06_20-09\n",
      "A new study created in RDB with name: 2025-02-06_20-09\n",
      "A new study created in RDB with name: 2025-02-06_20-09\n",
      "A new study created in RDB with name: 2025-02-06_20-09\n",
      "A new study created in RDB with name: 2025-02-06_20-09\n",
      "A new study created in RDB with name: 2025-02-06_20-09\n",
      "A new study created in RDB with name: 2025-02-06_20-09\n",
      "A new study created in RDB with name: 2025-02-06_20-09\n",
      "A new study created in RDB with name: 2025-02-06_20-09\n",
      "A new study created in RDB with name: 2025-02-06_20-09\n",
      "A new study created in RDB with name: 2025-02-06_20-09\n"
     ]
    },
    {
     "name": "stderr",
     "output_type": "stream",
     "text": [
      "[I 2025-02-06 20:11:16,973] Trial 0 finished with value: 38.8727553909701 and parameters: {'colsample_bytree': 0.26169432550590455, 'learning_rate': 0.03836251831468291, 'min_child_samples': 56, 'n_estimators': 11536, 'num_leaves': 123, 'reg_alpha': 0.5310662766487285, 'reg_lambda': 6.414703152252702e-06, 'subsample': 0.2408422158833617}. Best is trial 0 with value: 38.8727553909701.\n"
     ]
    },
    {
     "name": "stdout",
     "output_type": "stream",
     "text": [
      "Trial 0 finished with value: 38.8727553909701 and parameters: {'colsample_bytree': 0.26169432550590455, 'learning_rate': 0.03836251831468291, 'min_child_samples': 56, 'n_estimators': 11536, 'num_leaves': 123, 'reg_alpha': 0.5310662766487285, 'reg_lambda': 6.414703152252702e-06, 'subsample': 0.2408422158833617}. Best is trial 0 with value: 38.8727553909701.\n",
      "Trial 0 finished with value: 38.8727553909701 and parameters: {'colsample_bytree': 0.26169432550590455, 'learning_rate': 0.03836251831468291, 'min_child_samples': 56, 'n_estimators': 11536, 'num_leaves': 123, 'reg_alpha': 0.5310662766487285, 'reg_lambda': 6.414703152252702e-06, 'subsample': 0.2408422158833617}. Best is trial 0 with value: 38.8727553909701.\n",
      "Trial 0 finished with value: 38.8727553909701 and parameters: {'colsample_bytree': 0.26169432550590455, 'learning_rate': 0.03836251831468291, 'min_child_samples': 56, 'n_estimators': 11536, 'num_leaves': 123, 'reg_alpha': 0.5310662766487285, 'reg_lambda': 6.414703152252702e-06, 'subsample': 0.2408422158833617}. Best is trial 0 with value: 38.8727553909701.\n",
      "Trial 0 finished with value: 38.8727553909701 and parameters: {'colsample_bytree': 0.26169432550590455, 'learning_rate': 0.03836251831468291, 'min_child_samples': 56, 'n_estimators': 11536, 'num_leaves': 123, 'reg_alpha': 0.5310662766487285, 'reg_lambda': 6.414703152252702e-06, 'subsample': 0.2408422158833617}. Best is trial 0 with value: 38.8727553909701.\n",
      "Trial 0 finished with value: 38.8727553909701 and parameters: {'colsample_bytree': 0.26169432550590455, 'learning_rate': 0.03836251831468291, 'min_child_samples': 56, 'n_estimators': 11536, 'num_leaves': 123, 'reg_alpha': 0.5310662766487285, 'reg_lambda': 6.414703152252702e-06, 'subsample': 0.2408422158833617}. Best is trial 0 with value: 38.8727553909701.\n",
      "Trial 0 finished with value: 38.8727553909701 and parameters: {'colsample_bytree': 0.26169432550590455, 'learning_rate': 0.03836251831468291, 'min_child_samples': 56, 'n_estimators': 11536, 'num_leaves': 123, 'reg_alpha': 0.5310662766487285, 'reg_lambda': 6.414703152252702e-06, 'subsample': 0.2408422158833617}. Best is trial 0 with value: 38.8727553909701.\n",
      "Trial 0 finished with value: 38.8727553909701 and parameters: {'colsample_bytree': 0.26169432550590455, 'learning_rate': 0.03836251831468291, 'min_child_samples': 56, 'n_estimators': 11536, 'num_leaves': 123, 'reg_alpha': 0.5310662766487285, 'reg_lambda': 6.414703152252702e-06, 'subsample': 0.2408422158833617}. Best is trial 0 with value: 38.8727553909701.\n",
      "Trial 0 finished with value: 38.8727553909701 and parameters: {'colsample_bytree': 0.26169432550590455, 'learning_rate': 0.03836251831468291, 'min_child_samples': 56, 'n_estimators': 11536, 'num_leaves': 123, 'reg_alpha': 0.5310662766487285, 'reg_lambda': 6.414703152252702e-06, 'subsample': 0.2408422158833617}. Best is trial 0 with value: 38.8727553909701.\n",
      "Trial 0 finished with value: 38.8727553909701 and parameters: {'colsample_bytree': 0.26169432550590455, 'learning_rate': 0.03836251831468291, 'min_child_samples': 56, 'n_estimators': 11536, 'num_leaves': 123, 'reg_alpha': 0.5310662766487285, 'reg_lambda': 6.414703152252702e-06, 'subsample': 0.2408422158833617}. Best is trial 0 with value: 38.8727553909701.\n",
      "Trial 0 finished with value: 38.8727553909701 and parameters: {'colsample_bytree': 0.26169432550590455, 'learning_rate': 0.03836251831468291, 'min_child_samples': 56, 'n_estimators': 11536, 'num_leaves': 123, 'reg_alpha': 0.5310662766487285, 'reg_lambda': 6.414703152252702e-06, 'subsample': 0.2408422158833617}. Best is trial 0 with value: 38.8727553909701.\n",
      "Trial 0 finished with value: 38.8727553909701 and parameters: {'colsample_bytree': 0.26169432550590455, 'learning_rate': 0.03836251831468291, 'min_child_samples': 56, 'n_estimators': 11536, 'num_leaves': 123, 'reg_alpha': 0.5310662766487285, 'reg_lambda': 6.414703152252702e-06, 'subsample': 0.2408422158833617}. Best is trial 0 with value: 38.8727553909701.\n"
     ]
    },
    {
     "name": "stderr",
     "output_type": "stream",
     "text": [
      "[I 2025-02-06 20:14:01,331] Trial 1 finished with value: 38.86924615364433 and parameters: {'colsample_bytree': 0.30886145514800617, 'learning_rate': 0.015023545675722234, 'min_child_samples': 42, 'n_estimators': 13823, 'num_leaves': 96, 'reg_alpha': 0.5087318871120046, 'reg_lambda': 1.96668425514132e-06, 'subsample': 0.21582668311188474}. Best is trial 1 with value: 38.86924615364433.\n"
     ]
    },
    {
     "name": "stdout",
     "output_type": "stream",
     "text": [
      "Trial 1 finished with value: 38.86924615364433 and parameters: {'colsample_bytree': 0.30886145514800617, 'learning_rate': 0.015023545675722234, 'min_child_samples': 42, 'n_estimators': 13823, 'num_leaves': 96, 'reg_alpha': 0.5087318871120046, 'reg_lambda': 1.96668425514132e-06, 'subsample': 0.21582668311188474}. Best is trial 1 with value: 38.86924615364433.\n",
      "Trial 1 finished with value: 38.86924615364433 and parameters: {'colsample_bytree': 0.30886145514800617, 'learning_rate': 0.015023545675722234, 'min_child_samples': 42, 'n_estimators': 13823, 'num_leaves': 96, 'reg_alpha': 0.5087318871120046, 'reg_lambda': 1.96668425514132e-06, 'subsample': 0.21582668311188474}. Best is trial 1 with value: 38.86924615364433.\n",
      "Trial 1 finished with value: 38.86924615364433 and parameters: {'colsample_bytree': 0.30886145514800617, 'learning_rate': 0.015023545675722234, 'min_child_samples': 42, 'n_estimators': 13823, 'num_leaves': 96, 'reg_alpha': 0.5087318871120046, 'reg_lambda': 1.96668425514132e-06, 'subsample': 0.21582668311188474}. Best is trial 1 with value: 38.86924615364433.\n",
      "Trial 1 finished with value: 38.86924615364433 and parameters: {'colsample_bytree': 0.30886145514800617, 'learning_rate': 0.015023545675722234, 'min_child_samples': 42, 'n_estimators': 13823, 'num_leaves': 96, 'reg_alpha': 0.5087318871120046, 'reg_lambda': 1.96668425514132e-06, 'subsample': 0.21582668311188474}. Best is trial 1 with value: 38.86924615364433.\n",
      "Trial 1 finished with value: 38.86924615364433 and parameters: {'colsample_bytree': 0.30886145514800617, 'learning_rate': 0.015023545675722234, 'min_child_samples': 42, 'n_estimators': 13823, 'num_leaves': 96, 'reg_alpha': 0.5087318871120046, 'reg_lambda': 1.96668425514132e-06, 'subsample': 0.21582668311188474}. Best is trial 1 with value: 38.86924615364433.\n",
      "Trial 1 finished with value: 38.86924615364433 and parameters: {'colsample_bytree': 0.30886145514800617, 'learning_rate': 0.015023545675722234, 'min_child_samples': 42, 'n_estimators': 13823, 'num_leaves': 96, 'reg_alpha': 0.5087318871120046, 'reg_lambda': 1.96668425514132e-06, 'subsample': 0.21582668311188474}. Best is trial 1 with value: 38.86924615364433.\n",
      "Trial 1 finished with value: 38.86924615364433 and parameters: {'colsample_bytree': 0.30886145514800617, 'learning_rate': 0.015023545675722234, 'min_child_samples': 42, 'n_estimators': 13823, 'num_leaves': 96, 'reg_alpha': 0.5087318871120046, 'reg_lambda': 1.96668425514132e-06, 'subsample': 0.21582668311188474}. Best is trial 1 with value: 38.86924615364433.\n",
      "Trial 1 finished with value: 38.86924615364433 and parameters: {'colsample_bytree': 0.30886145514800617, 'learning_rate': 0.015023545675722234, 'min_child_samples': 42, 'n_estimators': 13823, 'num_leaves': 96, 'reg_alpha': 0.5087318871120046, 'reg_lambda': 1.96668425514132e-06, 'subsample': 0.21582668311188474}. Best is trial 1 with value: 38.86924615364433.\n",
      "Trial 1 finished with value: 38.86924615364433 and parameters: {'colsample_bytree': 0.30886145514800617, 'learning_rate': 0.015023545675722234, 'min_child_samples': 42, 'n_estimators': 13823, 'num_leaves': 96, 'reg_alpha': 0.5087318871120046, 'reg_lambda': 1.96668425514132e-06, 'subsample': 0.21582668311188474}. Best is trial 1 with value: 38.86924615364433.\n",
      "Trial 1 finished with value: 38.86924615364433 and parameters: {'colsample_bytree': 0.30886145514800617, 'learning_rate': 0.015023545675722234, 'min_child_samples': 42, 'n_estimators': 13823, 'num_leaves': 96, 'reg_alpha': 0.5087318871120046, 'reg_lambda': 1.96668425514132e-06, 'subsample': 0.21582668311188474}. Best is trial 1 with value: 38.86924615364433.\n",
      "Trial 1 finished with value: 38.86924615364433 and parameters: {'colsample_bytree': 0.30886145514800617, 'learning_rate': 0.015023545675722234, 'min_child_samples': 42, 'n_estimators': 13823, 'num_leaves': 96, 'reg_alpha': 0.5087318871120046, 'reg_lambda': 1.96668425514132e-06, 'subsample': 0.21582668311188474}. Best is trial 1 with value: 38.86924615364433.\n"
     ]
    },
    {
     "name": "stderr",
     "output_type": "stream",
     "text": [
      "[I 2025-02-06 20:16:30,724] Trial 2 finished with value: 38.86881943273114 and parameters: {'colsample_bytree': 0.3140224009975586, 'learning_rate': 0.015082458551834202, 'min_child_samples': 73, 'n_estimators': 10007, 'num_leaves': 67, 'reg_alpha': 1.43666021587464, 'reg_lambda': 7.989051625676764e-06, 'subsample': 0.20932733616410693}. Best is trial 2 with value: 38.86881943273114.\n"
     ]
    },
    {
     "name": "stdout",
     "output_type": "stream",
     "text": [
      "Trial 2 finished with value: 38.86881943273114 and parameters: {'colsample_bytree': 0.3140224009975586, 'learning_rate': 0.015082458551834202, 'min_child_samples': 73, 'n_estimators': 10007, 'num_leaves': 67, 'reg_alpha': 1.43666021587464, 'reg_lambda': 7.989051625676764e-06, 'subsample': 0.20932733616410693}. Best is trial 2 with value: 38.86881943273114.\n",
      "Trial 2 finished with value: 38.86881943273114 and parameters: {'colsample_bytree': 0.3140224009975586, 'learning_rate': 0.015082458551834202, 'min_child_samples': 73, 'n_estimators': 10007, 'num_leaves': 67, 'reg_alpha': 1.43666021587464, 'reg_lambda': 7.989051625676764e-06, 'subsample': 0.20932733616410693}. Best is trial 2 with value: 38.86881943273114.\n",
      "Trial 2 finished with value: 38.86881943273114 and parameters: {'colsample_bytree': 0.3140224009975586, 'learning_rate': 0.015082458551834202, 'min_child_samples': 73, 'n_estimators': 10007, 'num_leaves': 67, 'reg_alpha': 1.43666021587464, 'reg_lambda': 7.989051625676764e-06, 'subsample': 0.20932733616410693}. Best is trial 2 with value: 38.86881943273114.\n",
      "Trial 2 finished with value: 38.86881943273114 and parameters: {'colsample_bytree': 0.3140224009975586, 'learning_rate': 0.015082458551834202, 'min_child_samples': 73, 'n_estimators': 10007, 'num_leaves': 67, 'reg_alpha': 1.43666021587464, 'reg_lambda': 7.989051625676764e-06, 'subsample': 0.20932733616410693}. Best is trial 2 with value: 38.86881943273114.\n",
      "Trial 2 finished with value: 38.86881943273114 and parameters: {'colsample_bytree': 0.3140224009975586, 'learning_rate': 0.015082458551834202, 'min_child_samples': 73, 'n_estimators': 10007, 'num_leaves': 67, 'reg_alpha': 1.43666021587464, 'reg_lambda': 7.989051625676764e-06, 'subsample': 0.20932733616410693}. Best is trial 2 with value: 38.86881943273114.\n",
      "Trial 2 finished with value: 38.86881943273114 and parameters: {'colsample_bytree': 0.3140224009975586, 'learning_rate': 0.015082458551834202, 'min_child_samples': 73, 'n_estimators': 10007, 'num_leaves': 67, 'reg_alpha': 1.43666021587464, 'reg_lambda': 7.989051625676764e-06, 'subsample': 0.20932733616410693}. Best is trial 2 with value: 38.86881943273114.\n",
      "Trial 2 finished with value: 38.86881943273114 and parameters: {'colsample_bytree': 0.3140224009975586, 'learning_rate': 0.015082458551834202, 'min_child_samples': 73, 'n_estimators': 10007, 'num_leaves': 67, 'reg_alpha': 1.43666021587464, 'reg_lambda': 7.989051625676764e-06, 'subsample': 0.20932733616410693}. Best is trial 2 with value: 38.86881943273114.\n",
      "Trial 2 finished with value: 38.86881943273114 and parameters: {'colsample_bytree': 0.3140224009975586, 'learning_rate': 0.015082458551834202, 'min_child_samples': 73, 'n_estimators': 10007, 'num_leaves': 67, 'reg_alpha': 1.43666021587464, 'reg_lambda': 7.989051625676764e-06, 'subsample': 0.20932733616410693}. Best is trial 2 with value: 38.86881943273114.\n",
      "Trial 2 finished with value: 38.86881943273114 and parameters: {'colsample_bytree': 0.3140224009975586, 'learning_rate': 0.015082458551834202, 'min_child_samples': 73, 'n_estimators': 10007, 'num_leaves': 67, 'reg_alpha': 1.43666021587464, 'reg_lambda': 7.989051625676764e-06, 'subsample': 0.20932733616410693}. Best is trial 2 with value: 38.86881943273114.\n",
      "Trial 2 finished with value: 38.86881943273114 and parameters: {'colsample_bytree': 0.3140224009975586, 'learning_rate': 0.015082458551834202, 'min_child_samples': 73, 'n_estimators': 10007, 'num_leaves': 67, 'reg_alpha': 1.43666021587464, 'reg_lambda': 7.989051625676764e-06, 'subsample': 0.20932733616410693}. Best is trial 2 with value: 38.86881943273114.\n",
      "Trial 2 finished with value: 38.86881943273114 and parameters: {'colsample_bytree': 0.3140224009975586, 'learning_rate': 0.015082458551834202, 'min_child_samples': 73, 'n_estimators': 10007, 'num_leaves': 67, 'reg_alpha': 1.43666021587464, 'reg_lambda': 7.989051625676764e-06, 'subsample': 0.20932733616410693}. Best is trial 2 with value: 38.86881943273114.\n"
     ]
    },
    {
     "name": "stderr",
     "output_type": "stream",
     "text": [
      "[I 2025-02-06 20:17:50,209] Trial 3 finished with value: 38.86984253845768 and parameters: {'colsample_bytree': 0.3078585765400722, 'learning_rate': 0.02582802380736709, 'min_child_samples': 63, 'n_estimators': 10085, 'num_leaves': 135, 'reg_alpha': 0.5132758794615991, 'reg_lambda': 9.359365997229924e-06, 'subsample': 0.20967073208790699}. Best is trial 2 with value: 38.86881943273114.\n"
     ]
    },
    {
     "name": "stdout",
     "output_type": "stream",
     "text": [
      "Trial 3 finished with value: 38.86984253845768 and parameters: {'colsample_bytree': 0.3078585765400722, 'learning_rate': 0.02582802380736709, 'min_child_samples': 63, 'n_estimators': 10085, 'num_leaves': 135, 'reg_alpha': 0.5132758794615991, 'reg_lambda': 9.359365997229924e-06, 'subsample': 0.20967073208790699}. Best is trial 2 with value: 38.86881943273114.\n",
      "Trial 3 finished with value: 38.86984253845768 and parameters: {'colsample_bytree': 0.3078585765400722, 'learning_rate': 0.02582802380736709, 'min_child_samples': 63, 'n_estimators': 10085, 'num_leaves': 135, 'reg_alpha': 0.5132758794615991, 'reg_lambda': 9.359365997229924e-06, 'subsample': 0.20967073208790699}. Best is trial 2 with value: 38.86881943273114.\n",
      "Trial 3 finished with value: 38.86984253845768 and parameters: {'colsample_bytree': 0.3078585765400722, 'learning_rate': 0.02582802380736709, 'min_child_samples': 63, 'n_estimators': 10085, 'num_leaves': 135, 'reg_alpha': 0.5132758794615991, 'reg_lambda': 9.359365997229924e-06, 'subsample': 0.20967073208790699}. Best is trial 2 with value: 38.86881943273114.\n",
      "Trial 3 finished with value: 38.86984253845768 and parameters: {'colsample_bytree': 0.3078585765400722, 'learning_rate': 0.02582802380736709, 'min_child_samples': 63, 'n_estimators': 10085, 'num_leaves': 135, 'reg_alpha': 0.5132758794615991, 'reg_lambda': 9.359365997229924e-06, 'subsample': 0.20967073208790699}. Best is trial 2 with value: 38.86881943273114.\n",
      "Trial 3 finished with value: 38.86984253845768 and parameters: {'colsample_bytree': 0.3078585765400722, 'learning_rate': 0.02582802380736709, 'min_child_samples': 63, 'n_estimators': 10085, 'num_leaves': 135, 'reg_alpha': 0.5132758794615991, 'reg_lambda': 9.359365997229924e-06, 'subsample': 0.20967073208790699}. Best is trial 2 with value: 38.86881943273114.\n",
      "Trial 3 finished with value: 38.86984253845768 and parameters: {'colsample_bytree': 0.3078585765400722, 'learning_rate': 0.02582802380736709, 'min_child_samples': 63, 'n_estimators': 10085, 'num_leaves': 135, 'reg_alpha': 0.5132758794615991, 'reg_lambda': 9.359365997229924e-06, 'subsample': 0.20967073208790699}. Best is trial 2 with value: 38.86881943273114.\n",
      "Trial 3 finished with value: 38.86984253845768 and parameters: {'colsample_bytree': 0.3078585765400722, 'learning_rate': 0.02582802380736709, 'min_child_samples': 63, 'n_estimators': 10085, 'num_leaves': 135, 'reg_alpha': 0.5132758794615991, 'reg_lambda': 9.359365997229924e-06, 'subsample': 0.20967073208790699}. Best is trial 2 with value: 38.86881943273114.\n",
      "Trial 3 finished with value: 38.86984253845768 and parameters: {'colsample_bytree': 0.3078585765400722, 'learning_rate': 0.02582802380736709, 'min_child_samples': 63, 'n_estimators': 10085, 'num_leaves': 135, 'reg_alpha': 0.5132758794615991, 'reg_lambda': 9.359365997229924e-06, 'subsample': 0.20967073208790699}. Best is trial 2 with value: 38.86881943273114.\n",
      "Trial 3 finished with value: 38.86984253845768 and parameters: {'colsample_bytree': 0.3078585765400722, 'learning_rate': 0.02582802380736709, 'min_child_samples': 63, 'n_estimators': 10085, 'num_leaves': 135, 'reg_alpha': 0.5132758794615991, 'reg_lambda': 9.359365997229924e-06, 'subsample': 0.20967073208790699}. Best is trial 2 with value: 38.86881943273114.\n",
      "Trial 3 finished with value: 38.86984253845768 and parameters: {'colsample_bytree': 0.3078585765400722, 'learning_rate': 0.02582802380736709, 'min_child_samples': 63, 'n_estimators': 10085, 'num_leaves': 135, 'reg_alpha': 0.5132758794615991, 'reg_lambda': 9.359365997229924e-06, 'subsample': 0.20967073208790699}. Best is trial 2 with value: 38.86881943273114.\n",
      "Trial 3 finished with value: 38.86984253845768 and parameters: {'colsample_bytree': 0.3078585765400722, 'learning_rate': 0.02582802380736709, 'min_child_samples': 63, 'n_estimators': 10085, 'num_leaves': 135, 'reg_alpha': 0.5132758794615991, 'reg_lambda': 9.359365997229924e-06, 'subsample': 0.20967073208790699}. Best is trial 2 with value: 38.86881943273114.\n"
     ]
    },
    {
     "name": "stderr",
     "output_type": "stream",
     "text": [
      "[I 2025-02-06 20:19:15,116] Trial 4 finished with value: 38.870401278196695 and parameters: {'colsample_bytree': 0.29088243281638193, 'learning_rate': 0.02210917057811197, 'min_child_samples': 67, 'n_estimators': 10483, 'num_leaves': 240, 'reg_alpha': 0.6206764932661669, 'reg_lambda': 5.553811703899142e-06, 'subsample': 0.2111386953744413}. Best is trial 2 with value: 38.86881943273114.\n"
     ]
    },
    {
     "name": "stdout",
     "output_type": "stream",
     "text": [
      "Trial 4 finished with value: 38.870401278196695 and parameters: {'colsample_bytree': 0.29088243281638193, 'learning_rate': 0.02210917057811197, 'min_child_samples': 67, 'n_estimators': 10483, 'num_leaves': 240, 'reg_alpha': 0.6206764932661669, 'reg_lambda': 5.553811703899142e-06, 'subsample': 0.2111386953744413}. Best is trial 2 with value: 38.86881943273114.\n",
      "Trial 4 finished with value: 38.870401278196695 and parameters: {'colsample_bytree': 0.29088243281638193, 'learning_rate': 0.02210917057811197, 'min_child_samples': 67, 'n_estimators': 10483, 'num_leaves': 240, 'reg_alpha': 0.6206764932661669, 'reg_lambda': 5.553811703899142e-06, 'subsample': 0.2111386953744413}. Best is trial 2 with value: 38.86881943273114.\n",
      "Trial 4 finished with value: 38.870401278196695 and parameters: {'colsample_bytree': 0.29088243281638193, 'learning_rate': 0.02210917057811197, 'min_child_samples': 67, 'n_estimators': 10483, 'num_leaves': 240, 'reg_alpha': 0.6206764932661669, 'reg_lambda': 5.553811703899142e-06, 'subsample': 0.2111386953744413}. Best is trial 2 with value: 38.86881943273114.\n",
      "Trial 4 finished with value: 38.870401278196695 and parameters: {'colsample_bytree': 0.29088243281638193, 'learning_rate': 0.02210917057811197, 'min_child_samples': 67, 'n_estimators': 10483, 'num_leaves': 240, 'reg_alpha': 0.6206764932661669, 'reg_lambda': 5.553811703899142e-06, 'subsample': 0.2111386953744413}. Best is trial 2 with value: 38.86881943273114.\n",
      "Trial 4 finished with value: 38.870401278196695 and parameters: {'colsample_bytree': 0.29088243281638193, 'learning_rate': 0.02210917057811197, 'min_child_samples': 67, 'n_estimators': 10483, 'num_leaves': 240, 'reg_alpha': 0.6206764932661669, 'reg_lambda': 5.553811703899142e-06, 'subsample': 0.2111386953744413}. Best is trial 2 with value: 38.86881943273114.\n",
      "Trial 4 finished with value: 38.870401278196695 and parameters: {'colsample_bytree': 0.29088243281638193, 'learning_rate': 0.02210917057811197, 'min_child_samples': 67, 'n_estimators': 10483, 'num_leaves': 240, 'reg_alpha': 0.6206764932661669, 'reg_lambda': 5.553811703899142e-06, 'subsample': 0.2111386953744413}. Best is trial 2 with value: 38.86881943273114.\n",
      "Trial 4 finished with value: 38.870401278196695 and parameters: {'colsample_bytree': 0.29088243281638193, 'learning_rate': 0.02210917057811197, 'min_child_samples': 67, 'n_estimators': 10483, 'num_leaves': 240, 'reg_alpha': 0.6206764932661669, 'reg_lambda': 5.553811703899142e-06, 'subsample': 0.2111386953744413}. Best is trial 2 with value: 38.86881943273114.\n",
      "Trial 4 finished with value: 38.870401278196695 and parameters: {'colsample_bytree': 0.29088243281638193, 'learning_rate': 0.02210917057811197, 'min_child_samples': 67, 'n_estimators': 10483, 'num_leaves': 240, 'reg_alpha': 0.6206764932661669, 'reg_lambda': 5.553811703899142e-06, 'subsample': 0.2111386953744413}. Best is trial 2 with value: 38.86881943273114.\n",
      "Trial 4 finished with value: 38.870401278196695 and parameters: {'colsample_bytree': 0.29088243281638193, 'learning_rate': 0.02210917057811197, 'min_child_samples': 67, 'n_estimators': 10483, 'num_leaves': 240, 'reg_alpha': 0.6206764932661669, 'reg_lambda': 5.553811703899142e-06, 'subsample': 0.2111386953744413}. Best is trial 2 with value: 38.86881943273114.\n",
      "Trial 4 finished with value: 38.870401278196695 and parameters: {'colsample_bytree': 0.29088243281638193, 'learning_rate': 0.02210917057811197, 'min_child_samples': 67, 'n_estimators': 10483, 'num_leaves': 240, 'reg_alpha': 0.6206764932661669, 'reg_lambda': 5.553811703899142e-06, 'subsample': 0.2111386953744413}. Best is trial 2 with value: 38.86881943273114.\n",
      "Trial 4 finished with value: 38.870401278196695 and parameters: {'colsample_bytree': 0.29088243281638193, 'learning_rate': 0.02210917057811197, 'min_child_samples': 67, 'n_estimators': 10483, 'num_leaves': 240, 'reg_alpha': 0.6206764932661669, 'reg_lambda': 5.553811703899142e-06, 'subsample': 0.2111386953744413}. Best is trial 2 with value: 38.86881943273114.\n"
     ]
    },
    {
     "name": "stderr",
     "output_type": "stream",
     "text": [
      "[I 2025-02-06 20:20:05,587] Trial 5 finished with value: 38.8696530799498 and parameters: {'colsample_bytree': 0.3349433454624627, 'learning_rate': 0.04482803847711222, 'min_child_samples': 66, 'n_estimators': 9586, 'num_leaves': 144, 'reg_alpha': 1.569319974336812, 'reg_lambda': 7.76245747691797e-06, 'subsample': 0.23766693942324763}. Best is trial 2 with value: 38.86881943273114.\n"
     ]
    },
    {
     "name": "stdout",
     "output_type": "stream",
     "text": [
      "Trial 5 finished with value: 38.8696530799498 and parameters: {'colsample_bytree': 0.3349433454624627, 'learning_rate': 0.04482803847711222, 'min_child_samples': 66, 'n_estimators': 9586, 'num_leaves': 144, 'reg_alpha': 1.569319974336812, 'reg_lambda': 7.76245747691797e-06, 'subsample': 0.23766693942324763}. Best is trial 2 with value: 38.86881943273114.\n",
      "Trial 5 finished with value: 38.8696530799498 and parameters: {'colsample_bytree': 0.3349433454624627, 'learning_rate': 0.04482803847711222, 'min_child_samples': 66, 'n_estimators': 9586, 'num_leaves': 144, 'reg_alpha': 1.569319974336812, 'reg_lambda': 7.76245747691797e-06, 'subsample': 0.23766693942324763}. Best is trial 2 with value: 38.86881943273114.\n",
      "Trial 5 finished with value: 38.8696530799498 and parameters: {'colsample_bytree': 0.3349433454624627, 'learning_rate': 0.04482803847711222, 'min_child_samples': 66, 'n_estimators': 9586, 'num_leaves': 144, 'reg_alpha': 1.569319974336812, 'reg_lambda': 7.76245747691797e-06, 'subsample': 0.23766693942324763}. Best is trial 2 with value: 38.86881943273114.\n",
      "Trial 5 finished with value: 38.8696530799498 and parameters: {'colsample_bytree': 0.3349433454624627, 'learning_rate': 0.04482803847711222, 'min_child_samples': 66, 'n_estimators': 9586, 'num_leaves': 144, 'reg_alpha': 1.569319974336812, 'reg_lambda': 7.76245747691797e-06, 'subsample': 0.23766693942324763}. Best is trial 2 with value: 38.86881943273114.\n",
      "Trial 5 finished with value: 38.8696530799498 and parameters: {'colsample_bytree': 0.3349433454624627, 'learning_rate': 0.04482803847711222, 'min_child_samples': 66, 'n_estimators': 9586, 'num_leaves': 144, 'reg_alpha': 1.569319974336812, 'reg_lambda': 7.76245747691797e-06, 'subsample': 0.23766693942324763}. Best is trial 2 with value: 38.86881943273114.\n",
      "Trial 5 finished with value: 38.8696530799498 and parameters: {'colsample_bytree': 0.3349433454624627, 'learning_rate': 0.04482803847711222, 'min_child_samples': 66, 'n_estimators': 9586, 'num_leaves': 144, 'reg_alpha': 1.569319974336812, 'reg_lambda': 7.76245747691797e-06, 'subsample': 0.23766693942324763}. Best is trial 2 with value: 38.86881943273114.\n",
      "Trial 5 finished with value: 38.8696530799498 and parameters: {'colsample_bytree': 0.3349433454624627, 'learning_rate': 0.04482803847711222, 'min_child_samples': 66, 'n_estimators': 9586, 'num_leaves': 144, 'reg_alpha': 1.569319974336812, 'reg_lambda': 7.76245747691797e-06, 'subsample': 0.23766693942324763}. Best is trial 2 with value: 38.86881943273114.\n",
      "Trial 5 finished with value: 38.8696530799498 and parameters: {'colsample_bytree': 0.3349433454624627, 'learning_rate': 0.04482803847711222, 'min_child_samples': 66, 'n_estimators': 9586, 'num_leaves': 144, 'reg_alpha': 1.569319974336812, 'reg_lambda': 7.76245747691797e-06, 'subsample': 0.23766693942324763}. Best is trial 2 with value: 38.86881943273114.\n",
      "Trial 5 finished with value: 38.8696530799498 and parameters: {'colsample_bytree': 0.3349433454624627, 'learning_rate': 0.04482803847711222, 'min_child_samples': 66, 'n_estimators': 9586, 'num_leaves': 144, 'reg_alpha': 1.569319974336812, 'reg_lambda': 7.76245747691797e-06, 'subsample': 0.23766693942324763}. Best is trial 2 with value: 38.86881943273114.\n",
      "Trial 5 finished with value: 38.8696530799498 and parameters: {'colsample_bytree': 0.3349433454624627, 'learning_rate': 0.04482803847711222, 'min_child_samples': 66, 'n_estimators': 9586, 'num_leaves': 144, 'reg_alpha': 1.569319974336812, 'reg_lambda': 7.76245747691797e-06, 'subsample': 0.23766693942324763}. Best is trial 2 with value: 38.86881943273114.\n",
      "Trial 5 finished with value: 38.8696530799498 and parameters: {'colsample_bytree': 0.3349433454624627, 'learning_rate': 0.04482803847711222, 'min_child_samples': 66, 'n_estimators': 9586, 'num_leaves': 144, 'reg_alpha': 1.569319974336812, 'reg_lambda': 7.76245747691797e-06, 'subsample': 0.23766693942324763}. Best is trial 2 with value: 38.86881943273114.\n"
     ]
    },
    {
     "name": "stderr",
     "output_type": "stream",
     "text": [
      "[I 2025-02-06 20:21:25,958] Trial 6 finished with value: 38.8702412376552 and parameters: {'colsample_bytree': 0.29862072140028606, 'learning_rate': 0.02717125280045122, 'min_child_samples': 47, 'n_estimators': 10311, 'num_leaves': 237, 'reg_alpha': 1.2090072933255227, 'reg_lambda': 5.846684356937941e-06, 'subsample': 0.2100615645999645}. Best is trial 2 with value: 38.86881943273114.\n"
     ]
    },
    {
     "name": "stdout",
     "output_type": "stream",
     "text": [
      "Trial 6 finished with value: 38.8702412376552 and parameters: {'colsample_bytree': 0.29862072140028606, 'learning_rate': 0.02717125280045122, 'min_child_samples': 47, 'n_estimators': 10311, 'num_leaves': 237, 'reg_alpha': 1.2090072933255227, 'reg_lambda': 5.846684356937941e-06, 'subsample': 0.2100615645999645}. Best is trial 2 with value: 38.86881943273114.\n",
      "Trial 6 finished with value: 38.8702412376552 and parameters: {'colsample_bytree': 0.29862072140028606, 'learning_rate': 0.02717125280045122, 'min_child_samples': 47, 'n_estimators': 10311, 'num_leaves': 237, 'reg_alpha': 1.2090072933255227, 'reg_lambda': 5.846684356937941e-06, 'subsample': 0.2100615645999645}. Best is trial 2 with value: 38.86881943273114.\n",
      "Trial 6 finished with value: 38.8702412376552 and parameters: {'colsample_bytree': 0.29862072140028606, 'learning_rate': 0.02717125280045122, 'min_child_samples': 47, 'n_estimators': 10311, 'num_leaves': 237, 'reg_alpha': 1.2090072933255227, 'reg_lambda': 5.846684356937941e-06, 'subsample': 0.2100615645999645}. Best is trial 2 with value: 38.86881943273114.\n",
      "Trial 6 finished with value: 38.8702412376552 and parameters: {'colsample_bytree': 0.29862072140028606, 'learning_rate': 0.02717125280045122, 'min_child_samples': 47, 'n_estimators': 10311, 'num_leaves': 237, 'reg_alpha': 1.2090072933255227, 'reg_lambda': 5.846684356937941e-06, 'subsample': 0.2100615645999645}. Best is trial 2 with value: 38.86881943273114.\n",
      "Trial 6 finished with value: 38.8702412376552 and parameters: {'colsample_bytree': 0.29862072140028606, 'learning_rate': 0.02717125280045122, 'min_child_samples': 47, 'n_estimators': 10311, 'num_leaves': 237, 'reg_alpha': 1.2090072933255227, 'reg_lambda': 5.846684356937941e-06, 'subsample': 0.2100615645999645}. Best is trial 2 with value: 38.86881943273114.\n",
      "Trial 6 finished with value: 38.8702412376552 and parameters: {'colsample_bytree': 0.29862072140028606, 'learning_rate': 0.02717125280045122, 'min_child_samples': 47, 'n_estimators': 10311, 'num_leaves': 237, 'reg_alpha': 1.2090072933255227, 'reg_lambda': 5.846684356937941e-06, 'subsample': 0.2100615645999645}. Best is trial 2 with value: 38.86881943273114.\n",
      "Trial 6 finished with value: 38.8702412376552 and parameters: {'colsample_bytree': 0.29862072140028606, 'learning_rate': 0.02717125280045122, 'min_child_samples': 47, 'n_estimators': 10311, 'num_leaves': 237, 'reg_alpha': 1.2090072933255227, 'reg_lambda': 5.846684356937941e-06, 'subsample': 0.2100615645999645}. Best is trial 2 with value: 38.86881943273114.\n",
      "Trial 6 finished with value: 38.8702412376552 and parameters: {'colsample_bytree': 0.29862072140028606, 'learning_rate': 0.02717125280045122, 'min_child_samples': 47, 'n_estimators': 10311, 'num_leaves': 237, 'reg_alpha': 1.2090072933255227, 'reg_lambda': 5.846684356937941e-06, 'subsample': 0.2100615645999645}. Best is trial 2 with value: 38.86881943273114.\n",
      "Trial 6 finished with value: 38.8702412376552 and parameters: {'colsample_bytree': 0.29862072140028606, 'learning_rate': 0.02717125280045122, 'min_child_samples': 47, 'n_estimators': 10311, 'num_leaves': 237, 'reg_alpha': 1.2090072933255227, 'reg_lambda': 5.846684356937941e-06, 'subsample': 0.2100615645999645}. Best is trial 2 with value: 38.86881943273114.\n",
      "Trial 6 finished with value: 38.8702412376552 and parameters: {'colsample_bytree': 0.29862072140028606, 'learning_rate': 0.02717125280045122, 'min_child_samples': 47, 'n_estimators': 10311, 'num_leaves': 237, 'reg_alpha': 1.2090072933255227, 'reg_lambda': 5.846684356937941e-06, 'subsample': 0.2100615645999645}. Best is trial 2 with value: 38.86881943273114.\n",
      "Trial 6 finished with value: 38.8702412376552 and parameters: {'colsample_bytree': 0.29862072140028606, 'learning_rate': 0.02717125280045122, 'min_child_samples': 47, 'n_estimators': 10311, 'num_leaves': 237, 'reg_alpha': 1.2090072933255227, 'reg_lambda': 5.846684356937941e-06, 'subsample': 0.2100615645999645}. Best is trial 2 with value: 38.86881943273114.\n"
     ]
    },
    {
     "name": "stderr",
     "output_type": "stream",
     "text": [
      "[I 2025-02-06 20:21:26,832] Trial 7 pruned. Trial was pruned at iteration 0.\n"
     ]
    },
    {
     "name": "stdout",
     "output_type": "stream",
     "text": [
      "Trial 7 pruned. Trial was pruned at iteration 0.\n",
      "Trial 7 pruned. Trial was pruned at iteration 0.\n",
      "Trial 7 pruned. Trial was pruned at iteration 0.\n",
      "Trial 7 pruned. Trial was pruned at iteration 0.\n",
      "Trial 7 pruned. Trial was pruned at iteration 0.\n",
      "Trial 7 pruned. Trial was pruned at iteration 0.\n",
      "Trial 7 pruned. Trial was pruned at iteration 0.\n",
      "Trial 7 pruned. Trial was pruned at iteration 0.\n",
      "Trial 7 pruned. Trial was pruned at iteration 0.\n",
      "Trial 7 pruned. Trial was pruned at iteration 0.\n",
      "Trial 7 pruned. Trial was pruned at iteration 0.\n"
     ]
    },
    {
     "name": "stderr",
     "output_type": "stream",
     "text": [
      "[I 2025-02-06 20:21:27,612] Trial 8 pruned. Trial was pruned at iteration 0.\n"
     ]
    },
    {
     "name": "stdout",
     "output_type": "stream",
     "text": [
      "Trial 8 pruned. Trial was pruned at iteration 0.\n",
      "Trial 8 pruned. Trial was pruned at iteration 0.\n",
      "Trial 8 pruned. Trial was pruned at iteration 0.\n",
      "Trial 8 pruned. Trial was pruned at iteration 0.\n",
      "Trial 8 pruned. Trial was pruned at iteration 0.\n",
      "Trial 8 pruned. Trial was pruned at iteration 0.\n",
      "Trial 8 pruned. Trial was pruned at iteration 0.\n",
      "Trial 8 pruned. Trial was pruned at iteration 0.\n",
      "Trial 8 pruned. Trial was pruned at iteration 0.\n",
      "Trial 8 pruned. Trial was pruned at iteration 0.\n",
      "Trial 8 pruned. Trial was pruned at iteration 0.\n"
     ]
    },
    {
     "name": "stderr",
     "output_type": "stream",
     "text": [
      "[I 2025-02-06 20:22:46,082] Trial 9 finished with value: 38.87023390889522 and parameters: {'colsample_bytree': 0.3260186062371755, 'learning_rate': 0.028973013094997228, 'min_child_samples': 75, 'n_estimators': 14975, 'num_leaves': 249, 'reg_alpha': 1.0289905360547627, 'reg_lambda': 6.916105684519423e-06, 'subsample': 0.24262432489295294}. Best is trial 2 with value: 38.86881943273114.\n"
     ]
    },
    {
     "name": "stdout",
     "output_type": "stream",
     "text": [
      "Trial 9 finished with value: 38.87023390889522 and parameters: {'colsample_bytree': 0.3260186062371755, 'learning_rate': 0.028973013094997228, 'min_child_samples': 75, 'n_estimators': 14975, 'num_leaves': 249, 'reg_alpha': 1.0289905360547627, 'reg_lambda': 6.916105684519423e-06, 'subsample': 0.24262432489295294}. Best is trial 2 with value: 38.86881943273114.\n",
      "Trial 9 finished with value: 38.87023390889522 and parameters: {'colsample_bytree': 0.3260186062371755, 'learning_rate': 0.028973013094997228, 'min_child_samples': 75, 'n_estimators': 14975, 'num_leaves': 249, 'reg_alpha': 1.0289905360547627, 'reg_lambda': 6.916105684519423e-06, 'subsample': 0.24262432489295294}. Best is trial 2 with value: 38.86881943273114.\n",
      "Trial 9 finished with value: 38.87023390889522 and parameters: {'colsample_bytree': 0.3260186062371755, 'learning_rate': 0.028973013094997228, 'min_child_samples': 75, 'n_estimators': 14975, 'num_leaves': 249, 'reg_alpha': 1.0289905360547627, 'reg_lambda': 6.916105684519423e-06, 'subsample': 0.24262432489295294}. Best is trial 2 with value: 38.86881943273114.\n",
      "Trial 9 finished with value: 38.87023390889522 and parameters: {'colsample_bytree': 0.3260186062371755, 'learning_rate': 0.028973013094997228, 'min_child_samples': 75, 'n_estimators': 14975, 'num_leaves': 249, 'reg_alpha': 1.0289905360547627, 'reg_lambda': 6.916105684519423e-06, 'subsample': 0.24262432489295294}. Best is trial 2 with value: 38.86881943273114.\n",
      "Trial 9 finished with value: 38.87023390889522 and parameters: {'colsample_bytree': 0.3260186062371755, 'learning_rate': 0.028973013094997228, 'min_child_samples': 75, 'n_estimators': 14975, 'num_leaves': 249, 'reg_alpha': 1.0289905360547627, 'reg_lambda': 6.916105684519423e-06, 'subsample': 0.24262432489295294}. Best is trial 2 with value: 38.86881943273114.\n",
      "Trial 9 finished with value: 38.87023390889522 and parameters: {'colsample_bytree': 0.3260186062371755, 'learning_rate': 0.028973013094997228, 'min_child_samples': 75, 'n_estimators': 14975, 'num_leaves': 249, 'reg_alpha': 1.0289905360547627, 'reg_lambda': 6.916105684519423e-06, 'subsample': 0.24262432489295294}. Best is trial 2 with value: 38.86881943273114.\n",
      "Trial 9 finished with value: 38.87023390889522 and parameters: {'colsample_bytree': 0.3260186062371755, 'learning_rate': 0.028973013094997228, 'min_child_samples': 75, 'n_estimators': 14975, 'num_leaves': 249, 'reg_alpha': 1.0289905360547627, 'reg_lambda': 6.916105684519423e-06, 'subsample': 0.24262432489295294}. Best is trial 2 with value: 38.86881943273114.\n",
      "Trial 9 finished with value: 38.87023390889522 and parameters: {'colsample_bytree': 0.3260186062371755, 'learning_rate': 0.028973013094997228, 'min_child_samples': 75, 'n_estimators': 14975, 'num_leaves': 249, 'reg_alpha': 1.0289905360547627, 'reg_lambda': 6.916105684519423e-06, 'subsample': 0.24262432489295294}. Best is trial 2 with value: 38.86881943273114.\n",
      "Trial 9 finished with value: 38.87023390889522 and parameters: {'colsample_bytree': 0.3260186062371755, 'learning_rate': 0.028973013094997228, 'min_child_samples': 75, 'n_estimators': 14975, 'num_leaves': 249, 'reg_alpha': 1.0289905360547627, 'reg_lambda': 6.916105684519423e-06, 'subsample': 0.24262432489295294}. Best is trial 2 with value: 38.86881943273114.\n",
      "Trial 9 finished with value: 38.87023390889522 and parameters: {'colsample_bytree': 0.3260186062371755, 'learning_rate': 0.028973013094997228, 'min_child_samples': 75, 'n_estimators': 14975, 'num_leaves': 249, 'reg_alpha': 1.0289905360547627, 'reg_lambda': 6.916105684519423e-06, 'subsample': 0.24262432489295294}. Best is trial 2 with value: 38.86881943273114.\n",
      "Trial 9 finished with value: 38.87023390889522 and parameters: {'colsample_bytree': 0.3260186062371755, 'learning_rate': 0.028973013094997228, 'min_child_samples': 75, 'n_estimators': 14975, 'num_leaves': 249, 'reg_alpha': 1.0289905360547627, 'reg_lambda': 6.916105684519423e-06, 'subsample': 0.24262432489295294}. Best is trial 2 with value: 38.86881943273114.\n"
     ]
    }
   ],
   "source": [
    "def objective(trial):    \n",
    "    # Define the hyperparameter search space\n",
    "    param = {\n",
    "        'objective': 'regression',\n",
    "        'metric': 'rmse',\n",
    "        'colsample_bytree': trial.suggest_float('colsample_bytree', 0.25, .35),\n",
    "        'learning_rate': trial.suggest_loguniform('learning_rate', .01, 0.05),\n",
    "        'max_bin': 15,\n",
    "        # 'max_bin': trial.suggest_int('max_bin', 100000, 130000),\n",
    "        'max_depth': 10,\n",
    "        'min_child_samples': trial.suggest_int('min_child_samples', 40, 80),\n",
    "        'min_split_gain': 0.5,\n",
    "        'n_estimators': trial.suggest_int('n_estimators', 9000, 15000),\n",
    "        'num_leaves': trial.suggest_int('num_leaves', 64, 256),\n",
    "        'reg_alpha': trial.suggest_loguniform('reg_alpha', 0.5, 2.0),\n",
    "        'reg_lambda': trial.suggest_loguniform('reg_lambda', 0.000001, 0.00001),\n",
    "        'subsample': trial.suggest_float('subsample', 0.2, 0.25),\n",
    "        'random_state': 42,\n",
    "        'early_stopping_rounds': 50,\n",
    "        'verbosity': -1,\n",
    "        'device': 'gpu',\n",
    "        'gpu_use_dp': False,\n",
    "    }\n",
    "    \n",
    "    train_data = lgb.Dataset(X_train, label=y_train)\n",
    "    valid_data = lgb.Dataset(X_valid, label=y_valid, reference=train_data)\n",
    "    \n",
    "    # Initialize the model with these parameters\n",
    "    model = lgb.train(\n",
    "        params=param,\n",
    "        train_set=train_data,\n",
    "        num_boost_round=10,\n",
    "        valid_sets=[train_data, valid_data],\n",
    "        valid_names=['train_0', 'valid_0'],\n",
    "        callbacks=[\n",
    "            LightGBMPruningCallback(trial, \"rmse\", valid_name=\"valid_0\"),\n",
    "            lgb.log_evaluation(-1)                   # Suppress training logs\n",
    "        ]\n",
    "    )\n",
    "    y_pred = model.predict(X_valid, num_iteration=model.best_iteration)\n",
    "    rmse = np.sqrt(mean_squared_error(y_valid, y_pred))    \n",
    "    return rmse\n",
    "\n",
    "optuna.logging.get_logger(\"optuna\").addHandler(logging.StreamHandler(sys.stdout))\n",
    "study_name = datetime.now().strftime(\"%Y-%m-%d_%H-%M\")\n",
    "storage_name = f\"sqlite:///db.sqlite3\"\n",
    "# storage_name = f\"sqlite:///{os.path.join(optuna_dir, study_name)}.db\"\n",
    "\n",
    "study = optuna.create_study(study_name=study_name, storage=storage_name, direction='minimize')\n",
    "study.optimize(objective, n_trials=10)"
   ]
  },
  {
   "cell_type": "code",
   "execution_count": 18,
   "metadata": {},
   "outputs": [
    {
     "name": "stderr",
     "output_type": "stream",
     "text": [
      "[I 2025-02-06 20:22:46,136] A new study created in RDB with name: 2025-02-06_20-22\n"
     ]
    },
    {
     "name": "stdout",
     "output_type": "stream",
     "text": [
      "A new study created in RDB with name: 2025-02-06_20-22\n",
      "A new study created in RDB with name: 2025-02-06_20-22\n",
      "A new study created in RDB with name: 2025-02-06_20-22\n",
      "A new study created in RDB with name: 2025-02-06_20-22\n",
      "A new study created in RDB with name: 2025-02-06_20-22\n",
      "A new study created in RDB with name: 2025-02-06_20-22\n",
      "A new study created in RDB with name: 2025-02-06_20-22\n",
      "A new study created in RDB with name: 2025-02-06_20-22\n",
      "A new study created in RDB with name: 2025-02-06_20-22\n",
      "A new study created in RDB with name: 2025-02-06_20-22\n",
      "A new study created in RDB with name: 2025-02-06_20-22\n",
      "A new study created in RDB with name: 2025-02-06_20-22\n"
     ]
    },
    {
     "name": "stderr",
     "output_type": "stream",
     "text": [
      "[I 2025-02-06 20:24:39,078] Trial 0 finished with value: 38.87256603776188 and parameters: {'colsample_bytree': 0.266866133566952, 'learning_rate': 0.034925077493470354, 'min_child_samples': 75, 'n_estimators': 12290, 'num_leaves': 118, 'reg_alpha': 1.2250027892593398, 'reg_lambda': 1.7783639122003273e-06, 'subsample': 0.2272889028255005}. Best is trial 0 with value: 38.87256603776188.\n"
     ]
    },
    {
     "name": "stdout",
     "output_type": "stream",
     "text": [
      "Trial 0 finished with value: 38.87256603776188 and parameters: {'colsample_bytree': 0.266866133566952, 'learning_rate': 0.034925077493470354, 'min_child_samples': 75, 'n_estimators': 12290, 'num_leaves': 118, 'reg_alpha': 1.2250027892593398, 'reg_lambda': 1.7783639122003273e-06, 'subsample': 0.2272889028255005}. Best is trial 0 with value: 38.87256603776188.\n",
      "Trial 0 finished with value: 38.87256603776188 and parameters: {'colsample_bytree': 0.266866133566952, 'learning_rate': 0.034925077493470354, 'min_child_samples': 75, 'n_estimators': 12290, 'num_leaves': 118, 'reg_alpha': 1.2250027892593398, 'reg_lambda': 1.7783639122003273e-06, 'subsample': 0.2272889028255005}. Best is trial 0 with value: 38.87256603776188.\n",
      "Trial 0 finished with value: 38.87256603776188 and parameters: {'colsample_bytree': 0.266866133566952, 'learning_rate': 0.034925077493470354, 'min_child_samples': 75, 'n_estimators': 12290, 'num_leaves': 118, 'reg_alpha': 1.2250027892593398, 'reg_lambda': 1.7783639122003273e-06, 'subsample': 0.2272889028255005}. Best is trial 0 with value: 38.87256603776188.\n",
      "Trial 0 finished with value: 38.87256603776188 and parameters: {'colsample_bytree': 0.266866133566952, 'learning_rate': 0.034925077493470354, 'min_child_samples': 75, 'n_estimators': 12290, 'num_leaves': 118, 'reg_alpha': 1.2250027892593398, 'reg_lambda': 1.7783639122003273e-06, 'subsample': 0.2272889028255005}. Best is trial 0 with value: 38.87256603776188.\n",
      "Trial 0 finished with value: 38.87256603776188 and parameters: {'colsample_bytree': 0.266866133566952, 'learning_rate': 0.034925077493470354, 'min_child_samples': 75, 'n_estimators': 12290, 'num_leaves': 118, 'reg_alpha': 1.2250027892593398, 'reg_lambda': 1.7783639122003273e-06, 'subsample': 0.2272889028255005}. Best is trial 0 with value: 38.87256603776188.\n",
      "Trial 0 finished with value: 38.87256603776188 and parameters: {'colsample_bytree': 0.266866133566952, 'learning_rate': 0.034925077493470354, 'min_child_samples': 75, 'n_estimators': 12290, 'num_leaves': 118, 'reg_alpha': 1.2250027892593398, 'reg_lambda': 1.7783639122003273e-06, 'subsample': 0.2272889028255005}. Best is trial 0 with value: 38.87256603776188.\n",
      "Trial 0 finished with value: 38.87256603776188 and parameters: {'colsample_bytree': 0.266866133566952, 'learning_rate': 0.034925077493470354, 'min_child_samples': 75, 'n_estimators': 12290, 'num_leaves': 118, 'reg_alpha': 1.2250027892593398, 'reg_lambda': 1.7783639122003273e-06, 'subsample': 0.2272889028255005}. Best is trial 0 with value: 38.87256603776188.\n",
      "Trial 0 finished with value: 38.87256603776188 and parameters: {'colsample_bytree': 0.266866133566952, 'learning_rate': 0.034925077493470354, 'min_child_samples': 75, 'n_estimators': 12290, 'num_leaves': 118, 'reg_alpha': 1.2250027892593398, 'reg_lambda': 1.7783639122003273e-06, 'subsample': 0.2272889028255005}. Best is trial 0 with value: 38.87256603776188.\n",
      "Trial 0 finished with value: 38.87256603776188 and parameters: {'colsample_bytree': 0.266866133566952, 'learning_rate': 0.034925077493470354, 'min_child_samples': 75, 'n_estimators': 12290, 'num_leaves': 118, 'reg_alpha': 1.2250027892593398, 'reg_lambda': 1.7783639122003273e-06, 'subsample': 0.2272889028255005}. Best is trial 0 with value: 38.87256603776188.\n",
      "Trial 0 finished with value: 38.87256603776188 and parameters: {'colsample_bytree': 0.266866133566952, 'learning_rate': 0.034925077493470354, 'min_child_samples': 75, 'n_estimators': 12290, 'num_leaves': 118, 'reg_alpha': 1.2250027892593398, 'reg_lambda': 1.7783639122003273e-06, 'subsample': 0.2272889028255005}. Best is trial 0 with value: 38.87256603776188.\n",
      "Trial 0 finished with value: 38.87256603776188 and parameters: {'colsample_bytree': 0.266866133566952, 'learning_rate': 0.034925077493470354, 'min_child_samples': 75, 'n_estimators': 12290, 'num_leaves': 118, 'reg_alpha': 1.2250027892593398, 'reg_lambda': 1.7783639122003273e-06, 'subsample': 0.2272889028255005}. Best is trial 0 with value: 38.87256603776188.\n",
      "Trial 0 finished with value: 38.87256603776188 and parameters: {'colsample_bytree': 0.266866133566952, 'learning_rate': 0.034925077493470354, 'min_child_samples': 75, 'n_estimators': 12290, 'num_leaves': 118, 'reg_alpha': 1.2250027892593398, 'reg_lambda': 1.7783639122003273e-06, 'subsample': 0.2272889028255005}. Best is trial 0 with value: 38.87256603776188.\n"
     ]
    },
    {
     "name": "stderr",
     "output_type": "stream",
     "text": [
      "[LightGBM] [Fatal] Reducing `min_data_in_leaf` with `feature_pre_filter=true` may cause unexpected behaviour for features that were pre-filtered by the larger `min_data_in_leaf`.\n",
      "You need to set `feature_pre_filter=false` to dynamically change the `min_data_in_leaf`.\n",
      "[W 2025-02-06 20:24:39,172] Trial 1 failed with parameters: {'colsample_bytree': 0.30039816656843676, 'learning_rate': 0.01964064931710759, 'min_child_samples': 52, 'n_estimators': 14253, 'num_leaves': 213, 'reg_alpha': 1.4137115707339052, 'reg_lambda': 6.800999086027943e-06, 'subsample': 0.21850362046298386} because of the following error: LightGBMError('Reducing `min_data_in_leaf` with `feature_pre_filter=true` may cause unexpected behaviour for features that were pre-filtered by the larger `min_data_in_leaf`.\\nYou need to set `feature_pre_filter=false` to dynamically change the `min_data_in_leaf`.').\n",
      "Traceback (most recent call last):\n",
      "  File \"/home/j/miniforge3/envs/ml/lib/python3.9/site-packages/optuna/study/_optimize.py\", line 197, in _run_trial\n",
      "    value_or_values = func(trial)\n",
      "  File \"/tmp/ipykernel_6082/2821189847.py\", line 26, in objective\n",
      "    model = lgb.train(\n",
      "  File \"/home/j/miniforge3/envs/ml/lib/python3.9/site-packages/lightgbm/engine.py\", line 244, in train\n",
      "    train_set._update_params(params)._set_predictor(predictor)\n",
      "  File \"/home/j/miniforge3/envs/ml/lib/python3.9/site-packages/lightgbm/basic.py\", line 2748, in _update_params\n",
      "    raise LightGBMError(_LIB.LGBM_GetLastError().decode(\"utf-8\"))\n",
      "lightgbm.basic.LightGBMError: Reducing `min_data_in_leaf` with `feature_pre_filter=true` may cause unexpected behaviour for features that were pre-filtered by the larger `min_data_in_leaf`.\n",
      "You need to set `feature_pre_filter=false` to dynamically change the `min_data_in_leaf`.\n"
     ]
    },
    {
     "name": "stdout",
     "output_type": "stream",
     "text": [
      "Trial 1 failed with parameters: {'colsample_bytree': 0.30039816656843676, 'learning_rate': 0.01964064931710759, 'min_child_samples': 52, 'n_estimators': 14253, 'num_leaves': 213, 'reg_alpha': 1.4137115707339052, 'reg_lambda': 6.800999086027943e-06, 'subsample': 0.21850362046298386} because of the following error: LightGBMError('Reducing `min_data_in_leaf` with `feature_pre_filter=true` may cause unexpected behaviour for features that were pre-filtered by the larger `min_data_in_leaf`.\\nYou need to set `feature_pre_filter=false` to dynamically change the `min_data_in_leaf`.').\n",
      "Traceback (most recent call last):\n",
      "  File \"/home/j/miniforge3/envs/ml/lib/python3.9/site-packages/optuna/study/_optimize.py\", line 197, in _run_trial\n",
      "    value_or_values = func(trial)\n",
      "  File \"/tmp/ipykernel_6082/2821189847.py\", line 26, in objective\n",
      "    model = lgb.train(\n",
      "  File \"/home/j/miniforge3/envs/ml/lib/python3.9/site-packages/lightgbm/engine.py\", line 244, in train\n",
      "    train_set._update_params(params)._set_predictor(predictor)\n",
      "  File \"/home/j/miniforge3/envs/ml/lib/python3.9/site-packages/lightgbm/basic.py\", line 2748, in _update_params\n",
      "    raise LightGBMError(_LIB.LGBM_GetLastError().decode(\"utf-8\"))\n",
      "lightgbm.basic.LightGBMError: Reducing `min_data_in_leaf` with `feature_pre_filter=true` may cause unexpected behaviour for features that were pre-filtered by the larger `min_data_in_leaf`.\n",
      "You need to set `feature_pre_filter=false` to dynamically change the `min_data_in_leaf`.\n",
      "Trial 1 failed with parameters: {'colsample_bytree': 0.30039816656843676, 'learning_rate': 0.01964064931710759, 'min_child_samples': 52, 'n_estimators': 14253, 'num_leaves': 213, 'reg_alpha': 1.4137115707339052, 'reg_lambda': 6.800999086027943e-06, 'subsample': 0.21850362046298386} because of the following error: LightGBMError('Reducing `min_data_in_leaf` with `feature_pre_filter=true` may cause unexpected behaviour for features that were pre-filtered by the larger `min_data_in_leaf`.\\nYou need to set `feature_pre_filter=false` to dynamically change the `min_data_in_leaf`.').\n",
      "Traceback (most recent call last):\n",
      "  File \"/home/j/miniforge3/envs/ml/lib/python3.9/site-packages/optuna/study/_optimize.py\", line 197, in _run_trial\n",
      "    value_or_values = func(trial)\n",
      "  File \"/tmp/ipykernel_6082/2821189847.py\", line 26, in objective\n",
      "    model = lgb.train(\n",
      "  File \"/home/j/miniforge3/envs/ml/lib/python3.9/site-packages/lightgbm/engine.py\", line 244, in train\n",
      "    train_set._update_params(params)._set_predictor(predictor)\n",
      "  File \"/home/j/miniforge3/envs/ml/lib/python3.9/site-packages/lightgbm/basic.py\", line 2748, in _update_params\n",
      "    raise LightGBMError(_LIB.LGBM_GetLastError().decode(\"utf-8\"))\n",
      "lightgbm.basic.LightGBMError: Reducing `min_data_in_leaf` with `feature_pre_filter=true` may cause unexpected behaviour for features that were pre-filtered by the larger `min_data_in_leaf`.\n",
      "You need to set `feature_pre_filter=false` to dynamically change the `min_data_in_leaf`.\n",
      "Trial 1 failed with parameters: {'colsample_bytree': 0.30039816656843676, 'learning_rate': 0.01964064931710759, 'min_child_samples': 52, 'n_estimators': 14253, 'num_leaves': 213, 'reg_alpha': 1.4137115707339052, 'reg_lambda': 6.800999086027943e-06, 'subsample': 0.21850362046298386} because of the following error: LightGBMError('Reducing `min_data_in_leaf` with `feature_pre_filter=true` may cause unexpected behaviour for features that were pre-filtered by the larger `min_data_in_leaf`.\\nYou need to set `feature_pre_filter=false` to dynamically change the `min_data_in_leaf`.').\n",
      "Traceback (most recent call last):\n",
      "  File \"/home/j/miniforge3/envs/ml/lib/python3.9/site-packages/optuna/study/_optimize.py\", line 197, in _run_trial\n",
      "    value_or_values = func(trial)\n",
      "  File \"/tmp/ipykernel_6082/2821189847.py\", line 26, in objective\n",
      "    model = lgb.train(\n",
      "  File \"/home/j/miniforge3/envs/ml/lib/python3.9/site-packages/lightgbm/engine.py\", line 244, in train\n",
      "    train_set._update_params(params)._set_predictor(predictor)\n",
      "  File \"/home/j/miniforge3/envs/ml/lib/python3.9/site-packages/lightgbm/basic.py\", line 2748, in _update_params\n",
      "    raise LightGBMError(_LIB.LGBM_GetLastError().decode(\"utf-8\"))\n",
      "lightgbm.basic.LightGBMError: Reducing `min_data_in_leaf` with `feature_pre_filter=true` may cause unexpected behaviour for features that were pre-filtered by the larger `min_data_in_leaf`.\n",
      "You need to set `feature_pre_filter=false` to dynamically change the `min_data_in_leaf`.\n",
      "Trial 1 failed with parameters: {'colsample_bytree': 0.30039816656843676, 'learning_rate': 0.01964064931710759, 'min_child_samples': 52, 'n_estimators': 14253, 'num_leaves': 213, 'reg_alpha': 1.4137115707339052, 'reg_lambda': 6.800999086027943e-06, 'subsample': 0.21850362046298386} because of the following error: LightGBMError('Reducing `min_data_in_leaf` with `feature_pre_filter=true` may cause unexpected behaviour for features that were pre-filtered by the larger `min_data_in_leaf`.\\nYou need to set `feature_pre_filter=false` to dynamically change the `min_data_in_leaf`.').\n",
      "Traceback (most recent call last):\n",
      "  File \"/home/j/miniforge3/envs/ml/lib/python3.9/site-packages/optuna/study/_optimize.py\", line 197, in _run_trial\n",
      "    value_or_values = func(trial)\n",
      "  File \"/tmp/ipykernel_6082/2821189847.py\", line 26, in objective\n",
      "    model = lgb.train(\n",
      "  File \"/home/j/miniforge3/envs/ml/lib/python3.9/site-packages/lightgbm/engine.py\", line 244, in train\n",
      "    train_set._update_params(params)._set_predictor(predictor)\n",
      "  File \"/home/j/miniforge3/envs/ml/lib/python3.9/site-packages/lightgbm/basic.py\", line 2748, in _update_params\n",
      "    raise LightGBMError(_LIB.LGBM_GetLastError().decode(\"utf-8\"))\n",
      "lightgbm.basic.LightGBMError: Reducing `min_data_in_leaf` with `feature_pre_filter=true` may cause unexpected behaviour for features that were pre-filtered by the larger `min_data_in_leaf`.\n",
      "You need to set `feature_pre_filter=false` to dynamically change the `min_data_in_leaf`.\n",
      "Trial 1 failed with parameters: {'colsample_bytree': 0.30039816656843676, 'learning_rate': 0.01964064931710759, 'min_child_samples': 52, 'n_estimators': 14253, 'num_leaves': 213, 'reg_alpha': 1.4137115707339052, 'reg_lambda': 6.800999086027943e-06, 'subsample': 0.21850362046298386} because of the following error: LightGBMError('Reducing `min_data_in_leaf` with `feature_pre_filter=true` may cause unexpected behaviour for features that were pre-filtered by the larger `min_data_in_leaf`.\\nYou need to set `feature_pre_filter=false` to dynamically change the `min_data_in_leaf`.').\n",
      "Traceback (most recent call last):\n",
      "  File \"/home/j/miniforge3/envs/ml/lib/python3.9/site-packages/optuna/study/_optimize.py\", line 197, in _run_trial\n",
      "    value_or_values = func(trial)\n",
      "  File \"/tmp/ipykernel_6082/2821189847.py\", line 26, in objective\n",
      "    model = lgb.train(\n",
      "  File \"/home/j/miniforge3/envs/ml/lib/python3.9/site-packages/lightgbm/engine.py\", line 244, in train\n",
      "    train_set._update_params(params)._set_predictor(predictor)\n",
      "  File \"/home/j/miniforge3/envs/ml/lib/python3.9/site-packages/lightgbm/basic.py\", line 2748, in _update_params\n",
      "    raise LightGBMError(_LIB.LGBM_GetLastError().decode(\"utf-8\"))\n",
      "lightgbm.basic.LightGBMError: Reducing `min_data_in_leaf` with `feature_pre_filter=true` may cause unexpected behaviour for features that were pre-filtered by the larger `min_data_in_leaf`.\n",
      "You need to set `feature_pre_filter=false` to dynamically change the `min_data_in_leaf`.\n",
      "Trial 1 failed with parameters: {'colsample_bytree': 0.30039816656843676, 'learning_rate': 0.01964064931710759, 'min_child_samples': 52, 'n_estimators': 14253, 'num_leaves': 213, 'reg_alpha': 1.4137115707339052, 'reg_lambda': 6.800999086027943e-06, 'subsample': 0.21850362046298386} because of the following error: LightGBMError('Reducing `min_data_in_leaf` with `feature_pre_filter=true` may cause unexpected behaviour for features that were pre-filtered by the larger `min_data_in_leaf`.\\nYou need to set `feature_pre_filter=false` to dynamically change the `min_data_in_leaf`.').\n",
      "Traceback (most recent call last):\n",
      "  File \"/home/j/miniforge3/envs/ml/lib/python3.9/site-packages/optuna/study/_optimize.py\", line 197, in _run_trial\n",
      "    value_or_values = func(trial)\n",
      "  File \"/tmp/ipykernel_6082/2821189847.py\", line 26, in objective\n",
      "    model = lgb.train(\n",
      "  File \"/home/j/miniforge3/envs/ml/lib/python3.9/site-packages/lightgbm/engine.py\", line 244, in train\n",
      "    train_set._update_params(params)._set_predictor(predictor)\n",
      "  File \"/home/j/miniforge3/envs/ml/lib/python3.9/site-packages/lightgbm/basic.py\", line 2748, in _update_params\n",
      "    raise LightGBMError(_LIB.LGBM_GetLastError().decode(\"utf-8\"))\n",
      "lightgbm.basic.LightGBMError: Reducing `min_data_in_leaf` with `feature_pre_filter=true` may cause unexpected behaviour for features that were pre-filtered by the larger `min_data_in_leaf`.\n",
      "You need to set `feature_pre_filter=false` to dynamically change the `min_data_in_leaf`.\n",
      "Trial 1 failed with parameters: {'colsample_bytree': 0.30039816656843676, 'learning_rate': 0.01964064931710759, 'min_child_samples': 52, 'n_estimators': 14253, 'num_leaves': 213, 'reg_alpha': 1.4137115707339052, 'reg_lambda': 6.800999086027943e-06, 'subsample': 0.21850362046298386} because of the following error: LightGBMError('Reducing `min_data_in_leaf` with `feature_pre_filter=true` may cause unexpected behaviour for features that were pre-filtered by the larger `min_data_in_leaf`.\\nYou need to set `feature_pre_filter=false` to dynamically change the `min_data_in_leaf`.').\n",
      "Traceback (most recent call last):\n",
      "  File \"/home/j/miniforge3/envs/ml/lib/python3.9/site-packages/optuna/study/_optimize.py\", line 197, in _run_trial\n",
      "    value_or_values = func(trial)\n",
      "  File \"/tmp/ipykernel_6082/2821189847.py\", line 26, in objective\n",
      "    model = lgb.train(\n",
      "  File \"/home/j/miniforge3/envs/ml/lib/python3.9/site-packages/lightgbm/engine.py\", line 244, in train\n",
      "    train_set._update_params(params)._set_predictor(predictor)\n",
      "  File \"/home/j/miniforge3/envs/ml/lib/python3.9/site-packages/lightgbm/basic.py\", line 2748, in _update_params\n",
      "    raise LightGBMError(_LIB.LGBM_GetLastError().decode(\"utf-8\"))\n",
      "lightgbm.basic.LightGBMError: Reducing `min_data_in_leaf` with `feature_pre_filter=true` may cause unexpected behaviour for features that were pre-filtered by the larger `min_data_in_leaf`.\n",
      "You need to set `feature_pre_filter=false` to dynamically change the `min_data_in_leaf`.\n",
      "Trial 1 failed with parameters: {'colsample_bytree': 0.30039816656843676, 'learning_rate': 0.01964064931710759, 'min_child_samples': 52, 'n_estimators': 14253, 'num_leaves': 213, 'reg_alpha': 1.4137115707339052, 'reg_lambda': 6.800999086027943e-06, 'subsample': 0.21850362046298386} because of the following error: LightGBMError('Reducing `min_data_in_leaf` with `feature_pre_filter=true` may cause unexpected behaviour for features that were pre-filtered by the larger `min_data_in_leaf`.\\nYou need to set `feature_pre_filter=false` to dynamically change the `min_data_in_leaf`.').\n",
      "Traceback (most recent call last):\n",
      "  File \"/home/j/miniforge3/envs/ml/lib/python3.9/site-packages/optuna/study/_optimize.py\", line 197, in _run_trial\n",
      "    value_or_values = func(trial)\n",
      "  File \"/tmp/ipykernel_6082/2821189847.py\", line 26, in objective\n",
      "    model = lgb.train(\n",
      "  File \"/home/j/miniforge3/envs/ml/lib/python3.9/site-packages/lightgbm/engine.py\", line 244, in train\n",
      "    train_set._update_params(params)._set_predictor(predictor)\n",
      "  File \"/home/j/miniforge3/envs/ml/lib/python3.9/site-packages/lightgbm/basic.py\", line 2748, in _update_params\n",
      "    raise LightGBMError(_LIB.LGBM_GetLastError().decode(\"utf-8\"))\n",
      "lightgbm.basic.LightGBMError: Reducing `min_data_in_leaf` with `feature_pre_filter=true` may cause unexpected behaviour for features that were pre-filtered by the larger `min_data_in_leaf`.\n",
      "You need to set `feature_pre_filter=false` to dynamically change the `min_data_in_leaf`.\n",
      "Trial 1 failed with parameters: {'colsample_bytree': 0.30039816656843676, 'learning_rate': 0.01964064931710759, 'min_child_samples': 52, 'n_estimators': 14253, 'num_leaves': 213, 'reg_alpha': 1.4137115707339052, 'reg_lambda': 6.800999086027943e-06, 'subsample': 0.21850362046298386} because of the following error: LightGBMError('Reducing `min_data_in_leaf` with `feature_pre_filter=true` may cause unexpected behaviour for features that were pre-filtered by the larger `min_data_in_leaf`.\\nYou need to set `feature_pre_filter=false` to dynamically change the `min_data_in_leaf`.').\n",
      "Traceback (most recent call last):\n",
      "  File \"/home/j/miniforge3/envs/ml/lib/python3.9/site-packages/optuna/study/_optimize.py\", line 197, in _run_trial\n",
      "    value_or_values = func(trial)\n",
      "  File \"/tmp/ipykernel_6082/2821189847.py\", line 26, in objective\n",
      "    model = lgb.train(\n",
      "  File \"/home/j/miniforge3/envs/ml/lib/python3.9/site-packages/lightgbm/engine.py\", line 244, in train\n",
      "    train_set._update_params(params)._set_predictor(predictor)\n",
      "  File \"/home/j/miniforge3/envs/ml/lib/python3.9/site-packages/lightgbm/basic.py\", line 2748, in _update_params\n",
      "    raise LightGBMError(_LIB.LGBM_GetLastError().decode(\"utf-8\"))\n",
      "lightgbm.basic.LightGBMError: Reducing `min_data_in_leaf` with `feature_pre_filter=true` may cause unexpected behaviour for features that were pre-filtered by the larger `min_data_in_leaf`.\n",
      "You need to set `feature_pre_filter=false` to dynamically change the `min_data_in_leaf`.\n",
      "Trial 1 failed with parameters: {'colsample_bytree': 0.30039816656843676, 'learning_rate': 0.01964064931710759, 'min_child_samples': 52, 'n_estimators': 14253, 'num_leaves': 213, 'reg_alpha': 1.4137115707339052, 'reg_lambda': 6.800999086027943e-06, 'subsample': 0.21850362046298386} because of the following error: LightGBMError('Reducing `min_data_in_leaf` with `feature_pre_filter=true` may cause unexpected behaviour for features that were pre-filtered by the larger `min_data_in_leaf`.\\nYou need to set `feature_pre_filter=false` to dynamically change the `min_data_in_leaf`.').\n",
      "Traceback (most recent call last):\n",
      "  File \"/home/j/miniforge3/envs/ml/lib/python3.9/site-packages/optuna/study/_optimize.py\", line 197, in _run_trial\n",
      "    value_or_values = func(trial)\n",
      "  File \"/tmp/ipykernel_6082/2821189847.py\", line 26, in objective\n",
      "    model = lgb.train(\n",
      "  File \"/home/j/miniforge3/envs/ml/lib/python3.9/site-packages/lightgbm/engine.py\", line 244, in train\n",
      "    train_set._update_params(params)._set_predictor(predictor)\n",
      "  File \"/home/j/miniforge3/envs/ml/lib/python3.9/site-packages/lightgbm/basic.py\", line 2748, in _update_params\n",
      "    raise LightGBMError(_LIB.LGBM_GetLastError().decode(\"utf-8\"))\n",
      "lightgbm.basic.LightGBMError: Reducing `min_data_in_leaf` with `feature_pre_filter=true` may cause unexpected behaviour for features that were pre-filtered by the larger `min_data_in_leaf`.\n",
      "You need to set `feature_pre_filter=false` to dynamically change the `min_data_in_leaf`.\n",
      "Trial 1 failed with parameters: {'colsample_bytree': 0.30039816656843676, 'learning_rate': 0.01964064931710759, 'min_child_samples': 52, 'n_estimators': 14253, 'num_leaves': 213, 'reg_alpha': 1.4137115707339052, 'reg_lambda': 6.800999086027943e-06, 'subsample': 0.21850362046298386} because of the following error: LightGBMError('Reducing `min_data_in_leaf` with `feature_pre_filter=true` may cause unexpected behaviour for features that were pre-filtered by the larger `min_data_in_leaf`.\\nYou need to set `feature_pre_filter=false` to dynamically change the `min_data_in_leaf`.').\n",
      "Traceback (most recent call last):\n",
      "  File \"/home/j/miniforge3/envs/ml/lib/python3.9/site-packages/optuna/study/_optimize.py\", line 197, in _run_trial\n",
      "    value_or_values = func(trial)\n",
      "  File \"/tmp/ipykernel_6082/2821189847.py\", line 26, in objective\n",
      "    model = lgb.train(\n",
      "  File \"/home/j/miniforge3/envs/ml/lib/python3.9/site-packages/lightgbm/engine.py\", line 244, in train\n",
      "    train_set._update_params(params)._set_predictor(predictor)\n",
      "  File \"/home/j/miniforge3/envs/ml/lib/python3.9/site-packages/lightgbm/basic.py\", line 2748, in _update_params\n",
      "    raise LightGBMError(_LIB.LGBM_GetLastError().decode(\"utf-8\"))\n",
      "lightgbm.basic.LightGBMError: Reducing `min_data_in_leaf` with `feature_pre_filter=true` may cause unexpected behaviour for features that were pre-filtered by the larger `min_data_in_leaf`.\n",
      "You need to set `feature_pre_filter=false` to dynamically change the `min_data_in_leaf`.\n",
      "Trial 1 failed with parameters: {'colsample_bytree': 0.30039816656843676, 'learning_rate': 0.01964064931710759, 'min_child_samples': 52, 'n_estimators': 14253, 'num_leaves': 213, 'reg_alpha': 1.4137115707339052, 'reg_lambda': 6.800999086027943e-06, 'subsample': 0.21850362046298386} because of the following error: LightGBMError('Reducing `min_data_in_leaf` with `feature_pre_filter=true` may cause unexpected behaviour for features that were pre-filtered by the larger `min_data_in_leaf`.\\nYou need to set `feature_pre_filter=false` to dynamically change the `min_data_in_leaf`.').\n",
      "Traceback (most recent call last):\n",
      "  File \"/home/j/miniforge3/envs/ml/lib/python3.9/site-packages/optuna/study/_optimize.py\", line 197, in _run_trial\n",
      "    value_or_values = func(trial)\n",
      "  File \"/tmp/ipykernel_6082/2821189847.py\", line 26, in objective\n",
      "    model = lgb.train(\n",
      "  File \"/home/j/miniforge3/envs/ml/lib/python3.9/site-packages/lightgbm/engine.py\", line 244, in train\n",
      "    train_set._update_params(params)._set_predictor(predictor)\n",
      "  File \"/home/j/miniforge3/envs/ml/lib/python3.9/site-packages/lightgbm/basic.py\", line 2748, in _update_params\n",
      "    raise LightGBMError(_LIB.LGBM_GetLastError().decode(\"utf-8\"))\n",
      "lightgbm.basic.LightGBMError: Reducing `min_data_in_leaf` with `feature_pre_filter=true` may cause unexpected behaviour for features that were pre-filtered by the larger `min_data_in_leaf`.\n",
      "You need to set `feature_pre_filter=false` to dynamically change the `min_data_in_leaf`.\n"
     ]
    },
    {
     "name": "stderr",
     "output_type": "stream",
     "text": [
      "[W 2025-02-06 20:24:39,179] Trial 1 failed with value None.\n"
     ]
    },
    {
     "name": "stdout",
     "output_type": "stream",
     "text": [
      "Trial 1 failed with value None.\n",
      "Trial 1 failed with value None.\n",
      "Trial 1 failed with value None.\n",
      "Trial 1 failed with value None.\n",
      "Trial 1 failed with value None.\n",
      "Trial 1 failed with value None.\n",
      "Trial 1 failed with value None.\n",
      "Trial 1 failed with value None.\n",
      "Trial 1 failed with value None.\n",
      "Trial 1 failed with value None.\n",
      "Trial 1 failed with value None.\n",
      "Trial 1 failed with value None.\n"
     ]
    },
    {
     "ename": "LightGBMError",
     "evalue": "Reducing `min_data_in_leaf` with `feature_pre_filter=true` may cause unexpected behaviour for features that were pre-filtered by the larger `min_data_in_leaf`.\nYou need to set `feature_pre_filter=false` to dynamically change the `min_data_in_leaf`.",
     "output_type": "error",
     "traceback": [
      "\u001b[0;31m---------------------------------------------------------------------------\u001b[0m",
      "\u001b[0;31mLightGBMError\u001b[0m                             Traceback (most recent call last)",
      "Cell \u001b[0;32mIn[18], line 51\u001b[0m\n\u001b[1;32m     48\u001b[0m \u001b[38;5;66;03m# storage_name = f\"sqlite:///{os.path.join(optuna_dir, study_name)}.db\"\u001b[39;00m\n\u001b[1;32m     50\u001b[0m study \u001b[38;5;241m=\u001b[39m optuna\u001b[38;5;241m.\u001b[39mcreate_study(study_name\u001b[38;5;241m=\u001b[39mstudy_name, storage\u001b[38;5;241m=\u001b[39mstorage_name, direction\u001b[38;5;241m=\u001b[39m\u001b[38;5;124m'\u001b[39m\u001b[38;5;124mminimize\u001b[39m\u001b[38;5;124m'\u001b[39m)\n\u001b[0;32m---> 51\u001b[0m \u001b[43mstudy\u001b[49m\u001b[38;5;241;43m.\u001b[39;49m\u001b[43moptimize\u001b[49m\u001b[43m(\u001b[49m\u001b[43mobjective\u001b[49m\u001b[43m,\u001b[49m\u001b[43m \u001b[49m\u001b[43mn_trials\u001b[49m\u001b[38;5;241;43m=\u001b[39;49m\u001b[38;5;241;43m10\u001b[39;49m\u001b[43m)\u001b[49m\n",
      "File \u001b[0;32m~/miniforge3/envs/ml/lib/python3.9/site-packages/optuna/study/study.py:475\u001b[0m, in \u001b[0;36mStudy.optimize\u001b[0;34m(self, func, n_trials, timeout, n_jobs, catch, callbacks, gc_after_trial, show_progress_bar)\u001b[0m\n\u001b[1;32m    373\u001b[0m \u001b[38;5;28;01mdef\u001b[39;00m\u001b[38;5;250m \u001b[39m\u001b[38;5;21moptimize\u001b[39m(\n\u001b[1;32m    374\u001b[0m     \u001b[38;5;28mself\u001b[39m,\n\u001b[1;32m    375\u001b[0m     func: ObjectiveFuncType,\n\u001b[0;32m   (...)\u001b[0m\n\u001b[1;32m    382\u001b[0m     show_progress_bar: \u001b[38;5;28mbool\u001b[39m \u001b[38;5;241m=\u001b[39m \u001b[38;5;28;01mFalse\u001b[39;00m,\n\u001b[1;32m    383\u001b[0m ) \u001b[38;5;241m-\u001b[39m\u001b[38;5;241m>\u001b[39m \u001b[38;5;28;01mNone\u001b[39;00m:\n\u001b[1;32m    384\u001b[0m \u001b[38;5;250m    \u001b[39m\u001b[38;5;124;03m\"\"\"Optimize an objective function.\u001b[39;00m\n\u001b[1;32m    385\u001b[0m \n\u001b[1;32m    386\u001b[0m \u001b[38;5;124;03m    Optimization is done by choosing a suitable set of hyperparameter values from a given\u001b[39;00m\n\u001b[0;32m   (...)\u001b[0m\n\u001b[1;32m    473\u001b[0m \u001b[38;5;124;03m            If nested invocation of this method occurs.\u001b[39;00m\n\u001b[1;32m    474\u001b[0m \u001b[38;5;124;03m    \"\"\"\u001b[39;00m\n\u001b[0;32m--> 475\u001b[0m     \u001b[43m_optimize\u001b[49m\u001b[43m(\u001b[49m\n\u001b[1;32m    476\u001b[0m \u001b[43m        \u001b[49m\u001b[43mstudy\u001b[49m\u001b[38;5;241;43m=\u001b[39;49m\u001b[38;5;28;43mself\u001b[39;49m\u001b[43m,\u001b[49m\n\u001b[1;32m    477\u001b[0m \u001b[43m        \u001b[49m\u001b[43mfunc\u001b[49m\u001b[38;5;241;43m=\u001b[39;49m\u001b[43mfunc\u001b[49m\u001b[43m,\u001b[49m\n\u001b[1;32m    478\u001b[0m \u001b[43m        \u001b[49m\u001b[43mn_trials\u001b[49m\u001b[38;5;241;43m=\u001b[39;49m\u001b[43mn_trials\u001b[49m\u001b[43m,\u001b[49m\n\u001b[1;32m    479\u001b[0m \u001b[43m        \u001b[49m\u001b[43mtimeout\u001b[49m\u001b[38;5;241;43m=\u001b[39;49m\u001b[43mtimeout\u001b[49m\u001b[43m,\u001b[49m\n\u001b[1;32m    480\u001b[0m \u001b[43m        \u001b[49m\u001b[43mn_jobs\u001b[49m\u001b[38;5;241;43m=\u001b[39;49m\u001b[43mn_jobs\u001b[49m\u001b[43m,\u001b[49m\n\u001b[1;32m    481\u001b[0m \u001b[43m        \u001b[49m\u001b[43mcatch\u001b[49m\u001b[38;5;241;43m=\u001b[39;49m\u001b[38;5;28;43mtuple\u001b[39;49m\u001b[43m(\u001b[49m\u001b[43mcatch\u001b[49m\u001b[43m)\u001b[49m\u001b[43m \u001b[49m\u001b[38;5;28;43;01mif\u001b[39;49;00m\u001b[43m \u001b[49m\u001b[38;5;28;43misinstance\u001b[39;49m\u001b[43m(\u001b[49m\u001b[43mcatch\u001b[49m\u001b[43m,\u001b[49m\u001b[43m \u001b[49m\u001b[43mIterable\u001b[49m\u001b[43m)\u001b[49m\u001b[43m \u001b[49m\u001b[38;5;28;43;01melse\u001b[39;49;00m\u001b[43m \u001b[49m\u001b[43m(\u001b[49m\u001b[43mcatch\u001b[49m\u001b[43m,\u001b[49m\u001b[43m)\u001b[49m\u001b[43m,\u001b[49m\n\u001b[1;32m    482\u001b[0m \u001b[43m        \u001b[49m\u001b[43mcallbacks\u001b[49m\u001b[38;5;241;43m=\u001b[39;49m\u001b[43mcallbacks\u001b[49m\u001b[43m,\u001b[49m\n\u001b[1;32m    483\u001b[0m \u001b[43m        \u001b[49m\u001b[43mgc_after_trial\u001b[49m\u001b[38;5;241;43m=\u001b[39;49m\u001b[43mgc_after_trial\u001b[49m\u001b[43m,\u001b[49m\n\u001b[1;32m    484\u001b[0m \u001b[43m        \u001b[49m\u001b[43mshow_progress_bar\u001b[49m\u001b[38;5;241;43m=\u001b[39;49m\u001b[43mshow_progress_bar\u001b[49m\u001b[43m,\u001b[49m\n\u001b[1;32m    485\u001b[0m \u001b[43m    \u001b[49m\u001b[43m)\u001b[49m\n",
      "File \u001b[0;32m~/miniforge3/envs/ml/lib/python3.9/site-packages/optuna/study/_optimize.py:63\u001b[0m, in \u001b[0;36m_optimize\u001b[0;34m(study, func, n_trials, timeout, n_jobs, catch, callbacks, gc_after_trial, show_progress_bar)\u001b[0m\n\u001b[1;32m     61\u001b[0m \u001b[38;5;28;01mtry\u001b[39;00m:\n\u001b[1;32m     62\u001b[0m     \u001b[38;5;28;01mif\u001b[39;00m n_jobs \u001b[38;5;241m==\u001b[39m \u001b[38;5;241m1\u001b[39m:\n\u001b[0;32m---> 63\u001b[0m         \u001b[43m_optimize_sequential\u001b[49m\u001b[43m(\u001b[49m\n\u001b[1;32m     64\u001b[0m \u001b[43m            \u001b[49m\u001b[43mstudy\u001b[49m\u001b[43m,\u001b[49m\n\u001b[1;32m     65\u001b[0m \u001b[43m            \u001b[49m\u001b[43mfunc\u001b[49m\u001b[43m,\u001b[49m\n\u001b[1;32m     66\u001b[0m \u001b[43m            \u001b[49m\u001b[43mn_trials\u001b[49m\u001b[43m,\u001b[49m\n\u001b[1;32m     67\u001b[0m \u001b[43m            \u001b[49m\u001b[43mtimeout\u001b[49m\u001b[43m,\u001b[49m\n\u001b[1;32m     68\u001b[0m \u001b[43m            \u001b[49m\u001b[43mcatch\u001b[49m\u001b[43m,\u001b[49m\n\u001b[1;32m     69\u001b[0m \u001b[43m            \u001b[49m\u001b[43mcallbacks\u001b[49m\u001b[43m,\u001b[49m\n\u001b[1;32m     70\u001b[0m \u001b[43m            \u001b[49m\u001b[43mgc_after_trial\u001b[49m\u001b[43m,\u001b[49m\n\u001b[1;32m     71\u001b[0m \u001b[43m            \u001b[49m\u001b[43mreseed_sampler_rng\u001b[49m\u001b[38;5;241;43m=\u001b[39;49m\u001b[38;5;28;43;01mFalse\u001b[39;49;00m\u001b[43m,\u001b[49m\n\u001b[1;32m     72\u001b[0m \u001b[43m            \u001b[49m\u001b[43mtime_start\u001b[49m\u001b[38;5;241;43m=\u001b[39;49m\u001b[38;5;28;43;01mNone\u001b[39;49;00m\u001b[43m,\u001b[49m\n\u001b[1;32m     73\u001b[0m \u001b[43m            \u001b[49m\u001b[43mprogress_bar\u001b[49m\u001b[38;5;241;43m=\u001b[39;49m\u001b[43mprogress_bar\u001b[49m\u001b[43m,\u001b[49m\n\u001b[1;32m     74\u001b[0m \u001b[43m        \u001b[49m\u001b[43m)\u001b[49m\n\u001b[1;32m     75\u001b[0m     \u001b[38;5;28;01melse\u001b[39;00m:\n\u001b[1;32m     76\u001b[0m         \u001b[38;5;28;01mif\u001b[39;00m n_jobs \u001b[38;5;241m==\u001b[39m \u001b[38;5;241m-\u001b[39m\u001b[38;5;241m1\u001b[39m:\n",
      "File \u001b[0;32m~/miniforge3/envs/ml/lib/python3.9/site-packages/optuna/study/_optimize.py:160\u001b[0m, in \u001b[0;36m_optimize_sequential\u001b[0;34m(study, func, n_trials, timeout, catch, callbacks, gc_after_trial, reseed_sampler_rng, time_start, progress_bar)\u001b[0m\n\u001b[1;32m    157\u001b[0m         \u001b[38;5;28;01mbreak\u001b[39;00m\n\u001b[1;32m    159\u001b[0m \u001b[38;5;28;01mtry\u001b[39;00m:\n\u001b[0;32m--> 160\u001b[0m     frozen_trial \u001b[38;5;241m=\u001b[39m \u001b[43m_run_trial\u001b[49m\u001b[43m(\u001b[49m\u001b[43mstudy\u001b[49m\u001b[43m,\u001b[49m\u001b[43m \u001b[49m\u001b[43mfunc\u001b[49m\u001b[43m,\u001b[49m\u001b[43m \u001b[49m\u001b[43mcatch\u001b[49m\u001b[43m)\u001b[49m\n\u001b[1;32m    161\u001b[0m \u001b[38;5;28;01mfinally\u001b[39;00m:\n\u001b[1;32m    162\u001b[0m     \u001b[38;5;66;03m# The following line mitigates memory problems that can be occurred in some\u001b[39;00m\n\u001b[1;32m    163\u001b[0m     \u001b[38;5;66;03m# environments (e.g., services that use computing containers such as GitHub Actions).\u001b[39;00m\n\u001b[1;32m    164\u001b[0m     \u001b[38;5;66;03m# Please refer to the following PR for further details:\u001b[39;00m\n\u001b[1;32m    165\u001b[0m     \u001b[38;5;66;03m# https://github.com/optuna/optuna/pull/325.\u001b[39;00m\n\u001b[1;32m    166\u001b[0m     \u001b[38;5;28;01mif\u001b[39;00m gc_after_trial:\n",
      "File \u001b[0;32m~/miniforge3/envs/ml/lib/python3.9/site-packages/optuna/study/_optimize.py:248\u001b[0m, in \u001b[0;36m_run_trial\u001b[0;34m(study, func, catch)\u001b[0m\n\u001b[1;32m    241\u001b[0m         \u001b[38;5;28;01massert\u001b[39;00m \u001b[38;5;28;01mFalse\u001b[39;00m, \u001b[38;5;124m\"\u001b[39m\u001b[38;5;124mShould not reach.\u001b[39m\u001b[38;5;124m\"\u001b[39m\n\u001b[1;32m    243\u001b[0m \u001b[38;5;28;01mif\u001b[39;00m (\n\u001b[1;32m    244\u001b[0m     frozen_trial\u001b[38;5;241m.\u001b[39mstate \u001b[38;5;241m==\u001b[39m TrialState\u001b[38;5;241m.\u001b[39mFAIL\n\u001b[1;32m    245\u001b[0m     \u001b[38;5;129;01mand\u001b[39;00m func_err \u001b[38;5;129;01mis\u001b[39;00m \u001b[38;5;129;01mnot\u001b[39;00m \u001b[38;5;28;01mNone\u001b[39;00m\n\u001b[1;32m    246\u001b[0m     \u001b[38;5;129;01mand\u001b[39;00m \u001b[38;5;129;01mnot\u001b[39;00m \u001b[38;5;28misinstance\u001b[39m(func_err, catch)\n\u001b[1;32m    247\u001b[0m ):\n\u001b[0;32m--> 248\u001b[0m     \u001b[38;5;28;01mraise\u001b[39;00m func_err\n\u001b[1;32m    249\u001b[0m \u001b[38;5;28;01mreturn\u001b[39;00m frozen_trial\n",
      "File \u001b[0;32m~/miniforge3/envs/ml/lib/python3.9/site-packages/optuna/study/_optimize.py:197\u001b[0m, in \u001b[0;36m_run_trial\u001b[0;34m(study, func, catch)\u001b[0m\n\u001b[1;32m    195\u001b[0m \u001b[38;5;28;01mwith\u001b[39;00m get_heartbeat_thread(trial\u001b[38;5;241m.\u001b[39m_trial_id, study\u001b[38;5;241m.\u001b[39m_storage):\n\u001b[1;32m    196\u001b[0m     \u001b[38;5;28;01mtry\u001b[39;00m:\n\u001b[0;32m--> 197\u001b[0m         value_or_values \u001b[38;5;241m=\u001b[39m \u001b[43mfunc\u001b[49m\u001b[43m(\u001b[49m\u001b[43mtrial\u001b[49m\u001b[43m)\u001b[49m\n\u001b[1;32m    198\u001b[0m     \u001b[38;5;28;01mexcept\u001b[39;00m exceptions\u001b[38;5;241m.\u001b[39mTrialPruned \u001b[38;5;28;01mas\u001b[39;00m e:\n\u001b[1;32m    199\u001b[0m         \u001b[38;5;66;03m# TODO(mamu): Handle multi-objective cases.\u001b[39;00m\n\u001b[1;32m    200\u001b[0m         state \u001b[38;5;241m=\u001b[39m TrialState\u001b[38;5;241m.\u001b[39mPRUNED\n",
      "Cell \u001b[0;32mIn[18], line 26\u001b[0m, in \u001b[0;36mobjective\u001b[0;34m(trial)\u001b[0m\n\u001b[1;32m      3\u001b[0m param \u001b[38;5;241m=\u001b[39m {\n\u001b[1;32m      4\u001b[0m     \u001b[38;5;124m'\u001b[39m\u001b[38;5;124mobjective\u001b[39m\u001b[38;5;124m'\u001b[39m: \u001b[38;5;124m'\u001b[39m\u001b[38;5;124mregression\u001b[39m\u001b[38;5;124m'\u001b[39m,\n\u001b[1;32m      5\u001b[0m     \u001b[38;5;124m'\u001b[39m\u001b[38;5;124mmetric\u001b[39m\u001b[38;5;124m'\u001b[39m: \u001b[38;5;124m'\u001b[39m\u001b[38;5;124mrmse\u001b[39m\u001b[38;5;124m'\u001b[39m,\n\u001b[0;32m   (...)\u001b[0m\n\u001b[1;32m     21\u001b[0m     \u001b[38;5;124m'\u001b[39m\u001b[38;5;124mgpu_use_dp\u001b[39m\u001b[38;5;124m'\u001b[39m: \u001b[38;5;28;01mFalse\u001b[39;00m,\n\u001b[1;32m     22\u001b[0m }\n\u001b[1;32m     25\u001b[0m \u001b[38;5;66;03m# Initialize the model with these parameters\u001b[39;00m\n\u001b[0;32m---> 26\u001b[0m model \u001b[38;5;241m=\u001b[39m \u001b[43mlgb\u001b[49m\u001b[38;5;241;43m.\u001b[39;49m\u001b[43mtrain\u001b[49m\u001b[43m(\u001b[49m\n\u001b[1;32m     27\u001b[0m \u001b[43m    \u001b[49m\u001b[43mparams\u001b[49m\u001b[38;5;241;43m=\u001b[39;49m\u001b[43mparam\u001b[49m\u001b[43m,\u001b[49m\n\u001b[1;32m     28\u001b[0m \u001b[43m    \u001b[49m\u001b[43mtrain_set\u001b[49m\u001b[38;5;241;43m=\u001b[39;49m\u001b[43mtrain_data\u001b[49m\u001b[43m,\u001b[49m\n\u001b[1;32m     29\u001b[0m \u001b[43m    \u001b[49m\u001b[43mnum_boost_round\u001b[49m\u001b[38;5;241;43m=\u001b[39;49m\u001b[38;5;241;43m10\u001b[39;49m\u001b[43m,\u001b[49m\n\u001b[1;32m     30\u001b[0m \u001b[43m    \u001b[49m\u001b[43mvalid_sets\u001b[49m\u001b[38;5;241;43m=\u001b[39;49m\u001b[43m[\u001b[49m\u001b[43mtrain_data\u001b[49m\u001b[43m,\u001b[49m\u001b[43m \u001b[49m\u001b[43mvalid_data\u001b[49m\u001b[43m]\u001b[49m\u001b[43m,\u001b[49m\n\u001b[1;32m     31\u001b[0m \u001b[43m    \u001b[49m\u001b[43mvalid_names\u001b[49m\u001b[38;5;241;43m=\u001b[39;49m\u001b[43m[\u001b[49m\u001b[38;5;124;43m'\u001b[39;49m\u001b[38;5;124;43mtrain_0\u001b[39;49m\u001b[38;5;124;43m'\u001b[39;49m\u001b[43m,\u001b[49m\u001b[43m \u001b[49m\u001b[38;5;124;43m'\u001b[39;49m\u001b[38;5;124;43mvalid_0\u001b[39;49m\u001b[38;5;124;43m'\u001b[39;49m\u001b[43m]\u001b[49m\u001b[43m,\u001b[49m\n\u001b[1;32m     32\u001b[0m \u001b[43m    \u001b[49m\u001b[43mcallbacks\u001b[49m\u001b[38;5;241;43m=\u001b[39;49m\u001b[43m[\u001b[49m\n\u001b[1;32m     33\u001b[0m \u001b[43m        \u001b[49m\u001b[43mLightGBMPruningCallback\u001b[49m\u001b[43m(\u001b[49m\u001b[43mtrial\u001b[49m\u001b[43m,\u001b[49m\u001b[43m \u001b[49m\u001b[38;5;124;43m\"\u001b[39;49m\u001b[38;5;124;43mrmse\u001b[39;49m\u001b[38;5;124;43m\"\u001b[39;49m\u001b[43m,\u001b[49m\u001b[43m \u001b[49m\u001b[43mvalid_name\u001b[49m\u001b[38;5;241;43m=\u001b[39;49m\u001b[38;5;124;43m\"\u001b[39;49m\u001b[38;5;124;43mvalid_0\u001b[39;49m\u001b[38;5;124;43m\"\u001b[39;49m\u001b[43m)\u001b[49m\u001b[43m,\u001b[49m\n\u001b[1;32m     34\u001b[0m \u001b[43m        \u001b[49m\u001b[43mlgb\u001b[49m\u001b[38;5;241;43m.\u001b[39;49m\u001b[43mlog_evaluation\u001b[49m\u001b[43m(\u001b[49m\u001b[38;5;241;43m-\u001b[39;49m\u001b[38;5;241;43m1\u001b[39;49m\u001b[43m)\u001b[49m\u001b[43m                   \u001b[49m\u001b[38;5;66;43;03m# Suppress training logs\u001b[39;49;00m\n\u001b[1;32m     35\u001b[0m \u001b[43m    \u001b[49m\u001b[43m]\u001b[49m\n\u001b[1;32m     36\u001b[0m \u001b[43m\u001b[49m\u001b[43m)\u001b[49m\n\u001b[1;32m     37\u001b[0m y_pred \u001b[38;5;241m=\u001b[39m model\u001b[38;5;241m.\u001b[39mpredict(X_valid, num_iteration\u001b[38;5;241m=\u001b[39mmodel\u001b[38;5;241m.\u001b[39mbest_iteration)\n\u001b[1;32m     38\u001b[0m rmse \u001b[38;5;241m=\u001b[39m np\u001b[38;5;241m.\u001b[39msqrt(mean_squared_error(y_valid, y_pred))    \n",
      "File \u001b[0;32m~/miniforge3/envs/ml/lib/python3.9/site-packages/lightgbm/engine.py:244\u001b[0m, in \u001b[0;36mtrain\u001b[0;34m(params, train_set, num_boost_round, valid_sets, valid_names, feval, init_model, keep_training_booster, callbacks)\u001b[0m\n\u001b[1;32m    241\u001b[0m \u001b[38;5;28;01melse\u001b[39;00m:\n\u001b[1;32m    242\u001b[0m     init_iteration \u001b[38;5;241m=\u001b[39m \u001b[38;5;241m0\u001b[39m\n\u001b[0;32m--> 244\u001b[0m \u001b[43mtrain_set\u001b[49m\u001b[38;5;241;43m.\u001b[39;49m\u001b[43m_update_params\u001b[49m\u001b[43m(\u001b[49m\u001b[43mparams\u001b[49m\u001b[43m)\u001b[49m\u001b[38;5;241m.\u001b[39m_set_predictor(predictor)\n\u001b[1;32m    246\u001b[0m is_valid_contain_train \u001b[38;5;241m=\u001b[39m \u001b[38;5;28;01mFalse\u001b[39;00m\n\u001b[1;32m    247\u001b[0m train_data_name \u001b[38;5;241m=\u001b[39m \u001b[38;5;124m\"\u001b[39m\u001b[38;5;124mtraining\u001b[39m\u001b[38;5;124m\"\u001b[39m\n",
      "File \u001b[0;32m~/miniforge3/envs/ml/lib/python3.9/site-packages/lightgbm/basic.py:2748\u001b[0m, in \u001b[0;36mDataset._update_params\u001b[0;34m(self, params)\u001b[0m\n\u001b[1;32m   2746\u001b[0m             \u001b[38;5;28mself\u001b[39m\u001b[38;5;241m.\u001b[39m_free_handle()\n\u001b[1;32m   2747\u001b[0m         \u001b[38;5;28;01melse\u001b[39;00m:\n\u001b[0;32m-> 2748\u001b[0m             \u001b[38;5;28;01mraise\u001b[39;00m LightGBMError(_LIB\u001b[38;5;241m.\u001b[39mLGBM_GetLastError()\u001b[38;5;241m.\u001b[39mdecode(\u001b[38;5;124m\"\u001b[39m\u001b[38;5;124mutf-8\u001b[39m\u001b[38;5;124m\"\u001b[39m))\n\u001b[1;32m   2749\u001b[0m \u001b[38;5;28;01mreturn\u001b[39;00m \u001b[38;5;28mself\u001b[39m\n",
      "\u001b[0;31mLightGBMError\u001b[0m: Reducing `min_data_in_leaf` with `feature_pre_filter=true` may cause unexpected behaviour for features that were pre-filtered by the larger `min_data_in_leaf`.\nYou need to set `feature_pre_filter=false` to dynamically change the `min_data_in_leaf`."
     ]
    }
   ],
   "source": [
    "def objective(trial):    \n",
    "    # Define the hyperparameter search space\n",
    "    param = {\n",
    "        'objective': 'regression',\n",
    "        'metric': 'rmse',\n",
    "        'colsample_bytree': trial.suggest_float('colsample_bytree', 0.25, .35),\n",
    "        'learning_rate': trial.suggest_loguniform('learning_rate', .01, 0.05),\n",
    "        'max_bin': 15,\n",
    "        'max_depth': 10,\n",
    "        'min_child_samples': trial.suggest_int('min_child_samples', 40, 80),\n",
    "        'min_split_gain': 0.5,\n",
    "        'n_estimators': trial.suggest_int('n_estimators', 9000, 15000),\n",
    "        'num_leaves': trial.suggest_int('num_leaves', 64, 256),\n",
    "        'reg_alpha': trial.suggest_loguniform('reg_alpha', 0.5, 2.0),\n",
    "        'reg_lambda': trial.suggest_loguniform('reg_lambda', 0.000001, 0.00001),\n",
    "        'subsample': trial.suggest_float('subsample', 0.2, 0.25),\n",
    "        'random_state': 42,\n",
    "        'early_stopping_rounds': 50,\n",
    "        'verbosity': -1,\n",
    "        'device': 'gpu',\n",
    "        'gpu_use_dp': False,\n",
    "    }\n",
    "    \n",
    "    \n",
    "    # Initialize the model with these parameters\n",
    "    model = lgb.train(\n",
    "        params=param,\n",
    "        train_set=train_data,\n",
    "        num_boost_round=10,\n",
    "        valid_sets=[train_data, valid_data],\n",
    "        valid_names=['train_0', 'valid_0'],\n",
    "        callbacks=[\n",
    "            LightGBMPruningCallback(trial, \"rmse\", valid_name=\"valid_0\"),\n",
    "            lgb.log_evaluation(-1)                   # Suppress training logs\n",
    "        ]\n",
    "    )\n",
    "    y_pred = model.predict(X_valid, num_iteration=model.best_iteration)\n",
    "    rmse = np.sqrt(mean_squared_error(y_valid, y_pred))    \n",
    "    return rmse\n",
    "\n",
    "\n",
    "train_data = lgb.Dataset(X_train, label=y_train)\n",
    "valid_data = lgb.Dataset(X_valid, label=y_valid, reference=train_data)\n",
    "\n",
    "optuna.logging.get_logger(\"optuna\").addHandler(logging.StreamHandler(sys.stdout))\n",
    "study_name = datetime.now().strftime(\"%Y-%m-%d_%H-%M\")\n",
    "storage_name = f\"sqlite:///db.sqlite3\"\n",
    "# storage_name = f\"sqlite:///{os.path.join(optuna_dir, study_name)}.db\"\n",
    "\n",
    "study = optuna.create_study(study_name=study_name, storage=storage_name, direction='minimize')\n",
    "study.optimize(objective, n_trials=10)"
   ]
  },
  {
   "cell_type": "code",
   "execution_count": null,
   "metadata": {},
   "outputs": [],
   "source": [
    "numeric_transformer = Pipeline(\n",
    "    steps=[('scaler', StandardScaler())]\n",
    ")\n",
    "\n",
    "categorical_transformer = Pipeline(\n",
    "    steps=[('onehot', OneHotEncoder(handle_unknown='ignore', drop=None))]\n",
    ")\n",
    "\n",
    "preprocessor = ColumnTransformer(\n",
    "    transformers=[\n",
    "        ('num', numeric_transformer, numeric_cols),\n",
    "        ('cat', categorical_transformer, cat_cols)\n",
    "    ],\n",
    "    remainder='drop'  # drop other columns not listed\n",
    ")"
   ]
  },
  {
   "cell_type": "code",
   "execution_count": 14,
   "metadata": {},
   "outputs": [],
   "source": [
    "# import numpy as np\n",
    "# import seaborn as sns\n",
    "# import matplotlib.pyplot as plt\n",
    "# from sklearn.metrics import mean_squared_error\n",
    "# from sklearn.model_selection import KFold\n",
    "# from sklearn.model_selection import train_test_split, cross_val_score\n",
    "# import lightgbm as lgb\n",
    "\n",
    "# def check_gpu_support():\n",
    "#     data = np.random.rand(50, 2)\n",
    "#     label = np.random.randint(2, size=50)\n",
    "#     train_data = lgb.Dataset(data, label=label)\n",
    "#     params = {'device': 'gpu'}\n",
    "#     try:\n",
    "#         gbm = lgb.train(params, train_set=train_data)\n",
    "#         return True\n",
    "#     except Exception as e:\n",
    "#         return False\n",
    "\n",
    "# check_gpu_support()"
   ]
  },
  {
   "cell_type": "code",
   "execution_count": null,
   "metadata": {},
   "outputs": [],
   "source": []
  }
 ],
 "metadata": {
  "kernelspec": {
   "display_name": "ml",
   "language": "python",
   "name": "python3"
  },
  "language_info": {
   "codemirror_mode": {
    "name": "ipython",
    "version": 3
   },
   "file_extension": ".py",
   "mimetype": "text/x-python",
   "name": "python",
   "nbconvert_exporter": "python",
   "pygments_lexer": "ipython3",
   "version": "3.9.21"
  }
 },
 "nbformat": 4,
 "nbformat_minor": 2
}
