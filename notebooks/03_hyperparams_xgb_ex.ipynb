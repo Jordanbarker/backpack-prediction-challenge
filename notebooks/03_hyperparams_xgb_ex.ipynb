{
 "cells": [
  {
   "cell_type": "code",
   "execution_count": 24,
   "metadata": {},
   "outputs": [
    {
     "name": "stdout",
     "output_type": "stream",
     "text": [
      "The autoreload extension is already loaded. To reload it, use:\n",
      "  %reload_ext autoreload\n"
     ]
    }
   ],
   "source": [
    "from backpack_predictor import prepare_data, target_encoding\n",
    "from backpack_predictor.features import target, baseline_features, feature_list, cat_cols\n",
    "\n",
    "%load_ext autoreload\n",
    "%autoreload 2\n",
    "\n",
    "from datetime import datetime\n",
    "import time\n",
    "import numpy as np\n",
    "import pandas as pd\n",
    "from scipy.stats import skew, chisquare, kruskal, ks_2samp, chi2_contingency\n",
    "\n",
    "import seaborn as sns\n",
    "import matplotlib.pyplot as plt\n",
    "\n",
    "from sklearn.model_selection import KFold, train_test_split\n",
    "from sklearn.metrics import root_mean_squared_error\n",
    "from sklearn.preprocessing import TargetEncoder\n",
    "\n",
    "\n",
    "import xgboost as xgb\n",
    "\n",
    "from optuna.integration import XGBoostPruningCallback, CatBoostPruningCallback\n",
    "import optuna\n",
    "\n",
    "import warnings\n",
    "warnings.filterwarnings('ignore')\n",
    "\n",
    "test_df = pd.read_csv(r'..//data//test.csv')\n",
    "train_df = pd.read_csv(r'..//data//train.csv')\n",
    "train_extra_df = pd.read_csv(r'..//data//training_extra.csv')\n",
    "train_df = pd.concat([train_df, train_extra_df], ignore_index=True)\n",
    "\n",
    "# Apply function to train and test datasets\n",
    "train_df = prepare_data(train_df, is_train=True)\n",
    "test_df = prepare_data(test_df, is_train=False)\n",
    "\n",
    "# X = train_df.drop(target, axis=1)\n",
    "# y = train_df[target]"
   ]
  },
  {
   "cell_type": "code",
   "execution_count": 25,
   "metadata": {},
   "outputs": [
    {
     "data": {
      "text/plain": [
       "['brand',\n",
       " 'material',\n",
       " 'size',\n",
       " 'compartments',\n",
       " 'style',\n",
       " 'color',\n",
       " 'laptop_compartment',\n",
       " 'is_waterproof']"
      ]
     },
     "execution_count": 25,
     "metadata": {},
     "output_type": "execute_result"
    }
   ],
   "source": [
    "cat_cols"
   ]
  },
  {
   "cell_type": "code",
   "execution_count": 26,
   "metadata": {},
   "outputs": [],
   "source": [
    "train_df = pd.get_dummies(train_df, columns=['brand', 'material', 'size', 'style','color', 'laptop_compartment','is_waterproof'], drop_first=False)"
   ]
  },
  {
   "cell_type": "code",
   "execution_count": 27,
   "metadata": {},
   "outputs": [
    {
     "data": {
      "text/plain": [
       "Index(['compartments', 'weight_capacity', 'price', 'brand_Adidas',\n",
       "       'brand_Jansport', 'brand_Nike', 'brand_Puma', 'brand_Under Armour',\n",
       "       'material_Canvas', 'material_Leather', 'material_Nylon',\n",
       "       'material_Polyester', 'size_-1.0', 'size_0.0', 'size_1.0', 'size_2.0',\n",
       "       'style_Backpack', 'style_Messenger', 'style_Tote', 'color_Black',\n",
       "       'color_Blue', 'color_Gray', 'color_Green', 'color_Pink', 'color_Red',\n",
       "       'laptop_compartment_-1', 'laptop_compartment_0', 'laptop_compartment_1',\n",
       "       'is_waterproof_-1', 'is_waterproof_0', 'is_waterproof_1'],\n",
       "      dtype='object')"
      ]
     },
     "execution_count": 27,
     "metadata": {},
     "output_type": "execute_result"
    }
   ],
   "source": [
    "train_df.columns"
   ]
  },
  {
   "cell_type": "code",
   "execution_count": 28,
   "metadata": {},
   "outputs": [],
   "source": [
    "model_str = \"xgb_\"\n",
    "# cols_to_transform = [\"weight_capacity\"]\n",
    "cols_to_transform = ['compartments', 'weight_capacity', 'brand_Adidas',\n",
    "       'brand_Jansport', 'brand_Nike', 'brand_Puma', 'brand_Under Armour',\n",
    "       'material_Canvas', 'material_Leather', 'material_Nylon',\n",
    "       'material_Polyester', 'size_-1.0', 'size_0.0', 'size_1.0', 'size_2.0',\n",
    "       'style_Backpack', 'style_Messenger', 'style_Tote', 'color_Black',\n",
    "       'color_Blue', 'color_Gray', 'color_Green', 'color_Pink', 'color_Red',\n",
    "       'laptop_compartment_-1', 'laptop_compartment_0', 'laptop_compartment_1',\n",
    "       'is_waterproof_-1', 'is_waterproof_0', 'is_waterproof_1']"
   ]
  },
  {
   "cell_type": "code",
   "execution_count": 29,
   "metadata": {},
   "outputs": [],
   "source": [
    "num_col = 'weight_capacity' \n",
    "precision = 7\n",
    "dec_cols = []\n",
    "for n in range(1, precision):\n",
    "    new_col = f\"{num_col}_decimal_{n}\"\n",
    "    train_df[new_col] = (train_df[num_col] * 10**n).astype(int) % 10\n",
    "    dec_cols.append(new_col)"
   ]
  },
  {
   "cell_type": "code",
   "execution_count": 30,
   "metadata": {},
   "outputs": [],
   "source": [
    "cols_to_transform = cols_to_transform + dec_cols"
   ]
  },
  {
   "cell_type": "code",
   "execution_count": 22,
   "metadata": {},
   "outputs": [],
   "source": [
    "kf = KFold(n_splits=5, shuffle=True, random_state=42)\n",
    "data_splits = []\n",
    "\n",
    "for train_index, val_index in kf.split(train_df):\n",
    "    train_fold = train_df.iloc[train_index]\n",
    "    val_fold = train_df.iloc[val_index]\n",
    "\n",
    "    te = TargetEncoder(target_type=\"continuous\", smooth=20)\n",
    "    train_te = te.fit_transform(train_fold[cols_to_transform], train_fold[target])\n",
    "    val_te = te.transform(val_fold[cols_to_transform])\n",
    "\n",
    "    dtrain = xgb.DMatrix(train_te, label=train_fold[target], enable_categorical=True)\n",
    "    dvalid = xgb.DMatrix(val_te, label=val_fold[target], enable_categorical=True)\n",
    "\n",
    "    data_splits.append((dtrain, dvalid))"
   ]
  },
  {
   "cell_type": "code",
   "execution_count": null,
   "metadata": {},
   "outputs": [
    {
     "name": "stderr",
     "output_type": "stream",
     "text": [
      "[I 2025-02-12 18:42:12,849] A new study created in RDB with name: xgb_2025-02-12_18-42\n",
      "[I 2025-02-12 18:57:30,928] Trial 0 finished with value: 1.4498913049697877 and parameters: {'colsample_bylevel': 0.9580203416146142, 'colsample_bytree': 0.8658087808683591, 'learning_rate': 0.005418964742255739, 'max_depth': 6, 'min_child_weight': 25, 'gamma': 0.19273880797946277, 'subsample': 0.604836808111791, 'reg_alpha': 0.0029383745888272553, 'reg_lambda': 0.05198623766685396}. Best is trial 0 with value: 1.4498913049697877.\n",
      "[I 2025-02-12 18:58:37,805] Trial 1 finished with value: 2.375924015045166 and parameters: {'colsample_bylevel': 0.4781616356543459, 'colsample_bytree': 0.9458176020481978, 'learning_rate': 0.20493117523568896, 'max_depth': 14, 'min_child_weight': 20, 'gamma': 0.979434047911108, 'subsample': 0.3894869163790713, 'reg_alpha': 0.0011603833472301507, 'reg_lambda': 1.4865537411384123e-06}. Best is trial 0 with value: 1.4498913049697877.\n",
      "[I 2025-02-12 19:09:11,928] Trial 2 finished with value: 1.432010555267334 and parameters: {'colsample_bylevel': 0.9030573121323229, 'colsample_bytree': 0.9901619410975916, 'learning_rate': 0.0073553354851418765, 'max_depth': 8, 'min_child_weight': 10, 'gamma': 0.47640446897775623, 'subsample': 0.8242109881785906, 'reg_alpha': 0.00026472180496462565, 'reg_lambda': 0.03306788116532481}. Best is trial 2 with value: 1.432010555267334.\n",
      "[I 2025-02-12 19:10:03,293] Trial 3 finished with value: 2.683734655380249 and parameters: {'colsample_bylevel': 0.5755842939933598, 'colsample_bytree': 0.7872702616917777, 'learning_rate': 0.15573745639199174, 'max_depth': 3, 'min_child_weight': 33, 'gamma': 0.43399815701071986, 'subsample': 0.9899622097913141, 'reg_alpha': 0.07208429977111581, 'reg_lambda': 2.6159099017172172e-05}. Best is trial 2 with value: 1.432010555267334.\n",
      "[I 2025-02-12 19:20:00,020] Trial 4 finished with value: 1.634045171737671 and parameters: {'colsample_bylevel': 0.39645197165672585, 'colsample_bytree': 0.7266374908788755, 'learning_rate': 0.01231492169850441, 'max_depth': 10, 'min_child_weight': 14, 'gamma': 0.5092999019862192, 'subsample': 0.7903477534731873, 'reg_alpha': 0.9971451359838196, 'reg_lambda': 0.004055144223027469}. Best is trial 2 with value: 1.432010555267334.\n",
      "[I 2025-02-12 19:20:00,438] Trial 5 pruned. Trial was pruned at iteration 0.\n",
      "[I 2025-02-12 19:20:00,871] Trial 6 pruned. Trial was pruned at iteration 0.\n",
      "[I 2025-02-12 19:20:01,138] Trial 7 pruned. Trial was pruned at iteration 0.\n",
      "[I 2025-02-12 19:20:48,114] Trial 8 finished with value: 2.365364360809326 and parameters: {'colsample_bylevel': 0.6047491014568158, 'colsample_bytree': 0.9508776960712965, 'learning_rate': 0.23412523580057323, 'max_depth': 10, 'min_child_weight': 8, 'gamma': 0.9274395704354453, 'subsample': 0.3603974843103448, 'reg_alpha': 2.5077542558753642e-05, 'reg_lambda': 0.0004602991030748483}. Best is trial 2 with value: 1.432010555267334.\n",
      "[I 2025-02-12 19:20:48,389] Trial 9 pruned. Trial was pruned at iteration 0.\n",
      "[I 2025-02-12 19:20:48,744] Trial 10 pruned. Trial was pruned at iteration 0.\n",
      "[I 2025-02-12 19:20:49,159] Trial 11 pruned. Trial was pruned at iteration 0.\n",
      "[I 2025-02-12 19:20:49,497] Trial 12 pruned. Trial was pruned at iteration 0.\n",
      "[I 2025-02-12 19:20:49,897] Trial 13 pruned. Trial was pruned at iteration 0.\n",
      "[I 2025-02-12 19:20:50,329] Trial 14 pruned. Trial was pruned at iteration 0.\n",
      "[I 2025-02-12 19:20:50,887] Trial 15 pruned. Trial was pruned at iteration 1.\n",
      "[I 2025-02-12 19:20:51,931] Trial 16 pruned. Trial was pruned at iteration 2.\n",
      "[I 2025-02-12 19:20:52,263] Trial 17 pruned. Trial was pruned at iteration 0.\n",
      "[I 2025-02-12 19:20:52,645] Trial 18 pruned. Trial was pruned at iteration 0.\n",
      "[I 2025-02-12 19:20:53,716] Trial 19 pruned. Trial was pruned at iteration 1.\n",
      "[I 2025-02-12 19:20:54,074] Trial 20 pruned. Trial was pruned at iteration 0.\n",
      "[I 2025-02-12 19:20:54,469] Trial 21 pruned. Trial was pruned at iteration 0.\n",
      "[I 2025-02-12 19:20:54,864] Trial 22 pruned. Trial was pruned at iteration 0.\n",
      "[I 2025-02-12 19:20:55,298] Trial 23 pruned. Trial was pruned at iteration 0.\n",
      "[I 2025-02-12 19:20:55,670] Trial 24 pruned. Trial was pruned at iteration 0.\n",
      "[I 2025-02-12 19:20:56,077] Trial 25 pruned. Trial was pruned at iteration 0.\n",
      "[I 2025-02-12 19:20:56,451] Trial 26 pruned. Trial was pruned at iteration 0.\n",
      "[I 2025-02-12 19:20:56,996] Trial 27 pruned. Trial was pruned at iteration 1.\n",
      "[I 2025-02-12 19:22:27,397] Trial 28 finished with value: 1.9303194761276246 and parameters: {'colsample_bylevel': 0.8726910530349858, 'colsample_bytree': 0.9635591643247414, 'learning_rate': 0.0477168120232632, 'max_depth': 4, 'min_child_weight': 16, 'gamma': 0.6093984196975886, 'subsample': 0.6897333474089198, 'reg_alpha': 1.0698234978128726e-05, 'reg_lambda': 0.028324039503352712}. Best is trial 2 with value: 1.432010555267334.\n",
      "[I 2025-02-12 19:22:27,881] Trial 29 pruned. Trial was pruned at iteration 0.\n",
      "[I 2025-02-12 19:22:28,283] Trial 30 pruned. Trial was pruned at iteration 0.\n",
      "[I 2025-02-12 19:23:36,372] Trial 31 finished with value: 2.0070990085601808 and parameters: {'colsample_bylevel': 0.8831662142701472, 'colsample_bytree': 0.9519523092577789, 'learning_rate': 0.07220225945646472, 'max_depth': 5, 'min_child_weight': 15, 'gamma': 0.6157145088171057, 'subsample': 0.7008858481422754, 'reg_alpha': 7.1274040943497225e-06, 'reg_lambda': 0.024302542619056566}. Best is trial 2 with value: 1.432010555267334.\n",
      "[I 2025-02-12 19:23:36,925] Trial 32 pruned. Trial was pruned at iteration 1.\n",
      "[I 2025-02-12 19:23:37,465] Trial 33 pruned. Trial was pruned at iteration 1.\n",
      "[I 2025-02-12 19:23:37,821] Trial 34 pruned. Trial was pruned at iteration 0.\n",
      "[I 2025-02-12 19:23:38,225] Trial 35 pruned. Trial was pruned at iteration 0.\n",
      "[I 2025-02-12 19:23:38,648] Trial 36 pruned. Trial was pruned at iteration 0.\n",
      "[I 2025-02-12 19:23:38,959] Trial 37 pruned. Trial was pruned at iteration 0.\n",
      "[I 2025-02-12 19:23:39,390] Trial 38 pruned. Trial was pruned at iteration 0.\n",
      "[I 2025-02-12 19:23:39,777] Trial 39 pruned. Trial was pruned at iteration 0.\n",
      "[I 2025-02-12 19:23:40,156] Trial 40 pruned. Trial was pruned at iteration 0.\n",
      "[I 2025-02-12 19:24:44,881] Trial 41 finished with value: 2.0576257705688477 and parameters: {'colsample_bylevel': 0.8947872768599956, 'colsample_bytree': 0.9615794002359129, 'learning_rate': 0.0785498008940368, 'max_depth': 5, 'min_child_weight': 17, 'gamma': 0.6286039291299752, 'subsample': 0.6853285919999876, 'reg_alpha': 1.0124792273998192e-06, 'reg_lambda': 0.026468350015200152}. Best is trial 2 with value: 1.432010555267334.\n",
      "[I 2025-02-12 19:24:45,227] Trial 42 pruned. Trial was pruned at iteration 0.\n",
      "[I 2025-02-12 19:24:45,915] Trial 43 pruned. Trial was pruned at iteration 2.\n",
      "[I 2025-02-12 19:25:52,938] Trial 44 finished with value: 2.1590794563293456 and parameters: {'colsample_bylevel': 0.8388286411124835, 'colsample_bytree': 0.9907047295806026, 'learning_rate': 0.0917330572144746, 'max_depth': 6, 'min_child_weight': 8, 'gamma': 0.6655110835373058, 'subsample': 0.5668463992360753, 'reg_alpha': 3.8251631566059335e-05, 'reg_lambda': 6.044923906141581e-06}. Best is trial 2 with value: 1.432010555267334.\n",
      "[W 2025-02-12 19:26:11,694] Trial 45 failed with parameters: {'colsample_bylevel': 0.882293225659254, 'colsample_bytree': 0.8913536238233413, 'learning_rate': 0.13303283564347373, 'max_depth': 5, 'min_child_weight': 21, 'gamma': 0.485060882204869, 'subsample': 0.7105491989785392, 'reg_alpha': 1.7311131691812353e-05, 'reg_lambda': 0.005520591491809711} because of the following error: KeyboardInterrupt().\n",
      "Traceback (most recent call last):\n",
      "  File \"/home/j/miniforge3/envs/ml/lib/python3.9/site-packages/optuna/study/_optimize.py\", line 197, in _run_trial\n",
      "    value_or_values = func(trial)\n",
      "  File \"/tmp/ipykernel_1430716/334998672.py\", line 32, in objective\n",
      "    bst = xgb.train(\n",
      "  File \"/home/j/miniforge3/envs/ml/lib/python3.9/site-packages/xgboost/core.py\", line 726, in inner_f\n",
      "    return func(**kwargs)\n",
      "  File \"/home/j/miniforge3/envs/ml/lib/python3.9/site-packages/xgboost/training.py\", line 181, in train\n",
      "    bst.update(dtrain, iteration=i, fobj=obj)\n",
      "  File \"/home/j/miniforge3/envs/ml/lib/python3.9/site-packages/xgboost/core.py\", line 2101, in update\n",
      "    _LIB.XGBoosterUpdateOneIter(\n",
      "KeyboardInterrupt\n",
      "[W 2025-02-12 19:26:11,695] Trial 45 failed with value None.\n"
     ]
    },
    {
     "ename": "KeyboardInterrupt",
     "evalue": "",
     "output_type": "error",
     "traceback": [
      "\u001b[0;31m---------------------------------------------------------------------------\u001b[0m",
      "\u001b[0;31mKeyboardInterrupt\u001b[0m                         Traceback (most recent call last)",
      "Cell \u001b[0;32mIn[23], line 56\u001b[0m\n\u001b[1;32m     48\u001b[0m     \u001b[38;5;28;01mreturn\u001b[39;00m np\u001b[38;5;241m.\u001b[39mmean(rmse_list)\n\u001b[1;32m     51\u001b[0m study \u001b[38;5;241m=\u001b[39m optuna\u001b[38;5;241m.\u001b[39mcreate_study(\n\u001b[1;32m     52\u001b[0m         storage\u001b[38;5;241m=\u001b[39m\u001b[38;5;124mf\u001b[39m\u001b[38;5;124m\"\u001b[39m\u001b[38;5;124msqlite:///..//optuna//\u001b[39m\u001b[38;5;132;01m{\u001b[39;00mmodel_str\u001b[38;5;132;01m}\u001b[39;00m\u001b[38;5;124mdb.sqlite3\u001b[39m\u001b[38;5;124m\"\u001b[39m,\n\u001b[1;32m     53\u001b[0m         study_name\u001b[38;5;241m=\u001b[39mmodel_str \u001b[38;5;241m+\u001b[39m datetime\u001b[38;5;241m.\u001b[39mnow()\u001b[38;5;241m.\u001b[39mstrftime(\u001b[38;5;124m\"\u001b[39m\u001b[38;5;124m%\u001b[39m\u001b[38;5;124mY-\u001b[39m\u001b[38;5;124m%\u001b[39m\u001b[38;5;124mm-\u001b[39m\u001b[38;5;132;01m%d\u001b[39;00m\u001b[38;5;124m_\u001b[39m\u001b[38;5;124m%\u001b[39m\u001b[38;5;124mH-\u001b[39m\u001b[38;5;124m%\u001b[39m\u001b[38;5;124mM\u001b[39m\u001b[38;5;124m\"\u001b[39m),\n\u001b[1;32m     54\u001b[0m         direction\u001b[38;5;241m=\u001b[39m\u001b[38;5;124m\"\u001b[39m\u001b[38;5;124mminimize\u001b[39m\u001b[38;5;124m\"\u001b[39m\n\u001b[1;32m     55\u001b[0m )\n\u001b[0;32m---> 56\u001b[0m \u001b[43mstudy\u001b[49m\u001b[38;5;241;43m.\u001b[39;49m\u001b[43moptimize\u001b[49m\u001b[43m(\u001b[49m\u001b[43mobjective\u001b[49m\u001b[43m,\u001b[49m\u001b[43m \u001b[49m\u001b[43mn_trials\u001b[49m\u001b[38;5;241;43m=\u001b[39;49m\u001b[38;5;241;43m500\u001b[39;49m\u001b[43m)\u001b[49m\n\u001b[1;32m     58\u001b[0m \u001b[38;5;28mprint\u001b[39m(\u001b[38;5;124m\"\u001b[39m\u001b[38;5;130;01m\\n\u001b[39;00m\u001b[38;5;124m=========================\u001b[39m\u001b[38;5;124m\"\u001b[39m)\n\u001b[1;32m     59\u001b[0m \u001b[38;5;28mprint\u001b[39m(\u001b[38;5;124m\"\u001b[39m\u001b[38;5;124mNumber of finished trials:\u001b[39m\u001b[38;5;124m\"\u001b[39m, \u001b[38;5;28mlen\u001b[39m(study\u001b[38;5;241m.\u001b[39mtrials))\n",
      "File \u001b[0;32m~/miniforge3/envs/ml/lib/python3.9/site-packages/optuna/study/study.py:475\u001b[0m, in \u001b[0;36mStudy.optimize\u001b[0;34m(self, func, n_trials, timeout, n_jobs, catch, callbacks, gc_after_trial, show_progress_bar)\u001b[0m\n\u001b[1;32m    373\u001b[0m \u001b[38;5;28;01mdef\u001b[39;00m\u001b[38;5;250m \u001b[39m\u001b[38;5;21moptimize\u001b[39m(\n\u001b[1;32m    374\u001b[0m     \u001b[38;5;28mself\u001b[39m,\n\u001b[1;32m    375\u001b[0m     func: ObjectiveFuncType,\n\u001b[0;32m   (...)\u001b[0m\n\u001b[1;32m    382\u001b[0m     show_progress_bar: \u001b[38;5;28mbool\u001b[39m \u001b[38;5;241m=\u001b[39m \u001b[38;5;28;01mFalse\u001b[39;00m,\n\u001b[1;32m    383\u001b[0m ) \u001b[38;5;241m-\u001b[39m\u001b[38;5;241m>\u001b[39m \u001b[38;5;28;01mNone\u001b[39;00m:\n\u001b[1;32m    384\u001b[0m \u001b[38;5;250m    \u001b[39m\u001b[38;5;124;03m\"\"\"Optimize an objective function.\u001b[39;00m\n\u001b[1;32m    385\u001b[0m \n\u001b[1;32m    386\u001b[0m \u001b[38;5;124;03m    Optimization is done by choosing a suitable set of hyperparameter values from a given\u001b[39;00m\n\u001b[0;32m   (...)\u001b[0m\n\u001b[1;32m    473\u001b[0m \u001b[38;5;124;03m            If nested invocation of this method occurs.\u001b[39;00m\n\u001b[1;32m    474\u001b[0m \u001b[38;5;124;03m    \"\"\"\u001b[39;00m\n\u001b[0;32m--> 475\u001b[0m     \u001b[43m_optimize\u001b[49m\u001b[43m(\u001b[49m\n\u001b[1;32m    476\u001b[0m \u001b[43m        \u001b[49m\u001b[43mstudy\u001b[49m\u001b[38;5;241;43m=\u001b[39;49m\u001b[38;5;28;43mself\u001b[39;49m\u001b[43m,\u001b[49m\n\u001b[1;32m    477\u001b[0m \u001b[43m        \u001b[49m\u001b[43mfunc\u001b[49m\u001b[38;5;241;43m=\u001b[39;49m\u001b[43mfunc\u001b[49m\u001b[43m,\u001b[49m\n\u001b[1;32m    478\u001b[0m \u001b[43m        \u001b[49m\u001b[43mn_trials\u001b[49m\u001b[38;5;241;43m=\u001b[39;49m\u001b[43mn_trials\u001b[49m\u001b[43m,\u001b[49m\n\u001b[1;32m    479\u001b[0m \u001b[43m        \u001b[49m\u001b[43mtimeout\u001b[49m\u001b[38;5;241;43m=\u001b[39;49m\u001b[43mtimeout\u001b[49m\u001b[43m,\u001b[49m\n\u001b[1;32m    480\u001b[0m \u001b[43m        \u001b[49m\u001b[43mn_jobs\u001b[49m\u001b[38;5;241;43m=\u001b[39;49m\u001b[43mn_jobs\u001b[49m\u001b[43m,\u001b[49m\n\u001b[1;32m    481\u001b[0m \u001b[43m        \u001b[49m\u001b[43mcatch\u001b[49m\u001b[38;5;241;43m=\u001b[39;49m\u001b[38;5;28;43mtuple\u001b[39;49m\u001b[43m(\u001b[49m\u001b[43mcatch\u001b[49m\u001b[43m)\u001b[49m\u001b[43m \u001b[49m\u001b[38;5;28;43;01mif\u001b[39;49;00m\u001b[43m \u001b[49m\u001b[38;5;28;43misinstance\u001b[39;49m\u001b[43m(\u001b[49m\u001b[43mcatch\u001b[49m\u001b[43m,\u001b[49m\u001b[43m \u001b[49m\u001b[43mIterable\u001b[49m\u001b[43m)\u001b[49m\u001b[43m \u001b[49m\u001b[38;5;28;43;01melse\u001b[39;49;00m\u001b[43m \u001b[49m\u001b[43m(\u001b[49m\u001b[43mcatch\u001b[49m\u001b[43m,\u001b[49m\u001b[43m)\u001b[49m\u001b[43m,\u001b[49m\n\u001b[1;32m    482\u001b[0m \u001b[43m        \u001b[49m\u001b[43mcallbacks\u001b[49m\u001b[38;5;241;43m=\u001b[39;49m\u001b[43mcallbacks\u001b[49m\u001b[43m,\u001b[49m\n\u001b[1;32m    483\u001b[0m \u001b[43m        \u001b[49m\u001b[43mgc_after_trial\u001b[49m\u001b[38;5;241;43m=\u001b[39;49m\u001b[43mgc_after_trial\u001b[49m\u001b[43m,\u001b[49m\n\u001b[1;32m    484\u001b[0m \u001b[43m        \u001b[49m\u001b[43mshow_progress_bar\u001b[49m\u001b[38;5;241;43m=\u001b[39;49m\u001b[43mshow_progress_bar\u001b[49m\u001b[43m,\u001b[49m\n\u001b[1;32m    485\u001b[0m \u001b[43m    \u001b[49m\u001b[43m)\u001b[49m\n",
      "File \u001b[0;32m~/miniforge3/envs/ml/lib/python3.9/site-packages/optuna/study/_optimize.py:63\u001b[0m, in \u001b[0;36m_optimize\u001b[0;34m(study, func, n_trials, timeout, n_jobs, catch, callbacks, gc_after_trial, show_progress_bar)\u001b[0m\n\u001b[1;32m     61\u001b[0m \u001b[38;5;28;01mtry\u001b[39;00m:\n\u001b[1;32m     62\u001b[0m     \u001b[38;5;28;01mif\u001b[39;00m n_jobs \u001b[38;5;241m==\u001b[39m \u001b[38;5;241m1\u001b[39m:\n\u001b[0;32m---> 63\u001b[0m         \u001b[43m_optimize_sequential\u001b[49m\u001b[43m(\u001b[49m\n\u001b[1;32m     64\u001b[0m \u001b[43m            \u001b[49m\u001b[43mstudy\u001b[49m\u001b[43m,\u001b[49m\n\u001b[1;32m     65\u001b[0m \u001b[43m            \u001b[49m\u001b[43mfunc\u001b[49m\u001b[43m,\u001b[49m\n\u001b[1;32m     66\u001b[0m \u001b[43m            \u001b[49m\u001b[43mn_trials\u001b[49m\u001b[43m,\u001b[49m\n\u001b[1;32m     67\u001b[0m \u001b[43m            \u001b[49m\u001b[43mtimeout\u001b[49m\u001b[43m,\u001b[49m\n\u001b[1;32m     68\u001b[0m \u001b[43m            \u001b[49m\u001b[43mcatch\u001b[49m\u001b[43m,\u001b[49m\n\u001b[1;32m     69\u001b[0m \u001b[43m            \u001b[49m\u001b[43mcallbacks\u001b[49m\u001b[43m,\u001b[49m\n\u001b[1;32m     70\u001b[0m \u001b[43m            \u001b[49m\u001b[43mgc_after_trial\u001b[49m\u001b[43m,\u001b[49m\n\u001b[1;32m     71\u001b[0m \u001b[43m            \u001b[49m\u001b[43mreseed_sampler_rng\u001b[49m\u001b[38;5;241;43m=\u001b[39;49m\u001b[38;5;28;43;01mFalse\u001b[39;49;00m\u001b[43m,\u001b[49m\n\u001b[1;32m     72\u001b[0m \u001b[43m            \u001b[49m\u001b[43mtime_start\u001b[49m\u001b[38;5;241;43m=\u001b[39;49m\u001b[38;5;28;43;01mNone\u001b[39;49;00m\u001b[43m,\u001b[49m\n\u001b[1;32m     73\u001b[0m \u001b[43m            \u001b[49m\u001b[43mprogress_bar\u001b[49m\u001b[38;5;241;43m=\u001b[39;49m\u001b[43mprogress_bar\u001b[49m\u001b[43m,\u001b[49m\n\u001b[1;32m     74\u001b[0m \u001b[43m        \u001b[49m\u001b[43m)\u001b[49m\n\u001b[1;32m     75\u001b[0m     \u001b[38;5;28;01melse\u001b[39;00m:\n\u001b[1;32m     76\u001b[0m         \u001b[38;5;28;01mif\u001b[39;00m n_jobs \u001b[38;5;241m==\u001b[39m \u001b[38;5;241m-\u001b[39m\u001b[38;5;241m1\u001b[39m:\n",
      "File \u001b[0;32m~/miniforge3/envs/ml/lib/python3.9/site-packages/optuna/study/_optimize.py:160\u001b[0m, in \u001b[0;36m_optimize_sequential\u001b[0;34m(study, func, n_trials, timeout, catch, callbacks, gc_after_trial, reseed_sampler_rng, time_start, progress_bar)\u001b[0m\n\u001b[1;32m    157\u001b[0m         \u001b[38;5;28;01mbreak\u001b[39;00m\n\u001b[1;32m    159\u001b[0m \u001b[38;5;28;01mtry\u001b[39;00m:\n\u001b[0;32m--> 160\u001b[0m     frozen_trial \u001b[38;5;241m=\u001b[39m \u001b[43m_run_trial\u001b[49m\u001b[43m(\u001b[49m\u001b[43mstudy\u001b[49m\u001b[43m,\u001b[49m\u001b[43m \u001b[49m\u001b[43mfunc\u001b[49m\u001b[43m,\u001b[49m\u001b[43m \u001b[49m\u001b[43mcatch\u001b[49m\u001b[43m)\u001b[49m\n\u001b[1;32m    161\u001b[0m \u001b[38;5;28;01mfinally\u001b[39;00m:\n\u001b[1;32m    162\u001b[0m     \u001b[38;5;66;03m# The following line mitigates memory problems that can be occurred in some\u001b[39;00m\n\u001b[1;32m    163\u001b[0m     \u001b[38;5;66;03m# environments (e.g., services that use computing containers such as GitHub Actions).\u001b[39;00m\n\u001b[1;32m    164\u001b[0m     \u001b[38;5;66;03m# Please refer to the following PR for further details:\u001b[39;00m\n\u001b[1;32m    165\u001b[0m     \u001b[38;5;66;03m# https://github.com/optuna/optuna/pull/325.\u001b[39;00m\n\u001b[1;32m    166\u001b[0m     \u001b[38;5;28;01mif\u001b[39;00m gc_after_trial:\n",
      "File \u001b[0;32m~/miniforge3/envs/ml/lib/python3.9/site-packages/optuna/study/_optimize.py:248\u001b[0m, in \u001b[0;36m_run_trial\u001b[0;34m(study, func, catch)\u001b[0m\n\u001b[1;32m    241\u001b[0m         \u001b[38;5;28;01massert\u001b[39;00m \u001b[38;5;28;01mFalse\u001b[39;00m, \u001b[38;5;124m\"\u001b[39m\u001b[38;5;124mShould not reach.\u001b[39m\u001b[38;5;124m\"\u001b[39m\n\u001b[1;32m    243\u001b[0m \u001b[38;5;28;01mif\u001b[39;00m (\n\u001b[1;32m    244\u001b[0m     frozen_trial\u001b[38;5;241m.\u001b[39mstate \u001b[38;5;241m==\u001b[39m TrialState\u001b[38;5;241m.\u001b[39mFAIL\n\u001b[1;32m    245\u001b[0m     \u001b[38;5;129;01mand\u001b[39;00m func_err \u001b[38;5;129;01mis\u001b[39;00m \u001b[38;5;129;01mnot\u001b[39;00m \u001b[38;5;28;01mNone\u001b[39;00m\n\u001b[1;32m    246\u001b[0m     \u001b[38;5;129;01mand\u001b[39;00m \u001b[38;5;129;01mnot\u001b[39;00m \u001b[38;5;28misinstance\u001b[39m(func_err, catch)\n\u001b[1;32m    247\u001b[0m ):\n\u001b[0;32m--> 248\u001b[0m     \u001b[38;5;28;01mraise\u001b[39;00m func_err\n\u001b[1;32m    249\u001b[0m \u001b[38;5;28;01mreturn\u001b[39;00m frozen_trial\n",
      "File \u001b[0;32m~/miniforge3/envs/ml/lib/python3.9/site-packages/optuna/study/_optimize.py:197\u001b[0m, in \u001b[0;36m_run_trial\u001b[0;34m(study, func, catch)\u001b[0m\n\u001b[1;32m    195\u001b[0m \u001b[38;5;28;01mwith\u001b[39;00m get_heartbeat_thread(trial\u001b[38;5;241m.\u001b[39m_trial_id, study\u001b[38;5;241m.\u001b[39m_storage):\n\u001b[1;32m    196\u001b[0m     \u001b[38;5;28;01mtry\u001b[39;00m:\n\u001b[0;32m--> 197\u001b[0m         value_or_values \u001b[38;5;241m=\u001b[39m \u001b[43mfunc\u001b[49m\u001b[43m(\u001b[49m\u001b[43mtrial\u001b[49m\u001b[43m)\u001b[49m\n\u001b[1;32m    198\u001b[0m     \u001b[38;5;28;01mexcept\u001b[39;00m exceptions\u001b[38;5;241m.\u001b[39mTrialPruned \u001b[38;5;28;01mas\u001b[39;00m e:\n\u001b[1;32m    199\u001b[0m         \u001b[38;5;66;03m# TODO(mamu): Handle multi-objective cases.\u001b[39;00m\n\u001b[1;32m    200\u001b[0m         state \u001b[38;5;241m=\u001b[39m TrialState\u001b[38;5;241m.\u001b[39mPRUNED\n",
      "Cell \u001b[0;32mIn[23], line 32\u001b[0m, in \u001b[0;36mobjective\u001b[0;34m(trial)\u001b[0m\n\u001b[1;32m     29\u001b[0m num_boost_round_list \u001b[38;5;241m=\u001b[39m []\n\u001b[1;32m     30\u001b[0m \u001b[38;5;28;01mfor\u001b[39;00m i, (dtrain_fold, dvalid_fold) \u001b[38;5;129;01min\u001b[39;00m \u001b[38;5;28menumerate\u001b[39m(data_splits, \u001b[38;5;241m1\u001b[39m):\n\u001b[0;32m---> 32\u001b[0m     bst \u001b[38;5;241m=\u001b[39m \u001b[43mxgb\u001b[49m\u001b[38;5;241;43m.\u001b[39;49m\u001b[43mtrain\u001b[49m\u001b[43m(\u001b[49m\n\u001b[1;32m     33\u001b[0m \u001b[43m        \u001b[49m\u001b[43mparams\u001b[49m\u001b[38;5;241;43m=\u001b[39;49m\u001b[43mparams\u001b[49m\u001b[43m,\u001b[49m\n\u001b[1;32m     34\u001b[0m \u001b[43m        \u001b[49m\u001b[43mdtrain\u001b[49m\u001b[38;5;241;43m=\u001b[39;49m\u001b[43mdtrain_fold\u001b[49m\u001b[43m,\u001b[49m\n\u001b[1;32m     35\u001b[0m \u001b[43m        \u001b[49m\u001b[43mnum_boost_round\u001b[49m\u001b[38;5;241;43m=\u001b[39;49m\u001b[38;5;241;43m1000\u001b[39;49m\u001b[43m,\u001b[49m\n\u001b[1;32m     36\u001b[0m \u001b[43m        \u001b[49m\u001b[43mevals\u001b[49m\u001b[38;5;241;43m=\u001b[39;49m\u001b[43m[\u001b[49m\u001b[43m(\u001b[49m\u001b[43mdtrain_fold\u001b[49m\u001b[43m,\u001b[49m\u001b[43m \u001b[49m\u001b[38;5;124;43m\"\u001b[39;49m\u001b[38;5;124;43mtrain\u001b[39;49m\u001b[38;5;124;43m\"\u001b[39;49m\u001b[43m)\u001b[49m\u001b[43m,\u001b[49m\u001b[43m \u001b[49m\u001b[43m(\u001b[49m\u001b[43mdvalid_fold\u001b[49m\u001b[43m,\u001b[49m\u001b[43m \u001b[49m\u001b[38;5;124;43m\"\u001b[39;49m\u001b[38;5;124;43mvalidation_0\u001b[39;49m\u001b[38;5;124;43m\"\u001b[39;49m\u001b[43m)\u001b[49m\u001b[43m]\u001b[49m\u001b[43m,\u001b[49m\n\u001b[1;32m     37\u001b[0m \u001b[43m        \u001b[49m\u001b[43mearly_stopping_rounds\u001b[49m\u001b[38;5;241;43m=\u001b[39;49m\u001b[38;5;241;43m20\u001b[39;49m\u001b[43m,\u001b[49m\n\u001b[1;32m     38\u001b[0m \u001b[43m        \u001b[49m\u001b[43mverbose_eval\u001b[49m\u001b[38;5;241;43m=\u001b[39;49m\u001b[38;5;28;43;01mFalse\u001b[39;49;00m\u001b[43m,\u001b[49m\n\u001b[1;32m     39\u001b[0m \u001b[43m        \u001b[49m\u001b[43mcallbacks\u001b[49m\u001b[38;5;241;43m=\u001b[39;49m\u001b[43m[\u001b[49m\u001b[43mXGBoostPruningCallback\u001b[49m\u001b[43m(\u001b[49m\u001b[43mtrial\u001b[49m\u001b[43m,\u001b[49m\u001b[43m \u001b[49m\u001b[43mobservation_key\u001b[49m\u001b[38;5;241;43m=\u001b[39;49m\u001b[38;5;124;43m\"\u001b[39;49m\u001b[38;5;124;43mvalidation_0-rmse\u001b[39;49m\u001b[38;5;124;43m\"\u001b[39;49m\u001b[43m)\u001b[49m\u001b[43m \u001b[49m\u001b[43m]\u001b[49m\n\u001b[1;32m     40\u001b[0m \u001b[43m    \u001b[49m\u001b[43m)\u001b[49m\n\u001b[1;32m     41\u001b[0m     y_pred \u001b[38;5;241m=\u001b[39m bst\u001b[38;5;241m.\u001b[39mpredict(dvalid_fold)\n\u001b[1;32m     42\u001b[0m     rmse \u001b[38;5;241m=\u001b[39m root_mean_squared_error(dvalid_fold\u001b[38;5;241m.\u001b[39mget_label(), y_pred)\n",
      "File \u001b[0;32m~/miniforge3/envs/ml/lib/python3.9/site-packages/xgboost/core.py:726\u001b[0m, in \u001b[0;36mrequire_keyword_args.<locals>.throw_if.<locals>.inner_f\u001b[0;34m(*args, **kwargs)\u001b[0m\n\u001b[1;32m    724\u001b[0m \u001b[38;5;28;01mfor\u001b[39;00m k, arg \u001b[38;5;129;01min\u001b[39;00m \u001b[38;5;28mzip\u001b[39m(sig\u001b[38;5;241m.\u001b[39mparameters, args):\n\u001b[1;32m    725\u001b[0m     kwargs[k] \u001b[38;5;241m=\u001b[39m arg\n\u001b[0;32m--> 726\u001b[0m \u001b[38;5;28;01mreturn\u001b[39;00m \u001b[43mfunc\u001b[49m\u001b[43m(\u001b[49m\u001b[38;5;241;43m*\u001b[39;49m\u001b[38;5;241;43m*\u001b[39;49m\u001b[43mkwargs\u001b[49m\u001b[43m)\u001b[49m\n",
      "File \u001b[0;32m~/miniforge3/envs/ml/lib/python3.9/site-packages/xgboost/training.py:181\u001b[0m, in \u001b[0;36mtrain\u001b[0;34m(params, dtrain, num_boost_round, evals, obj, feval, maximize, early_stopping_rounds, evals_result, verbose_eval, xgb_model, callbacks, custom_metric)\u001b[0m\n\u001b[1;32m    179\u001b[0m \u001b[38;5;28;01mif\u001b[39;00m cb_container\u001b[38;5;241m.\u001b[39mbefore_iteration(bst, i, dtrain, evals):\n\u001b[1;32m    180\u001b[0m     \u001b[38;5;28;01mbreak\u001b[39;00m\n\u001b[0;32m--> 181\u001b[0m \u001b[43mbst\u001b[49m\u001b[38;5;241;43m.\u001b[39;49m\u001b[43mupdate\u001b[49m\u001b[43m(\u001b[49m\u001b[43mdtrain\u001b[49m\u001b[43m,\u001b[49m\u001b[43m \u001b[49m\u001b[43miteration\u001b[49m\u001b[38;5;241;43m=\u001b[39;49m\u001b[43mi\u001b[49m\u001b[43m,\u001b[49m\u001b[43m \u001b[49m\u001b[43mfobj\u001b[49m\u001b[38;5;241;43m=\u001b[39;49m\u001b[43mobj\u001b[49m\u001b[43m)\u001b[49m\n\u001b[1;32m    182\u001b[0m \u001b[38;5;28;01mif\u001b[39;00m cb_container\u001b[38;5;241m.\u001b[39mafter_iteration(bst, i, dtrain, evals):\n\u001b[1;32m    183\u001b[0m     \u001b[38;5;28;01mbreak\u001b[39;00m\n",
      "File \u001b[0;32m~/miniforge3/envs/ml/lib/python3.9/site-packages/xgboost/core.py:2101\u001b[0m, in \u001b[0;36mBooster.update\u001b[0;34m(self, dtrain, iteration, fobj)\u001b[0m\n\u001b[1;32m   2097\u001b[0m \u001b[38;5;28mself\u001b[39m\u001b[38;5;241m.\u001b[39m_assign_dmatrix_features(dtrain)\n\u001b[1;32m   2099\u001b[0m \u001b[38;5;28;01mif\u001b[39;00m fobj \u001b[38;5;129;01mis\u001b[39;00m \u001b[38;5;28;01mNone\u001b[39;00m:\n\u001b[1;32m   2100\u001b[0m     _check_call(\n\u001b[0;32m-> 2101\u001b[0m         \u001b[43m_LIB\u001b[49m\u001b[38;5;241;43m.\u001b[39;49m\u001b[43mXGBoosterUpdateOneIter\u001b[49m\u001b[43m(\u001b[49m\n\u001b[1;32m   2102\u001b[0m \u001b[43m            \u001b[49m\u001b[38;5;28;43mself\u001b[39;49m\u001b[38;5;241;43m.\u001b[39;49m\u001b[43mhandle\u001b[49m\u001b[43m,\u001b[49m\u001b[43m \u001b[49m\u001b[43mctypes\u001b[49m\u001b[38;5;241;43m.\u001b[39;49m\u001b[43mc_int\u001b[49m\u001b[43m(\u001b[49m\u001b[43miteration\u001b[49m\u001b[43m)\u001b[49m\u001b[43m,\u001b[49m\u001b[43m \u001b[49m\u001b[43mdtrain\u001b[49m\u001b[38;5;241;43m.\u001b[39;49m\u001b[43mhandle\u001b[49m\n\u001b[1;32m   2103\u001b[0m \u001b[43m        \u001b[49m\u001b[43m)\u001b[49m\n\u001b[1;32m   2104\u001b[0m     )\n\u001b[1;32m   2105\u001b[0m \u001b[38;5;28;01melse\u001b[39;00m:\n\u001b[1;32m   2106\u001b[0m     pred \u001b[38;5;241m=\u001b[39m \u001b[38;5;28mself\u001b[39m\u001b[38;5;241m.\u001b[39mpredict(dtrain, output_margin\u001b[38;5;241m=\u001b[39m\u001b[38;5;28;01mTrue\u001b[39;00m, training\u001b[38;5;241m=\u001b[39m\u001b[38;5;28;01mTrue\u001b[39;00m)\n",
      "\u001b[0;31mKeyboardInterrupt\u001b[0m: "
     ]
    }
   ],
   "source": [
    "def objective(trial):\n",
    "    params = {\n",
    "        \"objective\": \"reg:squarederror\",\n",
    "        \"eval_metric\": \"rmse\",\n",
    "        \"seed\": 42,\n",
    "        \"verbosity\": 0,\n",
    "        'device': \"cuda\",\n",
    "\n",
    "        # \"grow_policy\", trial.suggest_categorical(\"grow_policy\", [\"depthwise\", \"lossguide\"]),\n",
    "        \n",
    "        \"colsample_bylevel\": trial.suggest_float(\"colsample_bylevel\", 0.3, 1.0),\n",
    "        \"colsample_bytree\": trial.suggest_float(\"colsample_bytree\", 0.5, 1.0),\n",
    "\n",
    "        \"learning_rate\": trial.suggest_loguniform(\"learning_rate\", 0.001, 0.25),\n",
    "\n",
    "        \"max_depth\": trial.suggest_int(\"max_depth\", 3, 14),\n",
    "        \n",
    "        \"min_child_weight\": trial.suggest_int(\"min_child_weight\", 1, 50),\n",
    "\n",
    "        \"gamma\": trial.suggest_float(\"gamma\", 0.1, 1),\n",
    "\n",
    "        \"subsample\": trial.suggest_float(\"subsample\", 0.2, 1.0),\n",
    "\n",
    "        \"reg_alpha\": trial.suggest_loguniform(\"reg_alpha\", 1e-6, 2.0),\n",
    "        \"reg_lambda\": trial.suggest_loguniform(\"reg_lambda\", 1e-6, 1),\n",
    "        \n",
    "    }\n",
    "    rmse_list = []\n",
    "    num_boost_round_list = []\n",
    "    for i, (dtrain_fold, dvalid_fold) in enumerate(data_splits, 1):\n",
    "    \n",
    "        bst = xgb.train(\n",
    "            params=params,\n",
    "            dtrain=dtrain_fold,\n",
    "            num_boost_round=1000,\n",
    "            evals=[(dtrain_fold, \"train\"), (dvalid_fold, \"validation_0\")],\n",
    "            early_stopping_rounds=20,\n",
    "            verbose_eval=False,\n",
    "            callbacks=[XGBoostPruningCallback(trial, observation_key=\"validation_0-rmse\") ]\n",
    "        )\n",
    "        y_pred = bst.predict(dvalid_fold)\n",
    "        rmse = root_mean_squared_error(dvalid_fold.get_label(), y_pred)\n",
    "        rmse_list.append(rmse)\n",
    "        num_boost_round_list.append(bst.best_iteration)\n",
    "\n",
    "    params[\"num_boost_round\"] = int(np.mean(num_boost_round_list)) \n",
    "\n",
    "    return np.mean(rmse_list)\n",
    "\n",
    "\n",
    "study = optuna.create_study(\n",
    "        storage=f\"sqlite:///..//optuna//{model_str}db.sqlite3\",\n",
    "        study_name=model_str + datetime.now().strftime(\"%Y-%m-%d_%H-%M\"),\n",
    "        direction=\"minimize\"\n",
    ")\n",
    "study.optimize(objective, n_trials=500)\n",
    "\n",
    "print(\"\\n=========================\")\n",
    "print(\"Number of finished trials:\", len(study.trials))\n",
    "print(\"Best trial:\", study.best_trial.number)\n",
    "print(\"Best value (RMSE):\", study.best_trial.value)\n",
    "print(\"Best hyperparameters:\", study.best_trial.params)\n",
    "best_params = study.best_trial.params\n",
    "best_params[\"random_state\"] = 42\n",
    "best_params[\"verbose\"] = 0\n",
    "best_params[\"eval_metric\"] = \"rmse\"\n",
    "best_params[\"device\"] = \"cuda\""
   ]
  },
  {
   "cell_type": "markdown",
   "metadata": {},
   "source": [
    "Number of finished trials: 500\n",
    "Best trial: 3\n",
    "Best value (RMSE): 38.72179260253906\n",
    "Best hyperparameters: {'colsample_bylevel': 0.3512094090267107, 'colsample_bytree': 0.9052086630507206, 'learning_rate': 0.08018652083464188, 'max_depth': 3, 'min_child_weight': 15, 'gamma': 0.7857494436547278, 'subsample': 0.859337226860583, 'reg_alpha': 0.0037209114878845404, 'reg_lambda': 2.8929082052745956e-05}"
   ]
  },
  {
   "cell_type": "code",
   "execution_count": 70,
   "metadata": {},
   "outputs": [],
   "source": [
    "bst = xgb.train(\n",
    "    # params=best_params,\n",
    "    params=params,\n",
    "    dtrain=dtrain,\n",
    "    num_boost_round=40,\n",
    "    # early_stopping_rounds=50,\n",
    "    verbose_eval=False,\n",
    ")\n",
    "y_pred = bst.predict(xgb.DMatrix(test_df_encoded[feature_list], enable_categorical=True))"
   ]
  },
  {
   "cell_type": "code",
   "execution_count": 71,
   "metadata": {},
   "outputs": [
    {
     "name": "stdout",
     "output_type": "stream",
     "text": [
      "Saving to: ..//submissions//xgb_2025-02-10_17-17.csv\n"
     ]
    },
    {
     "data": {
      "text/html": [
       "<div>\n",
       "<style scoped>\n",
       "    .dataframe tbody tr th:only-of-type {\n",
       "        vertical-align: middle;\n",
       "    }\n",
       "\n",
       "    .dataframe tbody tr th {\n",
       "        vertical-align: top;\n",
       "    }\n",
       "\n",
       "    .dataframe thead th {\n",
       "        text-align: right;\n",
       "    }\n",
       "</style>\n",
       "<table border=\"1\" class=\"dataframe\">\n",
       "  <thead>\n",
       "    <tr style=\"text-align: right;\">\n",
       "      <th></th>\n",
       "      <th>id</th>\n",
       "      <th>Price</th>\n",
       "    </tr>\n",
       "  </thead>\n",
       "  <tbody>\n",
       "    <tr>\n",
       "      <th>0</th>\n",
       "      <td>300000</td>\n",
       "      <td>81.793533</td>\n",
       "    </tr>\n",
       "    <tr>\n",
       "      <th>1</th>\n",
       "      <td>300001</td>\n",
       "      <td>82.356857</td>\n",
       "    </tr>\n",
       "    <tr>\n",
       "      <th>2</th>\n",
       "      <td>300002</td>\n",
       "      <td>82.614616</td>\n",
       "    </tr>\n",
       "    <tr>\n",
       "      <th>3</th>\n",
       "      <td>300003</td>\n",
       "      <td>80.617020</td>\n",
       "    </tr>\n",
       "    <tr>\n",
       "      <th>4</th>\n",
       "      <td>300004</td>\n",
       "      <td>78.095940</td>\n",
       "    </tr>\n",
       "  </tbody>\n",
       "</table>\n",
       "</div>"
      ],
      "text/plain": [
       "       id      Price\n",
       "0  300000  81.793533\n",
       "1  300001  82.356857\n",
       "2  300002  82.614616\n",
       "3  300003  80.617020\n",
       "4  300004  78.095940"
      ]
     },
     "execution_count": 71,
     "metadata": {},
     "output_type": "execute_result"
    }
   ],
   "source": [
    "submit_path = f'..//submissions//' + model_str + datetime.now().strftime(\"%Y-%m-%d_%H-%M\") + \".csv\"\n",
    "print(\"Saving to:\", submit_path)\n",
    "# y_pred.to_csv(\"submission.csv\", index=False)\n",
    "\n",
    "submit_df = test_df[['id']].copy()\n",
    "submit_df['Price'] = y_pred\n",
    "# submit_df['Price'] = np.mean(predictions, axis=0) # Average the predictions\n",
    "submit_df.to_csv(submit_path, index=False)\n",
    "# print(f\"Submission file saved as submission.csv\\n\")\n",
    "submit_df.head(5)"
   ]
  },
  {
   "cell_type": "code",
   "execution_count": 43,
   "metadata": {},
   "outputs": [
    {
     "data": {
      "text/plain": [
       "array([81.63002, 83.31463, 83.826  , ..., 84.71671, 82.46941, 80.08696],\n",
       "      dtype=float32)"
      ]
     },
     "execution_count": 43,
     "metadata": {},
     "output_type": "execute_result"
    }
   ],
   "source": [
    "y_pred"
   ]
  },
  {
   "cell_type": "markdown",
   "metadata": {},
   "source": [
    "Non-CV"
   ]
  },
  {
   "cell_type": "code",
   "execution_count": null,
   "metadata": {},
   "outputs": [],
   "source": [
    "# X_train, X_val, y_train, y_val = train_test_split(X, y, test_size=0.2, random_state=42)\n"
   ]
  },
  {
   "cell_type": "code",
   "execution_count": 28,
   "metadata": {},
   "outputs": [
    {
     "name": "stderr",
     "output_type": "stream",
     "text": [
      "[I 2025-02-09 16:44:36,190] A new study created in RDB with name: xgb_2025-02-09_16-44\n",
      "[I 2025-02-10 07:28:24,380] Trial 0 finished with value: 6.236178058153393 and parameters: {'colsample_bytree': 0.39502267014535775, 'colsample_bylevel': 0.5883398341351831, 'learning_rate': 0.0014494540530035546, 'max_depth': 10, 'min_child_weight': 8, 'gamma': 0.39446214518513933, 'subsample': 0.8790552280307211, 'reg_alpha': 0.6923740870444277, 'reg_lambda': 0.49414047624922824}. Best is trial 0 with value: 6.236178058153393.\n",
      "[W 2025-02-10 07:28:36,303] Trial 1 failed with parameters: {'colsample_bytree': 0.8859267740000449, 'colsample_bylevel': 0.5864274342712049, 'learning_rate': 0.0029402949507566383, 'max_depth': 6, 'min_child_weight': 8, 'gamma': 0.5736934908980399, 'subsample': 0.8161256788238413, 'reg_alpha': 0.7279801474451931, 'reg_lambda': 5.303352980611302e-06} because of the following error: KeyboardInterrupt().\n",
      "Traceback (most recent call last):\n",
      "  File \"/home/j/miniforge3/envs/ml/lib/python3.9/site-packages/optuna/study/_optimize.py\", line 197, in _run_trial\n",
      "    value_or_values = func(trial)\n",
      "  File \"/tmp/ipykernel_859539/3955838019.py\", line 29, in objective\n",
      "    bst = xgb.train(\n",
      "  File \"/home/j/miniforge3/envs/ml/lib/python3.9/site-packages/xgboost/core.py\", line 726, in inner_f\n",
      "    return func(**kwargs)\n",
      "  File \"/home/j/miniforge3/envs/ml/lib/python3.9/site-packages/xgboost/training.py\", line 182, in train\n",
      "    if cb_container.after_iteration(bst, i, dtrain, evals):\n",
      "  File \"/home/j/miniforge3/envs/ml/lib/python3.9/site-packages/xgboost/callback.py\", line 261, in after_iteration\n",
      "    ret = any(c.after_iteration(model, epoch, self.history) for c in self.callbacks)\n",
      "  File \"/home/j/miniforge3/envs/ml/lib/python3.9/site-packages/xgboost/callback.py\", line 261, in <genexpr>\n",
      "    ret = any(c.after_iteration(model, epoch, self.history) for c in self.callbacks)\n",
      "  File \"/home/j/miniforge3/envs/ml/lib/python3.9/site-packages/optuna_integration/xgboost/xgboost.py\", line 77, in after_iteration\n",
      "    if self._trial.should_prune():\n",
      "  File \"/home/j/miniforge3/envs/ml/lib/python3.9/site-packages/optuna/trial/_trial.py\", line 535, in should_prune\n",
      "    return self.study.pruner.prune(self.study, trial)\n",
      "  File \"/home/j/miniforge3/envs/ml/lib/python3.9/site-packages/optuna/pruners/_percentile.py\", line 173, in prune\n",
      "    completed_trials = study.get_trials(deepcopy=False, states=(TrialState.COMPLETE,))\n",
      "  File \"/home/j/miniforge3/envs/ml/lib/python3.9/site-packages/optuna/study/study.py\", line 289, in get_trials\n",
      "    return self._get_trials(deepcopy, states, use_cache=False)\n",
      "  File \"/home/j/miniforge3/envs/ml/lib/python3.9/site-packages/optuna/study/study.py\", line 309, in _get_trials\n",
      "    return self._storage.get_all_trials(self._study_id, deepcopy=deepcopy, states=states)\n",
      "  File \"/home/j/miniforge3/envs/ml/lib/python3.9/site-packages/optuna/storages/_cached_storage.py\", line 221, in get_all_trials\n",
      "    self._read_trials_from_remote_storage(study_id)\n",
      "  File \"/home/j/miniforge3/envs/ml/lib/python3.9/site-packages/optuna/storages/_cached_storage.py\", line 242, in _read_trials_from_remote_storage\n",
      "    trials = self._backend._get_trials(\n",
      "  File \"/home/j/miniforge3/envs/ml/lib/python3.9/site-packages/optuna/storages/_rdb/storage.py\", line 871, in _get_trials\n",
      "    trials = [self._build_frozen_trial_from_trial_model(trial) for trial in trial_models]\n",
      "  File \"/home/j/miniforge3/envs/ml/lib/python3.9/site-packages/optuna/storages/_rdb/storage.py\", line 871, in <listcomp>\n",
      "    trials = [self._build_frozen_trial_from_trial_model(trial) for trial in trial_models]\n",
      "  File \"/home/j/miniforge3/envs/ml/lib/python3.9/site-packages/optuna/storages/_rdb/storage.py\", line 901, in _build_frozen_trial_from_trial_model\n",
      "    distributions={\n",
      "  File \"/home/j/miniforge3/envs/ml/lib/python3.9/site-packages/optuna/storages/_rdb/storage.py\", line 902, in <dictcomp>\n",
      "    p.param_name: distributions.json_to_distribution(p.distribution_json)\n",
      "  File \"/home/j/miniforge3/envs/ml/lib/python3.9/site-packages/optuna/distributions.py\", line 589, in json_to_distribution\n",
      "    json_dict = json.loads(json_str)\n",
      "  File \"/home/j/miniforge3/envs/ml/lib/python3.9/json/__init__.py\", line 346, in loads\n",
      "    return _default_decoder.decode(s)\n",
      "  File \"/home/j/miniforge3/envs/ml/lib/python3.9/json/decoder.py\", line 337, in decode\n",
      "    obj, end = self.raw_decode(s, idx=_w(s, 0).end())\n",
      "  File \"/home/j/miniforge3/envs/ml/lib/python3.9/json/decoder.py\", line 353, in raw_decode\n",
      "    obj, end = self.scan_once(s, idx)\n",
      "KeyboardInterrupt\n",
      "[W 2025-02-10 07:28:36,306] Trial 1 failed with value None.\n"
     ]
    },
    {
     "ename": "KeyboardInterrupt",
     "evalue": "",
     "output_type": "error",
     "traceback": [
      "\u001b[0;31m---------------------------------------------------------------------------\u001b[0m",
      "\u001b[0;31mKeyboardInterrupt\u001b[0m                         Traceback (most recent call last)",
      "Cell \u001b[0;32mIn[28], line 55\u001b[0m\n\u001b[1;32m     42\u001b[0m \u001b[38;5;66;03m# Create a study (using a SQLite database for persistence)\u001b[39;00m\n\u001b[1;32m     43\u001b[0m \u001b[38;5;66;03m# study_name = datetime.now().strftime(\"%Y-%m-%d_%H-%M\")\u001b[39;00m\n\u001b[1;32m     44\u001b[0m \u001b[38;5;66;03m# storage_name = f\"sqlite:///{os.path.join(optuna_dir, folder_dir, study_name)}.db\"\u001b[39;00m\n\u001b[0;32m   (...)\u001b[0m\n\u001b[1;32m     47\u001b[0m \u001b[38;5;66;03m# # Run the optimization for 50 trials (adjust as needed)\u001b[39;00m\n\u001b[1;32m     48\u001b[0m \u001b[38;5;66;03m# study.optimize(objective, n_trials=50)\u001b[39;00m\n\u001b[1;32m     50\u001b[0m study \u001b[38;5;241m=\u001b[39m optuna\u001b[38;5;241m.\u001b[39mcreate_study(\n\u001b[1;32m     51\u001b[0m         storage\u001b[38;5;241m=\u001b[39m\u001b[38;5;124mf\u001b[39m\u001b[38;5;124m\"\u001b[39m\u001b[38;5;124msqlite:///\u001b[39m\u001b[38;5;132;01m{\u001b[39;00mmodel_str\u001b[38;5;132;01m}\u001b[39;00m\u001b[38;5;124mdb.sqlite3\u001b[39m\u001b[38;5;124m\"\u001b[39m,\n\u001b[1;32m     52\u001b[0m         study_name\u001b[38;5;241m=\u001b[39mmodel_str \u001b[38;5;241m+\u001b[39m datetime\u001b[38;5;241m.\u001b[39mnow()\u001b[38;5;241m.\u001b[39mstrftime(\u001b[38;5;124m\"\u001b[39m\u001b[38;5;124m%\u001b[39m\u001b[38;5;124mY-\u001b[39m\u001b[38;5;124m%\u001b[39m\u001b[38;5;124mm-\u001b[39m\u001b[38;5;132;01m%d\u001b[39;00m\u001b[38;5;124m_\u001b[39m\u001b[38;5;124m%\u001b[39m\u001b[38;5;124mH-\u001b[39m\u001b[38;5;124m%\u001b[39m\u001b[38;5;124mM\u001b[39m\u001b[38;5;124m\"\u001b[39m),\n\u001b[1;32m     53\u001b[0m         direction\u001b[38;5;241m=\u001b[39m\u001b[38;5;124m\"\u001b[39m\u001b[38;5;124mminimize\u001b[39m\u001b[38;5;124m\"\u001b[39m\n\u001b[1;32m     54\u001b[0m )\n\u001b[0;32m---> 55\u001b[0m \u001b[43mstudy\u001b[49m\u001b[38;5;241;43m.\u001b[39;49m\u001b[43moptimize\u001b[49m\u001b[43m(\u001b[49m\u001b[43mobjective\u001b[49m\u001b[43m,\u001b[49m\u001b[43m \u001b[49m\u001b[43mn_trials\u001b[49m\u001b[38;5;241;43m=\u001b[39;49m\u001b[38;5;241;43m500\u001b[39;49m\u001b[43m)\u001b[49m\n\u001b[1;32m     57\u001b[0m \u001b[38;5;28mprint\u001b[39m(\u001b[38;5;124m\"\u001b[39m\u001b[38;5;130;01m\\n\u001b[39;00m\u001b[38;5;124m=========================\u001b[39m\u001b[38;5;124m\"\u001b[39m)\n\u001b[1;32m     58\u001b[0m \u001b[38;5;28mprint\u001b[39m(\u001b[38;5;124m\"\u001b[39m\u001b[38;5;124mNumber of finished trials:\u001b[39m\u001b[38;5;124m\"\u001b[39m, \u001b[38;5;28mlen\u001b[39m(study\u001b[38;5;241m.\u001b[39mtrials))\n",
      "File \u001b[0;32m~/miniforge3/envs/ml/lib/python3.9/site-packages/optuna/study/study.py:475\u001b[0m, in \u001b[0;36mStudy.optimize\u001b[0;34m(self, func, n_trials, timeout, n_jobs, catch, callbacks, gc_after_trial, show_progress_bar)\u001b[0m\n\u001b[1;32m    373\u001b[0m \u001b[38;5;28;01mdef\u001b[39;00m\u001b[38;5;250m \u001b[39m\u001b[38;5;21moptimize\u001b[39m(\n\u001b[1;32m    374\u001b[0m     \u001b[38;5;28mself\u001b[39m,\n\u001b[1;32m    375\u001b[0m     func: ObjectiveFuncType,\n\u001b[0;32m   (...)\u001b[0m\n\u001b[1;32m    382\u001b[0m     show_progress_bar: \u001b[38;5;28mbool\u001b[39m \u001b[38;5;241m=\u001b[39m \u001b[38;5;28;01mFalse\u001b[39;00m,\n\u001b[1;32m    383\u001b[0m ) \u001b[38;5;241m-\u001b[39m\u001b[38;5;241m>\u001b[39m \u001b[38;5;28;01mNone\u001b[39;00m:\n\u001b[1;32m    384\u001b[0m \u001b[38;5;250m    \u001b[39m\u001b[38;5;124;03m\"\"\"Optimize an objective function.\u001b[39;00m\n\u001b[1;32m    385\u001b[0m \n\u001b[1;32m    386\u001b[0m \u001b[38;5;124;03m    Optimization is done by choosing a suitable set of hyperparameter values from a given\u001b[39;00m\n\u001b[0;32m   (...)\u001b[0m\n\u001b[1;32m    473\u001b[0m \u001b[38;5;124;03m            If nested invocation of this method occurs.\u001b[39;00m\n\u001b[1;32m    474\u001b[0m \u001b[38;5;124;03m    \"\"\"\u001b[39;00m\n\u001b[0;32m--> 475\u001b[0m     \u001b[43m_optimize\u001b[49m\u001b[43m(\u001b[49m\n\u001b[1;32m    476\u001b[0m \u001b[43m        \u001b[49m\u001b[43mstudy\u001b[49m\u001b[38;5;241;43m=\u001b[39;49m\u001b[38;5;28;43mself\u001b[39;49m\u001b[43m,\u001b[49m\n\u001b[1;32m    477\u001b[0m \u001b[43m        \u001b[49m\u001b[43mfunc\u001b[49m\u001b[38;5;241;43m=\u001b[39;49m\u001b[43mfunc\u001b[49m\u001b[43m,\u001b[49m\n\u001b[1;32m    478\u001b[0m \u001b[43m        \u001b[49m\u001b[43mn_trials\u001b[49m\u001b[38;5;241;43m=\u001b[39;49m\u001b[43mn_trials\u001b[49m\u001b[43m,\u001b[49m\n\u001b[1;32m    479\u001b[0m \u001b[43m        \u001b[49m\u001b[43mtimeout\u001b[49m\u001b[38;5;241;43m=\u001b[39;49m\u001b[43mtimeout\u001b[49m\u001b[43m,\u001b[49m\n\u001b[1;32m    480\u001b[0m \u001b[43m        \u001b[49m\u001b[43mn_jobs\u001b[49m\u001b[38;5;241;43m=\u001b[39;49m\u001b[43mn_jobs\u001b[49m\u001b[43m,\u001b[49m\n\u001b[1;32m    481\u001b[0m \u001b[43m        \u001b[49m\u001b[43mcatch\u001b[49m\u001b[38;5;241;43m=\u001b[39;49m\u001b[38;5;28;43mtuple\u001b[39;49m\u001b[43m(\u001b[49m\u001b[43mcatch\u001b[49m\u001b[43m)\u001b[49m\u001b[43m \u001b[49m\u001b[38;5;28;43;01mif\u001b[39;49;00m\u001b[43m \u001b[49m\u001b[38;5;28;43misinstance\u001b[39;49m\u001b[43m(\u001b[49m\u001b[43mcatch\u001b[49m\u001b[43m,\u001b[49m\u001b[43m \u001b[49m\u001b[43mIterable\u001b[49m\u001b[43m)\u001b[49m\u001b[43m \u001b[49m\u001b[38;5;28;43;01melse\u001b[39;49;00m\u001b[43m \u001b[49m\u001b[43m(\u001b[49m\u001b[43mcatch\u001b[49m\u001b[43m,\u001b[49m\u001b[43m)\u001b[49m\u001b[43m,\u001b[49m\n\u001b[1;32m    482\u001b[0m \u001b[43m        \u001b[49m\u001b[43mcallbacks\u001b[49m\u001b[38;5;241;43m=\u001b[39;49m\u001b[43mcallbacks\u001b[49m\u001b[43m,\u001b[49m\n\u001b[1;32m    483\u001b[0m \u001b[43m        \u001b[49m\u001b[43mgc_after_trial\u001b[49m\u001b[38;5;241;43m=\u001b[39;49m\u001b[43mgc_after_trial\u001b[49m\u001b[43m,\u001b[49m\n\u001b[1;32m    484\u001b[0m \u001b[43m        \u001b[49m\u001b[43mshow_progress_bar\u001b[49m\u001b[38;5;241;43m=\u001b[39;49m\u001b[43mshow_progress_bar\u001b[49m\u001b[43m,\u001b[49m\n\u001b[1;32m    485\u001b[0m \u001b[43m    \u001b[49m\u001b[43m)\u001b[49m\n",
      "File \u001b[0;32m~/miniforge3/envs/ml/lib/python3.9/site-packages/optuna/study/_optimize.py:63\u001b[0m, in \u001b[0;36m_optimize\u001b[0;34m(study, func, n_trials, timeout, n_jobs, catch, callbacks, gc_after_trial, show_progress_bar)\u001b[0m\n\u001b[1;32m     61\u001b[0m \u001b[38;5;28;01mtry\u001b[39;00m:\n\u001b[1;32m     62\u001b[0m     \u001b[38;5;28;01mif\u001b[39;00m n_jobs \u001b[38;5;241m==\u001b[39m \u001b[38;5;241m1\u001b[39m:\n\u001b[0;32m---> 63\u001b[0m         \u001b[43m_optimize_sequential\u001b[49m\u001b[43m(\u001b[49m\n\u001b[1;32m     64\u001b[0m \u001b[43m            \u001b[49m\u001b[43mstudy\u001b[49m\u001b[43m,\u001b[49m\n\u001b[1;32m     65\u001b[0m \u001b[43m            \u001b[49m\u001b[43mfunc\u001b[49m\u001b[43m,\u001b[49m\n\u001b[1;32m     66\u001b[0m \u001b[43m            \u001b[49m\u001b[43mn_trials\u001b[49m\u001b[43m,\u001b[49m\n\u001b[1;32m     67\u001b[0m \u001b[43m            \u001b[49m\u001b[43mtimeout\u001b[49m\u001b[43m,\u001b[49m\n\u001b[1;32m     68\u001b[0m \u001b[43m            \u001b[49m\u001b[43mcatch\u001b[49m\u001b[43m,\u001b[49m\n\u001b[1;32m     69\u001b[0m \u001b[43m            \u001b[49m\u001b[43mcallbacks\u001b[49m\u001b[43m,\u001b[49m\n\u001b[1;32m     70\u001b[0m \u001b[43m            \u001b[49m\u001b[43mgc_after_trial\u001b[49m\u001b[43m,\u001b[49m\n\u001b[1;32m     71\u001b[0m \u001b[43m            \u001b[49m\u001b[43mreseed_sampler_rng\u001b[49m\u001b[38;5;241;43m=\u001b[39;49m\u001b[38;5;28;43;01mFalse\u001b[39;49;00m\u001b[43m,\u001b[49m\n\u001b[1;32m     72\u001b[0m \u001b[43m            \u001b[49m\u001b[43mtime_start\u001b[49m\u001b[38;5;241;43m=\u001b[39;49m\u001b[38;5;28;43;01mNone\u001b[39;49;00m\u001b[43m,\u001b[49m\n\u001b[1;32m     73\u001b[0m \u001b[43m            \u001b[49m\u001b[43mprogress_bar\u001b[49m\u001b[38;5;241;43m=\u001b[39;49m\u001b[43mprogress_bar\u001b[49m\u001b[43m,\u001b[49m\n\u001b[1;32m     74\u001b[0m \u001b[43m        \u001b[49m\u001b[43m)\u001b[49m\n\u001b[1;32m     75\u001b[0m     \u001b[38;5;28;01melse\u001b[39;00m:\n\u001b[1;32m     76\u001b[0m         \u001b[38;5;28;01mif\u001b[39;00m n_jobs \u001b[38;5;241m==\u001b[39m \u001b[38;5;241m-\u001b[39m\u001b[38;5;241m1\u001b[39m:\n",
      "File \u001b[0;32m~/miniforge3/envs/ml/lib/python3.9/site-packages/optuna/study/_optimize.py:160\u001b[0m, in \u001b[0;36m_optimize_sequential\u001b[0;34m(study, func, n_trials, timeout, catch, callbacks, gc_after_trial, reseed_sampler_rng, time_start, progress_bar)\u001b[0m\n\u001b[1;32m    157\u001b[0m         \u001b[38;5;28;01mbreak\u001b[39;00m\n\u001b[1;32m    159\u001b[0m \u001b[38;5;28;01mtry\u001b[39;00m:\n\u001b[0;32m--> 160\u001b[0m     frozen_trial \u001b[38;5;241m=\u001b[39m \u001b[43m_run_trial\u001b[49m\u001b[43m(\u001b[49m\u001b[43mstudy\u001b[49m\u001b[43m,\u001b[49m\u001b[43m \u001b[49m\u001b[43mfunc\u001b[49m\u001b[43m,\u001b[49m\u001b[43m \u001b[49m\u001b[43mcatch\u001b[49m\u001b[43m)\u001b[49m\n\u001b[1;32m    161\u001b[0m \u001b[38;5;28;01mfinally\u001b[39;00m:\n\u001b[1;32m    162\u001b[0m     \u001b[38;5;66;03m# The following line mitigates memory problems that can be occurred in some\u001b[39;00m\n\u001b[1;32m    163\u001b[0m     \u001b[38;5;66;03m# environments (e.g., services that use computing containers such as GitHub Actions).\u001b[39;00m\n\u001b[1;32m    164\u001b[0m     \u001b[38;5;66;03m# Please refer to the following PR for further details:\u001b[39;00m\n\u001b[1;32m    165\u001b[0m     \u001b[38;5;66;03m# https://github.com/optuna/optuna/pull/325.\u001b[39;00m\n\u001b[1;32m    166\u001b[0m     \u001b[38;5;28;01mif\u001b[39;00m gc_after_trial:\n",
      "File \u001b[0;32m~/miniforge3/envs/ml/lib/python3.9/site-packages/optuna/study/_optimize.py:248\u001b[0m, in \u001b[0;36m_run_trial\u001b[0;34m(study, func, catch)\u001b[0m\n\u001b[1;32m    241\u001b[0m         \u001b[38;5;28;01massert\u001b[39;00m \u001b[38;5;28;01mFalse\u001b[39;00m, \u001b[38;5;124m\"\u001b[39m\u001b[38;5;124mShould not reach.\u001b[39m\u001b[38;5;124m\"\u001b[39m\n\u001b[1;32m    243\u001b[0m \u001b[38;5;28;01mif\u001b[39;00m (\n\u001b[1;32m    244\u001b[0m     frozen_trial\u001b[38;5;241m.\u001b[39mstate \u001b[38;5;241m==\u001b[39m TrialState\u001b[38;5;241m.\u001b[39mFAIL\n\u001b[1;32m    245\u001b[0m     \u001b[38;5;129;01mand\u001b[39;00m func_err \u001b[38;5;129;01mis\u001b[39;00m \u001b[38;5;129;01mnot\u001b[39;00m \u001b[38;5;28;01mNone\u001b[39;00m\n\u001b[1;32m    246\u001b[0m     \u001b[38;5;129;01mand\u001b[39;00m \u001b[38;5;129;01mnot\u001b[39;00m \u001b[38;5;28misinstance\u001b[39m(func_err, catch)\n\u001b[1;32m    247\u001b[0m ):\n\u001b[0;32m--> 248\u001b[0m     \u001b[38;5;28;01mraise\u001b[39;00m func_err\n\u001b[1;32m    249\u001b[0m \u001b[38;5;28;01mreturn\u001b[39;00m frozen_trial\n",
      "File \u001b[0;32m~/miniforge3/envs/ml/lib/python3.9/site-packages/optuna/study/_optimize.py:197\u001b[0m, in \u001b[0;36m_run_trial\u001b[0;34m(study, func, catch)\u001b[0m\n\u001b[1;32m    195\u001b[0m \u001b[38;5;28;01mwith\u001b[39;00m get_heartbeat_thread(trial\u001b[38;5;241m.\u001b[39m_trial_id, study\u001b[38;5;241m.\u001b[39m_storage):\n\u001b[1;32m    196\u001b[0m     \u001b[38;5;28;01mtry\u001b[39;00m:\n\u001b[0;32m--> 197\u001b[0m         value_or_values \u001b[38;5;241m=\u001b[39m \u001b[43mfunc\u001b[49m\u001b[43m(\u001b[49m\u001b[43mtrial\u001b[49m\u001b[43m)\u001b[49m\n\u001b[1;32m    198\u001b[0m     \u001b[38;5;28;01mexcept\u001b[39;00m exceptions\u001b[38;5;241m.\u001b[39mTrialPruned \u001b[38;5;28;01mas\u001b[39;00m e:\n\u001b[1;32m    199\u001b[0m         \u001b[38;5;66;03m# TODO(mamu): Handle multi-objective cases.\u001b[39;00m\n\u001b[1;32m    200\u001b[0m         state \u001b[38;5;241m=\u001b[39m TrialState\u001b[38;5;241m.\u001b[39mPRUNED\n",
      "Cell \u001b[0;32mIn[28], line 29\u001b[0m, in \u001b[0;36mobjective\u001b[0;34m(trial)\u001b[0m\n\u001b[1;32m      2\u001b[0m param \u001b[38;5;241m=\u001b[39m {\n\u001b[1;32m      3\u001b[0m     \u001b[38;5;124m\"\u001b[39m\u001b[38;5;124mobjective\u001b[39m\u001b[38;5;124m\"\u001b[39m: \u001b[38;5;124m\"\u001b[39m\u001b[38;5;124mreg:squarederror\u001b[39m\u001b[38;5;124m\"\u001b[39m,\n\u001b[1;32m      4\u001b[0m     \u001b[38;5;124m\"\u001b[39m\u001b[38;5;124meval_metric\u001b[39m\u001b[38;5;124m\"\u001b[39m: \u001b[38;5;124m\"\u001b[39m\u001b[38;5;124mrmse\u001b[39m\u001b[38;5;124m\"\u001b[39m,\n\u001b[0;32m   (...)\u001b[0m\n\u001b[1;32m     25\u001b[0m     \n\u001b[1;32m     26\u001b[0m }\n\u001b[1;32m     28\u001b[0m pruning_callback \u001b[38;5;241m=\u001b[39m XGBoostPruningCallback(trial, observation_key\u001b[38;5;241m=\u001b[39m\u001b[38;5;124m\"\u001b[39m\u001b[38;5;124mvalidation_0-rmse\u001b[39m\u001b[38;5;124m\"\u001b[39m)    \n\u001b[0;32m---> 29\u001b[0m bst \u001b[38;5;241m=\u001b[39m \u001b[43mxgb\u001b[49m\u001b[38;5;241;43m.\u001b[39;49m\u001b[43mtrain\u001b[49m\u001b[43m(\u001b[49m\n\u001b[1;32m     30\u001b[0m \u001b[43m    \u001b[49m\u001b[43mparams\u001b[49m\u001b[38;5;241;43m=\u001b[39;49m\u001b[43mparam\u001b[49m\u001b[43m,\u001b[49m\n\u001b[1;32m     31\u001b[0m \u001b[43m    \u001b[49m\u001b[43mdtrain\u001b[49m\u001b[38;5;241;43m=\u001b[39;49m\u001b[43mdtrain\u001b[49m\u001b[43m,\u001b[49m\n\u001b[1;32m     32\u001b[0m \u001b[43m    \u001b[49m\u001b[43mnum_boost_round\u001b[49m\u001b[38;5;241;43m=\u001b[39;49m\u001b[38;5;241;43m1000\u001b[39;49m\u001b[43m,\u001b[49m\n\u001b[1;32m     33\u001b[0m \u001b[43m    \u001b[49m\u001b[43mevals\u001b[49m\u001b[38;5;241;43m=\u001b[39;49m\u001b[43m[\u001b[49m\u001b[43m(\u001b[49m\u001b[43mdtrain\u001b[49m\u001b[43m,\u001b[49m\u001b[43m \u001b[49m\u001b[38;5;124;43m\"\u001b[39;49m\u001b[38;5;124;43mtrain\u001b[39;49m\u001b[38;5;124;43m\"\u001b[39;49m\u001b[43m)\u001b[49m\u001b[43m,\u001b[49m\u001b[43m \u001b[49m\u001b[43m(\u001b[49m\u001b[43mdvalid\u001b[49m\u001b[43m,\u001b[49m\u001b[43m \u001b[49m\u001b[38;5;124;43m\"\u001b[39;49m\u001b[38;5;124;43mvalidation_0\u001b[39;49m\u001b[38;5;124;43m\"\u001b[39;49m\u001b[43m)\u001b[49m\u001b[43m]\u001b[49m\u001b[43m,\u001b[49m\n\u001b[1;32m     34\u001b[0m \u001b[43m    \u001b[49m\u001b[43mearly_stopping_rounds\u001b[49m\u001b[38;5;241;43m=\u001b[39;49m\u001b[38;5;241;43m50\u001b[39;49m\u001b[43m,\u001b[49m\n\u001b[1;32m     35\u001b[0m \u001b[43m    \u001b[49m\u001b[43mverbose_eval\u001b[49m\u001b[38;5;241;43m=\u001b[39;49m\u001b[38;5;28;43;01mFalse\u001b[39;49;00m\u001b[43m,\u001b[49m\n\u001b[1;32m     36\u001b[0m \u001b[43m    \u001b[49m\u001b[43mcallbacks\u001b[49m\u001b[38;5;241;43m=\u001b[39;49m\u001b[43m[\u001b[49m\u001b[43mpruning_callback\u001b[49m\u001b[43m]\u001b[49m\n\u001b[1;32m     37\u001b[0m \u001b[43m\u001b[49m\u001b[43m)\u001b[49m\n\u001b[1;32m     38\u001b[0m y_pred \u001b[38;5;241m=\u001b[39m bst\u001b[38;5;241m.\u001b[39mpredict(dvalid)\n\u001b[1;32m     39\u001b[0m rmse \u001b[38;5;241m=\u001b[39m np\u001b[38;5;241m.\u001b[39msqrt(root_mean_squared_error(y_val, y_pred))\n",
      "File \u001b[0;32m~/miniforge3/envs/ml/lib/python3.9/site-packages/xgboost/core.py:726\u001b[0m, in \u001b[0;36mrequire_keyword_args.<locals>.throw_if.<locals>.inner_f\u001b[0;34m(*args, **kwargs)\u001b[0m\n\u001b[1;32m    724\u001b[0m \u001b[38;5;28;01mfor\u001b[39;00m k, arg \u001b[38;5;129;01min\u001b[39;00m \u001b[38;5;28mzip\u001b[39m(sig\u001b[38;5;241m.\u001b[39mparameters, args):\n\u001b[1;32m    725\u001b[0m     kwargs[k] \u001b[38;5;241m=\u001b[39m arg\n\u001b[0;32m--> 726\u001b[0m \u001b[38;5;28;01mreturn\u001b[39;00m \u001b[43mfunc\u001b[49m\u001b[43m(\u001b[49m\u001b[38;5;241;43m*\u001b[39;49m\u001b[38;5;241;43m*\u001b[39;49m\u001b[43mkwargs\u001b[49m\u001b[43m)\u001b[49m\n",
      "File \u001b[0;32m~/miniforge3/envs/ml/lib/python3.9/site-packages/xgboost/training.py:182\u001b[0m, in \u001b[0;36mtrain\u001b[0;34m(params, dtrain, num_boost_round, evals, obj, feval, maximize, early_stopping_rounds, evals_result, verbose_eval, xgb_model, callbacks, custom_metric)\u001b[0m\n\u001b[1;32m    180\u001b[0m         \u001b[38;5;28;01mbreak\u001b[39;00m\n\u001b[1;32m    181\u001b[0m     bst\u001b[38;5;241m.\u001b[39mupdate(dtrain, iteration\u001b[38;5;241m=\u001b[39mi, fobj\u001b[38;5;241m=\u001b[39mobj)\n\u001b[0;32m--> 182\u001b[0m     \u001b[38;5;28;01mif\u001b[39;00m \u001b[43mcb_container\u001b[49m\u001b[38;5;241;43m.\u001b[39;49m\u001b[43mafter_iteration\u001b[49m\u001b[43m(\u001b[49m\u001b[43mbst\u001b[49m\u001b[43m,\u001b[49m\u001b[43m \u001b[49m\u001b[43mi\u001b[49m\u001b[43m,\u001b[49m\u001b[43m \u001b[49m\u001b[43mdtrain\u001b[49m\u001b[43m,\u001b[49m\u001b[43m \u001b[49m\u001b[43mevals\u001b[49m\u001b[43m)\u001b[49m:\n\u001b[1;32m    183\u001b[0m         \u001b[38;5;28;01mbreak\u001b[39;00m\n\u001b[1;32m    185\u001b[0m bst \u001b[38;5;241m=\u001b[39m cb_container\u001b[38;5;241m.\u001b[39mafter_training(bst)\n",
      "File \u001b[0;32m~/miniforge3/envs/ml/lib/python3.9/site-packages/xgboost/callback.py:261\u001b[0m, in \u001b[0;36mCallbackContainer.after_iteration\u001b[0;34m(self, model, epoch, dtrain, evals)\u001b[0m\n\u001b[1;32m    259\u001b[0m     metric_score \u001b[38;5;241m=\u001b[39m _parse_eval_str(score)\n\u001b[1;32m    260\u001b[0m     \u001b[38;5;28mself\u001b[39m\u001b[38;5;241m.\u001b[39m_update_history(metric_score, epoch)\n\u001b[0;32m--> 261\u001b[0m ret \u001b[38;5;241m=\u001b[39m \u001b[38;5;28;43many\u001b[39;49m\u001b[43m(\u001b[49m\u001b[43mc\u001b[49m\u001b[38;5;241;43m.\u001b[39;49m\u001b[43mafter_iteration\u001b[49m\u001b[43m(\u001b[49m\u001b[43mmodel\u001b[49m\u001b[43m,\u001b[49m\u001b[43m \u001b[49m\u001b[43mepoch\u001b[49m\u001b[43m,\u001b[49m\u001b[43m \u001b[49m\u001b[38;5;28;43mself\u001b[39;49m\u001b[38;5;241;43m.\u001b[39;49m\u001b[43mhistory\u001b[49m\u001b[43m)\u001b[49m\u001b[43m \u001b[49m\u001b[38;5;28;43;01mfor\u001b[39;49;00m\u001b[43m \u001b[49m\u001b[43mc\u001b[49m\u001b[43m \u001b[49m\u001b[38;5;129;43;01min\u001b[39;49;00m\u001b[43m \u001b[49m\u001b[38;5;28;43mself\u001b[39;49m\u001b[38;5;241;43m.\u001b[39;49m\u001b[43mcallbacks\u001b[49m\u001b[43m)\u001b[49m\n\u001b[1;32m    262\u001b[0m \u001b[38;5;28;01mreturn\u001b[39;00m ret\n",
      "File \u001b[0;32m~/miniforge3/envs/ml/lib/python3.9/site-packages/xgboost/callback.py:261\u001b[0m, in \u001b[0;36m<genexpr>\u001b[0;34m(.0)\u001b[0m\n\u001b[1;32m    259\u001b[0m     metric_score \u001b[38;5;241m=\u001b[39m _parse_eval_str(score)\n\u001b[1;32m    260\u001b[0m     \u001b[38;5;28mself\u001b[39m\u001b[38;5;241m.\u001b[39m_update_history(metric_score, epoch)\n\u001b[0;32m--> 261\u001b[0m ret \u001b[38;5;241m=\u001b[39m \u001b[38;5;28many\u001b[39m(\u001b[43mc\u001b[49m\u001b[38;5;241;43m.\u001b[39;49m\u001b[43mafter_iteration\u001b[49m\u001b[43m(\u001b[49m\u001b[43mmodel\u001b[49m\u001b[43m,\u001b[49m\u001b[43m \u001b[49m\u001b[43mepoch\u001b[49m\u001b[43m,\u001b[49m\u001b[43m \u001b[49m\u001b[38;5;28;43mself\u001b[39;49m\u001b[38;5;241;43m.\u001b[39;49m\u001b[43mhistory\u001b[49m\u001b[43m)\u001b[49m \u001b[38;5;28;01mfor\u001b[39;00m c \u001b[38;5;129;01min\u001b[39;00m \u001b[38;5;28mself\u001b[39m\u001b[38;5;241m.\u001b[39mcallbacks)\n\u001b[1;32m    262\u001b[0m \u001b[38;5;28;01mreturn\u001b[39;00m ret\n",
      "File \u001b[0;32m~/miniforge3/envs/ml/lib/python3.9/site-packages/optuna_integration/xgboost/xgboost.py:77\u001b[0m, in \u001b[0;36mXGBoostPruningCallback.after_iteration\u001b[0;34m(self, model, epoch, evals_log)\u001b[0m\n\u001b[1;32m     75\u001b[0m current_score \u001b[38;5;241m=\u001b[39m evaluation_results[\u001b[38;5;28mself\u001b[39m\u001b[38;5;241m.\u001b[39m_observation_key]\n\u001b[1;32m     76\u001b[0m \u001b[38;5;28mself\u001b[39m\u001b[38;5;241m.\u001b[39m_trial\u001b[38;5;241m.\u001b[39mreport(current_score, step\u001b[38;5;241m=\u001b[39mepoch)\n\u001b[0;32m---> 77\u001b[0m \u001b[38;5;28;01mif\u001b[39;00m \u001b[38;5;28;43mself\u001b[39;49m\u001b[38;5;241;43m.\u001b[39;49m\u001b[43m_trial\u001b[49m\u001b[38;5;241;43m.\u001b[39;49m\u001b[43mshould_prune\u001b[49m\u001b[43m(\u001b[49m\u001b[43m)\u001b[49m:\n\u001b[1;32m     78\u001b[0m     message \u001b[38;5;241m=\u001b[39m \u001b[38;5;124m\"\u001b[39m\u001b[38;5;124mTrial was pruned at iteration \u001b[39m\u001b[38;5;132;01m{}\u001b[39;00m\u001b[38;5;124m.\u001b[39m\u001b[38;5;124m\"\u001b[39m\u001b[38;5;241m.\u001b[39mformat(epoch)\n\u001b[1;32m     79\u001b[0m     \u001b[38;5;28;01mraise\u001b[39;00m optuna\u001b[38;5;241m.\u001b[39mTrialPruned(message)\n",
      "File \u001b[0;32m~/miniforge3/envs/ml/lib/python3.9/site-packages/optuna/trial/_trial.py:535\u001b[0m, in \u001b[0;36mTrial.should_prune\u001b[0;34m(self)\u001b[0m\n\u001b[1;32m    530\u001b[0m     \u001b[38;5;28;01mraise\u001b[39;00m \u001b[38;5;167;01mNotImplementedError\u001b[39;00m(\n\u001b[1;32m    531\u001b[0m         \u001b[38;5;124m\"\u001b[39m\u001b[38;5;124mTrial.should_prune is not supported for multi-objective optimization.\u001b[39m\u001b[38;5;124m\"\u001b[39m\n\u001b[1;32m    532\u001b[0m     )\n\u001b[1;32m    534\u001b[0m trial \u001b[38;5;241m=\u001b[39m \u001b[38;5;28mself\u001b[39m\u001b[38;5;241m.\u001b[39m_get_latest_trial()\n\u001b[0;32m--> 535\u001b[0m \u001b[38;5;28;01mreturn\u001b[39;00m \u001b[38;5;28;43mself\u001b[39;49m\u001b[38;5;241;43m.\u001b[39;49m\u001b[43mstudy\u001b[49m\u001b[38;5;241;43m.\u001b[39;49m\u001b[43mpruner\u001b[49m\u001b[38;5;241;43m.\u001b[39;49m\u001b[43mprune\u001b[49m\u001b[43m(\u001b[49m\u001b[38;5;28;43mself\u001b[39;49m\u001b[38;5;241;43m.\u001b[39;49m\u001b[43mstudy\u001b[49m\u001b[43m,\u001b[49m\u001b[43m \u001b[49m\u001b[43mtrial\u001b[49m\u001b[43m)\u001b[49m\n",
      "File \u001b[0;32m~/miniforge3/envs/ml/lib/python3.9/site-packages/optuna/pruners/_percentile.py:173\u001b[0m, in \u001b[0;36mPercentilePruner.prune\u001b[0;34m(self, study, trial)\u001b[0m\n\u001b[1;32m    172\u001b[0m \u001b[38;5;28;01mdef\u001b[39;00m\u001b[38;5;250m \u001b[39m\u001b[38;5;21mprune\u001b[39m(\u001b[38;5;28mself\u001b[39m, study: \u001b[38;5;124m\"\u001b[39m\u001b[38;5;124moptuna.study.Study\u001b[39m\u001b[38;5;124m\"\u001b[39m, trial: \u001b[38;5;124m\"\u001b[39m\u001b[38;5;124moptuna.trial.FrozenTrial\u001b[39m\u001b[38;5;124m\"\u001b[39m) \u001b[38;5;241m-\u001b[39m\u001b[38;5;241m>\u001b[39m \u001b[38;5;28mbool\u001b[39m:\n\u001b[0;32m--> 173\u001b[0m     completed_trials \u001b[38;5;241m=\u001b[39m \u001b[43mstudy\u001b[49m\u001b[38;5;241;43m.\u001b[39;49m\u001b[43mget_trials\u001b[49m\u001b[43m(\u001b[49m\u001b[43mdeepcopy\u001b[49m\u001b[38;5;241;43m=\u001b[39;49m\u001b[38;5;28;43;01mFalse\u001b[39;49;00m\u001b[43m,\u001b[49m\u001b[43m \u001b[49m\u001b[43mstates\u001b[49m\u001b[38;5;241;43m=\u001b[39;49m\u001b[43m(\u001b[49m\u001b[43mTrialState\u001b[49m\u001b[38;5;241;43m.\u001b[39;49m\u001b[43mCOMPLETE\u001b[49m\u001b[43m,\u001b[49m\u001b[43m)\u001b[49m\u001b[43m)\u001b[49m\n\u001b[1;32m    174\u001b[0m     n_trials \u001b[38;5;241m=\u001b[39m \u001b[38;5;28mlen\u001b[39m(completed_trials)\n\u001b[1;32m    176\u001b[0m     \u001b[38;5;28;01mif\u001b[39;00m n_trials \u001b[38;5;241m==\u001b[39m \u001b[38;5;241m0\u001b[39m:\n",
      "File \u001b[0;32m~/miniforge3/envs/ml/lib/python3.9/site-packages/optuna/study/study.py:289\u001b[0m, in \u001b[0;36mStudy.get_trials\u001b[0;34m(self, deepcopy, states)\u001b[0m\n\u001b[1;32m    249\u001b[0m \u001b[38;5;28;01mdef\u001b[39;00m\u001b[38;5;250m \u001b[39m\u001b[38;5;21mget_trials\u001b[39m(\n\u001b[1;32m    250\u001b[0m     \u001b[38;5;28mself\u001b[39m,\n\u001b[1;32m    251\u001b[0m     deepcopy: \u001b[38;5;28mbool\u001b[39m \u001b[38;5;241m=\u001b[39m \u001b[38;5;28;01mTrue\u001b[39;00m,\n\u001b[1;32m    252\u001b[0m     states: Container[TrialState] \u001b[38;5;241m|\u001b[39m \u001b[38;5;28;01mNone\u001b[39;00m \u001b[38;5;241m=\u001b[39m \u001b[38;5;28;01mNone\u001b[39;00m,\n\u001b[1;32m    253\u001b[0m ) \u001b[38;5;241m-\u001b[39m\u001b[38;5;241m>\u001b[39m \u001b[38;5;28mlist\u001b[39m[FrozenTrial]:\n\u001b[1;32m    254\u001b[0m \u001b[38;5;250m    \u001b[39m\u001b[38;5;124;03m\"\"\"Return all trials in the study.\u001b[39;00m\n\u001b[1;32m    255\u001b[0m \n\u001b[1;32m    256\u001b[0m \u001b[38;5;124;03m    The returned trials are ordered by trial number.\u001b[39;00m\n\u001b[0;32m   (...)\u001b[0m\n\u001b[1;32m    287\u001b[0m \u001b[38;5;124;03m        A list of :class:`~optuna.trial.FrozenTrial` objects.\u001b[39;00m\n\u001b[1;32m    288\u001b[0m \u001b[38;5;124;03m    \"\"\"\u001b[39;00m\n\u001b[0;32m--> 289\u001b[0m     \u001b[38;5;28;01mreturn\u001b[39;00m \u001b[38;5;28;43mself\u001b[39;49m\u001b[38;5;241;43m.\u001b[39;49m\u001b[43m_get_trials\u001b[49m\u001b[43m(\u001b[49m\u001b[43mdeepcopy\u001b[49m\u001b[43m,\u001b[49m\u001b[43m \u001b[49m\u001b[43mstates\u001b[49m\u001b[43m,\u001b[49m\u001b[43m \u001b[49m\u001b[43muse_cache\u001b[49m\u001b[38;5;241;43m=\u001b[39;49m\u001b[38;5;28;43;01mFalse\u001b[39;49;00m\u001b[43m)\u001b[49m\n",
      "File \u001b[0;32m~/miniforge3/envs/ml/lib/python3.9/site-packages/optuna/study/study.py:309\u001b[0m, in \u001b[0;36mStudy._get_trials\u001b[0;34m(self, deepcopy, states, use_cache)\u001b[0m\n\u001b[1;32m    306\u001b[0m         filtered_trials \u001b[38;5;241m=\u001b[39m trials\n\u001b[1;32m    307\u001b[0m     \u001b[38;5;28;01mreturn\u001b[39;00m copy\u001b[38;5;241m.\u001b[39mdeepcopy(filtered_trials) \u001b[38;5;28;01mif\u001b[39;00m deepcopy \u001b[38;5;28;01melse\u001b[39;00m filtered_trials\n\u001b[0;32m--> 309\u001b[0m \u001b[38;5;28;01mreturn\u001b[39;00m \u001b[38;5;28;43mself\u001b[39;49m\u001b[38;5;241;43m.\u001b[39;49m\u001b[43m_storage\u001b[49m\u001b[38;5;241;43m.\u001b[39;49m\u001b[43mget_all_trials\u001b[49m\u001b[43m(\u001b[49m\u001b[38;5;28;43mself\u001b[39;49m\u001b[38;5;241;43m.\u001b[39;49m\u001b[43m_study_id\u001b[49m\u001b[43m,\u001b[49m\u001b[43m \u001b[49m\u001b[43mdeepcopy\u001b[49m\u001b[38;5;241;43m=\u001b[39;49m\u001b[43mdeepcopy\u001b[49m\u001b[43m,\u001b[49m\u001b[43m \u001b[49m\u001b[43mstates\u001b[49m\u001b[38;5;241;43m=\u001b[39;49m\u001b[43mstates\u001b[49m\u001b[43m)\u001b[49m\n",
      "File \u001b[0;32m~/miniforge3/envs/ml/lib/python3.9/site-packages/optuna/storages/_cached_storage.py:221\u001b[0m, in \u001b[0;36m_CachedStorage.get_all_trials\u001b[0;34m(self, study_id, deepcopy, states)\u001b[0m\n\u001b[1;32m    215\u001b[0m \u001b[38;5;28;01mdef\u001b[39;00m\u001b[38;5;250m \u001b[39m\u001b[38;5;21mget_all_trials\u001b[39m(\n\u001b[1;32m    216\u001b[0m     \u001b[38;5;28mself\u001b[39m,\n\u001b[1;32m    217\u001b[0m     study_id: \u001b[38;5;28mint\u001b[39m,\n\u001b[1;32m    218\u001b[0m     deepcopy: \u001b[38;5;28mbool\u001b[39m \u001b[38;5;241m=\u001b[39m \u001b[38;5;28;01mTrue\u001b[39;00m,\n\u001b[1;32m    219\u001b[0m     states: Container[TrialState] \u001b[38;5;241m|\u001b[39m \u001b[38;5;28;01mNone\u001b[39;00m \u001b[38;5;241m=\u001b[39m \u001b[38;5;28;01mNone\u001b[39;00m,\n\u001b[1;32m    220\u001b[0m ) \u001b[38;5;241m-\u001b[39m\u001b[38;5;241m>\u001b[39m \u001b[38;5;28mlist\u001b[39m[FrozenTrial]:\n\u001b[0;32m--> 221\u001b[0m     \u001b[38;5;28;43mself\u001b[39;49m\u001b[38;5;241;43m.\u001b[39;49m\u001b[43m_read_trials_from_remote_storage\u001b[49m\u001b[43m(\u001b[49m\u001b[43mstudy_id\u001b[49m\u001b[43m)\u001b[49m\n\u001b[1;32m    223\u001b[0m     \u001b[38;5;28;01mwith\u001b[39;00m \u001b[38;5;28mself\u001b[39m\u001b[38;5;241m.\u001b[39m_lock:\n\u001b[1;32m    224\u001b[0m         study \u001b[38;5;241m=\u001b[39m \u001b[38;5;28mself\u001b[39m\u001b[38;5;241m.\u001b[39m_studies[study_id]\n",
      "File \u001b[0;32m~/miniforge3/envs/ml/lib/python3.9/site-packages/optuna/storages/_cached_storage.py:242\u001b[0m, in \u001b[0;36m_CachedStorage._read_trials_from_remote_storage\u001b[0;34m(self, study_id)\u001b[0m\n\u001b[1;32m    240\u001b[0m     \u001b[38;5;28mself\u001b[39m\u001b[38;5;241m.\u001b[39m_studies[study_id] \u001b[38;5;241m=\u001b[39m _StudyInfo()\n\u001b[1;32m    241\u001b[0m study \u001b[38;5;241m=\u001b[39m \u001b[38;5;28mself\u001b[39m\u001b[38;5;241m.\u001b[39m_studies[study_id]\n\u001b[0;32m--> 242\u001b[0m trials \u001b[38;5;241m=\u001b[39m \u001b[38;5;28;43mself\u001b[39;49m\u001b[38;5;241;43m.\u001b[39;49m\u001b[43m_backend\u001b[49m\u001b[38;5;241;43m.\u001b[39;49m\u001b[43m_get_trials\u001b[49m\u001b[43m(\u001b[49m\n\u001b[1;32m    243\u001b[0m \u001b[43m    \u001b[49m\u001b[43mstudy_id\u001b[49m\u001b[43m,\u001b[49m\n\u001b[1;32m    244\u001b[0m \u001b[43m    \u001b[49m\u001b[43mstates\u001b[49m\u001b[38;5;241;43m=\u001b[39;49m\u001b[38;5;28;43;01mNone\u001b[39;49;00m\u001b[43m,\u001b[49m\n\u001b[1;32m    245\u001b[0m \u001b[43m    \u001b[49m\u001b[43mincluded_trial_ids\u001b[49m\u001b[38;5;241;43m=\u001b[39;49m\u001b[43mstudy\u001b[49m\u001b[38;5;241;43m.\u001b[39;49m\u001b[43munfinished_trial_ids\u001b[49m\u001b[43m,\u001b[49m\n\u001b[1;32m    246\u001b[0m \u001b[43m    \u001b[49m\u001b[43mtrial_id_greater_than\u001b[49m\u001b[38;5;241;43m=\u001b[39;49m\u001b[43mstudy\u001b[49m\u001b[38;5;241;43m.\u001b[39;49m\u001b[43mlast_finished_trial_id\u001b[49m\u001b[43m,\u001b[49m\n\u001b[1;32m    247\u001b[0m \u001b[43m\u001b[49m\u001b[43m)\u001b[49m\n\u001b[1;32m    248\u001b[0m \u001b[38;5;28;01mif\u001b[39;00m \u001b[38;5;129;01mnot\u001b[39;00m trials:\n\u001b[1;32m    249\u001b[0m     \u001b[38;5;28;01mreturn\u001b[39;00m\n",
      "File \u001b[0;32m~/miniforge3/envs/ml/lib/python3.9/site-packages/optuna/storages/_rdb/storage.py:871\u001b[0m, in \u001b[0;36mRDBStorage._get_trials\u001b[0;34m(self, study_id, states, included_trial_ids, trial_id_greater_than)\u001b[0m\n\u001b[1;32m    864\u001b[0m         trial_models \u001b[38;5;241m=\u001b[39m query\u001b[38;5;241m.\u001b[39morder_by(models\u001b[38;5;241m.\u001b[39mTrialModel\u001b[38;5;241m.\u001b[39mtrial_id)\u001b[38;5;241m.\u001b[39mall()\n\u001b[1;32m    865\u001b[0m         trial_models \u001b[38;5;241m=\u001b[39m [\n\u001b[1;32m    866\u001b[0m             t\n\u001b[1;32m    867\u001b[0m             \u001b[38;5;28;01mfor\u001b[39;00m t \u001b[38;5;129;01min\u001b[39;00m trial_models\n\u001b[1;32m    868\u001b[0m             \u001b[38;5;28;01mif\u001b[39;00m t\u001b[38;5;241m.\u001b[39mtrial_id \u001b[38;5;129;01min\u001b[39;00m included_trial_ids \u001b[38;5;129;01mor\u001b[39;00m t\u001b[38;5;241m.\u001b[39mtrial_id \u001b[38;5;241m>\u001b[39m trial_id_greater_than\n\u001b[1;32m    869\u001b[0m         ]\n\u001b[0;32m--> 871\u001b[0m     trials \u001b[38;5;241m=\u001b[39m [\u001b[38;5;28mself\u001b[39m\u001b[38;5;241m.\u001b[39m_build_frozen_trial_from_trial_model(trial) \u001b[38;5;28;01mfor\u001b[39;00m trial \u001b[38;5;129;01min\u001b[39;00m trial_models]\n\u001b[1;32m    873\u001b[0m \u001b[38;5;28;01mreturn\u001b[39;00m trials\n",
      "File \u001b[0;32m~/miniforge3/envs/ml/lib/python3.9/site-packages/optuna/storages/_rdb/storage.py:871\u001b[0m, in \u001b[0;36m<listcomp>\u001b[0;34m(.0)\u001b[0m\n\u001b[1;32m    864\u001b[0m         trial_models \u001b[38;5;241m=\u001b[39m query\u001b[38;5;241m.\u001b[39morder_by(models\u001b[38;5;241m.\u001b[39mTrialModel\u001b[38;5;241m.\u001b[39mtrial_id)\u001b[38;5;241m.\u001b[39mall()\n\u001b[1;32m    865\u001b[0m         trial_models \u001b[38;5;241m=\u001b[39m [\n\u001b[1;32m    866\u001b[0m             t\n\u001b[1;32m    867\u001b[0m             \u001b[38;5;28;01mfor\u001b[39;00m t \u001b[38;5;129;01min\u001b[39;00m trial_models\n\u001b[1;32m    868\u001b[0m             \u001b[38;5;28;01mif\u001b[39;00m t\u001b[38;5;241m.\u001b[39mtrial_id \u001b[38;5;129;01min\u001b[39;00m included_trial_ids \u001b[38;5;129;01mor\u001b[39;00m t\u001b[38;5;241m.\u001b[39mtrial_id \u001b[38;5;241m>\u001b[39m trial_id_greater_than\n\u001b[1;32m    869\u001b[0m         ]\n\u001b[0;32m--> 871\u001b[0m     trials \u001b[38;5;241m=\u001b[39m [\u001b[38;5;28;43mself\u001b[39;49m\u001b[38;5;241;43m.\u001b[39;49m\u001b[43m_build_frozen_trial_from_trial_model\u001b[49m\u001b[43m(\u001b[49m\u001b[43mtrial\u001b[49m\u001b[43m)\u001b[49m \u001b[38;5;28;01mfor\u001b[39;00m trial \u001b[38;5;129;01min\u001b[39;00m trial_models]\n\u001b[1;32m    873\u001b[0m \u001b[38;5;28;01mreturn\u001b[39;00m trials\n",
      "File \u001b[0;32m~/miniforge3/envs/ml/lib/python3.9/site-packages/optuna/storages/_rdb/storage.py:901\u001b[0m, in \u001b[0;36mRDBStorage._build_frozen_trial_from_trial_model\u001b[0;34m(self, trial)\u001b[0m\n\u001b[1;32m    884\u001b[0m     values \u001b[38;5;241m=\u001b[39m \u001b[38;5;28;01mNone\u001b[39;00m\n\u001b[1;32m    886\u001b[0m params \u001b[38;5;241m=\u001b[39m \u001b[38;5;28msorted\u001b[39m(trial\u001b[38;5;241m.\u001b[39mparams, key\u001b[38;5;241m=\u001b[39m\u001b[38;5;28;01mlambda\u001b[39;00m p: p\u001b[38;5;241m.\u001b[39mparam_id)\n\u001b[1;32m    888\u001b[0m \u001b[38;5;28;01mreturn\u001b[39;00m FrozenTrial(\n\u001b[1;32m    889\u001b[0m     number\u001b[38;5;241m=\u001b[39mtrial\u001b[38;5;241m.\u001b[39mnumber,\n\u001b[1;32m    890\u001b[0m     state\u001b[38;5;241m=\u001b[39mtrial\u001b[38;5;241m.\u001b[39mstate,\n\u001b[1;32m    891\u001b[0m     value\u001b[38;5;241m=\u001b[39m\u001b[38;5;28;01mNone\u001b[39;00m,\n\u001b[1;32m    892\u001b[0m     values\u001b[38;5;241m=\u001b[39mvalues,\n\u001b[1;32m    893\u001b[0m     datetime_start\u001b[38;5;241m=\u001b[39mtrial\u001b[38;5;241m.\u001b[39mdatetime_start,\n\u001b[1;32m    894\u001b[0m     datetime_complete\u001b[38;5;241m=\u001b[39mtrial\u001b[38;5;241m.\u001b[39mdatetime_complete,\n\u001b[1;32m    895\u001b[0m     params\u001b[38;5;241m=\u001b[39m{\n\u001b[1;32m    896\u001b[0m         p\u001b[38;5;241m.\u001b[39mparam_name: distributions\u001b[38;5;241m.\u001b[39mjson_to_distribution(\n\u001b[1;32m    897\u001b[0m             p\u001b[38;5;241m.\u001b[39mdistribution_json\n\u001b[1;32m    898\u001b[0m         )\u001b[38;5;241m.\u001b[39mto_external_repr(p\u001b[38;5;241m.\u001b[39mparam_value)\n\u001b[1;32m    899\u001b[0m         \u001b[38;5;28;01mfor\u001b[39;00m p \u001b[38;5;129;01min\u001b[39;00m params\n\u001b[1;32m    900\u001b[0m     },\n\u001b[0;32m--> 901\u001b[0m     distributions\u001b[38;5;241m=\u001b[39m{\n\u001b[1;32m    902\u001b[0m         p\u001b[38;5;241m.\u001b[39mparam_name: distributions\u001b[38;5;241m.\u001b[39mjson_to_distribution(p\u001b[38;5;241m.\u001b[39mdistribution_json)\n\u001b[1;32m    903\u001b[0m         \u001b[38;5;28;01mfor\u001b[39;00m p \u001b[38;5;129;01min\u001b[39;00m params\n\u001b[1;32m    904\u001b[0m     },\n\u001b[1;32m    905\u001b[0m     user_attrs\u001b[38;5;241m=\u001b[39m{attr\u001b[38;5;241m.\u001b[39mkey: json\u001b[38;5;241m.\u001b[39mloads(attr\u001b[38;5;241m.\u001b[39mvalue_json) \u001b[38;5;28;01mfor\u001b[39;00m attr \u001b[38;5;129;01min\u001b[39;00m trial\u001b[38;5;241m.\u001b[39muser_attributes},\n\u001b[1;32m    906\u001b[0m     system_attrs\u001b[38;5;241m=\u001b[39m{\n\u001b[1;32m    907\u001b[0m         attr\u001b[38;5;241m.\u001b[39mkey: json\u001b[38;5;241m.\u001b[39mloads(attr\u001b[38;5;241m.\u001b[39mvalue_json) \u001b[38;5;28;01mfor\u001b[39;00m attr \u001b[38;5;129;01min\u001b[39;00m trial\u001b[38;5;241m.\u001b[39msystem_attributes\n\u001b[1;32m    908\u001b[0m     },\n\u001b[1;32m    909\u001b[0m     intermediate_values\u001b[38;5;241m=\u001b[39m{\n\u001b[1;32m    910\u001b[0m         v\u001b[38;5;241m.\u001b[39mstep: models\u001b[38;5;241m.\u001b[39mTrialIntermediateValueModel\u001b[38;5;241m.\u001b[39mstored_repr_to_intermediate_value(\n\u001b[1;32m    911\u001b[0m             v\u001b[38;5;241m.\u001b[39mintermediate_value, v\u001b[38;5;241m.\u001b[39mintermediate_value_type\n\u001b[1;32m    912\u001b[0m         )\n\u001b[1;32m    913\u001b[0m         \u001b[38;5;28;01mfor\u001b[39;00m v \u001b[38;5;129;01min\u001b[39;00m trial\u001b[38;5;241m.\u001b[39mintermediate_values\n\u001b[1;32m    914\u001b[0m     },\n\u001b[1;32m    915\u001b[0m     trial_id\u001b[38;5;241m=\u001b[39mtrial\u001b[38;5;241m.\u001b[39mtrial_id,\n\u001b[1;32m    916\u001b[0m )\n",
      "File \u001b[0;32m~/miniforge3/envs/ml/lib/python3.9/site-packages/optuna/storages/_rdb/storage.py:902\u001b[0m, in \u001b[0;36m<dictcomp>\u001b[0;34m(.0)\u001b[0m\n\u001b[1;32m    884\u001b[0m     values \u001b[38;5;241m=\u001b[39m \u001b[38;5;28;01mNone\u001b[39;00m\n\u001b[1;32m    886\u001b[0m params \u001b[38;5;241m=\u001b[39m \u001b[38;5;28msorted\u001b[39m(trial\u001b[38;5;241m.\u001b[39mparams, key\u001b[38;5;241m=\u001b[39m\u001b[38;5;28;01mlambda\u001b[39;00m p: p\u001b[38;5;241m.\u001b[39mparam_id)\n\u001b[1;32m    888\u001b[0m \u001b[38;5;28;01mreturn\u001b[39;00m FrozenTrial(\n\u001b[1;32m    889\u001b[0m     number\u001b[38;5;241m=\u001b[39mtrial\u001b[38;5;241m.\u001b[39mnumber,\n\u001b[1;32m    890\u001b[0m     state\u001b[38;5;241m=\u001b[39mtrial\u001b[38;5;241m.\u001b[39mstate,\n\u001b[1;32m    891\u001b[0m     value\u001b[38;5;241m=\u001b[39m\u001b[38;5;28;01mNone\u001b[39;00m,\n\u001b[1;32m    892\u001b[0m     values\u001b[38;5;241m=\u001b[39mvalues,\n\u001b[1;32m    893\u001b[0m     datetime_start\u001b[38;5;241m=\u001b[39mtrial\u001b[38;5;241m.\u001b[39mdatetime_start,\n\u001b[1;32m    894\u001b[0m     datetime_complete\u001b[38;5;241m=\u001b[39mtrial\u001b[38;5;241m.\u001b[39mdatetime_complete,\n\u001b[1;32m    895\u001b[0m     params\u001b[38;5;241m=\u001b[39m{\n\u001b[1;32m    896\u001b[0m         p\u001b[38;5;241m.\u001b[39mparam_name: distributions\u001b[38;5;241m.\u001b[39mjson_to_distribution(\n\u001b[1;32m    897\u001b[0m             p\u001b[38;5;241m.\u001b[39mdistribution_json\n\u001b[1;32m    898\u001b[0m         )\u001b[38;5;241m.\u001b[39mto_external_repr(p\u001b[38;5;241m.\u001b[39mparam_value)\n\u001b[1;32m    899\u001b[0m         \u001b[38;5;28;01mfor\u001b[39;00m p \u001b[38;5;129;01min\u001b[39;00m params\n\u001b[1;32m    900\u001b[0m     },\n\u001b[1;32m    901\u001b[0m     distributions\u001b[38;5;241m=\u001b[39m{\n\u001b[0;32m--> 902\u001b[0m         p\u001b[38;5;241m.\u001b[39mparam_name: \u001b[43mdistributions\u001b[49m\u001b[38;5;241;43m.\u001b[39;49m\u001b[43mjson_to_distribution\u001b[49m\u001b[43m(\u001b[49m\u001b[43mp\u001b[49m\u001b[38;5;241;43m.\u001b[39;49m\u001b[43mdistribution_json\u001b[49m\u001b[43m)\u001b[49m\n\u001b[1;32m    903\u001b[0m         \u001b[38;5;28;01mfor\u001b[39;00m p \u001b[38;5;129;01min\u001b[39;00m params\n\u001b[1;32m    904\u001b[0m     },\n\u001b[1;32m    905\u001b[0m     user_attrs\u001b[38;5;241m=\u001b[39m{attr\u001b[38;5;241m.\u001b[39mkey: json\u001b[38;5;241m.\u001b[39mloads(attr\u001b[38;5;241m.\u001b[39mvalue_json) \u001b[38;5;28;01mfor\u001b[39;00m attr \u001b[38;5;129;01min\u001b[39;00m trial\u001b[38;5;241m.\u001b[39muser_attributes},\n\u001b[1;32m    906\u001b[0m     system_attrs\u001b[38;5;241m=\u001b[39m{\n\u001b[1;32m    907\u001b[0m         attr\u001b[38;5;241m.\u001b[39mkey: json\u001b[38;5;241m.\u001b[39mloads(attr\u001b[38;5;241m.\u001b[39mvalue_json) \u001b[38;5;28;01mfor\u001b[39;00m attr \u001b[38;5;129;01min\u001b[39;00m trial\u001b[38;5;241m.\u001b[39msystem_attributes\n\u001b[1;32m    908\u001b[0m     },\n\u001b[1;32m    909\u001b[0m     intermediate_values\u001b[38;5;241m=\u001b[39m{\n\u001b[1;32m    910\u001b[0m         v\u001b[38;5;241m.\u001b[39mstep: models\u001b[38;5;241m.\u001b[39mTrialIntermediateValueModel\u001b[38;5;241m.\u001b[39mstored_repr_to_intermediate_value(\n\u001b[1;32m    911\u001b[0m             v\u001b[38;5;241m.\u001b[39mintermediate_value, v\u001b[38;5;241m.\u001b[39mintermediate_value_type\n\u001b[1;32m    912\u001b[0m         )\n\u001b[1;32m    913\u001b[0m         \u001b[38;5;28;01mfor\u001b[39;00m v \u001b[38;5;129;01min\u001b[39;00m trial\u001b[38;5;241m.\u001b[39mintermediate_values\n\u001b[1;32m    914\u001b[0m     },\n\u001b[1;32m    915\u001b[0m     trial_id\u001b[38;5;241m=\u001b[39mtrial\u001b[38;5;241m.\u001b[39mtrial_id,\n\u001b[1;32m    916\u001b[0m )\n",
      "File \u001b[0;32m~/miniforge3/envs/ml/lib/python3.9/site-packages/optuna/distributions.py:589\u001b[0m, in \u001b[0;36mjson_to_distribution\u001b[0;34m(json_str)\u001b[0m\n\u001b[1;32m    578\u001b[0m \u001b[38;5;28;01mdef\u001b[39;00m\u001b[38;5;250m \u001b[39m\u001b[38;5;21mjson_to_distribution\u001b[39m(json_str: \u001b[38;5;28mstr\u001b[39m) \u001b[38;5;241m-\u001b[39m\u001b[38;5;241m>\u001b[39m BaseDistribution:\n\u001b[1;32m    579\u001b[0m \u001b[38;5;250m    \u001b[39m\u001b[38;5;124;03m\"\"\"Deserialize a distribution in JSON format.\u001b[39;00m\n\u001b[1;32m    580\u001b[0m \n\u001b[1;32m    581\u001b[0m \u001b[38;5;124;03m    Args:\u001b[39;00m\n\u001b[0;32m   (...)\u001b[0m\n\u001b[1;32m    586\u001b[0m \n\u001b[1;32m    587\u001b[0m \u001b[38;5;124;03m    \"\"\"\u001b[39;00m\n\u001b[0;32m--> 589\u001b[0m     json_dict \u001b[38;5;241m=\u001b[39m \u001b[43mjson\u001b[49m\u001b[38;5;241;43m.\u001b[39;49m\u001b[43mloads\u001b[49m\u001b[43m(\u001b[49m\u001b[43mjson_str\u001b[49m\u001b[43m)\u001b[49m\n\u001b[1;32m    591\u001b[0m     \u001b[38;5;28;01mif\u001b[39;00m \u001b[38;5;124m\"\u001b[39m\u001b[38;5;124mname\u001b[39m\u001b[38;5;124m\"\u001b[39m \u001b[38;5;129;01min\u001b[39;00m json_dict:\n\u001b[1;32m    592\u001b[0m         \u001b[38;5;28;01mif\u001b[39;00m json_dict[\u001b[38;5;124m\"\u001b[39m\u001b[38;5;124mname\u001b[39m\u001b[38;5;124m\"\u001b[39m] \u001b[38;5;241m==\u001b[39m CategoricalDistribution\u001b[38;5;241m.\u001b[39m\u001b[38;5;18m__name__\u001b[39m:\n",
      "File \u001b[0;32m~/miniforge3/envs/ml/lib/python3.9/json/__init__.py:346\u001b[0m, in \u001b[0;36mloads\u001b[0;34m(s, cls, object_hook, parse_float, parse_int, parse_constant, object_pairs_hook, **kw)\u001b[0m\n\u001b[1;32m    341\u001b[0m     s \u001b[38;5;241m=\u001b[39m s\u001b[38;5;241m.\u001b[39mdecode(detect_encoding(s), \u001b[38;5;124m'\u001b[39m\u001b[38;5;124msurrogatepass\u001b[39m\u001b[38;5;124m'\u001b[39m)\n\u001b[1;32m    343\u001b[0m \u001b[38;5;28;01mif\u001b[39;00m (\u001b[38;5;28mcls\u001b[39m \u001b[38;5;129;01mis\u001b[39;00m \u001b[38;5;28;01mNone\u001b[39;00m \u001b[38;5;129;01mand\u001b[39;00m object_hook \u001b[38;5;129;01mis\u001b[39;00m \u001b[38;5;28;01mNone\u001b[39;00m \u001b[38;5;129;01mand\u001b[39;00m\n\u001b[1;32m    344\u001b[0m         parse_int \u001b[38;5;129;01mis\u001b[39;00m \u001b[38;5;28;01mNone\u001b[39;00m \u001b[38;5;129;01mand\u001b[39;00m parse_float \u001b[38;5;129;01mis\u001b[39;00m \u001b[38;5;28;01mNone\u001b[39;00m \u001b[38;5;129;01mand\u001b[39;00m\n\u001b[1;32m    345\u001b[0m         parse_constant \u001b[38;5;129;01mis\u001b[39;00m \u001b[38;5;28;01mNone\u001b[39;00m \u001b[38;5;129;01mand\u001b[39;00m object_pairs_hook \u001b[38;5;129;01mis\u001b[39;00m \u001b[38;5;28;01mNone\u001b[39;00m \u001b[38;5;129;01mand\u001b[39;00m \u001b[38;5;129;01mnot\u001b[39;00m kw):\n\u001b[0;32m--> 346\u001b[0m     \u001b[38;5;28;01mreturn\u001b[39;00m \u001b[43m_default_decoder\u001b[49m\u001b[38;5;241;43m.\u001b[39;49m\u001b[43mdecode\u001b[49m\u001b[43m(\u001b[49m\u001b[43ms\u001b[49m\u001b[43m)\u001b[49m\n\u001b[1;32m    347\u001b[0m \u001b[38;5;28;01mif\u001b[39;00m \u001b[38;5;28mcls\u001b[39m \u001b[38;5;129;01mis\u001b[39;00m \u001b[38;5;28;01mNone\u001b[39;00m:\n\u001b[1;32m    348\u001b[0m     \u001b[38;5;28mcls\u001b[39m \u001b[38;5;241m=\u001b[39m JSONDecoder\n",
      "File \u001b[0;32m~/miniforge3/envs/ml/lib/python3.9/json/decoder.py:337\u001b[0m, in \u001b[0;36mJSONDecoder.decode\u001b[0;34m(self, s, _w)\u001b[0m\n\u001b[1;32m    332\u001b[0m \u001b[38;5;28;01mdef\u001b[39;00m\u001b[38;5;250m \u001b[39m\u001b[38;5;21mdecode\u001b[39m(\u001b[38;5;28mself\u001b[39m, s, _w\u001b[38;5;241m=\u001b[39mWHITESPACE\u001b[38;5;241m.\u001b[39mmatch):\n\u001b[1;32m    333\u001b[0m \u001b[38;5;250m    \u001b[39m\u001b[38;5;124;03m\"\"\"Return the Python representation of ``s`` (a ``str`` instance\u001b[39;00m\n\u001b[1;32m    334\u001b[0m \u001b[38;5;124;03m    containing a JSON document).\u001b[39;00m\n\u001b[1;32m    335\u001b[0m \n\u001b[1;32m    336\u001b[0m \u001b[38;5;124;03m    \"\"\"\u001b[39;00m\n\u001b[0;32m--> 337\u001b[0m     obj, end \u001b[38;5;241m=\u001b[39m \u001b[38;5;28;43mself\u001b[39;49m\u001b[38;5;241;43m.\u001b[39;49m\u001b[43mraw_decode\u001b[49m\u001b[43m(\u001b[49m\u001b[43ms\u001b[49m\u001b[43m,\u001b[49m\u001b[43m \u001b[49m\u001b[43midx\u001b[49m\u001b[38;5;241;43m=\u001b[39;49m\u001b[43m_w\u001b[49m\u001b[43m(\u001b[49m\u001b[43ms\u001b[49m\u001b[43m,\u001b[49m\u001b[43m \u001b[49m\u001b[38;5;241;43m0\u001b[39;49m\u001b[43m)\u001b[49m\u001b[38;5;241;43m.\u001b[39;49m\u001b[43mend\u001b[49m\u001b[43m(\u001b[49m\u001b[43m)\u001b[49m\u001b[43m)\u001b[49m\n\u001b[1;32m    338\u001b[0m     end \u001b[38;5;241m=\u001b[39m _w(s, end)\u001b[38;5;241m.\u001b[39mend()\n\u001b[1;32m    339\u001b[0m     \u001b[38;5;28;01mif\u001b[39;00m end \u001b[38;5;241m!=\u001b[39m \u001b[38;5;28mlen\u001b[39m(s):\n",
      "File \u001b[0;32m~/miniforge3/envs/ml/lib/python3.9/json/decoder.py:353\u001b[0m, in \u001b[0;36mJSONDecoder.raw_decode\u001b[0;34m(self, s, idx)\u001b[0m\n\u001b[1;32m    344\u001b[0m \u001b[38;5;250m\u001b[39m\u001b[38;5;124;03m\"\"\"Decode a JSON document from ``s`` (a ``str`` beginning with\u001b[39;00m\n\u001b[1;32m    345\u001b[0m \u001b[38;5;124;03ma JSON document) and return a 2-tuple of the Python\u001b[39;00m\n\u001b[1;32m    346\u001b[0m \u001b[38;5;124;03mrepresentation and the index in ``s`` where the document ended.\u001b[39;00m\n\u001b[0;32m   (...)\u001b[0m\n\u001b[1;32m    350\u001b[0m \n\u001b[1;32m    351\u001b[0m \u001b[38;5;124;03m\"\"\"\u001b[39;00m\n\u001b[1;32m    352\u001b[0m \u001b[38;5;28;01mtry\u001b[39;00m:\n\u001b[0;32m--> 353\u001b[0m     obj, end \u001b[38;5;241m=\u001b[39m \u001b[38;5;28;43mself\u001b[39;49m\u001b[38;5;241;43m.\u001b[39;49m\u001b[43mscan_once\u001b[49m\u001b[43m(\u001b[49m\u001b[43ms\u001b[49m\u001b[43m,\u001b[49m\u001b[43m \u001b[49m\u001b[43midx\u001b[49m\u001b[43m)\u001b[49m\n\u001b[1;32m    354\u001b[0m \u001b[38;5;28;01mexcept\u001b[39;00m \u001b[38;5;167;01mStopIteration\u001b[39;00m \u001b[38;5;28;01mas\u001b[39;00m err:\n\u001b[1;32m    355\u001b[0m     \u001b[38;5;28;01mraise\u001b[39;00m JSONDecodeError(\u001b[38;5;124m\"\u001b[39m\u001b[38;5;124mExpecting value\u001b[39m\u001b[38;5;124m\"\u001b[39m, s, err\u001b[38;5;241m.\u001b[39mvalue) \u001b[38;5;28;01mfrom\u001b[39;00m\u001b[38;5;250m \u001b[39m\u001b[38;5;28;01mNone\u001b[39;00m\n",
      "\u001b[0;31mKeyboardInterrupt\u001b[0m: "
     ]
    }
   ],
   "source": [
    "def objective(trial):\n",
    "    param = {\n",
    "        \"objective\": \"reg:squarederror\",\n",
    "        \"eval_metric\": \"rmse\",\n",
    "        \"seed\": 42,\n",
    "        \"verbosity\": 0,\n",
    "        'device': \"cuda\",\n",
    "\n",
    "        # \"grow_policy\", trial.suggest_categorical(\"grow_policy\", [\"depthwise\", \"lossguide\"]),\n",
    "        \n",
    "        \"colsample_bytree\": trial.suggest_float(\"colsample_bytree\", 0.1, 1.0),\n",
    "        \"colsample_bylevel\": trial.suggest_float(\"colsample_bylevel\", 0.1, 1.0),\n",
    "\n",
    "        \"learning_rate\": trial.suggest_loguniform(\"learning_rate\", 0.001, 0.25),\n",
    "\n",
    "        \"max_depth\": trial.suggest_int(\"max_depth\", 3, 14),\n",
    "        \"min_child_weight\": trial.suggest_int(\"min_child_weight\", 1, 10),\n",
    "\n",
    "        \"gamma\": trial.suggest_float(\"gamma\", 0, 1),\n",
    "\n",
    "        \"subsample\": trial.suggest_float(\"subsample\", 0.2, 1.0),\n",
    "\n",
    "        \"reg_alpha\": trial.suggest_loguniform(\"reg_alpha\", 0.5, 2.0),\n",
    "        \"reg_lambda\": trial.suggest_loguniform(\"reg_lambda\", 1e-6, 1),\n",
    "        \n",
    "    }\n",
    "    \n",
    "    pruning_callback = XGBoostPruningCallback(trial, observation_key=\"validation_0-rmse\")    \n",
    "    bst = xgb.train(\n",
    "        params=param,\n",
    "        dtrain=dtrain,\n",
    "        num_boost_round=1000,\n",
    "        evals=[(dtrain, \"train\"), (dvalid, \"validation_0\")],\n",
    "        early_stopping_rounds=50,\n",
    "        verbose_eval=False,\n",
    "        callbacks=[pruning_callback]\n",
    "    )\n",
    "    y_pred = bst.predict(dvalid)\n",
    "    rmse = np.sqrt(root_mean_squared_error(y_val, y_pred))\n",
    "    return rmse\n",
    "\n",
    "# Create a study (using a SQLite database for persistence)\n",
    "# study_name = datetime.now().strftime(\"%Y-%m-%d_%H-%M\")\n",
    "# storage_name = f\"sqlite:///{os.path.join(optuna_dir, folder_dir, study_name)}.db\"\n",
    "# study = optuna.create_study(study_name=study_name, storage=storage_name, direction=\"minimize\")\n",
    "\n",
    "# # Run the optimization for 50 trials (adjust as needed)\n",
    "# study.optimize(objective, n_trials=50)\n",
    "\n",
    "study = optuna.create_study(\n",
    "        storage=f\"sqlite:///{model_str}db.sqlite3\",\n",
    "        study_name=model_str + datetime.now().strftime(\"%Y-%m-%d_%H-%M\"),\n",
    "        direction=\"minimize\"\n",
    ")\n",
    "study.optimize(objective, n_trials=500)\n",
    "\n",
    "print(\"\\n=========================\")\n",
    "print(\"Number of finished trials:\", len(study.trials))\n",
    "print(\"Best trial:\", study.best_trial.number)\n",
    "print(\"Best value (RMSE):\", study.best_trial.value)\n",
    "print(\"Best hyperparameters:\", study.best_trial.params)\n",
    "best_params = study.best_trial.params\n",
    "best_params[\"random_state\"] = 42\n",
    "best_params[\"verbose\"] = 0\n",
    "best_params[\"eval_metric\"] = \"rmse\""
   ]
  },
  {
   "cell_type": "code",
   "execution_count": null,
   "metadata": {},
   "outputs": [],
   "source": []
  }
 ],
 "metadata": {
  "kernelspec": {
   "display_name": "ml",
   "language": "python",
   "name": "python3"
  },
  "language_info": {
   "codemirror_mode": {
    "name": "ipython",
    "version": 3
   },
   "file_extension": ".py",
   "mimetype": "text/x-python",
   "name": "python",
   "nbconvert_exporter": "python",
   "pygments_lexer": "ipython3",
   "version": "3.9.21"
  }
 },
 "nbformat": 4,
 "nbformat_minor": 2
}
