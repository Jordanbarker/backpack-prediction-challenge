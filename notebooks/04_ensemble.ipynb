{
 "cells": [
  {
   "cell_type": "code",
   "execution_count": 35,
   "metadata": {},
   "outputs": [
    {
     "name": "stdout",
     "output_type": "stream",
     "text": [
      "The autoreload extension is already loaded. To reload it, use:\n",
      "  %reload_ext autoreload\n"
     ]
    }
   ],
   "source": [
    "from backpack_predictor import prepare_data, target_encoding\n",
    "from backpack_predictor.features import target, baseline_features, feature_list, cat_cols\n",
    "\n",
    "%load_ext autoreload\n",
    "%autoreload 2\n",
    "\n",
    "from datetime import datetime\n",
    "import time\n",
    "import numpy as np\n",
    "import pandas as pd\n",
    "from scipy.stats import skew, chisquare, kruskal, ks_2samp, chi2_contingency\n",
    "\n",
    "import seaborn as sns\n",
    "import matplotlib.pyplot as plt\n",
    "\n",
    "from sklearn.preprocessing import KBinsDiscretizer, TargetEncoder\n",
    "from sklearn.model_selection import KFold, train_test_split\n",
    "from sklearn.metrics import root_mean_squared_error\n",
    "\n",
    "import xgboost as xgb\n",
    "\n",
    "import warnings\n",
    "warnings.filterwarnings('ignore')\n",
    "\n",
    "test_df = pd.read_csv(r'..//data//test.csv')\n",
    "train_df = pd.read_csv(r'..//data//train.csv')\n",
    "train_extra_df = pd.read_csv(r'..//data//training_extra.csv')\n",
    "train_df = pd.concat([train_df, train_extra_df], ignore_index=True)\n",
    "\n",
    "\n",
    "# Apply function to train and test datasets\n",
    "train_df = prepare_data(train_df, is_train=True)\n",
    "test_df = prepare_data(test_df, is_train=False)"
   ]
  },
  {
   "cell_type": "code",
   "execution_count": 21,
   "metadata": {},
   "outputs": [
    {
     "data": {
      "text/plain": [
       "Index(['brand', 'material', 'size', 'compartments', 'laptop_compartment',\n",
       "       'is_waterproof', 'style', 'color', 'weight_capacity', 'price'],\n",
       "      dtype='object')"
      ]
     },
     "execution_count": 21,
     "metadata": {},
     "output_type": "execute_result"
    }
   ],
   "source": [
    "train_df.columns"
   ]
  },
  {
   "cell_type": "code",
   "execution_count": 38,
   "metadata": {},
   "outputs": [],
   "source": [
    "train_df['weight_capacity_int'] = train_df['weight_capacity'].astype(int)\n",
    "cols_to_transform = [\n",
    "    'brand', 'material', 'size', 'compartments', 'laptop_compartment',\n",
    "    'is_waterproof', 'style', 'color', 'weight_capacity'\n",
    "]\n",
    "other_features = ['weight_capacity_int']\n",
    "# other_features = ['brand']\n",
    "# cols_to_transform = ['weight_capacity']"
   ]
  },
  {
   "cell_type": "code",
   "execution_count": 37,
   "metadata": {},
   "outputs": [],
   "source": [
    "# df_stacked[current_features]"
   ]
  },
  {
   "cell_type": "code",
   "execution_count": null,
   "metadata": {},
   "outputs": [],
   "source": [
    "all_features = cols_to_transform + other_features\n",
    "\n",
    "# XGB Model Parameters\n",
    "params = {\n",
    "    \"objective\": \"reg:squarederror\",\n",
    "    \"eval_metric\": \"rmse\",\n",
    "    \"seed\": 42,\n",
    "    \"verbosity\": 0,\n",
    "}\n",
    "\n",
    "def run_xgb_oof(\n",
    "    df,\n",
    "    features,\n",
    "    target_col,\n",
    "    n_splits=10,\n",
    "    params={},\n",
    "    num_boost_round=200,\n",
    "    early_stopping_rounds=20\n",
    "):\n",
    "    \"\"\"\n",
    "    Trains an XGB model in a K-Fold manner and returns:\n",
    "    - oof_preds: The out-of-fold predictions for each row in df.\n",
    "    - performance: The RMSE computed on out-of-fold predictions.\n",
    "    \"\"\"\n",
    "\n",
    "    # Prepare array for OOF predictions\n",
    "    oof_preds = np.zeros(len(df))\n",
    "    \n",
    "    kf = KFold(n_splits=n_splits, shuffle=True, random_state=42)\n",
    "    fold_metrics = []\n",
    "    \n",
    "    for fold, (train_idx, valid_idx) in enumerate(kf.split(df), 1):\n",
    "        train_fold = df.iloc[train_idx].copy()\n",
    "        valid_fold = df.iloc[valid_idx].copy()\n",
    "        \n",
    "        # Fit on the train fold, transform both train and valid\n",
    "        te = TargetEncoder()\n",
    "        train_te = te.fit_transform(train_fold[cols_to_transform], train_fold[target_col])\n",
    "        valid_te = te.transform(valid_fold[cols_to_transform])\n",
    "\n",
    "        # Convert to DataFrames\n",
    "        train_te = pd.DataFrame(train_te, columns=cols_to_transform, index=train_fold.index)\n",
    "        valid_te = pd.DataFrame(valid_te, columns=cols_to_transform, index=valid_fold.index)\n",
    "        \n",
    "        # Rebuild the DataFrame with transformed features + numeric\n",
    "        X_train = pd.concat([train_te, train_fold[other_features]], axis=1)\n",
    "        y_train = train_fold[target_col].values\n",
    "        \n",
    "        X_valid = pd.concat([valid_te, valid_fold[other_features]], axis=1)\n",
    "        y_valid = valid_fold[target_col].values\n",
    "\n",
    "        # Convert to XGBoost DMatrix\n",
    "        dtrain = xgb.DMatrix(X_train, label=y_train, enable_categorical=True)\n",
    "        dvalid = xgb.DMatrix(X_valid, label=y_valid, enable_categorical=True)\n",
    "        \n",
    "        # Train XGB\n",
    "        bst = xgb.train(\n",
    "            params=params,\n",
    "            dtrain=dtrain,\n",
    "            num_boost_round=num_boost_round,\n",
    "            evals=[(dtrain, \"train\"), (dvalid, \"valid\")],\n",
    "            early_stopping_rounds=early_stopping_rounds,\n",
    "            verbose_eval=False\n",
    "        )\n",
    "\n",
    "        # Predict on validation fold\n",
    "        preds_valid = bst.predict(dvalid)\n",
    "        oof_preds[valid_idx] = preds_valid\n",
    "        \n",
    "        # Compute fold RMSE\n",
    "        fold_rmse = root_mean_squared_error(y_valid, preds_valid)\n",
    "        fold_metrics.append(fold_rmse)\n",
    "    \n",
    "    # Overall OOF RMSE\n",
    "    overall_rmse = root_mean_squared_error(df[target_col], oof_preds)\n",
    "    print(f\"OOF RMSE: {overall_rmse:.4f}\")\n",
    "    \n",
    "    return oof_preds, overall_rmse\n",
    "\n",
    "# Sequentially Build N Models\n",
    "N = 300  # Number of sequential models to build\n",
    "best_score = float('inf')\n",
    "accepted_oof_columns = []  # Which OOF columns we've kept so far\n",
    "\n",
    "df_stacked = train_df.copy()  # Start from original training set\n",
    "performance_list = []\n",
    "\n",
    "for level in range(1, N+1):\n",
    "    # print(f\"\\n=== Level {level} ===\")\n",
    "    \n",
    "    # Decide which features to use. At each level, we include:\n",
    "    #   - Original features\n",
    "    #   - All previously-generated OOF prediction columns\n",
    "    # current_features = all_features + [\n",
    "    #     col for col in df_stacked.columns \n",
    "    #     if col.startswith(\"xgb_oof_lvl\")\n",
    "    # ]\n",
    "    current_features = all_features + accepted_oof_columns\n",
    "    new_oof_col = f\"xgb_oof_lvl{level}\"\n",
    "\n",
    "\n",
    "    \n",
    "    # Run cross-validation and get OOF predictions\n",
    "    oof_preds, score = run_xgb_oof(\n",
    "        df_stacked,\n",
    "        features=current_features,\n",
    "        target_col=target,\n",
    "        n_splits=10,\n",
    "        params=params,\n",
    "        num_boost_round=200,\n",
    "        early_stopping_rounds=20\n",
    "    )\n",
    "    \n",
    "    # Append performance\n",
    "    performance_list.append(score)\n",
    "    \n",
    "    # Add these OOF predictions as a new feature for the next level\n",
    "    # df_stacked[f\"xgb_oof_lvl{level}\"] = oof_preds\n",
    "    df_stacked[new_oof_col] = oof_preds\n",
    "    \n",
    "    # If performance improved, accept this new feature; otherwise prune\n",
    "    if score < best_score:\n",
    "        print(f\"Level {level}: New best score achieved: {score:.4f} (previous best was {best_score:.4f})\")\n",
    "        best_score = score\n",
    "        accepted_oof_columns.append(new_oof_col)\n",
    "    else:\n",
    "        print(f\"Level {level}: No improvement; pruning column '{new_oof_col}'.\")\n",
    "        # Remove the column from df_stacked\n",
    "        df_stacked.drop(columns=[new_oof_col], inplace=True)\n",
    "\n",
    "# Print the performance of each level\n",
    "for lvl, perf in enumerate(performance_list, 1):\n",
    "    print(f\"Level {lvl} OOF RMSE: {perf:.4f}\")\n"
   ]
  },
  {
   "cell_type": "code",
   "execution_count": 34,
   "metadata": {},
   "outputs": [
    {
     "data": {
      "text/plain": [
       "<Axes: >"
      ]
     },
     "execution_count": 34,
     "metadata": {},
     "output_type": "execute_result"
    },
    {
     "data": {
      "image/png": "[encoded data removed]",
      "text/plain": [
       "<Figure size 640x480 with 1 Axes>"
      ]
     },
     "metadata": {},
     "output_type": "display_data"
    }
   ],
   "source": [
    "sns.lineplot(performance_list)"
   ]
  },
  {
   "cell_type": "code",
   "execution_count": 14,
   "metadata": {},
   "outputs": [],
   "source": [
    "kf = KFold(n_splits=10, shuffle=True, random_state=42)\n",
    "data_splits = []\n",
    "\n",
    "for train_index, val_index in kf.split(train_df):\n",
    "    train_fold = train_df.iloc[train_index]\n",
    "    val_fold = train_df.iloc[val_index]\n",
    "\n",
    "    te = TargetEncoder(target_type=\"continuous\", smooth=20)\n",
    "    train_te = te.fit_transform(train_fold[cols_to_transform], train_fold[target])\n",
    "    val_te = te.transform(val_fold[cols_to_transform])\n",
    "\n",
    "    # Convert to DataFrames\n",
    "    train_te = pd.DataFrame(train_te, columns=cols_to_transform, index=train_fold.index)\n",
    "    val_te = pd.DataFrame(val_te, columns=cols_to_transform, index=val_fold.index)\n",
    "    \n",
    "    train_te[target] = train_fold[target]\n",
    "    val_te[target] = val_fold[target]\n",
    "\n",
    "    data_splits.append((train_te, val_te))\n",
    "\n",
    "    # dtrain = xgb.DMatrix(train_te, label=train_fold[target], enable_categorical=True)\n",
    "    # dvalid = xgb.DMatrix(val_te, label=val_fold[target], enable_categorical=True)"
   ]
  },
  {
   "cell_type": "code",
   "execution_count": null,
   "metadata": {},
   "outputs": [
    {
     "ename": "ValueError",
     "evalue": "All arrays must be of the same length",
     "output_type": "error",
     "traceback": [
      "\u001b[1;31m---------------------------------------------------------------------------\u001b[0m",
      "\u001b[1;31mValueError\u001b[0m                                Traceback (most recent call last)",
      "Cell \u001b[1;32mIn[17], line 28\u001b[0m\n\u001b[0;32m     25\u001b[0m     rmse \u001b[38;5;241m=\u001b[39m root_mean_squared_error(dvalid\u001b[38;5;241m.\u001b[39mget_label(), y_pred)\n\u001b[0;32m     26\u001b[0m     results[\u001b[38;5;124m'\u001b[39m\u001b[38;5;124mbaseline\u001b[39m\u001b[38;5;124m'\u001b[39m]\u001b[38;5;241m.\u001b[39mappend(rmse)\n\u001b[1;32m---> 28\u001b[0m \u001b[43mpd\u001b[49m\u001b[38;5;241;43m.\u001b[39;49m\u001b[43mDataFrame\u001b[49m\u001b[43m(\u001b[49m\u001b[43mresults\u001b[49m\u001b[43m)\u001b[49m\n",
      "File \u001b[1;32mc:\\USERS\\JBARKER\\APPDATA\\LOCAL\\MINIFORGE3\\ENVS\\KG\\Lib\\site-packages\\pandas\\core\\frame.py:778\u001b[0m, in \u001b[0;36mDataFrame.__init__\u001b[1;34m(self, data, index, columns, dtype, copy)\u001b[0m\n\u001b[0;32m    772\u001b[0m     mgr \u001b[38;5;241m=\u001b[39m \u001b[38;5;28mself\u001b[39m\u001b[38;5;241m.\u001b[39m_init_mgr(\n\u001b[0;32m    773\u001b[0m         data, axes\u001b[38;5;241m=\u001b[39m{\u001b[38;5;124m\"\u001b[39m\u001b[38;5;124mindex\u001b[39m\u001b[38;5;124m\"\u001b[39m: index, \u001b[38;5;124m\"\u001b[39m\u001b[38;5;124mcolumns\u001b[39m\u001b[38;5;124m\"\u001b[39m: columns}, dtype\u001b[38;5;241m=\u001b[39mdtype, copy\u001b[38;5;241m=\u001b[39mcopy\n\u001b[0;32m    774\u001b[0m     )\n\u001b[0;32m    776\u001b[0m \u001b[38;5;28;01melif\u001b[39;00m \u001b[38;5;28misinstance\u001b[39m(data, \u001b[38;5;28mdict\u001b[39m):\n\u001b[0;32m    777\u001b[0m     \u001b[38;5;66;03m# GH#38939 de facto copy defaults to False only in non-dict cases\u001b[39;00m\n\u001b[1;32m--> 778\u001b[0m     mgr \u001b[38;5;241m=\u001b[39m \u001b[43mdict_to_mgr\u001b[49m\u001b[43m(\u001b[49m\u001b[43mdata\u001b[49m\u001b[43m,\u001b[49m\u001b[43m \u001b[49m\u001b[43mindex\u001b[49m\u001b[43m,\u001b[49m\u001b[43m \u001b[49m\u001b[43mcolumns\u001b[49m\u001b[43m,\u001b[49m\u001b[43m \u001b[49m\u001b[43mdtype\u001b[49m\u001b[38;5;241;43m=\u001b[39;49m\u001b[43mdtype\u001b[49m\u001b[43m,\u001b[49m\u001b[43m \u001b[49m\u001b[43mcopy\u001b[49m\u001b[38;5;241;43m=\u001b[39;49m\u001b[43mcopy\u001b[49m\u001b[43m,\u001b[49m\u001b[43m \u001b[49m\u001b[43mtyp\u001b[49m\u001b[38;5;241;43m=\u001b[39;49m\u001b[43mmanager\u001b[49m\u001b[43m)\u001b[49m\n\u001b[0;32m    779\u001b[0m \u001b[38;5;28;01melif\u001b[39;00m \u001b[38;5;28misinstance\u001b[39m(data, ma\u001b[38;5;241m.\u001b[39mMaskedArray):\n\u001b[0;32m    780\u001b[0m     \u001b[38;5;28;01mfrom\u001b[39;00m\u001b[38;5;250m \u001b[39m\u001b[38;5;21;01mnumpy\u001b[39;00m\u001b[38;5;21;01m.\u001b[39;00m\u001b[38;5;21;01mma\u001b[39;00m\u001b[38;5;250m \u001b[39m\u001b[38;5;28;01mimport\u001b[39;00m mrecords\n",
      "File \u001b[1;32mc:\\USERS\\JBARKER\\APPDATA\\LOCAL\\MINIFORGE3\\ENVS\\KG\\Lib\\site-packages\\pandas\\core\\internals\\construction.py:503\u001b[0m, in \u001b[0;36mdict_to_mgr\u001b[1;34m(data, index, columns, dtype, typ, copy)\u001b[0m\n\u001b[0;32m    499\u001b[0m     \u001b[38;5;28;01melse\u001b[39;00m:\n\u001b[0;32m    500\u001b[0m         \u001b[38;5;66;03m# dtype check to exclude e.g. range objects, scalars\u001b[39;00m\n\u001b[0;32m    501\u001b[0m         arrays \u001b[38;5;241m=\u001b[39m [x\u001b[38;5;241m.\u001b[39mcopy() \u001b[38;5;28;01mif\u001b[39;00m \u001b[38;5;28mhasattr\u001b[39m(x, \u001b[38;5;124m\"\u001b[39m\u001b[38;5;124mdtype\u001b[39m\u001b[38;5;124m\"\u001b[39m) \u001b[38;5;28;01melse\u001b[39;00m x \u001b[38;5;28;01mfor\u001b[39;00m x \u001b[38;5;129;01min\u001b[39;00m arrays]\n\u001b[1;32m--> 503\u001b[0m \u001b[38;5;28;01mreturn\u001b[39;00m \u001b[43marrays_to_mgr\u001b[49m\u001b[43m(\u001b[49m\u001b[43marrays\u001b[49m\u001b[43m,\u001b[49m\u001b[43m \u001b[49m\u001b[43mcolumns\u001b[49m\u001b[43m,\u001b[49m\u001b[43m \u001b[49m\u001b[43mindex\u001b[49m\u001b[43m,\u001b[49m\u001b[43m \u001b[49m\u001b[43mdtype\u001b[49m\u001b[38;5;241;43m=\u001b[39;49m\u001b[43mdtype\u001b[49m\u001b[43m,\u001b[49m\u001b[43m \u001b[49m\u001b[43mtyp\u001b[49m\u001b[38;5;241;43m=\u001b[39;49m\u001b[43mtyp\u001b[49m\u001b[43m,\u001b[49m\u001b[43m \u001b[49m\u001b[43mconsolidate\u001b[49m\u001b[38;5;241;43m=\u001b[39;49m\u001b[43mcopy\u001b[49m\u001b[43m)\u001b[49m\n",
      "File \u001b[1;32mc:\\USERS\\JBARKER\\APPDATA\\LOCAL\\MINIFORGE3\\ENVS\\KG\\Lib\\site-packages\\pandas\\core\\internals\\construction.py:114\u001b[0m, in \u001b[0;36marrays_to_mgr\u001b[1;34m(arrays, columns, index, dtype, verify_integrity, typ, consolidate)\u001b[0m\n\u001b[0;32m    111\u001b[0m \u001b[38;5;28;01mif\u001b[39;00m verify_integrity:\n\u001b[0;32m    112\u001b[0m     \u001b[38;5;66;03m# figure out the index, if necessary\u001b[39;00m\n\u001b[0;32m    113\u001b[0m     \u001b[38;5;28;01mif\u001b[39;00m index \u001b[38;5;129;01mis\u001b[39;00m \u001b[38;5;28;01mNone\u001b[39;00m:\n\u001b[1;32m--> 114\u001b[0m         index \u001b[38;5;241m=\u001b[39m \u001b[43m_extract_index\u001b[49m\u001b[43m(\u001b[49m\u001b[43marrays\u001b[49m\u001b[43m)\u001b[49m\n\u001b[0;32m    115\u001b[0m     \u001b[38;5;28;01melse\u001b[39;00m:\n\u001b[0;32m    116\u001b[0m         index \u001b[38;5;241m=\u001b[39m ensure_index(index)\n",
      "File \u001b[1;32mc:\\USERS\\JBARKER\\APPDATA\\LOCAL\\MINIFORGE3\\ENVS\\KG\\Lib\\site-packages\\pandas\\core\\internals\\construction.py:677\u001b[0m, in \u001b[0;36m_extract_index\u001b[1;34m(data)\u001b[0m\n\u001b[0;32m    675\u001b[0m lengths \u001b[38;5;241m=\u001b[39m \u001b[38;5;28mlist\u001b[39m(\u001b[38;5;28mset\u001b[39m(raw_lengths))\n\u001b[0;32m    676\u001b[0m \u001b[38;5;28;01mif\u001b[39;00m \u001b[38;5;28mlen\u001b[39m(lengths) \u001b[38;5;241m>\u001b[39m \u001b[38;5;241m1\u001b[39m:\n\u001b[1;32m--> 677\u001b[0m     \u001b[38;5;28;01mraise\u001b[39;00m \u001b[38;5;167;01mValueError\u001b[39;00m(\u001b[38;5;124m\"\u001b[39m\u001b[38;5;124mAll arrays must be of the same length\u001b[39m\u001b[38;5;124m\"\u001b[39m)\n\u001b[0;32m    679\u001b[0m \u001b[38;5;28;01mif\u001b[39;00m have_dicts:\n\u001b[0;32m    680\u001b[0m     \u001b[38;5;28;01mraise\u001b[39;00m \u001b[38;5;167;01mValueError\u001b[39;00m(\n\u001b[0;32m    681\u001b[0m         \u001b[38;5;124m\"\u001b[39m\u001b[38;5;124mMixing dicts with non-Series may lead to ambiguous ordering.\u001b[39m\u001b[38;5;124m\"\u001b[39m\n\u001b[0;32m    682\u001b[0m     )\n",
      "\u001b[1;31mValueError\u001b[0m: All arrays must be of the same length"
     ]
    }
   ],
   "source": [
    "params = {\n",
    "    \"objective\": \"reg:squarederror\",\n",
    "    \"eval_metric\": \"rmse\",\n",
    "    \"seed\": 42,\n",
    "    \"verbosity\": 0,\n",
    "}\n",
    "\n",
    "\n",
    "results = {name: [] for name in ['baseline', 'stacked']}\n",
    "\n",
    "for i, (train_fold, valid_fold) in enumerate(data_splits, 1):\n",
    "    dtrain = xgb.DMatrix(train_fold[cols_to_transform], label=train_fold[target], enable_categorical=True)\n",
    "    dvalid = xgb.DMatrix(valid_fold[cols_to_transform], label=val_fold[target], enable_categorical=True)\n",
    "\n",
    "    bst = xgb.train(\n",
    "        params=params,\n",
    "        dtrain=dtrain,\n",
    "        num_boost_round=200,\n",
    "        evals=[(dtrain, \"train\"), (dvalid, \"validation\")],\n",
    "        early_stopping_rounds=20,\n",
    "        verbose_eval=False,\n",
    "    )\n",
    "    \n",
    "    y_pred = bst.predict(dvalid)\n",
    "    rmse = root_mean_squared_error(dvalid.get_label(), y_pred)\n",
    "    results['baseline'].append(rmse)\n",
    "\n"
   ]
  },
  {
   "cell_type": "code",
   "execution_count": null,
   "metadata": {},
   "outputs": [],
   "source": [
    "pd.DataFrame(results)"
   ]
  },
  {
   "cell_type": "code",
   "execution_count": 16,
   "metadata": {},
   "outputs": [
    {
     "data": {
      "text/html": [
       "<div>\n",
       "<style scoped>\n",
       "    .dataframe tbody tr th:only-of-type {\n",
       "        vertical-align: middle;\n",
       "    }\n",
       "\n",
       "    .dataframe tbody tr th {\n",
       "        vertical-align: top;\n",
       "    }\n",
       "\n",
       "    .dataframe thead th {\n",
       "        text-align: right;\n",
       "    }\n",
       "</style>\n",
       "<table border=\"1\" class=\"dataframe\">\n",
       "  <thead>\n",
       "    <tr style=\"text-align: right;\">\n",
       "      <th></th>\n",
       "      <th>weight_capacity</th>\n",
       "    </tr>\n",
       "  </thead>\n",
       "  <tbody>\n",
       "    <tr>\n",
       "      <th>0</th>\n",
       "      <td>78.891189</td>\n",
       "    </tr>\n",
       "    <tr>\n",
       "      <th>1</th>\n",
       "      <td>81.351436</td>\n",
       "    </tr>\n",
       "    <tr>\n",
       "      <th>2</th>\n",
       "      <td>81.458312</td>\n",
       "    </tr>\n",
       "    <tr>\n",
       "      <th>3</th>\n",
       "      <td>81.362671</td>\n",
       "    </tr>\n",
       "    <tr>\n",
       "      <th>4</th>\n",
       "      <td>81.458312</td>\n",
       "    </tr>\n",
       "    <tr>\n",
       "      <th>...</th>\n",
       "      <td>...</td>\n",
       "    </tr>\n",
       "    <tr>\n",
       "      <th>299994</th>\n",
       "      <td>83.379240</td>\n",
       "    </tr>\n",
       "    <tr>\n",
       "      <th>299996</th>\n",
       "      <td>81.450312</td>\n",
       "    </tr>\n",
       "    <tr>\n",
       "      <th>299997</th>\n",
       "      <td>76.974541</td>\n",
       "    </tr>\n",
       "    <tr>\n",
       "      <th>299998</th>\n",
       "      <td>81.385971</td>\n",
       "    </tr>\n",
       "    <tr>\n",
       "      <th>299999</th>\n",
       "      <td>81.620509</td>\n",
       "    </tr>\n",
       "  </tbody>\n",
       "</table>\n",
       "<p>270000 rows × 1 columns</p>\n",
       "</div>"
      ],
      "text/plain": [
       "        weight_capacity\n",
       "0             78.891189\n",
       "1             81.351436\n",
       "2             81.458312\n",
       "3             81.362671\n",
       "4             81.458312\n",
       "...                 ...\n",
       "299994        83.379240\n",
       "299996        81.450312\n",
       "299997        76.974541\n",
       "299998        81.385971\n",
       "299999        81.620509\n",
       "\n",
       "[270000 rows x 1 columns]"
      ]
     },
     "execution_count": 16,
     "metadata": {},
     "output_type": "execute_result"
    }
   ],
   "source": [
    "train_fold[cols_to_transform]"
   ]
  },
  {
   "cell_type": "code",
   "execution_count": null,
   "metadata": {},
   "outputs": [],
   "source": []
  }
 ],
 "metadata": {
  "kernelspec": {
   "display_name": "KG",
   "language": "python",
   "name": "python3"
  },
  "language_info": {
   "codemirror_mode": {
    "name": "ipython",
    "version": 3
   },
   "file_extension": ".py",
   "mimetype": "text/x-python",
   "name": "python",
   "nbconvert_exporter": "python",
   "pygments_lexer": "ipython3",
   "version": "3.13.1"
  }
 },
 "nbformat": 4,
 "nbformat_minor": 2
}
