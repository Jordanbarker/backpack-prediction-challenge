{
 "cells": [
  {
   "cell_type": "code",
   "execution_count": 3,
   "metadata": {},
   "outputs": [
    {
     "name": "stderr",
     "output_type": "stream",
     "text": [
      "c:\\Users\\JBarker\\AppData\\Local\\miniforge3\\envs\\kg\\lib\\site-packages\\tqdm\\auto.py:21: TqdmWarning: IProgress not found. Please update jupyter and ipywidgets. See https://ipywidgets.readthedocs.io/en/stable/user_install.html\n",
      "  from .autonotebook import tqdm as notebook_tqdm\n"
     ]
    }
   ],
   "source": [
    "from backpack_predictor import prepare_data\n",
    "from backpack_predictor.features import target, baseline_features, feature_list, cat_cols\n",
    "\n",
    "%load_ext autoreload\n",
    "%autoreload 2\n",
    "\n",
    "from datetime import datetime\n",
    "import time\n",
    "import numpy as np\n",
    "import pandas as pd\n",
    "from scipy.stats import skew, chisquare, kruskal, ks_2samp, chi2_contingency\n",
    "\n",
    "import seaborn as sns\n",
    "import matplotlib.pyplot as plt\n",
    "\n",
    "from sklearn.model_selection import KFold, train_test_split\n",
    "from sklearn.metrics import root_mean_squared_error\n",
    "from sklearn.preprocessing import TargetEncoder\n",
    "\n",
    "import xgboost as xgb\n",
    "from catboost import CatBoostRegressor\n",
    "\n",
    "from optuna.integration import XGBoostPruningCallback, CatBoostPruningCallback\n",
    "import optuna\n",
    "\n",
    "import warnings\n",
    "warnings.filterwarnings('ignore')\n",
    "\n",
    "test_df = pd.read_csv(r'..//data//test.csv')\n",
    "train_df = pd.read_csv(r'..//data//train.csv')\n",
    "train_extra_df = pd.read_csv(r'..//data//training_extra.csv')\n",
    "train_df = pd.concat([train_df, train_extra_df], ignore_index=True)\n",
    "\n",
    "\n",
    "# Apply function to train and test datasets\n",
    "train_df = prepare_data(train_df, is_train=True)\n",
    "test_df = prepare_data(test_df, is_train=False)\n",
    "\n",
    "\n",
    "# X = train_df.drop(target, axis=1)\n",
    "# y = train_df[target]\n",
    "\n",
    "# Ensure categorical features are strings\n",
    "# X_train.iloc[:, baseline_features] = X_train.iloc[:, baseline_features].astype(str)\n",
    "# X_val.iloc[:, baseline_features]   = X_val.iloc[:, baseline_features].astype(str)"
   ]
  },
  {
   "cell_type": "markdown",
   "metadata": {},
   "source": [
    "Next test: Convert cat cols to str"
   ]
  },
  {
   "cell_type": "code",
   "execution_count": 4,
   "metadata": {},
   "outputs": [],
   "source": [
    "model_str = \"catboost_\"\n",
    "# test_name = \"all_features_\"\n",
    "# study_name = \"huber_error_\"\n",
    "study_name = \"exclude_least_import_\"\n",
    "# model_str = \"xgb_\"\n",
    "# cols_to_transform = [\"weight_capacity\"]\n",
    "\n",
    "TE_features = [\n",
    "    'weight_capacity', 'compartments', 'wc_decimal_count', 'brand', 'color',\n",
    "    'laptop_compartment', 'is_waterproof', 'size', 'material', 'style'\n",
    "]\n",
    "TE_new_cols = [col + \"_te\" for col in TE_features]\n",
    "features = TE_features + TE_new_cols #+ cat_features  \n",
    "# Exclude these two\n",
    "features = [col for col in features if col not in ['laptop_compartment', 'is_waterproof', 'wc_decimal_count', 'style']]"
   ]
  },
  {
   "cell_type": "code",
   "execution_count": 5,
   "metadata": {},
   "outputs": [],
   "source": [
    "kf = KFold(n_splits=5, shuffle=True, random_state=4444)\n",
    "data_splits = []\n",
    "\n",
    "for train_index, val_index in kf.split(train_df):\n",
    "    train_fold = train_df.iloc[train_index]\n",
    "    val_fold = train_df.iloc[val_index]\n",
    "\n",
    "    te = TargetEncoder(target_type=\"continuous\", smooth=20)\n",
    "    train_fold[TE_new_cols] = (\n",
    "        te.fit_transform(train_fold[TE_features], train_fold[target])\n",
    "    )\n",
    "    val_fold[TE_new_cols] = (\n",
    "        te.transform(val_fold[TE_features])\n",
    "    )\n",
    "    data_splits.append((train_fold, val_fold))\n",
    "\n",
    "# cat_features_fold = X_train[feature_list].select_dtypes(include=['object', 'category']).columns.tolist()\n",
    "# cat_feature_indexes_fold = [X_train[feature_list].columns.get_loc(col) for col in cat_features_fold]"
   ]
  },
  {
   "cell_type": "code",
   "execution_count": null,
   "metadata": {},
   "outputs": [
    {
     "name": "stderr",
     "output_type": "stream",
     "text": [
      "[I 2025-02-18 17:28:50,580] A new study created in RDB with name: exclude_least_import_2025-02-18_17-28\n"
     ]
    }
   ],
   "source": [
    "%%time\n",
    "\n",
    "\n",
    "def objective(trial):\n",
    "    params = {\n",
    "        \"random_state\": 42,\n",
    "        \"verbose\": 0,\n",
    "        \"eval_metric\": \"RMSE\",\n",
    "        \n",
    "        \"learning_rate\": trial.suggest_float(\"learning_rate\", 1e-4, 0.5, log=True),\n",
    "        \"iterations\": trial.suggest_int(\"iterations\", 100, 5000),\n",
    "        \"depth\": trial.suggest_int(\"depth\", 4, 16),\n",
    "        \"l2_leaf_reg\": trial.suggest_float(\"l2_leaf_reg\", 1, 10),\n",
    "        \"random_strength\": trial.suggest_float(\"random_strength\", 1, 50),\n",
    "        \n",
    "        # Additional CatBoost parameters with conditionals\n",
    "        \"bootstrap_type\": trial.suggest_categorical(\"bootstrap_type\", [\"Bayesian\", \"Bernoulli\", \"MVS\"]),\n",
    "        \"boosting_type\": trial.suggest_categorical(\"boosting_type\", [\"Ordered\", \"Plain\"]),\n",
    "        \"colsample_bylevel\": trial.suggest_float(\"colsample_bylevel\", 0.01, 0.1, log=True),\n",
    "    }\n",
    "\n",
    "    # Conditional parameters\n",
    "    if params[\"bootstrap_type\"] == \"Bayesian\":\n",
    "        params[\"bagging_temperature\"] = trial.suggest_float(\"bagging_temperature\", 0, 10)\n",
    "    elif params[\"bootstrap_type\"] == \"Bernoulli\":\n",
    "        params[\"subsample\"] = trial.suggest_float(\"subsample\", 0.1, 1, log=True)\n",
    "\n",
    "\n",
    "    early_stopping_rounds = trial.suggest_int(\"early_stopping_rounds\", 5, 1000)\n",
    "\n",
    "    rmse_list = []\n",
    "\n",
    "    for i, (train_fold, val_fold) in enumerate(data_splits, 1):\n",
    "        model = CatBoostRegressor(**params)\n",
    "        model.fit(\n",
    "            train_fold[features], \n",
    "            train_fold[target],\n",
    "            eval_set=[(val_fold[features], val_fold[target])],\n",
    "            early_stopping_rounds=early_stopping_rounds, \n",
    "            callbacks=[CatBoostPruningCallback(trial, \"RMSE\")],\n",
    "            use_best_model=True\n",
    "        )\n",
    "        preds = model.predict(val_fold[features])\n",
    "        rmse = root_mean_squared_error(val_fold[target], preds)\n",
    "        rmse_list.append(rmse)\n",
    "\n",
    "    return np.mean(rmse_list)\n",
    "\n",
    "\n",
    "study = optuna.create_study(\n",
    "        storage=f\"sqlite:///..//optuna//{model_str}db.sqlite3\",\n",
    "        study_name=study_name + datetime.now().strftime(\"%Y-%m-%d_%H-%M\"),\n",
    "        direction=\"minimize\"\n",
    ")\n",
    "study.optimize(objective, n_trials=500)\n",
    "\n",
    "print(\"\\n=========================\")\n",
    "print(\"Number of finished trials:\", len(study.trials))\n",
    "print(\"Best trial:\", study.best_trial.number)\n",
    "print(\"Best value (RMSE):\", study.best_trial.value)\n",
    "print(\"Best hyperparameters:\", study.best_trial.params)\n",
    "best_params = study.best_trial.params\n",
    "best_params[\"random_state\"] = 42\n",
    "best_params[\"verbose\"] = 0\n",
    "# best_params[\"eval_metric\"] = \"RMSE\"\n",
    "best_params"
   ]
  },
  {
   "cell_type": "code",
   "execution_count": 10,
   "metadata": {},
   "outputs": [
    {
     "data": {
      "image/png": "[encoded data removed]",
      "text/plain": [
       "<Figure size 1000x800 with 1 Axes>"
      ]
     },
     "metadata": {},
     "output_type": "display_data"
    }
   ],
   "source": [
    "for i, (train_fold, val_fold) in enumerate(data_splits, 1):\n",
    "    break\n",
    "\n",
    "final_model = CatBoostRegressor(**best_params)\n",
    "final_model.fit(\n",
    "    train_fold[features], \n",
    "    train_fold[target], \n",
    "    # cat_features=cat_feature_indexes,  # remove or adjust if you don't have categorical features\n",
    "    verbose=0\n",
    ")\n",
    "\n",
    "feature_importances = final_model.get_feature_importance()\n",
    "\n",
    "# Create a DataFrame for easy visualization\n",
    "feat_imp_df = pd.DataFrame({\n",
    "    'Feature': features,\n",
    "    'Importance': feature_importances\n",
    "}).sort_values(by='Importance', ascending=True)\n",
    "\n",
    "# Plot the feature importances as a horizontal bar chart\n",
    "plt.figure(figsize=(10, 8))\n",
    "plt.barh(feat_imp_df['Feature'], feat_imp_df['Importance'], color='skyblue')\n",
    "plt.xlabel('Importance Score')\n",
    "plt.title('Feature Importance for the Best CatBoost Model')\n",
    "plt.tight_layout()\n",
    "plt.show()"
   ]
  },
  {
   "cell_type": "code",
   "execution_count": 24,
   "metadata": {},
   "outputs": [
    {
     "name": "stdout",
     "output_type": "stream",
     "text": [
      "<class 'pandas.core.frame.DataFrame'>\n",
      "Index: 3195454 entries, 0 to 3994317\n",
      "Data columns (total 21 columns):\n",
      " #   Column                 Dtype  \n",
      "---  ------                 -----  \n",
      " 0   brand                  int32  \n",
      " 1   material               int32  \n",
      " 2   size                   int32  \n",
      " 3   compartments           int32  \n",
      " 4   laptop_compartment     int32  \n",
      " 5   is_waterproof          int32  \n",
      " 6   style                  int32  \n",
      " 7   color                  int32  \n",
      " 8   weight_capacity        float64\n",
      " 9   price                  float64\n",
      " 10  wc_decimal_count       int64  \n",
      " 11  weight_capacity_te     float64\n",
      " 12  compartments_te        float64\n",
      " 13  wc_decimal_count_te    float64\n",
      " 14  brand_te               float64\n",
      " 15  color_te               float64\n",
      " 16  laptop_compartment_te  float64\n",
      " 17  is_waterproof_te       float64\n",
      " 18  size_te                float64\n",
      " 19  material_te            float64\n",
      " 20  style_te               float64\n",
      "dtypes: float64(12), int32(8), int64(1)\n",
      "memory usage: 438.8 MB\n"
     ]
    }
   ],
   "source": [
    "train_fold.info()"
   ]
  },
  {
   "cell_type": "code",
   "execution_count": 22,
   "metadata": {},
   "outputs": [
    {
     "data": {
      "text/plain": [
       "array([ 6.58272533,  4.2668661 ,  3.41753314,  4.10408261,  3.99456259,\n",
       "        2.47297798,  3.08848136,  4.08554749,  4.1098398 ,  3.18288002,\n",
       "       28.40422345,  3.48873128,  2.9618188 ,  3.68252765,  4.34456307,\n",
       "        3.57995982,  3.82435874,  3.73508638,  3.5371181 ,  3.13611626])"
      ]
     },
     "execution_count": 22,
     "metadata": {},
     "output_type": "execute_result"
    }
   ],
   "source": [
    "feature_importances"
   ]
  },
  {
   "cell_type": "code",
   "execution_count": 23,
   "metadata": {},
   "outputs": [
    {
     "data": {
      "text/plain": [
       "['weight_capacity',\n",
       " 'compartments',\n",
       " 'wc_decimal_count',\n",
       " 'brand',\n",
       " 'color',\n",
       " 'laptop_compartment',\n",
       " 'is_waterproof',\n",
       " 'size',\n",
       " 'material',\n",
       " 'style',\n",
       " 'weight_capacity_te',\n",
       " 'compartments_te',\n",
       " 'wc_decimal_count_te',\n",
       " 'brand_te',\n",
       " 'color_te',\n",
       " 'laptop_compartment_te',\n",
       " 'is_waterproof_te',\n",
       " 'size_te',\n",
       " 'material_te',\n",
       " 'style_te']"
      ]
     },
     "execution_count": 23,
     "metadata": {},
     "output_type": "execute_result"
    }
   ],
   "source": [
    "features"
   ]
  },
  {
   "cell_type": "code",
   "execution_count": null,
   "metadata": {},
   "outputs": [],
   "source": [
    "feature_importances = final_model.get_feature_importance()\n",
    "\n",
    "# Create a DataFrame for easy visualization\n",
    "feat_imp_df = pd.DataFrame({\n",
    "    'Feature': features,\n",
    "    'Importance': feature_importances\n",
    "}).sort_values(by='Importance', ascending=True)\n",
    "\n",
    "# Plot the feature importances as a horizontal bar chart\n",
    "plt.figure(figsize=(10, 8))\n",
    "plt.barh(feat_imp_df['Feature'], feat_imp_df['Importance'], color='skyblue')\n",
    "plt.xlabel('Importance Score')\n",
    "plt.title('Feature Importance for the Best CatBoost Model')\n",
    "plt.tight_layout()\n",
    "plt.show()"
   ]
  }
 ],
 "metadata": {
  "kernelspec": {
   "display_name": "kg",
   "language": "python",
   "name": "python3"
  },
  "language_info": {
   "codemirror_mode": {
    "name": "ipython",
    "version": 3
   },
   "file_extension": ".py",
   "mimetype": "text/x-python",
   "name": "python",
   "nbconvert_exporter": "python",
   "pygments_lexer": "ipython3",
   "version": "3.9.21"
  }
 },
 "nbformat": 4,
 "nbformat_minor": 2
}
